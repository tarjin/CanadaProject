{
 "cells": [
  {
   "cell_type": "code",
   "execution_count": 236,
   "metadata": {},
   "outputs": [
    {
     "data": {
      "text/plain": [
       "[1] \"2018-08-09 13:08:10 AST\""
      ]
     },
     "metadata": {},
     "output_type": "display_data"
    }
   ],
   "source": [
    "# Must run this notebook from root directory in Anaconda for relative local file paths to work\n",
    "\n",
    "Sys.time() # script start time"
   ]
  },
  {
   "cell_type": "markdown",
   "metadata": {},
   "source": [
    "# Install and attach packages"
   ]
  },
  {
   "cell_type": "code",
   "execution_count": 237,
   "metadata": {},
   "outputs": [],
   "source": [
    "# See note at the end of this notebook regarding the preferred way of installing packages"
   ]
  },
  {
   "cell_type": "code",
   "execution_count": 238,
   "metadata": {},
   "outputs": [],
   "source": [
    "library(tidyverse)"
   ]
  },
  {
   "cell_type": "code",
   "execution_count": 239,
   "metadata": {},
   "outputs": [],
   "source": [
    "library(data.table)"
   ]
  },
  {
   "cell_type": "code",
   "execution_count": 240,
   "metadata": {},
   "outputs": [],
   "source": [
    "library(stringr)"
   ]
  },
  {
   "cell_type": "code",
   "execution_count": 241,
   "metadata": {},
   "outputs": [],
   "source": [
    "library(sf) # needed for mapping"
   ]
  },
  {
   "cell_type": "code",
   "execution_count": 242,
   "metadata": {},
   "outputs": [],
   "source": [
    "# install.packages(\"tmap\")\n",
    "# this for some reason can only be installed via install.packages(), but only has to be done once in your environment"
   ]
  },
  {
   "cell_type": "code",
   "execution_count": 243,
   "metadata": {},
   "outputs": [],
   "source": [
    "library(tmap) # needed for mapping"
   ]
  },
  {
   "cell_type": "code",
   "execution_count": 244,
   "metadata": {},
   "outputs": [],
   "source": [
    "# Set default options to display more digits, useful for gps coordinates"
   ]
  },
  {
   "cell_type": "code",
   "execution_count": 245,
   "metadata": {},
   "outputs": [],
   "source": [
    "options(digits=15) # set the visible number of digits to 15, useful when displaying GIS coordinates in dataframes"
   ]
  },
  {
   "cell_type": "code",
   "execution_count": 246,
   "metadata": {},
   "outputs": [
    {
     "data": {
      "text/html": [
       "<strong>$digits</strong> = 15"
      ],
      "text/latex": [
       "\\textbf{\\$digits} = 15"
      ],
      "text/markdown": [
       "**$digits** = 15"
      ],
      "text/plain": [
       "$digits\n",
       "[1] 15\n"
      ]
     },
     "metadata": {},
     "output_type": "display_data"
    }
   ],
   "source": [
    "options(\"digits\") # display the max number of digits that appear in cells of a dataframe"
   ]
  },
  {
   "cell_type": "code",
   "execution_count": 247,
   "metadata": {},
   "outputs": [
    {
     "data": {
      "text/plain": [
       "R version 3.4.3 (2017-11-30)\n",
       "Platform: x86_64-w64-mingw32/x64 (64-bit)\n",
       "Running under: Windows 10 x64 (build 17134)\n",
       "\n",
       "Matrix products: default\n",
       "\n",
       "locale:\n",
       "[1] LC_COLLATE=English_Canada.1252  LC_CTYPE=English_Canada.1252   \n",
       "[3] LC_MONETARY=English_Canada.1252 LC_NUMERIC=C                   \n",
       "[5] LC_TIME=English_Canada.1252    \n",
       "\n",
       "attached base packages:\n",
       "[1] stats     graphics  grDevices utils     datasets  methods   base     \n",
       "\n",
       "other attached packages:\n",
       " [1] tmap_1.10            sf_0.5-4             data.table_1.10.4-3 \n",
       " [4] forcats_0.2.0        stringr_1.2.0        dplyr_0.7.4         \n",
       " [7] purrr_0.2.4          readr_1.1.1          tidyr_0.7.2         \n",
       "[10] tibble_1.4.1         ggplot2_2.2.1        tidyverse_1.2.1     \n",
       "[13] RevoUtils_10.0.8     RevoUtilsMath_10.0.1\n",
       "\n",
       "loaded via a namespace (and not attached):\n",
       "  [1] colorspace_1.3-2   deldir_0.1-14      class_7.3-14      \n",
       "  [4] gdalUtils_2.0.1.7  leaflet_1.1.0      rgdal_1.2-8       \n",
       "  [7] satellite_1.0.0    IRdisplay_0.4.4    base64enc_0.1-3   \n",
       " [10] dichromat_2.0-0    rstudioapi_0.7     lubridate_1.7.1   \n",
       " [13] xml2_1.1.1         R.methodsS3_1.7.1  codetools_0.2-15  \n",
       " [16] splines_3.4.3      mnormt_1.5-5       geojsonlint_0.2.0 \n",
       " [19] IRkernel_0.8.11    jsonlite_1.5       tmaptools_1.2-1   \n",
       " [22] broom_0.4.3        png_0.1-7          R.oo_1.21.0       \n",
       " [25] rgeos_0.3-23       shiny_1.0.5        compiler_3.4.3    \n",
       " [28] httr_1.3.1         mapview_2.1.4      assertthat_0.2.0  \n",
       " [31] Matrix_1.2-12      lazyeval_0.2.1     cli_1.0.0         \n",
       " [34] htmltools_0.3.6    tools_3.4.3        bindrcpp_0.2      \n",
       " [37] coda_0.19-1        gtable_0.2.0       glue_1.2.0        \n",
       " [40] reshape2_1.4.3     gmodels_2.16.2     V8_1.5            \n",
       " [43] Rcpp_0.12.14       cellranger_1.1.0   raster_2.5-8      \n",
       " [46] spdep_0.6-13       gdata_2.18.0       nlme_3.1-131      \n",
       " [49] udunits2_0.13      iterators_1.0.9    crosstalk_1.0.0   \n",
       " [52] psych_1.7.5        rvest_0.3.2        mime_0.5          \n",
       " [55] gtools_3.5.0       XML_3.98-1.9       LearnBayes_2.15   \n",
       " [58] MASS_7.3-47        scales_0.5.0       hms_0.4.0         \n",
       " [61] parallel_3.4.3     expm_0.999-2       RColorBrewer_1.1-2\n",
       " [64] curl_3.1           geosphere_1.5-5    stringi_1.1.6     \n",
       " [67] jsonvalidate_1.0.0 foreach_1.4.5      e1071_1.6-8       \n",
       " [70] boot_1.3-20        repr_0.12.0        rlang_0.1.6       \n",
       " [73] pkgconfig_2.0.1    bitops_1.0-6       evaluate_0.10.1   \n",
       " [76] lattice_0.20-35    bindr_0.1          htmlwidgets_0.9   \n",
       " [79] osmar_1.1-7        plyr_1.8.4         magrittr_1.5      \n",
       " [82] R6_2.2.2           pbdZMQ_0.2-6       DBI_0.7           \n",
       " [85] pillar_1.0.1       haven_1.1.0        foreign_0.8-69    \n",
       " [88] units_0.4-6        RCurl_1.95-4.8     sp_1.2-5          \n",
       " [91] modelr_0.1.1       crayon_1.3.4       rmapshaper_0.3.0  \n",
       " [94] uuid_0.1-2         KernSmooth_2.23-15 grid_3.4.3        \n",
       " [97] readxl_1.0.0       webshot_0.4.1      digest_0.6.13     \n",
       "[100] classInt_0.1-24    xtable_1.8-2       httpuv_1.3.5      \n",
       "[103] R.utils_2.5.0      stats4_3.4.3       munsell_0.4.3     \n",
       "[106] viridisLite_0.2.0 "
      ]
     },
     "metadata": {},
     "output_type": "display_data"
    }
   ],
   "source": [
    "sessionInfo()"
   ]
  },
  {
   "cell_type": "markdown",
   "metadata": {},
   "source": [
    "# Main Script Begins Here"
   ]
  },
  {
   "cell_type": "code",
   "execution_count": 248,
   "metadata": {},
   "outputs": [
    {
     "data": {
      "text/plain": [
       "[1] \"2018-08-09 13:08:10 AST\""
      ]
     },
     "metadata": {},
     "output_type": "display_data"
    }
   ],
   "source": [
    "Sys.time() # script start time from body"
   ]
  },
  {
   "cell_type": "markdown",
   "metadata": {},
   "source": [
    "## 1. Table H"
   ]
  },
  {
   "cell_type": "markdown",
   "metadata": {},
   "source": [
    "#### Suicide Rate for Females (Percentage of Deaths), 2016"
   ]
  },
  {
   "cell_type": "code",
   "execution_count": 249,
   "metadata": {},
   "outputs": [],
   "source": [
    "# Suicide rates in Canada\n",
    "# Source: https://www150.statcan.gc.ca/t1/tbl1/en/tv.action?pid=1310080101"
   ]
  },
  {
   "cell_type": "code",
   "execution_count": 250,
   "metadata": {},
   "outputs": [],
   "source": [
    "# Import data\n",
    "\n",
    "df <- fread(\"DataFilesCanadaProject/Table_H.csv\", \n",
    "             stringsAsFactors = TRUE, header = TRUE)"
   ]
  },
  {
   "cell_type": "code",
   "execution_count": 251,
   "metadata": {},
   "outputs": [
    {
     "name": "stdout",
     "output_type": "stream",
     "text": [
      "Observations: 10\n",
      "Variables: 6\n",
      "$ Year               <int> 2016, 2016, 2016, 2016, 2016, 2016, 2016, 2016, ...\n",
      "$ GEO                <fctr> Alberta__place_of_residence, British_Columbia__...\n",
      "$ Sex                <fctr> Females, Females, Females, Females, Females, Fe...\n",
      "$ CauseOfDeath       <fctr> Intentional_self-harm_(suicide), Intentional_se...\n",
      "$ PercentageOfDeaths <dbl> 1.3, 0.7, 1.1, 0.7, 0.8, 0.6, 0.8, 0.2, 0.6, 1.2\n",
      "$ PREABBR            <fctr> Alta., B.C., Man., N.B., N.L., N.S., Ont., P.E....\n"
     ]
    }
   ],
   "source": [
    "glimpse(df)"
   ]
  },
  {
   "cell_type": "code",
   "execution_count": 252,
   "metadata": {},
   "outputs": [
    {
     "data": {
      "text/html": [
       "<table>\n",
       "<thead><tr><th scope=col>Year</th><th scope=col>GEO</th><th scope=col>Sex</th><th scope=col>CauseOfDeath</th><th scope=col>PercentageOfDeaths</th><th scope=col>PREABBR</th></tr></thead>\n",
       "<tbody>\n",
       "\t<tr><td>2016                                         </td><td>Alberta__place_of_residence                  </td><td>Females                                      </td><td>Intentional_self-harm_(suicide)              </td><td>1.3                                          </td><td>Alta.                                        </td></tr>\n",
       "\t<tr><td>2016                                         </td><td>British_Columbia__place_of_residence         </td><td>Females                                      </td><td>Intentional_self-harm_(suicide)              </td><td>0.7                                          </td><td>B.C.                                         </td></tr>\n",
       "\t<tr><td>2016                                         </td><td>Manitoba__place_of_residence                 </td><td>Females                                      </td><td>Intentional_self-harm_(suicide)              </td><td>1.1                                          </td><td>Man.                                         </td></tr>\n",
       "\t<tr><td>2016                                         </td><td>New_Brunswick__place_of_residence            </td><td>Females                                      </td><td>Intentional_self-harm_(suicide)              </td><td>0.7                                          </td><td>N.B.                                         </td></tr>\n",
       "\t<tr><td>2016                                         </td><td>Newfoundland_and_Labrador__place_of_residence</td><td>Females                                      </td><td>Intentional_self-harm_(suicide)              </td><td>0.8                                          </td><td>N.L.                                         </td></tr>\n",
       "\t<tr><td>2016                                         </td><td>Nova_Scotia__place_of_residence              </td><td>Females                                      </td><td>Intentional_self-harm_(suicide)              </td><td>0.6                                          </td><td>N.S.                                         </td></tr>\n",
       "\t<tr><td>2016                                         </td><td>Ontario__place_of_residence                  </td><td>Females                                      </td><td>Intentional_self-harm_(suicide)              </td><td>0.8                                          </td><td>Ont.                                         </td></tr>\n",
       "\t<tr><td>2016                                         </td><td>Prince_Edward_Island__place_of_residence     </td><td>Females                                      </td><td>Intentional_self-harm_(suicide)              </td><td>0.2                                          </td><td>P.E.I.                                       </td></tr>\n",
       "\t<tr><td>2016                                         </td><td>Quebec__place_of_residence                   </td><td>Females                                      </td><td>Intentional_self-harm_(suicide)              </td><td>0.6                                          </td><td>Que.                                         </td></tr>\n",
       "\t<tr><td>2016                                         </td><td>Saskatchewan__place_of_residence             </td><td>Females                                      </td><td>Intentional_self-harm_(suicide)              </td><td>1.2                                          </td><td>Sask.                                        </td></tr>\n",
       "</tbody>\n",
       "</table>\n"
      ],
      "text/latex": [
       "\\begin{tabular}{r|llllll}\n",
       " Year & GEO & Sex & CauseOfDeath & PercentageOfDeaths & PREABBR\\\\\n",
       "\\hline\n",
       "\t 2016                                                  & Alberta\\_\\_place\\_of\\_residence                   & Females                                               & Intentional\\_self-harm\\_(suicide)                   & 1.3                                                   & Alta.                                                \\\\\n",
       "\t 2016                                                    & British\\_Columbia\\_\\_place\\_of\\_residence          & Females                                                 & Intentional\\_self-harm\\_(suicide)                     & 0.7                                                     & B.C.                                                   \\\\\n",
       "\t 2016                                                  & Manitoba\\_\\_place\\_of\\_residence                  & Females                                               & Intentional\\_self-harm\\_(suicide)                   & 1.1                                                   & Man.                                                 \\\\\n",
       "\t 2016                                                    & New\\_Brunswick\\_\\_place\\_of\\_residence             & Females                                                 & Intentional\\_self-harm\\_(suicide)                     & 0.7                                                     & N.B.                                                   \\\\\n",
       "\t 2016                                                      & Newfoundland\\_and\\_Labrador\\_\\_place\\_of\\_residence & Females                                                   & Intentional\\_self-harm\\_(suicide)                       & 0.8                                                       & N.L.                                                     \\\\\n",
       "\t 2016                                                    & Nova\\_Scotia\\_\\_place\\_of\\_residence               & Females                                                 & Intentional\\_self-harm\\_(suicide)                     & 0.6                                                     & N.S.                                                   \\\\\n",
       "\t 2016                                                  & Ontario\\_\\_place\\_of\\_residence                   & Females                                               & Intentional\\_self-harm\\_(suicide)                   & 0.8                                                   & Ont.                                                 \\\\\n",
       "\t 2016                                                      & Prince\\_Edward\\_Island\\_\\_place\\_of\\_residence      & Females                                                   & Intentional\\_self-harm\\_(suicide)                       & 0.2                                                       & P.E.I.                                                   \\\\\n",
       "\t 2016                                                  & Quebec\\_\\_place\\_of\\_residence                    & Females                                               & Intentional\\_self-harm\\_(suicide)                   & 0.6                                                   & Que.                                                 \\\\\n",
       "\t 2016                                                  & Saskatchewan\\_\\_place\\_of\\_residence              & Females                                               & Intentional\\_self-harm\\_(suicide)                   & 1.2                                                   & Sask.                                                \\\\\n",
       "\\end{tabular}\n"
      ],
      "text/markdown": [
       "\n",
       "Year | GEO | Sex | CauseOfDeath | PercentageOfDeaths | PREABBR | \n",
       "|---|---|---|---|---|---|---|---|---|---|\n",
       "| 2016                                          | Alberta__place_of_residence                   | Females                                       | Intentional_self-harm_(suicide)               | 1.3                                           | Alta.                                         | \n",
       "| 2016                                          | British_Columbia__place_of_residence          | Females                                       | Intentional_self-harm_(suicide)               | 0.7                                           | B.C.                                          | \n",
       "| 2016                                          | Manitoba__place_of_residence                  | Females                                       | Intentional_self-harm_(suicide)               | 1.1                                           | Man.                                          | \n",
       "| 2016                                          | New_Brunswick__place_of_residence             | Females                                       | Intentional_self-harm_(suicide)               | 0.7                                           | N.B.                                          | \n",
       "| 2016                                          | Newfoundland_and_Labrador__place_of_residence | Females                                       | Intentional_self-harm_(suicide)               | 0.8                                           | N.L.                                          | \n",
       "| 2016                                          | Nova_Scotia__place_of_residence               | Females                                       | Intentional_self-harm_(suicide)               | 0.6                                           | N.S.                                          | \n",
       "| 2016                                          | Ontario__place_of_residence                   | Females                                       | Intentional_self-harm_(suicide)               | 0.8                                           | Ont.                                          | \n",
       "| 2016                                          | Prince_Edward_Island__place_of_residence      | Females                                       | Intentional_self-harm_(suicide)               | 0.2                                           | P.E.I.                                        | \n",
       "| 2016                                          | Quebec__place_of_residence                    | Females                                       | Intentional_self-harm_(suicide)               | 0.6                                           | Que.                                          | \n",
       "| 2016                                          | Saskatchewan__place_of_residence              | Females                                       | Intentional_self-harm_(suicide)               | 1.2                                           | Sask.                                         | \n",
       "\n",
       "\n"
      ],
      "text/plain": [
       "   Year GEO                                           Sex    \n",
       "1  2016 Alberta__place_of_residence                   Females\n",
       "2  2016 British_Columbia__place_of_residence          Females\n",
       "3  2016 Manitoba__place_of_residence                  Females\n",
       "4  2016 New_Brunswick__place_of_residence             Females\n",
       "5  2016 Newfoundland_and_Labrador__place_of_residence Females\n",
       "6  2016 Nova_Scotia__place_of_residence               Females\n",
       "7  2016 Ontario__place_of_residence                   Females\n",
       "8  2016 Prince_Edward_Island__place_of_residence      Females\n",
       "9  2016 Quebec__place_of_residence                    Females\n",
       "10 2016 Saskatchewan__place_of_residence              Females\n",
       "   CauseOfDeath                    PercentageOfDeaths PREABBR\n",
       "1  Intentional_self-harm_(suicide) 1.3                Alta.  \n",
       "2  Intentional_self-harm_(suicide) 0.7                B.C.   \n",
       "3  Intentional_self-harm_(suicide) 1.1                Man.   \n",
       "4  Intentional_self-harm_(suicide) 0.7                N.B.   \n",
       "5  Intentional_self-harm_(suicide) 0.8                N.L.   \n",
       "6  Intentional_self-harm_(suicide) 0.6                N.S.   \n",
       "7  Intentional_self-harm_(suicide) 0.8                Ont.   \n",
       "8  Intentional_self-harm_(suicide) 0.2                P.E.I. \n",
       "9  Intentional_self-harm_(suicide) 0.6                Que.   \n",
       "10 Intentional_self-harm_(suicide) 1.2                Sask.  "
      ]
     },
     "metadata": {},
     "output_type": "display_data"
    }
   ],
   "source": [
    "df"
   ]
  },
  {
   "cell_type": "code",
   "execution_count": 253,
   "metadata": {},
   "outputs": [],
   "source": [
    "rm(df) # remove object from memory"
   ]
  },
  {
   "cell_type": "markdown",
   "metadata": {},
   "source": [
    "## 2. Table I"
   ]
  },
  {
   "cell_type": "markdown",
   "metadata": {},
   "source": [
    "#### Suicide Rate for Males (Percentage of Deaths), 2016"
   ]
  },
  {
   "cell_type": "code",
   "execution_count": 254,
   "metadata": {},
   "outputs": [],
   "source": [
    "# Suicide rates in Canada\n",
    "# Source: https://www150.statcan.gc.ca/t1/tbl1/en/tv.action?pid=1310080101"
   ]
  },
  {
   "cell_type": "code",
   "execution_count": 255,
   "metadata": {},
   "outputs": [],
   "source": [
    "# Import data\n",
    "\n",
    "df <- fread(\"DataFilesCanadaProject/Table_I.csv\", \n",
    "             stringsAsFactors = TRUE, header = TRUE)"
   ]
  },
  {
   "cell_type": "code",
   "execution_count": 256,
   "metadata": {},
   "outputs": [
    {
     "name": "stdout",
     "output_type": "stream",
     "text": [
      "Observations: 10\n",
      "Variables: 6\n",
      "$ Year               <int> 2016, 2016, 2016, 2016, 2016, 2016, 2016, 2016, ...\n",
      "$ GEO                <fctr> Alberta__place_of_residence, British_Columbia__...\n",
      "$ Sex                <fctr> Males, Males, Males, Males, Males, Males, Males...\n",
      "$ CauseOfDeath       <fctr> Intentional_self-harm_(suicide), Intentional_se...\n",
      "$ PercentageOfDeaths <dbl> 3.3, 1.9, 2.6, 2.6, 2.1, 2.1, 2.0, 1.5, 1.9, 2.6\n",
      "$ PREABBR            <fctr> Alta., B.C., Man., N.B., N.L., N.S., Ont., P.E....\n"
     ]
    }
   ],
   "source": [
    "glimpse(df)"
   ]
  },
  {
   "cell_type": "code",
   "execution_count": 257,
   "metadata": {},
   "outputs": [
    {
     "data": {
      "text/html": [
       "<table>\n",
       "<thead><tr><th scope=col>Year</th><th scope=col>GEO</th><th scope=col>Sex</th><th scope=col>CauseOfDeath</th><th scope=col>PercentageOfDeaths</th><th scope=col>PREABBR</th></tr></thead>\n",
       "<tbody>\n",
       "\t<tr><td>2016                                         </td><td>Alberta__place_of_residence                  </td><td>Males                                        </td><td>Intentional_self-harm_(suicide)              </td><td>3.3                                          </td><td>Alta.                                        </td></tr>\n",
       "\t<tr><td>2016                                         </td><td>British_Columbia__place_of_residence         </td><td>Males                                        </td><td>Intentional_self-harm_(suicide)              </td><td>1.9                                          </td><td>B.C.                                         </td></tr>\n",
       "\t<tr><td>2016                                         </td><td>Manitoba__place_of_residence                 </td><td>Males                                        </td><td>Intentional_self-harm_(suicide)              </td><td>2.6                                          </td><td>Man.                                         </td></tr>\n",
       "\t<tr><td>2016                                         </td><td>New_Brunswick__place_of_residence            </td><td>Males                                        </td><td>Intentional_self-harm_(suicide)              </td><td>2.6                                          </td><td>N.B.                                         </td></tr>\n",
       "\t<tr><td>2016                                         </td><td>Newfoundland_and_Labrador__place_of_residence</td><td>Males                                        </td><td>Intentional_self-harm_(suicide)              </td><td>2.1                                          </td><td>N.L.                                         </td></tr>\n",
       "\t<tr><td>2016                                         </td><td>Nova_Scotia__place_of_residence              </td><td>Males                                        </td><td>Intentional_self-harm_(suicide)              </td><td>2.1                                          </td><td>N.S.                                         </td></tr>\n",
       "\t<tr><td>2016                                         </td><td>Ontario__place_of_residence                  </td><td>Males                                        </td><td>Intentional_self-harm_(suicide)              </td><td>2.0                                          </td><td>Ont.                                         </td></tr>\n",
       "\t<tr><td>2016                                         </td><td>Prince_Edward_Island__place_of_residence     </td><td>Males                                        </td><td>Intentional_self-harm_(suicide)              </td><td>1.5                                          </td><td>P.E.I.                                       </td></tr>\n",
       "\t<tr><td>2016                                         </td><td>Quebec__place_of_residence                   </td><td>Males                                        </td><td>Intentional_self-harm_(suicide)              </td><td>1.9                                          </td><td>Que.                                         </td></tr>\n",
       "\t<tr><td>2016                                         </td><td>Saskatchewan__place_of_residence             </td><td>Males                                        </td><td>Intentional_self-harm_(suicide)              </td><td>2.6                                          </td><td>Sask.                                        </td></tr>\n",
       "</tbody>\n",
       "</table>\n"
      ],
      "text/latex": [
       "\\begin{tabular}{r|llllll}\n",
       " Year & GEO & Sex & CauseOfDeath & PercentageOfDeaths & PREABBR\\\\\n",
       "\\hline\n",
       "\t 2016                                                  & Alberta\\_\\_place\\_of\\_residence                   & Males                                                 & Intentional\\_self-harm\\_(suicide)                   & 3.3                                                   & Alta.                                                \\\\\n",
       "\t 2016                                                    & British\\_Columbia\\_\\_place\\_of\\_residence          & Males                                                   & Intentional\\_self-harm\\_(suicide)                     & 1.9                                                     & B.C.                                                   \\\\\n",
       "\t 2016                                                  & Manitoba\\_\\_place\\_of\\_residence                  & Males                                                 & Intentional\\_self-harm\\_(suicide)                   & 2.6                                                   & Man.                                                 \\\\\n",
       "\t 2016                                                    & New\\_Brunswick\\_\\_place\\_of\\_residence             & Males                                                   & Intentional\\_self-harm\\_(suicide)                     & 2.6                                                     & N.B.                                                   \\\\\n",
       "\t 2016                                                      & Newfoundland\\_and\\_Labrador\\_\\_place\\_of\\_residence & Males                                                     & Intentional\\_self-harm\\_(suicide)                       & 2.1                                                       & N.L.                                                     \\\\\n",
       "\t 2016                                                    & Nova\\_Scotia\\_\\_place\\_of\\_residence               & Males                                                   & Intentional\\_self-harm\\_(suicide)                     & 2.1                                                     & N.S.                                                   \\\\\n",
       "\t 2016                                                  & Ontario\\_\\_place\\_of\\_residence                   & Males                                                 & Intentional\\_self-harm\\_(suicide)                   & 2.0                                                   & Ont.                                                 \\\\\n",
       "\t 2016                                                      & Prince\\_Edward\\_Island\\_\\_place\\_of\\_residence      & Males                                                     & Intentional\\_self-harm\\_(suicide)                       & 1.5                                                       & P.E.I.                                                   \\\\\n",
       "\t 2016                                                  & Quebec\\_\\_place\\_of\\_residence                    & Males                                                 & Intentional\\_self-harm\\_(suicide)                   & 1.9                                                   & Que.                                                 \\\\\n",
       "\t 2016                                                  & Saskatchewan\\_\\_place\\_of\\_residence              & Males                                                 & Intentional\\_self-harm\\_(suicide)                   & 2.6                                                   & Sask.                                                \\\\\n",
       "\\end{tabular}\n"
      ],
      "text/markdown": [
       "\n",
       "Year | GEO | Sex | CauseOfDeath | PercentageOfDeaths | PREABBR | \n",
       "|---|---|---|---|---|---|---|---|---|---|\n",
       "| 2016                                          | Alberta__place_of_residence                   | Males                                         | Intentional_self-harm_(suicide)               | 3.3                                           | Alta.                                         | \n",
       "| 2016                                          | British_Columbia__place_of_residence          | Males                                         | Intentional_self-harm_(suicide)               | 1.9                                           | B.C.                                          | \n",
       "| 2016                                          | Manitoba__place_of_residence                  | Males                                         | Intentional_self-harm_(suicide)               | 2.6                                           | Man.                                          | \n",
       "| 2016                                          | New_Brunswick__place_of_residence             | Males                                         | Intentional_self-harm_(suicide)               | 2.6                                           | N.B.                                          | \n",
       "| 2016                                          | Newfoundland_and_Labrador__place_of_residence | Males                                         | Intentional_self-harm_(suicide)               | 2.1                                           | N.L.                                          | \n",
       "| 2016                                          | Nova_Scotia__place_of_residence               | Males                                         | Intentional_self-harm_(suicide)               | 2.1                                           | N.S.                                          | \n",
       "| 2016                                          | Ontario__place_of_residence                   | Males                                         | Intentional_self-harm_(suicide)               | 2.0                                           | Ont.                                          | \n",
       "| 2016                                          | Prince_Edward_Island__place_of_residence      | Males                                         | Intentional_self-harm_(suicide)               | 1.5                                           | P.E.I.                                        | \n",
       "| 2016                                          | Quebec__place_of_residence                    | Males                                         | Intentional_self-harm_(suicide)               | 1.9                                           | Que.                                          | \n",
       "| 2016                                          | Saskatchewan__place_of_residence              | Males                                         | Intentional_self-harm_(suicide)               | 2.6                                           | Sask.                                         | \n",
       "\n",
       "\n"
      ],
      "text/plain": [
       "   Year GEO                                           Sex  \n",
       "1  2016 Alberta__place_of_residence                   Males\n",
       "2  2016 British_Columbia__place_of_residence          Males\n",
       "3  2016 Manitoba__place_of_residence                  Males\n",
       "4  2016 New_Brunswick__place_of_residence             Males\n",
       "5  2016 Newfoundland_and_Labrador__place_of_residence Males\n",
       "6  2016 Nova_Scotia__place_of_residence               Males\n",
       "7  2016 Ontario__place_of_residence                   Males\n",
       "8  2016 Prince_Edward_Island__place_of_residence      Males\n",
       "9  2016 Quebec__place_of_residence                    Males\n",
       "10 2016 Saskatchewan__place_of_residence              Males\n",
       "   CauseOfDeath                    PercentageOfDeaths PREABBR\n",
       "1  Intentional_self-harm_(suicide) 3.3                Alta.  \n",
       "2  Intentional_self-harm_(suicide) 1.9                B.C.   \n",
       "3  Intentional_self-harm_(suicide) 2.6                Man.   \n",
       "4  Intentional_self-harm_(suicide) 2.6                N.B.   \n",
       "5  Intentional_self-harm_(suicide) 2.1                N.L.   \n",
       "6  Intentional_self-harm_(suicide) 2.1                N.S.   \n",
       "7  Intentional_self-harm_(suicide) 2.0                Ont.   \n",
       "8  Intentional_self-harm_(suicide) 1.5                P.E.I. \n",
       "9  Intentional_self-harm_(suicide) 1.9                Que.   \n",
       "10 Intentional_self-harm_(suicide) 2.6                Sask.  "
      ]
     },
     "metadata": {},
     "output_type": "display_data"
    }
   ],
   "source": [
    "df"
   ]
  },
  {
   "cell_type": "code",
   "execution_count": 258,
   "metadata": {},
   "outputs": [],
   "source": [
    "rm(df) # remove object from memory"
   ]
  },
  {
   "cell_type": "markdown",
   "metadata": {},
   "source": [
    "# Main Script Ends Here"
   ]
  },
  {
   "cell_type": "code",
   "execution_count": 259,
   "metadata": {},
   "outputs": [
    {
     "data": {
      "text/plain": [
       "[1] \"2018-08-09 13:08:11 AST\""
      ]
     },
     "metadata": {},
     "output_type": "display_data"
    }
   ],
   "source": [
    "Sys.time() # script end time from body"
   ]
  },
  {
   "cell_type": "markdown",
   "metadata": {},
   "source": [
    "# Appendix 1 - Examples of common coding techniques"
   ]
  },
  {
   "cell_type": "code",
   "execution_count": 260,
   "metadata": {},
   "outputs": [],
   "source": [
    "# Example of how to read and filter a large csv file a chunk at a time, e.g. filter 50000 rows at a time into a new dataframe\n",
    "# This is very efficient, comparable to fread in speed but done in chunks to conserve memory\n",
    "# I also prefer it to fread because I can filter out rows with missing values as I import the data\n",
    "# and specify which columns I want to import \n",
    "# need readr library from tidyverse library\n",
    "\n",
    "\n",
    "# Sys.time() # start time for reading file\n",
    "# f <- function(x, pos) subset(x, \n",
    "#                             !is.na(Beds) # filter out any rows with missing values in the specified column in parenthesis\n",
    "#                             & Gender == \"Male\") # only include rows where the specified condition is met\n",
    "#                             & any other criteria for filtering\n",
    "# df <- read_csv_chunked(\"http://www.edsc-esdc.gc.ca/ouvert-open/hps/CDHPD-OpenDataNSPL-DataSet-20170804-ENFR.csv\", \n",
    "#                            DataFrameCallback$new(f), \n",
    "#                            chunk_size = 50000, # this is an adequate chunk size\n",
    "#                            # col_names = TRUE # this will keep original column names if you don't provide custom names\n",
    "#                                               # most of the time it's best to rename every column explicitly as shown below\n",
    "#                            col_names = c(\"ShelterType\", # this renames each column in order of the csv file to what you specify\n",
    "#                                          \"ProvinceCode\",\n",
    "#                                          \"City\",\n",
    "#                                          \"TargetPopulation\",\n",
    "#                                          \"Gender\",\n",
    "#                                          \"ShelterName\",\n",
    "#                                          \"Beds\"), # all other columns after this will be dropped if not included        \n",
    "#                            cols_only( # specify which columns with data types you want to include \n",
    "#                                       # to avoid importing unwanted data\n",
    "#                                       # include all columns that you specified above with col_names if you renamed them\n",
    "#                                \"ShelterType\" = col_character(),\n",
    "#                                \"ProvinceCode\" = col_character(),\n",
    "#                                \"City\" = col_character(),\n",
    "#                                \"TargetPopulation\" = col_character(),\n",
    "#                                \"Gender\" = col_character(),\n",
    "#                                \"ShelterName\" = col_character(),\n",
    "#                                \"Beds\" = col_number()),\n",
    "#                            skip = 1, # skip original column headers if you renamed them\n",
    "#                            trim_ws = TRUE) # trim leading and trailing whitespace for each data point\n",
    "# Sys.time() # end time for reading file"
   ]
  },
  {
   "cell_type": "code",
   "execution_count": 261,
   "metadata": {},
   "outputs": [],
   "source": [
    "# Example of how to read csv files quickly with fread while converting all chr variables to factors \n",
    "# need data.table library\n",
    "# Use fread when you are a lazy and know you won't have memory issues loading the entire dataset at once\n",
    "# or when you know you need to keep all information loaded into memory\n",
    "\n",
    "# df <- fread(\"DataFilesAOP/AB_Provincial_Detailed_Crime_Stats_2006-2011-2016.csv\", \n",
    "#            stringsAsFactors = TRUE, header = TRUE)"
   ]
  },
  {
   "cell_type": "code",
   "execution_count": 262,
   "metadata": {},
   "outputs": [],
   "source": [
    "# Example of how to write a dataframe to a csv file\n",
    "\n",
    "# write.csv(df, \n",
    "#           file = \"NS_Crime_Stats_Clean_Extract3.csv\",\n",
    "#           row.names = FALSE) # set row.name to FALSE to not include an index column in the csv output file"
   ]
  },
  {
   "cell_type": "code",
   "execution_count": 263,
   "metadata": {},
   "outputs": [],
   "source": [
    "# Example how to change all of the column names in a dataframe to something friendlier\n",
    "# You want to avoid special characters and spaces in column names to prevent problems with differnt packages and features\n",
    "# Provide new names in a character vector\n",
    "\n",
    "# colnames(df) <- c(\" \", \" \")"
   ]
  },
  {
   "cell_type": "code",
   "execution_count": 264,
   "metadata": {},
   "outputs": [],
   "source": [
    "# Example how to set the number of digits displayed in dataframes\n",
    "\n",
    "# options(digits=15) # set the visible number of digits to 15, useful when displaying GIS coordinates in dataframes\n",
    "# options(\"digits\") # display the max number of digits that appear in cells of a dataframe"
   ]
  },
  {
   "cell_type": "code",
   "execution_count": 265,
   "metadata": {},
   "outputs": [],
   "source": [
    "# Example of how to convert columns to the correct data types and how to delete columns from a dataframe\n",
    "\n",
    "# use as.numeric() and as.factor() where appropriate\n",
    "# df$column_name <- NULL will delete that column from the dataframe"
   ]
  },
  {
   "cell_type": "code",
   "execution_count": 266,
   "metadata": {},
   "outputs": [],
   "source": [
    "# Example of how to recode values of a column for rows meeting a condition\n",
    "\n",
    "# df$LATITUDE[df$GEO == \n",
    "#                          \"Amherst, Nova Scotia, municipal\"] <- 45.8338198\n",
    "# df$LONGITUDE[df$GEO == \n",
    "#                          \"Amherst, Nova Scotia, municipal\"] <- -64.2109455\n",
    "#\n",
    "# df$COUNTY[df$GEO ==\n",
    "#                          \"Amherst, Nova Scotia, municipal\"] <- \"Cumberland\""
   ]
  },
  {
   "cell_type": "code",
   "execution_count": 267,
   "metadata": {},
   "outputs": [],
   "source": [
    "# Example of how to filter a dataframe to rows where a specific string appears anywhere in a specific column\n",
    "# This example filters df to rows where \"MEP\" appears in the \"Contents\" column (need stringr library)\n",
    "\n",
    "# df_MEP <- df %>%\n",
    "#   filter(str_detect(Contents, \"MEP\"))"
   ]
  },
  {
   "cell_type": "code",
   "execution_count": 268,
   "metadata": {},
   "outputs": [],
   "source": [
    "# Example of how to handle dates - converting from timestamp to YYYYMMDD\n",
    "# This example is adequate if you really don't need a date field for arithmetic or plotting with ggplot2\n",
    "\n",
    "# parse out date and time from Timestamp\n",
    "# df <- \n",
    "#   separate(df, Timestamp, # e.g., \"01/01/2017 12:00:00 AM\"\n",
    "#           into = c(\"Date\", \"Time\", \"AMPM\"), sep = \" \")\n",
    "\n",
    "# parse out Month, Day, Year from Date\n",
    "# df <- \n",
    "#  separate(df, Date, \n",
    "#           into = c(\"Month\", \"Day\", \"Year\"), sep = \"/\")\n",
    "\n",
    "# Remove unwanted columns\n",
    "# df$Time <- NULL\n",
    "# df$AMPM <- NULL\n",
    "\n",
    "# unite the columns \"Year\", \"Month\", \"Day\" into a single column for \"YYYYMMDD\"\n",
    "# df <- \n",
    "#  unite_(df, \"YYYYMMDD\", c(\"Year\",\"Month\", \"Day\"), sep = \"\")\n",
    "\n",
    "# sort by date in decreasing order\n",
    "# df <- df[order(df$YYYYMMDD, decreasing = TRUE), ]"
   ]
  },
  {
   "cell_type": "code",
   "execution_count": 269,
   "metadata": {},
   "outputs": [],
   "source": [
    "# Use the lubridate library if arithmetic is important when working with date and time data\n",
    "# In my opinion, the lubridate functions are more complicated than my current needs, so I prefer my approach above\n",
    "# for handling dates/times\n",
    "\n",
    "# https://lubridate.tidyverse.org/\n",
    "# https://rawgit.com/rstudio/cheatsheets/master/lubridate.pdf"
   ]
  },
  {
   "cell_type": "code",
   "execution_count": 270,
   "metadata": {},
   "outputs": [],
   "source": [
    "# Example of how to subset and retain only selected characters from a cell\n",
    "# This is useful if you want to strip out useless characters in a cell given a start and end position to retain\n",
    "# need stringr library\n",
    "\n",
    "# df$gps <- \n",
    "#   str_sub(df$gps, start = 3, end = -2) \n",
    "\n",
    "# this gets rid of the first 3 characters and the last two characters\n",
    "# you can get an accurate count of characters when viewing them with glimpse(df)"
   ]
  },
  {
   "cell_type": "code",
   "execution_count": 271,
   "metadata": {},
   "outputs": [],
   "source": [
    "# Example how to merge two dataframes on common column names\n",
    "# https://stackoverflow.com/questions/1299871/how-to-join-merge-data-frames-inner-outer-left-right\n",
    "\n",
    "# CanadaMap <- merge(CanadaMap, df_Provincial) # join the two dataframes, merge will use the common column name to join with"
   ]
  },
  {
   "cell_type": "code",
   "execution_count": 272,
   "metadata": {},
   "outputs": [],
   "source": [
    "# Example of how to combine two or more dataframes vertically with the same column names\n",
    "\n",
    "# df4 <- rbind(df1, df2, df3)"
   ]
  },
  {
   "cell_type": "code",
   "execution_count": 273,
   "metadata": {},
   "outputs": [],
   "source": [
    "# Example of how to combine two or more dataframes horizontally with the same number of rows but different columns\n",
    "\n",
    "# df4 <- cbind(df1, df2, df3)"
   ]
  },
  {
   "cell_type": "code",
   "execution_count": 274,
   "metadata": {},
   "outputs": [],
   "source": [
    "# Example of how to create a new column that takes on values by performing arithmetic on existing columns \n",
    "# need dplyr and tidyverse library\n",
    "# This example creates a new column that divides one column by another and mutliplies the result by a constant\n",
    "\n",
    "# NSMAP2011 <- NSMAP2011 %>%\n",
    "#   mutate(PropertyCrimeCountyRatePer100K = PropertyCrimeIncidentsPerCounty/CountyPopulation * 100000)"
   ]
  },
  {
   "cell_type": "code",
   "execution_count": 275,
   "metadata": {},
   "outputs": [],
   "source": [
    "# Example of how to order a dataframe by a column in descening order\n",
    "# a \"-\" in front of the column name will sort it in descending (largest to lowest) order\n",
    "\n",
    "# df <- \n",
    "#  df[with(df, order(-Incidents_Total)), ]\n",
    "\n",
    "\n",
    "# adding multiple column names will prioritize ordering in that sequence\n",
    "\n",
    "# df <- \n",
    "#  df[with(df, order(REGION, COUNTY, GEO, Violations, Statistics)), ]\n",
    "\n",
    "#--------------------\n",
    "# Alternatively, you can also use the following:\n",
    "# sort by date in decreasing order\n",
    "# df <- df[order(df$YYYYMMDD, decreasing = TRUE), ]"
   ]
  },
  {
   "cell_type": "code",
   "execution_count": 276,
   "metadata": {},
   "outputs": [],
   "source": [
    "# Before spreading data for tidy format, make sure to remove any special characters beforehand\n",
    "# This ensures that after spreading the data, the column names are all properly formatted\n",
    "# Properly formatted column names will always appear flushed next to the dollar sign when glimpsing a dataframe\n",
    "# If spaces or special characters are present in the column name, they will appear within single quotes after the dollar sign\n",
    "# when glimpsing the dataframe after spreading the data\n",
    "\n",
    "# df_health$Indicators <- gsub(\" \", \"_\", df_health$Indicators)\n",
    "# df_health$Indicators <- gsub(\",\", \"\", df_health$Indicators)\n",
    "# df_health$Indicators <- gsub(\";\", \"\", df_health$Indicators)\n",
    "# df_health$Indicators <- gsub(\"-\", \"_\", df_health$Indicators)\n",
    "# df_health$Indicators <- gsub(\"\\\\(\", \"\", df_health$Indicators) # this removes left parenthesis\n",
    "# df_health$Indicators <- gsub(\"\\\\)\", \"\", df_health$Indicators) # this removes right parenthesis\n",
    "\n",
    "# df_health <- df_health %>%\n",
    "#   spread(Indicators, Value)"
   ]
  },
  {
   "cell_type": "code",
   "execution_count": 277,
   "metadata": {},
   "outputs": [],
   "source": [
    "# Example of how to load a shapefile for mapping \n",
    "# need sf library\n",
    "\n",
    "# NS <- st_read(\"GIS_Nova_Scotia/Counties_GCS.shp\")"
   ]
  },
  {
   "cell_type": "code",
   "execution_count": 278,
   "metadata": {},
   "outputs": [],
   "source": [
    "# Example how to convert a dataframe of lats/longs to a an sf dataframe for points spatial data \n",
    "# need sf library\n",
    "\n",
    "# pts <- st_as_sf(df, coords = c(\"LONGITUDE\", \"LATITUDE\"), crs = 4269) # create sf object called \"pts\" from df\n",
    "# class(pts)\n",
    "# glimpse(pts) # LONGITUDE and LATITUDE columns are replaced with a geometry column for point data"
   ]
  },
  {
   "cell_type": "code",
   "execution_count": 279,
   "metadata": {},
   "outputs": [],
   "source": [
    "# Example how to add custom icons for points spatial data \n",
    "# need sf library and tmap library\n",
    "\n",
    "# Using custom icons for points instead of bubbles\n",
    "\n",
    "# file <- \"DataFilesGeneral/flower_960_720.png\"  \n",
    "# flower_icon <- tmap_icons(file, width = 48, height = 48, keep.asp = TRUE,\n",
    "#   just = c(\"center\", \"center\"), as.local = TRUE)\n",
    "\n",
    "# my_map_2 <- my_map_0 +\n",
    "#   tm_shape(pts) +\n",
    "#   tm_symbols(\"VALUE\", shape = flower_icon, size = .3, alpha = .2, border.alpha = 0) \n",
    "# my_map_2"
   ]
  },
  {
   "cell_type": "markdown",
   "metadata": {},
   "source": [
    "# Appendix 2 - Note regarding preferred way for installing packages"
   ]
  },
  {
   "cell_type": "code",
   "execution_count": 280,
   "metadata": {},
   "outputs": [],
   "source": [
    "# Preferrably, install new packages via Anaconda Prompt > conda install r-package_name\n",
    "# Try to only use library() in notebook instead of install.packages()\n",
    "# this is more reliable than using install.packages(\"package name\") in R script\n",
    "# Anaconda Prompt > conda list shows what packages are installed\n",
    "\n",
    "# However, when the above isn't true for some reason, it is noted below\n",
    "# e.g., tmap must be installed through install.packages(\"tmap\")"
   ]
  }
 ],
 "metadata": {
  "kernelspec": {
   "display_name": "R",
   "language": "R",
   "name": "ir"
  },
  "language_info": {
   "codemirror_mode": "r",
   "file_extension": ".r",
   "mimetype": "text/x-r-source",
   "name": "R",
   "pygments_lexer": "r",
   "version": "3.4.3"
  }
 },
 "nbformat": 4,
 "nbformat_minor": 2
}
