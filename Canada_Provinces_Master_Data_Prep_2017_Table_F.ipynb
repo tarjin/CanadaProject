{
 "cells": [
  {
   "cell_type": "code",
   "execution_count": 53,
   "metadata": {},
   "outputs": [
    {
     "data": {
      "text/plain": [
       "[1] \"2018-08-09 15:23:07 AST\""
      ]
     },
     "metadata": {},
     "output_type": "display_data"
    }
   ],
   "source": [
    "# Must run this notebook from root directory in Anaconda for relative local file paths to work\n",
    "\n",
    "Sys.time() # script start time"
   ]
  },
  {
   "cell_type": "markdown",
   "metadata": {},
   "source": [
    "# Install and attach packages"
   ]
  },
  {
   "cell_type": "code",
   "execution_count": 54,
   "metadata": {},
   "outputs": [],
   "source": [
    "# See note at the end of this notebook regarding the preferred way of installing packages"
   ]
  },
  {
   "cell_type": "code",
   "execution_count": 55,
   "metadata": {},
   "outputs": [],
   "source": [
    "library(tidyverse)"
   ]
  },
  {
   "cell_type": "code",
   "execution_count": 56,
   "metadata": {},
   "outputs": [],
   "source": [
    "library(data.table)"
   ]
  },
  {
   "cell_type": "code",
   "execution_count": 57,
   "metadata": {},
   "outputs": [],
   "source": [
    "library(stringr)"
   ]
  },
  {
   "cell_type": "code",
   "execution_count": 58,
   "metadata": {},
   "outputs": [],
   "source": [
    "library(gridExtra)"
   ]
  },
  {
   "cell_type": "code",
   "execution_count": 59,
   "metadata": {},
   "outputs": [],
   "source": [
    "library(sf) # needed for mapping"
   ]
  },
  {
   "cell_type": "code",
   "execution_count": 60,
   "metadata": {},
   "outputs": [],
   "source": [
    "# install.packages(\"tmap\")\n",
    "# this for some reason can only be installed via install.packages(), but only has to be done once in your environment"
   ]
  },
  {
   "cell_type": "code",
   "execution_count": 61,
   "metadata": {},
   "outputs": [],
   "source": [
    "library(tmap) # needed for mapping"
   ]
  },
  {
   "cell_type": "code",
   "execution_count": 62,
   "metadata": {},
   "outputs": [],
   "source": [
    "# Set default options to display more digits, useful for gps coordinates"
   ]
  },
  {
   "cell_type": "code",
   "execution_count": 63,
   "metadata": {},
   "outputs": [],
   "source": [
    "options(digits=15) # set the visible number of digits to 15, useful when displaying GIS coordinates in dataframes"
   ]
  },
  {
   "cell_type": "code",
   "execution_count": 64,
   "metadata": {},
   "outputs": [
    {
     "data": {
      "text/html": [
       "<strong>$digits</strong> = 15"
      ],
      "text/latex": [
       "\\textbf{\\$digits} = 15"
      ],
      "text/markdown": [
       "**$digits** = 15"
      ],
      "text/plain": [
       "$digits\n",
       "[1] 15\n"
      ]
     },
     "metadata": {},
     "output_type": "display_data"
    }
   ],
   "source": [
    "options(\"digits\") # display the max number of digits that appear in cells of a dataframe"
   ]
  },
  {
   "cell_type": "code",
   "execution_count": 65,
   "metadata": {},
   "outputs": [
    {
     "data": {
      "text/plain": [
       "R version 3.4.3 (2017-11-30)\n",
       "Platform: x86_64-w64-mingw32/x64 (64-bit)\n",
       "Running under: Windows 10 x64 (build 17134)\n",
       "\n",
       "Matrix products: default\n",
       "\n",
       "locale:\n",
       "[1] LC_COLLATE=English_Canada.1252  LC_CTYPE=English_Canada.1252   \n",
       "[3] LC_MONETARY=English_Canada.1252 LC_NUMERIC=C                   \n",
       "[5] LC_TIME=English_Canada.1252    \n",
       "\n",
       "attached base packages:\n",
       "[1] stats     graphics  grDevices utils     datasets  methods   base     \n",
       "\n",
       "other attached packages:\n",
       " [1] bindrcpp_0.2         tmap_1.10            sf_0.5-4            \n",
       " [4] gridExtra_2.2.1      data.table_1.10.4-3  forcats_0.2.0       \n",
       " [7] stringr_1.2.0        dplyr_0.7.4          purrr_0.2.4         \n",
       "[10] readr_1.1.1          tidyr_0.7.2          tibble_1.4.1        \n",
       "[13] ggplot2_2.2.1        tidyverse_1.2.1      RevoUtils_10.0.8    \n",
       "[16] RevoUtilsMath_10.0.1\n",
       "\n",
       "loaded via a namespace (and not attached):\n",
       "  [1] colorspace_1.3-2   deldir_0.1-14      class_7.3-14      \n",
       "  [4] gdalUtils_2.0.1.7  leaflet_1.1.0      rgdal_1.2-8       \n",
       "  [7] satellite_1.0.0    IRdisplay_0.4.4    base64enc_0.1-3   \n",
       " [10] dichromat_2.0-0    rstudioapi_0.7     lubridate_1.7.1   \n",
       " [13] xml2_1.1.1         R.methodsS3_1.7.1  codetools_0.2-15  \n",
       " [16] splines_3.4.3      mnormt_1.5-5       geojsonlint_0.2.0 \n",
       " [19] IRkernel_0.8.11    jsonlite_1.5       tmaptools_1.2-1   \n",
       " [22] broom_0.4.3        png_0.1-7          R.oo_1.21.0       \n",
       " [25] rgeos_0.3-23       shiny_1.0.5        compiler_3.4.3    \n",
       " [28] httr_1.3.1         mapview_2.1.4      assertthat_0.2.0  \n",
       " [31] Matrix_1.2-12      lazyeval_0.2.1     cli_1.0.0         \n",
       " [34] htmltools_0.3.6    tools_3.4.3        coda_0.19-1       \n",
       " [37] gtable_0.2.0       glue_1.2.0         reshape2_1.4.3    \n",
       " [40] gmodels_2.16.2     V8_1.5             Rcpp_0.12.14      \n",
       " [43] cellranger_1.1.0   raster_2.5-8       spdep_0.6-13      \n",
       " [46] gdata_2.18.0       nlme_3.1-131       udunits2_0.13     \n",
       " [49] iterators_1.0.9    crosstalk_1.0.0    psych_1.7.5       \n",
       " [52] rvest_0.3.2        mime_0.5           gtools_3.5.0      \n",
       " [55] XML_3.98-1.9       LearnBayes_2.15    MASS_7.3-47       \n",
       " [58] scales_0.5.0       hms_0.4.0          parallel_3.4.3    \n",
       " [61] expm_0.999-2       RColorBrewer_1.1-2 curl_3.1          \n",
       " [64] geosphere_1.5-5    stringi_1.1.6      jsonvalidate_1.0.0\n",
       " [67] foreach_1.4.5      e1071_1.6-8        boot_1.3-20       \n",
       " [70] repr_0.12.0        rlang_0.1.6        pkgconfig_2.0.1   \n",
       " [73] bitops_1.0-6       evaluate_0.10.1    lattice_0.20-35   \n",
       " [76] bindr_0.1          htmlwidgets_0.9    osmar_1.1-7       \n",
       " [79] plyr_1.8.4         magrittr_1.5       R6_2.2.2          \n",
       " [82] pbdZMQ_0.2-6       DBI_0.7            pillar_1.0.1      \n",
       " [85] haven_1.1.0        foreign_0.8-69     units_0.4-6       \n",
       " [88] RCurl_1.95-4.8     sp_1.2-5           modelr_0.1.1      \n",
       " [91] crayon_1.3.4       rmapshaper_0.3.0   uuid_0.1-2        \n",
       " [94] KernSmooth_2.23-15 grid_3.4.3         readxl_1.0.0      \n",
       " [97] webshot_0.4.1      digest_0.6.13      classInt_0.1-24   \n",
       "[100] xtable_1.8-2       httpuv_1.3.5       R.utils_2.5.0     \n",
       "[103] stats4_3.4.3       munsell_0.4.3      viridisLite_0.2.0 "
      ]
     },
     "metadata": {},
     "output_type": "display_data"
    }
   ],
   "source": [
    "sessionInfo()"
   ]
  },
  {
   "cell_type": "markdown",
   "metadata": {},
   "source": [
    "# Main Script Begins Here"
   ]
  },
  {
   "cell_type": "markdown",
   "metadata": {},
   "source": [
    "## 5. Number of Transitional Homeless Beds at Male-Only Shelters Per 100,000 Male Population, 2017"
   ]
  },
  {
   "cell_type": "code",
   "execution_count": 66,
   "metadata": {},
   "outputs": [
    {
     "data": {
      "text/plain": [
       "[1] \"2018-08-09 15:23:07 AST\""
      ]
     },
     "metadata": {},
     "output_type": "display_data"
    }
   ],
   "source": [
    "Sys.time() # script start time from body"
   ]
  },
  {
   "cell_type": "code",
   "execution_count": 67,
   "metadata": {},
   "outputs": [],
   "source": [
    "# Import and clean data before analysis"
   ]
  },
  {
   "cell_type": "code",
   "execution_count": 68,
   "metadata": {},
   "outputs": [
    {
     "data": {
      "text/plain": [
       "[1] \"2018-08-09 15:23:08 AST\""
      ]
     },
     "metadata": {},
     "output_type": "display_data"
    },
    {
     "data": {
      "text/plain": [
       "[1] \"2018-08-09 15:23:08 AST\""
      ]
     },
     "metadata": {},
     "output_type": "display_data"
    }
   ],
   "source": [
    "# Import dataset\n",
    "# Homeless Shelters in Canada\n",
    "# Source: https://open.canada.ca/data/en/dataset/7e0189e3-8595-4e62-a4e9-4fed6f265e10\n",
    "# See also: http://publications.gc.ca/collections/collection_2018/edsc-esdc/Em20-91-2018-eng.pdf\n",
    "\n",
    "\n",
    "Sys.time() # start time for reading file\n",
    "f <- function(x, pos) subset(x, \n",
    "                            !is.na(Beds)) # filter out any rows with missing values in the specified column in parenthesis\n",
    "#                           & City == \"Halifax\") # only include rows where the specified condition is met\n",
    "#                           & any other criteria for filtering\n",
    "df <- read_csv_chunked(\"http://www.edsc-esdc.gc.ca/ouvert-open/hps/CDHPD-OpenDataNSPL-DataSet-20170804-ENFR.csv\", \n",
    "                           DataFrameCallback$new(f), \n",
    "                           chunk_size = 50000, # this is an adequate chunk size\n",
    "                           col_names = c(\"ShelterType\", # this renames each column in order to what you specify\n",
    "                                         \"Province\",\n",
    "                                         \"City\",\n",
    "                                         \"TargetPopulation\",\n",
    "                                         \"Gender\",\n",
    "                                         \"ShelterName\",\n",
    "                                         \"Beds\"), # all other columns after this will be dropped\n",
    "                           cols_only( # specify which columns with data types you want to include \n",
    "                                      # to avoid importing unwanted data\n",
    "                                      # include all columns that you specified above with col_names\n",
    "                               \"ShelterType\" = col_character(),\n",
    "                               \"Province\" = col_character(),\n",
    "                               \"City\" = col_character(),\n",
    "                               \"TargetPopulation\" = col_character(),\n",
    "                               \"Gender\" = col_character(),\n",
    "                               \"ShelterName\" = col_character(),\n",
    "                               \"Beds\" = col_number()),\n",
    "                           skip = 1, # skip original column headers\n",
    "                           trim_ws = TRUE) # trim leading and trailing whitespace for each data point\n",
    "Sys.time() # end time for reading file"
   ]
  },
  {
   "cell_type": "code",
   "execution_count": 69,
   "metadata": {},
   "outputs": [
    {
     "name": "stdout",
     "output_type": "stream",
     "text": [
      "Observations: 687\n",
      "Variables: 7\n",
      "$ ShelterType      <chr> \"Emergency\", \"Emergency\", \"Emergency\", \"Emergency\"...\n",
      "$ Province         <chr> \"AB\", \"AB\", \"AB\", \"AB\", \"AB\", \"AB\", \"AB\", \"AB\", \"A...\n",
      "$ City             <chr> \"Calgary\", \"Calgary\", \"Calgary\", \"Calgary\", \"Calga...\n",
      "$ TargetPopulation <chr> \"Family\", \"General\", \"General\", \"General\", \"Genera...\n",
      "$ Gender           <chr> \"Both\", \"Both\", \"Both\", \"Both\", \"Both\", \"Both\", \"F...\n",
      "$ ShelterName      <chr> \"Brenda's House\", \"Calgary Alpha House\", \"Calgary ...\n",
      "$ Beds             <dbl> 60, 120, 270, 975, 11, 370, 12, 6, 80, 25, 15, 5, ...\n"
     ]
    }
   ],
   "source": [
    "glimpse(df)"
   ]
  },
  {
   "cell_type": "code",
   "execution_count": 70,
   "metadata": {},
   "outputs": [],
   "source": [
    "# drop the territories\n",
    "\n",
    "df <- df %>%\n",
    "  filter(!Province %in% c(\"NT\", \"NU\", \"YT\")) %>%\n",
    "  filter(ShelterType == \"Transitional\") %>%\n",
    "  filter(Gender == \"Male\")"
   ]
  },
  {
   "cell_type": "code",
   "execution_count": 71,
   "metadata": {},
   "outputs": [
    {
     "data": {
      "text/html": [
       "<ol class=list-inline>\n",
       "\t<li>'AB'</li>\n",
       "\t<li>'BC'</li>\n",
       "\t<li>'MB'</li>\n",
       "\t<li>'NL'</li>\n",
       "\t<li>'NS'</li>\n",
       "\t<li>'ON'</li>\n",
       "\t<li>'QC'</li>\n",
       "\t<li>'SK'</li>\n",
       "</ol>\n"
      ],
      "text/latex": [
       "\\begin{enumerate*}\n",
       "\\item 'AB'\n",
       "\\item 'BC'\n",
       "\\item 'MB'\n",
       "\\item 'NL'\n",
       "\\item 'NS'\n",
       "\\item 'ON'\n",
       "\\item 'QC'\n",
       "\\item 'SK'\n",
       "\\end{enumerate*}\n"
      ],
      "text/markdown": [
       "1. 'AB'\n",
       "2. 'BC'\n",
       "3. 'MB'\n",
       "4. 'NL'\n",
       "5. 'NS'\n",
       "6. 'ON'\n",
       "7. 'QC'\n",
       "8. 'SK'\n",
       "\n",
       "\n"
      ],
      "text/plain": [
       "[1] \"AB\" \"BC\" \"MB\" \"NL\" \"NS\" \"ON\" \"QC\" \"SK\""
      ]
     },
     "metadata": {},
     "output_type": "display_data"
    }
   ],
   "source": [
    "unique(df$Province)"
   ]
  },
  {
   "cell_type": "code",
   "execution_count": 72,
   "metadata": {},
   "outputs": [],
   "source": [
    "# Always rename the columns to remove spaces and special characters if you haven't already from read_csv_chunked\n",
    "# This avoids any potential problems R may encounter with different packages if not taken care of properly right away\n",
    "\n",
    "# colnames(df) <- c(\" \", \" \")"
   ]
  },
  {
   "cell_type": "code",
   "execution_count": 73,
   "metadata": {},
   "outputs": [],
   "source": [
    "# Always set the variable types next for each column and drop any unnecessary columns\n",
    "# if you haven't already from read_csv_chunked, or need to change characters to factors\n",
    "# use as.numeric() and as.factor() where appropriate\n",
    "# df$column_name <- NULL will delete that column from the dataframe\n",
    "\n",
    "df$ShelterType <- as.factor(df$ShelterType)\n",
    "df$Province <- as.factor(df$Province)\n",
    "df$City <- as.factor(df$City)\n",
    "df$TargetPopulation <- as.factor(df$TargetPopulation)\n",
    "df$Gender <- as.factor(df$Gender)"
   ]
  },
  {
   "cell_type": "code",
   "execution_count": 74,
   "metadata": {},
   "outputs": [
    {
     "name": "stdout",
     "output_type": "stream",
     "text": [
      "Observations: 72\n",
      "Variables: 7\n",
      "$ ShelterType      <fctr> Transitional, Transitional, Transitional, Transit...\n",
      "$ Province         <fctr> AB, AB, AB, BC, BC, BC, BC, MB, MB, MB, MB, NL, N...\n",
      "$ City             <fctr> Calgary, Edmonton, Gunn, Kamloops, Nanaimo, Vanco...\n",
      "$ TargetPopulation <fctr> General, General, General, General, General, Gene...\n",
      "$ Gender           <fctr> Male, Male, Male, Male, Male, Male, Male, Male, M...\n",
      "$ ShelterName      <chr> \"Calgary Dream Centre\", \"Urban Manor\", \"Gunn Centr...\n",
      "$ Beds             <dbl> 125, 75, 115, 7, 8, 18, 37, 5, 17, 18, 40, 2, 19, ...\n"
     ]
    },
    {
     "data": {
      "text/html": [
       "<table>\n",
       "<thead><tr><th scope=col>ShelterType</th><th scope=col>Province</th><th scope=col>City</th><th scope=col>TargetPopulation</th><th scope=col>Gender</th><th scope=col>ShelterName</th><th scope=col>Beds</th></tr></thead>\n",
       "<tbody>\n",
       "\t<tr><td>Transitional                                             </td><td>AB                                                       </td><td>Calgary                                                  </td><td>General                                                  </td><td>Male                                                     </td><td>Calgary Dream Centre                                     </td><td>125                                                      </td></tr>\n",
       "\t<tr><td>Transitional                                             </td><td>AB                                                       </td><td>Edmonton                                                 </td><td>General                                                  </td><td>Male                                                     </td><td>Urban Manor                                              </td><td> 75                                                      </td></tr>\n",
       "\t<tr><td>Transitional                                             </td><td>AB                                                       </td><td>Gunn                                                     </td><td>General                                                  </td><td>Male                                                     </td><td>Gunn Centre                                              </td><td>115                                                      </td></tr>\n",
       "\t<tr><td>Transitional                                             </td><td>BC                                                       </td><td>Kamloops                                                 </td><td>General                                                  </td><td>Male                                                     </td><td>Kamloops Safe Housing Society                            </td><td>  7                                                      </td></tr>\n",
       "\t<tr><td>Transitional                                             </td><td>BC                                                       </td><td>Nanaimo                                                  </td><td>General                                                  </td><td>Male                                                     </td><td>New Hope Centre Transitional                             </td><td>  8                                                      </td></tr>\n",
       "\t<tr><td>Transitional                                             </td><td>BC                                                       </td><td>Vancouver                                                </td><td>General                                                  </td><td>Male                                                     </td><td>Lookout - Pender Residence                               </td><td> 18                                                      </td></tr>\n",
       "\t<tr><td>Transitional                                             </td><td>BC                                                       </td><td>Vancouver                                                </td><td>General                                                  </td><td>Male                                                     </td><td>Union Gospel Mission                                     </td><td> 37                                                      </td></tr>\n",
       "\t<tr><td>Transitional                                             </td><td>MB                                                       </td><td>Brandon                                                  </td><td>Youth                                                    </td><td>Male                                                     </td><td>Uturn 1                                                  </td><td>  5                                                      </td></tr>\n",
       "\t<tr><td>Transitional                                             </td><td>MB                                                       </td><td>Swan River                                               </td><td>General                                                  </td><td>Male                                                     </td><td>E.C.H.O. Transitional Housing                            </td><td> 17                                                      </td></tr>\n",
       "\t<tr><td>Transitional                                             </td><td>MB                                                       </td><td>Winnipeg                                                 </td><td>General                                                  </td><td>Male                                                     </td><td>Booth Centre - The Haven                                 </td><td> 18                                                      </td></tr>\n",
       "\t<tr><td>Transitional                                             </td><td>MB                                                       </td><td>Winnipeg                                                 </td><td>General                                                  </td><td>Male                                                     </td><td>Forward House Ministries Inc.                            </td><td> 40                                                      </td></tr>\n",
       "\t<tr><td>Transitional                                             </td><td>NL                                                       </td><td>Goose Bay                                                </td><td>General                                                  </td><td>Male                                                     </td><td>Independent Supportive Living Program                    </td><td>  2                                                      </td></tr>\n",
       "\t<tr><td>Transitional                                             </td><td>NS                                                       </td><td>Halifax                                                  </td><td>General                                                  </td><td>Male                                                     </td><td>The Salvation Army - Anchorage Halifax                   </td><td> 19                                                      </td></tr>\n",
       "\t<tr><td>Transitional                                             </td><td>ON                                                       </td><td>Cambridge                                                </td><td>General                                                  </td><td>Male                                                     </td><td>Saginaw House                                            </td><td>  9                                                      </td></tr>\n",
       "\t<tr><td>Transitional                                             </td><td>ON                                                       </td><td>Cambridge                                                </td><td>Youth                                                    </td><td>Male                                                     </td><td>Five Beds To Home                                        </td><td>  5                                                      </td></tr>\n",
       "\t<tr><td>Transitional                                             </td><td>ON                                                       </td><td>Guelph                                                   </td><td>Youth                                                    </td><td>Male                                                     </td><td>Wyndham House for Young Men                              </td><td>  8                                                      </td></tr>\n",
       "\t<tr><td>Transitional                                             </td><td>ON                                                       </td><td>Kitchener                                                </td><td>Youth                                                    </td><td>Male                                                     </td><td>Kiwanis House                                            </td><td>  6                                                      </td></tr>\n",
       "\t<tr><td>Transitional                                             </td><td>ON                                                       </td><td>London                                                   </td><td>General                                                  </td><td>Male                                                     </td><td>Men's Mission and Rehabilitation Centre-Transitional Beds</td><td> 35                                                      </td></tr>\n",
       "\t<tr><td>Transitional                                             </td><td>ON                                                       </td><td>Oshawa                                                   </td><td>General                                                  </td><td>Male                                                     </td><td>Cornerstone - Transitional                               </td><td> 10                                                      </td></tr>\n",
       "\t<tr><td>Transitional                                             </td><td>ON                                                       </td><td>Ottawa                                                   </td><td>General                                                  </td><td>Male                                                     </td><td>Ottawa Mission - Fifth Avenue                            </td><td>  5                                                      </td></tr>\n",
       "\t<tr><td>Transitional                                             </td><td>ON                                                       </td><td>Ottawa                                                   </td><td>General                                                  </td><td>Male                                                     </td><td>Ottawa Mission - Lifehouse                               </td><td> 11                                                      </td></tr>\n",
       "\t<tr><td>Transitional                                             </td><td>ON                                                       </td><td>Ottawa                                                   </td><td>General                                                  </td><td>Male                                                     </td><td>Ottawa Mission - Woodlawn                                </td><td>  6                                                      </td></tr>\n",
       "\t<tr><td>Transitional                                             </td><td>ON                                                       </td><td>Ottawa                                                   </td><td>Youth                                                    </td><td>Male                                                     </td><td>Young Men's Transitional Housing                         </td><td> 12                                                      </td></tr>\n",
       "\t<tr><td>Transitional                                             </td><td>ON                                                       </td><td>St. Catharine's                                          </td><td>General                                                  </td><td>Male                                                     </td><td>Niagara Regional Men's Withdrawl Management Service      </td><td> 18                                                      </td></tr>\n",
       "\t<tr><td>Transitional                                             </td><td>ON                                                       </td><td>St. Thomas                                               </td><td>General                                                  </td><td>Male                                                     </td><td>YWCA - Second Story                                      </td><td>  7                                                      </td></tr>\n",
       "\t<tr><td>Transitional                                             </td><td>ON                                                       </td><td>St. Thomas                                               </td><td>Youth                                                    </td><td>Male                                                     </td><td>Fair Winds                                               </td><td>  3                                                      </td></tr>\n",
       "\t<tr><td>Transitional                                             </td><td>ON                                                       </td><td>Toronto                                                  </td><td>General                                                  </td><td>Male                                                     </td><td>Maxwell Meighen - Primary Support                        </td><td> 10                                                      </td></tr>\n",
       "\t<tr><td>Transitional                                             </td><td>ON                                                       </td><td>Toronto                                                  </td><td>General                                                  </td><td>Male                                                     </td><td>Maxwell Meighen Centre Turning Point                     </td><td> 20                                                      </td></tr>\n",
       "\t<tr><td>Transitional                                             </td><td>ON                                                       </td><td>Toronto                                                  </td><td>General                                                  </td><td>Male                                                     </td><td>Maxwell Meighen Transition To Housing                    </td><td> 10                                                      </td></tr>\n",
       "\t<tr><td>Transitional                                             </td><td>ON                                                       </td><td>Toronto                                                  </td><td>General                                                  </td><td>Male                                                     </td><td>Sagatay                                                  </td><td> 22                                                      </td></tr>\n",
       "\t<tr><td>...</td><td>...</td><td>...</td><td>...</td><td>...</td><td>...</td><td>...</td></tr>\n",
       "\t<tr><td>Transitional                                    </td><td>QC                                              </td><td>Montreal                                        </td><td>General                                         </td><td>Male                                            </td><td>L'Escale Notre-Dame                             </td><td>15                                              </td></tr>\n",
       "\t<tr><td>Transitional                                    </td><td>QC                                              </td><td>Montreal                                        </td><td>General                                         </td><td>Male                                            </td><td>Mission Bon Accueil - C'est ma Place            </td><td> 0                                              </td></tr>\n",
       "\t<tr><td>Transitional                                                                                  </td><td>QC                                                                                            </td><td><span style=white-space:pre-wrap>Montreal     </span>                                         </td><td>General                                                                                       </td><td>Male                                                                                          </td><td><span style=white-space:pre-wrap>Mission Bon Accueil - R&lt;e9&gt;sident / Gratuit     </span></td><td> 0                                                                                            </td></tr>\n",
       "\t<tr><td>Transitional                                    </td><td>QC                                              </td><td>Montreal                                        </td><td>General                                         </td><td>Male                                            </td><td>OBM - Maison Roger Beaulieu                     </td><td>42                                              </td></tr>\n",
       "\t<tr><td>Transitional                                    </td><td>QC                                              </td><td>Montreal                                        </td><td>General                                         </td><td>Male                                            </td><td>OBM - Marcel et Jean Coutu Pavillion            </td><td>30                                              </td></tr>\n",
       "\t<tr><td>Transitional                                    </td><td>QC                                              </td><td>Montreal                                        </td><td>General                                         </td><td>Male                                            </td><td>OBM - Webster COMPASS                           </td><td> 7                                              </td></tr>\n",
       "\t<tr><td>Transitional                                    </td><td>QC                                              </td><td>Montreal                                        </td><td>General                                         </td><td>Male                                            </td><td>OBM - Webster Douglas                           </td><td> 4                                              </td></tr>\n",
       "\t<tr><td>Transitional                                    </td><td>QC                                              </td><td>Montreal                                        </td><td>General                                         </td><td>Male                                            </td><td>OBM - Webster Escale                            </td><td>58                                              </td></tr>\n",
       "\t<tr><td>Transitional                                    </td><td>QC                                              </td><td>Montreal                                        </td><td>General                                         </td><td>Male                                            </td><td>OBM - Webster ETAPE C                           </td><td>44                                              </td></tr>\n",
       "\t<tr><td>Transitional                                    </td><td>QC                                              </td><td>Montreal                                        </td><td>General                                         </td><td>Male                                            </td><td>OBM - Webster PASS                              </td><td>14                                              </td></tr>\n",
       "\t<tr><td>Transitional                                    </td><td>QC                                              </td><td>Montreal                                        </td><td>General                                         </td><td>Male                                            </td><td>OBM - Webster RELAIS                            </td><td>34                                              </td></tr>\n",
       "\t<tr><td>Transitional                                    </td><td>QC                                              </td><td>Montreal                                        </td><td>General                                         </td><td>Male                                            </td><td>OBM - Webster RELAIS II                         </td><td>20                                              </td></tr>\n",
       "\t<tr><td>Transitional                                                                                  </td><td>QC                                                                                            </td><td><span style=white-space:pre-wrap>Montreal     </span>                                         </td><td>General                                                                                       </td><td>Male                                                                                          </td><td><span style=white-space:pre-wrap>R&lt;e9&gt;sidence du vieux port                      </span></td><td>40                                                                                            </td></tr>\n",
       "\t<tr><td>Transitional                                                                                        </td><td>QC                                                                                                  </td><td><span style=white-space:pre-wrap>Montreal     </span>                                               </td><td>General                                                                                             </td><td>Male                                                                                                </td><td><span style=white-space:pre-wrap>R&lt;e9&gt;sidence Omer Desch&lt;ea&gt;nes                  </span></td><td>23                                                                                                  </td></tr>\n",
       "\t<tr><td>Transitional                                    </td><td>QC                                              </td><td>Montreal                                        </td><td>General                                         </td><td>Male                                            </td><td>Residences Bon Accueil - Transitional           </td><td>25                                              </td></tr>\n",
       "\t<tr><td>Transitional                                                </td><td>QC                                                          </td><td><span style=white-space:pre-wrap>Quebec City  </span>       </td><td>General                                                     </td><td>Male                                                        </td><td>H&lt;f4&gt;tellerie pour Hommes de l'Arm&lt;e9&gt;e du Salut</td><td>61                                                          </td></tr>\n",
       "\t<tr><td>Transitional                                                                                        </td><td>QC                                                                                                  </td><td><span style=white-space:pre-wrap>Quebec City  </span>                                               </td><td><span style=white-space:pre-wrap>Youth  </span>                                                     </td><td>Male                                                                                                </td><td><span style=white-space:pre-wrap>G&lt;ee&gt;te Jeunesse (R&lt;e9&gt;sidence Beauport)        </span></td><td>14                                                                                                  </td></tr>\n",
       "\t<tr><td>Transitional                                    </td><td>QC                                              </td><td>Roxton Falls                                    </td><td>General                                         </td><td>Male                                            </td><td>La Petite ferme de l'auberge                    </td><td>10                                              </td></tr>\n",
       "\t<tr><td>Transitional                                    </td><td>QC                                              </td><td>Sherbrooke                                      </td><td>General                                         </td><td>Male                                            </td><td>Maison Marie-Jeanne                             </td><td>10                                              </td></tr>\n",
       "\t<tr><td>Transitional                                    </td><td>SK                                              </td><td>Prince Albert                                   </td><td>General                                         </td><td>Male                                            </td><td>Prince Albert Grand Council Transitional House  </td><td>14                                              </td></tr>\n",
       "\t<tr><td>Transitional                                    </td><td>SK                                              </td><td>Regina                                          </td><td>General                                         </td><td>Male                                            </td><td>Waterston House                                 </td><td>40                                              </td></tr>\n",
       "\t<tr><td>Transitional                                    </td><td>SK                                              </td><td>Regina                                          </td><td>General                                         </td><td>Male                                            </td><td>YMCA Residence                                  </td><td>12                                              </td></tr>\n",
       "\t<tr><td>Transitional                                    </td><td>SK                                              </td><td>Saskatoon                                       </td><td>General                                         </td><td>Male                                            </td><td>Long term residents                             </td><td> 9                                              </td></tr>\n",
       "\t<tr><td>Transitional                                    </td><td>SK                                              </td><td>Saskatoon                                       </td><td>General                                         </td><td>Male                                            </td><td>McLeod House                                    </td><td>16                                              </td></tr>\n",
       "\t<tr><td>Transitional                                    </td><td>SK                                              </td><td>Saskatoon                                       </td><td>General                                         </td><td>Male                                            </td><td>SCC Transitional Housing                        </td><td>12                                              </td></tr>\n",
       "\t<tr><td>Transitional                                    </td><td>SK                                              </td><td>Saskatoon                                       </td><td>Youth                                           </td><td>Male                                            </td><td>Basswood House                                  </td><td> 5                                              </td></tr>\n",
       "\t<tr><td>Transitional                                    </td><td>SK                                              </td><td>Saskatoon                                       </td><td>Youth                                           </td><td>Male                                            </td><td>Cedar House                                     </td><td> 5                                              </td></tr>\n",
       "\t<tr><td>Transitional                                    </td><td>SK                                              </td><td>Saskatoon                                       </td><td>Youth                                           </td><td>Male                                            </td><td>Jay's Place                                     </td><td> 5                                              </td></tr>\n",
       "\t<tr><td>Transitional                                    </td><td>SK                                              </td><td>Saskatoon                                       </td><td>Youth                                           </td><td>Male                                            </td><td>Pine Place                                      </td><td> 5                                              </td></tr>\n",
       "\t<tr><td>Transitional                                    </td><td>SK                                              </td><td>Saskatoon                                       </td><td>Youth                                           </td><td>Male                                            </td><td>Quint Male Youth Lodge                          </td><td>10                                              </td></tr>\n",
       "</tbody>\n",
       "</table>\n"
      ],
      "text/latex": [
       "\\begin{tabular}{r|lllllll}\n",
       " ShelterType & Province & City & TargetPopulation & Gender & ShelterName & Beds\\\\\n",
       "\\hline\n",
       "\t Transitional                                              & AB                                                        & Calgary                                                   & General                                                   & Male                                                      & Calgary Dream Centre                                      & 125                                                      \\\\\n",
       "\t Transitional                                              & AB                                                        & Edmonton                                                  & General                                                   & Male                                                      & Urban Manor                                               &  75                                                      \\\\\n",
       "\t Transitional                                              & AB                                                        & Gunn                                                      & General                                                   & Male                                                      & Gunn Centre                                               & 115                                                      \\\\\n",
       "\t Transitional                                              & BC                                                        & Kamloops                                                  & General                                                   & Male                                                      & Kamloops Safe Housing Society                             &   7                                                      \\\\\n",
       "\t Transitional                                              & BC                                                        & Nanaimo                                                   & General                                                   & Male                                                      & New Hope Centre Transitional                              &   8                                                      \\\\\n",
       "\t Transitional                                              & BC                                                        & Vancouver                                                 & General                                                   & Male                                                      & Lookout - Pender Residence                                &  18                                                      \\\\\n",
       "\t Transitional                                              & BC                                                        & Vancouver                                                 & General                                                   & Male                                                      & Union Gospel Mission                                      &  37                                                      \\\\\n",
       "\t Transitional                                              & MB                                                        & Brandon                                                   & Youth                                                     & Male                                                      & Uturn 1                                                   &   5                                                      \\\\\n",
       "\t Transitional                                              & MB                                                        & Swan River                                                & General                                                   & Male                                                      & E.C.H.O. Transitional Housing                             &  17                                                      \\\\\n",
       "\t Transitional                                              & MB                                                        & Winnipeg                                                  & General                                                   & Male                                                      & Booth Centre - The Haven                                  &  18                                                      \\\\\n",
       "\t Transitional                                              & MB                                                        & Winnipeg                                                  & General                                                   & Male                                                      & Forward House Ministries Inc.                             &  40                                                      \\\\\n",
       "\t Transitional                                              & NL                                                        & Goose Bay                                                 & General                                                   & Male                                                      & Independent Supportive Living Program                     &   2                                                      \\\\\n",
       "\t Transitional                                              & NS                                                        & Halifax                                                   & General                                                   & Male                                                      & The Salvation Army - Anchorage Halifax                    &  19                                                      \\\\\n",
       "\t Transitional                                              & ON                                                        & Cambridge                                                 & General                                                   & Male                                                      & Saginaw House                                             &   9                                                      \\\\\n",
       "\t Transitional                                              & ON                                                        & Cambridge                                                 & Youth                                                     & Male                                                      & Five Beds To Home                                         &   5                                                      \\\\\n",
       "\t Transitional                                              & ON                                                        & Guelph                                                    & Youth                                                     & Male                                                      & Wyndham House for Young Men                               &   8                                                      \\\\\n",
       "\t Transitional                                              & ON                                                        & Kitchener                                                 & Youth                                                     & Male                                                      & Kiwanis House                                             &   6                                                      \\\\\n",
       "\t Transitional                                              & ON                                                        & London                                                    & General                                                   & Male                                                      & Men's Mission and Rehabilitation Centre-Transitional Beds &  35                                                      \\\\\n",
       "\t Transitional                                              & ON                                                        & Oshawa                                                    & General                                                   & Male                                                      & Cornerstone - Transitional                                &  10                                                      \\\\\n",
       "\t Transitional                                              & ON                                                        & Ottawa                                                    & General                                                   & Male                                                      & Ottawa Mission - Fifth Avenue                             &   5                                                      \\\\\n",
       "\t Transitional                                              & ON                                                        & Ottawa                                                    & General                                                   & Male                                                      & Ottawa Mission - Lifehouse                                &  11                                                      \\\\\n",
       "\t Transitional                                              & ON                                                        & Ottawa                                                    & General                                                   & Male                                                      & Ottawa Mission - Woodlawn                                 &   6                                                      \\\\\n",
       "\t Transitional                                              & ON                                                        & Ottawa                                                    & Youth                                                     & Male                                                      & Young Men's Transitional Housing                          &  12                                                      \\\\\n",
       "\t Transitional                                              & ON                                                        & St. Catharine's                                           & General                                                   & Male                                                      & Niagara Regional Men's Withdrawl Management Service       &  18                                                      \\\\\n",
       "\t Transitional                                              & ON                                                        & St. Thomas                                                & General                                                   & Male                                                      & YWCA - Second Story                                       &   7                                                      \\\\\n",
       "\t Transitional                                              & ON                                                        & St. Thomas                                                & Youth                                                     & Male                                                      & Fair Winds                                                &   3                                                      \\\\\n",
       "\t Transitional                                              & ON                                                        & Toronto                                                   & General                                                   & Male                                                      & Maxwell Meighen - Primary Support                         &  10                                                      \\\\\n",
       "\t Transitional                                              & ON                                                        & Toronto                                                   & General                                                   & Male                                                      & Maxwell Meighen Centre Turning Point                      &  20                                                      \\\\\n",
       "\t Transitional                                              & ON                                                        & Toronto                                                   & General                                                   & Male                                                      & Maxwell Meighen Transition To Housing                     &  10                                                      \\\\\n",
       "\t Transitional                                              & ON                                                        & Toronto                                                   & General                                                   & Male                                                      & Sagatay                                                   &  22                                                      \\\\\n",
       "\t ... & ... & ... & ... & ... & ... & ...\\\\\n",
       "\t Transitional                                     & QC                                               & Montreal                                         & General                                          & Male                                             & L'Escale Notre-Dame                              & 15                                              \\\\\n",
       "\t Transitional                                     & QC                                               & Montreal                                         & General                                          & Male                                             & Mission Bon Accueil - C'est ma Place             &  0                                              \\\\\n",
       "\t Transitional                                     & QC                                               & Montreal                                         & General                                          & Male                                             & Mission Bon Accueil - R<e9>sident / Gratuit      &  0                                              \\\\\n",
       "\t Transitional                                     & QC                                               & Montreal                                         & General                                          & Male                                             & OBM - Maison Roger Beaulieu                      & 42                                              \\\\\n",
       "\t Transitional                                     & QC                                               & Montreal                                         & General                                          & Male                                             & OBM - Marcel et Jean Coutu Pavillion             & 30                                              \\\\\n",
       "\t Transitional                                     & QC                                               & Montreal                                         & General                                          & Male                                             & OBM - Webster COMPASS                            &  7                                              \\\\\n",
       "\t Transitional                                     & QC                                               & Montreal                                         & General                                          & Male                                             & OBM - Webster Douglas                            &  4                                              \\\\\n",
       "\t Transitional                                     & QC                                               & Montreal                                         & General                                          & Male                                             & OBM - Webster Escale                             & 58                                              \\\\\n",
       "\t Transitional                                     & QC                                               & Montreal                                         & General                                          & Male                                             & OBM - Webster ETAPE C                            & 44                                              \\\\\n",
       "\t Transitional                                     & QC                                               & Montreal                                         & General                                          & Male                                             & OBM - Webster PASS                               & 14                                              \\\\\n",
       "\t Transitional                                     & QC                                               & Montreal                                         & General                                          & Male                                             & OBM - Webster RELAIS                             & 34                                              \\\\\n",
       "\t Transitional                                     & QC                                               & Montreal                                         & General                                          & Male                                             & OBM - Webster RELAIS II                          & 20                                              \\\\\n",
       "\t Transitional                                     & QC                                               & Montreal                                         & General                                          & Male                                             & R<e9>sidence du vieux port                       & 40                                              \\\\\n",
       "\t Transitional                                     & QC                                               & Montreal                                         & General                                          & Male                                             & R<e9>sidence Omer Desch<ea>nes                   & 23                                              \\\\\n",
       "\t Transitional                                     & QC                                               & Montreal                                         & General                                          & Male                                             & Residences Bon Accueil - Transitional            & 25                                              \\\\\n",
       "\t Transitional                                     & QC                                               & Quebec City                                      & General                                          & Male                                             & H<f4>tellerie pour Hommes de l'Arm<e9>e du Salut & 61                                              \\\\\n",
       "\t Transitional                                     & QC                                               & Quebec City                                      & Youth                                            & Male                                             & G<ee>te Jeunesse (R<e9>sidence Beauport)         & 14                                              \\\\\n",
       "\t Transitional                                     & QC                                               & Roxton Falls                                     & General                                          & Male                                             & La Petite ferme de l'auberge                     & 10                                              \\\\\n",
       "\t Transitional                                     & QC                                               & Sherbrooke                                       & General                                          & Male                                             & Maison Marie-Jeanne                              & 10                                              \\\\\n",
       "\t Transitional                                     & SK                                               & Prince Albert                                    & General                                          & Male                                             & Prince Albert Grand Council Transitional House   & 14                                              \\\\\n",
       "\t Transitional                                     & SK                                               & Regina                                           & General                                          & Male                                             & Waterston House                                  & 40                                              \\\\\n",
       "\t Transitional                                     & SK                                               & Regina                                           & General                                          & Male                                             & YMCA Residence                                   & 12                                              \\\\\n",
       "\t Transitional                                     & SK                                               & Saskatoon                                        & General                                          & Male                                             & Long term residents                              &  9                                              \\\\\n",
       "\t Transitional                                     & SK                                               & Saskatoon                                        & General                                          & Male                                             & McLeod House                                     & 16                                              \\\\\n",
       "\t Transitional                                     & SK                                               & Saskatoon                                        & General                                          & Male                                             & SCC Transitional Housing                         & 12                                              \\\\\n",
       "\t Transitional                                     & SK                                               & Saskatoon                                        & Youth                                            & Male                                             & Basswood House                                   &  5                                              \\\\\n",
       "\t Transitional                                     & SK                                               & Saskatoon                                        & Youth                                            & Male                                             & Cedar House                                      &  5                                              \\\\\n",
       "\t Transitional                                     & SK                                               & Saskatoon                                        & Youth                                            & Male                                             & Jay's Place                                      &  5                                              \\\\\n",
       "\t Transitional                                     & SK                                               & Saskatoon                                        & Youth                                            & Male                                             & Pine Place                                       &  5                                              \\\\\n",
       "\t Transitional                                     & SK                                               & Saskatoon                                        & Youth                                            & Male                                             & Quint Male Youth Lodge                           & 10                                              \\\\\n",
       "\\end{tabular}\n"
      ],
      "text/markdown": [
       "\n",
       "ShelterType | Province | City | TargetPopulation | Gender | ShelterName | Beds | \n",
       "|---|---|---|---|---|---|---|---|---|---|---|---|---|---|---|---|---|---|---|---|---|---|---|---|---|---|---|---|---|---|---|---|---|---|---|---|---|---|---|---|---|---|---|---|---|---|---|---|---|---|---|---|---|---|---|---|---|---|---|---|---|\n",
       "| Transitional                                              | AB                                                        | Calgary                                                   | General                                                   | Male                                                      | Calgary Dream Centre                                      | 125                                                       | \n",
       "| Transitional                                              | AB                                                        | Edmonton                                                  | General                                                   | Male                                                      | Urban Manor                                               |  75                                                       | \n",
       "| Transitional                                              | AB                                                        | Gunn                                                      | General                                                   | Male                                                      | Gunn Centre                                               | 115                                                       | \n",
       "| Transitional                                              | BC                                                        | Kamloops                                                  | General                                                   | Male                                                      | Kamloops Safe Housing Society                             |   7                                                       | \n",
       "| Transitional                                              | BC                                                        | Nanaimo                                                   | General                                                   | Male                                                      | New Hope Centre Transitional                              |   8                                                       | \n",
       "| Transitional                                              | BC                                                        | Vancouver                                                 | General                                                   | Male                                                      | Lookout - Pender Residence                                |  18                                                       | \n",
       "| Transitional                                              | BC                                                        | Vancouver                                                 | General                                                   | Male                                                      | Union Gospel Mission                                      |  37                                                       | \n",
       "| Transitional                                              | MB                                                        | Brandon                                                   | Youth                                                     | Male                                                      | Uturn 1                                                   |   5                                                       | \n",
       "| Transitional                                              | MB                                                        | Swan River                                                | General                                                   | Male                                                      | E.C.H.O. Transitional Housing                             |  17                                                       | \n",
       "| Transitional                                              | MB                                                        | Winnipeg                                                  | General                                                   | Male                                                      | Booth Centre - The Haven                                  |  18                                                       | \n",
       "| Transitional                                              | MB                                                        | Winnipeg                                                  | General                                                   | Male                                                      | Forward House Ministries Inc.                             |  40                                                       | \n",
       "| Transitional                                              | NL                                                        | Goose Bay                                                 | General                                                   | Male                                                      | Independent Supportive Living Program                     |   2                                                       | \n",
       "| Transitional                                              | NS                                                        | Halifax                                                   | General                                                   | Male                                                      | The Salvation Army - Anchorage Halifax                    |  19                                                       | \n",
       "| Transitional                                              | ON                                                        | Cambridge                                                 | General                                                   | Male                                                      | Saginaw House                                             |   9                                                       | \n",
       "| Transitional                                              | ON                                                        | Cambridge                                                 | Youth                                                     | Male                                                      | Five Beds To Home                                         |   5                                                       | \n",
       "| Transitional                                              | ON                                                        | Guelph                                                    | Youth                                                     | Male                                                      | Wyndham House for Young Men                               |   8                                                       | \n",
       "| Transitional                                              | ON                                                        | Kitchener                                                 | Youth                                                     | Male                                                      | Kiwanis House                                             |   6                                                       | \n",
       "| Transitional                                              | ON                                                        | London                                                    | General                                                   | Male                                                      | Men's Mission and Rehabilitation Centre-Transitional Beds |  35                                                       | \n",
       "| Transitional                                              | ON                                                        | Oshawa                                                    | General                                                   | Male                                                      | Cornerstone - Transitional                                |  10                                                       | \n",
       "| Transitional                                              | ON                                                        | Ottawa                                                    | General                                                   | Male                                                      | Ottawa Mission - Fifth Avenue                             |   5                                                       | \n",
       "| Transitional                                              | ON                                                        | Ottawa                                                    | General                                                   | Male                                                      | Ottawa Mission - Lifehouse                                |  11                                                       | \n",
       "| Transitional                                              | ON                                                        | Ottawa                                                    | General                                                   | Male                                                      | Ottawa Mission - Woodlawn                                 |   6                                                       | \n",
       "| Transitional                                              | ON                                                        | Ottawa                                                    | Youth                                                     | Male                                                      | Young Men's Transitional Housing                          |  12                                                       | \n",
       "| Transitional                                              | ON                                                        | St. Catharine's                                           | General                                                   | Male                                                      | Niagara Regional Men's Withdrawl Management Service       |  18                                                       | \n",
       "| Transitional                                              | ON                                                        | St. Thomas                                                | General                                                   | Male                                                      | YWCA - Second Story                                       |   7                                                       | \n",
       "| Transitional                                              | ON                                                        | St. Thomas                                                | Youth                                                     | Male                                                      | Fair Winds                                                |   3                                                       | \n",
       "| Transitional                                              | ON                                                        | Toronto                                                   | General                                                   | Male                                                      | Maxwell Meighen - Primary Support                         |  10                                                       | \n",
       "| Transitional                                              | ON                                                        | Toronto                                                   | General                                                   | Male                                                      | Maxwell Meighen Centre Turning Point                      |  20                                                       | \n",
       "| Transitional                                              | ON                                                        | Toronto                                                   | General                                                   | Male                                                      | Maxwell Meighen Transition To Housing                     |  10                                                       | \n",
       "| Transitional                                              | ON                                                        | Toronto                                                   | General                                                   | Male                                                      | Sagatay                                                   |  22                                                       | \n",
       "| ... | ... | ... | ... | ... | ... | ... | \n",
       "| Transitional                                     | QC                                               | Montreal                                         | General                                          | Male                                             | L'Escale Notre-Dame                              | 15                                               | \n",
       "| Transitional                                     | QC                                               | Montreal                                         | General                                          | Male                                             | Mission Bon Accueil - C'est ma Place             |  0                                               | \n",
       "| Transitional                                     | QC                                               | Montreal                                         | General                                          | Male                                             | Mission Bon Accueil - R<e9>sident / Gratuit      |  0                                               | \n",
       "| Transitional                                     | QC                                               | Montreal                                         | General                                          | Male                                             | OBM - Maison Roger Beaulieu                      | 42                                               | \n",
       "| Transitional                                     | QC                                               | Montreal                                         | General                                          | Male                                             | OBM - Marcel et Jean Coutu Pavillion             | 30                                               | \n",
       "| Transitional                                     | QC                                               | Montreal                                         | General                                          | Male                                             | OBM - Webster COMPASS                            |  7                                               | \n",
       "| Transitional                                     | QC                                               | Montreal                                         | General                                          | Male                                             | OBM - Webster Douglas                            |  4                                               | \n",
       "| Transitional                                     | QC                                               | Montreal                                         | General                                          | Male                                             | OBM - Webster Escale                             | 58                                               | \n",
       "| Transitional                                     | QC                                               | Montreal                                         | General                                          | Male                                             | OBM - Webster ETAPE C                            | 44                                               | \n",
       "| Transitional                                     | QC                                               | Montreal                                         | General                                          | Male                                             | OBM - Webster PASS                               | 14                                               | \n",
       "| Transitional                                     | QC                                               | Montreal                                         | General                                          | Male                                             | OBM - Webster RELAIS                             | 34                                               | \n",
       "| Transitional                                     | QC                                               | Montreal                                         | General                                          | Male                                             | OBM - Webster RELAIS II                          | 20                                               | \n",
       "| Transitional                                     | QC                                               | Montreal                                         | General                                          | Male                                             | R<e9>sidence du vieux port                       | 40                                               | \n",
       "| Transitional                                     | QC                                               | Montreal                                         | General                                          | Male                                             | R<e9>sidence Omer Desch<ea>nes                   | 23                                               | \n",
       "| Transitional                                     | QC                                               | Montreal                                         | General                                          | Male                                             | Residences Bon Accueil - Transitional            | 25                                               | \n",
       "| Transitional                                     | QC                                               | Quebec City                                      | General                                          | Male                                             | H<f4>tellerie pour Hommes de l'Arm<e9>e du Salut | 61                                               | \n",
       "| Transitional                                     | QC                                               | Quebec City                                      | Youth                                            | Male                                             | G<ee>te Jeunesse (R<e9>sidence Beauport)         | 14                                               | \n",
       "| Transitional                                     | QC                                               | Roxton Falls                                     | General                                          | Male                                             | La Petite ferme de l'auberge                     | 10                                               | \n",
       "| Transitional                                     | QC                                               | Sherbrooke                                       | General                                          | Male                                             | Maison Marie-Jeanne                              | 10                                               | \n",
       "| Transitional                                     | SK                                               | Prince Albert                                    | General                                          | Male                                             | Prince Albert Grand Council Transitional House   | 14                                               | \n",
       "| Transitional                                     | SK                                               | Regina                                           | General                                          | Male                                             | Waterston House                                  | 40                                               | \n",
       "| Transitional                                     | SK                                               | Regina                                           | General                                          | Male                                             | YMCA Residence                                   | 12                                               | \n",
       "| Transitional                                     | SK                                               | Saskatoon                                        | General                                          | Male                                             | Long term residents                              |  9                                               | \n",
       "| Transitional                                     | SK                                               | Saskatoon                                        | General                                          | Male                                             | McLeod House                                     | 16                                               | \n",
       "| Transitional                                     | SK                                               | Saskatoon                                        | General                                          | Male                                             | SCC Transitional Housing                         | 12                                               | \n",
       "| Transitional                                     | SK                                               | Saskatoon                                        | Youth                                            | Male                                             | Basswood House                                   |  5                                               | \n",
       "| Transitional                                     | SK                                               | Saskatoon                                        | Youth                                            | Male                                             | Cedar House                                      |  5                                               | \n",
       "| Transitional                                     | SK                                               | Saskatoon                                        | Youth                                            | Male                                             | Jay's Place                                      |  5                                               | \n",
       "| Transitional                                     | SK                                               | Saskatoon                                        | Youth                                            | Male                                             | Pine Place                                       |  5                                               | \n",
       "| Transitional                                     | SK                                               | Saskatoon                                        | Youth                                            | Male                                             | Quint Male Youth Lodge                           | 10                                               | \n",
       "\n",
       "\n"
      ],
      "text/plain": [
       "    ShelterType  Province City            TargetPopulation Gender\n",
       "1   Transitional AB       Calgary         General          Male  \n",
       "2   Transitional AB       Edmonton        General          Male  \n",
       "3   Transitional AB       Gunn            General          Male  \n",
       "4   Transitional BC       Kamloops        General          Male  \n",
       "5   Transitional BC       Nanaimo         General          Male  \n",
       "6   Transitional BC       Vancouver       General          Male  \n",
       "7   Transitional BC       Vancouver       General          Male  \n",
       "8   Transitional MB       Brandon         Youth            Male  \n",
       "9   Transitional MB       Swan River      General          Male  \n",
       "10  Transitional MB       Winnipeg        General          Male  \n",
       "11  Transitional MB       Winnipeg        General          Male  \n",
       "12  Transitional NL       Goose Bay       General          Male  \n",
       "13  Transitional NS       Halifax         General          Male  \n",
       "14  Transitional ON       Cambridge       General          Male  \n",
       "15  Transitional ON       Cambridge       Youth            Male  \n",
       "16  Transitional ON       Guelph          Youth            Male  \n",
       "17  Transitional ON       Kitchener       Youth            Male  \n",
       "18  Transitional ON       London          General          Male  \n",
       "19  Transitional ON       Oshawa          General          Male  \n",
       "20  Transitional ON       Ottawa          General          Male  \n",
       "21  Transitional ON       Ottawa          General          Male  \n",
       "22  Transitional ON       Ottawa          General          Male  \n",
       "23  Transitional ON       Ottawa          Youth            Male  \n",
       "24  Transitional ON       St. Catharine's General          Male  \n",
       "25  Transitional ON       St. Thomas      General          Male  \n",
       "26  Transitional ON       St. Thomas      Youth            Male  \n",
       "27  Transitional ON       Toronto         General          Male  \n",
       "28  Transitional ON       Toronto         General          Male  \n",
       "29  Transitional ON       Toronto         General          Male  \n",
       "30  Transitional ON       Toronto         General          Male  \n",
       "... ...          ...      ...             ...              ...   \n",
       "43  Transitional QC       Montreal        General          Male  \n",
       "44  Transitional QC       Montreal        General          Male  \n",
       "45  Transitional QC       Montreal        General          Male  \n",
       "46  Transitional QC       Montreal        General          Male  \n",
       "47  Transitional QC       Montreal        General          Male  \n",
       "48  Transitional QC       Montreal        General          Male  \n",
       "49  Transitional QC       Montreal        General          Male  \n",
       "50  Transitional QC       Montreal        General          Male  \n",
       "51  Transitional QC       Montreal        General          Male  \n",
       "52  Transitional QC       Montreal        General          Male  \n",
       "53  Transitional QC       Montreal        General          Male  \n",
       "54  Transitional QC       Montreal        General          Male  \n",
       "55  Transitional QC       Montreal        General          Male  \n",
       "56  Transitional QC       Montreal        General          Male  \n",
       "57  Transitional QC       Montreal        General          Male  \n",
       "58  Transitional QC       Quebec City     General          Male  \n",
       "59  Transitional QC       Quebec City     Youth            Male  \n",
       "60  Transitional QC       Roxton Falls    General          Male  \n",
       "61  Transitional QC       Sherbrooke      General          Male  \n",
       "62  Transitional SK       Prince Albert   General          Male  \n",
       "63  Transitional SK       Regina          General          Male  \n",
       "64  Transitional SK       Regina          General          Male  \n",
       "65  Transitional SK       Saskatoon       General          Male  \n",
       "66  Transitional SK       Saskatoon       General          Male  \n",
       "67  Transitional SK       Saskatoon       General          Male  \n",
       "68  Transitional SK       Saskatoon       Youth            Male  \n",
       "69  Transitional SK       Saskatoon       Youth            Male  \n",
       "70  Transitional SK       Saskatoon       Youth            Male  \n",
       "71  Transitional SK       Saskatoon       Youth            Male  \n",
       "72  Transitional SK       Saskatoon       Youth            Male  \n",
       "    ShelterName                                               Beds\n",
       "1   Calgary Dream Centre                                      125 \n",
       "2   Urban Manor                                                75 \n",
       "3   Gunn Centre                                               115 \n",
       "4   Kamloops Safe Housing Society                               7 \n",
       "5   New Hope Centre Transitional                                8 \n",
       "6   Lookout - Pender Residence                                 18 \n",
       "7   Union Gospel Mission                                       37 \n",
       "8   Uturn 1                                                     5 \n",
       "9   E.C.H.O. Transitional Housing                              17 \n",
       "10  Booth Centre - The Haven                                   18 \n",
       "11  Forward House Ministries Inc.                              40 \n",
       "12  Independent Supportive Living Program                       2 \n",
       "13  The Salvation Army - Anchorage Halifax                     19 \n",
       "14  Saginaw House                                               9 \n",
       "15  Five Beds To Home                                           5 \n",
       "16  Wyndham House for Young Men                                 8 \n",
       "17  Kiwanis House                                               6 \n",
       "18  Men's Mission and Rehabilitation Centre-Transitional Beds  35 \n",
       "19  Cornerstone - Transitional                                 10 \n",
       "20  Ottawa Mission - Fifth Avenue                               5 \n",
       "21  Ottawa Mission - Lifehouse                                 11 \n",
       "22  Ottawa Mission - Woodlawn                                   6 \n",
       "23  Young Men's Transitional Housing                           12 \n",
       "24  Niagara Regional Men's Withdrawl Management Service        18 \n",
       "25  YWCA - Second Story                                         7 \n",
       "26  Fair Winds                                                  3 \n",
       "27  Maxwell Meighen - Primary Support                          10 \n",
       "28  Maxwell Meighen Centre Turning Point                       20 \n",
       "29  Maxwell Meighen Transition To Housing                      10 \n",
       "30  Sagatay                                                    22 \n",
       "... ...                                                       ... \n",
       "43  L'Escale Notre-Dame                                       15  \n",
       "44  Mission Bon Accueil - C'est ma Place                       0  \n",
       "45  Mission Bon Accueil - R<e9>sident / Gratuit                0  \n",
       "46  OBM - Maison Roger Beaulieu                               42  \n",
       "47  OBM - Marcel et Jean Coutu Pavillion                      30  \n",
       "48  OBM - Webster COMPASS                                      7  \n",
       "49  OBM - Webster Douglas                                      4  \n",
       "50  OBM - Webster Escale                                      58  \n",
       "51  OBM - Webster ETAPE C                                     44  \n",
       "52  OBM - Webster PASS                                        14  \n",
       "53  OBM - Webster RELAIS                                      34  \n",
       "54  OBM - Webster RELAIS II                                   20  \n",
       "55  R<e9>sidence du vieux port                                40  \n",
       "56  R<e9>sidence Omer Desch<ea>nes                            23  \n",
       "57  Residences Bon Accueil - Transitional                     25  \n",
       "58  H<f4>tellerie pour Hommes de l'Arm<e9>e du Salut          61  \n",
       "59  G<ee>te Jeunesse (R<e9>sidence Beauport)                  14  \n",
       "60  La Petite ferme de l'auberge                              10  \n",
       "61  Maison Marie-Jeanne                                       10  \n",
       "62  Prince Albert Grand Council Transitional House            14  \n",
       "63  Waterston House                                           40  \n",
       "64  YMCA Residence                                            12  \n",
       "65  Long term residents                                        9  \n",
       "66  McLeod House                                              16  \n",
       "67  SCC Transitional Housing                                  12  \n",
       "68  Basswood House                                             5  \n",
       "69  Cedar House                                                5  \n",
       "70  Jay's Place                                                5  \n",
       "71  Pine Place                                                 5  \n",
       "72  Quint Male Youth Lodge                                    10  "
      ]
     },
     "metadata": {},
     "output_type": "display_data"
    }
   ],
   "source": [
    "glimpse(df)\n",
    "df"
   ]
  },
  {
   "cell_type": "code",
   "execution_count": 75,
   "metadata": {},
   "outputs": [
    {
     "data": {
      "text/html": [
       "<ol class=list-inline>\n",
       "\t<li>AB</li>\n",
       "\t<li>BC</li>\n",
       "\t<li>MB</li>\n",
       "\t<li>NL</li>\n",
       "\t<li>NS</li>\n",
       "\t<li>ON</li>\n",
       "\t<li>QC</li>\n",
       "\t<li>SK</li>\n",
       "</ol>\n"
      ],
      "text/latex": [
       "\\begin{enumerate*}\n",
       "\\item AB\n",
       "\\item BC\n",
       "\\item MB\n",
       "\\item NL\n",
       "\\item NS\n",
       "\\item ON\n",
       "\\item QC\n",
       "\\item SK\n",
       "\\end{enumerate*}\n"
      ],
      "text/markdown": [
       "1. AB\n",
       "2. BC\n",
       "3. MB\n",
       "4. NL\n",
       "5. NS\n",
       "6. ON\n",
       "7. QC\n",
       "8. SK\n",
       "\n",
       "\n"
      ],
      "text/plain": [
       "[1] AB BC MB NL NS ON QC SK\n",
       "Levels: AB BC MB NL NS ON QC SK"
      ]
     },
     "metadata": {},
     "output_type": "display_data"
    }
   ],
   "source": [
    "unique(df$Province)"
   ]
  },
  {
   "cell_type": "code",
   "execution_count": 76,
   "metadata": {},
   "outputs": [
    {
     "name": "stdout",
     "output_type": "stream",
     "text": [
      "Observations: 72\n",
      "Variables: 7\n",
      "$ ShelterType      <fctr> Transitional, Transitional, Transitional, Transit...\n",
      "$ Province         <fctr> AB, AB, AB, BC, BC, BC, BC, MB, MB, MB, MB, NL, N...\n",
      "$ City             <fctr> Calgary, Edmonton, Gunn, Kamloops, Nanaimo, Vanco...\n",
      "$ TargetPopulation <fctr> General, General, General, General, General, Gene...\n",
      "$ Gender           <fctr> Male, Male, Male, Male, Male, Male, Male, Male, M...\n",
      "$ ShelterName      <chr> \"Calgary Dream Centre\", \"Urban Manor\", \"Gunn Centr...\n",
      "$ Beds             <dbl> 125, 75, 115, 7, 8, 18, 37, 5, 17, 18, 40, 2, 19, ...\n"
     ]
    },
    {
     "data": {
      "text/html": [
       "<table>\n",
       "<thead><tr><th scope=col>ShelterType</th><th scope=col>Province</th><th scope=col>City</th><th scope=col>TargetPopulation</th><th scope=col>Gender</th><th scope=col>ShelterName</th><th scope=col>Beds</th></tr></thead>\n",
       "<tbody>\n",
       "\t<tr><td>Transitional                 </td><td>AB                           </td><td>Calgary                      </td><td>General                      </td><td>Male                         </td><td>Calgary Dream Centre         </td><td>125                          </td></tr>\n",
       "\t<tr><td>Transitional                 </td><td>AB                           </td><td>Edmonton                     </td><td>General                      </td><td>Male                         </td><td>Urban Manor                  </td><td> 75                          </td></tr>\n",
       "\t<tr><td>Transitional                 </td><td>AB                           </td><td>Gunn                         </td><td>General                      </td><td>Male                         </td><td>Gunn Centre                  </td><td>115                          </td></tr>\n",
       "\t<tr><td>Transitional                 </td><td>BC                           </td><td>Kamloops                     </td><td>General                      </td><td>Male                         </td><td>Kamloops Safe Housing Society</td><td>  7                          </td></tr>\n",
       "\t<tr><td>Transitional                 </td><td>BC                           </td><td>Nanaimo                      </td><td>General                      </td><td>Male                         </td><td>New Hope Centre Transitional </td><td>  8                          </td></tr>\n",
       "\t<tr><td>Transitional                 </td><td>BC                           </td><td>Vancouver                    </td><td>General                      </td><td>Male                         </td><td>Lookout - Pender Residence   </td><td> 18                          </td></tr>\n",
       "</tbody>\n",
       "</table>\n"
      ],
      "text/latex": [
       "\\begin{tabular}{r|lllllll}\n",
       " ShelterType & Province & City & TargetPopulation & Gender & ShelterName & Beds\\\\\n",
       "\\hline\n",
       "\t Transitional                  & AB                            & Calgary                       & General                       & Male                          & Calgary Dream Centre          & 125                          \\\\\n",
       "\t Transitional                  & AB                            & Edmonton                      & General                       & Male                          & Urban Manor                   &  75                          \\\\\n",
       "\t Transitional                  & AB                            & Gunn                          & General                       & Male                          & Gunn Centre                   & 115                          \\\\\n",
       "\t Transitional                  & BC                            & Kamloops                      & General                       & Male                          & Kamloops Safe Housing Society &   7                          \\\\\n",
       "\t Transitional                  & BC                            & Nanaimo                       & General                       & Male                          & New Hope Centre Transitional  &   8                          \\\\\n",
       "\t Transitional                  & BC                            & Vancouver                     & General                       & Male                          & Lookout - Pender Residence    &  18                          \\\\\n",
       "\\end{tabular}\n"
      ],
      "text/markdown": [
       "\n",
       "ShelterType | Province | City | TargetPopulation | Gender | ShelterName | Beds | \n",
       "|---|---|---|---|---|---|\n",
       "| Transitional                  | AB                            | Calgary                       | General                       | Male                          | Calgary Dream Centre          | 125                           | \n",
       "| Transitional                  | AB                            | Edmonton                      | General                       | Male                          | Urban Manor                   |  75                           | \n",
       "| Transitional                  | AB                            | Gunn                          | General                       | Male                          | Gunn Centre                   | 115                           | \n",
       "| Transitional                  | BC                            | Kamloops                      | General                       | Male                          | Kamloops Safe Housing Society |   7                           | \n",
       "| Transitional                  | BC                            | Nanaimo                       | General                       | Male                          | New Hope Centre Transitional  |   8                           | \n",
       "| Transitional                  | BC                            | Vancouver                     | General                       | Male                          | Lookout - Pender Residence    |  18                           | \n",
       "\n",
       "\n"
      ],
      "text/plain": [
       "  ShelterType  Province City      TargetPopulation Gender\n",
       "1 Transitional AB       Calgary   General          Male  \n",
       "2 Transitional AB       Edmonton  General          Male  \n",
       "3 Transitional AB       Gunn      General          Male  \n",
       "4 Transitional BC       Kamloops  General          Male  \n",
       "5 Transitional BC       Nanaimo   General          Male  \n",
       "6 Transitional BC       Vancouver General          Male  \n",
       "  ShelterName                   Beds\n",
       "1 Calgary Dream Centre          125 \n",
       "2 Urban Manor                    75 \n",
       "3 Gunn Centre                   115 \n",
       "4 Kamloops Safe Housing Society   7 \n",
       "5 New Hope Centre Transitional    8 \n",
       "6 Lookout - Pender Residence     18 "
      ]
     },
     "metadata": {},
     "output_type": "display_data"
    },
    {
     "data": {
      "text/html": [
       "<table>\n",
       "<thead><tr><th scope=col>ShelterType</th><th scope=col>Province</th><th scope=col>City</th><th scope=col>TargetPopulation</th><th scope=col>Gender</th><th scope=col>ShelterName</th><th scope=col>Beds</th></tr></thead>\n",
       "<tbody>\n",
       "\t<tr><td>Transitional            </td><td>SK                      </td><td>Saskatoon               </td><td>General                 </td><td>Male                    </td><td>SCC Transitional Housing</td><td>12                      </td></tr>\n",
       "\t<tr><td>Transitional            </td><td>SK                      </td><td>Saskatoon               </td><td>Youth                   </td><td>Male                    </td><td>Basswood House          </td><td> 5                      </td></tr>\n",
       "\t<tr><td>Transitional            </td><td>SK                      </td><td>Saskatoon               </td><td>Youth                   </td><td>Male                    </td><td>Cedar House             </td><td> 5                      </td></tr>\n",
       "\t<tr><td>Transitional            </td><td>SK                      </td><td>Saskatoon               </td><td>Youth                   </td><td>Male                    </td><td>Jay's Place             </td><td> 5                      </td></tr>\n",
       "\t<tr><td>Transitional            </td><td>SK                      </td><td>Saskatoon               </td><td>Youth                   </td><td>Male                    </td><td>Pine Place              </td><td> 5                      </td></tr>\n",
       "\t<tr><td>Transitional            </td><td>SK                      </td><td>Saskatoon               </td><td>Youth                   </td><td>Male                    </td><td>Quint Male Youth Lodge  </td><td>10                      </td></tr>\n",
       "</tbody>\n",
       "</table>\n"
      ],
      "text/latex": [
       "\\begin{tabular}{r|lllllll}\n",
       " ShelterType & Province & City & TargetPopulation & Gender & ShelterName & Beds\\\\\n",
       "\\hline\n",
       "\t Transitional             & SK                       & Saskatoon                & General                  & Male                     & SCC Transitional Housing & 12                      \\\\\n",
       "\t Transitional             & SK                       & Saskatoon                & Youth                    & Male                     & Basswood House           &  5                      \\\\\n",
       "\t Transitional             & SK                       & Saskatoon                & Youth                    & Male                     & Cedar House              &  5                      \\\\\n",
       "\t Transitional             & SK                       & Saskatoon                & Youth                    & Male                     & Jay's Place              &  5                      \\\\\n",
       "\t Transitional             & SK                       & Saskatoon                & Youth                    & Male                     & Pine Place               &  5                      \\\\\n",
       "\t Transitional             & SK                       & Saskatoon                & Youth                    & Male                     & Quint Male Youth Lodge   & 10                      \\\\\n",
       "\\end{tabular}\n"
      ],
      "text/markdown": [
       "\n",
       "ShelterType | Province | City | TargetPopulation | Gender | ShelterName | Beds | \n",
       "|---|---|---|---|---|---|\n",
       "| Transitional             | SK                       | Saskatoon                | General                  | Male                     | SCC Transitional Housing | 12                       | \n",
       "| Transitional             | SK                       | Saskatoon                | Youth                    | Male                     | Basswood House           |  5                       | \n",
       "| Transitional             | SK                       | Saskatoon                | Youth                    | Male                     | Cedar House              |  5                       | \n",
       "| Transitional             | SK                       | Saskatoon                | Youth                    | Male                     | Jay's Place              |  5                       | \n",
       "| Transitional             | SK                       | Saskatoon                | Youth                    | Male                     | Pine Place               |  5                       | \n",
       "| Transitional             | SK                       | Saskatoon                | Youth                    | Male                     | Quint Male Youth Lodge   | 10                       | \n",
       "\n",
       "\n"
      ],
      "text/plain": [
       "  ShelterType  Province City      TargetPopulation Gender\n",
       "1 Transitional SK       Saskatoon General          Male  \n",
       "2 Transitional SK       Saskatoon Youth            Male  \n",
       "3 Transitional SK       Saskatoon Youth            Male  \n",
       "4 Transitional SK       Saskatoon Youth            Male  \n",
       "5 Transitional SK       Saskatoon Youth            Male  \n",
       "6 Transitional SK       Saskatoon Youth            Male  \n",
       "  ShelterName              Beds\n",
       "1 SCC Transitional Housing 12  \n",
       "2 Basswood House            5  \n",
       "3 Cedar House               5  \n",
       "4 Jay's Place               5  \n",
       "5 Pine Place                5  \n",
       "6 Quint Male Youth Lodge   10  "
      ]
     },
     "metadata": {},
     "output_type": "display_data"
    }
   ],
   "source": [
    "glimpse(df)\n",
    "head(df)\n",
    "tail(df)"
   ]
  },
  {
   "cell_type": "code",
   "execution_count": 77,
   "metadata": {},
   "outputs": [
    {
     "data": {
      "text/html": [
       "<table>\n",
       "<thead><tr><th scope=col>Province</th><th scope=col>TotalTransitionalBedsForMales</th></tr></thead>\n",
       "<tbody>\n",
       "\t<tr><td>AB </td><td>315</td></tr>\n",
       "\t<tr><td>BC </td><td> 70</td></tr>\n",
       "\t<tr><td>MB </td><td> 80</td></tr>\n",
       "\t<tr><td>NL </td><td>  2</td></tr>\n",
       "\t<tr><td>NS </td><td> 19</td></tr>\n",
       "\t<tr><td>ON </td><td>559</td></tr>\n",
       "\t<tr><td>QC </td><td>539</td></tr>\n",
       "\t<tr><td>SK </td><td>133</td></tr>\n",
       "</tbody>\n",
       "</table>\n"
      ],
      "text/latex": [
       "\\begin{tabular}{r|ll}\n",
       " Province & TotalTransitionalBedsForMales\\\\\n",
       "\\hline\n",
       "\t AB  & 315\\\\\n",
       "\t BC  &  70\\\\\n",
       "\t MB  &  80\\\\\n",
       "\t NL  &   2\\\\\n",
       "\t NS  &  19\\\\\n",
       "\t ON  & 559\\\\\n",
       "\t QC  & 539\\\\\n",
       "\t SK  & 133\\\\\n",
       "\\end{tabular}\n"
      ],
      "text/markdown": [
       "\n",
       "Province | TotalTransitionalBedsForMales | \n",
       "|---|---|---|---|---|---|---|---|\n",
       "| AB  | 315 | \n",
       "| BC  |  70 | \n",
       "| MB  |  80 | \n",
       "| NL  |   2 | \n",
       "| NS  |  19 | \n",
       "| ON  | 559 | \n",
       "| QC  | 539 | \n",
       "| SK  | 133 | \n",
       "\n",
       "\n"
      ],
      "text/plain": [
       "  Province TotalTransitionalBedsForMales\n",
       "1 AB       315                          \n",
       "2 BC        70                          \n",
       "3 MB        80                          \n",
       "4 NL         2                          \n",
       "5 NS        19                          \n",
       "6 ON       559                          \n",
       "7 QC       539                          \n",
       "8 SK       133                          "
      ]
     },
     "metadata": {},
     "output_type": "display_data"
    }
   ],
   "source": [
    "df_Provincial <- df %>%\n",
    "  select(Province, Beds) %>%\n",
    "  group_by(Province) %>%\n",
    "  summarise(TotalTransitionalBedsForMales = sum(Beds))\n",
    "\n",
    "df_Provincial"
   ]
  },
  {
   "cell_type": "code",
   "execution_count": 78,
   "metadata": {},
   "outputs": [
    {
     "data": {
      "text/html": [
       "<table>\n",
       "<thead><tr><th scope=col>Province</th><th scope=col>TotalTransitionalBedsForMales</th></tr></thead>\n",
       "<tbody>\n",
       "\t<tr><td>AB </td><td>315</td></tr>\n",
       "\t<tr><td>BC </td><td> 70</td></tr>\n",
       "\t<tr><td>MB </td><td> 80</td></tr>\n",
       "\t<tr><td>NL </td><td>  2</td></tr>\n",
       "\t<tr><td>NS </td><td> 19</td></tr>\n",
       "\t<tr><td>ON </td><td>559</td></tr>\n",
       "\t<tr><td>QC </td><td>539</td></tr>\n",
       "\t<tr><td>SK </td><td>133</td></tr>\n",
       "\t<tr><td>PI </td><td>  0</td></tr>\n",
       "\t<tr><td>NB </td><td>  0</td></tr>\n",
       "</tbody>\n",
       "</table>\n"
      ],
      "text/latex": [
       "\\begin{tabular}{r|ll}\n",
       " Province & TotalTransitionalBedsForMales\\\\\n",
       "\\hline\n",
       "\t AB  & 315\\\\\n",
       "\t BC  &  70\\\\\n",
       "\t MB  &  80\\\\\n",
       "\t NL  &   2\\\\\n",
       "\t NS  &  19\\\\\n",
       "\t ON  & 559\\\\\n",
       "\t QC  & 539\\\\\n",
       "\t SK  & 133\\\\\n",
       "\t PI  &   0\\\\\n",
       "\t NB  &   0\\\\\n",
       "\\end{tabular}\n"
      ],
      "text/markdown": [
       "\n",
       "Province | TotalTransitionalBedsForMales | \n",
       "|---|---|---|---|---|---|---|---|---|---|\n",
       "| AB  | 315 | \n",
       "| BC  |  70 | \n",
       "| MB  |  80 | \n",
       "| NL  |   2 | \n",
       "| NS  |  19 | \n",
       "| ON  | 559 | \n",
       "| QC  | 539 | \n",
       "| SK  | 133 | \n",
       "| PI  |   0 | \n",
       "| NB  |   0 | \n",
       "\n",
       "\n"
      ],
      "text/plain": [
       "   Province TotalTransitionalBedsForMales\n",
       "1  AB       315                          \n",
       "2  BC        70                          \n",
       "3  MB        80                          \n",
       "4  NL         2                          \n",
       "5  NS        19                          \n",
       "6  ON       559                          \n",
       "7  QC       539                          \n",
       "8  SK       133                          \n",
       "9  PI         0                          \n",
       "10 NB         0                          "
      ]
     },
     "metadata": {},
     "output_type": "display_data"
    }
   ],
   "source": [
    "# add row for one province that does not have emergency beds\n",
    "\n",
    "newRow1 <- data.frame(Province = \"PI\", TotalTransitionalBedsForMales = 0)\n",
    "newRow2 <- data.frame(Province = \"NB\", TotalTransitionalBedsForMales = 0)\n",
    "\n",
    "df_Provincial <- rbind(df_Provincial, newRow1)\n",
    "df_Provincial <- rbind(df_Provincial, newRow2)\n",
    "\n",
    "df_Provincial"
   ]
  },
  {
   "cell_type": "code",
   "execution_count": 79,
   "metadata": {},
   "outputs": [
    {
     "name": "stdout",
     "output_type": "stream",
     "text": [
      "Observations: 10\n",
      "Variables: 3\n",
      "$ Province                      <fctr> AB, BC, MB, NL, NS, ON, QC, SK, PI, NB\n",
      "$ TotalTransitionalBedsForMales <dbl> 315, 70, 80, 2, 19, 559, 539, 133, 0, 0\n",
      "$ TotalProvincialPopulationMale <dbl> 2169133, 2389487, 666770, 260610, 467...\n"
     ]
    },
    {
     "data": {
      "text/html": [
       "<table>\n",
       "<thead><tr><th scope=col>Province</th><th scope=col>TotalTransitionalBedsForMales</th><th scope=col>TotalProvincialPopulationMale</th></tr></thead>\n",
       "<tbody>\n",
       "\t<tr><td>AB     </td><td>315    </td><td>2169133</td></tr>\n",
       "\t<tr><td>BC     </td><td> 70    </td><td>2389487</td></tr>\n",
       "\t<tr><td>MB     </td><td> 80    </td><td> 666770</td></tr>\n",
       "\t<tr><td>NL     </td><td>  2    </td><td> 260610</td></tr>\n",
       "\t<tr><td>NS     </td><td> 19    </td><td> 467841</td></tr>\n",
       "\t<tr><td>ON     </td><td>559    </td><td>6980810</td></tr>\n",
       "\t<tr><td>QC     </td><td>539    </td><td>4174425</td></tr>\n",
       "\t<tr><td>SK     </td><td>133    </td><td> 586867</td></tr>\n",
       "\t<tr><td>PI     </td><td>  0    </td><td>  74355</td></tr>\n",
       "\t<tr><td>NB     </td><td>  0    </td><td> 375405</td></tr>\n",
       "</tbody>\n",
       "</table>\n"
      ],
      "text/latex": [
       "\\begin{tabular}{r|lll}\n",
       " Province & TotalTransitionalBedsForMales & TotalProvincialPopulationMale\\\\\n",
       "\\hline\n",
       "\t AB      & 315     & 2169133\\\\\n",
       "\t BC      &  70     & 2389487\\\\\n",
       "\t MB      &  80     &  666770\\\\\n",
       "\t NL      &   2     &  260610\\\\\n",
       "\t NS      &  19     &  467841\\\\\n",
       "\t ON      & 559     & 6980810\\\\\n",
       "\t QC      & 539     & 4174425\\\\\n",
       "\t SK      & 133     &  586867\\\\\n",
       "\t PI      &   0     &   74355\\\\\n",
       "\t NB      &   0     &  375405\\\\\n",
       "\\end{tabular}\n"
      ],
      "text/markdown": [
       "\n",
       "Province | TotalTransitionalBedsForMales | TotalProvincialPopulationMale | \n",
       "|---|---|---|---|---|---|---|---|---|---|\n",
       "| AB      | 315     | 2169133 | \n",
       "| BC      |  70     | 2389487 | \n",
       "| MB      |  80     |  666770 | \n",
       "| NL      |   2     |  260610 | \n",
       "| NS      |  19     |  467841 | \n",
       "| ON      | 559     | 6980810 | \n",
       "| QC      | 539     | 4174425 | \n",
       "| SK      | 133     |  586867 | \n",
       "| PI      |   0     |   74355 | \n",
       "| NB      |   0     |  375405 | \n",
       "\n",
       "\n"
      ],
      "text/plain": [
       "   Province TotalTransitionalBedsForMales TotalProvincialPopulationMale\n",
       "1  AB       315                           2169133                      \n",
       "2  BC        70                           2389487                      \n",
       "3  MB        80                            666770                      \n",
       "4  NL         2                            260610                      \n",
       "5  NS        19                            467841                      \n",
       "6  ON       559                           6980810                      \n",
       "7  QC       539                           4174425                      \n",
       "8  SK       133                            586867                      \n",
       "9  PI         0                             74355                      \n",
       "10 NB         0                            375405                      "
      ]
     },
     "metadata": {},
     "output_type": "display_data"
    }
   ],
   "source": [
    "# Add 2017 population stats for each province\n",
    "# Source: https://www150.statcan.gc.ca/t1/tbl1/en/tv.action?pid=1710000501&pickMembers%5B0%5D=1.10&pickMembers%5B1%5D=2.1\n",
    "\n",
    "df_Provincial$TotalProvincialPopulationMale <- 0\n",
    "\n",
    "df_Provincial$TotalProvincialPopulationMale[df_Provincial$Province == \"AB\"] <- 2169133\n",
    "df_Provincial$TotalProvincialPopulationMale[df_Provincial$Province == \"BC\"] <- 2389487\n",
    "df_Provincial$TotalProvincialPopulationMale[df_Provincial$Province == \"MB\"] <- 666770\n",
    "df_Provincial$TotalProvincialPopulationMale[df_Provincial$Province == \"NB\"] <- 375405\n",
    "df_Provincial$TotalProvincialPopulationMale[df_Provincial$Province == \"NL\"] <- 260610\n",
    "df_Provincial$TotalProvincialPopulationMale[df_Provincial$Province == \"NS\"] <- 467841\n",
    "df_Provincial$TotalProvincialPopulationMale[df_Provincial$Province == \"NT\"] <- 22837\n",
    "df_Provincial$TotalProvincialPopulationMale[df_Provincial$Province == \"NU\"] <- 19687\n",
    "df_Provincial$TotalProvincialPopulationMale[df_Provincial$Province == \"ON\"] <- 6980810\n",
    "df_Provincial$TotalProvincialPopulationMale[df_Provincial$Province == \"PI\"] <- 74355\n",
    "df_Provincial$TotalProvincialPopulationMale[df_Provincial$Province == \"QC\"] <- 4174425\n",
    "df_Provincial$TotalProvincialPopulationMale[df_Provincial$Province == \"SK\"] <- 586867\n",
    "df_Provincial$TotalProvincialPopulationMale[df_Provincial$Province == \"YT\"] <- 19614\n",
    "\n",
    "glimpse(df_Provincial)\n",
    "df_Provincial"
   ]
  },
  {
   "cell_type": "code",
   "execution_count": 80,
   "metadata": {},
   "outputs": [
    {
     "name": "stdout",
     "output_type": "stream",
     "text": [
      "Observations: 10\n",
      "Variables: 4\n",
      "$ Province                        <fctr> AB, BC, MB, NL, NS, ON, QC, SK, PI...\n",
      "$ TotalTransitionalBedsForMales   <dbl> 315, 70, 80, 2, 19, 559, 539, 133, ...\n",
      "$ TotalProvincialPopulationMale   <dbl> 2169133, 2389487, 666770, 260610, 4...\n",
      "$ TransitionalBedsForMalesPer100K <dbl> 15, 3, 12, 1, 4, 8, 13, 23, 0, 0\n"
     ]
    },
    {
     "data": {
      "text/html": [
       "<table>\n",
       "<thead><tr><th scope=col>Province</th><th scope=col>TotalTransitionalBedsForMales</th><th scope=col>TotalProvincialPopulationMale</th><th scope=col>TransitionalBedsForMalesPer100K</th></tr></thead>\n",
       "<tbody>\n",
       "\t<tr><td>AB     </td><td>315    </td><td>2169133</td><td>15     </td></tr>\n",
       "\t<tr><td>BC     </td><td> 70    </td><td>2389487</td><td> 3     </td></tr>\n",
       "\t<tr><td>MB     </td><td> 80    </td><td> 666770</td><td>12     </td></tr>\n",
       "\t<tr><td>NL     </td><td>  2    </td><td> 260610</td><td> 1     </td></tr>\n",
       "\t<tr><td>NS     </td><td> 19    </td><td> 467841</td><td> 4     </td></tr>\n",
       "\t<tr><td>ON     </td><td>559    </td><td>6980810</td><td> 8     </td></tr>\n",
       "\t<tr><td>QC     </td><td>539    </td><td>4174425</td><td>13     </td></tr>\n",
       "\t<tr><td>SK     </td><td>133    </td><td> 586867</td><td>23     </td></tr>\n",
       "\t<tr><td>PI     </td><td>  0    </td><td>  74355</td><td> 0     </td></tr>\n",
       "\t<tr><td>NB     </td><td>  0    </td><td> 375405</td><td> 0     </td></tr>\n",
       "</tbody>\n",
       "</table>\n"
      ],
      "text/latex": [
       "\\begin{tabular}{r|llll}\n",
       " Province & TotalTransitionalBedsForMales & TotalProvincialPopulationMale & TransitionalBedsForMalesPer100K\\\\\n",
       "\\hline\n",
       "\t AB      & 315     & 2169133 & 15     \\\\\n",
       "\t BC      &  70     & 2389487 &  3     \\\\\n",
       "\t MB      &  80     &  666770 & 12     \\\\\n",
       "\t NL      &   2     &  260610 &  1     \\\\\n",
       "\t NS      &  19     &  467841 &  4     \\\\\n",
       "\t ON      & 559     & 6980810 &  8     \\\\\n",
       "\t QC      & 539     & 4174425 & 13     \\\\\n",
       "\t SK      & 133     &  586867 & 23     \\\\\n",
       "\t PI      &   0     &   74355 &  0     \\\\\n",
       "\t NB      &   0     &  375405 &  0     \\\\\n",
       "\\end{tabular}\n"
      ],
      "text/markdown": [
       "\n",
       "Province | TotalTransitionalBedsForMales | TotalProvincialPopulationMale | TransitionalBedsForMalesPer100K | \n",
       "|---|---|---|---|---|---|---|---|---|---|\n",
       "| AB      | 315     | 2169133 | 15      | \n",
       "| BC      |  70     | 2389487 |  3      | \n",
       "| MB      |  80     |  666770 | 12      | \n",
       "| NL      |   2     |  260610 |  1      | \n",
       "| NS      |  19     |  467841 |  4      | \n",
       "| ON      | 559     | 6980810 |  8      | \n",
       "| QC      | 539     | 4174425 | 13      | \n",
       "| SK      | 133     |  586867 | 23      | \n",
       "| PI      |   0     |   74355 |  0      | \n",
       "| NB      |   0     |  375405 |  0      | \n",
       "\n",
       "\n"
      ],
      "text/plain": [
       "   Province TotalTransitionalBedsForMales TotalProvincialPopulationMale\n",
       "1  AB       315                           2169133                      \n",
       "2  BC        70                           2389487                      \n",
       "3  MB        80                            666770                      \n",
       "4  NL         2                            260610                      \n",
       "5  NS        19                            467841                      \n",
       "6  ON       559                           6980810                      \n",
       "7  QC       539                           4174425                      \n",
       "8  SK       133                            586867                      \n",
       "9  PI         0                             74355                      \n",
       "10 NB         0                            375405                      \n",
       "   TransitionalBedsForMalesPer100K\n",
       "1  15                             \n",
       "2   3                             \n",
       "3  12                             \n",
       "4   1                             \n",
       "5   4                             \n",
       "6   8                             \n",
       "7  13                             \n",
       "8  23                             \n",
       "9   0                             \n",
       "10  0                             "
      ]
     },
     "metadata": {},
     "output_type": "display_data"
    }
   ],
   "source": [
    "df_Provincial <- df_Provincial %>%\n",
    "  mutate(TransitionalBedsForMalesPer100K = round(TotalTransitionalBedsForMales / TotalProvincialPopulationMale * 100000))\n",
    "\n",
    "glimpse(df_Provincial)\n",
    "df_Provincial"
   ]
  },
  {
   "cell_type": "markdown",
   "metadata": {},
   "source": [
    "## Display a map of Canada showing results"
   ]
  },
  {
   "cell_type": "code",
   "execution_count": 81,
   "metadata": {},
   "outputs": [
    {
     "name": "stdout",
     "output_type": "stream",
     "text": [
      "Reading layer `lpr_000b16a_e' from data source `C:\\Users\\rahmant\\GIS_Canada\\lpr_000b16a_e.shp' using driver `ESRI Shapefile'\n",
      "Simple feature collection with 13 features and 6 fields\n",
      "geometry type:  MULTIPOLYGON\n",
      "dimension:      XY\n",
      "bbox:           xmin: 3689439 ymin: 659338.9 xmax: 9015737 ymax: 5242179\n",
      "epsg (SRID):    NA\n",
      "proj4string:    +proj=lcc +lat_1=49 +lat_2=77 +lat_0=63.390675 +lon_0=-91.86666666666666 +x_0=6200000 +y_0=3000000 +datum=NAD83 +units=m +no_defs\n"
     ]
    }
   ],
   "source": [
    "CanadaMap <- st_read(\"GIS_Canada/lpr_000b16a_e.shp\")"
   ]
  },
  {
   "cell_type": "code",
   "execution_count": 82,
   "metadata": {},
   "outputs": [
    {
     "data": {
      "text/plain": [
       "[1] \"2018-08-09 15:23:10 AST\""
      ]
     },
     "metadata": {},
     "output_type": "display_data"
    },
    {
     "name": "stdout",
     "output_type": "stream",
     "text": [
      "Observations: 13\n",
      "Variables: 7\n",
      "$ PRUID    <fctr> 10, 11, 12, 13, 24, 35, 46, 47, 48, 59, 60, 61, 62\n",
      "$ PRNAME   <fctr> Newfoundland and Labrador / Terre-Neuve-et-Labrador, Prin...\n",
      "$ PRENAME  <fctr> Newfoundland and Labrador, Prince Edward Island, Nova Sco...\n",
      "$ PRFNAME  <fctr> Terre-Neuve-et-Labrador, Île-du-Prince-Édouard, Nouvelle-...\n",
      "$ PREABBR  <fctr> N.L., P.E.I., N.S., N.B., Que., Ont., Man., Sask., Alta.,...\n",
      "$ PRFABBR  <fctr> T.-N.-L., Î.-P.-É., N.-É., N.-B., Qc, Ont., Man., Sask., ...\n",
      "$ geometry <simple_feature> MULTIPOLYGON (((8307365.588..., MULTIPOLYGON ((...\n"
     ]
    },
    {
     "data": {
      "text/plain": [
       "[1] \"2018-08-09 15:23:35 AST\""
      ]
     },
     "metadata": {},
     "output_type": "display_data"
    }
   ],
   "source": [
    "Sys.time()\n",
    "glimpse(CanadaMap)\n",
    "Sys.time()"
   ]
  },
  {
   "cell_type": "code",
   "execution_count": 83,
   "metadata": {},
   "outputs": [],
   "source": [
    "# Sys.time()\n",
    "# CanadaMap\n",
    "# Sys.time()"
   ]
  },
  {
   "cell_type": "code",
   "execution_count": 84,
   "metadata": {},
   "outputs": [
    {
     "name": "stdout",
     "output_type": "stream",
     "text": [
      "Observations: 10\n",
      "Variables: 5\n",
      "$ Province                        <fctr> AB, BC, MB, NL, NS, ON, QC, SK, PI...\n",
      "$ TotalTransitionalBedsForMales   <dbl> 315, 70, 80, 2, 19, 559, 539, 133, ...\n",
      "$ TotalProvincialPopulationMale   <dbl> 2169133, 2389487, 666770, 260610, 4...\n",
      "$ TransitionalBedsForMalesPer100K <dbl> 15, 3, 12, 1, 4, 8, 13, 23, 0, 0\n",
      "$ PREABBR                         <fctr> Alta., B.C., Man., N.L., N.S., Ont...\n"
     ]
    },
    {
     "data": {
      "text/html": [
       "<table>\n",
       "<thead><tr><th scope=col>Province</th><th scope=col>TotalTransitionalBedsForMales</th><th scope=col>TotalProvincialPopulationMale</th><th scope=col>TransitionalBedsForMalesPer100K</th><th scope=col>PREABBR</th></tr></thead>\n",
       "<tbody>\n",
       "\t<tr><td>AB     </td><td>315    </td><td>2169133</td><td>15     </td><td>Alta.  </td></tr>\n",
       "\t<tr><td>BC     </td><td> 70    </td><td>2389487</td><td> 3     </td><td>B.C.   </td></tr>\n",
       "\t<tr><td>MB     </td><td> 80    </td><td> 666770</td><td>12     </td><td>Man.   </td></tr>\n",
       "\t<tr><td>NL     </td><td>  2    </td><td> 260610</td><td> 1     </td><td>N.L.   </td></tr>\n",
       "\t<tr><td>NS     </td><td> 19    </td><td> 467841</td><td> 4     </td><td>N.S.   </td></tr>\n",
       "\t<tr><td>ON     </td><td>559    </td><td>6980810</td><td> 8     </td><td>Ont.   </td></tr>\n",
       "\t<tr><td>QC     </td><td>539    </td><td>4174425</td><td>13     </td><td>Que.   </td></tr>\n",
       "\t<tr><td>SK     </td><td>133    </td><td> 586867</td><td>23     </td><td>Sask.  </td></tr>\n",
       "\t<tr><td>PI     </td><td>  0    </td><td>  74355</td><td> 0     </td><td>P.E.I. </td></tr>\n",
       "\t<tr><td>NB     </td><td>  0    </td><td> 375405</td><td> 0     </td><td>N.B.   </td></tr>\n",
       "</tbody>\n",
       "</table>\n"
      ],
      "text/latex": [
       "\\begin{tabular}{r|lllll}\n",
       " Province & TotalTransitionalBedsForMales & TotalProvincialPopulationMale & TransitionalBedsForMalesPer100K & PREABBR\\\\\n",
       "\\hline\n",
       "\t AB      & 315     & 2169133 & 15      & Alta.  \\\\\n",
       "\t BC      &  70     & 2389487 &  3      & B.C.   \\\\\n",
       "\t MB      &  80     &  666770 & 12      & Man.   \\\\\n",
       "\t NL      &   2     &  260610 &  1      & N.L.   \\\\\n",
       "\t NS      &  19     &  467841 &  4      & N.S.   \\\\\n",
       "\t ON      & 559     & 6980810 &  8      & Ont.   \\\\\n",
       "\t QC      & 539     & 4174425 & 13      & Que.   \\\\\n",
       "\t SK      & 133     &  586867 & 23      & Sask.  \\\\\n",
       "\t PI      &   0     &   74355 &  0      & P.E.I. \\\\\n",
       "\t NB      &   0     &  375405 &  0      & N.B.   \\\\\n",
       "\\end{tabular}\n"
      ],
      "text/markdown": [
       "\n",
       "Province | TotalTransitionalBedsForMales | TotalProvincialPopulationMale | TransitionalBedsForMalesPer100K | PREABBR | \n",
       "|---|---|---|---|---|---|---|---|---|---|\n",
       "| AB      | 315     | 2169133 | 15      | Alta.   | \n",
       "| BC      |  70     | 2389487 |  3      | B.C.    | \n",
       "| MB      |  80     |  666770 | 12      | Man.    | \n",
       "| NL      |   2     |  260610 |  1      | N.L.    | \n",
       "| NS      |  19     |  467841 |  4      | N.S.    | \n",
       "| ON      | 559     | 6980810 |  8      | Ont.    | \n",
       "| QC      | 539     | 4174425 | 13      | Que.    | \n",
       "| SK      | 133     |  586867 | 23      | Sask.   | \n",
       "| PI      |   0     |   74355 |  0      | P.E.I.  | \n",
       "| NB      |   0     |  375405 |  0      | N.B.    | \n",
       "\n",
       "\n"
      ],
      "text/plain": [
       "   Province TotalTransitionalBedsForMales TotalProvincialPopulationMale\n",
       "1  AB       315                           2169133                      \n",
       "2  BC        70                           2389487                      \n",
       "3  MB        80                            666770                      \n",
       "4  NL         2                            260610                      \n",
       "5  NS        19                            467841                      \n",
       "6  ON       559                           6980810                      \n",
       "7  QC       539                           4174425                      \n",
       "8  SK       133                            586867                      \n",
       "9  PI         0                             74355                      \n",
       "10 NB         0                            375405                      \n",
       "   TransitionalBedsForMalesPer100K PREABBR\n",
       "1  15                              Alta.  \n",
       "2   3                              B.C.   \n",
       "3  12                              Man.   \n",
       "4   1                              N.L.   \n",
       "5   4                              N.S.   \n",
       "6   8                              Ont.   \n",
       "7  13                              Que.   \n",
       "8  23                              Sask.  \n",
       "9   0                              P.E.I. \n",
       "10  0                              N.B.   "
      ]
     },
     "metadata": {},
     "output_type": "display_data"
    }
   ],
   "source": [
    "# Add a column for PREABBR to df_Provincial in order to do a join with CanadaMap\n",
    "\n",
    "\n",
    "df_Provincial$PREABBR <- \"unknown\"\n",
    "\n",
    "df_Provincial$PREABBR[df_Provincial$Province == \"AB\"] <- \"Alta.\"\n",
    "df_Provincial$PREABBR[df_Provincial$Province == \"BC\"] <- \"B.C.\"\n",
    "df_Provincial$PREABBR[df_Provincial$Province == \"MB\"] <- \"Man.\"\n",
    "df_Provincial$PREABBR[df_Provincial$Province == \"NB\"] <- \"N.B.\"\n",
    "df_Provincial$PREABBR[df_Provincial$Province == \"NL\"] <- \"N.L.\"\n",
    "df_Provincial$PREABBR[df_Provincial$Province == \"NS\"] <- \"N.S.\"\n",
    "df_Provincial$PREABBR[df_Provincial$Province == \"ON\"] <- \"Ont.\"\n",
    "df_Provincial$PREABBR[df_Provincial$Province == \"PI\"] <- \"P.E.I.\"\n",
    "df_Provincial$PREABBR[df_Provincial$Province == \"QC\"] <- \"Que.\"\n",
    "df_Provincial$PREABBR[df_Provincial$Province == \"SK\"] <- \"Sask.\"\n",
    "\n",
    "df_Provincial$PREABBR <- as.factor(df_Provincial$PREABBR)\n",
    "glimpse(df_Provincial)\n",
    "df_Provincial"
   ]
  },
  {
   "cell_type": "code",
   "execution_count": 85,
   "metadata": {},
   "outputs": [],
   "source": [
    "# Add a column for Year\n",
    "\n",
    "df_Provincial$Year <- 2017"
   ]
  },
  {
   "cell_type": "code",
   "execution_count": 86,
   "metadata": {},
   "outputs": [],
   "source": [
    "# Before merging with a shapefile for polygon data, write the data to a table in csv format\n",
    "# Table_B\n",
    "\n",
    "write.csv(df_Provincial, \n",
    "          file = \"Table_F.csv\",\n",
    "          row.names = FALSE) # set row.name to FALSE to not include an index column in the csv output file"
   ]
  },
  {
   "cell_type": "code",
   "execution_count": 87,
   "metadata": {},
   "outputs": [
    {
     "data": {
      "text/html": [
       "<strong>png:</strong> 2"
      ],
      "text/latex": [
       "\\textbf{png:} 2"
      ],
      "text/markdown": [
       "**png:** 2"
      ],
      "text/plain": [
       "png \n",
       "  2 "
      ]
     },
     "metadata": {},
     "output_type": "display_data"
    }
   ],
   "source": [
    "# Save a dataframe as a nicely formatted png file\n",
    "# uses the gridExtra package\n",
    "\n",
    "png(\"Table_F.png\", height = 30*nrow(df_Provincial), width = 150*ncol(df_Provincial))\n",
    "grid.table(df_Provincial)\n",
    "dev.off()"
   ]
  },
  {
   "cell_type": "code",
   "execution_count": 88,
   "metadata": {},
   "outputs": [],
   "source": [
    "CanadaMap <- merge(CanadaMap, df_Provincial) # join the two dataframes, merge will use the common column name to join with"
   ]
  },
  {
   "cell_type": "code",
   "execution_count": 89,
   "metadata": {},
   "outputs": [
    {
     "data": {
      "text/plain": [
       "[1] \"2018-08-09 15:23:36 AST\""
      ]
     },
     "metadata": {},
     "output_type": "display_data"
    },
    {
     "name": "stdout",
     "output_type": "stream",
     "text": [
      "Observations: 10\n",
      "Variables: 12\n",
      "$ PREABBR                         <fctr> Alta., B.C., Man., N.B., N.L., N.S...\n",
      "$ PRUID                           <fctr> 48, 59, 46, 13, 10, 12, 35, 11, 24...\n",
      "$ PRNAME                          <fctr> Alberta, British Columbia / Colomb...\n",
      "$ PRENAME                         <fctr> Alberta, British Columbia, Manitob...\n",
      "$ PRFNAME                         <fctr> Alberta, Colombie-Britannique, Man...\n",
      "$ PRFABBR                         <fctr> Alb., C.-B., Man., N.-B., T.-N.-L....\n",
      "$ Province                        <fctr> AB, BC, MB, NB, NL, NS, ON, PI, QC...\n",
      "$ TotalTransitionalBedsForMales   <dbl> 315, 70, 80, 0, 2, 19, 559, 0, 539,...\n",
      "$ TotalProvincialPopulationMale   <dbl> 2169133, 2389487, 666770, 375405, 2...\n",
      "$ TransitionalBedsForMalesPer100K <dbl> 15, 3, 12, 0, 1, 4, 8, 0, 13, 23\n",
      "$ Year                            <dbl> 2017, 2017, 2017, 2017, 2017, 2017,...\n",
      "$ geometry                        <simple_feature> MULTIPOLYGON (((5228304....\n"
     ]
    },
    {
     "data": {
      "text/plain": [
       "[1] \"2018-08-09 15:23:51 AST\""
      ]
     },
     "metadata": {},
     "output_type": "display_data"
    }
   ],
   "source": [
    "Sys.time()\n",
    "glimpse(CanadaMap)\n",
    "Sys.time()"
   ]
  },
  {
   "cell_type": "code",
   "execution_count": 90,
   "metadata": {},
   "outputs": [
    {
     "data": {
      "text/plain": [
       "[1] \"2018-08-09 15:23:51 AST\""
      ]
     },
     "metadata": {},
     "output_type": "display_data"
    },
    {
     "data": {},
     "metadata": {},
     "output_type": "display_data"
    },
    {
     "data": {
      "text/plain": [
       "[1] \"2018-08-09 15:24:32 AST\""
      ]
     },
     "metadata": {},
     "output_type": "display_data"
    },
    {
     "data": {
      "image/png": "[encoded data removed]",
      "text/plain": [
       "plot without title"
      ]
     },
     "metadata": {},
     "output_type": "display_data"
    }
   ],
   "source": [
    "Sys.time()\n",
    "\n",
    "my_map_F0 <-\n",
    "  tm_shape(CanadaMap) +\n",
    "  tm_polygons(col = \"TransitionalBedsForMalesPer100K\", palette = \"Blues\", style = \"order\") +\n",
    "  tm_legend(legend.outside = TRUE, legend.outside.position = \"bottom\") +\n",
    "  tm_text(text = \"TransitionalBedsForMalesPer100K\", size = .6) + \n",
    "  tm_layout(frame = FALSE, \n",
    "            legend.show = FALSE,\n",
    "            main.title = \"Number of Transitional Homeless Beds at Male-Only Shelters\\nPer 100,000 Male Population, 2017\",\n",
    "            main.title.size = 1)\n",
    "\n",
    "my_map_F0\n",
    "\n",
    "Sys.time()"
   ]
  },
  {
   "cell_type": "code",
   "execution_count": 91,
   "metadata": {},
   "outputs": [],
   "source": [
    "# Sys.time()\n",
    "#   save_tmap(tm = my_map_F0, \n",
    "#             filename = \"Number of Transitional Homeless Beds at Male-Only Shelters Per 100,000 Male Population, 2017.png\")\n",
    "# Sys.time()"
   ]
  },
  {
   "cell_type": "markdown",
   "metadata": {},
   "source": [
    "# Main Script Ends Here"
   ]
  },
  {
   "cell_type": "code",
   "execution_count": 92,
   "metadata": {},
   "outputs": [
    {
     "data": {
      "text/plain": [
       "[1] \"2018-08-09 15:24:36 AST\""
      ]
     },
     "metadata": {},
     "output_type": "display_data"
    }
   ],
   "source": [
    "Sys.time()"
   ]
  },
  {
   "cell_type": "markdown",
   "metadata": {},
   "source": [
    "# Appendix 1 - Examples of common coding techniques"
   ]
  },
  {
   "cell_type": "code",
   "execution_count": 93,
   "metadata": {},
   "outputs": [],
   "source": [
    "# Example of how to read and filter a large csv file a chunk at a time, e.g. filter 50000 rows at a time into a new dataframe\n",
    "# This is very efficient, comparable to fread in speed but done in chunks to conserve memory\n",
    "# I also prefer it to fread because I can filter out rows with missing values as I import the data\n",
    "# and specify which columns I want to import \n",
    "# need readr library from tidyverse library\n",
    "\n",
    "\n",
    "# Sys.time() # start time for reading file\n",
    "# f <- function(x, pos) subset(x, \n",
    "#                             !is.na(Beds) # filter out any rows with missing values in the specified column in parenthesis\n",
    "#                             & Gender == \"Male\") # only include rows where the specified condition is met\n",
    "#                             & any other criteria for filtering\n",
    "# df <- read_csv_chunked(\"http://www.edsc-esdc.gc.ca/ouvert-open/hps/CDHPD-OpenDataNSPL-DataSet-20170804-ENFR.csv\", \n",
    "#                            DataFrameCallback$new(f), \n",
    "#                            chunk_size = 50000, # this is an adequate chunk size\n",
    "#                            # col_names = TRUE # this will keep original column names if you don't provide custom names\n",
    "#                                               # most of the time it's best to rename every column explicitly as shown below\n",
    "#                            col_names = c(\"ShelterType\", # this renames each column in order of the csv file to what you specify\n",
    "#                                          \"ProvinceCode\",\n",
    "#                                          \"City\",\n",
    "#                                          \"TargetPopulation\",\n",
    "#                                          \"Gender\",\n",
    "#                                          \"ShelterName\",\n",
    "#                                          \"Beds\"), # all other columns after this will be dropped if not included        \n",
    "#                            cols_only( # specify which columns with data types you want to include \n",
    "#                                       # to avoid importing unwanted data\n",
    "#                                       # include all columns that you specified above with col_names if you renamed them\n",
    "#                                \"ShelterType\" = col_character(),\n",
    "#                                \"ProvinceCode\" = col_character(),\n",
    "#                                \"City\" = col_character(),\n",
    "#                                \"TargetPopulation\" = col_character(),\n",
    "#                                \"Gender\" = col_character(),\n",
    "#                                \"ShelterName\" = col_character(),\n",
    "#                                \"Beds\" = col_number()),\n",
    "#                            skip = 1, # skip original column headers if you renamed them\n",
    "#                            trim_ws = TRUE) # trim leading and trailing whitespace for each data point\n",
    "# Sys.time() # end time for reading file"
   ]
  },
  {
   "cell_type": "code",
   "execution_count": 94,
   "metadata": {},
   "outputs": [],
   "source": [
    "# Example of how to read csv files quickly with fread while converting all chr variables to factors \n",
    "# need data.table library\n",
    "# Use fread when you are a lazy and know you won't have memory issues loading the entire dataset at once\n",
    "# or when you know you need to keep all information loaded into memory\n",
    "\n",
    "# df <- fread(\"DataFilesAOP/AB_Provincial_Detailed_Crime_Stats_2006-2011-2016.csv\", \n",
    "#            stringsAsFactors = TRUE, header = TRUE)"
   ]
  },
  {
   "cell_type": "code",
   "execution_count": 95,
   "metadata": {},
   "outputs": [],
   "source": [
    "# Example of how to write a dataframe to a csv file\n",
    "\n",
    "# write.csv(df, \n",
    "#           file = \"NS_Crime_Stats_Clean_Extract3.csv\",\n",
    "#           row.names = FALSE) # set row.name to FALSE to not include an index column in the csv output file"
   ]
  },
  {
   "cell_type": "code",
   "execution_count": 96,
   "metadata": {},
   "outputs": [],
   "source": [
    "# Example how to change all of the column names in a dataframe to something friendlier\n",
    "# You want to avoid special characters and spaces in column names to prevent problems with differnt packages and features\n",
    "# Provide new names in a character vector\n",
    "\n",
    "# colnames(df) <- c(\" \", \" \")"
   ]
  },
  {
   "cell_type": "code",
   "execution_count": 97,
   "metadata": {},
   "outputs": [],
   "source": [
    "# Example of how to rename a specific column in a dataframe\n",
    "\n",
    "# names(df)[names(df) == \"PercentageOfDeaths\"] <- \"PercentageOfDeathsMale\""
   ]
  },
  {
   "cell_type": "code",
   "execution_count": 98,
   "metadata": {},
   "outputs": [],
   "source": [
    "# Example of how to view specific columns from a dataframe\n",
    "\n",
    "# df[, c(\"BedsPer100K\", \"PercentageOfDeathsMale\")]"
   ]
  },
  {
   "cell_type": "code",
   "execution_count": 99,
   "metadata": {},
   "outputs": [],
   "source": [
    "# Example how to set the number of digits displayed in dataframes\n",
    "\n",
    "# options(digits=15) # set the visible number of digits to 15, useful when displaying GIS coordinates in dataframes\n",
    "# options(\"digits\") # display the max number of digits that appear in cells of a dataframe"
   ]
  },
  {
   "cell_type": "code",
   "execution_count": 100,
   "metadata": {},
   "outputs": [],
   "source": [
    "# Example of how to convert columns to the correct data types and how to delete columns from a dataframe\n",
    "\n",
    "# use as.numeric() and as.factor() where appropriate\n",
    "# df$column_name <- NULL will delete that column from the dataframe"
   ]
  },
  {
   "cell_type": "code",
   "execution_count": 101,
   "metadata": {},
   "outputs": [],
   "source": [
    "# Example of how to recode values of a column for rows meeting a condition\n",
    "\n",
    "# df$LATITUDE[df$GEO == \n",
    "#                          \"Amherst, Nova Scotia, municipal\"] <- 45.8338198\n",
    "# df$LONGITUDE[df$GEO == \n",
    "#                          \"Amherst, Nova Scotia, municipal\"] <- -64.2109455\n",
    "#\n",
    "# df$COUNTY[df$GEO ==\n",
    "#                          \"Amherst, Nova Scotia, municipal\"] <- \"Cumberland\""
   ]
  },
  {
   "cell_type": "code",
   "execution_count": 102,
   "metadata": {},
   "outputs": [],
   "source": [
    "# Example of how to filter a dataframe to rows where a specific string appears anywhere in a specific column\n",
    "# This example filters df to rows where \"MEP\" appears in the \"Contents\" column (need stringr library)\n",
    "\n",
    "# df_MEP <- df %>%\n",
    "#   filter(str_detect(Contents, \"MEP\"))"
   ]
  },
  {
   "cell_type": "code",
   "execution_count": 103,
   "metadata": {},
   "outputs": [],
   "source": [
    "# Example of how to handle dates - converting from timestamp to YYYYMMDD\n",
    "# This example is adequate if you really don't need a date field for arithmetic or plotting with ggplot2\n",
    "\n",
    "# parse out date and time from Timestamp\n",
    "# df <- \n",
    "#   separate(df, Timestamp, # e.g., \"01/01/2017 12:00:00 AM\"\n",
    "#           into = c(\"Date\", \"Time\", \"AMPM\"), sep = \" \")\n",
    "\n",
    "# parse out Month, Day, Year from Date\n",
    "# df <- \n",
    "#  separate(df, Date, \n",
    "#           into = c(\"Month\", \"Day\", \"Year\"), sep = \"/\")\n",
    "\n",
    "# Remove unwanted columns\n",
    "# df$Time <- NULL\n",
    "# df$AMPM <- NULL\n",
    "\n",
    "# unite the columns \"Year\", \"Month\", \"Day\" into a single column for \"YYYYMMDD\"\n",
    "# df <- \n",
    "#  unite_(df, \"YYYYMMDD\", c(\"Year\",\"Month\", \"Day\"), sep = \"\")\n",
    "\n",
    "# sort by date in decreasing order\n",
    "# df <- df[order(df$YYYYMMDD, decreasing = TRUE), ]"
   ]
  },
  {
   "cell_type": "code",
   "execution_count": 104,
   "metadata": {},
   "outputs": [],
   "source": [
    "# Use the lubridate library if arithmetic is important when working with date and time data\n",
    "# In my opinion, the lubridate functions are more complicated than my current needs, so I prefer my approach above\n",
    "# for handling dates/times\n",
    "\n",
    "# https://lubridate.tidyverse.org/\n",
    "# https://rawgit.com/rstudio/cheatsheets/master/lubridate.pdf"
   ]
  },
  {
   "cell_type": "code",
   "execution_count": 105,
   "metadata": {},
   "outputs": [],
   "source": [
    "# Example of how to subset and retain only selected characters from a cell\n",
    "# This is useful if you want to strip out useless characters in a cell given a start and end position to retain\n",
    "# need stringr library\n",
    "\n",
    "# df$gps <- \n",
    "#   str_sub(df$gps, start = 3, end = -2) \n",
    "\n",
    "# this gets rid of the first 3 characters and the last two characters\n",
    "# you can get an accurate count of characters when viewing them with glimpse(df)"
   ]
  },
  {
   "cell_type": "code",
   "execution_count": 106,
   "metadata": {},
   "outputs": [],
   "source": [
    "# Example how to merge two dataframes on common column names\n",
    "# https://stackoverflow.com/questions/1299871/how-to-join-merge-data-frames-inner-outer-left-right\n",
    "\n",
    "# CanadaMap <- merge(CanadaMap, df_Provincial) # join the two dataframes, merge will use the common column name to join with"
   ]
  },
  {
   "cell_type": "code",
   "execution_count": 107,
   "metadata": {},
   "outputs": [],
   "source": [
    "# Example of how to combine two or more dataframes vertically with the same column names\n",
    "\n",
    "# df4 <- rbind(df1, df2, df3)"
   ]
  },
  {
   "cell_type": "code",
   "execution_count": 108,
   "metadata": {},
   "outputs": [],
   "source": [
    "# Example of how to combine two or more dataframes horizontally with the same number of rows but different columns\n",
    "\n",
    "# df4 <- cbind(df1, df2, df3)"
   ]
  },
  {
   "cell_type": "code",
   "execution_count": 109,
   "metadata": {},
   "outputs": [],
   "source": [
    "# Example of how to create a new column that takes on values by performing arithmetic on existing columns \n",
    "# need dplyr and tidyverse library\n",
    "# This example creates a new column that divides one column by another and mutliplies the result by a constant\n",
    "\n",
    "# NSMAP2011 <- NSMAP2011 %>%\n",
    "#   mutate(PropertyCrimeCountyRatePer100K = PropertyCrimeIncidentsPerCounty/CountyPopulation * 100000)"
   ]
  },
  {
   "cell_type": "code",
   "execution_count": 110,
   "metadata": {},
   "outputs": [],
   "source": [
    "# Example of how to order a dataframe by a column in descening order\n",
    "# a \"-\" in front of the column name will sort it in descending (largest to lowest) order\n",
    "\n",
    "# df <- \n",
    "#  df[with(df, order(-Incidents_Total)), ]\n",
    "\n",
    "\n",
    "# adding multiple column names will prioritize ordering in that sequence\n",
    "\n",
    "# df <- \n",
    "#  df[with(df, order(REGION, COUNTY, GEO, Violations, Statistics)), ]\n",
    "\n",
    "#--------------------\n",
    "# Alternatively, you can also use the following:\n",
    "# sort by date in decreasing order\n",
    "# df <- df[order(df$YYYYMMDD, decreasing = TRUE), ]"
   ]
  },
  {
   "cell_type": "code",
   "execution_count": 111,
   "metadata": {},
   "outputs": [],
   "source": [
    "# Before spreading data for tidy format, make sure to remove any special characters beforehand\n",
    "# This ensures that after spreading the data, the column names are all properly formatted\n",
    "# Properly formatted column names will always appear flushed next to the dollar sign when glimpsing a dataframe\n",
    "# If spaces or special characters are present in the column name, they will appear within single quotes after the dollar sign\n",
    "# when glimpsing the dataframe after spreading the data\n",
    "\n",
    "# df_health$Indicators <- gsub(\" \", \"_\", df_health$Indicators)\n",
    "# df_health$Indicators <- gsub(\",\", \"\", df_health$Indicators)\n",
    "# df_health$Indicators <- gsub(\";\", \"\", df_health$Indicators)\n",
    "# df_health$Indicators <- gsub(\"-\", \"_\", df_health$Indicators)\n",
    "# df_health$Indicators <- gsub(\"\\\\(\", \"\", df_health$Indicators) # this removes left parenthesis\n",
    "# df_health$Indicators <- gsub(\"\\\\)\", \"\", df_health$Indicators) # this removes right parenthesis\n",
    "\n",
    "# df_health <- df_health %>%\n",
    "#   spread(Indicators, Value)"
   ]
  },
  {
   "cell_type": "code",
   "execution_count": 112,
   "metadata": {},
   "outputs": [],
   "source": [
    "# Example of how to load a shapefile for mapping \n",
    "# need sf library\n",
    "\n",
    "# NS <- st_read(\"GIS_Nova_Scotia/Counties_GCS.shp\")"
   ]
  },
  {
   "cell_type": "code",
   "execution_count": 113,
   "metadata": {},
   "outputs": [],
   "source": [
    "# Example how to convert a dataframe of lats/longs to a an sf dataframe for points spatial data \n",
    "# need sf library\n",
    "\n",
    "# pts <- st_as_sf(df, coords = c(\"LONGITUDE\", \"LATITUDE\"), crs = 4269) # create sf object called \"pts\" from df\n",
    "# class(pts)\n",
    "# glimpse(pts) # LONGITUDE and LATITUDE columns are replaced with a geometry column for point data"
   ]
  },
  {
   "cell_type": "code",
   "execution_count": 114,
   "metadata": {},
   "outputs": [],
   "source": [
    "# Example how to add custom icons for points spatial data \n",
    "# need sf library and tmap library\n",
    "\n",
    "# Using custom icons for points instead of bubbles\n",
    "\n",
    "# file <- \"DataFilesGeneral/flower_960_720.png\"  \n",
    "# flower_icon <- tmap_icons(file, width = 48, height = 48, keep.asp = TRUE,\n",
    "#   just = c(\"center\", \"center\"), as.local = TRUE)\n",
    "\n",
    "# my_map_2 <- my_map_0 +\n",
    "#   tm_shape(pts) +\n",
    "#   tm_symbols(\"VALUE\", shape = flower_icon, size = .3, alpha = .2, border.alpha = 0) \n",
    "# my_map_2"
   ]
  },
  {
   "cell_type": "markdown",
   "metadata": {},
   "source": [
    "# Appendix 2 - Note regarding preferred way for installing packages"
   ]
  },
  {
   "cell_type": "code",
   "execution_count": 115,
   "metadata": {},
   "outputs": [],
   "source": [
    "# Preferrably, install new packages via Anaconda Prompt > conda install r-package_name\n",
    "# Try to only use library() in notebook instead of install.packages()\n",
    "# this is more reliable than using install.packages(\"package name\") in R script\n",
    "# Anaconda Prompt > conda list shows what packages are installed\n",
    "\n",
    "# However, when the above isn't true for some reason, it is noted below\n",
    "# e.g., tmap must be installed through install.packages(\"tmap\")"
   ]
  }
 ],
 "metadata": {
  "kernelspec": {
   "display_name": "R",
   "language": "R",
   "name": "ir"
  },
  "language_info": {
   "codemirror_mode": "r",
   "file_extension": ".r",
   "mimetype": "text/x-r-source",
   "name": "R",
   "pygments_lexer": "r",
   "version": "3.4.3"
  }
 },
 "nbformat": 4,
 "nbformat_minor": 2
}
