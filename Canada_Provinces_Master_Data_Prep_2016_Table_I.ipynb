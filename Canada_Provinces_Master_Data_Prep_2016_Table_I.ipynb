{
 "cells": [
  {
   "cell_type": "code",
   "execution_count": 65,
   "metadata": {},
   "outputs": [
    {
     "data": {
      "text/plain": [
       "[1] \"2018-08-16 10:48:38 AST\""
      ]
     },
     "metadata": {},
     "output_type": "display_data"
    }
   ],
   "source": [
    "# Must run this notebook from root directory in Anaconda for relative local file paths to work\n",
    "\n",
    "Sys.time() # script start time"
   ]
  },
  {
   "cell_type": "markdown",
   "metadata": {},
   "source": [
    "# Install and attach packages"
   ]
  },
  {
   "cell_type": "code",
   "execution_count": 66,
   "metadata": {},
   "outputs": [],
   "source": [
    "# See note at the end of this notebook regarding the preferred way of installing packages"
   ]
  },
  {
   "cell_type": "code",
   "execution_count": 67,
   "metadata": {},
   "outputs": [],
   "source": [
    "library(tidyverse)"
   ]
  },
  {
   "cell_type": "code",
   "execution_count": 68,
   "metadata": {},
   "outputs": [],
   "source": [
    "library(data.table)"
   ]
  },
  {
   "cell_type": "code",
   "execution_count": 69,
   "metadata": {},
   "outputs": [],
   "source": [
    "library(stringr)"
   ]
  },
  {
   "cell_type": "code",
   "execution_count": 70,
   "metadata": {},
   "outputs": [],
   "source": [
    "library(gridExtra)"
   ]
  },
  {
   "cell_type": "code",
   "execution_count": 71,
   "metadata": {},
   "outputs": [],
   "source": [
    "library(sf) # needed for mapping"
   ]
  },
  {
   "cell_type": "code",
   "execution_count": 72,
   "metadata": {},
   "outputs": [],
   "source": [
    "# install.packages(\"tmap\")\n",
    "# this for some reason can only be installed via install.packages(), but only has to be done once in your environment"
   ]
  },
  {
   "cell_type": "code",
   "execution_count": 73,
   "metadata": {},
   "outputs": [],
   "source": [
    "library(tmap) # needed for mapping"
   ]
  },
  {
   "cell_type": "code",
   "execution_count": 74,
   "metadata": {},
   "outputs": [],
   "source": [
    "# Set default options to display more digits, useful for gps coordinates"
   ]
  },
  {
   "cell_type": "code",
   "execution_count": 75,
   "metadata": {},
   "outputs": [],
   "source": [
    "options(digits=15) # set the visible number of digits to 15, useful when displaying GIS coordinates in dataframes"
   ]
  },
  {
   "cell_type": "code",
   "execution_count": 76,
   "metadata": {},
   "outputs": [
    {
     "data": {
      "text/html": [
       "<strong>$digits</strong> = 15"
      ],
      "text/latex": [
       "\\textbf{\\$digits} = 15"
      ],
      "text/markdown": [
       "**$digits** = 15"
      ],
      "text/plain": [
       "$digits\n",
       "[1] 15\n"
      ]
     },
     "metadata": {},
     "output_type": "display_data"
    }
   ],
   "source": [
    "options(\"digits\") # display the max number of digits that appear in cells of a dataframe"
   ]
  },
  {
   "cell_type": "code",
   "execution_count": 77,
   "metadata": {},
   "outputs": [
    {
     "data": {
      "text/plain": [
       "R version 3.4.3 (2017-11-30)\n",
       "Platform: x86_64-w64-mingw32/x64 (64-bit)\n",
       "Running under: Windows 10 x64 (build 17134)\n",
       "\n",
       "Matrix products: default\n",
       "\n",
       "locale:\n",
       "[1] LC_COLLATE=English_Canada.1252  LC_CTYPE=English_Canada.1252   \n",
       "[3] LC_MONETARY=English_Canada.1252 LC_NUMERIC=C                   \n",
       "[5] LC_TIME=English_Canada.1252    \n",
       "\n",
       "attached base packages:\n",
       "[1] stats     graphics  grDevices utils     datasets  methods   base     \n",
       "\n",
       "other attached packages:\n",
       " [1] bindrcpp_0.2         tmap_1.10            sf_0.5-4            \n",
       " [4] gridExtra_2.2.1      data.table_1.10.4-3  forcats_0.2.0       \n",
       " [7] stringr_1.2.0        dplyr_0.7.4          purrr_0.2.4         \n",
       "[10] readr_1.1.1          tidyr_0.7.2          tibble_1.4.1        \n",
       "[13] ggplot2_2.2.1        tidyverse_1.2.1      RevoUtils_10.0.8    \n",
       "[16] RevoUtilsMath_10.0.1\n",
       "\n",
       "loaded via a namespace (and not attached):\n",
       "  [1] colorspace_1.3-2   deldir_0.1-14      class_7.3-14      \n",
       "  [4] gdalUtils_2.0.1.7  leaflet_1.1.0      rgdal_1.2-8       \n",
       "  [7] satellite_1.0.0    IRdisplay_0.4.4    base64enc_0.1-3   \n",
       " [10] dichromat_2.0-0    rstudioapi_0.7     lubridate_1.7.1   \n",
       " [13] xml2_1.1.1         R.methodsS3_1.7.1  codetools_0.2-15  \n",
       " [16] splines_3.4.3      mnormt_1.5-5       geojsonlint_0.2.0 \n",
       " [19] IRkernel_0.8.11    jsonlite_1.5       tmaptools_1.2-1   \n",
       " [22] broom_0.4.3        png_0.1-7          R.oo_1.21.0       \n",
       " [25] rgeos_0.3-23       shiny_1.0.5        compiler_3.4.3    \n",
       " [28] httr_1.3.1         mapview_2.1.4      assertthat_0.2.0  \n",
       " [31] Matrix_1.2-12      lazyeval_0.2.1     cli_1.0.0         \n",
       " [34] htmltools_0.3.6    tools_3.4.3        coda_0.19-1       \n",
       " [37] gtable_0.2.0       glue_1.2.0         reshape2_1.4.3    \n",
       " [40] gmodels_2.16.2     V8_1.5             Rcpp_0.12.14      \n",
       " [43] cellranger_1.1.0   raster_2.5-8       spdep_0.6-13      \n",
       " [46] gdata_2.18.0       nlme_3.1-131       udunits2_0.13     \n",
       " [49] iterators_1.0.9    crosstalk_1.0.0    psych_1.7.5       \n",
       " [52] rvest_0.3.2        mime_0.5           gtools_3.5.0      \n",
       " [55] XML_3.98-1.9       LearnBayes_2.15    MASS_7.3-47       \n",
       " [58] scales_0.5.0       hms_0.4.0          parallel_3.4.3    \n",
       " [61] expm_0.999-2       RColorBrewer_1.1-2 curl_3.1          \n",
       " [64] geosphere_1.5-5    stringi_1.1.6      jsonvalidate_1.0.0\n",
       " [67] foreach_1.4.5      e1071_1.6-8        boot_1.3-20       \n",
       " [70] repr_0.12.0        rlang_0.1.6        pkgconfig_2.0.1   \n",
       " [73] bitops_1.0-6       evaluate_0.10.1    lattice_0.20-35   \n",
       " [76] bindr_0.1          htmlwidgets_0.9    tidyselect_0.2.3  \n",
       " [79] osmar_1.1-7        plyr_1.8.4         magrittr_1.5      \n",
       " [82] R6_2.2.2           pbdZMQ_0.2-6       DBI_0.7           \n",
       " [85] pillar_1.0.1       haven_1.1.0        foreign_0.8-69    \n",
       " [88] units_0.4-6        RCurl_1.95-4.8     sp_1.2-5          \n",
       " [91] modelr_0.1.1       crayon_1.3.4       rmapshaper_0.3.0  \n",
       " [94] uuid_0.1-2         KernSmooth_2.23-15 grid_3.4.3        \n",
       " [97] readxl_1.0.0       webshot_0.4.1      digest_0.6.13     \n",
       "[100] classInt_0.1-24    xtable_1.8-2       httpuv_1.3.5      \n",
       "[103] R.utils_2.5.0      stats4_3.4.3       munsell_0.4.3     \n",
       "[106] viridisLite_0.2.0 "
      ]
     },
     "metadata": {},
     "output_type": "display_data"
    }
   ],
   "source": [
    "sessionInfo()"
   ]
  },
  {
   "cell_type": "markdown",
   "metadata": {},
   "source": [
    "# Main Script Begins Here"
   ]
  },
  {
   "cell_type": "markdown",
   "metadata": {},
   "source": [
    "## 9. Suicide Rates for Males, 2016"
   ]
  },
  {
   "cell_type": "code",
   "execution_count": 78,
   "metadata": {},
   "outputs": [
    {
     "data": {
      "text/plain": [
       "[1] \"2018-08-16 10:48:39 AST\""
      ]
     },
     "metadata": {},
     "output_type": "display_data"
    }
   ],
   "source": [
    "Sys.time() # script start time from body"
   ]
  },
  {
   "cell_type": "code",
   "execution_count": 79,
   "metadata": {},
   "outputs": [],
   "source": [
    "# Import and clean data before analysis"
   ]
  },
  {
   "cell_type": "code",
   "execution_count": 80,
   "metadata": {},
   "outputs": [
    {
     "data": {
      "text/plain": [
       "[1] \"2018-08-16 10:48:39 AST\""
      ]
     },
     "metadata": {},
     "output_type": "display_data"
    },
    {
     "data": {
      "text/plain": [
       "[1] \"2018-08-16 10:48:40 AST\""
      ]
     },
     "metadata": {},
     "output_type": "display_data"
    }
   ],
   "source": [
    "# Import dataset\n",
    "# Suicide rates in Canada\n",
    "# Source: https://www150.statcan.gc.ca/t1/tbl1/en/tv.action?pid=1310080101\n",
    "\n",
    "\n",
    "Sys.time() # start time for reading file\n",
    "f <- function(x, pos) subset(x, \n",
    "                            !is.na(VALUE) # filter out any rows with missing values in the specified column in parenthesis\n",
    "                            & Characteristics == \"Percentage of deaths\")\n",
    "#                            & City == \"Halifax\") # only include rows where the specified condition is met\n",
    "#                           & any other criteria for filtering\n",
    "df <- read_csv_chunked(\"DataFilesCanadaProject/Suicide_Rates_2000_to_2016.csv\", \n",
    "                           DataFrameCallback$new(f), \n",
    "                           chunk_size = 50000, # this is an adequate chunk size\n",
    "                           col_names = TRUE,\n",
    "                           cols_only( # specify which columns with data types you want to include \n",
    "                                      # to avoid importing unwanted data\n",
    "                                      # include all columns that you specified above with col_names\n",
    "                               \"REF_DATE\" = col_character(),\n",
    "                               \"GEO\" = col_character(),\n",
    "                               \"Sex\" = col_character(),\n",
    "                               \"Characteristics\" = col_character(),\n",
    "                               \"Leading causes of death (ICD-10)\" = col_character(),\n",
    "                               \"VALUE\" = col_number()),\n",
    "                           trim_ws = TRUE) # trim leading and trailing whitespace for each data point\n",
    "Sys.time() # end time for reading file"
   ]
  },
  {
   "cell_type": "code",
   "execution_count": 81,
   "metadata": {},
   "outputs": [
    {
     "name": "stdout",
     "output_type": "stream",
     "text": [
      "Observations: 36,414\n",
      "Variables: 6\n",
      "$ REF_DATE                           <chr> \"2000\", \"2000\", \"2000\", \"2000\", ...\n",
      "$ GEO                                <chr> \"Canada, place of residence\", \"C...\n",
      "$ Sex                                <chr> \"Both sexes\", \"Both sexes\", \"Bot...\n",
      "$ `Leading causes of death (ICD-10)` <chr> \"Total, all causes of death\", \"S...\n",
      "$ Characteristics                    <chr> \"Percentage of deaths\", \"Percent...\n",
      "$ VALUE                              <dbl> 100.0, 0.0, 0.0, 0.0, 0.0, 0.0, ...\n"
     ]
    }
   ],
   "source": [
    "glimpse(df)"
   ]
  },
  {
   "cell_type": "code",
   "execution_count": 82,
   "metadata": {},
   "outputs": [
    {
     "data": {
      "text/html": [
       "<table>\n",
       "<thead><tr><th scope=col>REF_DATE</th><th scope=col>GEO</th><th scope=col>Sex</th><th scope=col>Leading causes of death (ICD-10)</th><th scope=col>Characteristics</th><th scope=col>VALUE</th></tr></thead>\n",
       "<tbody>\n",
       "\t<tr><td>2000                        </td><td>Canada, place of residence  </td><td>Both sexes                  </td><td>Total, all causes of death  </td><td>Percentage of deaths        </td><td>100                         </td></tr>\n",
       "\t<tr><td>2000                        </td><td>Canada, place of residence  </td><td>Both sexes                  </td><td>Salmonella infections       </td><td>Percentage of deaths        </td><td>  0                         </td></tr>\n",
       "\t<tr><td>2000                        </td><td>Canada, place of residence  </td><td>Both sexes                  </td><td>Shigellosis and amoebiasis  </td><td>Percentage of deaths        </td><td>  0                         </td></tr>\n",
       "\t<tr><td>2000                        </td><td>Canada, place of residence  </td><td>Both sexes                  </td><td>Tuberculosis                </td><td>Percentage of deaths        </td><td>  0                         </td></tr>\n",
       "\t<tr><td>2000                        </td><td>Canada, place of residence  </td><td>Both sexes                  </td><td>Whooping cough              </td><td>Percentage of deaths        </td><td>  0                         </td></tr>\n",
       "\t<tr><td>2000                        </td><td>Canada, place of residence  </td><td>Both sexes                  </td><td>Scarlet fever and erysipelas</td><td>Percentage of deaths        </td><td>  0                         </td></tr>\n",
       "</tbody>\n",
       "</table>\n"
      ],
      "text/latex": [
       "\\begin{tabular}{r|llllll}\n",
       " REF\\_DATE & GEO & Sex & Leading causes of death (ICD-10) & Characteristics & VALUE\\\\\n",
       "\\hline\n",
       "\t 2000                         & Canada, place of residence   & Both sexes                   & Total, all causes of death   & Percentage of deaths         & 100                         \\\\\n",
       "\t 2000                         & Canada, place of residence   & Both sexes                   & Salmonella infections        & Percentage of deaths         &   0                         \\\\\n",
       "\t 2000                         & Canada, place of residence   & Both sexes                   & Shigellosis and amoebiasis   & Percentage of deaths         &   0                         \\\\\n",
       "\t 2000                         & Canada, place of residence   & Both sexes                   & Tuberculosis                 & Percentage of deaths         &   0                         \\\\\n",
       "\t 2000                         & Canada, place of residence   & Both sexes                   & Whooping cough               & Percentage of deaths         &   0                         \\\\\n",
       "\t 2000                         & Canada, place of residence   & Both sexes                   & Scarlet fever and erysipelas & Percentage of deaths         &   0                         \\\\\n",
       "\\end{tabular}\n"
      ],
      "text/markdown": [
       "\n",
       "REF_DATE | GEO | Sex | Leading causes of death (ICD-10) | Characteristics | VALUE | \n",
       "|---|---|---|---|---|---|\n",
       "| 2000                         | Canada, place of residence   | Both sexes                   | Total, all causes of death   | Percentage of deaths         | 100                          | \n",
       "| 2000                         | Canada, place of residence   | Both sexes                   | Salmonella infections        | Percentage of deaths         |   0                          | \n",
       "| 2000                         | Canada, place of residence   | Both sexes                   | Shigellosis and amoebiasis   | Percentage of deaths         |   0                          | \n",
       "| 2000                         | Canada, place of residence   | Both sexes                   | Tuberculosis                 | Percentage of deaths         |   0                          | \n",
       "| 2000                         | Canada, place of residence   | Both sexes                   | Whooping cough               | Percentage of deaths         |   0                          | \n",
       "| 2000                         | Canada, place of residence   | Both sexes                   | Scarlet fever and erysipelas | Percentage of deaths         |   0                          | \n",
       "\n",
       "\n"
      ],
      "text/plain": [
       "  REF_DATE GEO                        Sex       \n",
       "1 2000     Canada, place of residence Both sexes\n",
       "2 2000     Canada, place of residence Both sexes\n",
       "3 2000     Canada, place of residence Both sexes\n",
       "4 2000     Canada, place of residence Both sexes\n",
       "5 2000     Canada, place of residence Both sexes\n",
       "6 2000     Canada, place of residence Both sexes\n",
       "  Leading causes of death (ICD-10) Characteristics      VALUE\n",
       "1 Total, all causes of death       Percentage of deaths 100  \n",
       "2 Salmonella infections            Percentage of deaths   0  \n",
       "3 Shigellosis and amoebiasis       Percentage of deaths   0  \n",
       "4 Tuberculosis                     Percentage of deaths   0  \n",
       "5 Whooping cough                   Percentage of deaths   0  \n",
       "6 Scarlet fever and erysipelas     Percentage of deaths   0  "
      ]
     },
     "metadata": {},
     "output_type": "display_data"
    }
   ],
   "source": [
    "head(df)"
   ]
  },
  {
   "cell_type": "code",
   "execution_count": 83,
   "metadata": {},
   "outputs": [],
   "source": [
    "# Always rename the columns to remove spaces and special characters if you haven't already from read_csv_chunked\n",
    "# This avoids any potential problems R may encounter with different packages if not taken care of properly right away\n",
    "\n",
    "colnames(df) <- c(\"Year\", \"GEO\", \"Sex\",\"CauseOfDeath\", \"Characteristics\", \"VALUE\")"
   ]
  },
  {
   "cell_type": "code",
   "execution_count": 84,
   "metadata": {},
   "outputs": [],
   "source": [
    "df$Year <- as.numeric(df$Year)\n",
    "df$GEO <- as.factor(df$GEO)\n",
    "df$Sex <- as.factor(df$Sex)\n",
    "df$CauseOfDeath <- as.factor(df$CauseOfDeath)\n",
    "df$Characteristics <- as.factor(df$Characteristics)"
   ]
  },
  {
   "cell_type": "code",
   "execution_count": 85,
   "metadata": {},
   "outputs": [
    {
     "data": {
      "text/html": [
       "<table>\n",
       "<thead><tr><th scope=col>Year</th><th scope=col>GEO</th><th scope=col>Sex</th><th scope=col>CauseOfDeath</th><th scope=col>Characteristics</th><th scope=col>VALUE</th></tr></thead>\n",
       "<tbody>\n",
       "\t<tr><td>2000                                                                               </td><td>Canada, place of residence                                                         </td><td>Both sexes                                                                         </td><td>Total, all causes of death                                                         </td><td>Percentage of deaths                                                               </td><td>100.0                                                                              </td></tr>\n",
       "\t<tr><td>2000                                                                               </td><td>Canada, place of residence                                                         </td><td>Both sexes                                                                         </td><td>Salmonella infections                                                              </td><td>Percentage of deaths                                                               </td><td>  0.0                                                                              </td></tr>\n",
       "\t<tr><td>2000                                                                               </td><td>Canada, place of residence                                                         </td><td>Both sexes                                                                         </td><td>Shigellosis and amoebiasis                                                         </td><td>Percentage of deaths                                                               </td><td>  0.0                                                                              </td></tr>\n",
       "\t<tr><td>2000                                                                               </td><td>Canada, place of residence                                                         </td><td>Both sexes                                                                         </td><td>Tuberculosis                                                                       </td><td>Percentage of deaths                                                               </td><td>  0.0                                                                              </td></tr>\n",
       "\t<tr><td>2000                                                                               </td><td>Canada, place of residence                                                         </td><td>Both sexes                                                                         </td><td>Whooping cough                                                                     </td><td>Percentage of deaths                                                               </td><td>  0.0                                                                              </td></tr>\n",
       "\t<tr><td>2000                                                                               </td><td>Canada, place of residence                                                         </td><td>Both sexes                                                                         </td><td>Scarlet fever and erysipelas                                                       </td><td>Percentage of deaths                                                               </td><td>  0.0                                                                              </td></tr>\n",
       "\t<tr><td>2000                                                                               </td><td>Canada, place of residence                                                         </td><td>Both sexes                                                                         </td><td>Meningococcal infection                                                            </td><td>Percentage of deaths                                                               </td><td>  0.0                                                                              </td></tr>\n",
       "\t<tr><td>2000                                                                               </td><td>Canada, place of residence                                                         </td><td>Both sexes                                                                         </td><td>Sepsis                                                                             </td><td>Percentage of deaths                                                               </td><td>  0.6                                                                              </td></tr>\n",
       "\t<tr><td>2000                                                                               </td><td>Canada, place of residence                                                         </td><td>Both sexes                                                                         </td><td>Syphilis                                                                           </td><td>Percentage of deaths                                                               </td><td>  0.0                                                                              </td></tr>\n",
       "\t<tr><td>2000                                                                               </td><td>Canada, place of residence                                                         </td><td>Both sexes                                                                         </td><td>Acute poliomyelitis                                                                </td><td>Percentage of deaths                                                               </td><td>  0.0                                                                              </td></tr>\n",
       "\t<tr><td>2000                                                                               </td><td>Canada, place of residence                                                         </td><td>Both sexes                                                                         </td><td>Arthropod-borne viral encephalitis                                                 </td><td>Percentage of deaths                                                               </td><td>  0.0                                                                              </td></tr>\n",
       "\t<tr><td>2000                                                                               </td><td>Canada, place of residence                                                         </td><td>Both sexes                                                                         </td><td>Measles                                                                            </td><td>Percentage of deaths                                                               </td><td>  0.0                                                                              </td></tr>\n",
       "\t<tr><td>2000                                                                               </td><td>Canada, place of residence                                                         </td><td>Both sexes                                                                         </td><td>Viral hepatitis                                                                    </td><td>Percentage of deaths                                                               </td><td>  0.1                                                                              </td></tr>\n",
       "\t<tr><td>2000                                                                               </td><td>Canada, place of residence                                                         </td><td>Both sexes                                                                         </td><td>Human immunodeficiency virus [HIV] disease                                         </td><td>Percentage of deaths                                                               </td><td>  0.2                                                                              </td></tr>\n",
       "\t<tr><td>2000                                                                               </td><td>Canada, place of residence                                                         </td><td>Both sexes                                                                         </td><td>Malaria                                                                            </td><td>Percentage of deaths                                                               </td><td>  0.0                                                                              </td></tr>\n",
       "\t<tr><td>2000                                                                               </td><td>Canada, place of residence                                                         </td><td>Both sexes                                                                         </td><td>Malignant neoplasms                                                                </td><td>Percentage of deaths                                                               </td><td> 28.7                                                                              </td></tr>\n",
       "\t<tr><td>2000                                                                               </td><td>Canada, place of residence                                                         </td><td>Both sexes                                                                         </td><td>In situ neoplasms, benign neoplasms and neoplasms of uncertain or unknown behaviour</td><td>Percentage of deaths                                                               </td><td>  0.7                                                                              </td></tr>\n",
       "\t<tr><td>2000                                                                               </td><td>Canada, place of residence                                                         </td><td>Both sexes                                                                         </td><td>Anaemias                                                                           </td><td>Percentage of deaths                                                               </td><td>  0.2                                                                              </td></tr>\n",
       "\t<tr><td>2000                                                                               </td><td>Canada, place of residence                                                         </td><td>Both sexes                                                                         </td><td>Diabetes mellitus                                                                  </td><td>Percentage of deaths                                                               </td><td>  3.1                                                                              </td></tr>\n",
       "\t<tr><td>2000                                                                               </td><td>Canada, place of residence                                                         </td><td>Both sexes                                                                         </td><td>Nutritional deficiencies                                                           </td><td>Percentage of deaths                                                               </td><td>  0.1                                                                              </td></tr>\n",
       "\t<tr><td>2000                                                                               </td><td>Canada, place of residence                                                         </td><td>Both sexes                                                                         </td><td>Meningitis                                                                         </td><td>Percentage of deaths                                                               </td><td>  0.0                                                                              </td></tr>\n",
       "\t<tr><td>2000                                                                               </td><td>Canada, place of residence                                                         </td><td>Both sexes                                                                         </td><td>Parkinson's disease                                                                </td><td>Percentage of deaths                                                               </td><td>  0.7                                                                              </td></tr>\n",
       "\t<tr><td>2000                                                                               </td><td>Canada, place of residence                                                         </td><td>Both sexes                                                                         </td><td>Alzheimer's disease                                                                </td><td>Percentage of deaths                                                               </td><td>  2.3                                                                              </td></tr>\n",
       "\t<tr><td>2000                                                                               </td><td>Canada, place of residence                                                         </td><td>Both sexes                                                                         </td><td>Diseases of heart                                                                  </td><td>Percentage of deaths                                                               </td><td> 25.3                                                                              </td></tr>\n",
       "\t<tr><td>2000                                                                               </td><td>Canada, place of residence                                                         </td><td>Both sexes                                                                         </td><td>Essential hypertension and hypertensive renal disease                              </td><td>Percentage of deaths                                                               </td><td>  0.5                                                                              </td></tr>\n",
       "\t<tr><td>2000                                                                               </td><td>Canada, place of residence                                                         </td><td>Both sexes                                                                         </td><td>Cerebrovascular diseases                                                           </td><td>Percentage of deaths                                                               </td><td>  7.1                                                                              </td></tr>\n",
       "\t<tr><td>2000                                                                               </td><td>Canada, place of residence                                                         </td><td>Both sexes                                                                         </td><td>Atherosclerosis                                                                    </td><td>Percentage of deaths                                                               </td><td>  0.6                                                                              </td></tr>\n",
       "\t<tr><td>2000                                                                               </td><td>Canada, place of residence                                                         </td><td>Both sexes                                                                         </td><td>Aortic aneurysm and dissection                                                     </td><td>Percentage of deaths                                                               </td><td>  0.9                                                                              </td></tr>\n",
       "\t<tr><td>2000                                                                               </td><td>Canada, place of residence                                                         </td><td>Both sexes                                                                         </td><td>Influenza and pneumonia                                                            </td><td>Percentage of deaths                                                               </td><td>  2.3                                                                              </td></tr>\n",
       "\t<tr><td>2000                                                                               </td><td>Canada, place of residence                                                         </td><td>Both sexes                                                                         </td><td>Acute bronchitis and bronchiolitis                                                 </td><td>Percentage of deaths                                                               </td><td>  0.0                                                                              </td></tr>\n",
       "\t<tr><td>...</td><td>...</td><td>...</td><td>...</td><td>...</td><td>...</td></tr>\n",
       "\t<tr><td>2016                                                                </td><td>Nunavut, place of residence                                         </td><td>Females                                                             </td><td>Parkinson's disease                                                 </td><td>Percentage of deaths                                                </td><td> 0.0                                                                </td></tr>\n",
       "\t<tr><td>2016                                                                </td><td>Nunavut, place of residence                                         </td><td>Females                                                             </td><td>Alzheimer's disease                                                 </td><td>Percentage of deaths                                                </td><td> 0.0                                                                </td></tr>\n",
       "\t<tr><td>2016                                                                </td><td>Nunavut, place of residence                                         </td><td>Females                                                             </td><td>Diseases of heart                                                   </td><td>Percentage of deaths                                                </td><td> 6.9                                                                </td></tr>\n",
       "\t<tr><td>2016                                                                </td><td>Nunavut, place of residence                                         </td><td>Females                                                             </td><td>Essential hypertension and hypertensive renal disease               </td><td>Percentage of deaths                                                </td><td> 0.0                                                                </td></tr>\n",
       "\t<tr><td>2016                                                                </td><td>Nunavut, place of residence                                         </td><td>Females                                                             </td><td>Cerebrovascular diseases                                            </td><td>Percentage of deaths                                                </td><td> 3.4                                                                </td></tr>\n",
       "\t<tr><td>2016                                                                </td><td>Nunavut, place of residence                                         </td><td>Females                                                             </td><td>Atherosclerosis                                                     </td><td>Percentage of deaths                                                </td><td> 0.0                                                                </td></tr>\n",
       "\t<tr><td>2016                                                                </td><td>Nunavut, place of residence                                         </td><td>Females                                                             </td><td>Aortic aneurysm and dissection                                      </td><td>Percentage of deaths                                                </td><td> 0.0                                                                </td></tr>\n",
       "\t<tr><td>2016                                                                </td><td>Nunavut, place of residence                                         </td><td>Females                                                             </td><td>Influenza and pneumonia                                             </td><td>Percentage of deaths                                                </td><td> 1.1                                                                </td></tr>\n",
       "\t<tr><td>2016                                                                </td><td>Nunavut, place of residence                                         </td><td>Females                                                             </td><td>Acute bronchitis and bronchiolitis                                  </td><td>Percentage of deaths                                                </td><td> 0.0                                                                </td></tr>\n",
       "\t<tr><td>2016                                                                </td><td>Nunavut, place of residence                                         </td><td>Females                                                             </td><td>Chronic lower respiratory diseases                                  </td><td>Percentage of deaths                                                </td><td>21.8                                                                </td></tr>\n",
       "\t<tr><td>2016                                                                </td><td>Nunavut, place of residence                                         </td><td>Females                                                             </td><td>Pneumoconioses and chemical effects                                 </td><td>Percentage of deaths                                                </td><td> 1.1                                                                </td></tr>\n",
       "\t<tr><td>2016                                                                </td><td>Nunavut, place of residence                                         </td><td>Females                                                             </td><td>Pneumonitis due to solids and liquids                               </td><td>Percentage of deaths                                                </td><td> 0.0                                                                </td></tr>\n",
       "\t<tr><td>2016                                                                </td><td>Nunavut, place of residence                                         </td><td>Females                                                             </td><td>Peptic ulcer                                                        </td><td>Percentage of deaths                                                </td><td> 0.0                                                                </td></tr>\n",
       "\t<tr><td>2016                                                                </td><td>Nunavut, place of residence                                         </td><td>Females                                                             </td><td>Diseases of appendix                                                </td><td>Percentage of deaths                                                </td><td> 0.0                                                                </td></tr>\n",
       "\t<tr><td>2016                                                                </td><td>Nunavut, place of residence                                         </td><td>Females                                                             </td><td>Hernia                                                              </td><td>Percentage of deaths                                                </td><td> 0.0                                                                </td></tr>\n",
       "\t<tr><td>2016                                                                </td><td>Nunavut, place of residence                                         </td><td>Females                                                             </td><td>Chronic liver disease and cirrhosis                                 </td><td>Percentage of deaths                                                </td><td> 1.1                                                                </td></tr>\n",
       "\t<tr><td>2016                                                                </td><td>Nunavut, place of residence                                         </td><td>Females                                                             </td><td>Cholelithiasis and other disorders of gallbladder                   </td><td>Percentage of deaths                                                </td><td> 0.0                                                                </td></tr>\n",
       "\t<tr><td>2016                                                                </td><td>Nunavut, place of residence                                         </td><td>Females                                                             </td><td>Nephritis, nephrotic syndrome and nephrosis                         </td><td>Percentage of deaths                                                </td><td> 0.0                                                                </td></tr>\n",
       "\t<tr><td>2016                                                                </td><td>Nunavut, place of residence                                         </td><td>Females                                                             </td><td>Infections of kidney                                                </td><td>Percentage of deaths                                                </td><td> 0.0                                                                </td></tr>\n",
       "\t<tr><td>2016                                                                </td><td>Nunavut, place of residence                                         </td><td>Females                                                             </td><td>Inflammatory diseases of female pelvic organs                       </td><td>Percentage of deaths                                                </td><td> 0.0                                                                </td></tr>\n",
       "\t<tr><td>2016                                                                </td><td>Nunavut, place of residence                                         </td><td>Females                                                             </td><td>Pregnancy, childbirth and the puerperium                            </td><td>Percentage of deaths                                                </td><td> 0.0                                                                </td></tr>\n",
       "\t<tr><td>2016                                                                </td><td>Nunavut, place of residence                                         </td><td>Females                                                             </td><td>Certain conditions originating in the perinatal period              </td><td>Percentage of deaths                                                </td><td> 4.6                                                                </td></tr>\n",
       "\t<tr><td>2016                                                                </td><td>Nunavut, place of residence                                         </td><td>Females                                                             </td><td>Congenital malformations, deformations and chromosomal abnormalities</td><td>Percentage of deaths                                                </td><td> 0.0                                                                </td></tr>\n",
       "\t<tr><td>2016                                                                </td><td>Nunavut, place of residence                                         </td><td>Females                                                             </td><td>Accidents (unintentional injuries)                                  </td><td>Percentage of deaths                                                </td><td> 8.0                                                                </td></tr>\n",
       "\t<tr><td>2016                                                                </td><td>Nunavut, place of residence                                         </td><td>Females                                                             </td><td>Intentional self-harm (suicide)                                     </td><td>Percentage of deaths                                                </td><td> 8.0                                                                </td></tr>\n",
       "\t<tr><td>2016                                                                </td><td>Nunavut, place of residence                                         </td><td>Females                                                             </td><td>Assault (homicide)                                                  </td><td>Percentage of deaths                                                </td><td> 0.0                                                                </td></tr>\n",
       "\t<tr><td>2016                                                                </td><td>Nunavut, place of residence                                         </td><td>Females                                                             </td><td>Legal intervention                                                  </td><td>Percentage of deaths                                                </td><td> 0.0                                                                </td></tr>\n",
       "\t<tr><td>2016                                                                </td><td>Nunavut, place of residence                                         </td><td>Females                                                             </td><td>Operations of war and their sequelae                                </td><td>Percentage of deaths                                                </td><td> 0.0                                                                </td></tr>\n",
       "\t<tr><td>2016                                                                </td><td>Nunavut, place of residence                                         </td><td>Females                                                             </td><td>Complications of medical and surgical care                          </td><td>Percentage of deaths                                                </td><td> 0.0                                                                </td></tr>\n",
       "\t<tr><td>2016                                                                </td><td>Nunavut, place of residence                                         </td><td>Females                                                             </td><td>Other causes of death                                               </td><td>Percentage of deaths                                                </td><td>20.7                                                                </td></tr>\n",
       "</tbody>\n",
       "</table>\n"
      ],
      "text/latex": [
       "\\begin{tabular}{r|llllll}\n",
       " Year & GEO & Sex & CauseOfDeath & Characteristics & VALUE\\\\\n",
       "\\hline\n",
       "\t 2000                                                                                & Canada, place of residence                                                          & Both sexes                                                                          & Total, all causes of death                                                          & Percentage of deaths                                                                & 100.0                                                                              \\\\\n",
       "\t 2000                                                                                & Canada, place of residence                                                          & Both sexes                                                                          & Salmonella infections                                                               & Percentage of deaths                                                                &   0.0                                                                              \\\\\n",
       "\t 2000                                                                                & Canada, place of residence                                                          & Both sexes                                                                          & Shigellosis and amoebiasis                                                          & Percentage of deaths                                                                &   0.0                                                                              \\\\\n",
       "\t 2000                                                                                & Canada, place of residence                                                          & Both sexes                                                                          & Tuberculosis                                                                        & Percentage of deaths                                                                &   0.0                                                                              \\\\\n",
       "\t 2000                                                                                & Canada, place of residence                                                          & Both sexes                                                                          & Whooping cough                                                                      & Percentage of deaths                                                                &   0.0                                                                              \\\\\n",
       "\t 2000                                                                                & Canada, place of residence                                                          & Both sexes                                                                          & Scarlet fever and erysipelas                                                        & Percentage of deaths                                                                &   0.0                                                                              \\\\\n",
       "\t 2000                                                                                & Canada, place of residence                                                          & Both sexes                                                                          & Meningococcal infection                                                             & Percentage of deaths                                                                &   0.0                                                                              \\\\\n",
       "\t 2000                                                                                & Canada, place of residence                                                          & Both sexes                                                                          & Sepsis                                                                              & Percentage of deaths                                                                &   0.6                                                                              \\\\\n",
       "\t 2000                                                                                & Canada, place of residence                                                          & Both sexes                                                                          & Syphilis                                                                            & Percentage of deaths                                                                &   0.0                                                                              \\\\\n",
       "\t 2000                                                                                & Canada, place of residence                                                          & Both sexes                                                                          & Acute poliomyelitis                                                                 & Percentage of deaths                                                                &   0.0                                                                              \\\\\n",
       "\t 2000                                                                                & Canada, place of residence                                                          & Both sexes                                                                          & Arthropod-borne viral encephalitis                                                  & Percentage of deaths                                                                &   0.0                                                                              \\\\\n",
       "\t 2000                                                                                & Canada, place of residence                                                          & Both sexes                                                                          & Measles                                                                             & Percentage of deaths                                                                &   0.0                                                                              \\\\\n",
       "\t 2000                                                                                & Canada, place of residence                                                          & Both sexes                                                                          & Viral hepatitis                                                                     & Percentage of deaths                                                                &   0.1                                                                              \\\\\n",
       "\t 2000                                                                                    & Canada, place of residence                                                              & Both sexes                                                                              & Human immunodeficiency virus {[}HIV{]} disease                                          & Percentage of deaths                                                                    &   0.2                                                                                  \\\\\n",
       "\t 2000                                                                                & Canada, place of residence                                                          & Both sexes                                                                          & Malaria                                                                             & Percentage of deaths                                                                &   0.0                                                                              \\\\\n",
       "\t 2000                                                                                & Canada, place of residence                                                          & Both sexes                                                                          & Malignant neoplasms                                                                 & Percentage of deaths                                                                &  28.7                                                                              \\\\\n",
       "\t 2000                                                                                & Canada, place of residence                                                          & Both sexes                                                                          & In situ neoplasms, benign neoplasms and neoplasms of uncertain or unknown behaviour & Percentage of deaths                                                                &   0.7                                                                              \\\\\n",
       "\t 2000                                                                                & Canada, place of residence                                                          & Both sexes                                                                          & Anaemias                                                                            & Percentage of deaths                                                                &   0.2                                                                              \\\\\n",
       "\t 2000                                                                                & Canada, place of residence                                                          & Both sexes                                                                          & Diabetes mellitus                                                                   & Percentage of deaths                                                                &   3.1                                                                              \\\\\n",
       "\t 2000                                                                                & Canada, place of residence                                                          & Both sexes                                                                          & Nutritional deficiencies                                                            & Percentage of deaths                                                                &   0.1                                                                              \\\\\n",
       "\t 2000                                                                                & Canada, place of residence                                                          & Both sexes                                                                          & Meningitis                                                                          & Percentage of deaths                                                                &   0.0                                                                              \\\\\n",
       "\t 2000                                                                                & Canada, place of residence                                                          & Both sexes                                                                          & Parkinson's disease                                                                 & Percentage of deaths                                                                &   0.7                                                                              \\\\\n",
       "\t 2000                                                                                & Canada, place of residence                                                          & Both sexes                                                                          & Alzheimer's disease                                                                 & Percentage of deaths                                                                &   2.3                                                                              \\\\\n",
       "\t 2000                                                                                & Canada, place of residence                                                          & Both sexes                                                                          & Diseases of heart                                                                   & Percentage of deaths                                                                &  25.3                                                                              \\\\\n",
       "\t 2000                                                                                & Canada, place of residence                                                          & Both sexes                                                                          & Essential hypertension and hypertensive renal disease                               & Percentage of deaths                                                                &   0.5                                                                              \\\\\n",
       "\t 2000                                                                                & Canada, place of residence                                                          & Both sexes                                                                          & Cerebrovascular diseases                                                            & Percentage of deaths                                                                &   7.1                                                                              \\\\\n",
       "\t 2000                                                                                & Canada, place of residence                                                          & Both sexes                                                                          & Atherosclerosis                                                                     & Percentage of deaths                                                                &   0.6                                                                              \\\\\n",
       "\t 2000                                                                                & Canada, place of residence                                                          & Both sexes                                                                          & Aortic aneurysm and dissection                                                      & Percentage of deaths                                                                &   0.9                                                                              \\\\\n",
       "\t 2000                                                                                & Canada, place of residence                                                          & Both sexes                                                                          & Influenza and pneumonia                                                             & Percentage of deaths                                                                &   2.3                                                                              \\\\\n",
       "\t 2000                                                                                & Canada, place of residence                                                          & Both sexes                                                                          & Acute bronchitis and bronchiolitis                                                  & Percentage of deaths                                                                &   0.0                                                                              \\\\\n",
       "\t ... & ... & ... & ... & ... & ...\\\\\n",
       "\t 2016                                                                 & Nunavut, place of residence                                          & Females                                                              & Parkinson's disease                                                  & Percentage of deaths                                                 &  0.0                                                                \\\\\n",
       "\t 2016                                                                 & Nunavut, place of residence                                          & Females                                                              & Alzheimer's disease                                                  & Percentage of deaths                                                 &  0.0                                                                \\\\\n",
       "\t 2016                                                                 & Nunavut, place of residence                                          & Females                                                              & Diseases of heart                                                    & Percentage of deaths                                                 &  6.9                                                                \\\\\n",
       "\t 2016                                                                 & Nunavut, place of residence                                          & Females                                                              & Essential hypertension and hypertensive renal disease                & Percentage of deaths                                                 &  0.0                                                                \\\\\n",
       "\t 2016                                                                 & Nunavut, place of residence                                          & Females                                                              & Cerebrovascular diseases                                             & Percentage of deaths                                                 &  3.4                                                                \\\\\n",
       "\t 2016                                                                 & Nunavut, place of residence                                          & Females                                                              & Atherosclerosis                                                      & Percentage of deaths                                                 &  0.0                                                                \\\\\n",
       "\t 2016                                                                 & Nunavut, place of residence                                          & Females                                                              & Aortic aneurysm and dissection                                       & Percentage of deaths                                                 &  0.0                                                                \\\\\n",
       "\t 2016                                                                 & Nunavut, place of residence                                          & Females                                                              & Influenza and pneumonia                                              & Percentage of deaths                                                 &  1.1                                                                \\\\\n",
       "\t 2016                                                                 & Nunavut, place of residence                                          & Females                                                              & Acute bronchitis and bronchiolitis                                   & Percentage of deaths                                                 &  0.0                                                                \\\\\n",
       "\t 2016                                                                 & Nunavut, place of residence                                          & Females                                                              & Chronic lower respiratory diseases                                   & Percentage of deaths                                                 & 21.8                                                                \\\\\n",
       "\t 2016                                                                 & Nunavut, place of residence                                          & Females                                                              & Pneumoconioses and chemical effects                                  & Percentage of deaths                                                 &  1.1                                                                \\\\\n",
       "\t 2016                                                                 & Nunavut, place of residence                                          & Females                                                              & Pneumonitis due to solids and liquids                                & Percentage of deaths                                                 &  0.0                                                                \\\\\n",
       "\t 2016                                                                 & Nunavut, place of residence                                          & Females                                                              & Peptic ulcer                                                         & Percentage of deaths                                                 &  0.0                                                                \\\\\n",
       "\t 2016                                                                 & Nunavut, place of residence                                          & Females                                                              & Diseases of appendix                                                 & Percentage of deaths                                                 &  0.0                                                                \\\\\n",
       "\t 2016                                                                 & Nunavut, place of residence                                          & Females                                                              & Hernia                                                               & Percentage of deaths                                                 &  0.0                                                                \\\\\n",
       "\t 2016                                                                 & Nunavut, place of residence                                          & Females                                                              & Chronic liver disease and cirrhosis                                  & Percentage of deaths                                                 &  1.1                                                                \\\\\n",
       "\t 2016                                                                 & Nunavut, place of residence                                          & Females                                                              & Cholelithiasis and other disorders of gallbladder                    & Percentage of deaths                                                 &  0.0                                                                \\\\\n",
       "\t 2016                                                                 & Nunavut, place of residence                                          & Females                                                              & Nephritis, nephrotic syndrome and nephrosis                          & Percentage of deaths                                                 &  0.0                                                                \\\\\n",
       "\t 2016                                                                 & Nunavut, place of residence                                          & Females                                                              & Infections of kidney                                                 & Percentage of deaths                                                 &  0.0                                                                \\\\\n",
       "\t 2016                                                                 & Nunavut, place of residence                                          & Females                                                              & Inflammatory diseases of female pelvic organs                        & Percentage of deaths                                                 &  0.0                                                                \\\\\n",
       "\t 2016                                                                 & Nunavut, place of residence                                          & Females                                                              & Pregnancy, childbirth and the puerperium                             & Percentage of deaths                                                 &  0.0                                                                \\\\\n",
       "\t 2016                                                                 & Nunavut, place of residence                                          & Females                                                              & Certain conditions originating in the perinatal period               & Percentage of deaths                                                 &  4.6                                                                \\\\\n",
       "\t 2016                                                                 & Nunavut, place of residence                                          & Females                                                              & Congenital malformations, deformations and chromosomal abnormalities & Percentage of deaths                                                 &  0.0                                                                \\\\\n",
       "\t 2016                                                                 & Nunavut, place of residence                                          & Females                                                              & Accidents (unintentional injuries)                                   & Percentage of deaths                                                 &  8.0                                                                \\\\\n",
       "\t 2016                                                                 & Nunavut, place of residence                                          & Females                                                              & Intentional self-harm (suicide)                                      & Percentage of deaths                                                 &  8.0                                                                \\\\\n",
       "\t 2016                                                                 & Nunavut, place of residence                                          & Females                                                              & Assault (homicide)                                                   & Percentage of deaths                                                 &  0.0                                                                \\\\\n",
       "\t 2016                                                                 & Nunavut, place of residence                                          & Females                                                              & Legal intervention                                                   & Percentage of deaths                                                 &  0.0                                                                \\\\\n",
       "\t 2016                                                                 & Nunavut, place of residence                                          & Females                                                              & Operations of war and their sequelae                                 & Percentage of deaths                                                 &  0.0                                                                \\\\\n",
       "\t 2016                                                                 & Nunavut, place of residence                                          & Females                                                              & Complications of medical and surgical care                           & Percentage of deaths                                                 &  0.0                                                                \\\\\n",
       "\t 2016                                                                 & Nunavut, place of residence                                          & Females                                                              & Other causes of death                                                & Percentage of deaths                                                 & 20.7                                                                \\\\\n",
       "\\end{tabular}\n"
      ],
      "text/markdown": [
       "\n",
       "Year | GEO | Sex | CauseOfDeath | Characteristics | VALUE | \n",
       "|---|---|---|---|---|---|---|---|---|---|---|---|---|---|---|---|---|---|---|---|---|---|---|---|---|---|---|---|---|---|---|---|---|---|---|---|---|---|---|---|---|---|---|---|---|---|---|---|---|---|---|---|---|---|---|---|---|---|---|---|---|\n",
       "| 2000                                                                                | Canada, place of residence                                                          | Both sexes                                                                          | Total, all causes of death                                                          | Percentage of deaths                                                                | 100.0                                                                               | \n",
       "| 2000                                                                                | Canada, place of residence                                                          | Both sexes                                                                          | Salmonella infections                                                               | Percentage of deaths                                                                |   0.0                                                                               | \n",
       "| 2000                                                                                | Canada, place of residence                                                          | Both sexes                                                                          | Shigellosis and amoebiasis                                                          | Percentage of deaths                                                                |   0.0                                                                               | \n",
       "| 2000                                                                                | Canada, place of residence                                                          | Both sexes                                                                          | Tuberculosis                                                                        | Percentage of deaths                                                                |   0.0                                                                               | \n",
       "| 2000                                                                                | Canada, place of residence                                                          | Both sexes                                                                          | Whooping cough                                                                      | Percentage of deaths                                                                |   0.0                                                                               | \n",
       "| 2000                                                                                | Canada, place of residence                                                          | Both sexes                                                                          | Scarlet fever and erysipelas                                                        | Percentage of deaths                                                                |   0.0                                                                               | \n",
       "| 2000                                                                                | Canada, place of residence                                                          | Both sexes                                                                          | Meningococcal infection                                                             | Percentage of deaths                                                                |   0.0                                                                               | \n",
       "| 2000                                                                                | Canada, place of residence                                                          | Both sexes                                                                          | Sepsis                                                                              | Percentage of deaths                                                                |   0.6                                                                               | \n",
       "| 2000                                                                                | Canada, place of residence                                                          | Both sexes                                                                          | Syphilis                                                                            | Percentage of deaths                                                                |   0.0                                                                               | \n",
       "| 2000                                                                                | Canada, place of residence                                                          | Both sexes                                                                          | Acute poliomyelitis                                                                 | Percentage of deaths                                                                |   0.0                                                                               | \n",
       "| 2000                                                                                | Canada, place of residence                                                          | Both sexes                                                                          | Arthropod-borne viral encephalitis                                                  | Percentage of deaths                                                                |   0.0                                                                               | \n",
       "| 2000                                                                                | Canada, place of residence                                                          | Both sexes                                                                          | Measles                                                                             | Percentage of deaths                                                                |   0.0                                                                               | \n",
       "| 2000                                                                                | Canada, place of residence                                                          | Both sexes                                                                          | Viral hepatitis                                                                     | Percentage of deaths                                                                |   0.1                                                                               | \n",
       "| 2000                                                                                | Canada, place of residence                                                          | Both sexes                                                                          | Human immunodeficiency virus [HIV] disease                                          | Percentage of deaths                                                                |   0.2                                                                               | \n",
       "| 2000                                                                                | Canada, place of residence                                                          | Both sexes                                                                          | Malaria                                                                             | Percentage of deaths                                                                |   0.0                                                                               | \n",
       "| 2000                                                                                | Canada, place of residence                                                          | Both sexes                                                                          | Malignant neoplasms                                                                 | Percentage of deaths                                                                |  28.7                                                                               | \n",
       "| 2000                                                                                | Canada, place of residence                                                          | Both sexes                                                                          | In situ neoplasms, benign neoplasms and neoplasms of uncertain or unknown behaviour | Percentage of deaths                                                                |   0.7                                                                               | \n",
       "| 2000                                                                                | Canada, place of residence                                                          | Both sexes                                                                          | Anaemias                                                                            | Percentage of deaths                                                                |   0.2                                                                               | \n",
       "| 2000                                                                                | Canada, place of residence                                                          | Both sexes                                                                          | Diabetes mellitus                                                                   | Percentage of deaths                                                                |   3.1                                                                               | \n",
       "| 2000                                                                                | Canada, place of residence                                                          | Both sexes                                                                          | Nutritional deficiencies                                                            | Percentage of deaths                                                                |   0.1                                                                               | \n",
       "| 2000                                                                                | Canada, place of residence                                                          | Both sexes                                                                          | Meningitis                                                                          | Percentage of deaths                                                                |   0.0                                                                               | \n",
       "| 2000                                                                                | Canada, place of residence                                                          | Both sexes                                                                          | Parkinson's disease                                                                 | Percentage of deaths                                                                |   0.7                                                                               | \n",
       "| 2000                                                                                | Canada, place of residence                                                          | Both sexes                                                                          | Alzheimer's disease                                                                 | Percentage of deaths                                                                |   2.3                                                                               | \n",
       "| 2000                                                                                | Canada, place of residence                                                          | Both sexes                                                                          | Diseases of heart                                                                   | Percentage of deaths                                                                |  25.3                                                                               | \n",
       "| 2000                                                                                | Canada, place of residence                                                          | Both sexes                                                                          | Essential hypertension and hypertensive renal disease                               | Percentage of deaths                                                                |   0.5                                                                               | \n",
       "| 2000                                                                                | Canada, place of residence                                                          | Both sexes                                                                          | Cerebrovascular diseases                                                            | Percentage of deaths                                                                |   7.1                                                                               | \n",
       "| 2000                                                                                | Canada, place of residence                                                          | Both sexes                                                                          | Atherosclerosis                                                                     | Percentage of deaths                                                                |   0.6                                                                               | \n",
       "| 2000                                                                                | Canada, place of residence                                                          | Both sexes                                                                          | Aortic aneurysm and dissection                                                      | Percentage of deaths                                                                |   0.9                                                                               | \n",
       "| 2000                                                                                | Canada, place of residence                                                          | Both sexes                                                                          | Influenza and pneumonia                                                             | Percentage of deaths                                                                |   2.3                                                                               | \n",
       "| 2000                                                                                | Canada, place of residence                                                          | Both sexes                                                                          | Acute bronchitis and bronchiolitis                                                  | Percentage of deaths                                                                |   0.0                                                                               | \n",
       "| ... | ... | ... | ... | ... | ... | \n",
       "| 2016                                                                 | Nunavut, place of residence                                          | Females                                                              | Parkinson's disease                                                  | Percentage of deaths                                                 |  0.0                                                                 | \n",
       "| 2016                                                                 | Nunavut, place of residence                                          | Females                                                              | Alzheimer's disease                                                  | Percentage of deaths                                                 |  0.0                                                                 | \n",
       "| 2016                                                                 | Nunavut, place of residence                                          | Females                                                              | Diseases of heart                                                    | Percentage of deaths                                                 |  6.9                                                                 | \n",
       "| 2016                                                                 | Nunavut, place of residence                                          | Females                                                              | Essential hypertension and hypertensive renal disease                | Percentage of deaths                                                 |  0.0                                                                 | \n",
       "| 2016                                                                 | Nunavut, place of residence                                          | Females                                                              | Cerebrovascular diseases                                             | Percentage of deaths                                                 |  3.4                                                                 | \n",
       "| 2016                                                                 | Nunavut, place of residence                                          | Females                                                              | Atherosclerosis                                                      | Percentage of deaths                                                 |  0.0                                                                 | \n",
       "| 2016                                                                 | Nunavut, place of residence                                          | Females                                                              | Aortic aneurysm and dissection                                       | Percentage of deaths                                                 |  0.0                                                                 | \n",
       "| 2016                                                                 | Nunavut, place of residence                                          | Females                                                              | Influenza and pneumonia                                              | Percentage of deaths                                                 |  1.1                                                                 | \n",
       "| 2016                                                                 | Nunavut, place of residence                                          | Females                                                              | Acute bronchitis and bronchiolitis                                   | Percentage of deaths                                                 |  0.0                                                                 | \n",
       "| 2016                                                                 | Nunavut, place of residence                                          | Females                                                              | Chronic lower respiratory diseases                                   | Percentage of deaths                                                 | 21.8                                                                 | \n",
       "| 2016                                                                 | Nunavut, place of residence                                          | Females                                                              | Pneumoconioses and chemical effects                                  | Percentage of deaths                                                 |  1.1                                                                 | \n",
       "| 2016                                                                 | Nunavut, place of residence                                          | Females                                                              | Pneumonitis due to solids and liquids                                | Percentage of deaths                                                 |  0.0                                                                 | \n",
       "| 2016                                                                 | Nunavut, place of residence                                          | Females                                                              | Peptic ulcer                                                         | Percentage of deaths                                                 |  0.0                                                                 | \n",
       "| 2016                                                                 | Nunavut, place of residence                                          | Females                                                              | Diseases of appendix                                                 | Percentage of deaths                                                 |  0.0                                                                 | \n",
       "| 2016                                                                 | Nunavut, place of residence                                          | Females                                                              | Hernia                                                               | Percentage of deaths                                                 |  0.0                                                                 | \n",
       "| 2016                                                                 | Nunavut, place of residence                                          | Females                                                              | Chronic liver disease and cirrhosis                                  | Percentage of deaths                                                 |  1.1                                                                 | \n",
       "| 2016                                                                 | Nunavut, place of residence                                          | Females                                                              | Cholelithiasis and other disorders of gallbladder                    | Percentage of deaths                                                 |  0.0                                                                 | \n",
       "| 2016                                                                 | Nunavut, place of residence                                          | Females                                                              | Nephritis, nephrotic syndrome and nephrosis                          | Percentage of deaths                                                 |  0.0                                                                 | \n",
       "| 2016                                                                 | Nunavut, place of residence                                          | Females                                                              | Infections of kidney                                                 | Percentage of deaths                                                 |  0.0                                                                 | \n",
       "| 2016                                                                 | Nunavut, place of residence                                          | Females                                                              | Inflammatory diseases of female pelvic organs                        | Percentage of deaths                                                 |  0.0                                                                 | \n",
       "| 2016                                                                 | Nunavut, place of residence                                          | Females                                                              | Pregnancy, childbirth and the puerperium                             | Percentage of deaths                                                 |  0.0                                                                 | \n",
       "| 2016                                                                 | Nunavut, place of residence                                          | Females                                                              | Certain conditions originating in the perinatal period               | Percentage of deaths                                                 |  4.6                                                                 | \n",
       "| 2016                                                                 | Nunavut, place of residence                                          | Females                                                              | Congenital malformations, deformations and chromosomal abnormalities | Percentage of deaths                                                 |  0.0                                                                 | \n",
       "| 2016                                                                 | Nunavut, place of residence                                          | Females                                                              | Accidents (unintentional injuries)                                   | Percentage of deaths                                                 |  8.0                                                                 | \n",
       "| 2016                                                                 | Nunavut, place of residence                                          | Females                                                              | Intentional self-harm (suicide)                                      | Percentage of deaths                                                 |  8.0                                                                 | \n",
       "| 2016                                                                 | Nunavut, place of residence                                          | Females                                                              | Assault (homicide)                                                   | Percentage of deaths                                                 |  0.0                                                                 | \n",
       "| 2016                                                                 | Nunavut, place of residence                                          | Females                                                              | Legal intervention                                                   | Percentage of deaths                                                 |  0.0                                                                 | \n",
       "| 2016                                                                 | Nunavut, place of residence                                          | Females                                                              | Operations of war and their sequelae                                 | Percentage of deaths                                                 |  0.0                                                                 | \n",
       "| 2016                                                                 | Nunavut, place of residence                                          | Females                                                              | Complications of medical and surgical care                           | Percentage of deaths                                                 |  0.0                                                                 | \n",
       "| 2016                                                                 | Nunavut, place of residence                                          | Females                                                              | Other causes of death                                                | Percentage of deaths                                                 | 20.7                                                                 | \n",
       "\n",
       "\n"
      ],
      "text/plain": [
       "      Year GEO                         Sex       \n",
       "1     2000 Canada, place of residence  Both sexes\n",
       "2     2000 Canada, place of residence  Both sexes\n",
       "3     2000 Canada, place of residence  Both sexes\n",
       "4     2000 Canada, place of residence  Both sexes\n",
       "5     2000 Canada, place of residence  Both sexes\n",
       "6     2000 Canada, place of residence  Both sexes\n",
       "7     2000 Canada, place of residence  Both sexes\n",
       "8     2000 Canada, place of residence  Both sexes\n",
       "9     2000 Canada, place of residence  Both sexes\n",
       "10    2000 Canada, place of residence  Both sexes\n",
       "11    2000 Canada, place of residence  Both sexes\n",
       "12    2000 Canada, place of residence  Both sexes\n",
       "13    2000 Canada, place of residence  Both sexes\n",
       "14    2000 Canada, place of residence  Both sexes\n",
       "15    2000 Canada, place of residence  Both sexes\n",
       "16    2000 Canada, place of residence  Both sexes\n",
       "17    2000 Canada, place of residence  Both sexes\n",
       "18    2000 Canada, place of residence  Both sexes\n",
       "19    2000 Canada, place of residence  Both sexes\n",
       "20    2000 Canada, place of residence  Both sexes\n",
       "21    2000 Canada, place of residence  Both sexes\n",
       "22    2000 Canada, place of residence  Both sexes\n",
       "23    2000 Canada, place of residence  Both sexes\n",
       "24    2000 Canada, place of residence  Both sexes\n",
       "25    2000 Canada, place of residence  Both sexes\n",
       "26    2000 Canada, place of residence  Both sexes\n",
       "27    2000 Canada, place of residence  Both sexes\n",
       "28    2000 Canada, place of residence  Both sexes\n",
       "29    2000 Canada, place of residence  Both sexes\n",
       "30    2000 Canada, place of residence  Both sexes\n",
       "...   ...  ...                         ...       \n",
       "36385 2016 Nunavut, place of residence Females   \n",
       "36386 2016 Nunavut, place of residence Females   \n",
       "36387 2016 Nunavut, place of residence Females   \n",
       "36388 2016 Nunavut, place of residence Females   \n",
       "36389 2016 Nunavut, place of residence Females   \n",
       "36390 2016 Nunavut, place of residence Females   \n",
       "36391 2016 Nunavut, place of residence Females   \n",
       "36392 2016 Nunavut, place of residence Females   \n",
       "36393 2016 Nunavut, place of residence Females   \n",
       "36394 2016 Nunavut, place of residence Females   \n",
       "36395 2016 Nunavut, place of residence Females   \n",
       "36396 2016 Nunavut, place of residence Females   \n",
       "36397 2016 Nunavut, place of residence Females   \n",
       "36398 2016 Nunavut, place of residence Females   \n",
       "36399 2016 Nunavut, place of residence Females   \n",
       "36400 2016 Nunavut, place of residence Females   \n",
       "36401 2016 Nunavut, place of residence Females   \n",
       "36402 2016 Nunavut, place of residence Females   \n",
       "36403 2016 Nunavut, place of residence Females   \n",
       "36404 2016 Nunavut, place of residence Females   \n",
       "36405 2016 Nunavut, place of residence Females   \n",
       "36406 2016 Nunavut, place of residence Females   \n",
       "36407 2016 Nunavut, place of residence Females   \n",
       "36408 2016 Nunavut, place of residence Females   \n",
       "36409 2016 Nunavut, place of residence Females   \n",
       "36410 2016 Nunavut, place of residence Females   \n",
       "36411 2016 Nunavut, place of residence Females   \n",
       "36412 2016 Nunavut, place of residence Females   \n",
       "36413 2016 Nunavut, place of residence Females   \n",
       "36414 2016 Nunavut, place of residence Females   \n",
       "      CauseOfDeath                                                                       \n",
       "1     Total, all causes of death                                                         \n",
       "2     Salmonella infections                                                              \n",
       "3     Shigellosis and amoebiasis                                                         \n",
       "4     Tuberculosis                                                                       \n",
       "5     Whooping cough                                                                     \n",
       "6     Scarlet fever and erysipelas                                                       \n",
       "7     Meningococcal infection                                                            \n",
       "8     Sepsis                                                                             \n",
       "9     Syphilis                                                                           \n",
       "10    Acute poliomyelitis                                                                \n",
       "11    Arthropod-borne viral encephalitis                                                 \n",
       "12    Measles                                                                            \n",
       "13    Viral hepatitis                                                                    \n",
       "14    Human immunodeficiency virus [HIV] disease                                         \n",
       "15    Malaria                                                                            \n",
       "16    Malignant neoplasms                                                                \n",
       "17    In situ neoplasms, benign neoplasms and neoplasms of uncertain or unknown behaviour\n",
       "18    Anaemias                                                                           \n",
       "19    Diabetes mellitus                                                                  \n",
       "20    Nutritional deficiencies                                                           \n",
       "21    Meningitis                                                                         \n",
       "22    Parkinson's disease                                                                \n",
       "23    Alzheimer's disease                                                                \n",
       "24    Diseases of heart                                                                  \n",
       "25    Essential hypertension and hypertensive renal disease                              \n",
       "26    Cerebrovascular diseases                                                           \n",
       "27    Atherosclerosis                                                                    \n",
       "28    Aortic aneurysm and dissection                                                     \n",
       "29    Influenza and pneumonia                                                            \n",
       "30    Acute bronchitis and bronchiolitis                                                 \n",
       "...   ...                                                                                \n",
       "36385 Parkinson's disease                                                                \n",
       "36386 Alzheimer's disease                                                                \n",
       "36387 Diseases of heart                                                                  \n",
       "36388 Essential hypertension and hypertensive renal disease                              \n",
       "36389 Cerebrovascular diseases                                                           \n",
       "36390 Atherosclerosis                                                                    \n",
       "36391 Aortic aneurysm and dissection                                                     \n",
       "36392 Influenza and pneumonia                                                            \n",
       "36393 Acute bronchitis and bronchiolitis                                                 \n",
       "36394 Chronic lower respiratory diseases                                                 \n",
       "36395 Pneumoconioses and chemical effects                                                \n",
       "36396 Pneumonitis due to solids and liquids                                              \n",
       "36397 Peptic ulcer                                                                       \n",
       "36398 Diseases of appendix                                                               \n",
       "36399 Hernia                                                                             \n",
       "36400 Chronic liver disease and cirrhosis                                                \n",
       "36401 Cholelithiasis and other disorders of gallbladder                                  \n",
       "36402 Nephritis, nephrotic syndrome and nephrosis                                        \n",
       "36403 Infections of kidney                                                               \n",
       "36404 Inflammatory diseases of female pelvic organs                                      \n",
       "36405 Pregnancy, childbirth and the puerperium                                           \n",
       "36406 Certain conditions originating in the perinatal period                             \n",
       "36407 Congenital malformations, deformations and chromosomal abnormalities               \n",
       "36408 Accidents (unintentional injuries)                                                 \n",
       "36409 Intentional self-harm (suicide)                                                    \n",
       "36410 Assault (homicide)                                                                 \n",
       "36411 Legal intervention                                                                 \n",
       "36412 Operations of war and their sequelae                                               \n",
       "36413 Complications of medical and surgical care                                         \n",
       "36414 Other causes of death                                                              \n",
       "      Characteristics      VALUE\n",
       "1     Percentage of deaths 100.0\n",
       "2     Percentage of deaths   0.0\n",
       "3     Percentage of deaths   0.0\n",
       "4     Percentage of deaths   0.0\n",
       "5     Percentage of deaths   0.0\n",
       "6     Percentage of deaths   0.0\n",
       "7     Percentage of deaths   0.0\n",
       "8     Percentage of deaths   0.6\n",
       "9     Percentage of deaths   0.0\n",
       "10    Percentage of deaths   0.0\n",
       "11    Percentage of deaths   0.0\n",
       "12    Percentage of deaths   0.0\n",
       "13    Percentage of deaths   0.1\n",
       "14    Percentage of deaths   0.2\n",
       "15    Percentage of deaths   0.0\n",
       "16    Percentage of deaths  28.7\n",
       "17    Percentage of deaths   0.7\n",
       "18    Percentage of deaths   0.2\n",
       "19    Percentage of deaths   3.1\n",
       "20    Percentage of deaths   0.1\n",
       "21    Percentage of deaths   0.0\n",
       "22    Percentage of deaths   0.7\n",
       "23    Percentage of deaths   2.3\n",
       "24    Percentage of deaths  25.3\n",
       "25    Percentage of deaths   0.5\n",
       "26    Percentage of deaths   7.1\n",
       "27    Percentage of deaths   0.6\n",
       "28    Percentage of deaths   0.9\n",
       "29    Percentage of deaths   2.3\n",
       "30    Percentage of deaths   0.0\n",
       "...   ...                  ...  \n",
       "36385 Percentage of deaths  0.0 \n",
       "36386 Percentage of deaths  0.0 \n",
       "36387 Percentage of deaths  6.9 \n",
       "36388 Percentage of deaths  0.0 \n",
       "36389 Percentage of deaths  3.4 \n",
       "36390 Percentage of deaths  0.0 \n",
       "36391 Percentage of deaths  0.0 \n",
       "36392 Percentage of deaths  1.1 \n",
       "36393 Percentage of deaths  0.0 \n",
       "36394 Percentage of deaths 21.8 \n",
       "36395 Percentage of deaths  1.1 \n",
       "36396 Percentage of deaths  0.0 \n",
       "36397 Percentage of deaths  0.0 \n",
       "36398 Percentage of deaths  0.0 \n",
       "36399 Percentage of deaths  0.0 \n",
       "36400 Percentage of deaths  1.1 \n",
       "36401 Percentage of deaths  0.0 \n",
       "36402 Percentage of deaths  0.0 \n",
       "36403 Percentage of deaths  0.0 \n",
       "36404 Percentage of deaths  0.0 \n",
       "36405 Percentage of deaths  0.0 \n",
       "36406 Percentage of deaths  4.6 \n",
       "36407 Percentage of deaths  0.0 \n",
       "36408 Percentage of deaths  8.0 \n",
       "36409 Percentage of deaths  8.0 \n",
       "36410 Percentage of deaths  0.0 \n",
       "36411 Percentage of deaths  0.0 \n",
       "36412 Percentage of deaths  0.0 \n",
       "36413 Percentage of deaths  0.0 \n",
       "36414 Percentage of deaths 20.7 "
      ]
     },
     "metadata": {},
     "output_type": "display_data"
    }
   ],
   "source": [
    "df"
   ]
  },
  {
   "cell_type": "code",
   "execution_count": 86,
   "metadata": {},
   "outputs": [
    {
     "data": {
      "text/html": [
       "<ol class=list-inline>\n",
       "\t<li>'Accidents (unintentional injuries)'</li>\n",
       "\t<li>'Acute bronchitis and bronchiolitis'</li>\n",
       "\t<li>'Acute poliomyelitis'</li>\n",
       "\t<li>'Alzheimer\\'s disease'</li>\n",
       "\t<li>'Anaemias'</li>\n",
       "\t<li>'Aortic aneurysm and dissection'</li>\n",
       "\t<li>'Arthropod-borne viral encephalitis'</li>\n",
       "\t<li>'Assault (homicide)'</li>\n",
       "\t<li>'Atherosclerosis'</li>\n",
       "\t<li>'Cerebrovascular diseases'</li>\n",
       "\t<li>'Certain conditions originating in the perinatal period'</li>\n",
       "\t<li>'Cholelithiasis and other disorders of gallbladder'</li>\n",
       "\t<li>'Chronic liver disease and cirrhosis'</li>\n",
       "\t<li>'Chronic lower respiratory diseases'</li>\n",
       "\t<li>'Complications of medical and surgical care'</li>\n",
       "\t<li>'Congenital malformations, deformations and chromosomal abnormalities'</li>\n",
       "\t<li>'Diabetes mellitus'</li>\n",
       "\t<li>'Diseases of appendix'</li>\n",
       "\t<li>'Diseases of heart'</li>\n",
       "\t<li>'Essential hypertension and hypertensive renal disease'</li>\n",
       "\t<li>'Hernia'</li>\n",
       "\t<li>'Human immunodeficiency virus [HIV] disease'</li>\n",
       "\t<li>'Hyperplasia of prostate'</li>\n",
       "\t<li>'In situ neoplasms, benign neoplasms and neoplasms of uncertain or unknown behaviour'</li>\n",
       "\t<li>'Infections of kidney'</li>\n",
       "\t<li>'Inflammatory diseases of female pelvic organs'</li>\n",
       "\t<li>'Influenza and pneumonia'</li>\n",
       "\t<li>'Intentional self-harm (suicide)'</li>\n",
       "\t<li>'Legal intervention'</li>\n",
       "\t<li>'Malaria'</li>\n",
       "\t<li>'Malignant neoplasms'</li>\n",
       "\t<li>'Measles'</li>\n",
       "\t<li>'Meningitis'</li>\n",
       "\t<li>'Meningococcal infection'</li>\n",
       "\t<li>'Nephritis, nephrotic syndrome and nephrosis'</li>\n",
       "\t<li>'Nutritional deficiencies'</li>\n",
       "\t<li>'Operations of war and their sequelae'</li>\n",
       "\t<li>'Other causes of death'</li>\n",
       "\t<li>'Parkinson\\'s disease'</li>\n",
       "\t<li>'Peptic ulcer'</li>\n",
       "\t<li>'Pneumoconioses and chemical effects'</li>\n",
       "\t<li>'Pneumonitis due to solids and liquids'</li>\n",
       "\t<li>'Pregnancy, childbirth and the puerperium'</li>\n",
       "\t<li>'Salmonella infections'</li>\n",
       "\t<li>'Scarlet fever and erysipelas'</li>\n",
       "\t<li>'Sepsis'</li>\n",
       "\t<li>'Shigellosis and amoebiasis'</li>\n",
       "\t<li>'Syphilis'</li>\n",
       "\t<li>'Total, all causes of death'</li>\n",
       "\t<li>'Tuberculosis'</li>\n",
       "\t<li>'Viral hepatitis'</li>\n",
       "\t<li>'Whooping cough'</li>\n",
       "</ol>\n"
      ],
      "text/latex": [
       "\\begin{enumerate*}\n",
       "\\item 'Accidents (unintentional injuries)'\n",
       "\\item 'Acute bronchitis and bronchiolitis'\n",
       "\\item 'Acute poliomyelitis'\n",
       "\\item 'Alzheimer\\textbackslash{}'s disease'\n",
       "\\item 'Anaemias'\n",
       "\\item 'Aortic aneurysm and dissection'\n",
       "\\item 'Arthropod-borne viral encephalitis'\n",
       "\\item 'Assault (homicide)'\n",
       "\\item 'Atherosclerosis'\n",
       "\\item 'Cerebrovascular diseases'\n",
       "\\item 'Certain conditions originating in the perinatal period'\n",
       "\\item 'Cholelithiasis and other disorders of gallbladder'\n",
       "\\item 'Chronic liver disease and cirrhosis'\n",
       "\\item 'Chronic lower respiratory diseases'\n",
       "\\item 'Complications of medical and surgical care'\n",
       "\\item 'Congenital malformations, deformations and chromosomal abnormalities'\n",
       "\\item 'Diabetes mellitus'\n",
       "\\item 'Diseases of appendix'\n",
       "\\item 'Diseases of heart'\n",
       "\\item 'Essential hypertension and hypertensive renal disease'\n",
       "\\item 'Hernia'\n",
       "\\item 'Human immunodeficiency virus {[}HIV{]} disease'\n",
       "\\item 'Hyperplasia of prostate'\n",
       "\\item 'In situ neoplasms, benign neoplasms and neoplasms of uncertain or unknown behaviour'\n",
       "\\item 'Infections of kidney'\n",
       "\\item 'Inflammatory diseases of female pelvic organs'\n",
       "\\item 'Influenza and pneumonia'\n",
       "\\item 'Intentional self-harm (suicide)'\n",
       "\\item 'Legal intervention'\n",
       "\\item 'Malaria'\n",
       "\\item 'Malignant neoplasms'\n",
       "\\item 'Measles'\n",
       "\\item 'Meningitis'\n",
       "\\item 'Meningococcal infection'\n",
       "\\item 'Nephritis, nephrotic syndrome and nephrosis'\n",
       "\\item 'Nutritional deficiencies'\n",
       "\\item 'Operations of war and their sequelae'\n",
       "\\item 'Other causes of death'\n",
       "\\item 'Parkinson\\textbackslash{}'s disease'\n",
       "\\item 'Peptic ulcer'\n",
       "\\item 'Pneumoconioses and chemical effects'\n",
       "\\item 'Pneumonitis due to solids and liquids'\n",
       "\\item 'Pregnancy, childbirth and the puerperium'\n",
       "\\item 'Salmonella infections'\n",
       "\\item 'Scarlet fever and erysipelas'\n",
       "\\item 'Sepsis'\n",
       "\\item 'Shigellosis and amoebiasis'\n",
       "\\item 'Syphilis'\n",
       "\\item 'Total, all causes of death'\n",
       "\\item 'Tuberculosis'\n",
       "\\item 'Viral hepatitis'\n",
       "\\item 'Whooping cough'\n",
       "\\end{enumerate*}\n"
      ],
      "text/markdown": [
       "1. 'Accidents (unintentional injuries)'\n",
       "2. 'Acute bronchitis and bronchiolitis'\n",
       "3. 'Acute poliomyelitis'\n",
       "4. 'Alzheimer\\'s disease'\n",
       "5. 'Anaemias'\n",
       "6. 'Aortic aneurysm and dissection'\n",
       "7. 'Arthropod-borne viral encephalitis'\n",
       "8. 'Assault (homicide)'\n",
       "9. 'Atherosclerosis'\n",
       "10. 'Cerebrovascular diseases'\n",
       "11. 'Certain conditions originating in the perinatal period'\n",
       "12. 'Cholelithiasis and other disorders of gallbladder'\n",
       "13. 'Chronic liver disease and cirrhosis'\n",
       "14. 'Chronic lower respiratory diseases'\n",
       "15. 'Complications of medical and surgical care'\n",
       "16. 'Congenital malformations, deformations and chromosomal abnormalities'\n",
       "17. 'Diabetes mellitus'\n",
       "18. 'Diseases of appendix'\n",
       "19. 'Diseases of heart'\n",
       "20. 'Essential hypertension and hypertensive renal disease'\n",
       "21. 'Hernia'\n",
       "22. 'Human immunodeficiency virus [HIV] disease'\n",
       "23. 'Hyperplasia of prostate'\n",
       "24. 'In situ neoplasms, benign neoplasms and neoplasms of uncertain or unknown behaviour'\n",
       "25. 'Infections of kidney'\n",
       "26. 'Inflammatory diseases of female pelvic organs'\n",
       "27. 'Influenza and pneumonia'\n",
       "28. 'Intentional self-harm (suicide)'\n",
       "29. 'Legal intervention'\n",
       "30. 'Malaria'\n",
       "31. 'Malignant neoplasms'\n",
       "32. 'Measles'\n",
       "33. 'Meningitis'\n",
       "34. 'Meningococcal infection'\n",
       "35. 'Nephritis, nephrotic syndrome and nephrosis'\n",
       "36. 'Nutritional deficiencies'\n",
       "37. 'Operations of war and their sequelae'\n",
       "38. 'Other causes of death'\n",
       "39. 'Parkinson\\'s disease'\n",
       "40. 'Peptic ulcer'\n",
       "41. 'Pneumoconioses and chemical effects'\n",
       "42. 'Pneumonitis due to solids and liquids'\n",
       "43. 'Pregnancy, childbirth and the puerperium'\n",
       "44. 'Salmonella infections'\n",
       "45. 'Scarlet fever and erysipelas'\n",
       "46. 'Sepsis'\n",
       "47. 'Shigellosis and amoebiasis'\n",
       "48. 'Syphilis'\n",
       "49. 'Total, all causes of death'\n",
       "50. 'Tuberculosis'\n",
       "51. 'Viral hepatitis'\n",
       "52. 'Whooping cough'\n",
       "\n",
       "\n"
      ],
      "text/plain": [
       " [1] \"Accidents (unintentional injuries)\"                                                 \n",
       " [2] \"Acute bronchitis and bronchiolitis\"                                                 \n",
       " [3] \"Acute poliomyelitis\"                                                                \n",
       " [4] \"Alzheimer's disease\"                                                                \n",
       " [5] \"Anaemias\"                                                                           \n",
       " [6] \"Aortic aneurysm and dissection\"                                                     \n",
       " [7] \"Arthropod-borne viral encephalitis\"                                                 \n",
       " [8] \"Assault (homicide)\"                                                                 \n",
       " [9] \"Atherosclerosis\"                                                                    \n",
       "[10] \"Cerebrovascular diseases\"                                                           \n",
       "[11] \"Certain conditions originating in the perinatal period\"                             \n",
       "[12] \"Cholelithiasis and other disorders of gallbladder\"                                  \n",
       "[13] \"Chronic liver disease and cirrhosis\"                                                \n",
       "[14] \"Chronic lower respiratory diseases\"                                                 \n",
       "[15] \"Complications of medical and surgical care\"                                         \n",
       "[16] \"Congenital malformations, deformations and chromosomal abnormalities\"               \n",
       "[17] \"Diabetes mellitus\"                                                                  \n",
       "[18] \"Diseases of appendix\"                                                               \n",
       "[19] \"Diseases of heart\"                                                                  \n",
       "[20] \"Essential hypertension and hypertensive renal disease\"                              \n",
       "[21] \"Hernia\"                                                                             \n",
       "[22] \"Human immunodeficiency virus [HIV] disease\"                                         \n",
       "[23] \"Hyperplasia of prostate\"                                                            \n",
       "[24] \"In situ neoplasms, benign neoplasms and neoplasms of uncertain or unknown behaviour\"\n",
       "[25] \"Infections of kidney\"                                                               \n",
       "[26] \"Inflammatory diseases of female pelvic organs\"                                      \n",
       "[27] \"Influenza and pneumonia\"                                                            \n",
       "[28] \"Intentional self-harm (suicide)\"                                                    \n",
       "[29] \"Legal intervention\"                                                                 \n",
       "[30] \"Malaria\"                                                                            \n",
       "[31] \"Malignant neoplasms\"                                                                \n",
       "[32] \"Measles\"                                                                            \n",
       "[33] \"Meningitis\"                                                                         \n",
       "[34] \"Meningococcal infection\"                                                            \n",
       "[35] \"Nephritis, nephrotic syndrome and nephrosis\"                                        \n",
       "[36] \"Nutritional deficiencies\"                                                           \n",
       "[37] \"Operations of war and their sequelae\"                                               \n",
       "[38] \"Other causes of death\"                                                              \n",
       "[39] \"Parkinson's disease\"                                                                \n",
       "[40] \"Peptic ulcer\"                                                                       \n",
       "[41] \"Pneumoconioses and chemical effects\"                                                \n",
       "[42] \"Pneumonitis due to solids and liquids\"                                              \n",
       "[43] \"Pregnancy, childbirth and the puerperium\"                                           \n",
       "[44] \"Salmonella infections\"                                                              \n",
       "[45] \"Scarlet fever and erysipelas\"                                                       \n",
       "[46] \"Sepsis\"                                                                             \n",
       "[47] \"Shigellosis and amoebiasis\"                                                         \n",
       "[48] \"Syphilis\"                                                                           \n",
       "[49] \"Total, all causes of death\"                                                         \n",
       "[50] \"Tuberculosis\"                                                                       \n",
       "[51] \"Viral hepatitis\"                                                                    \n",
       "[52] \"Whooping cough\"                                                                     "
      ]
     },
     "metadata": {},
     "output_type": "display_data"
    },
    {
     "data": {
      "text/html": [
       "<ol class=list-inline>\n",
       "\t<li>'Both sexes'</li>\n",
       "\t<li>'Females'</li>\n",
       "\t<li>'Males'</li>\n",
       "</ol>\n"
      ],
      "text/latex": [
       "\\begin{enumerate*}\n",
       "\\item 'Both sexes'\n",
       "\\item 'Females'\n",
       "\\item 'Males'\n",
       "\\end{enumerate*}\n"
      ],
      "text/markdown": [
       "1. 'Both sexes'\n",
       "2. 'Females'\n",
       "3. 'Males'\n",
       "\n",
       "\n"
      ],
      "text/plain": [
       "[1] \"Both sexes\" \"Females\"    \"Males\"     "
      ]
     },
     "metadata": {},
     "output_type": "display_data"
    }
   ],
   "source": [
    "levels(df$CauseOfDeath)\n",
    "levels(df$Sex)"
   ]
  },
  {
   "cell_type": "code",
   "execution_count": 87,
   "metadata": {},
   "outputs": [
    {
     "name": "stdout",
     "output_type": "stream",
     "text": [
      "Observations: 14\n",
      "Variables: 6\n",
      "$ Year            <dbl> 2016, 2016, 2016, 2016, 2016, 2016, 2016, 2016, 201...\n",
      "$ GEO             <fctr> Canada, place of residence, Newfoundland and Labra...\n",
      "$ Sex             <fctr> Males, Males, Males, Males, Males, Males, Males, M...\n",
      "$ CauseOfDeath    <fctr> Intentional self-harm (suicide), Intentional self-...\n",
      "$ Characteristics <fctr> Percentage of deaths, Percentage of deaths, Percen...\n",
      "$ VALUE           <dbl> 2.2, 2.1, 1.5, 2.1, 2.6, 1.9, 2.0, 2.6, 2.6, 3.3, 1...\n"
     ]
    }
   ],
   "source": [
    "# drop the territories\n",
    "\n",
    "df <- df %>%\n",
    "  filter(Year == 2016) %>%\n",
    "  filter(Sex == \"Males\") %>%\n",
    "  filter(CauseOfDeath == \"Intentional self-harm (suicide)\")\n",
    "\n",
    "glimpse(df)"
   ]
  },
  {
   "cell_type": "code",
   "execution_count": 88,
   "metadata": {},
   "outputs": [
    {
     "data": {
      "text/html": [
       "<table>\n",
       "<thead><tr><th scope=col>Year</th><th scope=col>GEO</th><th scope=col>Sex</th><th scope=col>CauseOfDeath</th><th scope=col>Characteristics</th><th scope=col>VALUE</th></tr></thead>\n",
       "<tbody>\n",
       "\t<tr><td>2016                                         </td><td>Canada, place of residence                   </td><td>Males                                        </td><td>Intentional self-harm (suicide)              </td><td>Percentage of deaths                         </td><td> 2.2                                         </td></tr>\n",
       "\t<tr><td>2016                                         </td><td>Newfoundland and Labrador, place of residence</td><td>Males                                        </td><td>Intentional self-harm (suicide)              </td><td>Percentage of deaths                         </td><td> 2.1                                         </td></tr>\n",
       "\t<tr><td>2016                                         </td><td>Prince Edward Island, place of residence     </td><td>Males                                        </td><td>Intentional self-harm (suicide)              </td><td>Percentage of deaths                         </td><td> 1.5                                         </td></tr>\n",
       "\t<tr><td>2016                                         </td><td>Nova Scotia, place of residence              </td><td>Males                                        </td><td>Intentional self-harm (suicide)              </td><td>Percentage of deaths                         </td><td> 2.1                                         </td></tr>\n",
       "\t<tr><td>2016                                         </td><td>New Brunswick, place of residence            </td><td>Males                                        </td><td>Intentional self-harm (suicide)              </td><td>Percentage of deaths                         </td><td> 2.6                                         </td></tr>\n",
       "\t<tr><td>2016                                         </td><td>Quebec, place of residence                   </td><td>Males                                        </td><td>Intentional self-harm (suicide)              </td><td>Percentage of deaths                         </td><td> 1.9                                         </td></tr>\n",
       "\t<tr><td>2016                                         </td><td>Ontario, place of residence                  </td><td>Males                                        </td><td>Intentional self-harm (suicide)              </td><td>Percentage of deaths                         </td><td> 2.0                                         </td></tr>\n",
       "\t<tr><td>2016                                         </td><td>Manitoba, place of residence                 </td><td>Males                                        </td><td>Intentional self-harm (suicide)              </td><td>Percentage of deaths                         </td><td> 2.6                                         </td></tr>\n",
       "\t<tr><td>2016                                         </td><td>Saskatchewan, place of residence             </td><td>Males                                        </td><td>Intentional self-harm (suicide)              </td><td>Percentage of deaths                         </td><td> 2.6                                         </td></tr>\n",
       "\t<tr><td>2016                                         </td><td>Alberta, place of residence                  </td><td>Males                                        </td><td>Intentional self-harm (suicide)              </td><td>Percentage of deaths                         </td><td> 3.3                                         </td></tr>\n",
       "\t<tr><td>2016                                         </td><td>British Columbia, place of residence         </td><td>Males                                        </td><td>Intentional self-harm (suicide)              </td><td>Percentage of deaths                         </td><td> 1.9                                         </td></tr>\n",
       "\t<tr><td>2016                                         </td><td>Yukon, place of residence                    </td><td>Males                                        </td><td>Intentional self-harm (suicide)              </td><td>Percentage of deaths                         </td><td> 3.9                                         </td></tr>\n",
       "\t<tr><td>2016                                         </td><td>Northwest Territories, place of residence    </td><td>Males                                        </td><td>Intentional self-harm (suicide)              </td><td>Percentage of deaths                         </td><td> 5.8                                         </td></tr>\n",
       "\t<tr><td>2016                                         </td><td>Nunavut, place of residence                  </td><td>Males                                        </td><td>Intentional self-harm (suicide)              </td><td>Percentage of deaths                         </td><td>18.8                                         </td></tr>\n",
       "</tbody>\n",
       "</table>\n"
      ],
      "text/latex": [
       "\\begin{tabular}{r|llllll}\n",
       " Year & GEO & Sex & CauseOfDeath & Characteristics & VALUE\\\\\n",
       "\\hline\n",
       "\t 2016                                          & Canada, place of residence                    & Males                                         & Intentional self-harm (suicide)               & Percentage of deaths                          &  2.2                                         \\\\\n",
       "\t 2016                                          & Newfoundland and Labrador, place of residence & Males                                         & Intentional self-harm (suicide)               & Percentage of deaths                          &  2.1                                         \\\\\n",
       "\t 2016                                          & Prince Edward Island, place of residence      & Males                                         & Intentional self-harm (suicide)               & Percentage of deaths                          &  1.5                                         \\\\\n",
       "\t 2016                                          & Nova Scotia, place of residence               & Males                                         & Intentional self-harm (suicide)               & Percentage of deaths                          &  2.1                                         \\\\\n",
       "\t 2016                                          & New Brunswick, place of residence             & Males                                         & Intentional self-harm (suicide)               & Percentage of deaths                          &  2.6                                         \\\\\n",
       "\t 2016                                          & Quebec, place of residence                    & Males                                         & Intentional self-harm (suicide)               & Percentage of deaths                          &  1.9                                         \\\\\n",
       "\t 2016                                          & Ontario, place of residence                   & Males                                         & Intentional self-harm (suicide)               & Percentage of deaths                          &  2.0                                         \\\\\n",
       "\t 2016                                          & Manitoba, place of residence                  & Males                                         & Intentional self-harm (suicide)               & Percentage of deaths                          &  2.6                                         \\\\\n",
       "\t 2016                                          & Saskatchewan, place of residence              & Males                                         & Intentional self-harm (suicide)               & Percentage of deaths                          &  2.6                                         \\\\\n",
       "\t 2016                                          & Alberta, place of residence                   & Males                                         & Intentional self-harm (suicide)               & Percentage of deaths                          &  3.3                                         \\\\\n",
       "\t 2016                                          & British Columbia, place of residence          & Males                                         & Intentional self-harm (suicide)               & Percentage of deaths                          &  1.9                                         \\\\\n",
       "\t 2016                                          & Yukon, place of residence                     & Males                                         & Intentional self-harm (suicide)               & Percentage of deaths                          &  3.9                                         \\\\\n",
       "\t 2016                                          & Northwest Territories, place of residence     & Males                                         & Intentional self-harm (suicide)               & Percentage of deaths                          &  5.8                                         \\\\\n",
       "\t 2016                                          & Nunavut, place of residence                   & Males                                         & Intentional self-harm (suicide)               & Percentage of deaths                          & 18.8                                         \\\\\n",
       "\\end{tabular}\n"
      ],
      "text/markdown": [
       "\n",
       "Year | GEO | Sex | CauseOfDeath | Characteristics | VALUE | \n",
       "|---|---|---|---|---|---|---|---|---|---|---|---|---|---|\n",
       "| 2016                                          | Canada, place of residence                    | Males                                         | Intentional self-harm (suicide)               | Percentage of deaths                          |  2.2                                          | \n",
       "| 2016                                          | Newfoundland and Labrador, place of residence | Males                                         | Intentional self-harm (suicide)               | Percentage of deaths                          |  2.1                                          | \n",
       "| 2016                                          | Prince Edward Island, place of residence      | Males                                         | Intentional self-harm (suicide)               | Percentage of deaths                          |  1.5                                          | \n",
       "| 2016                                          | Nova Scotia, place of residence               | Males                                         | Intentional self-harm (suicide)               | Percentage of deaths                          |  2.1                                          | \n",
       "| 2016                                          | New Brunswick, place of residence             | Males                                         | Intentional self-harm (suicide)               | Percentage of deaths                          |  2.6                                          | \n",
       "| 2016                                          | Quebec, place of residence                    | Males                                         | Intentional self-harm (suicide)               | Percentage of deaths                          |  1.9                                          | \n",
       "| 2016                                          | Ontario, place of residence                   | Males                                         | Intentional self-harm (suicide)               | Percentage of deaths                          |  2.0                                          | \n",
       "| 2016                                          | Manitoba, place of residence                  | Males                                         | Intentional self-harm (suicide)               | Percentage of deaths                          |  2.6                                          | \n",
       "| 2016                                          | Saskatchewan, place of residence              | Males                                         | Intentional self-harm (suicide)               | Percentage of deaths                          |  2.6                                          | \n",
       "| 2016                                          | Alberta, place of residence                   | Males                                         | Intentional self-harm (suicide)               | Percentage of deaths                          |  3.3                                          | \n",
       "| 2016                                          | British Columbia, place of residence          | Males                                         | Intentional self-harm (suicide)               | Percentage of deaths                          |  1.9                                          | \n",
       "| 2016                                          | Yukon, place of residence                     | Males                                         | Intentional self-harm (suicide)               | Percentage of deaths                          |  3.9                                          | \n",
       "| 2016                                          | Northwest Territories, place of residence     | Males                                         | Intentional self-harm (suicide)               | Percentage of deaths                          |  5.8                                          | \n",
       "| 2016                                          | Nunavut, place of residence                   | Males                                         | Intentional self-harm (suicide)               | Percentage of deaths                          | 18.8                                          | \n",
       "\n",
       "\n"
      ],
      "text/plain": [
       "   Year GEO                                           Sex  \n",
       "1  2016 Canada, place of residence                    Males\n",
       "2  2016 Newfoundland and Labrador, place of residence Males\n",
       "3  2016 Prince Edward Island, place of residence      Males\n",
       "4  2016 Nova Scotia, place of residence               Males\n",
       "5  2016 New Brunswick, place of residence             Males\n",
       "6  2016 Quebec, place of residence                    Males\n",
       "7  2016 Ontario, place of residence                   Males\n",
       "8  2016 Manitoba, place of residence                  Males\n",
       "9  2016 Saskatchewan, place of residence              Males\n",
       "10 2016 Alberta, place of residence                   Males\n",
       "11 2016 British Columbia, place of residence          Males\n",
       "12 2016 Yukon, place of residence                     Males\n",
       "13 2016 Northwest Territories, place of residence     Males\n",
       "14 2016 Nunavut, place of residence                   Males\n",
       "   CauseOfDeath                    Characteristics      VALUE\n",
       "1  Intentional self-harm (suicide) Percentage of deaths  2.2 \n",
       "2  Intentional self-harm (suicide) Percentage of deaths  2.1 \n",
       "3  Intentional self-harm (suicide) Percentage of deaths  1.5 \n",
       "4  Intentional self-harm (suicide) Percentage of deaths  2.1 \n",
       "5  Intentional self-harm (suicide) Percentage of deaths  2.6 \n",
       "6  Intentional self-harm (suicide) Percentage of deaths  1.9 \n",
       "7  Intentional self-harm (suicide) Percentage of deaths  2.0 \n",
       "8  Intentional self-harm (suicide) Percentage of deaths  2.6 \n",
       "9  Intentional self-harm (suicide) Percentage of deaths  2.6 \n",
       "10 Intentional self-harm (suicide) Percentage of deaths  3.3 \n",
       "11 Intentional self-harm (suicide) Percentage of deaths  1.9 \n",
       "12 Intentional self-harm (suicide) Percentage of deaths  3.9 \n",
       "13 Intentional self-harm (suicide) Percentage of deaths  5.8 \n",
       "14 Intentional self-harm (suicide) Percentage of deaths 18.8 "
      ]
     },
     "metadata": {},
     "output_type": "display_data"
    }
   ],
   "source": [
    "df"
   ]
  },
  {
   "cell_type": "code",
   "execution_count": 89,
   "metadata": {},
   "outputs": [],
   "source": [
    "df$CauseOfDeath <- gsub(\" \", \"_\", df$CauseOfDeath)\n",
    "df$GEO <- gsub(\" \", \"_\", df$GEO)\n",
    "df$GEO <- gsub(\",\", \"_\", df$GEO)"
   ]
  },
  {
   "cell_type": "code",
   "execution_count": 90,
   "metadata": {},
   "outputs": [],
   "source": [
    "df <- df %>% \n",
    "  spread(Characteristics, VALUE)"
   ]
  },
  {
   "cell_type": "code",
   "execution_count": 91,
   "metadata": {},
   "outputs": [
    {
     "data": {
      "text/html": [
       "<table>\n",
       "<thead><tr><th scope=col>Year</th><th scope=col>GEO</th><th scope=col>Sex</th><th scope=col>CauseOfDeath</th><th scope=col>Percentage of deaths</th></tr></thead>\n",
       "<tbody>\n",
       "\t<tr><td>2016                                         </td><td>Alberta__place_of_residence                  </td><td>Males                                        </td><td>Intentional_self-harm_(suicide)              </td><td> 3.3                                         </td></tr>\n",
       "\t<tr><td>2016                                         </td><td>British_Columbia__place_of_residence         </td><td>Males                                        </td><td>Intentional_self-harm_(suicide)              </td><td> 1.9                                         </td></tr>\n",
       "\t<tr><td>2016                                         </td><td>Canada__place_of_residence                   </td><td>Males                                        </td><td>Intentional_self-harm_(suicide)              </td><td> 2.2                                         </td></tr>\n",
       "\t<tr><td>2016                                         </td><td>Manitoba__place_of_residence                 </td><td>Males                                        </td><td>Intentional_self-harm_(suicide)              </td><td> 2.6                                         </td></tr>\n",
       "\t<tr><td>2016                                         </td><td>New_Brunswick__place_of_residence            </td><td>Males                                        </td><td>Intentional_self-harm_(suicide)              </td><td> 2.6                                         </td></tr>\n",
       "\t<tr><td>2016                                         </td><td>Newfoundland_and_Labrador__place_of_residence</td><td>Males                                        </td><td>Intentional_self-harm_(suicide)              </td><td> 2.1                                         </td></tr>\n",
       "\t<tr><td>2016                                         </td><td>Northwest_Territories__place_of_residence    </td><td>Males                                        </td><td>Intentional_self-harm_(suicide)              </td><td> 5.8                                         </td></tr>\n",
       "\t<tr><td>2016                                         </td><td>Nova_Scotia__place_of_residence              </td><td>Males                                        </td><td>Intentional_self-harm_(suicide)              </td><td> 2.1                                         </td></tr>\n",
       "\t<tr><td>2016                                         </td><td>Nunavut__place_of_residence                  </td><td>Males                                        </td><td>Intentional_self-harm_(suicide)              </td><td>18.8                                         </td></tr>\n",
       "\t<tr><td>2016                                         </td><td>Ontario__place_of_residence                  </td><td>Males                                        </td><td>Intentional_self-harm_(suicide)              </td><td> 2.0                                         </td></tr>\n",
       "\t<tr><td>2016                                         </td><td>Prince_Edward_Island__place_of_residence     </td><td>Males                                        </td><td>Intentional_self-harm_(suicide)              </td><td> 1.5                                         </td></tr>\n",
       "\t<tr><td>2016                                         </td><td>Quebec__place_of_residence                   </td><td>Males                                        </td><td>Intentional_self-harm_(suicide)              </td><td> 1.9                                         </td></tr>\n",
       "\t<tr><td>2016                                         </td><td>Saskatchewan__place_of_residence             </td><td>Males                                        </td><td>Intentional_self-harm_(suicide)              </td><td> 2.6                                         </td></tr>\n",
       "\t<tr><td>2016                                         </td><td>Yukon__place_of_residence                    </td><td>Males                                        </td><td>Intentional_self-harm_(suicide)              </td><td> 3.9                                         </td></tr>\n",
       "</tbody>\n",
       "</table>\n"
      ],
      "text/latex": [
       "\\begin{tabular}{r|lllll}\n",
       " Year & GEO & Sex & CauseOfDeath & Percentage of deaths\\\\\n",
       "\\hline\n",
       "\t 2016                                                  & Alberta\\_\\_place\\_of\\_residence                   & Males                                                 & Intentional\\_self-harm\\_(suicide)                   &  3.3                                                 \\\\\n",
       "\t 2016                                                    & British\\_Columbia\\_\\_place\\_of\\_residence          & Males                                                   & Intentional\\_self-harm\\_(suicide)                     &  1.9                                                   \\\\\n",
       "\t 2016                                                  & Canada\\_\\_place\\_of\\_residence                    & Males                                                 & Intentional\\_self-harm\\_(suicide)                   &  2.2                                                 \\\\\n",
       "\t 2016                                                  & Manitoba\\_\\_place\\_of\\_residence                  & Males                                                 & Intentional\\_self-harm\\_(suicide)                   &  2.6                                                 \\\\\n",
       "\t 2016                                                    & New\\_Brunswick\\_\\_place\\_of\\_residence             & Males                                                   & Intentional\\_self-harm\\_(suicide)                     &  2.6                                                   \\\\\n",
       "\t 2016                                                      & Newfoundland\\_and\\_Labrador\\_\\_place\\_of\\_residence & Males                                                     & Intentional\\_self-harm\\_(suicide)                       &  2.1                                                     \\\\\n",
       "\t 2016                                                    & Northwest\\_Territories\\_\\_place\\_of\\_residence     & Males                                                   & Intentional\\_self-harm\\_(suicide)                     &  5.8                                                   \\\\\n",
       "\t 2016                                                    & Nova\\_Scotia\\_\\_place\\_of\\_residence               & Males                                                   & Intentional\\_self-harm\\_(suicide)                     &  2.1                                                   \\\\\n",
       "\t 2016                                                  & Nunavut\\_\\_place\\_of\\_residence                   & Males                                                 & Intentional\\_self-harm\\_(suicide)                   & 18.8                                                 \\\\\n",
       "\t 2016                                                  & Ontario\\_\\_place\\_of\\_residence                   & Males                                                 & Intentional\\_self-harm\\_(suicide)                   &  2.0                                                 \\\\\n",
       "\t 2016                                                      & Prince\\_Edward\\_Island\\_\\_place\\_of\\_residence      & Males                                                     & Intentional\\_self-harm\\_(suicide)                       &  1.5                                                     \\\\\n",
       "\t 2016                                                  & Quebec\\_\\_place\\_of\\_residence                    & Males                                                 & Intentional\\_self-harm\\_(suicide)                   &  1.9                                                 \\\\\n",
       "\t 2016                                                  & Saskatchewan\\_\\_place\\_of\\_residence              & Males                                                 & Intentional\\_self-harm\\_(suicide)                   &  2.6                                                 \\\\\n",
       "\t 2016                                                  & Yukon\\_\\_place\\_of\\_residence                     & Males                                                 & Intentional\\_self-harm\\_(suicide)                   &  3.9                                                 \\\\\n",
       "\\end{tabular}\n"
      ],
      "text/markdown": [
       "\n",
       "Year | GEO | Sex | CauseOfDeath | Percentage of deaths | \n",
       "|---|---|---|---|---|---|---|---|---|---|---|---|---|---|\n",
       "| 2016                                          | Alberta__place_of_residence                   | Males                                         | Intentional_self-harm_(suicide)               |  3.3                                          | \n",
       "| 2016                                          | British_Columbia__place_of_residence          | Males                                         | Intentional_self-harm_(suicide)               |  1.9                                          | \n",
       "| 2016                                          | Canada__place_of_residence                    | Males                                         | Intentional_self-harm_(suicide)               |  2.2                                          | \n",
       "| 2016                                          | Manitoba__place_of_residence                  | Males                                         | Intentional_self-harm_(suicide)               |  2.6                                          | \n",
       "| 2016                                          | New_Brunswick__place_of_residence             | Males                                         | Intentional_self-harm_(suicide)               |  2.6                                          | \n",
       "| 2016                                          | Newfoundland_and_Labrador__place_of_residence | Males                                         | Intentional_self-harm_(suicide)               |  2.1                                          | \n",
       "| 2016                                          | Northwest_Territories__place_of_residence     | Males                                         | Intentional_self-harm_(suicide)               |  5.8                                          | \n",
       "| 2016                                          | Nova_Scotia__place_of_residence               | Males                                         | Intentional_self-harm_(suicide)               |  2.1                                          | \n",
       "| 2016                                          | Nunavut__place_of_residence                   | Males                                         | Intentional_self-harm_(suicide)               | 18.8                                          | \n",
       "| 2016                                          | Ontario__place_of_residence                   | Males                                         | Intentional_self-harm_(suicide)               |  2.0                                          | \n",
       "| 2016                                          | Prince_Edward_Island__place_of_residence      | Males                                         | Intentional_self-harm_(suicide)               |  1.5                                          | \n",
       "| 2016                                          | Quebec__place_of_residence                    | Males                                         | Intentional_self-harm_(suicide)               |  1.9                                          | \n",
       "| 2016                                          | Saskatchewan__place_of_residence              | Males                                         | Intentional_self-harm_(suicide)               |  2.6                                          | \n",
       "| 2016                                          | Yukon__place_of_residence                     | Males                                         | Intentional_self-harm_(suicide)               |  3.9                                          | \n",
       "\n",
       "\n"
      ],
      "text/plain": [
       "   Year GEO                                           Sex  \n",
       "1  2016 Alberta__place_of_residence                   Males\n",
       "2  2016 British_Columbia__place_of_residence          Males\n",
       "3  2016 Canada__place_of_residence                    Males\n",
       "4  2016 Manitoba__place_of_residence                  Males\n",
       "5  2016 New_Brunswick__place_of_residence             Males\n",
       "6  2016 Newfoundland_and_Labrador__place_of_residence Males\n",
       "7  2016 Northwest_Territories__place_of_residence     Males\n",
       "8  2016 Nova_Scotia__place_of_residence               Males\n",
       "9  2016 Nunavut__place_of_residence                   Males\n",
       "10 2016 Ontario__place_of_residence                   Males\n",
       "11 2016 Prince_Edward_Island__place_of_residence      Males\n",
       "12 2016 Quebec__place_of_residence                    Males\n",
       "13 2016 Saskatchewan__place_of_residence              Males\n",
       "14 2016 Yukon__place_of_residence                     Males\n",
       "   CauseOfDeath                    Percentage of deaths\n",
       "1  Intentional_self-harm_(suicide)  3.3                \n",
       "2  Intentional_self-harm_(suicide)  1.9                \n",
       "3  Intentional_self-harm_(suicide)  2.2                \n",
       "4  Intentional_self-harm_(suicide)  2.6                \n",
       "5  Intentional_self-harm_(suicide)  2.6                \n",
       "6  Intentional_self-harm_(suicide)  2.1                \n",
       "7  Intentional_self-harm_(suicide)  5.8                \n",
       "8  Intentional_self-harm_(suicide)  2.1                \n",
       "9  Intentional_self-harm_(suicide) 18.8                \n",
       "10 Intentional_self-harm_(suicide)  2.0                \n",
       "11 Intentional_self-harm_(suicide)  1.5                \n",
       "12 Intentional_self-harm_(suicide)  1.9                \n",
       "13 Intentional_self-harm_(suicide)  2.6                \n",
       "14 Intentional_self-harm_(suicide)  3.9                "
      ]
     },
     "metadata": {},
     "output_type": "display_data"
    }
   ],
   "source": [
    "df"
   ]
  },
  {
   "cell_type": "code",
   "execution_count": 92,
   "metadata": {},
   "outputs": [
    {
     "data": {
      "text/html": [
       "<ol class=list-inline>\n",
       "\t<li>'Alberta__place_of_residence'</li>\n",
       "\t<li>'British_Columbia__place_of_residence'</li>\n",
       "\t<li>'Canada__place_of_residence'</li>\n",
       "\t<li>'Manitoba__place_of_residence'</li>\n",
       "\t<li>'New_Brunswick__place_of_residence'</li>\n",
       "\t<li>'Newfoundland_and_Labrador__place_of_residence'</li>\n",
       "\t<li>'Northwest_Territories__place_of_residence'</li>\n",
       "\t<li>'Nova_Scotia__place_of_residence'</li>\n",
       "\t<li>'Nunavut__place_of_residence'</li>\n",
       "\t<li>'Ontario__place_of_residence'</li>\n",
       "\t<li>'Prince_Edward_Island__place_of_residence'</li>\n",
       "\t<li>'Quebec__place_of_residence'</li>\n",
       "\t<li>'Saskatchewan__place_of_residence'</li>\n",
       "\t<li>'Yukon__place_of_residence'</li>\n",
       "</ol>\n"
      ],
      "text/latex": [
       "\\begin{enumerate*}\n",
       "\\item 'Alberta\\_\\_place\\_of\\_residence'\n",
       "\\item 'British\\_Columbia\\_\\_place\\_of\\_residence'\n",
       "\\item 'Canada\\_\\_place\\_of\\_residence'\n",
       "\\item 'Manitoba\\_\\_place\\_of\\_residence'\n",
       "\\item 'New\\_Brunswick\\_\\_place\\_of\\_residence'\n",
       "\\item 'Newfoundland\\_and\\_Labrador\\_\\_place\\_of\\_residence'\n",
       "\\item 'Northwest\\_Territories\\_\\_place\\_of\\_residence'\n",
       "\\item 'Nova\\_Scotia\\_\\_place\\_of\\_residence'\n",
       "\\item 'Nunavut\\_\\_place\\_of\\_residence'\n",
       "\\item 'Ontario\\_\\_place\\_of\\_residence'\n",
       "\\item 'Prince\\_Edward\\_Island\\_\\_place\\_of\\_residence'\n",
       "\\item 'Quebec\\_\\_place\\_of\\_residence'\n",
       "\\item 'Saskatchewan\\_\\_place\\_of\\_residence'\n",
       "\\item 'Yukon\\_\\_place\\_of\\_residence'\n",
       "\\end{enumerate*}\n"
      ],
      "text/markdown": [
       "1. 'Alberta__place_of_residence'\n",
       "2. 'British_Columbia__place_of_residence'\n",
       "3. 'Canada__place_of_residence'\n",
       "4. 'Manitoba__place_of_residence'\n",
       "5. 'New_Brunswick__place_of_residence'\n",
       "6. 'Newfoundland_and_Labrador__place_of_residence'\n",
       "7. 'Northwest_Territories__place_of_residence'\n",
       "8. 'Nova_Scotia__place_of_residence'\n",
       "9. 'Nunavut__place_of_residence'\n",
       "10. 'Ontario__place_of_residence'\n",
       "11. 'Prince_Edward_Island__place_of_residence'\n",
       "12. 'Quebec__place_of_residence'\n",
       "13. 'Saskatchewan__place_of_residence'\n",
       "14. 'Yukon__place_of_residence'\n",
       "\n",
       "\n"
      ],
      "text/plain": [
       " [1] \"Alberta__place_of_residence\"                  \n",
       " [2] \"British_Columbia__place_of_residence\"         \n",
       " [3] \"Canada__place_of_residence\"                   \n",
       " [4] \"Manitoba__place_of_residence\"                 \n",
       " [5] \"New_Brunswick__place_of_residence\"            \n",
       " [6] \"Newfoundland_and_Labrador__place_of_residence\"\n",
       " [7] \"Northwest_Territories__place_of_residence\"    \n",
       " [8] \"Nova_Scotia__place_of_residence\"              \n",
       " [9] \"Nunavut__place_of_residence\"                  \n",
       "[10] \"Ontario__place_of_residence\"                  \n",
       "[11] \"Prince_Edward_Island__place_of_residence\"     \n",
       "[12] \"Quebec__place_of_residence\"                   \n",
       "[13] \"Saskatchewan__place_of_residence\"             \n",
       "[14] \"Yukon__place_of_residence\"                    "
      ]
     },
     "metadata": {},
     "output_type": "display_data"
    }
   ],
   "source": [
    "unique(df$GEO)"
   ]
  },
  {
   "cell_type": "code",
   "execution_count": 93,
   "metadata": {},
   "outputs": [],
   "source": [
    "df_Provincial <- df"
   ]
  },
  {
   "cell_type": "markdown",
   "metadata": {},
   "source": [
    "## Display a map of Canada showing results"
   ]
  },
  {
   "cell_type": "code",
   "execution_count": 94,
   "metadata": {},
   "outputs": [
    {
     "name": "stdout",
     "output_type": "stream",
     "text": [
      "Reading layer `lpr_000b16a_e' from data source `C:\\Users\\rahmant\\GIS_Canada\\lpr_000b16a_e.shp' using driver `ESRI Shapefile'\n",
      "Simple feature collection with 13 features and 6 fields\n",
      "geometry type:  MULTIPOLYGON\n",
      "dimension:      XY\n",
      "bbox:           xmin: 3689439 ymin: 659338.9 xmax: 9015737 ymax: 5242179\n",
      "epsg (SRID):    NA\n",
      "proj4string:    +proj=lcc +lat_1=49 +lat_2=77 +lat_0=63.390675 +lon_0=-91.86666666666666 +x_0=6200000 +y_0=3000000 +datum=NAD83 +units=m +no_defs\n"
     ]
    }
   ],
   "source": [
    "CanadaMap <- st_read(\"GIS_Canada/lpr_000b16a_e.shp\")"
   ]
  },
  {
   "cell_type": "code",
   "execution_count": 95,
   "metadata": {},
   "outputs": [
    {
     "data": {
      "text/plain": [
       "[1] \"2018-08-16 10:48:41 AST\""
      ]
     },
     "metadata": {},
     "output_type": "display_data"
    },
    {
     "name": "stdout",
     "output_type": "stream",
     "text": [
      "Observations: 13\n",
      "Variables: 7\n",
      "$ PRUID    <fctr> 10, 11, 12, 13, 24, 35, 46, 47, 48, 59, 60, 61, 62\n",
      "$ PRNAME   <fctr> Newfoundland and Labrador / Terre-Neuve-et-Labrador, Prin...\n",
      "$ PRENAME  <fctr> Newfoundland and Labrador, Prince Edward Island, Nova Sco...\n",
      "$ PRFNAME  <fctr> Terre-Neuve-et-Labrador, Île-du-Prince-Édouard, Nouvelle-...\n",
      "$ PREABBR  <fctr> N.L., P.E.I., N.S., N.B., Que., Ont., Man., Sask., Alta.,...\n",
      "$ PRFABBR  <fctr> T.-N.-L., Î.-P.-É., N.-É., N.-B., Qc, Ont., Man., Sask., ...\n",
      "$ geometry <simple_feature> MULTIPOLYGON (((8307365.588..., MULTIPOLYGON ((...\n"
     ]
    },
    {
     "data": {
      "text/plain": [
       "[1] \"2018-08-16 10:49:06 AST\""
      ]
     },
     "metadata": {},
     "output_type": "display_data"
    }
   ],
   "source": [
    "Sys.time()\n",
    "glimpse(CanadaMap)\n",
    "Sys.time()"
   ]
  },
  {
   "cell_type": "code",
   "execution_count": 96,
   "metadata": {},
   "outputs": [],
   "source": [
    "# Sys.time()\n",
    "# CanadaMap\n",
    "# Sys.time()"
   ]
  },
  {
   "cell_type": "code",
   "execution_count": 97,
   "metadata": {},
   "outputs": [
    {
     "name": "stdout",
     "output_type": "stream",
     "text": [
      "Observations: 14\n",
      "Variables: 6\n",
      "$ Year                   <dbl> 2016, 2016, 2016, 2016, 2016, 2016, 2016, 20...\n",
      "$ GEO                    <chr> \"Alberta__place_of_residence\", \"British_Colu...\n",
      "$ Sex                    <fctr> Males, Males, Males, Males, Males, Males, M...\n",
      "$ CauseOfDeath           <chr> \"Intentional_self-harm_(suicide)\", \"Intentio...\n",
      "$ `Percentage of deaths` <dbl> 3.3, 1.9, 2.2, 2.6, 2.6, 2.1, 5.8, 2.1, 18.8...\n",
      "$ PREABBR                <fctr> Alta., B.C., NA, Man., N.B., N.L., NA, N.S....\n"
     ]
    },
    {
     "data": {
      "text/html": [
       "<table>\n",
       "<thead><tr><th scope=col>Year</th><th scope=col>GEO</th><th scope=col>Sex</th><th scope=col>CauseOfDeath</th><th scope=col>Percentage of deaths</th><th scope=col>PREABBR</th></tr></thead>\n",
       "<tbody>\n",
       "\t<tr><td>2016                                         </td><td>Alberta__place_of_residence                  </td><td>Males                                        </td><td>Intentional_self-harm_(suicide)              </td><td> 3.3                                         </td><td>Alta.                                        </td></tr>\n",
       "\t<tr><td>2016                                         </td><td>British_Columbia__place_of_residence         </td><td>Males                                        </td><td>Intentional_self-harm_(suicide)              </td><td> 1.9                                         </td><td>B.C.                                         </td></tr>\n",
       "\t<tr><td>2016                                         </td><td>Canada__place_of_residence                   </td><td>Males                                        </td><td>Intentional_self-harm_(suicide)              </td><td> 2.2                                         </td><td>NA                                           </td></tr>\n",
       "\t<tr><td>2016                                         </td><td>Manitoba__place_of_residence                 </td><td>Males                                        </td><td>Intentional_self-harm_(suicide)              </td><td> 2.6                                         </td><td>Man.                                         </td></tr>\n",
       "\t<tr><td>2016                                         </td><td>New_Brunswick__place_of_residence            </td><td>Males                                        </td><td>Intentional_self-harm_(suicide)              </td><td> 2.6                                         </td><td>N.B.                                         </td></tr>\n",
       "\t<tr><td>2016                                         </td><td>Newfoundland_and_Labrador__place_of_residence</td><td>Males                                        </td><td>Intentional_self-harm_(suicide)              </td><td> 2.1                                         </td><td>N.L.                                         </td></tr>\n",
       "\t<tr><td>2016                                         </td><td>Northwest_Territories__place_of_residence    </td><td>Males                                        </td><td>Intentional_self-harm_(suicide)              </td><td> 5.8                                         </td><td>NA                                           </td></tr>\n",
       "\t<tr><td>2016                                         </td><td>Nova_Scotia__place_of_residence              </td><td>Males                                        </td><td>Intentional_self-harm_(suicide)              </td><td> 2.1                                         </td><td>N.S.                                         </td></tr>\n",
       "\t<tr><td>2016                                         </td><td>Nunavut__place_of_residence                  </td><td>Males                                        </td><td>Intentional_self-harm_(suicide)              </td><td>18.8                                         </td><td>NA                                           </td></tr>\n",
       "\t<tr><td>2016                                         </td><td>Ontario__place_of_residence                  </td><td>Males                                        </td><td>Intentional_self-harm_(suicide)              </td><td> 2.0                                         </td><td>Ont.                                         </td></tr>\n",
       "\t<tr><td>2016                                         </td><td>Prince_Edward_Island__place_of_residence     </td><td>Males                                        </td><td>Intentional_self-harm_(suicide)              </td><td> 1.5                                         </td><td>P.E.I.                                       </td></tr>\n",
       "\t<tr><td>2016                                         </td><td>Quebec__place_of_residence                   </td><td>Males                                        </td><td>Intentional_self-harm_(suicide)              </td><td> 1.9                                         </td><td>Que.                                         </td></tr>\n",
       "\t<tr><td>2016                                         </td><td>Saskatchewan__place_of_residence             </td><td>Males                                        </td><td>Intentional_self-harm_(suicide)              </td><td> 2.6                                         </td><td>Sask.                                        </td></tr>\n",
       "\t<tr><td>2016                                         </td><td>Yukon__place_of_residence                    </td><td>Males                                        </td><td>Intentional_self-harm_(suicide)              </td><td> 3.9                                         </td><td>NA                                           </td></tr>\n",
       "</tbody>\n",
       "</table>\n"
      ],
      "text/latex": [
       "\\begin{tabular}{r|llllll}\n",
       " Year & GEO & Sex & CauseOfDeath & Percentage of deaths & PREABBR\\\\\n",
       "\\hline\n",
       "\t 2016                                                  & Alberta\\_\\_place\\_of\\_residence                   & Males                                                 & Intentional\\_self-harm\\_(suicide)                   &  3.3                                                  & Alta.                                                \\\\\n",
       "\t 2016                                                    & British\\_Columbia\\_\\_place\\_of\\_residence          & Males                                                   & Intentional\\_self-harm\\_(suicide)                     &  1.9                                                    & B.C.                                                   \\\\\n",
       "\t 2016                                                  & Canada\\_\\_place\\_of\\_residence                    & Males                                                 & Intentional\\_self-harm\\_(suicide)                   &  2.2                                                  & NA                                                   \\\\\n",
       "\t 2016                                                  & Manitoba\\_\\_place\\_of\\_residence                  & Males                                                 & Intentional\\_self-harm\\_(suicide)                   &  2.6                                                  & Man.                                                 \\\\\n",
       "\t 2016                                                    & New\\_Brunswick\\_\\_place\\_of\\_residence             & Males                                                   & Intentional\\_self-harm\\_(suicide)                     &  2.6                                                    & N.B.                                                   \\\\\n",
       "\t 2016                                                      & Newfoundland\\_and\\_Labrador\\_\\_place\\_of\\_residence & Males                                                     & Intentional\\_self-harm\\_(suicide)                       &  2.1                                                      & N.L.                                                     \\\\\n",
       "\t 2016                                                    & Northwest\\_Territories\\_\\_place\\_of\\_residence     & Males                                                   & Intentional\\_self-harm\\_(suicide)                     &  5.8                                                    & NA                                                     \\\\\n",
       "\t 2016                                                    & Nova\\_Scotia\\_\\_place\\_of\\_residence               & Males                                                   & Intentional\\_self-harm\\_(suicide)                     &  2.1                                                    & N.S.                                                   \\\\\n",
       "\t 2016                                                  & Nunavut\\_\\_place\\_of\\_residence                   & Males                                                 & Intentional\\_self-harm\\_(suicide)                   & 18.8                                                  & NA                                                   \\\\\n",
       "\t 2016                                                  & Ontario\\_\\_place\\_of\\_residence                   & Males                                                 & Intentional\\_self-harm\\_(suicide)                   &  2.0                                                  & Ont.                                                 \\\\\n",
       "\t 2016                                                      & Prince\\_Edward\\_Island\\_\\_place\\_of\\_residence      & Males                                                     & Intentional\\_self-harm\\_(suicide)                       &  1.5                                                      & P.E.I.                                                   \\\\\n",
       "\t 2016                                                  & Quebec\\_\\_place\\_of\\_residence                    & Males                                                 & Intentional\\_self-harm\\_(suicide)                   &  1.9                                                  & Que.                                                 \\\\\n",
       "\t 2016                                                  & Saskatchewan\\_\\_place\\_of\\_residence              & Males                                                 & Intentional\\_self-harm\\_(suicide)                   &  2.6                                                  & Sask.                                                \\\\\n",
       "\t 2016                                                  & Yukon\\_\\_place\\_of\\_residence                     & Males                                                 & Intentional\\_self-harm\\_(suicide)                   &  3.9                                                  & NA                                                   \\\\\n",
       "\\end{tabular}\n"
      ],
      "text/markdown": [
       "\n",
       "Year | GEO | Sex | CauseOfDeath | Percentage of deaths | PREABBR | \n",
       "|---|---|---|---|---|---|---|---|---|---|---|---|---|---|\n",
       "| 2016                                          | Alberta__place_of_residence                   | Males                                         | Intentional_self-harm_(suicide)               |  3.3                                          | Alta.                                         | \n",
       "| 2016                                          | British_Columbia__place_of_residence          | Males                                         | Intentional_self-harm_(suicide)               |  1.9                                          | B.C.                                          | \n",
       "| 2016                                          | Canada__place_of_residence                    | Males                                         | Intentional_self-harm_(suicide)               |  2.2                                          | NA                                            | \n",
       "| 2016                                          | Manitoba__place_of_residence                  | Males                                         | Intentional_self-harm_(suicide)               |  2.6                                          | Man.                                          | \n",
       "| 2016                                          | New_Brunswick__place_of_residence             | Males                                         | Intentional_self-harm_(suicide)               |  2.6                                          | N.B.                                          | \n",
       "| 2016                                          | Newfoundland_and_Labrador__place_of_residence | Males                                         | Intentional_self-harm_(suicide)               |  2.1                                          | N.L.                                          | \n",
       "| 2016                                          | Northwest_Territories__place_of_residence     | Males                                         | Intentional_self-harm_(suicide)               |  5.8                                          | NA                                            | \n",
       "| 2016                                          | Nova_Scotia__place_of_residence               | Males                                         | Intentional_self-harm_(suicide)               |  2.1                                          | N.S.                                          | \n",
       "| 2016                                          | Nunavut__place_of_residence                   | Males                                         | Intentional_self-harm_(suicide)               | 18.8                                          | NA                                            | \n",
       "| 2016                                          | Ontario__place_of_residence                   | Males                                         | Intentional_self-harm_(suicide)               |  2.0                                          | Ont.                                          | \n",
       "| 2016                                          | Prince_Edward_Island__place_of_residence      | Males                                         | Intentional_self-harm_(suicide)               |  1.5                                          | P.E.I.                                        | \n",
       "| 2016                                          | Quebec__place_of_residence                    | Males                                         | Intentional_self-harm_(suicide)               |  1.9                                          | Que.                                          | \n",
       "| 2016                                          | Saskatchewan__place_of_residence              | Males                                         | Intentional_self-harm_(suicide)               |  2.6                                          | Sask.                                         | \n",
       "| 2016                                          | Yukon__place_of_residence                     | Males                                         | Intentional_self-harm_(suicide)               |  3.9                                          | NA                                            | \n",
       "\n",
       "\n"
      ],
      "text/plain": [
       "   Year GEO                                           Sex  \n",
       "1  2016 Alberta__place_of_residence                   Males\n",
       "2  2016 British_Columbia__place_of_residence          Males\n",
       "3  2016 Canada__place_of_residence                    Males\n",
       "4  2016 Manitoba__place_of_residence                  Males\n",
       "5  2016 New_Brunswick__place_of_residence             Males\n",
       "6  2016 Newfoundland_and_Labrador__place_of_residence Males\n",
       "7  2016 Northwest_Territories__place_of_residence     Males\n",
       "8  2016 Nova_Scotia__place_of_residence               Males\n",
       "9  2016 Nunavut__place_of_residence                   Males\n",
       "10 2016 Ontario__place_of_residence                   Males\n",
       "11 2016 Prince_Edward_Island__place_of_residence      Males\n",
       "12 2016 Quebec__place_of_residence                    Males\n",
       "13 2016 Saskatchewan__place_of_residence              Males\n",
       "14 2016 Yukon__place_of_residence                     Males\n",
       "   CauseOfDeath                    Percentage of deaths PREABBR\n",
       "1  Intentional_self-harm_(suicide)  3.3                 Alta.  \n",
       "2  Intentional_self-harm_(suicide)  1.9                 B.C.   \n",
       "3  Intentional_self-harm_(suicide)  2.2                 NA     \n",
       "4  Intentional_self-harm_(suicide)  2.6                 Man.   \n",
       "5  Intentional_self-harm_(suicide)  2.6                 N.B.   \n",
       "6  Intentional_self-harm_(suicide)  2.1                 N.L.   \n",
       "7  Intentional_self-harm_(suicide)  5.8                 NA     \n",
       "8  Intentional_self-harm_(suicide)  2.1                 N.S.   \n",
       "9  Intentional_self-harm_(suicide) 18.8                 NA     \n",
       "10 Intentional_self-harm_(suicide)  2.0                 Ont.   \n",
       "11 Intentional_self-harm_(suicide)  1.5                 P.E.I. \n",
       "12 Intentional_self-harm_(suicide)  1.9                 Que.   \n",
       "13 Intentional_self-harm_(suicide)  2.6                 Sask.  \n",
       "14 Intentional_self-harm_(suicide)  3.9                 NA     "
      ]
     },
     "metadata": {},
     "output_type": "display_data"
    }
   ],
   "source": [
    "# Add a column for PREABBR to df_Provincial in order to do a join with CanadaMap\n",
    "\n",
    "\n",
    "df_Provincial$PREABBR <- NA\n",
    "\n",
    "df_Provincial$PREABBR[df_Provincial$GEO == \"Alberta__place_of_residence\"] <- \"Alta.\"\n",
    "df_Provincial$PREABBR[df_Provincial$GEO == \"British_Columbia__place_of_residence\"] <- \"B.C.\"\n",
    "df_Provincial$PREABBR[df_Provincial$GEO == \"Manitoba__place_of_residence\"] <- \"Man.\"\n",
    "df_Provincial$PREABBR[df_Provincial$GEO == \"New_Brunswick__place_of_residence\"] <- \"N.B.\"\n",
    "df_Provincial$PREABBR[df_Provincial$GEO == \"Newfoundland_and_Labrador__place_of_residence\"] <- \"N.L.\"\n",
    "df_Provincial$PREABBR[df_Provincial$GEO == \"Nova_Scotia__place_of_residence\"] <- \"N.S.\"\n",
    "df_Provincial$PREABBR[df_Provincial$GEO == \"Ontario__place_of_residence\"] <- \"Ont.\"\n",
    "df_Provincial$PREABBR[df_Provincial$GEO == \"Prince_Edward_Island__place_of_residence\"] <- \"P.E.I.\"\n",
    "df_Provincial$PREABBR[df_Provincial$GEO == \"Quebec__place_of_residence\"] <- \"Que.\"\n",
    "df_Provincial$PREABBR[df_Provincial$GEO == \"Saskatchewan__place_of_residence\"] <- \"Sask.\"\n",
    "\n",
    "\n",
    "\n",
    "df_Provincial$PREABBR <- as.factor(df_Provincial$PREABBR)\n",
    "glimpse(df_Provincial)\n",
    "df_Provincial"
   ]
  },
  {
   "cell_type": "code",
   "execution_count": 98,
   "metadata": {},
   "outputs": [],
   "source": [
    "colnames(df_Provincial) <- c(\"Year\", \"GEO\", \"Sex\",\"CauseOfDeath\", \"PercentageOfDeathsMaleSuicide\", \"PREABBR\")"
   ]
  },
  {
   "cell_type": "code",
   "execution_count": 99,
   "metadata": {},
   "outputs": [
    {
     "name": "stdout",
     "output_type": "stream",
     "text": [
      "Observations: 10\n",
      "Variables: 6\n",
      "$ Year                          <dbl> 2016, 2016, 2016, 2016, 2016, 2016, 2...\n",
      "$ GEO                           <chr> \"Alberta__place_of_residence\", \"Briti...\n",
      "$ Sex                           <fctr> Males, Males, Males, Males, Males, M...\n",
      "$ CauseOfDeath                  <chr> \"Intentional_self-harm_(suicide)\", \"I...\n",
      "$ PercentageOfDeathsMaleSuicide <dbl> 3.3, 1.9, 2.6, 2.6, 2.1, 2.1, 2.0, 1....\n",
      "$ PREABBR                       <fctr> Alta., B.C., Man., N.B., N.L., N.S.,...\n"
     ]
    },
    {
     "data": {
      "text/html": [
       "<table>\n",
       "<thead><tr><th scope=col>Year</th><th scope=col>GEO</th><th scope=col>Sex</th><th scope=col>CauseOfDeath</th><th scope=col>PercentageOfDeathsMaleSuicide</th><th scope=col>PREABBR</th></tr></thead>\n",
       "<tbody>\n",
       "\t<tr><td>2016                                         </td><td>Alberta__place_of_residence                  </td><td>Males                                        </td><td>Intentional_self-harm_(suicide)              </td><td>3.3                                          </td><td>Alta.                                        </td></tr>\n",
       "\t<tr><td>2016                                         </td><td>British_Columbia__place_of_residence         </td><td>Males                                        </td><td>Intentional_self-harm_(suicide)              </td><td>1.9                                          </td><td>B.C.                                         </td></tr>\n",
       "\t<tr><td>2016                                         </td><td>Manitoba__place_of_residence                 </td><td>Males                                        </td><td>Intentional_self-harm_(suicide)              </td><td>2.6                                          </td><td>Man.                                         </td></tr>\n",
       "\t<tr><td>2016                                         </td><td>New_Brunswick__place_of_residence            </td><td>Males                                        </td><td>Intentional_self-harm_(suicide)              </td><td>2.6                                          </td><td>N.B.                                         </td></tr>\n",
       "\t<tr><td>2016                                         </td><td>Newfoundland_and_Labrador__place_of_residence</td><td>Males                                        </td><td>Intentional_self-harm_(suicide)              </td><td>2.1                                          </td><td>N.L.                                         </td></tr>\n",
       "\t<tr><td>2016                                         </td><td>Nova_Scotia__place_of_residence              </td><td>Males                                        </td><td>Intentional_self-harm_(suicide)              </td><td>2.1                                          </td><td>N.S.                                         </td></tr>\n",
       "\t<tr><td>2016                                         </td><td>Ontario__place_of_residence                  </td><td>Males                                        </td><td>Intentional_self-harm_(suicide)              </td><td>2.0                                          </td><td>Ont.                                         </td></tr>\n",
       "\t<tr><td>2016                                         </td><td>Prince_Edward_Island__place_of_residence     </td><td>Males                                        </td><td>Intentional_self-harm_(suicide)              </td><td>1.5                                          </td><td>P.E.I.                                       </td></tr>\n",
       "\t<tr><td>2016                                         </td><td>Quebec__place_of_residence                   </td><td>Males                                        </td><td>Intentional_self-harm_(suicide)              </td><td>1.9                                          </td><td>Que.                                         </td></tr>\n",
       "\t<tr><td>2016                                         </td><td>Saskatchewan__place_of_residence             </td><td>Males                                        </td><td>Intentional_self-harm_(suicide)              </td><td>2.6                                          </td><td>Sask.                                        </td></tr>\n",
       "</tbody>\n",
       "</table>\n"
      ],
      "text/latex": [
       "\\begin{tabular}{r|llllll}\n",
       " Year & GEO & Sex & CauseOfDeath & PercentageOfDeathsMaleSuicide & PREABBR\\\\\n",
       "\\hline\n",
       "\t 2016                                                  & Alberta\\_\\_place\\_of\\_residence                   & Males                                                 & Intentional\\_self-harm\\_(suicide)                   & 3.3                                                   & Alta.                                                \\\\\n",
       "\t 2016                                                    & British\\_Columbia\\_\\_place\\_of\\_residence          & Males                                                   & Intentional\\_self-harm\\_(suicide)                     & 1.9                                                     & B.C.                                                   \\\\\n",
       "\t 2016                                                  & Manitoba\\_\\_place\\_of\\_residence                  & Males                                                 & Intentional\\_self-harm\\_(suicide)                   & 2.6                                                   & Man.                                                 \\\\\n",
       "\t 2016                                                    & New\\_Brunswick\\_\\_place\\_of\\_residence             & Males                                                   & Intentional\\_self-harm\\_(suicide)                     & 2.6                                                     & N.B.                                                   \\\\\n",
       "\t 2016                                                      & Newfoundland\\_and\\_Labrador\\_\\_place\\_of\\_residence & Males                                                     & Intentional\\_self-harm\\_(suicide)                       & 2.1                                                       & N.L.                                                     \\\\\n",
       "\t 2016                                                    & Nova\\_Scotia\\_\\_place\\_of\\_residence               & Males                                                   & Intentional\\_self-harm\\_(suicide)                     & 2.1                                                     & N.S.                                                   \\\\\n",
       "\t 2016                                                  & Ontario\\_\\_place\\_of\\_residence                   & Males                                                 & Intentional\\_self-harm\\_(suicide)                   & 2.0                                                   & Ont.                                                 \\\\\n",
       "\t 2016                                                      & Prince\\_Edward\\_Island\\_\\_place\\_of\\_residence      & Males                                                     & Intentional\\_self-harm\\_(suicide)                       & 1.5                                                       & P.E.I.                                                   \\\\\n",
       "\t 2016                                                  & Quebec\\_\\_place\\_of\\_residence                    & Males                                                 & Intentional\\_self-harm\\_(suicide)                   & 1.9                                                   & Que.                                                 \\\\\n",
       "\t 2016                                                  & Saskatchewan\\_\\_place\\_of\\_residence              & Males                                                 & Intentional\\_self-harm\\_(suicide)                   & 2.6                                                   & Sask.                                                \\\\\n",
       "\\end{tabular}\n"
      ],
      "text/markdown": [
       "\n",
       "Year | GEO | Sex | CauseOfDeath | PercentageOfDeathsMaleSuicide | PREABBR | \n",
       "|---|---|---|---|---|---|---|---|---|---|\n",
       "| 2016                                          | Alberta__place_of_residence                   | Males                                         | Intentional_self-harm_(suicide)               | 3.3                                           | Alta.                                         | \n",
       "| 2016                                          | British_Columbia__place_of_residence          | Males                                         | Intentional_self-harm_(suicide)               | 1.9                                           | B.C.                                          | \n",
       "| 2016                                          | Manitoba__place_of_residence                  | Males                                         | Intentional_self-harm_(suicide)               | 2.6                                           | Man.                                          | \n",
       "| 2016                                          | New_Brunswick__place_of_residence             | Males                                         | Intentional_self-harm_(suicide)               | 2.6                                           | N.B.                                          | \n",
       "| 2016                                          | Newfoundland_and_Labrador__place_of_residence | Males                                         | Intentional_self-harm_(suicide)               | 2.1                                           | N.L.                                          | \n",
       "| 2016                                          | Nova_Scotia__place_of_residence               | Males                                         | Intentional_self-harm_(suicide)               | 2.1                                           | N.S.                                          | \n",
       "| 2016                                          | Ontario__place_of_residence                   | Males                                         | Intentional_self-harm_(suicide)               | 2.0                                           | Ont.                                          | \n",
       "| 2016                                          | Prince_Edward_Island__place_of_residence      | Males                                         | Intentional_self-harm_(suicide)               | 1.5                                           | P.E.I.                                        | \n",
       "| 2016                                          | Quebec__place_of_residence                    | Males                                         | Intentional_self-harm_(suicide)               | 1.9                                           | Que.                                          | \n",
       "| 2016                                          | Saskatchewan__place_of_residence              | Males                                         | Intentional_self-harm_(suicide)               | 2.6                                           | Sask.                                         | \n",
       "\n",
       "\n"
      ],
      "text/plain": [
       "   Year GEO                                           Sex  \n",
       "1  2016 Alberta__place_of_residence                   Males\n",
       "2  2016 British_Columbia__place_of_residence          Males\n",
       "3  2016 Manitoba__place_of_residence                  Males\n",
       "4  2016 New_Brunswick__place_of_residence             Males\n",
       "5  2016 Newfoundland_and_Labrador__place_of_residence Males\n",
       "6  2016 Nova_Scotia__place_of_residence               Males\n",
       "7  2016 Ontario__place_of_residence                   Males\n",
       "8  2016 Prince_Edward_Island__place_of_residence      Males\n",
       "9  2016 Quebec__place_of_residence                    Males\n",
       "10 2016 Saskatchewan__place_of_residence              Males\n",
       "   CauseOfDeath                    PercentageOfDeathsMaleSuicide PREABBR\n",
       "1  Intentional_self-harm_(suicide) 3.3                           Alta.  \n",
       "2  Intentional_self-harm_(suicide) 1.9                           B.C.   \n",
       "3  Intentional_self-harm_(suicide) 2.6                           Man.   \n",
       "4  Intentional_self-harm_(suicide) 2.6                           N.B.   \n",
       "5  Intentional_self-harm_(suicide) 2.1                           N.L.   \n",
       "6  Intentional_self-harm_(suicide) 2.1                           N.S.   \n",
       "7  Intentional_self-harm_(suicide) 2.0                           Ont.   \n",
       "8  Intentional_self-harm_(suicide) 1.5                           P.E.I. \n",
       "9  Intentional_self-harm_(suicide) 1.9                           Que.   \n",
       "10 Intentional_self-harm_(suicide) 2.6                           Sask.  "
      ]
     },
     "metadata": {},
     "output_type": "display_data"
    }
   ],
   "source": [
    "df_Provincial <- na.omit(df_Provincial)\n",
    "glimpse(df_Provincial)\n",
    "df_Provincial"
   ]
  },
  {
   "cell_type": "code",
   "execution_count": 100,
   "metadata": {},
   "outputs": [],
   "source": [
    "# remove unwanted columns\n",
    "\n",
    "df_Provincial$GEO <- NULL\n",
    "df_Provincial$Sex <- NULL\n",
    "df_Provincial$CauseOfDeath <- NULL"
   ]
  },
  {
   "cell_type": "code",
   "execution_count": 101,
   "metadata": {},
   "outputs": [],
   "source": [
    "# Before merging with a shapefile for polygon data, write the data to a table in csv format\n",
    "# Table_B\n",
    "\n",
    "write.csv(df_Provincial, \n",
    "          file = \"Table_I.csv\",\n",
    "          row.names = FALSE) # set row.name to FALSE to not include an index column in the csv output file"
   ]
  },
  {
   "cell_type": "code",
   "execution_count": 102,
   "metadata": {},
   "outputs": [
    {
     "data": {
      "text/html": [
       "<strong>png:</strong> 2"
      ],
      "text/latex": [
       "\\textbf{png:} 2"
      ],
      "text/markdown": [
       "**png:** 2"
      ],
      "text/plain": [
       "png \n",
       "  2 "
      ]
     },
     "metadata": {},
     "output_type": "display_data"
    }
   ],
   "source": [
    "# Save a dataframe as a nicely formatted png file\n",
    "# uses the gridExtra package\n",
    "\n",
    "png(\"Table_I.png\", height = 30*nrow(df_Provincial), width = 150*ncol(df_Provincial))\n",
    "grid.table(df_Provincial)\n",
    "dev.off()"
   ]
  },
  {
   "cell_type": "code",
   "execution_count": 103,
   "metadata": {},
   "outputs": [],
   "source": [
    "CanadaMap <- merge(CanadaMap, df_Provincial) # join the two dataframes, merge will use the common column name to join with"
   ]
  },
  {
   "cell_type": "code",
   "execution_count": 104,
   "metadata": {},
   "outputs": [
    {
     "data": {
      "text/plain": [
       "[1] \"2018-08-16 10:49:07 AST\""
      ]
     },
     "metadata": {},
     "output_type": "display_data"
    },
    {
     "name": "stdout",
     "output_type": "stream",
     "text": [
      "Observations: 10\n",
      "Variables: 9\n",
      "$ PREABBR                       <fctr> Alta., B.C., Man., N.B., N.L., N.S.,...\n",
      "$ PRUID                         <fctr> 48, 59, 46, 13, 10, 12, 35, 11, 24, 47\n",
      "$ PRNAME                        <fctr> Alberta, British Columbia / Colombie...\n",
      "$ PRENAME                       <fctr> Alberta, British Columbia, Manitoba,...\n",
      "$ PRFNAME                       <fctr> Alberta, Colombie-Britannique, Manit...\n",
      "$ PRFABBR                       <fctr> Alb., C.-B., Man., N.-B., T.-N.-L., ...\n",
      "$ Year                          <dbl> 2016, 2016, 2016, 2016, 2016, 2016, 2...\n",
      "$ PercentageOfDeathsMaleSuicide <dbl> 3.3, 1.9, 2.6, 2.6, 2.1, 2.1, 2.0, 1....\n",
      "$ geometry                      <simple_feature> MULTIPOLYGON (((5228304.17...\n"
     ]
    },
    {
     "data": {
      "text/plain": [
       "[1] \"2018-08-16 10:49:22 AST\""
      ]
     },
     "metadata": {},
     "output_type": "display_data"
    }
   ],
   "source": [
    "Sys.time()\n",
    "glimpse(CanadaMap)\n",
    "Sys.time()"
   ]
  },
  {
   "cell_type": "code",
   "execution_count": 105,
   "metadata": {},
   "outputs": [
    {
     "data": {
      "text/plain": [
       "[1] \"2018-08-16 10:49:22 AST\""
      ]
     },
     "metadata": {},
     "output_type": "display_data"
    },
    {
     "data": {},
     "metadata": {},
     "output_type": "display_data"
    },
    {
     "data": {
      "text/plain": [
       "[1] \"2018-08-16 10:50:04 AST\""
      ]
     },
     "metadata": {},
     "output_type": "display_data"
    },
    {
     "data": {
      "image/png": "[encoded data removed]",
      "text/plain": [
       "plot without title"
      ]
     },
     "metadata": {},
     "output_type": "display_data"
    }
   ],
   "source": [
    "Sys.time()\n",
    "\n",
    "my_map_I0 <-\n",
    "  tm_shape(CanadaMap) +\n",
    "  tm_polygons(col = \"PercentageOfDeathsMaleSuicide\", palette = \"Blues\", style = \"order\") +\n",
    "  tm_legend(legend.outside = TRUE, legend.outside.position = \"bottom\") +\n",
    "  tm_text(text = \"PercentageOfDeathsMaleSuicide\", size = .6) + \n",
    "  tm_layout(frame = FALSE, \n",
    "            legend.show = FALSE,\n",
    "            main.title = \"Suicide Rate for Males (Percentage of Deaths), 2016\",\n",
    "            main.title.size = 1)\n",
    "\n",
    "my_map_I0\n",
    "\n",
    "Sys.time()"
   ]
  },
  {
   "cell_type": "code",
   "execution_count": 106,
   "metadata": {},
   "outputs": [],
   "source": [
    "# Sys.time()\n",
    "#   save_tmap(tm = my_map_I0, \n",
    "#             filename = \"Suicide Rate for Males (Percentage of Deaths), 2016.png\")\n",
    "# Sys.time()"
   ]
  },
  {
   "cell_type": "markdown",
   "metadata": {},
   "source": [
    "# Main Script Ends Here"
   ]
  },
  {
   "cell_type": "code",
   "execution_count": 107,
   "metadata": {},
   "outputs": [
    {
     "data": {
      "text/plain": [
       "[1] \"2018-08-16 10:50:09 AST\""
      ]
     },
     "metadata": {},
     "output_type": "display_data"
    }
   ],
   "source": [
    "Sys.time()"
   ]
  },
  {
   "cell_type": "markdown",
   "metadata": {},
   "source": [
    "# Appendix 1 - Examples of common coding techniques"
   ]
  },
  {
   "cell_type": "code",
   "execution_count": 108,
   "metadata": {},
   "outputs": [],
   "source": [
    "# Example of how to read and filter a large csv file a chunk at a time, e.g. filter 50000 rows at a time into a new dataframe\n",
    "# This is very efficient, comparable to fread in speed but done in chunks to conserve memory\n",
    "# I also prefer it to fread because I can filter out rows with missing values as I import the data\n",
    "# and specify which columns I want to import \n",
    "# need readr library from tidyverse library\n",
    "\n",
    "\n",
    "# Sys.time() # start time for reading file\n",
    "# f <- function(x, pos) subset(x, \n",
    "#                             !is.na(Beds) # filter out any rows with missing values in the specified column in parenthesis\n",
    "#                             & Gender == \"Male\") # only include rows where the specified condition is met\n",
    "#                             & any other criteria for filtering\n",
    "# df <- read_csv_chunked(\"http://www.edsc-esdc.gc.ca/ouvert-open/hps/CDHPD-OpenDataNSPL-DataSet-20170804-ENFR.csv\", \n",
    "#                            DataFrameCallback$new(f), \n",
    "#                            chunk_size = 50000, # this is an adequate chunk size\n",
    "#                            # col_names = TRUE # this will keep original column names if you don't provide custom names\n",
    "#                                               # most of the time it's best to rename every column explicitly as shown below\n",
    "#                            col_names = c(\"ShelterType\", # this renames each column in order of the csv file to what you specify\n",
    "#                                          \"ProvinceCode\",\n",
    "#                                          \"City\",\n",
    "#                                          \"TargetPopulation\",\n",
    "#                                          \"Gender\",\n",
    "#                                          \"ShelterName\",\n",
    "#                                          \"Beds\"), # all other columns after this will be dropped if not included        \n",
    "#                            cols_only( # specify which columns with data types you want to include \n",
    "#                                       # to avoid importing unwanted data\n",
    "#                                       # include all columns that you specified above with col_names if you renamed them\n",
    "#                                \"ShelterType\" = col_character(),\n",
    "#                                \"ProvinceCode\" = col_character(),\n",
    "#                                \"City\" = col_character(),\n",
    "#                                \"TargetPopulation\" = col_character(),\n",
    "#                                \"Gender\" = col_character(),\n",
    "#                                \"ShelterName\" = col_character(),\n",
    "#                                \"Beds\" = col_number()),\n",
    "#                            skip = 1, # skip original column headers if you renamed them\n",
    "#                            trim_ws = TRUE) # trim leading and trailing whitespace for each data point\n",
    "# Sys.time() # end time for reading file"
   ]
  },
  {
   "cell_type": "code",
   "execution_count": 109,
   "metadata": {},
   "outputs": [],
   "source": [
    "# Example of how to read csv files quickly with fread while converting all chr variables to factors \n",
    "# need data.table library\n",
    "# Use fread when you are a lazy and know you won't have memory issues loading the entire dataset at once\n",
    "# or when you know you need to keep all information loaded into memory\n",
    "\n",
    "# df <- fread(\"DataFilesAOP/AB_Provincial_Detailed_Crime_Stats_2006-2011-2016.csv\", \n",
    "#            stringsAsFactors = TRUE, header = TRUE)"
   ]
  },
  {
   "cell_type": "code",
   "execution_count": 110,
   "metadata": {},
   "outputs": [],
   "source": [
    "# Example of how to write a dataframe to a csv file\n",
    "\n",
    "# write.csv(df, \n",
    "#           file = \"NS_Crime_Stats_Clean_Extract3.csv\",\n",
    "#           row.names = FALSE) # set row.name to FALSE to not include an index column in the csv output file"
   ]
  },
  {
   "cell_type": "code",
   "execution_count": 111,
   "metadata": {},
   "outputs": [],
   "source": [
    "# Example how to change all of the column names in a dataframe to something friendlier\n",
    "# You want to avoid special characters and spaces in column names to prevent problems with differnt packages and features\n",
    "# Provide new names in a character vector\n",
    "\n",
    "# colnames(df) <- c(\" \", \" \")"
   ]
  },
  {
   "cell_type": "code",
   "execution_count": 112,
   "metadata": {},
   "outputs": [],
   "source": [
    "# Example how to set the number of digits displayed in dataframes\n",
    "\n",
    "# options(digits=15) # set the visible number of digits to 15, useful when displaying GIS coordinates in dataframes\n",
    "# options(\"digits\") # display the max number of digits that appear in cells of a dataframe"
   ]
  },
  {
   "cell_type": "code",
   "execution_count": 113,
   "metadata": {},
   "outputs": [],
   "source": [
    "# Example of how to convert columns to the correct data types and how to delete columns from a dataframe\n",
    "\n",
    "# use as.numeric() and as.factor() where appropriate\n",
    "# df$column_name <- NULL will delete that column from the dataframe"
   ]
  },
  {
   "cell_type": "code",
   "execution_count": 114,
   "metadata": {},
   "outputs": [],
   "source": [
    "# Example of how to recode values of a column for rows meeting a condition\n",
    "\n",
    "# df$LATITUDE[df$GEO == \n",
    "#                          \"Amherst, Nova Scotia, municipal\"] <- 45.8338198\n",
    "# df$LONGITUDE[df$GEO == \n",
    "#                          \"Amherst, Nova Scotia, municipal\"] <- -64.2109455\n",
    "#\n",
    "# df$COUNTY[df$GEO ==\n",
    "#                          \"Amherst, Nova Scotia, municipal\"] <- \"Cumberland\""
   ]
  },
  {
   "cell_type": "code",
   "execution_count": 115,
   "metadata": {},
   "outputs": [],
   "source": [
    "# Example of how to filter a dataframe to rows where a specific string appears anywhere in a specific column\n",
    "# This example filters df to rows where \"MEP\" appears in the \"Contents\" column (need stringr library)\n",
    "\n",
    "# df_MEP <- df %>%\n",
    "#   filter(str_detect(Contents, \"MEP\"))"
   ]
  },
  {
   "cell_type": "code",
   "execution_count": 116,
   "metadata": {},
   "outputs": [],
   "source": [
    "# Example of how to handle dates - converting from timestamp to YYYYMMDD\n",
    "# This example is adequate if you really don't need a date field for arithmetic or plotting with ggplot2\n",
    "\n",
    "# parse out date and time from Timestamp\n",
    "# df <- \n",
    "#   separate(df, Timestamp, # e.g., \"01/01/2017 12:00:00 AM\"\n",
    "#           into = c(\"Date\", \"Time\", \"AMPM\"), sep = \" \")\n",
    "\n",
    "# parse out Month, Day, Year from Date\n",
    "# df <- \n",
    "#  separate(df, Date, \n",
    "#           into = c(\"Month\", \"Day\", \"Year\"), sep = \"/\")\n",
    "\n",
    "# Remove unwanted columns\n",
    "# df$Time <- NULL\n",
    "# df$AMPM <- NULL\n",
    "\n",
    "# unite the columns \"Year\", \"Month\", \"Day\" into a single column for \"YYYYMMDD\"\n",
    "# df <- \n",
    "#  unite_(df, \"YYYYMMDD\", c(\"Year\",\"Month\", \"Day\"), sep = \"\")\n",
    "\n",
    "# sort by date in decreasing order\n",
    "# df <- df[order(df$YYYYMMDD, decreasing = TRUE), ]"
   ]
  },
  {
   "cell_type": "code",
   "execution_count": 117,
   "metadata": {},
   "outputs": [],
   "source": [
    "# Use the lubridate library if arithmetic is important when working with date and time data\n",
    "# In my opinion, the lubridate functions are more complicated than my current needs, so I prefer my approach above\n",
    "# for handling dates/times\n",
    "\n",
    "# https://lubridate.tidyverse.org/\n",
    "# https://rawgit.com/rstudio/cheatsheets/master/lubridate.pdf"
   ]
  },
  {
   "cell_type": "code",
   "execution_count": 118,
   "metadata": {},
   "outputs": [],
   "source": [
    "# Example of how to subset and retain only selected characters from a cell\n",
    "# This is useful if you want to strip out useless characters in a cell given a start and end position to retain\n",
    "# need stringr library\n",
    "\n",
    "# df$gps <- \n",
    "#   str_sub(df$gps, start = 3, end = -2) \n",
    "\n",
    "# this gets rid of the first 3 characters and the last two characters\n",
    "# you can get an accurate count of characters when viewing them with glimpse(df)"
   ]
  },
  {
   "cell_type": "code",
   "execution_count": 119,
   "metadata": {},
   "outputs": [],
   "source": [
    "# Example how to merge two dataframes on common column names\n",
    "# https://stackoverflow.com/questions/1299871/how-to-join-merge-data-frames-inner-outer-left-right\n",
    "\n",
    "# CanadaMap <- merge(CanadaMap, df_Provincial) # join the two dataframes, merge will use the common column name to join with"
   ]
  },
  {
   "cell_type": "code",
   "execution_count": 120,
   "metadata": {},
   "outputs": [],
   "source": [
    "# Example of how to combine two or more dataframes vertically with the same column names\n",
    "\n",
    "# df4 <- rbind(df1, df2, df3)"
   ]
  },
  {
   "cell_type": "code",
   "execution_count": 121,
   "metadata": {},
   "outputs": [],
   "source": [
    "# Example of how to combine two or more dataframes horizontally with the same number of rows but different columns\n",
    "\n",
    "# df4 <- cbind(df1, df2, df3)"
   ]
  },
  {
   "cell_type": "code",
   "execution_count": 122,
   "metadata": {},
   "outputs": [],
   "source": [
    "# Example of how to create a new column that takes on values by performing arithmetic on existing columns \n",
    "# need dplyr and tidyverse library\n",
    "# This example creates a new column that divides one column by another and mutliplies the result by a constant\n",
    "\n",
    "# NSMAP2011 <- NSMAP2011 %>%\n",
    "#   mutate(PropertyCrimeCountyRatePer100K = PropertyCrimeIncidentsPerCounty/CountyPopulation * 100000)"
   ]
  },
  {
   "cell_type": "code",
   "execution_count": 123,
   "metadata": {},
   "outputs": [],
   "source": [
    "# Example of how to order a dataframe by a column in descening order\n",
    "# a \"-\" in front of the column name will sort it in descending (largest to lowest) order\n",
    "\n",
    "# df <- \n",
    "#  df[with(df, order(-Incidents_Total)), ]\n",
    "\n",
    "\n",
    "# adding multiple column names will prioritize ordering in that sequence\n",
    "\n",
    "# df <- \n",
    "#  df[with(df, order(REGION, COUNTY, GEO, Violations, Statistics)), ]\n",
    "\n",
    "#--------------------\n",
    "# Alternatively, you can also use the following:\n",
    "# sort by date in decreasing order\n",
    "# df <- df[order(df$YYYYMMDD, decreasing = TRUE), ]"
   ]
  },
  {
   "cell_type": "code",
   "execution_count": 124,
   "metadata": {},
   "outputs": [],
   "source": [
    "# Before spreading data for tidy format, make sure to remove any special characters beforehand\n",
    "# This ensures that after spreading the data, the column names are all properly formatted\n",
    "# Properly formatted column names will always appear flushed next to the dollar sign when glimpsing a dataframe\n",
    "# If spaces or special characters are present in the column name, they will appear within single quotes after the dollar sign\n",
    "# when glimpsing the dataframe after spreading the data\n",
    "\n",
    "# df_health$Indicators <- gsub(\" \", \"_\", df_health$Indicators)\n",
    "# df_health$Indicators <- gsub(\",\", \"\", df_health$Indicators)\n",
    "# df_health$Indicators <- gsub(\";\", \"\", df_health$Indicators)\n",
    "# df_health$Indicators <- gsub(\"-\", \"_\", df_health$Indicators)\n",
    "# df_health$Indicators <- gsub(\"\\\\(\", \"\", df_health$Indicators) # this removes left parenthesis\n",
    "# df_health$Indicators <- gsub(\"\\\\)\", \"\", df_health$Indicators) # this removes right parenthesis\n",
    "\n",
    "# df_health <- df_health %>%\n",
    "#   spread(Indicators, Value)"
   ]
  },
  {
   "cell_type": "code",
   "execution_count": 125,
   "metadata": {},
   "outputs": [],
   "source": [
    "# Example how to set a cell as NA\n",
    "# df_Provincial$PREABBR <- NA\n",
    "\n",
    "\n",
    "# Example how to remove all rows with NA\n",
    "# df_Provincial <- na.omit(df_Provincial)"
   ]
  },
  {
   "cell_type": "code",
   "execution_count": 126,
   "metadata": {},
   "outputs": [],
   "source": [
    "# Example of how to load a shapefile for mapping \n",
    "# need sf library\n",
    "\n",
    "# NS <- st_read(\"GIS_Nova_Scotia/Counties_GCS.shp\")"
   ]
  },
  {
   "cell_type": "code",
   "execution_count": 127,
   "metadata": {},
   "outputs": [],
   "source": [
    "# Example how to convert a dataframe of lats/longs to a an sf dataframe for points spatial data \n",
    "# need sf library\n",
    "\n",
    "# pts <- st_as_sf(df, coords = c(\"LONGITUDE\", \"LATITUDE\"), crs = 4269) # create sf object called \"pts\" from df\n",
    "# class(pts)\n",
    "# glimpse(pts) # LONGITUDE and LATITUDE columns are replaced with a geometry column for point data"
   ]
  },
  {
   "cell_type": "code",
   "execution_count": 128,
   "metadata": {},
   "outputs": [],
   "source": [
    "# Example how to add custom icons for points spatial data \n",
    "# need sf library and tmap library\n",
    "\n",
    "# Using custom icons for points instead of bubbles\n",
    "\n",
    "# file <- \"DataFilesGeneral/flower_960_720.png\"  \n",
    "# flower_icon <- tmap_icons(file, width = 48, height = 48, keep.asp = TRUE,\n",
    "#   just = c(\"center\", \"center\"), as.local = TRUE)\n",
    "\n",
    "# my_map_2 <- my_map_0 +\n",
    "#   tm_shape(pts) +\n",
    "#   tm_symbols(\"VALUE\", shape = flower_icon, size = .3, alpha = .2, border.alpha = 0) \n",
    "# my_map_2"
   ]
  },
  {
   "cell_type": "markdown",
   "metadata": {},
   "source": [
    "# Appendix 2 - Note regarding preferred way for installing packages"
   ]
  },
  {
   "cell_type": "code",
   "execution_count": 129,
   "metadata": {},
   "outputs": [],
   "source": [
    "# Preferrably, install new packages via Anaconda Prompt > conda install r-package_name\n",
    "# Try to only use library() in notebook instead of install.packages()\n",
    "# this is more reliable than using install.packages(\"package name\") in R script\n",
    "# Anaconda Prompt > conda list shows what packages are installed\n",
    "\n",
    "# However, when the above isn't true for some reason, it is noted below\n",
    "# e.g., tmap must be installed through install.packages(\"tmap\")"
   ]
  }
 ],
 "metadata": {
  "kernelspec": {
   "display_name": "R",
   "language": "R",
   "name": "ir"
  },
  "language_info": {
   "codemirror_mode": "r",
   "file_extension": ".r",
   "mimetype": "text/x-r-source",
   "name": "R",
   "pygments_lexer": "r",
   "version": "3.4.3"
  }
 },
 "nbformat": 4,
 "nbformat_minor": 2
}
