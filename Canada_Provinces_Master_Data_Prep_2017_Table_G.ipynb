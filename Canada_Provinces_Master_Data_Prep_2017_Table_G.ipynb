{
 "cells": [
  {
   "cell_type": "code",
   "execution_count": 84,
   "metadata": {},
   "outputs": [
    {
     "data": {
      "text/plain": [
       "[1] \"2018-08-10 07:37:18 AST\""
      ]
     },
     "metadata": {},
     "output_type": "display_data"
    }
   ],
   "source": [
    "# Must run this notebook from root directory in Anaconda for relative local file paths to work\n",
    "\n",
    "Sys.time() # script start time"
   ]
  },
  {
   "cell_type": "markdown",
   "metadata": {},
   "source": [
    "# Install and attach packages"
   ]
  },
  {
   "cell_type": "code",
   "execution_count": 85,
   "metadata": {},
   "outputs": [],
   "source": [
    "# See note at the end of this notebook regarding the preferred way of installing packages"
   ]
  },
  {
   "cell_type": "code",
   "execution_count": 86,
   "metadata": {},
   "outputs": [],
   "source": [
    "library(tidyverse)"
   ]
  },
  {
   "cell_type": "code",
   "execution_count": 87,
   "metadata": {},
   "outputs": [],
   "source": [
    "library(data.table)"
   ]
  },
  {
   "cell_type": "code",
   "execution_count": 88,
   "metadata": {},
   "outputs": [],
   "source": [
    "library(stringr)"
   ]
  },
  {
   "cell_type": "code",
   "execution_count": 89,
   "metadata": {},
   "outputs": [],
   "source": [
    "library(gridExtra)"
   ]
  },
  {
   "cell_type": "code",
   "execution_count": 90,
   "metadata": {},
   "outputs": [],
   "source": [
    "library(sf) # needed for mapping"
   ]
  },
  {
   "cell_type": "code",
   "execution_count": 91,
   "metadata": {},
   "outputs": [],
   "source": [
    "# install.packages(\"tmap\")\n",
    "# this for some reason can only be installed via install.packages(), but only has to be done once in your environment"
   ]
  },
  {
   "cell_type": "code",
   "execution_count": 92,
   "metadata": {},
   "outputs": [],
   "source": [
    "library(tmap) # needed for mapping"
   ]
  },
  {
   "cell_type": "code",
   "execution_count": 93,
   "metadata": {},
   "outputs": [],
   "source": [
    "# Set default options to display more digits, useful for gps coordinates"
   ]
  },
  {
   "cell_type": "code",
   "execution_count": 94,
   "metadata": {},
   "outputs": [],
   "source": [
    "options(digits=15) # set the visible number of digits to 15, useful when displaying GIS coordinates in dataframes"
   ]
  },
  {
   "cell_type": "code",
   "execution_count": 95,
   "metadata": {},
   "outputs": [
    {
     "data": {
      "text/html": [
       "<strong>$digits</strong> = 15"
      ],
      "text/latex": [
       "\\textbf{\\$digits} = 15"
      ],
      "text/markdown": [
       "**$digits** = 15"
      ],
      "text/plain": [
       "$digits\n",
       "[1] 15\n"
      ]
     },
     "metadata": {},
     "output_type": "display_data"
    }
   ],
   "source": [
    "options(\"digits\") # display the max number of digits that appear in cells of a dataframe"
   ]
  },
  {
   "cell_type": "code",
   "execution_count": 96,
   "metadata": {},
   "outputs": [
    {
     "data": {
      "text/plain": [
       "R version 3.4.3 (2017-11-30)\n",
       "Platform: x86_64-w64-mingw32/x64 (64-bit)\n",
       "Running under: Windows 10 x64 (build 17134)\n",
       "\n",
       "Matrix products: default\n",
       "\n",
       "locale:\n",
       "[1] LC_COLLATE=English_Canada.1252  LC_CTYPE=English_Canada.1252   \n",
       "[3] LC_MONETARY=English_Canada.1252 LC_NUMERIC=C                   \n",
       "[5] LC_TIME=English_Canada.1252    \n",
       "\n",
       "attached base packages:\n",
       "[1] stats     graphics  grDevices utils     datasets  methods   base     \n",
       "\n",
       "other attached packages:\n",
       " [1] bindrcpp_0.2         tmap_1.10            sf_0.5-4            \n",
       " [4] gridExtra_2.2.1      data.table_1.10.4-3  forcats_0.2.0       \n",
       " [7] stringr_1.2.0        dplyr_0.7.4          purrr_0.2.4         \n",
       "[10] readr_1.1.1          tidyr_0.7.2          tibble_1.4.1        \n",
       "[13] ggplot2_2.2.1        tidyverse_1.2.1      RevoUtils_10.0.8    \n",
       "[16] RevoUtilsMath_10.0.1\n",
       "\n",
       "loaded via a namespace (and not attached):\n",
       "  [1] colorspace_1.3-2   deldir_0.1-14      class_7.3-14      \n",
       "  [4] gdalUtils_2.0.1.7  leaflet_1.1.0      rgdal_1.2-8       \n",
       "  [7] satellite_1.0.0    IRdisplay_0.4.4    base64enc_0.1-3   \n",
       " [10] dichromat_2.0-0    rstudioapi_0.7     lubridate_1.7.1   \n",
       " [13] xml2_1.1.1         R.methodsS3_1.7.1  codetools_0.2-15  \n",
       " [16] splines_3.4.3      mnormt_1.5-5       geojsonlint_0.2.0 \n",
       " [19] IRkernel_0.8.11    jsonlite_1.5       tmaptools_1.2-1   \n",
       " [22] broom_0.4.3        png_0.1-7          R.oo_1.21.0       \n",
       " [25] rgeos_0.3-23       shiny_1.0.5        compiler_3.4.3    \n",
       " [28] httr_1.3.1         mapview_2.1.4      assertthat_0.2.0  \n",
       " [31] Matrix_1.2-12      lazyeval_0.2.1     cli_1.0.0         \n",
       " [34] htmltools_0.3.6    tools_3.4.3        coda_0.19-1       \n",
       " [37] gtable_0.2.0       glue_1.2.0         reshape2_1.4.3    \n",
       " [40] gmodels_2.16.2     V8_1.5             Rcpp_0.12.14      \n",
       " [43] cellranger_1.1.0   raster_2.5-8       spdep_0.6-13      \n",
       " [46] gdata_2.18.0       nlme_3.1-131       udunits2_0.13     \n",
       " [49] iterators_1.0.9    crosstalk_1.0.0    psych_1.7.5       \n",
       " [52] rvest_0.3.2        mime_0.5           gtools_3.5.0      \n",
       " [55] XML_3.98-1.9       LearnBayes_2.15    MASS_7.3-47       \n",
       " [58] scales_0.5.0       hms_0.4.0          parallel_3.4.3    \n",
       " [61] expm_0.999-2       RColorBrewer_1.1-2 curl_3.1          \n",
       " [64] geosphere_1.5-5    stringi_1.1.6      jsonvalidate_1.0.0\n",
       " [67] foreach_1.4.5      e1071_1.6-8        boot_1.3-20       \n",
       " [70] repr_0.12.0        rlang_0.1.6        pkgconfig_2.0.1   \n",
       " [73] bitops_1.0-6       evaluate_0.10.1    lattice_0.20-35   \n",
       " [76] bindr_0.1          htmlwidgets_0.9    osmar_1.1-7       \n",
       " [79] plyr_1.8.4         magrittr_1.5       R6_2.2.2          \n",
       " [82] pbdZMQ_0.2-6       DBI_0.7            pillar_1.0.1      \n",
       " [85] haven_1.1.0        foreign_0.8-69     units_0.4-6       \n",
       " [88] RCurl_1.95-4.8     sp_1.2-5           modelr_0.1.1      \n",
       " [91] crayon_1.3.4       rmapshaper_0.3.0   uuid_0.1-2        \n",
       " [94] KernSmooth_2.23-15 grid_3.4.3         readxl_1.0.0      \n",
       " [97] webshot_0.4.1      digest_0.6.13      classInt_0.1-24   \n",
       "[100] xtable_1.8-2       httpuv_1.3.5       R.utils_2.5.0     \n",
       "[103] stats4_3.4.3       munsell_0.4.3      viridisLite_0.2.0 "
      ]
     },
     "metadata": {},
     "output_type": "display_data"
    }
   ],
   "source": [
    "sessionInfo()"
   ]
  },
  {
   "cell_type": "markdown",
   "metadata": {},
   "source": [
    "# Main Script Begins Here"
   ]
  },
  {
   "cell_type": "markdown",
   "metadata": {},
   "source": [
    "## 7. Number of Transitional Homeless Beds at Non-Gender Specific Shelters Per 100,000 Male Population, 2017"
   ]
  },
  {
   "cell_type": "code",
   "execution_count": 97,
   "metadata": {},
   "outputs": [
    {
     "data": {
      "text/plain": [
       "[1] \"2018-08-10 07:37:18 AST\""
      ]
     },
     "metadata": {},
     "output_type": "display_data"
    }
   ],
   "source": [
    "Sys.time() # script start time from body"
   ]
  },
  {
   "cell_type": "code",
   "execution_count": 98,
   "metadata": {},
   "outputs": [],
   "source": [
    "# Import and clean data before analysis"
   ]
  },
  {
   "cell_type": "code",
   "execution_count": 99,
   "metadata": {},
   "outputs": [
    {
     "data": {
      "text/plain": [
       "[1] \"2018-08-10 07:37:18 AST\""
      ]
     },
     "metadata": {},
     "output_type": "display_data"
    },
    {
     "data": {
      "text/plain": [
       "[1] \"2018-08-10 07:37:29 AST\""
      ]
     },
     "metadata": {},
     "output_type": "display_data"
    }
   ],
   "source": [
    "# Import dataset\n",
    "# Homeless Shelters in Canada\n",
    "# Source: https://open.canada.ca/data/en/dataset/7e0189e3-8595-4e62-a4e9-4fed6f265e10\n",
    "# See also: http://publications.gc.ca/collections/collection_2018/edsc-esdc/Em20-91-2018-eng.pdf\n",
    "\n",
    "\n",
    "Sys.time() # start time for reading file\n",
    "f <- function(x, pos) subset(x, \n",
    "                            !is.na(Beds)) # filter out any rows with missing values in the specified column in parenthesis\n",
    "#                           & City == \"Halifax\") # only include rows where the specified condition is met\n",
    "#                           & any other criteria for filtering\n",
    "df <- read_csv_chunked(\"http://www.edsc-esdc.gc.ca/ouvert-open/hps/CDHPD-OpenDataNSPL-DataSet-20170804-ENFR.csv\", \n",
    "                           DataFrameCallback$new(f), \n",
    "                           chunk_size = 50000, # this is an adequate chunk size\n",
    "                           col_names = c(\"ShelterType\", # this renames each column in order to what you specify\n",
    "                                         \"Province\",\n",
    "                                         \"City\",\n",
    "                                         \"TargetPopulation\",\n",
    "                                         \"Gender\",\n",
    "                                         \"ShelterName\",\n",
    "                                         \"Beds\"), # all other columns after this will be dropped\n",
    "                           cols_only( # specify which columns with data types you want to include \n",
    "                                      # to avoid importing unwanted data\n",
    "                                      # include all columns that you specified above with col_names\n",
    "                               \"ShelterType\" = col_character(),\n",
    "                               \"Province\" = col_character(),\n",
    "                               \"City\" = col_character(),\n",
    "                               \"TargetPopulation\" = col_character(),\n",
    "                               \"Gender\" = col_character(),\n",
    "                               \"ShelterName\" = col_character(),\n",
    "                               \"Beds\" = col_number()),\n",
    "                           skip = 1, # skip original column headers\n",
    "                           trim_ws = TRUE) # trim leading and trailing whitespace for each data point\n",
    "Sys.time() # end time for reading file"
   ]
  },
  {
   "cell_type": "code",
   "execution_count": 100,
   "metadata": {},
   "outputs": [
    {
     "name": "stdout",
     "output_type": "stream",
     "text": [
      "Observations: 687\n",
      "Variables: 7\n",
      "$ ShelterType      <chr> \"Emergency\", \"Emergency\", \"Emergency\", \"Emergency\"...\n",
      "$ Province         <chr> \"AB\", \"AB\", \"AB\", \"AB\", \"AB\", \"AB\", \"AB\", \"AB\", \"A...\n",
      "$ City             <chr> \"Calgary\", \"Calgary\", \"Calgary\", \"Calgary\", \"Calga...\n",
      "$ TargetPopulation <chr> \"Family\", \"General\", \"General\", \"General\", \"Genera...\n",
      "$ Gender           <chr> \"Both\", \"Both\", \"Both\", \"Both\", \"Both\", \"Both\", \"F...\n",
      "$ ShelterName      <chr> \"Brenda's House\", \"Calgary Alpha House\", \"Calgary ...\n",
      "$ Beds             <dbl> 60, 120, 270, 975, 11, 370, 12, 6, 80, 25, 15, 5, ...\n"
     ]
    }
   ],
   "source": [
    "glimpse(df)"
   ]
  },
  {
   "cell_type": "code",
   "execution_count": 101,
   "metadata": {},
   "outputs": [],
   "source": [
    "# drop the territories\n",
    "\n",
    "df <- df %>%\n",
    "  filter(!Province %in% c(\"NT\", \"NU\", \"YT\")) %>%\n",
    "  filter(ShelterType == \"Transitional\") %>%\n",
    "  filter(Gender == \"Both\")"
   ]
  },
  {
   "cell_type": "code",
   "execution_count": 102,
   "metadata": {},
   "outputs": [
    {
     "data": {
      "text/html": [
       "<ol class=list-inline>\n",
       "\t<li>'AB'</li>\n",
       "\t<li>'BC'</li>\n",
       "\t<li>'MB'</li>\n",
       "\t<li>'NL'</li>\n",
       "\t<li>'NS'</li>\n",
       "\t<li>'ON'</li>\n",
       "\t<li>'QC'</li>\n",
       "\t<li>'SK'</li>\n",
       "</ol>\n"
      ],
      "text/latex": [
       "\\begin{enumerate*}\n",
       "\\item 'AB'\n",
       "\\item 'BC'\n",
       "\\item 'MB'\n",
       "\\item 'NL'\n",
       "\\item 'NS'\n",
       "\\item 'ON'\n",
       "\\item 'QC'\n",
       "\\item 'SK'\n",
       "\\end{enumerate*}\n"
      ],
      "text/markdown": [
       "1. 'AB'\n",
       "2. 'BC'\n",
       "3. 'MB'\n",
       "4. 'NL'\n",
       "5. 'NS'\n",
       "6. 'ON'\n",
       "7. 'QC'\n",
       "8. 'SK'\n",
       "\n",
       "\n"
      ],
      "text/plain": [
       "[1] \"AB\" \"BC\" \"MB\" \"NL\" \"NS\" \"ON\" \"QC\" \"SK\""
      ]
     },
     "metadata": {},
     "output_type": "display_data"
    }
   ],
   "source": [
    "unique(df$Province)"
   ]
  },
  {
   "cell_type": "code",
   "execution_count": 103,
   "metadata": {},
   "outputs": [],
   "source": [
    "# Always rename the columns to remove spaces and special characters if you haven't already from read_csv_chunked\n",
    "# This avoids any potential problems R may encounter with different packages if not taken care of properly right away\n",
    "\n",
    "# colnames(df) <- c(\" \", \" \")"
   ]
  },
  {
   "cell_type": "code",
   "execution_count": 104,
   "metadata": {},
   "outputs": [],
   "source": [
    "# Always set the variable types next for each column and drop any unnecessary columns\n",
    "# if you haven't already from read_csv_chunked, or need to change characters to factors\n",
    "# use as.numeric() and as.factor() where appropriate\n",
    "# df$column_name <- NULL will delete that column from the dataframe\n",
    "\n",
    "df$ShelterType <- as.factor(df$ShelterType)\n",
    "df$Province <- as.factor(df$Province)\n",
    "df$City <- as.factor(df$City)\n",
    "df$TargetPopulation <- as.factor(df$TargetPopulation)\n",
    "df$Gender <- as.factor(df$Gender)"
   ]
  },
  {
   "cell_type": "code",
   "execution_count": 105,
   "metadata": {},
   "outputs": [
    {
     "name": "stdout",
     "output_type": "stream",
     "text": [
      "Observations: 160\n",
      "Variables: 7\n",
      "$ ShelterType      <fctr> Transitional, Transitional, Transitional, Transit...\n",
      "$ Province         <fctr> AB, AB, AB, AB, AB, AB, AB, AB, AB, AB, AB, AB, A...\n",
      "$ City             <fctr> Calgary, Calgary, Calgary, Calgary, Calgary, Calg...\n",
      "$ TargetPopulation <fctr> Family, General, General, General, General, Youth...\n",
      "$ Gender           <fctr> Both, Both, Both, Both, Both, Both, Both, Both, B...\n",
      "$ ShelterName      <chr> \"Rainbow Lodge\", \"1835 House\", \"Aspen Apartments T...\n",
      "$ Beds             <dbl> 96, 30, 11, 6, 18, 9, 8, 7, 4, 148, 58, 20, 30, 58...\n"
     ]
    },
    {
     "data": {
      "text/html": [
       "<table>\n",
       "<thead><tr><th scope=col>ShelterType</th><th scope=col>Province</th><th scope=col>City</th><th scope=col>TargetPopulation</th><th scope=col>Gender</th><th scope=col>ShelterName</th><th scope=col>Beds</th></tr></thead>\n",
       "<tbody>\n",
       "\t<tr><td>Transitional                                     </td><td>AB                                               </td><td>Calgary                                          </td><td>Family                                           </td><td>Both                                             </td><td>Rainbow Lodge                                    </td><td> 96                                              </td></tr>\n",
       "\t<tr><td>Transitional                                     </td><td>AB                                               </td><td>Calgary                                          </td><td>General                                          </td><td>Both                                             </td><td>1835 House                                       </td><td> 30                                              </td></tr>\n",
       "\t<tr><td>Transitional                                     </td><td>AB                                               </td><td>Calgary                                          </td><td>General                                          </td><td>Both                                             </td><td>Aspen Apartments Transitional                    </td><td> 11                                              </td></tr>\n",
       "\t<tr><td>Transitional                                     </td><td>AB                                               </td><td>Calgary                                          </td><td>General                                          </td><td>Both                                             </td><td>Kerby Rotary Transitional                        </td><td>  6                                              </td></tr>\n",
       "\t<tr><td>Transitional                                     </td><td>AB                                               </td><td>Calgary                                          </td><td>General                                          </td><td>Both                                             </td><td>Step Up                                          </td><td> 18                                              </td></tr>\n",
       "\t<tr><td>Transitional                                     </td><td>AB                                               </td><td>Calgary                                          </td><td>Youth                                            </td><td>Both                                             </td><td>Boys and Girls Club - Safe House                 </td><td>  9                                              </td></tr>\n",
       "\t<tr><td>Transitional                                     </td><td>AB                                               </td><td>Calgary                                          </td><td>Youth                                            </td><td>Both                                             </td><td>John Howard Society - Raido House Transitional   </td><td>  8                                              </td></tr>\n",
       "\t<tr><td>Transitional                                     </td><td>AB                                               </td><td>Calgary                                          </td><td>Youth                                            </td><td>Both                                             </td><td>Mcman - Hope Homes for Aboriginal Youth          </td><td>  7                                              </td></tr>\n",
       "\t<tr><td>Transitional                                     </td><td>AB                                               </td><td>Calgary                                          </td><td>Youth                                            </td><td>Both                                             </td><td>Mcman - Wellington Place Transitional            </td><td>  4                                              </td></tr>\n",
       "\t<tr><td>Transitional                                     </td><td>AB                                               </td><td>Edmonton                                         </td><td>General                                          </td><td>Both                                             </td><td>Addictions and Residential Centre                </td><td>148                                              </td></tr>\n",
       "\t<tr><td>Transitional                                     </td><td>AB                                               </td><td>Edmonton                                         </td><td>General                                          </td><td>Both                                             </td><td>McCauley Lodge                                   </td><td> 58                                              </td></tr>\n",
       "\t<tr><td>Transitional                                     </td><td>AB                                               </td><td>Edmonton                                         </td><td>General                                          </td><td>Both                                             </td><td>Sparling Lodge                                   </td><td> 20                                              </td></tr>\n",
       "\t<tr><td>Transitional                                     </td><td>AB                                               </td><td>Edmonton                                         </td><td>Youth                                            </td><td>Both                                             </td><td>Inner City Youth Housing Project                 </td><td> 30                                              </td></tr>\n",
       "\t<tr><td>Transitional                                     </td><td>AB                                               </td><td>Grande Prairie                                   </td><td>General                                          </td><td>Both                                             </td><td>CMHA Willow Place Transitional                   </td><td> 58                                              </td></tr>\n",
       "\t<tr><td>Transitional                                     </td><td>AB                                               </td><td>Grande Prairie                                   </td><td>General                                          </td><td>Both                                             </td><td>Elders Caring Shelter                            </td><td> 18                                              </td></tr>\n",
       "\t<tr><td>Transitional                                     </td><td>AB                                               </td><td>Grande Prairie                                   </td><td>General                                          </td><td>Both                                             </td><td>Rotary House - Transitional                      </td><td> 48                                              </td></tr>\n",
       "\t<tr><td>Transitional                                     </td><td>AB                                               </td><td>Medicine Hat                                     </td><td>Family                                           </td><td>Both                                             </td><td>Miywasin Society House                           </td><td>  5                                              </td></tr>\n",
       "\t<tr><td>Transitional                                     </td><td>AB                                               </td><td>Medicine Hat                                     </td><td>Youth                                            </td><td>Both                                             </td><td>Mcman - Inn Between Youth Shelter Transitional   </td><td>  6                                              </td></tr>\n",
       "\t<tr><td>Transitional                                     </td><td>AB                                               </td><td>Red Deer                                         </td><td>General                                          </td><td>Both                                             </td><td>CASHS Detox                                      </td><td> 20                                              </td></tr>\n",
       "\t<tr><td>Transitional                                     </td><td>AB                                               </td><td>Wood Buffalo                                     </td><td>General                                          </td><td>Both                                             </td><td>Marshall House Transitional                      </td><td> 90                                              </td></tr>\n",
       "\t<tr><td>Transitional                                     </td><td>BC                                               </td><td>Abbotsford                                       </td><td>Youth                                            </td><td>Both                                             </td><td>Cyrus Centre: Cyrus House                        </td><td>  0                                              </td></tr>\n",
       "\t<tr><td>Transitional                                     </td><td>BC                                               </td><td>Colwood                                          </td><td>General                                          </td><td>Both                                             </td><td>Cockrell House                                   </td><td> 11                                              </td></tr>\n",
       "\t<tr><td>Transitional                                     </td><td>BC                                               </td><td>Coquitlam                                        </td><td>General                                          </td><td>Both                                             </td><td>3030 Gordon - Transitional                       </td><td> 30                                              </td></tr>\n",
       "\t<tr><td>Transitional                                     </td><td>BC                                               </td><td>Fort St. John                                    </td><td>General                                          </td><td>Both                                             </td><td>Fort St. John Care and Share Centre Transitional </td><td>  4                                              </td></tr>\n",
       "\t<tr><td>Transitional                                     </td><td>BC                                               </td><td>Hope                                             </td><td>General                                          </td><td>Both                                             </td><td>Thunderbird Motel Project                        </td><td>  4                                              </td></tr>\n",
       "\t<tr><td>Transitional                                     </td><td>BC                                               </td><td>Kamloops                                         </td><td>General                                          </td><td>Both                                             </td><td>Ask Wellness Society                             </td><td> 20                                              </td></tr>\n",
       "\t<tr><td>Transitional                                           </td><td>BC                                                     </td><td><span style=white-space:pre-wrap>Kamloops       </span></td><td>General                                                </td><td>Both                                                   </td><td>Kamloops Society for Alcohol &amp; Drug Services STLR  </td><td> 11                                                    </td></tr>\n",
       "\t<tr><td>Transitional                                     </td><td>BC                                               </td><td>Maple Ridge                                      </td><td>General                                          </td><td>Both                                             </td><td>The Caring Place - Genesis Program               </td><td> 15                                              </td></tr>\n",
       "\t<tr><td>Transitional                                     </td><td>BC                                               </td><td>New Westminster                                  </td><td>General                                          </td><td>Both                                             </td><td>Lookout - Cliff Block Transitional               </td><td> 16                                              </td></tr>\n",
       "\t<tr><td>Transitional                                     </td><td>BC                                               </td><td>New Westminster                                  </td><td>General                                          </td><td>Both                                             </td><td>Lookout - Rhoda Kaellis Housing Centre           </td><td> 24                                              </td></tr>\n",
       "\t<tr><td>...</td><td>...</td><td>...</td><td>...</td><td>...</td><td>...</td><td>...</td></tr>\n",
       "\t<tr><td>Transitional                                                                                                                </td><td>QC                                                                                                                          </td><td><span style=white-space:pre-wrap>Quebec City      </span>                                                                   </td><td><span style=white-space:pre-wrap>Youth  </span>                                                                             </td><td>Both                                                                                                                        </td><td><span style=white-space:pre-wrap>L'ADOberge Chaudi&lt;e8&gt;re-Appalaches                                            </span></td><td> 9                                                                                                                          </td></tr>\n",
       "\t<tr><td>Transitional                                                                  </td><td>QC                                                                            </td><td>Quebec City                                                                   </td><td>Youth                                                                         </td><td>Both                                                                          </td><td>Les Oeuvres Jean-Lafrance                                                     </td><td>16                                                                            </td></tr>\n",
       "\t<tr><td>Transitional                                                                                                                      </td><td>QC                                                                                                                                </td><td><span style=white-space:pre-wrap>Quebec City      </span>                                                                         </td><td><span style=white-space:pre-wrap>Youth  </span>                                                                                   </td><td>Both                                                                                                                              </td><td><span style=white-space:pre-wrap>Maison Marie-Fr&lt;e9&gt;d&lt;e9&gt;ric                                                   </span></td><td>15                                                                                                                                </td></tr>\n",
       "\t<tr><td>Transitional                                                                  </td><td>QC                                                                            </td><td>Quebec City                                                                   </td><td>Youth                                                                         </td><td>Both                                                                          </td><td>Squat Basse-Ville                                                             </td><td>10                                                                            </td></tr>\n",
       "\t<tr><td>Transitional                                                                                                                </td><td>QC                                                                                                                          </td><td><span style=white-space:pre-wrap>Rawdon           </span>                                                                   </td><td><span style=white-space:pre-wrap>Youth  </span>                                                                             </td><td>Both                                                                                                                        </td><td><span style=white-space:pre-wrap>Chaumi&lt;e8&gt;re Jeunesse                                                         </span></td><td> 9                                                                                                                          </td></tr>\n",
       "\t<tr><td>Transitional                                                                                                                </td><td>QC                                                                                                                          </td><td><span style=white-space:pre-wrap>Rimouski         </span>                                                                   </td><td><span style=white-space:pre-wrap>Youth  </span>                                                                             </td><td>Both                                                                                                                        </td><td><span style=white-space:pre-wrap>Auberge du C&lt;U+009C&gt;ur-Le Transit                                             </span></td><td>10                                                                                                                          </td></tr>\n",
       "\t<tr><td>Transitional                                                                                                                </td><td>QC                                                                                                                          </td><td><span style=white-space:pre-wrap>Saguenay         </span>                                                                   </td><td>General                                                                                                                     </td><td>Both                                                                                                                        </td><td><span style=white-space:pre-wrap>Association Canadienne pour la Sant&lt;e9&gt; Mentale Lac Saint-Jean                </span></td><td>13                                                                                                                          </td></tr>\n",
       "\t<tr><td>Transitional                                                                  </td><td>QC                                                                            </td><td>Saguenay                                                                      </td><td>General                                                                       </td><td>Both                                                                          </td><td>Centre de Rencontre L'Escale                                                  </td><td>12                                                                            </td></tr>\n",
       "\t<tr><td>Transitional                                                                  </td><td>QC                                                                            </td><td>Saguenay                                                                      </td><td>General                                                                       </td><td>Both                                                                          </td><td>Centre Le Phare - La Maison Blanche                                           </td><td> 8                                                                            </td></tr>\n",
       "\t<tr><td>Transitional                                                                                                                </td><td>QC                                                                                                                          </td><td><span style=white-space:pre-wrap>Sainte-Julie     </span>                                                                   </td><td>General                                                                                                                     </td><td>Both                                                                                                                        </td><td><span style=white-space:pre-wrap>R&lt;e9&gt;sidence  Ste-Julie                                                       </span></td><td>10                                                                                                                          </td></tr>\n",
       "\t<tr><td>Transitional                                                                  </td><td>QC                                                                            </td><td>Saint-Eustache                                                                </td><td>Youth                                                                         </td><td>Both                                                                          </td><td>Le Transit                                                                    </td><td> 6                                                                            </td></tr>\n",
       "\t<tr><td>Transitional                                                                                                                </td><td>QC                                                                                                                          </td><td><span style=white-space:pre-wrap>Saint-Stanislas  </span>                                                                   </td><td>General                                                                                                                     </td><td>Both                                                                                                                        </td><td><span style=white-space:pre-wrap>R&lt;e9&gt;sidence  St-Stanislas                                                    </span></td><td> 5                                                                                                                          </td></tr>\n",
       "\t<tr><td>Transitional                                                                                                                      </td><td>QC                                                                                                                                </td><td><span style=white-space:pre-wrap>Shawinigan       </span>                                                                         </td><td>General                                                                                                                           </td><td>Both                                                                                                                              </td><td><span style=white-space:pre-wrap>R&lt;e9&gt;seau d'Habitation Communautaire de la Mauricie - R&lt;e9&gt;sidence  Shawinigan</span></td><td> 8                                                                                                                                </td></tr>\n",
       "\t<tr><td>Transitional                                                                                                                </td><td>QC                                                                                                                          </td><td><span style=white-space:pre-wrap>Sherbrooke       </span>                                                                   </td><td><span style=white-space:pre-wrap>Youth  </span>                                                                             </td><td>Both                                                                                                                        </td><td><span style=white-space:pre-wrap>Auberge du C&lt;U+009C&gt;ur La Source-soleil                                       </span></td><td> 9                                                                                                                          </td></tr>\n",
       "\t<tr><td>Transitional                                                                                                                </td><td>QC                                                                                                                          </td><td><span style=white-space:pre-wrap>Sherbrooke       </span>                                                                   </td><td><span style=white-space:pre-wrap>Youth  </span>                                                                             </td><td>Both                                                                                                                        </td><td><span style=white-space:pre-wrap>Centre d'h&lt;e9&gt;bergement alternatif de Sherbrooke                              </span></td><td> 9                                                                                                                          </td></tr>\n",
       "\t<tr><td>Transitional                                                                  </td><td>QC                                                                            </td><td>St. Hyacinthe                                                                 </td><td>Youth                                                                         </td><td>Both                                                                          </td><td>Le Baluchon                                                                   </td><td> 9                                                                            </td></tr>\n",
       "\t<tr><td>Transitional                                                                                                          </td><td>QC                                                                                                                    </td><td>Trois-Rivi&lt;e8&gt;res                                                                                               </td><td>General                                                                                                               </td><td>Both                                                                                                                  </td><td><span style=white-space:pre-wrap>Le Chez Soi                                                                   </span></td><td> 8                                                                                                                    </td></tr>\n",
       "\t<tr><td>Transitional                                                                                                          </td><td>QC                                                                                                                    </td><td>Trois-Rivi&lt;e8&gt;res                                                                                               </td><td>General                                                                                                               </td><td>Both                                                                                                                  </td><td><span style=white-space:pre-wrap>Le Laviolette                                                                 </span></td><td>23                                                                                                                    </td></tr>\n",
       "\t<tr><td>Transitional                                                                                                                </td><td>QC                                                                                                                          </td><td>Trois-Rivi&lt;e8&gt;res                                                                                                     </td><td>General                                                                                                                     </td><td>Both                                                                                                                        </td><td><span style=white-space:pre-wrap>R&lt;e9&gt;sidence  Royale                                                          </span></td><td> 3                                                                                                                          </td></tr>\n",
       "\t<tr><td>Transitional                                                                                                                      </td><td>QC                                                                                                                                </td><td>Trois-Rivi&lt;e8&gt;res                                                                                                           </td><td>General                                                                                                                           </td><td>Both                                                                                                                              </td><td><span style=white-space:pre-wrap>R&lt;e9&gt;sidence  Ste-C&lt;e9&gt;cile                                                   </span></td><td> 4                                                                                                                                </td></tr>\n",
       "\t<tr><td>Transitional                                                                                                                                  </td><td>QC                                                                                                                                            </td><td>Trois-Rivi&lt;e8&gt;res                                                                                                                       </td><td>General                                                                                                                                       </td><td>Both                                                                                                                                          </td><td><span style=white-space:pre-wrap>R&lt;e9&gt;sidence P&lt;e8&gt;re Fr&lt;e9&gt;d&lt;e9&gt;ric                                           </span></td><td> 6                                                                                                                                            </td></tr>\n",
       "\t<tr><td>Transitional                                                                                                                </td><td>QC                                                                                                                          </td><td>Trois-Rivi&lt;e8&gt;res                                                                                                     </td><td>General                                                                                                                     </td><td>Both                                                                                                                        </td><td><span style=white-space:pre-wrap>R&lt;e9&gt;sidence St-Antoine                                                       </span></td><td>14                                                                                                                          </td></tr>\n",
       "\t<tr><td>Transitional                                                                                                                      </td><td>QC                                                                                                                                </td><td><span style=white-space:pre-wrap>Victoriaville    </span>                                                                         </td><td>General                                                                                                                           </td><td>Both                                                                                                                              </td><td><span style=white-space:pre-wrap>La Maison Le R&lt;e9&gt;verb&lt;e8&gt;re Inc.                                             </span></td><td> 9                                                                                                                                </td></tr>\n",
       "\t<tr><td>Transitional                                                                  </td><td>SK                                                                            </td><td>Prince Albert                                                                 </td><td>General                                                                       </td><td>Both                                                                          </td><td>YWCA - Our House Transitional                                                 </td><td> 7                                                                            </td></tr>\n",
       "\t<tr><td>Transitional                                                                  </td><td>SK                                                                            </td><td>Prince Albert                                                                 </td><td>General                                                                       </td><td>Both                                                                          </td><td>YWCA - Prince Albert                                                          </td><td>44                                                                            </td></tr>\n",
       "\t<tr><td>Transitional                                                                  </td><td>SK                                                                            </td><td>Prince Albert                                                                 </td><td>Youth                                                                         </td><td>Both                                                                          </td><td>Eagle's Nest Youth Ranch (houses)                                             </td><td>90                                                                            </td></tr>\n",
       "\t<tr><td>Transitional                                                                  </td><td>SK                                                                            </td><td>Prince Albert                                                                 </td><td>Youth                                                                         </td><td>Both                                                                          </td><td>Sundance Haven                                                                </td><td> 5                                                                            </td></tr>\n",
       "\t<tr><td>Transitional                                                                  </td><td>SK                                                                            </td><td>Regina                                                                        </td><td>Youth                                                                         </td><td>Both                                                                          </td><td>Dale's House                                                                  </td><td>15                                                                            </td></tr>\n",
       "\t<tr><td>Transitional                                                                  </td><td>SK                                                                            </td><td>Saskatoon                                                                     </td><td>Family                                                                        </td><td>Both                                                                          </td><td>Infinity House                                                                </td><td>16                                                                            </td></tr>\n",
       "\t<tr><td>Transitional                                                                  </td><td>SK                                                                            </td><td>Saskatoon                                                                     </td><td>General                                                                       </td><td>Both                                                                          </td><td>Shirley Skelton Manor                                                         </td><td>20                                                                            </td></tr>\n",
       "</tbody>\n",
       "</table>\n"
      ],
      "text/latex": [
       "\\begin{tabular}{r|lllllll}\n",
       " ShelterType & Province & City & TargetPopulation & Gender & ShelterName & Beds\\\\\n",
       "\\hline\n",
       "\t Transitional                                      & AB                                                & Calgary                                           & Family                                            & Both                                              & Rainbow Lodge                                     &  96                                              \\\\\n",
       "\t Transitional                                      & AB                                                & Calgary                                           & General                                           & Both                                              & 1835 House                                        &  30                                              \\\\\n",
       "\t Transitional                                      & AB                                                & Calgary                                           & General                                           & Both                                              & Aspen Apartments Transitional                     &  11                                              \\\\\n",
       "\t Transitional                                      & AB                                                & Calgary                                           & General                                           & Both                                              & Kerby Rotary Transitional                         &   6                                              \\\\\n",
       "\t Transitional                                      & AB                                                & Calgary                                           & General                                           & Both                                              & Step Up                                           &  18                                              \\\\\n",
       "\t Transitional                                      & AB                                                & Calgary                                           & Youth                                             & Both                                              & Boys and Girls Club - Safe House                  &   9                                              \\\\\n",
       "\t Transitional                                      & AB                                                & Calgary                                           & Youth                                             & Both                                              & John Howard Society - Raido House Transitional    &   8                                              \\\\\n",
       "\t Transitional                                      & AB                                                & Calgary                                           & Youth                                             & Both                                              & Mcman - Hope Homes for Aboriginal Youth           &   7                                              \\\\\n",
       "\t Transitional                                      & AB                                                & Calgary                                           & Youth                                             & Both                                              & Mcman - Wellington Place Transitional             &   4                                              \\\\\n",
       "\t Transitional                                      & AB                                                & Edmonton                                          & General                                           & Both                                              & Addictions and Residential Centre                 & 148                                              \\\\\n",
       "\t Transitional                                      & AB                                                & Edmonton                                          & General                                           & Both                                              & McCauley Lodge                                    &  58                                              \\\\\n",
       "\t Transitional                                      & AB                                                & Edmonton                                          & General                                           & Both                                              & Sparling Lodge                                    &  20                                              \\\\\n",
       "\t Transitional                                      & AB                                                & Edmonton                                          & Youth                                             & Both                                              & Inner City Youth Housing Project                  &  30                                              \\\\\n",
       "\t Transitional                                      & AB                                                & Grande Prairie                                    & General                                           & Both                                              & CMHA Willow Place Transitional                    &  58                                              \\\\\n",
       "\t Transitional                                      & AB                                                & Grande Prairie                                    & General                                           & Both                                              & Elders Caring Shelter                             &  18                                              \\\\\n",
       "\t Transitional                                      & AB                                                & Grande Prairie                                    & General                                           & Both                                              & Rotary House - Transitional                       &  48                                              \\\\\n",
       "\t Transitional                                      & AB                                                & Medicine Hat                                      & Family                                            & Both                                              & Miywasin Society House                            &   5                                              \\\\\n",
       "\t Transitional                                      & AB                                                & Medicine Hat                                      & Youth                                             & Both                                              & Mcman - Inn Between Youth Shelter Transitional    &   6                                              \\\\\n",
       "\t Transitional                                      & AB                                                & Red Deer                                          & General                                           & Both                                              & CASHS Detox                                       &  20                                              \\\\\n",
       "\t Transitional                                      & AB                                                & Wood Buffalo                                      & General                                           & Both                                              & Marshall House Transitional                       &  90                                              \\\\\n",
       "\t Transitional                                      & BC                                                & Abbotsford                                        & Youth                                             & Both                                              & Cyrus Centre: Cyrus House                         &   0                                              \\\\\n",
       "\t Transitional                                      & BC                                                & Colwood                                           & General                                           & Both                                              & Cockrell House                                    &  11                                              \\\\\n",
       "\t Transitional                                      & BC                                                & Coquitlam                                         & General                                           & Both                                              & 3030 Gordon - Transitional                        &  30                                              \\\\\n",
       "\t Transitional                                      & BC                                                & Fort St. John                                     & General                                           & Both                                              & Fort St. John Care and Share Centre Transitional  &   4                                              \\\\\n",
       "\t Transitional                                      & BC                                                & Hope                                              & General                                           & Both                                              & Thunderbird Motel Project                         &   4                                              \\\\\n",
       "\t Transitional                                      & BC                                                & Kamloops                                          & General                                           & Both                                              & Ask Wellness Society                              &  20                                              \\\\\n",
       "\t Transitional                                        & BC                                                  & Kamloops                                            & General                                             & Both                                                & Kamloops Society for Alcohol \\& Drug Services STLR &  11                                                \\\\\n",
       "\t Transitional                                      & BC                                                & Maple Ridge                                       & General                                           & Both                                              & The Caring Place - Genesis Program                &  15                                              \\\\\n",
       "\t Transitional                                      & BC                                                & New Westminster                                   & General                                           & Both                                              & Lookout - Cliff Block Transitional                &  16                                              \\\\\n",
       "\t Transitional                                      & BC                                                & New Westminster                                   & General                                           & Both                                              & Lookout - Rhoda Kaellis Housing Centre            &  24                                              \\\\\n",
       "\t ... & ... & ... & ... & ... & ... & ...\\\\\n",
       "\t Transitional                                                                   & QC                                                                             & Quebec City                                                                    & Youth                                                                          & Both                                                                           & L'ADOberge Chaudi<e8>re-Appalaches                                             &  9                                                                            \\\\\n",
       "\t Transitional                                                                   & QC                                                                             & Quebec City                                                                    & Youth                                                                          & Both                                                                           & Les Oeuvres Jean-Lafrance                                                      & 16                                                                            \\\\\n",
       "\t Transitional                                                                   & QC                                                                             & Quebec City                                                                    & Youth                                                                          & Both                                                                           & Maison Marie-Fr<e9>d<e9>ric                                                    & 15                                                                            \\\\\n",
       "\t Transitional                                                                   & QC                                                                             & Quebec City                                                                    & Youth                                                                          & Both                                                                           & Squat Basse-Ville                                                              & 10                                                                            \\\\\n",
       "\t Transitional                                                                   & QC                                                                             & Rawdon                                                                         & Youth                                                                          & Both                                                                           & Chaumi<e8>re Jeunesse                                                          &  9                                                                            \\\\\n",
       "\t Transitional                                                                   & QC                                                                             & Rimouski                                                                       & Youth                                                                          & Both                                                                           & Auberge du C<U+009C>ur-Le Transit                                              & 10                                                                            \\\\\n",
       "\t Transitional                                                                   & QC                                                                             & Saguenay                                                                       & General                                                                        & Both                                                                           & Association Canadienne pour la Sant<e9> Mentale Lac Saint-Jean                 & 13                                                                            \\\\\n",
       "\t Transitional                                                                   & QC                                                                             & Saguenay                                                                       & General                                                                        & Both                                                                           & Centre de Rencontre L'Escale                                                   & 12                                                                            \\\\\n",
       "\t Transitional                                                                   & QC                                                                             & Saguenay                                                                       & General                                                                        & Both                                                                           & Centre Le Phare - La Maison Blanche                                            &  8                                                                            \\\\\n",
       "\t Transitional                                                                   & QC                                                                             & Sainte-Julie                                                                   & General                                                                        & Both                                                                           & R<e9>sidence  Ste-Julie                                                        & 10                                                                            \\\\\n",
       "\t Transitional                                                                   & QC                                                                             & Saint-Eustache                                                                 & Youth                                                                          & Both                                                                           & Le Transit                                                                     &  6                                                                            \\\\\n",
       "\t Transitional                                                                   & QC                                                                             & Saint-Stanislas                                                                & General                                                                        & Both                                                                           & R<e9>sidence  St-Stanislas                                                     &  5                                                                            \\\\\n",
       "\t Transitional                                                                   & QC                                                                             & Shawinigan                                                                     & General                                                                        & Both                                                                           & R<e9>seau d'Habitation Communautaire de la Mauricie - R<e9>sidence  Shawinigan &  8                                                                            \\\\\n",
       "\t Transitional                                                                   & QC                                                                             & Sherbrooke                                                                     & Youth                                                                          & Both                                                                           & Auberge du C<U+009C>ur La Source-soleil                                        &  9                                                                            \\\\\n",
       "\t Transitional                                                                   & QC                                                                             & Sherbrooke                                                                     & Youth                                                                          & Both                                                                           & Centre d'h<e9>bergement alternatif de Sherbrooke                               &  9                                                                            \\\\\n",
       "\t Transitional                                                                   & QC                                                                             & St. Hyacinthe                                                                  & Youth                                                                          & Both                                                                           & Le Baluchon                                                                    &  9                                                                            \\\\\n",
       "\t Transitional                                                                   & QC                                                                             & Trois-Rivi<e8>res                                                              & General                                                                        & Both                                                                           & Le Chez Soi                                                                    &  8                                                                            \\\\\n",
       "\t Transitional                                                                   & QC                                                                             & Trois-Rivi<e8>res                                                              & General                                                                        & Both                                                                           & Le Laviolette                                                                  & 23                                                                            \\\\\n",
       "\t Transitional                                                                   & QC                                                                             & Trois-Rivi<e8>res                                                              & General                                                                        & Both                                                                           & R<e9>sidence  Royale                                                           &  3                                                                            \\\\\n",
       "\t Transitional                                                                   & QC                                                                             & Trois-Rivi<e8>res                                                              & General                                                                        & Both                                                                           & R<e9>sidence  Ste-C<e9>cile                                                    &  4                                                                            \\\\\n",
       "\t Transitional                                                                   & QC                                                                             & Trois-Rivi<e8>res                                                              & General                                                                        & Both                                                                           & R<e9>sidence P<e8>re Fr<e9>d<e9>ric                                            &  6                                                                            \\\\\n",
       "\t Transitional                                                                   & QC                                                                             & Trois-Rivi<e8>res                                                              & General                                                                        & Both                                                                           & R<e9>sidence St-Antoine                                                        & 14                                                                            \\\\\n",
       "\t Transitional                                                                   & QC                                                                             & Victoriaville                                                                  & General                                                                        & Both                                                                           & La Maison Le R<e9>verb<e8>re Inc.                                              &  9                                                                            \\\\\n",
       "\t Transitional                                                                   & SK                                                                             & Prince Albert                                                                  & General                                                                        & Both                                                                           & YWCA - Our House Transitional                                                  &  7                                                                            \\\\\n",
       "\t Transitional                                                                   & SK                                                                             & Prince Albert                                                                  & General                                                                        & Both                                                                           & YWCA - Prince Albert                                                           & 44                                                                            \\\\\n",
       "\t Transitional                                                                   & SK                                                                             & Prince Albert                                                                  & Youth                                                                          & Both                                                                           & Eagle's Nest Youth Ranch (houses)                                              & 90                                                                            \\\\\n",
       "\t Transitional                                                                   & SK                                                                             & Prince Albert                                                                  & Youth                                                                          & Both                                                                           & Sundance Haven                                                                 &  5                                                                            \\\\\n",
       "\t Transitional                                                                   & SK                                                                             & Regina                                                                         & Youth                                                                          & Both                                                                           & Dale's House                                                                   & 15                                                                            \\\\\n",
       "\t Transitional                                                                   & SK                                                                             & Saskatoon                                                                      & Family                                                                         & Both                                                                           & Infinity House                                                                 & 16                                                                            \\\\\n",
       "\t Transitional                                                                   & SK                                                                             & Saskatoon                                                                      & General                                                                        & Both                                                                           & Shirley Skelton Manor                                                          & 20                                                                            \\\\\n",
       "\\end{tabular}\n"
      ],
      "text/markdown": [
       "\n",
       "ShelterType | Province | City | TargetPopulation | Gender | ShelterName | Beds | \n",
       "|---|---|---|---|---|---|---|---|---|---|---|---|---|---|---|---|---|---|---|---|---|---|---|---|---|---|---|---|---|---|---|---|---|---|---|---|---|---|---|---|---|---|---|---|---|---|---|---|---|---|---|---|---|---|---|---|---|---|---|---|---|\n",
       "| Transitional                                      | AB                                                | Calgary                                           | Family                                            | Both                                              | Rainbow Lodge                                     |  96                                               | \n",
       "| Transitional                                      | AB                                                | Calgary                                           | General                                           | Both                                              | 1835 House                                        |  30                                               | \n",
       "| Transitional                                      | AB                                                | Calgary                                           | General                                           | Both                                              | Aspen Apartments Transitional                     |  11                                               | \n",
       "| Transitional                                      | AB                                                | Calgary                                           | General                                           | Both                                              | Kerby Rotary Transitional                         |   6                                               | \n",
       "| Transitional                                      | AB                                                | Calgary                                           | General                                           | Both                                              | Step Up                                           |  18                                               | \n",
       "| Transitional                                      | AB                                                | Calgary                                           | Youth                                             | Both                                              | Boys and Girls Club - Safe House                  |   9                                               | \n",
       "| Transitional                                      | AB                                                | Calgary                                           | Youth                                             | Both                                              | John Howard Society - Raido House Transitional    |   8                                               | \n",
       "| Transitional                                      | AB                                                | Calgary                                           | Youth                                             | Both                                              | Mcman - Hope Homes for Aboriginal Youth           |   7                                               | \n",
       "| Transitional                                      | AB                                                | Calgary                                           | Youth                                             | Both                                              | Mcman - Wellington Place Transitional             |   4                                               | \n",
       "| Transitional                                      | AB                                                | Edmonton                                          | General                                           | Both                                              | Addictions and Residential Centre                 | 148                                               | \n",
       "| Transitional                                      | AB                                                | Edmonton                                          | General                                           | Both                                              | McCauley Lodge                                    |  58                                               | \n",
       "| Transitional                                      | AB                                                | Edmonton                                          | General                                           | Both                                              | Sparling Lodge                                    |  20                                               | \n",
       "| Transitional                                      | AB                                                | Edmonton                                          | Youth                                             | Both                                              | Inner City Youth Housing Project                  |  30                                               | \n",
       "| Transitional                                      | AB                                                | Grande Prairie                                    | General                                           | Both                                              | CMHA Willow Place Transitional                    |  58                                               | \n",
       "| Transitional                                      | AB                                                | Grande Prairie                                    | General                                           | Both                                              | Elders Caring Shelter                             |  18                                               | \n",
       "| Transitional                                      | AB                                                | Grande Prairie                                    | General                                           | Both                                              | Rotary House - Transitional                       |  48                                               | \n",
       "| Transitional                                      | AB                                                | Medicine Hat                                      | Family                                            | Both                                              | Miywasin Society House                            |   5                                               | \n",
       "| Transitional                                      | AB                                                | Medicine Hat                                      | Youth                                             | Both                                              | Mcman - Inn Between Youth Shelter Transitional    |   6                                               | \n",
       "| Transitional                                      | AB                                                | Red Deer                                          | General                                           | Both                                              | CASHS Detox                                       |  20                                               | \n",
       "| Transitional                                      | AB                                                | Wood Buffalo                                      | General                                           | Both                                              | Marshall House Transitional                       |  90                                               | \n",
       "| Transitional                                      | BC                                                | Abbotsford                                        | Youth                                             | Both                                              | Cyrus Centre: Cyrus House                         |   0                                               | \n",
       "| Transitional                                      | BC                                                | Colwood                                           | General                                           | Both                                              | Cockrell House                                    |  11                                               | \n",
       "| Transitional                                      | BC                                                | Coquitlam                                         | General                                           | Both                                              | 3030 Gordon - Transitional                        |  30                                               | \n",
       "| Transitional                                      | BC                                                | Fort St. John                                     | General                                           | Both                                              | Fort St. John Care and Share Centre Transitional  |   4                                               | \n",
       "| Transitional                                      | BC                                                | Hope                                              | General                                           | Both                                              | Thunderbird Motel Project                         |   4                                               | \n",
       "| Transitional                                      | BC                                                | Kamloops                                          | General                                           | Both                                              | Ask Wellness Society                              |  20                                               | \n",
       "| Transitional                                      | BC                                                | Kamloops                                          | General                                           | Both                                              | Kamloops Society for Alcohol & Drug Services STLR |  11                                               | \n",
       "| Transitional                                      | BC                                                | Maple Ridge                                       | General                                           | Both                                              | The Caring Place - Genesis Program                |  15                                               | \n",
       "| Transitional                                      | BC                                                | New Westminster                                   | General                                           | Both                                              | Lookout - Cliff Block Transitional                |  16                                               | \n",
       "| Transitional                                      | BC                                                | New Westminster                                   | General                                           | Both                                              | Lookout - Rhoda Kaellis Housing Centre            |  24                                               | \n",
       "| ... | ... | ... | ... | ... | ... | ... | \n",
       "| Transitional                                                                   | QC                                                                             | Quebec City                                                                    | Youth                                                                          | Both                                                                           | L'ADOberge Chaudi<e8>re-Appalaches                                             |  9                                                                             | \n",
       "| Transitional                                                                   | QC                                                                             | Quebec City                                                                    | Youth                                                                          | Both                                                                           | Les Oeuvres Jean-Lafrance                                                      | 16                                                                             | \n",
       "| Transitional                                                                   | QC                                                                             | Quebec City                                                                    | Youth                                                                          | Both                                                                           | Maison Marie-Fr<e9>d<e9>ric                                                    | 15                                                                             | \n",
       "| Transitional                                                                   | QC                                                                             | Quebec City                                                                    | Youth                                                                          | Both                                                                           | Squat Basse-Ville                                                              | 10                                                                             | \n",
       "| Transitional                                                                   | QC                                                                             | Rawdon                                                                         | Youth                                                                          | Both                                                                           | Chaumi<e8>re Jeunesse                                                          |  9                                                                             | \n",
       "| Transitional                                                                   | QC                                                                             | Rimouski                                                                       | Youth                                                                          | Both                                                                           | Auberge du C<U+009C>ur-Le Transit                                              | 10                                                                             | \n",
       "| Transitional                                                                   | QC                                                                             | Saguenay                                                                       | General                                                                        | Both                                                                           | Association Canadienne pour la Sant<e9> Mentale Lac Saint-Jean                 | 13                                                                             | \n",
       "| Transitional                                                                   | QC                                                                             | Saguenay                                                                       | General                                                                        | Both                                                                           | Centre de Rencontre L'Escale                                                   | 12                                                                             | \n",
       "| Transitional                                                                   | QC                                                                             | Saguenay                                                                       | General                                                                        | Both                                                                           | Centre Le Phare - La Maison Blanche                                            |  8                                                                             | \n",
       "| Transitional                                                                   | QC                                                                             | Sainte-Julie                                                                   | General                                                                        | Both                                                                           | R<e9>sidence  Ste-Julie                                                        | 10                                                                             | \n",
       "| Transitional                                                                   | QC                                                                             | Saint-Eustache                                                                 | Youth                                                                          | Both                                                                           | Le Transit                                                                     |  6                                                                             | \n",
       "| Transitional                                                                   | QC                                                                             | Saint-Stanislas                                                                | General                                                                        | Both                                                                           | R<e9>sidence  St-Stanislas                                                     |  5                                                                             | \n",
       "| Transitional                                                                   | QC                                                                             | Shawinigan                                                                     | General                                                                        | Both                                                                           | R<e9>seau d'Habitation Communautaire de la Mauricie - R<e9>sidence  Shawinigan |  8                                                                             | \n",
       "| Transitional                                                                   | QC                                                                             | Sherbrooke                                                                     | Youth                                                                          | Both                                                                           | Auberge du C<U+009C>ur La Source-soleil                                        |  9                                                                             | \n",
       "| Transitional                                                                   | QC                                                                             | Sherbrooke                                                                     | Youth                                                                          | Both                                                                           | Centre d'h<e9>bergement alternatif de Sherbrooke                               |  9                                                                             | \n",
       "| Transitional                                                                   | QC                                                                             | St. Hyacinthe                                                                  | Youth                                                                          | Both                                                                           | Le Baluchon                                                                    |  9                                                                             | \n",
       "| Transitional                                                                   | QC                                                                             | Trois-Rivi<e8>res                                                              | General                                                                        | Both                                                                           | Le Chez Soi                                                                    |  8                                                                             | \n",
       "| Transitional                                                                   | QC                                                                             | Trois-Rivi<e8>res                                                              | General                                                                        | Both                                                                           | Le Laviolette                                                                  | 23                                                                             | \n",
       "| Transitional                                                                   | QC                                                                             | Trois-Rivi<e8>res                                                              | General                                                                        | Both                                                                           | R<e9>sidence  Royale                                                           |  3                                                                             | \n",
       "| Transitional                                                                   | QC                                                                             | Trois-Rivi<e8>res                                                              | General                                                                        | Both                                                                           | R<e9>sidence  Ste-C<e9>cile                                                    |  4                                                                             | \n",
       "| Transitional                                                                   | QC                                                                             | Trois-Rivi<e8>res                                                              | General                                                                        | Both                                                                           | R<e9>sidence P<e8>re Fr<e9>d<e9>ric                                            |  6                                                                             | \n",
       "| Transitional                                                                   | QC                                                                             | Trois-Rivi<e8>res                                                              | General                                                                        | Both                                                                           | R<e9>sidence St-Antoine                                                        | 14                                                                             | \n",
       "| Transitional                                                                   | QC                                                                             | Victoriaville                                                                  | General                                                                        | Both                                                                           | La Maison Le R<e9>verb<e8>re Inc.                                              |  9                                                                             | \n",
       "| Transitional                                                                   | SK                                                                             | Prince Albert                                                                  | General                                                                        | Both                                                                           | YWCA - Our House Transitional                                                  |  7                                                                             | \n",
       "| Transitional                                                                   | SK                                                                             | Prince Albert                                                                  | General                                                                        | Both                                                                           | YWCA - Prince Albert                                                           | 44                                                                             | \n",
       "| Transitional                                                                   | SK                                                                             | Prince Albert                                                                  | Youth                                                                          | Both                                                                           | Eagle's Nest Youth Ranch (houses)                                              | 90                                                                             | \n",
       "| Transitional                                                                   | SK                                                                             | Prince Albert                                                                  | Youth                                                                          | Both                                                                           | Sundance Haven                                                                 |  5                                                                             | \n",
       "| Transitional                                                                   | SK                                                                             | Regina                                                                         | Youth                                                                          | Both                                                                           | Dale's House                                                                   | 15                                                                             | \n",
       "| Transitional                                                                   | SK                                                                             | Saskatoon                                                                      | Family                                                                         | Both                                                                           | Infinity House                                                                 | 16                                                                             | \n",
       "| Transitional                                                                   | SK                                                                             | Saskatoon                                                                      | General                                                                        | Both                                                                           | Shirley Skelton Manor                                                          | 20                                                                             | \n",
       "\n",
       "\n"
      ],
      "text/plain": [
       "    ShelterType  Province City              TargetPopulation Gender\n",
       "1   Transitional AB       Calgary           Family           Both  \n",
       "2   Transitional AB       Calgary           General          Both  \n",
       "3   Transitional AB       Calgary           General          Both  \n",
       "4   Transitional AB       Calgary           General          Both  \n",
       "5   Transitional AB       Calgary           General          Both  \n",
       "6   Transitional AB       Calgary           Youth            Both  \n",
       "7   Transitional AB       Calgary           Youth            Both  \n",
       "8   Transitional AB       Calgary           Youth            Both  \n",
       "9   Transitional AB       Calgary           Youth            Both  \n",
       "10  Transitional AB       Edmonton          General          Both  \n",
       "11  Transitional AB       Edmonton          General          Both  \n",
       "12  Transitional AB       Edmonton          General          Both  \n",
       "13  Transitional AB       Edmonton          Youth            Both  \n",
       "14  Transitional AB       Grande Prairie    General          Both  \n",
       "15  Transitional AB       Grande Prairie    General          Both  \n",
       "16  Transitional AB       Grande Prairie    General          Both  \n",
       "17  Transitional AB       Medicine Hat      Family           Both  \n",
       "18  Transitional AB       Medicine Hat      Youth            Both  \n",
       "19  Transitional AB       Red Deer          General          Both  \n",
       "20  Transitional AB       Wood Buffalo      General          Both  \n",
       "21  Transitional BC       Abbotsford        Youth            Both  \n",
       "22  Transitional BC       Colwood           General          Both  \n",
       "23  Transitional BC       Coquitlam         General          Both  \n",
       "24  Transitional BC       Fort St. John     General          Both  \n",
       "25  Transitional BC       Hope              General          Both  \n",
       "26  Transitional BC       Kamloops          General          Both  \n",
       "27  Transitional BC       Kamloops          General          Both  \n",
       "28  Transitional BC       Maple Ridge       General          Both  \n",
       "29  Transitional BC       New Westminster   General          Both  \n",
       "30  Transitional BC       New Westminster   General          Both  \n",
       "... ...          ...      ...               ...              ...   \n",
       "131 Transitional QC       Quebec City       Youth            Both  \n",
       "132 Transitional QC       Quebec City       Youth            Both  \n",
       "133 Transitional QC       Quebec City       Youth            Both  \n",
       "134 Transitional QC       Quebec City       Youth            Both  \n",
       "135 Transitional QC       Rawdon            Youth            Both  \n",
       "136 Transitional QC       Rimouski          Youth            Both  \n",
       "137 Transitional QC       Saguenay          General          Both  \n",
       "138 Transitional QC       Saguenay          General          Both  \n",
       "139 Transitional QC       Saguenay          General          Both  \n",
       "140 Transitional QC       Sainte-Julie      General          Both  \n",
       "141 Transitional QC       Saint-Eustache    Youth            Both  \n",
       "142 Transitional QC       Saint-Stanislas   General          Both  \n",
       "143 Transitional QC       Shawinigan        General          Both  \n",
       "144 Transitional QC       Sherbrooke        Youth            Both  \n",
       "145 Transitional QC       Sherbrooke        Youth            Both  \n",
       "146 Transitional QC       St. Hyacinthe     Youth            Both  \n",
       "147 Transitional QC       Trois-Rivi<e8>res General          Both  \n",
       "148 Transitional QC       Trois-Rivi<e8>res General          Both  \n",
       "149 Transitional QC       Trois-Rivi<e8>res General          Both  \n",
       "150 Transitional QC       Trois-Rivi<e8>res General          Both  \n",
       "151 Transitional QC       Trois-Rivi<e8>res General          Both  \n",
       "152 Transitional QC       Trois-Rivi<e8>res General          Both  \n",
       "153 Transitional QC       Victoriaville     General          Both  \n",
       "154 Transitional SK       Prince Albert     General          Both  \n",
       "155 Transitional SK       Prince Albert     General          Both  \n",
       "156 Transitional SK       Prince Albert     Youth            Both  \n",
       "157 Transitional SK       Prince Albert     Youth            Both  \n",
       "158 Transitional SK       Regina            Youth            Both  \n",
       "159 Transitional SK       Saskatoon         Family           Both  \n",
       "160 Transitional SK       Saskatoon         General          Both  \n",
       "    ShelterName                                                                   \n",
       "1   Rainbow Lodge                                                                 \n",
       "2   1835 House                                                                    \n",
       "3   Aspen Apartments Transitional                                                 \n",
       "4   Kerby Rotary Transitional                                                     \n",
       "5   Step Up                                                                       \n",
       "6   Boys and Girls Club - Safe House                                              \n",
       "7   John Howard Society - Raido House Transitional                                \n",
       "8   Mcman - Hope Homes for Aboriginal Youth                                       \n",
       "9   Mcman - Wellington Place Transitional                                         \n",
       "10  Addictions and Residential Centre                                             \n",
       "11  McCauley Lodge                                                                \n",
       "12  Sparling Lodge                                                                \n",
       "13  Inner City Youth Housing Project                                              \n",
       "14  CMHA Willow Place Transitional                                                \n",
       "15  Elders Caring Shelter                                                         \n",
       "16  Rotary House - Transitional                                                   \n",
       "17  Miywasin Society House                                                        \n",
       "18  Mcman - Inn Between Youth Shelter Transitional                                \n",
       "19  CASHS Detox                                                                   \n",
       "20  Marshall House Transitional                                                   \n",
       "21  Cyrus Centre: Cyrus House                                                     \n",
       "22  Cockrell House                                                                \n",
       "23  3030 Gordon - Transitional                                                    \n",
       "24  Fort St. John Care and Share Centre Transitional                              \n",
       "25  Thunderbird Motel Project                                                     \n",
       "26  Ask Wellness Society                                                          \n",
       "27  Kamloops Society for Alcohol & Drug Services STLR                             \n",
       "28  The Caring Place - Genesis Program                                            \n",
       "29  Lookout - Cliff Block Transitional                                            \n",
       "30  Lookout - Rhoda Kaellis Housing Centre                                        \n",
       "... ...                                                                           \n",
       "131 L'ADOberge Chaudi<e8>re-Appalaches                                            \n",
       "132 Les Oeuvres Jean-Lafrance                                                     \n",
       "133 Maison Marie-Fr<e9>d<e9>ric                                                   \n",
       "134 Squat Basse-Ville                                                             \n",
       "135 Chaumi<e8>re Jeunesse                                                         \n",
       "136 Auberge du C<U+009C>ur-Le Transit                                             \n",
       "137 Association Canadienne pour la Sant<e9> Mentale Lac Saint-Jean                \n",
       "138 Centre de Rencontre L'Escale                                                  \n",
       "139 Centre Le Phare - La Maison Blanche                                           \n",
       "140 R<e9>sidence  Ste-Julie                                                       \n",
       "141 Le Transit                                                                    \n",
       "142 R<e9>sidence  St-Stanislas                                                    \n",
       "143 R<e9>seau d'Habitation Communautaire de la Mauricie - R<e9>sidence  Shawinigan\n",
       "144 Auberge du C<U+009C>ur La Source-soleil                                       \n",
       "145 Centre d'h<e9>bergement alternatif de Sherbrooke                              \n",
       "146 Le Baluchon                                                                   \n",
       "147 Le Chez Soi                                                                   \n",
       "148 Le Laviolette                                                                 \n",
       "149 R<e9>sidence  Royale                                                          \n",
       "150 R<e9>sidence  Ste-C<e9>cile                                                   \n",
       "151 R<e9>sidence P<e8>re Fr<e9>d<e9>ric                                           \n",
       "152 R<e9>sidence St-Antoine                                                       \n",
       "153 La Maison Le R<e9>verb<e8>re Inc.                                             \n",
       "154 YWCA - Our House Transitional                                                 \n",
       "155 YWCA - Prince Albert                                                          \n",
       "156 Eagle's Nest Youth Ranch (houses)                                             \n",
       "157 Sundance Haven                                                                \n",
       "158 Dale's House                                                                  \n",
       "159 Infinity House                                                                \n",
       "160 Shirley Skelton Manor                                                         \n",
       "    Beds\n",
       "1    96 \n",
       "2    30 \n",
       "3    11 \n",
       "4     6 \n",
       "5    18 \n",
       "6     9 \n",
       "7     8 \n",
       "8     7 \n",
       "9     4 \n",
       "10  148 \n",
       "11   58 \n",
       "12   20 \n",
       "13   30 \n",
       "14   58 \n",
       "15   18 \n",
       "16   48 \n",
       "17    5 \n",
       "18    6 \n",
       "19   20 \n",
       "20   90 \n",
       "21    0 \n",
       "22   11 \n",
       "23   30 \n",
       "24    4 \n",
       "25    4 \n",
       "26   20 \n",
       "27   11 \n",
       "28   15 \n",
       "29   16 \n",
       "30   24 \n",
       "... ... \n",
       "131  9  \n",
       "132 16  \n",
       "133 15  \n",
       "134 10  \n",
       "135  9  \n",
       "136 10  \n",
       "137 13  \n",
       "138 12  \n",
       "139  8  \n",
       "140 10  \n",
       "141  6  \n",
       "142  5  \n",
       "143  8  \n",
       "144  9  \n",
       "145  9  \n",
       "146  9  \n",
       "147  8  \n",
       "148 23  \n",
       "149  3  \n",
       "150  4  \n",
       "151  6  \n",
       "152 14  \n",
       "153  9  \n",
       "154  7  \n",
       "155 44  \n",
       "156 90  \n",
       "157  5  \n",
       "158 15  \n",
       "159 16  \n",
       "160 20  "
      ]
     },
     "metadata": {},
     "output_type": "display_data"
    }
   ],
   "source": [
    "glimpse(df)\n",
    "df"
   ]
  },
  {
   "cell_type": "code",
   "execution_count": 106,
   "metadata": {},
   "outputs": [
    {
     "data": {
      "text/html": [
       "<ol class=list-inline>\n",
       "\t<li>AB</li>\n",
       "\t<li>BC</li>\n",
       "\t<li>MB</li>\n",
       "\t<li>NL</li>\n",
       "\t<li>NS</li>\n",
       "\t<li>ON</li>\n",
       "\t<li>QC</li>\n",
       "\t<li>SK</li>\n",
       "</ol>\n"
      ],
      "text/latex": [
       "\\begin{enumerate*}\n",
       "\\item AB\n",
       "\\item BC\n",
       "\\item MB\n",
       "\\item NL\n",
       "\\item NS\n",
       "\\item ON\n",
       "\\item QC\n",
       "\\item SK\n",
       "\\end{enumerate*}\n"
      ],
      "text/markdown": [
       "1. AB\n",
       "2. BC\n",
       "3. MB\n",
       "4. NL\n",
       "5. NS\n",
       "6. ON\n",
       "7. QC\n",
       "8. SK\n",
       "\n",
       "\n"
      ],
      "text/plain": [
       "[1] AB BC MB NL NS ON QC SK\n",
       "Levels: AB BC MB NL NS ON QC SK"
      ]
     },
     "metadata": {},
     "output_type": "display_data"
    }
   ],
   "source": [
    "unique(df$Province)"
   ]
  },
  {
   "cell_type": "code",
   "execution_count": 107,
   "metadata": {},
   "outputs": [
    {
     "name": "stdout",
     "output_type": "stream",
     "text": [
      "Observations: 160\n",
      "Variables: 7\n",
      "$ ShelterType      <fctr> Transitional, Transitional, Transitional, Transit...\n",
      "$ Province         <fctr> AB, AB, AB, AB, AB, AB, AB, AB, AB, AB, AB, AB, A...\n",
      "$ City             <fctr> Calgary, Calgary, Calgary, Calgary, Calgary, Calg...\n",
      "$ TargetPopulation <fctr> Family, General, General, General, General, Youth...\n",
      "$ Gender           <fctr> Both, Both, Both, Both, Both, Both, Both, Both, B...\n",
      "$ ShelterName      <chr> \"Rainbow Lodge\", \"1835 House\", \"Aspen Apartments T...\n",
      "$ Beds             <dbl> 96, 30, 11, 6, 18, 9, 8, 7, 4, 148, 58, 20, 30, 58...\n"
     ]
    },
    {
     "data": {
      "text/html": [
       "<table>\n",
       "<thead><tr><th scope=col>ShelterType</th><th scope=col>Province</th><th scope=col>City</th><th scope=col>TargetPopulation</th><th scope=col>Gender</th><th scope=col>ShelterName</th><th scope=col>Beds</th></tr></thead>\n",
       "<tbody>\n",
       "\t<tr><td>Transitional                    </td><td>AB                              </td><td>Calgary                         </td><td>Family                          </td><td>Both                            </td><td>Rainbow Lodge                   </td><td>96                              </td></tr>\n",
       "\t<tr><td>Transitional                    </td><td>AB                              </td><td>Calgary                         </td><td>General                         </td><td>Both                            </td><td>1835 House                      </td><td>30                              </td></tr>\n",
       "\t<tr><td>Transitional                    </td><td>AB                              </td><td>Calgary                         </td><td>General                         </td><td>Both                            </td><td>Aspen Apartments Transitional   </td><td>11                              </td></tr>\n",
       "\t<tr><td>Transitional                    </td><td>AB                              </td><td>Calgary                         </td><td>General                         </td><td>Both                            </td><td>Kerby Rotary Transitional       </td><td> 6                              </td></tr>\n",
       "\t<tr><td>Transitional                    </td><td>AB                              </td><td>Calgary                         </td><td>General                         </td><td>Both                            </td><td>Step Up                         </td><td>18                              </td></tr>\n",
       "\t<tr><td>Transitional                    </td><td>AB                              </td><td>Calgary                         </td><td>Youth                           </td><td>Both                            </td><td>Boys and Girls Club - Safe House</td><td> 9                              </td></tr>\n",
       "</tbody>\n",
       "</table>\n"
      ],
      "text/latex": [
       "\\begin{tabular}{r|lllllll}\n",
       " ShelterType & Province & City & TargetPopulation & Gender & ShelterName & Beds\\\\\n",
       "\\hline\n",
       "\t Transitional                     & AB                               & Calgary                          & Family                           & Both                             & Rainbow Lodge                    & 96                              \\\\\n",
       "\t Transitional                     & AB                               & Calgary                          & General                          & Both                             & 1835 House                       & 30                              \\\\\n",
       "\t Transitional                     & AB                               & Calgary                          & General                          & Both                             & Aspen Apartments Transitional    & 11                              \\\\\n",
       "\t Transitional                     & AB                               & Calgary                          & General                          & Both                             & Kerby Rotary Transitional        &  6                              \\\\\n",
       "\t Transitional                     & AB                               & Calgary                          & General                          & Both                             & Step Up                          & 18                              \\\\\n",
       "\t Transitional                     & AB                               & Calgary                          & Youth                            & Both                             & Boys and Girls Club - Safe House &  9                              \\\\\n",
       "\\end{tabular}\n"
      ],
      "text/markdown": [
       "\n",
       "ShelterType | Province | City | TargetPopulation | Gender | ShelterName | Beds | \n",
       "|---|---|---|---|---|---|\n",
       "| Transitional                     | AB                               | Calgary                          | Family                           | Both                             | Rainbow Lodge                    | 96                               | \n",
       "| Transitional                     | AB                               | Calgary                          | General                          | Both                             | 1835 House                       | 30                               | \n",
       "| Transitional                     | AB                               | Calgary                          | General                          | Both                             | Aspen Apartments Transitional    | 11                               | \n",
       "| Transitional                     | AB                               | Calgary                          | General                          | Both                             | Kerby Rotary Transitional        |  6                               | \n",
       "| Transitional                     | AB                               | Calgary                          | General                          | Both                             | Step Up                          | 18                               | \n",
       "| Transitional                     | AB                               | Calgary                          | Youth                            | Both                             | Boys and Girls Club - Safe House |  9                               | \n",
       "\n",
       "\n"
      ],
      "text/plain": [
       "  ShelterType  Province City    TargetPopulation Gender\n",
       "1 Transitional AB       Calgary Family           Both  \n",
       "2 Transitional AB       Calgary General          Both  \n",
       "3 Transitional AB       Calgary General          Both  \n",
       "4 Transitional AB       Calgary General          Both  \n",
       "5 Transitional AB       Calgary General          Both  \n",
       "6 Transitional AB       Calgary Youth            Both  \n",
       "  ShelterName                      Beds\n",
       "1 Rainbow Lodge                    96  \n",
       "2 1835 House                       30  \n",
       "3 Aspen Apartments Transitional    11  \n",
       "4 Kerby Rotary Transitional         6  \n",
       "5 Step Up                          18  \n",
       "6 Boys and Girls Club - Safe House  9  "
      ]
     },
     "metadata": {},
     "output_type": "display_data"
    },
    {
     "data": {
      "text/html": [
       "<table>\n",
       "<thead><tr><th scope=col>ShelterType</th><th scope=col>Province</th><th scope=col>City</th><th scope=col>TargetPopulation</th><th scope=col>Gender</th><th scope=col>ShelterName</th><th scope=col>Beds</th></tr></thead>\n",
       "<tbody>\n",
       "\t<tr><td>Transitional                     </td><td>SK                               </td><td>Prince Albert                    </td><td>General                          </td><td>Both                             </td><td>YWCA - Prince Albert             </td><td>44                               </td></tr>\n",
       "\t<tr><td>Transitional                     </td><td>SK                               </td><td>Prince Albert                    </td><td>Youth                            </td><td>Both                             </td><td>Eagle's Nest Youth Ranch (houses)</td><td>90                               </td></tr>\n",
       "\t<tr><td>Transitional                     </td><td>SK                               </td><td>Prince Albert                    </td><td>Youth                            </td><td>Both                             </td><td>Sundance Haven                   </td><td> 5                               </td></tr>\n",
       "\t<tr><td>Transitional                     </td><td>SK                               </td><td>Regina                           </td><td>Youth                            </td><td>Both                             </td><td>Dale's House                     </td><td>15                               </td></tr>\n",
       "\t<tr><td>Transitional                     </td><td>SK                               </td><td>Saskatoon                        </td><td>Family                           </td><td>Both                             </td><td>Infinity House                   </td><td>16                               </td></tr>\n",
       "\t<tr><td>Transitional                     </td><td>SK                               </td><td>Saskatoon                        </td><td>General                          </td><td>Both                             </td><td>Shirley Skelton Manor            </td><td>20                               </td></tr>\n",
       "</tbody>\n",
       "</table>\n"
      ],
      "text/latex": [
       "\\begin{tabular}{r|lllllll}\n",
       " ShelterType & Province & City & TargetPopulation & Gender & ShelterName & Beds\\\\\n",
       "\\hline\n",
       "\t Transitional                      & SK                                & Prince Albert                     & General                           & Both                              & YWCA - Prince Albert              & 44                               \\\\\n",
       "\t Transitional                      & SK                                & Prince Albert                     & Youth                             & Both                              & Eagle's Nest Youth Ranch (houses) & 90                               \\\\\n",
       "\t Transitional                      & SK                                & Prince Albert                     & Youth                             & Both                              & Sundance Haven                    &  5                               \\\\\n",
       "\t Transitional                      & SK                                & Regina                            & Youth                             & Both                              & Dale's House                      & 15                               \\\\\n",
       "\t Transitional                      & SK                                & Saskatoon                         & Family                            & Both                              & Infinity House                    & 16                               \\\\\n",
       "\t Transitional                      & SK                                & Saskatoon                         & General                           & Both                              & Shirley Skelton Manor             & 20                               \\\\\n",
       "\\end{tabular}\n"
      ],
      "text/markdown": [
       "\n",
       "ShelterType | Province | City | TargetPopulation | Gender | ShelterName | Beds | \n",
       "|---|---|---|---|---|---|\n",
       "| Transitional                      | SK                                | Prince Albert                     | General                           | Both                              | YWCA - Prince Albert              | 44                                | \n",
       "| Transitional                      | SK                                | Prince Albert                     | Youth                             | Both                              | Eagle's Nest Youth Ranch (houses) | 90                                | \n",
       "| Transitional                      | SK                                | Prince Albert                     | Youth                             | Both                              | Sundance Haven                    |  5                                | \n",
       "| Transitional                      | SK                                | Regina                            | Youth                             | Both                              | Dale's House                      | 15                                | \n",
       "| Transitional                      | SK                                | Saskatoon                         | Family                            | Both                              | Infinity House                    | 16                                | \n",
       "| Transitional                      | SK                                | Saskatoon                         | General                           | Both                              | Shirley Skelton Manor             | 20                                | \n",
       "\n",
       "\n"
      ],
      "text/plain": [
       "  ShelterType  Province City          TargetPopulation Gender\n",
       "1 Transitional SK       Prince Albert General          Both  \n",
       "2 Transitional SK       Prince Albert Youth            Both  \n",
       "3 Transitional SK       Prince Albert Youth            Both  \n",
       "4 Transitional SK       Regina        Youth            Both  \n",
       "5 Transitional SK       Saskatoon     Family           Both  \n",
       "6 Transitional SK       Saskatoon     General          Both  \n",
       "  ShelterName                       Beds\n",
       "1 YWCA - Prince Albert              44  \n",
       "2 Eagle's Nest Youth Ranch (houses) 90  \n",
       "3 Sundance Haven                     5  \n",
       "4 Dale's House                      15  \n",
       "5 Infinity House                    16  \n",
       "6 Shirley Skelton Manor             20  "
      ]
     },
     "metadata": {},
     "output_type": "display_data"
    }
   ],
   "source": [
    "glimpse(df)\n",
    "head(df)\n",
    "tail(df)"
   ]
  },
  {
   "cell_type": "code",
   "execution_count": 108,
   "metadata": {},
   "outputs": [
    {
     "data": {
      "text/html": [
       "<table>\n",
       "<thead><tr><th scope=col>Province</th><th scope=col>TotalTransitionalBedsForAnyGender</th></tr></thead>\n",
       "<tbody>\n",
       "\t<tr><td>AB  </td><td> 690</td></tr>\n",
       "\t<tr><td>BC  </td><td> 684</td></tr>\n",
       "\t<tr><td>MB  </td><td> 201</td></tr>\n",
       "\t<tr><td>NL  </td><td>  99</td></tr>\n",
       "\t<tr><td>NS  </td><td>  15</td></tr>\n",
       "\t<tr><td>ON  </td><td>1410</td></tr>\n",
       "\t<tr><td>QC  </td><td> 998</td></tr>\n",
       "\t<tr><td>SK  </td><td> 197</td></tr>\n",
       "</tbody>\n",
       "</table>\n"
      ],
      "text/latex": [
       "\\begin{tabular}{r|ll}\n",
       " Province & TotalTransitionalBedsForAnyGender\\\\\n",
       "\\hline\n",
       "\t AB   &  690\\\\\n",
       "\t BC   &  684\\\\\n",
       "\t MB   &  201\\\\\n",
       "\t NL   &   99\\\\\n",
       "\t NS   &   15\\\\\n",
       "\t ON   & 1410\\\\\n",
       "\t QC   &  998\\\\\n",
       "\t SK   &  197\\\\\n",
       "\\end{tabular}\n"
      ],
      "text/markdown": [
       "\n",
       "Province | TotalTransitionalBedsForAnyGender | \n",
       "|---|---|---|---|---|---|---|---|\n",
       "| AB   |  690 | \n",
       "| BC   |  684 | \n",
       "| MB   |  201 | \n",
       "| NL   |   99 | \n",
       "| NS   |   15 | \n",
       "| ON   | 1410 | \n",
       "| QC   |  998 | \n",
       "| SK   |  197 | \n",
       "\n",
       "\n"
      ],
      "text/plain": [
       "  Province TotalTransitionalBedsForAnyGender\n",
       "1 AB        690                             \n",
       "2 BC        684                             \n",
       "3 MB        201                             \n",
       "4 NL         99                             \n",
       "5 NS         15                             \n",
       "6 ON       1410                             \n",
       "7 QC        998                             \n",
       "8 SK        197                             "
      ]
     },
     "metadata": {},
     "output_type": "display_data"
    }
   ],
   "source": [
    "df_Provincial <- df %>%\n",
    "  select(Province, Beds) %>%\n",
    "  group_by(Province) %>%\n",
    "  summarise(TotalTransitionalBedsForAnyGender = sum(Beds))\n",
    "\n",
    "df_Provincial"
   ]
  },
  {
   "cell_type": "code",
   "execution_count": 109,
   "metadata": {},
   "outputs": [
    {
     "data": {
      "text/html": [
       "<table>\n",
       "<thead><tr><th scope=col>Province</th><th scope=col>TotalTransitionalBedsForAnyGender</th></tr></thead>\n",
       "<tbody>\n",
       "\t<tr><td>AB  </td><td> 690</td></tr>\n",
       "\t<tr><td>BC  </td><td> 684</td></tr>\n",
       "\t<tr><td>MB  </td><td> 201</td></tr>\n",
       "\t<tr><td>NL  </td><td>  99</td></tr>\n",
       "\t<tr><td>NS  </td><td>  15</td></tr>\n",
       "\t<tr><td>ON  </td><td>1410</td></tr>\n",
       "\t<tr><td>QC  </td><td> 998</td></tr>\n",
       "\t<tr><td>SK  </td><td> 197</td></tr>\n",
       "\t<tr><td>PI  </td><td>   0</td></tr>\n",
       "\t<tr><td>NB  </td><td>   0</td></tr>\n",
       "</tbody>\n",
       "</table>\n"
      ],
      "text/latex": [
       "\\begin{tabular}{r|ll}\n",
       " Province & TotalTransitionalBedsForAnyGender\\\\\n",
       "\\hline\n",
       "\t AB   &  690\\\\\n",
       "\t BC   &  684\\\\\n",
       "\t MB   &  201\\\\\n",
       "\t NL   &   99\\\\\n",
       "\t NS   &   15\\\\\n",
       "\t ON   & 1410\\\\\n",
       "\t QC   &  998\\\\\n",
       "\t SK   &  197\\\\\n",
       "\t PI   &    0\\\\\n",
       "\t NB   &    0\\\\\n",
       "\\end{tabular}\n"
      ],
      "text/markdown": [
       "\n",
       "Province | TotalTransitionalBedsForAnyGender | \n",
       "|---|---|---|---|---|---|---|---|---|---|\n",
       "| AB   |  690 | \n",
       "| BC   |  684 | \n",
       "| MB   |  201 | \n",
       "| NL   |   99 | \n",
       "| NS   |   15 | \n",
       "| ON   | 1410 | \n",
       "| QC   |  998 | \n",
       "| SK   |  197 | \n",
       "| PI   |    0 | \n",
       "| NB   |    0 | \n",
       "\n",
       "\n"
      ],
      "text/plain": [
       "   Province TotalTransitionalBedsForAnyGender\n",
       "1  AB        690                             \n",
       "2  BC        684                             \n",
       "3  MB        201                             \n",
       "4  NL         99                             \n",
       "5  NS         15                             \n",
       "6  ON       1410                             \n",
       "7  QC        998                             \n",
       "8  SK        197                             \n",
       "9  PI          0                             \n",
       "10 NB          0                             "
      ]
     },
     "metadata": {},
     "output_type": "display_data"
    }
   ],
   "source": [
    "# add row for one province that does not have emergency beds\n",
    "\n",
    "newRow1 <- data.frame(Province = \"PI\", TotalTransitionalBedsForAnyGender = 0)\n",
    "newRow2 <- data.frame(Province = \"NB\", TotalTransitionalBedsForAnyGender = 0)\n",
    "\n",
    "df_Provincial <- rbind(df_Provincial, newRow1)\n",
    "df_Provincial <- rbind(df_Provincial, newRow2)\n",
    "\n",
    "df_Provincial"
   ]
  },
  {
   "cell_type": "code",
   "execution_count": 110,
   "metadata": {},
   "outputs": [
    {
     "name": "stdout",
     "output_type": "stream",
     "text": [
      "Observations: 10\n",
      "Variables: 3\n",
      "$ Province                          <fctr> AB, BC, MB, NL, NS, ON, QC, SK, ...\n",
      "$ TotalTransitionalBedsForAnyGender <dbl> 690, 684, 201, 99, 15, 1410, 998,...\n",
      "$ TotalProvincialPopulation         <dbl> 4286134, 4817160, 1338109, 528817...\n"
     ]
    },
    {
     "data": {
      "text/html": [
       "<table>\n",
       "<thead><tr><th scope=col>Province</th><th scope=col>TotalTransitionalBedsForAnyGender</th><th scope=col>TotalProvincialPopulation</th></tr></thead>\n",
       "<tbody>\n",
       "\t<tr><td>AB      </td><td> 690    </td><td> 4286134</td></tr>\n",
       "\t<tr><td>BC      </td><td> 684    </td><td> 4817160</td></tr>\n",
       "\t<tr><td>MB      </td><td> 201    </td><td> 1338109</td></tr>\n",
       "\t<tr><td>NL      </td><td>  99    </td><td>  528817</td></tr>\n",
       "\t<tr><td>NS      </td><td>  15    </td><td>  953869</td></tr>\n",
       "\t<tr><td>ON      </td><td>1410    </td><td>14193384</td></tr>\n",
       "\t<tr><td>QC      </td><td> 998    </td><td> 8394034</td></tr>\n",
       "\t<tr><td>SK      </td><td> 197    </td><td> 1163925</td></tr>\n",
       "\t<tr><td>PI      </td><td>   0    </td><td>  152021</td></tr>\n",
       "\t<tr><td>NB      </td><td>   0    </td><td>  759655</td></tr>\n",
       "</tbody>\n",
       "</table>\n"
      ],
      "text/latex": [
       "\\begin{tabular}{r|lll}\n",
       " Province & TotalTransitionalBedsForAnyGender & TotalProvincialPopulation\\\\\n",
       "\\hline\n",
       "\t AB       &  690     &  4286134\\\\\n",
       "\t BC       &  684     &  4817160\\\\\n",
       "\t MB       &  201     &  1338109\\\\\n",
       "\t NL       &   99     &   528817\\\\\n",
       "\t NS       &   15     &   953869\\\\\n",
       "\t ON       & 1410     & 14193384\\\\\n",
       "\t QC       &  998     &  8394034\\\\\n",
       "\t SK       &  197     &  1163925\\\\\n",
       "\t PI       &    0     &   152021\\\\\n",
       "\t NB       &    0     &   759655\\\\\n",
       "\\end{tabular}\n"
      ],
      "text/markdown": [
       "\n",
       "Province | TotalTransitionalBedsForAnyGender | TotalProvincialPopulation | \n",
       "|---|---|---|---|---|---|---|---|---|---|\n",
       "| AB       |  690     |  4286134 | \n",
       "| BC       |  684     |  4817160 | \n",
       "| MB       |  201     |  1338109 | \n",
       "| NL       |   99     |   528817 | \n",
       "| NS       |   15     |   953869 | \n",
       "| ON       | 1410     | 14193384 | \n",
       "| QC       |  998     |  8394034 | \n",
       "| SK       |  197     |  1163925 | \n",
       "| PI       |    0     |   152021 | \n",
       "| NB       |    0     |   759655 | \n",
       "\n",
       "\n"
      ],
      "text/plain": [
       "   Province TotalTransitionalBedsForAnyGender TotalProvincialPopulation\n",
       "1  AB        690                               4286134                 \n",
       "2  BC        684                               4817160                 \n",
       "3  MB        201                               1338109                 \n",
       "4  NL         99                                528817                 \n",
       "5  NS         15                                953869                 \n",
       "6  ON       1410                              14193384                 \n",
       "7  QC        998                               8394034                 \n",
       "8  SK        197                               1163925                 \n",
       "9  PI          0                                152021                 \n",
       "10 NB          0                                759655                 "
      ]
     },
     "metadata": {},
     "output_type": "display_data"
    }
   ],
   "source": [
    "# Add 2017 population stats for each province\n",
    "# Source: https://www150.statcan.gc.ca/t1/tbl1/en/tv.action?pid=1710000501&pickMembers%5B0%5D=1.10&pickMembers%5B1%5D=2.1\n",
    "\n",
    "df_Provincial$TotalProvincialPopulation <- 0\n",
    "\n",
    "df_Provincial$TotalProvincialPopulation[df_Provincial$Province == \"AB\"] <- 4286134\n",
    "df_Provincial$TotalProvincialPopulation[df_Provincial$Province == \"BC\"] <- 4817160\n",
    "df_Provincial$TotalProvincialPopulation[df_Provincial$Province == \"MB\"] <- 1338109\n",
    "df_Provincial$TotalProvincialPopulation[df_Provincial$Province == \"NB\"] <- 759655\n",
    "df_Provincial$TotalProvincialPopulation[df_Provincial$Province == \"NL\"] <- 528817\n",
    "df_Provincial$TotalProvincialPopulation[df_Provincial$Province == \"NS\"] <- 953869\n",
    "df_Provincial$TotalProvincialPopulation[df_Provincial$Province == \"ON\"] <- 14193384\n",
    "df_Provincial$TotalProvincialPopulation[df_Provincial$Province == \"PI\"] <- 152021\n",
    "df_Provincial$TotalProvincialPopulation[df_Provincial$Province == \"QC\"] <- 8394034\n",
    "df_Provincial$TotalProvincialPopulation[df_Provincial$Province == \"SK\"] <- 1163925\n",
    "\n",
    "glimpse(df_Provincial)\n",
    "df_Provincial"
   ]
  },
  {
   "cell_type": "code",
   "execution_count": 111,
   "metadata": {},
   "outputs": [
    {
     "name": "stdout",
     "output_type": "stream",
     "text": [
      "Observations: 10\n",
      "Variables: 4\n",
      "$ Province                            <fctr> AB, BC, MB, NL, NS, ON, QC, SK...\n",
      "$ TotalTransitionalBedsForAnyGender   <dbl> 690, 684, 201, 99, 15, 1410, 99...\n",
      "$ TotalProvincialPopulation           <dbl> 4286134, 4817160, 1338109, 5288...\n",
      "$ TransitionalBedsForAnyGenderPer100K <dbl> 16, 14, 15, 19, 2, 10, 12, 17, ...\n"
     ]
    },
    {
     "data": {
      "text/html": [
       "<table>\n",
       "<thead><tr><th scope=col>Province</th><th scope=col>TotalTransitionalBedsForAnyGender</th><th scope=col>TotalProvincialPopulation</th><th scope=col>TransitionalBedsForAnyGenderPer100K</th></tr></thead>\n",
       "<tbody>\n",
       "\t<tr><td>AB      </td><td> 690    </td><td> 4286134</td><td>16      </td></tr>\n",
       "\t<tr><td>BC      </td><td> 684    </td><td> 4817160</td><td>14      </td></tr>\n",
       "\t<tr><td>MB      </td><td> 201    </td><td> 1338109</td><td>15      </td></tr>\n",
       "\t<tr><td>NL      </td><td>  99    </td><td>  528817</td><td>19      </td></tr>\n",
       "\t<tr><td>NS      </td><td>  15    </td><td>  953869</td><td> 2      </td></tr>\n",
       "\t<tr><td>ON      </td><td>1410    </td><td>14193384</td><td>10      </td></tr>\n",
       "\t<tr><td>QC      </td><td> 998    </td><td> 8394034</td><td>12      </td></tr>\n",
       "\t<tr><td>SK      </td><td> 197    </td><td> 1163925</td><td>17      </td></tr>\n",
       "\t<tr><td>PI      </td><td>   0    </td><td>  152021</td><td> 0      </td></tr>\n",
       "\t<tr><td>NB      </td><td>   0    </td><td>  759655</td><td> 0      </td></tr>\n",
       "</tbody>\n",
       "</table>\n"
      ],
      "text/latex": [
       "\\begin{tabular}{r|llll}\n",
       " Province & TotalTransitionalBedsForAnyGender & TotalProvincialPopulation & TransitionalBedsForAnyGenderPer100K\\\\\n",
       "\\hline\n",
       "\t AB       &  690     &  4286134 & 16      \\\\\n",
       "\t BC       &  684     &  4817160 & 14      \\\\\n",
       "\t MB       &  201     &  1338109 & 15      \\\\\n",
       "\t NL       &   99     &   528817 & 19      \\\\\n",
       "\t NS       &   15     &   953869 &  2      \\\\\n",
       "\t ON       & 1410     & 14193384 & 10      \\\\\n",
       "\t QC       &  998     &  8394034 & 12      \\\\\n",
       "\t SK       &  197     &  1163925 & 17      \\\\\n",
       "\t PI       &    0     &   152021 &  0      \\\\\n",
       "\t NB       &    0     &   759655 &  0      \\\\\n",
       "\\end{tabular}\n"
      ],
      "text/markdown": [
       "\n",
       "Province | TotalTransitionalBedsForAnyGender | TotalProvincialPopulation | TransitionalBedsForAnyGenderPer100K | \n",
       "|---|---|---|---|---|---|---|---|---|---|\n",
       "| AB       |  690     |  4286134 | 16       | \n",
       "| BC       |  684     |  4817160 | 14       | \n",
       "| MB       |  201     |  1338109 | 15       | \n",
       "| NL       |   99     |   528817 | 19       | \n",
       "| NS       |   15     |   953869 |  2       | \n",
       "| ON       | 1410     | 14193384 | 10       | \n",
       "| QC       |  998     |  8394034 | 12       | \n",
       "| SK       |  197     |  1163925 | 17       | \n",
       "| PI       |    0     |   152021 |  0       | \n",
       "| NB       |    0     |   759655 |  0       | \n",
       "\n",
       "\n"
      ],
      "text/plain": [
       "   Province TotalTransitionalBedsForAnyGender TotalProvincialPopulation\n",
       "1  AB        690                               4286134                 \n",
       "2  BC        684                               4817160                 \n",
       "3  MB        201                               1338109                 \n",
       "4  NL         99                                528817                 \n",
       "5  NS         15                                953869                 \n",
       "6  ON       1410                              14193384                 \n",
       "7  QC        998                               8394034                 \n",
       "8  SK        197                               1163925                 \n",
       "9  PI          0                                152021                 \n",
       "10 NB          0                                759655                 \n",
       "   TransitionalBedsForAnyGenderPer100K\n",
       "1  16                                 \n",
       "2  14                                 \n",
       "3  15                                 \n",
       "4  19                                 \n",
       "5   2                                 \n",
       "6  10                                 \n",
       "7  12                                 \n",
       "8  17                                 \n",
       "9   0                                 \n",
       "10  0                                 "
      ]
     },
     "metadata": {},
     "output_type": "display_data"
    }
   ],
   "source": [
    "df_Provincial <- df_Provincial %>%\n",
    "  mutate(TransitionalBedsForAnyGenderPer100K = round(TotalTransitionalBedsForAnyGender / TotalProvincialPopulation * 100000))\n",
    "\n",
    "glimpse(df_Provincial)\n",
    "df_Provincial"
   ]
  },
  {
   "cell_type": "markdown",
   "metadata": {},
   "source": [
    "## Display a map of Canada showing results"
   ]
  },
  {
   "cell_type": "code",
   "execution_count": 112,
   "metadata": {},
   "outputs": [
    {
     "name": "stdout",
     "output_type": "stream",
     "text": [
      "Reading layer `lpr_000b16a_e' from data source `C:\\Users\\rahmant\\GIS_Canada\\lpr_000b16a_e.shp' using driver `ESRI Shapefile'\n",
      "Simple feature collection with 13 features and 6 fields\n",
      "geometry type:  MULTIPOLYGON\n",
      "dimension:      XY\n",
      "bbox:           xmin: 3689439 ymin: 659338.9 xmax: 9015737 ymax: 5242179\n",
      "epsg (SRID):    NA\n",
      "proj4string:    +proj=lcc +lat_1=49 +lat_2=77 +lat_0=63.390675 +lon_0=-91.86666666666666 +x_0=6200000 +y_0=3000000 +datum=NAD83 +units=m +no_defs\n"
     ]
    }
   ],
   "source": [
    "CanadaMap <- st_read(\"GIS_Canada/lpr_000b16a_e.shp\")"
   ]
  },
  {
   "cell_type": "code",
   "execution_count": 113,
   "metadata": {},
   "outputs": [
    {
     "data": {
      "text/plain": [
       "[1] \"2018-08-10 07:37:32 AST\""
      ]
     },
     "metadata": {},
     "output_type": "display_data"
    },
    {
     "name": "stdout",
     "output_type": "stream",
     "text": [
      "Observations: 13\n",
      "Variables: 7\n",
      "$ PRUID    <fctr> 10, 11, 12, 13, 24, 35, 46, 47, 48, 59, 60, 61, 62\n",
      "$ PRNAME   <fctr> Newfoundland and Labrador / Terre-Neuve-et-Labrador, Prin...\n",
      "$ PRENAME  <fctr> Newfoundland and Labrador, Prince Edward Island, Nova Sco...\n",
      "$ PRFNAME  <fctr> Terre-Neuve-et-Labrador, Île-du-Prince-Édouard, Nouvelle-...\n",
      "$ PREABBR  <fctr> N.L., P.E.I., N.S., N.B., Que., Ont., Man., Sask., Alta.,...\n",
      "$ PRFABBR  <fctr> T.-N.-L., Î.-P.-É., N.-É., N.-B., Qc, Ont., Man., Sask., ...\n",
      "$ geometry <simple_feature> MULTIPOLYGON (((8307365.588..., MULTIPOLYGON ((...\n"
     ]
    },
    {
     "data": {
      "text/plain": [
       "[1] \"2018-08-10 07:37:56 AST\""
      ]
     },
     "metadata": {},
     "output_type": "display_data"
    }
   ],
   "source": [
    "Sys.time()\n",
    "glimpse(CanadaMap)\n",
    "Sys.time()"
   ]
  },
  {
   "cell_type": "code",
   "execution_count": 114,
   "metadata": {},
   "outputs": [],
   "source": [
    "# Sys.time()\n",
    "# CanadaMap\n",
    "# Sys.time()"
   ]
  },
  {
   "cell_type": "code",
   "execution_count": 115,
   "metadata": {},
   "outputs": [
    {
     "name": "stdout",
     "output_type": "stream",
     "text": [
      "Observations: 10\n",
      "Variables: 5\n",
      "$ Province                            <fctr> AB, BC, MB, NL, NS, ON, QC, SK...\n",
      "$ TotalTransitionalBedsForAnyGender   <dbl> 690, 684, 201, 99, 15, 1410, 99...\n",
      "$ TotalProvincialPopulation           <dbl> 4286134, 4817160, 1338109, 5288...\n",
      "$ TransitionalBedsForAnyGenderPer100K <dbl> 16, 14, 15, 19, 2, 10, 12, 17, ...\n",
      "$ PREABBR                             <fctr> Alta., B.C., Man., N.L., N.S.,...\n"
     ]
    },
    {
     "data": {
      "text/html": [
       "<table>\n",
       "<thead><tr><th scope=col>Province</th><th scope=col>TotalTransitionalBedsForAnyGender</th><th scope=col>TotalProvincialPopulation</th><th scope=col>TransitionalBedsForAnyGenderPer100K</th><th scope=col>PREABBR</th></tr></thead>\n",
       "<tbody>\n",
       "\t<tr><td>AB      </td><td> 690    </td><td> 4286134</td><td>16      </td><td>Alta.   </td></tr>\n",
       "\t<tr><td>BC      </td><td> 684    </td><td> 4817160</td><td>14      </td><td>B.C.    </td></tr>\n",
       "\t<tr><td>MB      </td><td> 201    </td><td> 1338109</td><td>15      </td><td>Man.    </td></tr>\n",
       "\t<tr><td>NL      </td><td>  99    </td><td>  528817</td><td>19      </td><td>N.L.    </td></tr>\n",
       "\t<tr><td>NS      </td><td>  15    </td><td>  953869</td><td> 2      </td><td>N.S.    </td></tr>\n",
       "\t<tr><td>ON      </td><td>1410    </td><td>14193384</td><td>10      </td><td>Ont.    </td></tr>\n",
       "\t<tr><td>QC      </td><td> 998    </td><td> 8394034</td><td>12      </td><td>Que.    </td></tr>\n",
       "\t<tr><td>SK      </td><td> 197    </td><td> 1163925</td><td>17      </td><td>Sask.   </td></tr>\n",
       "\t<tr><td>PI      </td><td>   0    </td><td>  152021</td><td> 0      </td><td>P.E.I.  </td></tr>\n",
       "\t<tr><td>NB      </td><td>   0    </td><td>  759655</td><td> 0      </td><td>N.B.    </td></tr>\n",
       "</tbody>\n",
       "</table>\n"
      ],
      "text/latex": [
       "\\begin{tabular}{r|lllll}\n",
       " Province & TotalTransitionalBedsForAnyGender & TotalProvincialPopulation & TransitionalBedsForAnyGenderPer100K & PREABBR\\\\\n",
       "\\hline\n",
       "\t AB       &  690     &  4286134 & 16       & Alta.   \\\\\n",
       "\t BC       &  684     &  4817160 & 14       & B.C.    \\\\\n",
       "\t MB       &  201     &  1338109 & 15       & Man.    \\\\\n",
       "\t NL       &   99     &   528817 & 19       & N.L.    \\\\\n",
       "\t NS       &   15     &   953869 &  2       & N.S.    \\\\\n",
       "\t ON       & 1410     & 14193384 & 10       & Ont.    \\\\\n",
       "\t QC       &  998     &  8394034 & 12       & Que.    \\\\\n",
       "\t SK       &  197     &  1163925 & 17       & Sask.   \\\\\n",
       "\t PI       &    0     &   152021 &  0       & P.E.I.  \\\\\n",
       "\t NB       &    0     &   759655 &  0       & N.B.    \\\\\n",
       "\\end{tabular}\n"
      ],
      "text/markdown": [
       "\n",
       "Province | TotalTransitionalBedsForAnyGender | TotalProvincialPopulation | TransitionalBedsForAnyGenderPer100K | PREABBR | \n",
       "|---|---|---|---|---|---|---|---|---|---|\n",
       "| AB       |  690     |  4286134 | 16       | Alta.    | \n",
       "| BC       |  684     |  4817160 | 14       | B.C.     | \n",
       "| MB       |  201     |  1338109 | 15       | Man.     | \n",
       "| NL       |   99     |   528817 | 19       | N.L.     | \n",
       "| NS       |   15     |   953869 |  2       | N.S.     | \n",
       "| ON       | 1410     | 14193384 | 10       | Ont.     | \n",
       "| QC       |  998     |  8394034 | 12       | Que.     | \n",
       "| SK       |  197     |  1163925 | 17       | Sask.    | \n",
       "| PI       |    0     |   152021 |  0       | P.E.I.   | \n",
       "| NB       |    0     |   759655 |  0       | N.B.     | \n",
       "\n",
       "\n"
      ],
      "text/plain": [
       "   Province TotalTransitionalBedsForAnyGender TotalProvincialPopulation\n",
       "1  AB        690                               4286134                 \n",
       "2  BC        684                               4817160                 \n",
       "3  MB        201                               1338109                 \n",
       "4  NL         99                                528817                 \n",
       "5  NS         15                                953869                 \n",
       "6  ON       1410                              14193384                 \n",
       "7  QC        998                               8394034                 \n",
       "8  SK        197                               1163925                 \n",
       "9  PI          0                                152021                 \n",
       "10 NB          0                                759655                 \n",
       "   TransitionalBedsForAnyGenderPer100K PREABBR\n",
       "1  16                                  Alta.  \n",
       "2  14                                  B.C.   \n",
       "3  15                                  Man.   \n",
       "4  19                                  N.L.   \n",
       "5   2                                  N.S.   \n",
       "6  10                                  Ont.   \n",
       "7  12                                  Que.   \n",
       "8  17                                  Sask.  \n",
       "9   0                                  P.E.I. \n",
       "10  0                                  N.B.   "
      ]
     },
     "metadata": {},
     "output_type": "display_data"
    }
   ],
   "source": [
    "# Add a column for PREABBR to df_Provincial in order to do a join with CanadaMap\n",
    "\n",
    "\n",
    "df_Provincial$PREABBR <- \"unknown\"\n",
    "\n",
    "df_Provincial$PREABBR[df_Provincial$Province == \"AB\"] <- \"Alta.\"\n",
    "df_Provincial$PREABBR[df_Provincial$Province == \"BC\"] <- \"B.C.\"\n",
    "df_Provincial$PREABBR[df_Provincial$Province == \"MB\"] <- \"Man.\"\n",
    "df_Provincial$PREABBR[df_Provincial$Province == \"NB\"] <- \"N.B.\"\n",
    "df_Provincial$PREABBR[df_Provincial$Province == \"NL\"] <- \"N.L.\"\n",
    "df_Provincial$PREABBR[df_Provincial$Province == \"NS\"] <- \"N.S.\"\n",
    "df_Provincial$PREABBR[df_Provincial$Province == \"ON\"] <- \"Ont.\"\n",
    "df_Provincial$PREABBR[df_Provincial$Province == \"PI\"] <- \"P.E.I.\"\n",
    "df_Provincial$PREABBR[df_Provincial$Province == \"QC\"] <- \"Que.\"\n",
    "df_Provincial$PREABBR[df_Provincial$Province == \"SK\"] <- \"Sask.\"\n",
    "\n",
    "df_Provincial$PREABBR <- as.factor(df_Provincial$PREABBR)\n",
    "glimpse(df_Provincial)\n",
    "df_Provincial"
   ]
  },
  {
   "cell_type": "code",
   "execution_count": 116,
   "metadata": {},
   "outputs": [],
   "source": [
    "# Add a column for Year\n",
    "\n",
    "df_Provincial$Year <- 2017"
   ]
  },
  {
   "cell_type": "code",
   "execution_count": 117,
   "metadata": {},
   "outputs": [],
   "source": [
    "# Before merging with a shapefile for polygon data, write the data to a table in csv format\n",
    "# Table_B\n",
    "\n",
    "write.csv(df_Provincial, \n",
    "          file = \"Table_G.csv\",\n",
    "          row.names = FALSE) # set row.name to FALSE to not include an index column in the csv output file"
   ]
  },
  {
   "cell_type": "code",
   "execution_count": 118,
   "metadata": {},
   "outputs": [
    {
     "data": {
      "text/html": [
       "<strong>png:</strong> 2"
      ],
      "text/latex": [
       "\\textbf{png:} 2"
      ],
      "text/markdown": [
       "**png:** 2"
      ],
      "text/plain": [
       "png \n",
       "  2 "
      ]
     },
     "metadata": {},
     "output_type": "display_data"
    }
   ],
   "source": [
    "# Save a dataframe as a nicely formatted png file\n",
    "# uses the gridExtra package\n",
    "\n",
    "png(\"Table_G.png\", height = 30*nrow(df_Provincial), width = 150*ncol(df_Provincial))\n",
    "grid.table(df_Provincial)\n",
    "dev.off()"
   ]
  },
  {
   "cell_type": "code",
   "execution_count": 119,
   "metadata": {},
   "outputs": [],
   "source": [
    "CanadaMap <- merge(CanadaMap, df_Provincial) # join the two dataframes, merge will use the common column name to join with"
   ]
  },
  {
   "cell_type": "code",
   "execution_count": 120,
   "metadata": {},
   "outputs": [
    {
     "data": {
      "text/plain": [
       "[1] \"2018-08-10 07:37:57 AST\""
      ]
     },
     "metadata": {},
     "output_type": "display_data"
    },
    {
     "name": "stdout",
     "output_type": "stream",
     "text": [
      "Observations: 10\n",
      "Variables: 12\n",
      "$ PREABBR                             <fctr> Alta., B.C., Man., N.B., N.L.,...\n",
      "$ PRUID                               <fctr> 48, 59, 46, 13, 10, 12, 35, 11...\n",
      "$ PRNAME                              <fctr> Alberta, British Columbia / Co...\n",
      "$ PRENAME                             <fctr> Alberta, British Columbia, Man...\n",
      "$ PRFNAME                             <fctr> Alberta, Colombie-Britannique,...\n",
      "$ PRFABBR                             <fctr> Alb., C.-B., Man., N.-B., T.-N...\n",
      "$ Province                            <fctr> AB, BC, MB, NB, NL, NS, ON, PI...\n",
      "$ TotalTransitionalBedsForAnyGender   <dbl> 690, 684, 201, 0, 99, 15, 1410,...\n",
      "$ TotalProvincialPopulation           <dbl> 4286134, 4817160, 1338109, 7596...\n",
      "$ TransitionalBedsForAnyGenderPer100K <dbl> 16, 14, 15, 0, 19, 2, 10, 0, 12...\n",
      "$ Year                                <dbl> 2017, 2017, 2017, 2017, 2017, 2...\n",
      "$ geometry                            <simple_feature> MULTIPOLYGON (((5228...\n"
     ]
    },
    {
     "data": {
      "text/plain": [
       "[1] \"2018-08-10 07:38:12 AST\""
      ]
     },
     "metadata": {},
     "output_type": "display_data"
    }
   ],
   "source": [
    "Sys.time()\n",
    "glimpse(CanadaMap)\n",
    "Sys.time()"
   ]
  },
  {
   "cell_type": "code",
   "execution_count": 121,
   "metadata": {},
   "outputs": [
    {
     "data": {
      "text/plain": [
       "[1] \"2018-08-10 07:38:12 AST\""
      ]
     },
     "metadata": {},
     "output_type": "display_data"
    },
    {
     "data": {},
     "metadata": {},
     "output_type": "display_data"
    },
    {
     "data": {
      "text/plain": [
       "[1] \"2018-08-10 07:38:51 AST\""
      ]
     },
     "metadata": {},
     "output_type": "display_data"
    },
    {
     "data": {
      "image/png": "[encoded data removed]",
      "text/plain": [
       "plot without title"
      ]
     },
     "metadata": {},
     "output_type": "display_data"
    }
   ],
   "source": [
    "Sys.time()\n",
    "\n",
    "my_map_G0 <-\n",
    "  tm_shape(CanadaMap) +\n",
    "  tm_polygons(col = \"TransitionalBedsForAnyGenderPer100K\", palette = \"Oranges\", style = \"order\") +\n",
    "  tm_legend(legend.outside = TRUE, legend.outside.position = \"bottom\") +\n",
    "  tm_text(text = \"TransitionalBedsForAnyGenderPer100K\", size = .6) + \n",
    "  tm_layout(frame = FALSE, \n",
    "            legend.show = FALSE,\n",
    "            main.title = \"Number of Transitional Homeless Beds at Non-Gender Specific Shelters\\nPer 100,000 Population, 2017\",\n",
    "            main.title.size = 1)\n",
    "\n",
    "my_map_G0\n",
    "\n",
    "Sys.time()"
   ]
  },
  {
   "cell_type": "code",
   "execution_count": 122,
   "metadata": {},
   "outputs": [],
   "source": [
    "# Sys.time()\n",
    "#   save_tmap(tm = my_map_G0, \n",
    "#             filename = \"Number of Transitional Homeless Beds at Non-Gender Specific Shelters Per 100,000 Population, 2017.png\")\n",
    "# Sys.time()"
   ]
  },
  {
   "cell_type": "markdown",
   "metadata": {},
   "source": [
    "# Main Script Ends Here"
   ]
  },
  {
   "cell_type": "code",
   "execution_count": 123,
   "metadata": {},
   "outputs": [
    {
     "data": {
      "text/plain": [
       "[1] \"2018-08-10 07:38:55 AST\""
      ]
     },
     "metadata": {},
     "output_type": "display_data"
    }
   ],
   "source": [
    "Sys.time()"
   ]
  },
  {
   "cell_type": "markdown",
   "metadata": {},
   "source": [
    "# Appendix 1 - Examples of common coding techniques"
   ]
  },
  {
   "cell_type": "code",
   "execution_count": 124,
   "metadata": {},
   "outputs": [],
   "source": [
    "# Example of how to read and filter a large csv file a chunk at a time, e.g. filter 50000 rows at a time into a new dataframe\n",
    "# This is very efficient, comparable to fread in speed but done in chunks to conserve memory\n",
    "# I also prefer it to fread because I can filter out rows with missing values as I import the data\n",
    "# and specify which columns I want to import \n",
    "# need readr library from tidyverse library\n",
    "\n",
    "\n",
    "# Sys.time() # start time for reading file\n",
    "# f <- function(x, pos) subset(x, \n",
    "#                             !is.na(Beds) # filter out any rows with missing values in the specified column in parenthesis\n",
    "#                             & Gender == \"Male\") # only include rows where the specified condition is met\n",
    "#                             & any other criteria for filtering\n",
    "# df <- read_csv_chunked(\"http://www.edsc-esdc.gc.ca/ouvert-open/hps/CDHPD-OpenDataNSPL-DataSet-20170804-ENFR.csv\", \n",
    "#                            DataFrameCallback$new(f), \n",
    "#                            chunk_size = 50000, # this is an adequate chunk size\n",
    "#                            # col_names = TRUE # this will keep original column names if you don't provide custom names\n",
    "#                                               # most of the time it's best to rename every column explicitly as shown below\n",
    "#                            col_names = c(\"ShelterType\", # this renames each column in order of the csv file to what you specify\n",
    "#                                          \"ProvinceCode\",\n",
    "#                                          \"City\",\n",
    "#                                          \"TargetPopulation\",\n",
    "#                                          \"Gender\",\n",
    "#                                          \"ShelterName\",\n",
    "#                                          \"Beds\"), # all other columns after this will be dropped if not included        \n",
    "#                            cols_only( # specify which columns with data types you want to include \n",
    "#                                       # to avoid importing unwanted data\n",
    "#                                       # include all columns that you specified above with col_names if you renamed them\n",
    "#                                \"ShelterType\" = col_character(),\n",
    "#                                \"ProvinceCode\" = col_character(),\n",
    "#                                \"City\" = col_character(),\n",
    "#                                \"TargetPopulation\" = col_character(),\n",
    "#                                \"Gender\" = col_character(),\n",
    "#                                \"ShelterName\" = col_character(),\n",
    "#                                \"Beds\" = col_number()),\n",
    "#                            skip = 1, # skip original column headers if you renamed them\n",
    "#                            trim_ws = TRUE) # trim leading and trailing whitespace for each data point\n",
    "# Sys.time() # end time for reading file"
   ]
  },
  {
   "cell_type": "code",
   "execution_count": 125,
   "metadata": {},
   "outputs": [],
   "source": [
    "# Example of how to read csv files quickly with fread while converting all chr variables to factors \n",
    "# need data.table library\n",
    "# Use fread when you are a lazy and know you won't have memory issues loading the entire dataset at once\n",
    "# or when you know you need to keep all information loaded into memory\n",
    "\n",
    "# df <- fread(\"DataFilesAOP/AB_Provincial_Detailed_Crime_Stats_2006-2011-2016.csv\", \n",
    "#            stringsAsFactors = TRUE, header = TRUE)"
   ]
  },
  {
   "cell_type": "code",
   "execution_count": 126,
   "metadata": {},
   "outputs": [],
   "source": [
    "# Example of how to write a dataframe to a csv file\n",
    "\n",
    "# write.csv(df, \n",
    "#           file = \"NS_Crime_Stats_Clean_Extract3.csv\",\n",
    "#           row.names = FALSE) # set row.name to FALSE to not include an index column in the csv output file"
   ]
  },
  {
   "cell_type": "code",
   "execution_count": 127,
   "metadata": {},
   "outputs": [],
   "source": [
    "# Example how to change all of the column names in a dataframe to something friendlier\n",
    "# You want to avoid special characters and spaces in column names to prevent problems with differnt packages and features\n",
    "# Provide new names in a character vector\n",
    "\n",
    "# colnames(df) <- c(\" \", \" \")"
   ]
  },
  {
   "cell_type": "code",
   "execution_count": 128,
   "metadata": {},
   "outputs": [],
   "source": [
    "# Example of how to rename a specific column in a dataframe\n",
    "\n",
    "# names(df)[names(df) == \"PercentageOfDeaths\"] <- \"PercentageOfDeathsMale\""
   ]
  },
  {
   "cell_type": "code",
   "execution_count": 129,
   "metadata": {},
   "outputs": [],
   "source": [
    "# Example of how to view specific columns from a dataframe\n",
    "\n",
    "# df[, c(\"BedsPer100K\", \"PercentageOfDeathsMale\")]"
   ]
  },
  {
   "cell_type": "code",
   "execution_count": 130,
   "metadata": {},
   "outputs": [],
   "source": [
    "# Example how to set the number of digits displayed in dataframes\n",
    "\n",
    "# options(digits=15) # set the visible number of digits to 15, useful when displaying GIS coordinates in dataframes\n",
    "# options(\"digits\") # display the max number of digits that appear in cells of a dataframe"
   ]
  },
  {
   "cell_type": "code",
   "execution_count": 131,
   "metadata": {},
   "outputs": [],
   "source": [
    "# Example of how to convert columns to the correct data types and how to delete columns from a dataframe\n",
    "\n",
    "# use as.numeric() and as.factor() where appropriate\n",
    "# df$column_name <- NULL will delete that column from the dataframe"
   ]
  },
  {
   "cell_type": "code",
   "execution_count": 132,
   "metadata": {},
   "outputs": [],
   "source": [
    "# Example of how to recode values of a column for rows meeting a condition\n",
    "\n",
    "# df$LATITUDE[df$GEO == \n",
    "#                          \"Amherst, Nova Scotia, municipal\"] <- 45.8338198\n",
    "# df$LONGITUDE[df$GEO == \n",
    "#                          \"Amherst, Nova Scotia, municipal\"] <- -64.2109455\n",
    "#\n",
    "# df$COUNTY[df$GEO ==\n",
    "#                          \"Amherst, Nova Scotia, municipal\"] <- \"Cumberland\""
   ]
  },
  {
   "cell_type": "code",
   "execution_count": 133,
   "metadata": {},
   "outputs": [],
   "source": [
    "# Example of how to filter a dataframe to rows where a specific string appears anywhere in a specific column\n",
    "# This example filters df to rows where \"MEP\" appears in the \"Contents\" column (need stringr library)\n",
    "\n",
    "# df_MEP <- df %>%\n",
    "#   filter(str_detect(Contents, \"MEP\"))"
   ]
  },
  {
   "cell_type": "code",
   "execution_count": 134,
   "metadata": {},
   "outputs": [],
   "source": [
    "# Example of how to handle dates - converting from timestamp to YYYYMMDD\n",
    "# This example is adequate if you really don't need a date field for arithmetic or plotting with ggplot2\n",
    "\n",
    "# parse out date and time from Timestamp\n",
    "# df <- \n",
    "#   separate(df, Timestamp, # e.g., \"01/01/2017 12:00:00 AM\"\n",
    "#           into = c(\"Date\", \"Time\", \"AMPM\"), sep = \" \")\n",
    "\n",
    "# parse out Month, Day, Year from Date\n",
    "# df <- \n",
    "#  separate(df, Date, \n",
    "#           into = c(\"Month\", \"Day\", \"Year\"), sep = \"/\")\n",
    "\n",
    "# Remove unwanted columns\n",
    "# df$Time <- NULL\n",
    "# df$AMPM <- NULL\n",
    "\n",
    "# unite the columns \"Year\", \"Month\", \"Day\" into a single column for \"YYYYMMDD\"\n",
    "# df <- \n",
    "#  unite_(df, \"YYYYMMDD\", c(\"Year\",\"Month\", \"Day\"), sep = \"\")\n",
    "\n",
    "# sort by date in decreasing order\n",
    "# df <- df[order(df$YYYYMMDD, decreasing = TRUE), ]"
   ]
  },
  {
   "cell_type": "code",
   "execution_count": 135,
   "metadata": {},
   "outputs": [],
   "source": [
    "# Use the lubridate library if arithmetic is important when working with date and time data\n",
    "# In my opinion, the lubridate functions are more complicated than my current needs, so I prefer my approach above\n",
    "# for handling dates/times\n",
    "\n",
    "# https://lubridate.tidyverse.org/\n",
    "# https://rawgit.com/rstudio/cheatsheets/master/lubridate.pdf"
   ]
  },
  {
   "cell_type": "code",
   "execution_count": 136,
   "metadata": {},
   "outputs": [],
   "source": [
    "# Example of how to subset and retain only selected characters from a cell\n",
    "# This is useful if you want to strip out useless characters in a cell given a start and end position to retain\n",
    "# need stringr library\n",
    "\n",
    "# df$gps <- \n",
    "#   str_sub(df$gps, start = 3, end = -2) \n",
    "\n",
    "# this gets rid of the first 3 characters and the last two characters\n",
    "# you can get an accurate count of characters when viewing them with glimpse(df)"
   ]
  },
  {
   "cell_type": "code",
   "execution_count": 137,
   "metadata": {},
   "outputs": [],
   "source": [
    "# Example how to merge two dataframes on common column names\n",
    "# https://stackoverflow.com/questions/1299871/how-to-join-merge-data-frames-inner-outer-left-right\n",
    "\n",
    "# CanadaMap <- merge(CanadaMap, df_Provincial) # join the two dataframes, merge will use the common column name to join with"
   ]
  },
  {
   "cell_type": "code",
   "execution_count": 138,
   "metadata": {},
   "outputs": [],
   "source": [
    "# Example of how to combine two or more dataframes vertically with the same column names\n",
    "\n",
    "# df4 <- rbind(df1, df2, df3)"
   ]
  },
  {
   "cell_type": "code",
   "execution_count": 139,
   "metadata": {},
   "outputs": [],
   "source": [
    "# Example of how to combine two or more dataframes horizontally with the same number of rows but different columns\n",
    "\n",
    "# df4 <- cbind(df1, df2, df3)"
   ]
  },
  {
   "cell_type": "code",
   "execution_count": 140,
   "metadata": {},
   "outputs": [],
   "source": [
    "# Example of how to create a new column that takes on values by performing arithmetic on existing columns \n",
    "# need dplyr and tidyverse library\n",
    "# This example creates a new column that divides one column by another and mutliplies the result by a constant\n",
    "\n",
    "# NSMAP2011 <- NSMAP2011 %>%\n",
    "#   mutate(PropertyCrimeCountyRatePer100K = PropertyCrimeIncidentsPerCounty/CountyPopulation * 100000)"
   ]
  },
  {
   "cell_type": "code",
   "execution_count": 141,
   "metadata": {},
   "outputs": [],
   "source": [
    "# Example of how to order a dataframe by a column in descening order\n",
    "# a \"-\" in front of the column name will sort it in descending (largest to lowest) order\n",
    "\n",
    "# df <- \n",
    "#  df[with(df, order(-Incidents_Total)), ]\n",
    "\n",
    "\n",
    "# adding multiple column names will prioritize ordering in that sequence\n",
    "\n",
    "# df <- \n",
    "#  df[with(df, order(REGION, COUNTY, GEO, Violations, Statistics)), ]\n",
    "\n",
    "#--------------------\n",
    "# Alternatively, you can also use the following:\n",
    "# sort by date in decreasing order\n",
    "# df <- df[order(df$YYYYMMDD, decreasing = TRUE), ]"
   ]
  },
  {
   "cell_type": "code",
   "execution_count": 142,
   "metadata": {},
   "outputs": [],
   "source": [
    "# Before spreading data for tidy format, make sure to remove any special characters beforehand\n",
    "# This ensures that after spreading the data, the column names are all properly formatted\n",
    "# Properly formatted column names will always appear flushed next to the dollar sign when glimpsing a dataframe\n",
    "# If spaces or special characters are present in the column name, they will appear within single quotes after the dollar sign\n",
    "# when glimpsing the dataframe after spreading the data\n",
    "\n",
    "# df_health$Indicators <- gsub(\" \", \"_\", df_health$Indicators)\n",
    "# df_health$Indicators <- gsub(\",\", \"\", df_health$Indicators)\n",
    "# df_health$Indicators <- gsub(\";\", \"\", df_health$Indicators)\n",
    "# df_health$Indicators <- gsub(\"-\", \"_\", df_health$Indicators)\n",
    "# df_health$Indicators <- gsub(\"\\\\(\", \"\", df_health$Indicators) # this removes left parenthesis\n",
    "# df_health$Indicators <- gsub(\"\\\\)\", \"\", df_health$Indicators) # this removes right parenthesis\n",
    "\n",
    "# df_health <- df_health %>%\n",
    "#   spread(Indicators, Value)"
   ]
  },
  {
   "cell_type": "code",
   "execution_count": 143,
   "metadata": {},
   "outputs": [],
   "source": [
    "# Example of how to load a shapefile for mapping \n",
    "# need sf library\n",
    "\n",
    "# NS <- st_read(\"GIS_Nova_Scotia/Counties_GCS.shp\")"
   ]
  },
  {
   "cell_type": "code",
   "execution_count": 144,
   "metadata": {},
   "outputs": [],
   "source": [
    "# Example how to convert a dataframe of lats/longs to a an sf dataframe for points spatial data \n",
    "# need sf library\n",
    "\n",
    "# pts <- st_as_sf(df, coords = c(\"LONGITUDE\", \"LATITUDE\"), crs = 4269) # create sf object called \"pts\" from df\n",
    "# class(pts)\n",
    "# glimpse(pts) # LONGITUDE and LATITUDE columns are replaced with a geometry column for point data"
   ]
  },
  {
   "cell_type": "code",
   "execution_count": 145,
   "metadata": {},
   "outputs": [],
   "source": [
    "# Example how to add custom icons for points spatial data \n",
    "# need sf library and tmap library\n",
    "\n",
    "# Using custom icons for points instead of bubbles\n",
    "\n",
    "# file <- \"DataFilesGeneral/flower_960_720.png\"  \n",
    "# flower_icon <- tmap_icons(file, width = 48, height = 48, keep.asp = TRUE,\n",
    "#   just = c(\"center\", \"center\"), as.local = TRUE)\n",
    "\n",
    "# my_map_2 <- my_map_0 +\n",
    "#   tm_shape(pts) +\n",
    "#   tm_symbols(\"VALUE\", shape = flower_icon, size = .3, alpha = .2, border.alpha = 0) \n",
    "# my_map_2"
   ]
  },
  {
   "cell_type": "markdown",
   "metadata": {},
   "source": [
    "# Appendix 2 - Note regarding preferred way for installing packages"
   ]
  },
  {
   "cell_type": "code",
   "execution_count": 146,
   "metadata": {},
   "outputs": [],
   "source": [
    "# Preferrably, install new packages via Anaconda Prompt > conda install r-package_name\n",
    "# Try to only use library() in notebook instead of install.packages()\n",
    "# this is more reliable than using install.packages(\"package name\") in R script\n",
    "# Anaconda Prompt > conda list shows what packages are installed\n",
    "\n",
    "# However, when the above isn't true for some reason, it is noted below\n",
    "# e.g., tmap must be installed through install.packages(\"tmap\")"
   ]
  }
 ],
 "metadata": {
  "kernelspec": {
   "display_name": "R",
   "language": "R",
   "name": "ir"
  },
  "language_info": {
   "codemirror_mode": "r",
   "file_extension": ".r",
   "mimetype": "text/x-r-source",
   "name": "R",
   "pygments_lexer": "r",
   "version": "3.4.3"
  }
 },
 "nbformat": 4,
 "nbformat_minor": 2
}
