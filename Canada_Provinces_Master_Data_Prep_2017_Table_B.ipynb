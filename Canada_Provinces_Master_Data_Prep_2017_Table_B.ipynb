{
 "cells": [
  {
   "cell_type": "code",
   "execution_count": 30,
   "metadata": {},
   "outputs": [
    {
     "data": {
      "text/plain": [
       "[1] \"2018-08-05 21:02:01 AST\""
      ]
     },
     "metadata": {},
     "output_type": "display_data"
    }
   ],
   "source": [
    "# Must run this notebook from root directory in Anaconda for relative local file paths to work\n",
    "\n",
    "Sys.time() # script start time"
   ]
  },
  {
   "cell_type": "markdown",
   "metadata": {},
   "source": [
    "# Install and attach packages"
   ]
  },
  {
   "cell_type": "code",
   "execution_count": 31,
   "metadata": {},
   "outputs": [],
   "source": [
    "# See note at the end of this notebook regarding the preferred way of installing packages"
   ]
  },
  {
   "cell_type": "code",
   "execution_count": 32,
   "metadata": {},
   "outputs": [],
   "source": [
    "library(tidyverse)"
   ]
  },
  {
   "cell_type": "code",
   "execution_count": 33,
   "metadata": {},
   "outputs": [],
   "source": [
    "library(data.table)"
   ]
  },
  {
   "cell_type": "code",
   "execution_count": 34,
   "metadata": {},
   "outputs": [],
   "source": [
    "library(stringr)"
   ]
  },
  {
   "cell_type": "code",
   "execution_count": 35,
   "metadata": {},
   "outputs": [],
   "source": [
    "library(sf) # needed for mapping"
   ]
  },
  {
   "cell_type": "code",
   "execution_count": 36,
   "metadata": {},
   "outputs": [],
   "source": [
    "# install.packages(\"tmap\")\n",
    "# this for some reason can only be installed via install.packages(), but only has to be done once in your environment"
   ]
  },
  {
   "cell_type": "code",
   "execution_count": 37,
   "metadata": {},
   "outputs": [],
   "source": [
    "library(tmap) # needed for mapping"
   ]
  },
  {
   "cell_type": "code",
   "execution_count": 38,
   "metadata": {},
   "outputs": [],
   "source": [
    "# Set default options to display more digits, useful for gps coordinates"
   ]
  },
  {
   "cell_type": "code",
   "execution_count": 39,
   "metadata": {},
   "outputs": [],
   "source": [
    "options(digits=15) # set the visible number of digits to 15, useful when displaying GIS coordinates in dataframes"
   ]
  },
  {
   "cell_type": "code",
   "execution_count": 40,
   "metadata": {},
   "outputs": [
    {
     "data": {
      "text/html": [
       "<strong>$digits</strong> = 15"
      ],
      "text/latex": [
       "\\textbf{\\$digits} = 15"
      ],
      "text/markdown": [
       "**$digits** = 15"
      ],
      "text/plain": [
       "$digits\n",
       "[1] 15\n"
      ]
     },
     "metadata": {},
     "output_type": "display_data"
    }
   ],
   "source": [
    "options(\"digits\") # display the max number of digits that appear in cells of a dataframe"
   ]
  },
  {
   "cell_type": "code",
   "execution_count": 41,
   "metadata": {},
   "outputs": [
    {
     "data": {
      "text/plain": [
       "R version 3.4.3 (2017-11-30)\n",
       "Platform: x86_64-w64-mingw32/x64 (64-bit)\n",
       "Running under: Windows 10 x64 (build 17134)\n",
       "\n",
       "Matrix products: default\n",
       "\n",
       "locale:\n",
       "[1] LC_COLLATE=English_Canada.1252  LC_CTYPE=English_Canada.1252   \n",
       "[3] LC_MONETARY=English_Canada.1252 LC_NUMERIC=C                   \n",
       "[5] LC_TIME=English_Canada.1252    \n",
       "\n",
       "attached base packages:\n",
       "[1] stats     graphics  grDevices utils     datasets  methods   base     \n",
       "\n",
       "other attached packages:\n",
       " [1] bindrcpp_0.2         tmap_1.10            sf_0.5-5            \n",
       " [4] data.table_1.10.4-3  forcats_0.2.0        stringr_1.2.0       \n",
       " [7] dplyr_0.7.4          purrr_0.2.4          readr_1.1.1         \n",
       "[10] tidyr_0.7.2          tibble_1.4.1         ggplot2_2.2.1       \n",
       "[13] tidyverse_1.2.1      RevoUtils_10.0.8     RevoUtilsMath_10.0.1\n",
       "\n",
       "loaded via a namespace (and not attached):\n",
       "  [1] colorspace_1.3-2   deldir_0.1-14      class_7.3-14      \n",
       "  [4] gdalUtils_2.0.1.7  leaflet_1.1.0      rgdal_1.2-8       \n",
       "  [7] satellite_1.0.0    IRdisplay_0.4.4    base64enc_0.1-3   \n",
       " [10] dichromat_2.0-0    rstudioapi_0.7     lubridate_1.7.1   \n",
       " [13] xml2_1.1.1         R.methodsS3_1.7.1  codetools_0.2-15  \n",
       " [16] splines_3.4.3      mnormt_1.5-5       geojsonlint_0.2.0 \n",
       " [19] IRkernel_0.8.11    jsonlite_1.5       tmaptools_1.2-1   \n",
       " [22] broom_0.4.3        png_0.1-7          R.oo_1.21.0       \n",
       " [25] rgeos_0.3-23       shiny_1.0.5        compiler_3.4.3    \n",
       " [28] httr_1.3.1         mapview_2.1.4      assertthat_0.2.0  \n",
       " [31] Matrix_1.2-12      lazyeval_0.2.1     cli_1.0.0         \n",
       " [34] htmltools_0.3.6    tools_3.4.3        coda_0.19-1       \n",
       " [37] gtable_0.2.0       glue_1.2.0         reshape2_1.4.3    \n",
       " [40] gmodels_2.16.2     V8_1.5             Rcpp_0.12.14      \n",
       " [43] cellranger_1.1.0   raster_2.5-8       spdep_0.6-13      \n",
       " [46] gdata_2.18.0       nlme_3.1-131       udunits2_0.13     \n",
       " [49] iterators_1.0.9    crosstalk_1.0.0    psych_1.7.8       \n",
       " [52] rvest_0.3.2        mime_0.5           gtools_3.5.0      \n",
       " [55] XML_3.98-1.9       LearnBayes_2.15    MASS_7.3-47       \n",
       " [58] scales_0.5.0       hms_0.4.0          parallel_3.4.3    \n",
       " [61] expm_0.999-2       RColorBrewer_1.1-2 curl_3.1          \n",
       " [64] geosphere_1.5-5    stringi_1.1.6      jsonvalidate_1.0.0\n",
       " [67] foreach_1.4.5      e1071_1.6-8        boot_1.3-20       \n",
       " [70] repr_0.12.0        rlang_0.1.6        pkgconfig_2.0.1   \n",
       " [73] bitops_1.0-6       evaluate_0.10.1    lattice_0.20-35   \n",
       " [76] bindr_0.1          htmlwidgets_0.9    osmar_1.1-7       \n",
       " [79] plyr_1.8.4         magrittr_1.5       R6_2.2.2          \n",
       " [82] pbdZMQ_0.2-6       DBI_0.7            pillar_1.0.1      \n",
       " [85] haven_1.1.0        foreign_0.8-69     units_0.4-6       \n",
       " [88] RCurl_1.95-4.8     sp_1.2-5           modelr_0.1.1      \n",
       " [91] crayon_1.3.4       rmapshaper_0.3.0   uuid_0.1-2        \n",
       " [94] KernSmooth_2.23-15 grid_3.4.3         readxl_1.0.0      \n",
       " [97] webshot_0.4.1      digest_0.6.13      classInt_0.1-24   \n",
       "[100] xtable_1.8-2       httpuv_1.3.5       R.utils_2.5.0     \n",
       "[103] stats4_3.4.3       munsell_0.4.3      viridisLite_0.2.0 "
      ]
     },
     "metadata": {},
     "output_type": "display_data"
    }
   ],
   "source": [
    "sessionInfo()"
   ]
  },
  {
   "cell_type": "markdown",
   "metadata": {},
   "source": [
    "# Main Script Begins Here"
   ]
  },
  {
   "cell_type": "markdown",
   "metadata": {},
   "source": [
    "## 2. Number of Emergency Homeless Beds at Female-Only Shelters Per 100,000 Female Population, 2017"
   ]
  },
  {
   "cell_type": "code",
   "execution_count": 42,
   "metadata": {},
   "outputs": [
    {
     "data": {
      "text/plain": [
       "[1] \"2018-08-05 21:02:03 AST\""
      ]
     },
     "metadata": {},
     "output_type": "display_data"
    }
   ],
   "source": [
    "Sys.time() # script start time from body"
   ]
  },
  {
   "cell_type": "code",
   "execution_count": 43,
   "metadata": {},
   "outputs": [],
   "source": [
    "# Import and clean data before analysis"
   ]
  },
  {
   "cell_type": "code",
   "execution_count": 44,
   "metadata": {},
   "outputs": [
    {
     "data": {
      "text/plain": [
       "[1] \"2018-08-05 21:02:03 AST\""
      ]
     },
     "metadata": {},
     "output_type": "display_data"
    },
    {
     "data": {
      "text/plain": [
       "[1] \"2018-08-05 21:02:05 AST\""
      ]
     },
     "metadata": {},
     "output_type": "display_data"
    }
   ],
   "source": [
    "# Import dataset\n",
    "# Homeless Shelters in Canada\n",
    "# Source: https://open.canada.ca/data/en/dataset/7e0189e3-8595-4e62-a4e9-4fed6f265e10\n",
    "# See also: http://publications.gc.ca/collections/collection_2018/edsc-esdc/Em20-91-2018-eng.pdf\n",
    "\n",
    "\n",
    "Sys.time() # start time for reading file\n",
    "f <- function(x, pos) subset(x, \n",
    "                            !is.na(Beds)) # filter out any rows with missing values in the specified column in parenthesis\n",
    "#                           & City == \"Halifax\") # only include rows where the specified condition is met\n",
    "#                           & any other criteria for filtering\n",
    "df <- read_csv_chunked(\"http://www.edsc-esdc.gc.ca/ouvert-open/hps/CDHPD-OpenDataNSPL-DataSet-20170804-ENFR.csv\", \n",
    "                           DataFrameCallback$new(f), \n",
    "                           chunk_size = 50000, # this is an adequate chunk size\n",
    "                           col_names = c(\"ShelterType\", # this renames each column in order to what you specify\n",
    "                                         \"Province\",\n",
    "                                         \"City\",\n",
    "                                         \"TargetPopulation\",\n",
    "                                         \"Gender\",\n",
    "                                         \"ShelterName\",\n",
    "                                         \"Beds\"), # all other columns after this will be dropped\n",
    "                           cols_only( # specify which columns with data types you want to include \n",
    "                                      # to avoid importing unwanted data\n",
    "                                      # include all columns that you specified above with col_names\n",
    "                               \"ShelterType\" = col_character(),\n",
    "                               \"Province\" = col_character(),\n",
    "                               \"City\" = col_character(),\n",
    "                               \"TargetPopulation\" = col_character(),\n",
    "                               \"Gender\" = col_character(),\n",
    "                               \"ShelterName\" = col_character(),\n",
    "                               \"Beds\" = col_number()),\n",
    "                           skip = 1, # skip original column headers\n",
    "                           trim_ws = TRUE) # trim leading and trailing whitespace for each data point\n",
    "Sys.time() # end time for reading file"
   ]
  },
  {
   "cell_type": "code",
   "execution_count": 45,
   "metadata": {},
   "outputs": [
    {
     "name": "stdout",
     "output_type": "stream",
     "text": [
      "Observations: 687\n",
      "Variables: 7\n",
      "$ ShelterType      <chr> \"Emergency\", \"Emergency\", \"Emergency\", \"Emergency\"...\n",
      "$ Province         <chr> \"AB\", \"AB\", \"AB\", \"AB\", \"AB\", \"AB\", \"AB\", \"AB\", \"A...\n",
      "$ City             <chr> \"Calgary\", \"Calgary\", \"Calgary\", \"Calgary\", \"Calga...\n",
      "$ TargetPopulation <chr> \"Family\", \"General\", \"General\", \"General\", \"Genera...\n",
      "$ Gender           <chr> \"Both\", \"Both\", \"Both\", \"Both\", \"Both\", \"Both\", \"F...\n",
      "$ ShelterName      <chr> \"Brenda's House\", \"Calgary Alpha House\", \"Calgary ...\n",
      "$ Beds             <dbl> 60, 120, 270, 975, 11, 370, 12, 6, 80, 25, 15, 5, ...\n"
     ]
    }
   ],
   "source": [
    "glimpse(df)"
   ]
  },
  {
   "cell_type": "code",
   "execution_count": 46,
   "metadata": {},
   "outputs": [],
   "source": [
    "# drop the territories\n",
    "\n",
    "df <- df %>%\n",
    "  filter(!Province %in% c(\"NT\", \"NU\", \"YT\")) %>%\n",
    "  filter(ShelterType == \"Emergency\") %>%\n",
    "  filter(Gender == \"Female\")"
   ]
  },
  {
   "cell_type": "code",
   "execution_count": 47,
   "metadata": {},
   "outputs": [
    {
     "data": {
      "text/html": [
       "<ol class=list-inline>\n",
       "\t<li>'AB'</li>\n",
       "\t<li>'BC'</li>\n",
       "\t<li>'NB'</li>\n",
       "\t<li>'NL'</li>\n",
       "\t<li>'NS'</li>\n",
       "\t<li>'ON'</li>\n",
       "\t<li>'QC'</li>\n",
       "\t<li>'SK'</li>\n",
       "</ol>\n"
      ],
      "text/latex": [
       "\\begin{enumerate*}\n",
       "\\item 'AB'\n",
       "\\item 'BC'\n",
       "\\item 'NB'\n",
       "\\item 'NL'\n",
       "\\item 'NS'\n",
       "\\item 'ON'\n",
       "\\item 'QC'\n",
       "\\item 'SK'\n",
       "\\end{enumerate*}\n"
      ],
      "text/markdown": [
       "1. 'AB'\n",
       "2. 'BC'\n",
       "3. 'NB'\n",
       "4. 'NL'\n",
       "5. 'NS'\n",
       "6. 'ON'\n",
       "7. 'QC'\n",
       "8. 'SK'\n",
       "\n",
       "\n"
      ],
      "text/plain": [
       "[1] \"AB\" \"BC\" \"NB\" \"NL\" \"NS\" \"ON\" \"QC\" \"SK\""
      ]
     },
     "metadata": {},
     "output_type": "display_data"
    }
   ],
   "source": [
    "unique(df$Province)"
   ]
  },
  {
   "cell_type": "code",
   "execution_count": 48,
   "metadata": {},
   "outputs": [],
   "source": [
    "# Always rename the columns to remove spaces and special characters if you haven't already from read_csv_chunked\n",
    "# This avoids any potential problems R may encounter with different packages if not taken care of properly right away\n",
    "\n",
    "# colnames(df) <- c(\" \", \" \")"
   ]
  },
  {
   "cell_type": "code",
   "execution_count": 49,
   "metadata": {},
   "outputs": [],
   "source": [
    "# Always set the variable types next for each column and drop any unnecessary columns\n",
    "# if you haven't already from read_csv_chunked, or need to change characters to factors\n",
    "# use as.numeric() and as.factor() where appropriate\n",
    "# df$column_name <- NULL will delete that column from the dataframe\n",
    "\n",
    "df$ShelterType <- as.factor(df$ShelterType)\n",
    "df$Province <- as.factor(df$Province)\n",
    "df$City <- as.factor(df$City)\n",
    "df$TargetPopulation <- as.factor(df$TargetPopulation)\n",
    "df$Gender <- as.factor(df$Gender)"
   ]
  },
  {
   "cell_type": "code",
   "execution_count": 50,
   "metadata": {},
   "outputs": [
    {
     "name": "stdout",
     "output_type": "stream",
     "text": [
      "Observations: 74\n",
      "Variables: 7\n",
      "$ ShelterType      <fctr> Emergency, Emergency, Emergency, Emergency, Emerg...\n",
      "$ Province         <fctr> AB, AB, AB, AB, BC, BC, BC, BC, BC, BC, BC, BC, B...\n",
      "$ City             <fctr> Calgary, Calgary, Edmonton, Edmonton, Kelowna, Na...\n",
      "$ TargetPopulation <fctr> General, General, General, General, General, Gene...\n",
      "$ Gender           <fctr> Female, Female, Female, Female, Female, Female, F...\n",
      "$ ShelterName      <chr> \"Wagner Place\", \"YWCA Mary Dover House Refuge d'ur...\n",
      "$ Beds             <dbl> 12, 6, 66, 50, 20, 10, 12, 30, 14, 12, 50, 28, 52,...\n"
     ]
    },
    {
     "data": {
      "text/html": [
       "<table>\n",
       "<thead><tr><th scope=col>ShelterType</th><th scope=col>Province</th><th scope=col>City</th><th scope=col>TargetPopulation</th><th scope=col>Gender</th><th scope=col>ShelterName</th><th scope=col>Beds</th></tr></thead>\n",
       "<tbody>\n",
       "\t<tr><td>Emergency                                            </td><td>AB                                                   </td><td>Calgary                                              </td><td>General                                              </td><td>Female                                               </td><td>Wagner Place                                         </td><td>12                                                   </td></tr>\n",
       "\t<tr><td>Emergency                                            </td><td>AB                                                   </td><td>Calgary                                              </td><td>General                                              </td><td>Female                                               </td><td>YWCA Mary Dover House Refuge d'urgence Beds          </td><td> 6                                                   </td></tr>\n",
       "\t<tr><td>Emergency                                            </td><td>AB                                                   </td><td>Edmonton                                             </td><td>General                                              </td><td>Female                                               </td><td>E4C Women's Refuge d'urgence Accommodation Centre    </td><td>66                                                   </td></tr>\n",
       "\t<tr><td>Emergency                                            </td><td>AB                                                   </td><td>Edmonton                                             </td><td>General                                              </td><td>Female                                               </td><td>Hope Mission - Women's Refuge d'urgence Shelter      </td><td>50                                                   </td></tr>\n",
       "\t<tr><td>Emergency                                            </td><td>BC                                                   </td><td>Kelowna                                              </td><td>General                                              </td><td>Female                                               </td><td>Alexandra Gardner Women and Children Safe Centre     </td><td>20                                                   </td></tr>\n",
       "\t<tr><td>Emergency                                            </td><td>BC                                                   </td><td>Nanaimo                                              </td><td>General                                              </td><td>Female                                               </td><td>Samaritan House - Refuge d'urgence                   </td><td>10                                                   </td></tr>\n",
       "\t<tr><td>Emergency                                            </td><td>BC                                                   </td><td>New Westminster                                      </td><td>General                                              </td><td>Female                                               </td><td>Elizabeth Gurney House                               </td><td>12                                                   </td></tr>\n",
       "\t<tr><td>Emergency                                            </td><td>BC                                                   </td><td>Prince George                                        </td><td>General                                              </td><td>Female                                               </td><td>AWAC Shelter                                         </td><td>30                                                   </td></tr>\n",
       "\t<tr><td>Emergency                                            </td><td>BC                                                   </td><td>Surrey                                               </td><td>General                                              </td><td>Female                                               </td><td>Cynthia's Place Refuge d'urgence                     </td><td>14                                                   </td></tr>\n",
       "\t<tr><td>Emergency                                            </td><td>BC                                                   </td><td>Surrey                                               </td><td>General                                              </td><td>Female                                               </td><td>Sheena's Place                                       </td><td>12                                                   </td></tr>\n",
       "\t<tr><td>Emergency                                            </td><td>BC                                                   </td><td>Vancouver                                            </td><td>General                                              </td><td>Female                                               </td><td>412 Women's Refuge d'urgence Shelter                 </td><td>50                                                   </td></tr>\n",
       "\t<tr><td>Emergency                                            </td><td>BC                                                   </td><td>Vancouver                                            </td><td>General                                              </td><td>Female                                               </td><td>Belkin House - Refuge d'urgence Women and Children   </td><td>28                                                   </td></tr>\n",
       "\t<tr><td>Emergency                                            </td><td>BC                                                   </td><td>Vancouver                                            </td><td>General                                              </td><td>Female                                               </td><td>Powell Place Refuge d'urgence Shelter                </td><td>52                                                   </td></tr>\n",
       "\t<tr><td>Emergency                                            </td><td>BC                                                   </td><td>Vancouver                                            </td><td>General                                              </td><td>Female                                               </td><td>Springhouse Refuge d'urgence Shelter                 </td><td>32                                                   </td></tr>\n",
       "\t<tr><td>Emergency                                            </td><td>BC                                                   </td><td>Victoria                                             </td><td>General                                              </td><td>Female                                               </td><td>Sandy Merriman House                                 </td><td>25                                                   </td></tr>\n",
       "\t<tr><td>Emergency                                            </td><td>NB                                                   </td><td>Fredericton                                          </td><td>General                                              </td><td>Female                                               </td><td>Grace House For Women                                </td><td>14                                                   </td></tr>\n",
       "\t<tr><td>Emergency                                            </td><td>NB                                                   </td><td>Saint John                                           </td><td>General                                              </td><td>Female                                               </td><td>Coverdale Centre for Women - Refuge d'urgence Shelter</td><td>10                                                   </td></tr>\n",
       "\t<tr><td>Emergency                                            </td><td>NL                                                   </td><td>St. John's                                           </td><td>Youth                                                </td><td>Female                                               </td><td>Naomi Centre                                         </td><td> 8                                                   </td></tr>\n",
       "\t<tr><td>Emergency                                            </td><td>NS                                                   </td><td>Halifax                                              </td><td>General                                              </td><td>Female                                               </td><td>Adsum House Refuge d'urgence Shelter                 </td><td>16                                                   </td></tr>\n",
       "\t<tr><td>Emergency                                            </td><td>NS                                                   </td><td>Halifax                                              </td><td>General                                              </td><td>Female                                               </td><td>Barry House                                          </td><td>20                                                   </td></tr>\n",
       "\t<tr><td>Emergency                                            </td><td>NS                                                   </td><td>Sydney                                               </td><td>General                                              </td><td>Female                                               </td><td>Almost Home Women's Shelter Refuge d'urgence         </td><td> 7                                                   </td></tr>\n",
       "\t<tr><td>Emergency                                            </td><td>ON                                                   </td><td>Cambridge                                            </td><td>Youth                                                </td><td>Female                                               </td><td>Argus Residence for Young Women                      </td><td>10                                                   </td></tr>\n",
       "\t<tr><td>Emergency                                            </td><td>ON                                                   </td><td>Guelph                                               </td><td>General                                              </td><td>Female                                               </td><td>Elizabeth Place                                      </td><td>14                                                   </td></tr>\n",
       "\t<tr><td>Emergency                                            </td><td>ON                                                   </td><td>Hamilton                                             </td><td>General                                              </td><td>Female                                               </td><td>Mary's Place Hamilton                                </td><td>20                                                   </td></tr>\n",
       "\t<tr><td>Emergency                                            </td><td>ON                                                   </td><td>Kingston                                             </td><td>General                                              </td><td>Female                                               </td><td>Dawn House Women's Shelter Inc.                      </td><td>10                                                   </td></tr>\n",
       "\t<tr><td>Emergency                                            </td><td>ON                                                   </td><td>Kingston                                             </td><td>General                                              </td><td>Female                                               </td><td>Lily's Place                                         </td><td>14                                                   </td></tr>\n",
       "\t<tr><td>Emergency                                            </td><td>ON                                                   </td><td>London                                               </td><td>General                                              </td><td>Female                                               </td><td>Centre of Hope Refuge d'urgence Female               </td><td>31                                                   </td></tr>\n",
       "\t<tr><td>Emergency                                            </td><td>ON                                                   </td><td>Newmarket                                            </td><td>General                                              </td><td>Female                                               </td><td>Belinda's Place                                      </td><td>28                                                   </td></tr>\n",
       "\t<tr><td>Emergency                                            </td><td>ON                                                   </td><td>North Bay                                            </td><td>General                                              </td><td>Female                                               </td><td>Ojibway Family Resource Centre                       </td><td>10                                                   </td></tr>\n",
       "\t<tr><td>Emergency                                            </td><td>ON                                                   </td><td>Ottawa                                               </td><td>General                                              </td><td>Female                                               </td><td>Cornerstone Housing for Women                        </td><td>55                                                   </td></tr>\n",
       "\t<tr><td>...</td><td>...</td><td>...</td><td>...</td><td>...</td><td>...</td><td>...</td></tr>\n",
       "\t<tr><td>Emergency                                                </td><td>ON                                                       </td><td>Toronto                                                  </td><td>General                                                  </td><td>Female                                                   </td><td>Street Haven at the Crossroads                           </td><td> 46                                                      </td></tr>\n",
       "\t<tr><td>Emergency                                                                                              </td><td>ON                                                                                                     </td><td><span style=white-space:pre-wrap>Toronto      </span>                                                  </td><td>General                                                                                                </td><td>Female                                                                                                 </td><td><span style=white-space:pre-wrap>Women&lt;U+0092&gt;s Residence - Main Site                     </span></td><td>103                                                                                                    </td></tr>\n",
       "\t<tr><td>Emergency                                                </td><td>ON                                                       </td><td>Toronto                                                  </td><td>General                                                  </td><td>Female                                                   </td><td>Woodlawn Residence                                       </td><td> 28                                                      </td></tr>\n",
       "\t<tr><td>Emergency                                                </td><td>ON                                                       </td><td>Toronto                                                  </td><td>Youth                                                    </td><td>Female                                                   </td><td>First Stop Woodlawn Youth Unit                           </td><td> 28                                                      </td></tr>\n",
       "\t<tr><td>Emergency                                                </td><td>ON                                                       </td><td>Whitby                                                   </td><td>General                                                  </td><td>Female                                                   </td><td>Muslim Welfare Home                                      </td><td> 45                                                      </td></tr>\n",
       "\t<tr><td>Emergency                                                </td><td>ON                                                       </td><td>Windsor                                                  </td><td>General                                                  </td><td>Female                                                   </td><td>Welcome Centre Shelter for Women                         </td><td> 11                                                      </td></tr>\n",
       "\t<tr><td>Emergency                                                                                              </td><td>QC                                                                                                     </td><td><span style=white-space:pre-wrap>Fermont      </span>                                                  </td><td>General                                                                                                </td><td>Female                                                                                                 </td><td><span style=white-space:pre-wrap>Maison d'Aide et d'H&lt;e9&gt;bergement de Fermont             </span></td><td><span style=white-space:pre-wrap>  6</span>                                                            </td></tr>\n",
       "\t<tr><td>Emergency                                                                                              </td><td>QC                                                                                                     </td><td><span style=white-space:pre-wrap>Longueuil    </span>                                                  </td><td>General                                                                                                </td><td>Female                                                                                                 </td><td><span style=white-space:pre-wrap>La Maison &lt;c9&gt;lizabeth-Bergeron                          </span></td><td><span style=white-space:pre-wrap>  5</span>                                                            </td></tr>\n",
       "\t<tr><td>Emergency                                                </td><td>QC                                                       </td><td>Montreal                                                 </td><td>General                                                  </td><td>Female                                                   </td><td>Auberge Madeleine                                        </td><td> 26                                                      </td></tr>\n",
       "\t<tr><td>Emergency                                                                                              </td><td>QC                                                                                                     </td><td><span style=white-space:pre-wrap>Montreal     </span>                                                  </td><td>General                                                                                                </td><td>Female                                                                                                 </td><td><span style=white-space:pre-wrap>Foyer pour Femmes Autochtones de Montr&lt;e9&gt;al             </span></td><td> 16                                                                                                    </td></tr>\n",
       "\t<tr><td>Emergency                                                                                              </td><td>QC                                                                                                     </td><td><span style=white-space:pre-wrap>Montreal     </span>                                                  </td><td>General                                                                                                </td><td>Female                                                                                                 </td><td><span style=white-space:pre-wrap>La Maison Marguerite de Montr&lt;e9&gt;al - Refuge d'urgence   </span></td><td> 18                                                                                                    </td></tr>\n",
       "\t<tr><td>Emergency                                                                                              </td><td>QC                                                                                                     </td><td><span style=white-space:pre-wrap>Montreal     </span>                                                  </td><td>General                                                                                                </td><td>Female                                                                                                 </td><td><span style=white-space:pre-wrap>Le Cha&lt;ee&gt;non                                            </span></td><td> 47                                                                                                    </td></tr>\n",
       "\t<tr><td>Emergency                                                </td><td>QC                                                       </td><td>Montreal                                                 </td><td>General                                                  </td><td>Female                                                   </td><td>Logifem Inc                                              </td><td> 20                                                      </td></tr>\n",
       "\t<tr><td>Emergency                                                </td><td>QC                                                       </td><td>Montreal                                                 </td><td>General                                                  </td><td>Female                                                   </td><td>Maison Olga - Refuge d'urgence                           </td><td>  3                                                      </td></tr>\n",
       "\t<tr><td>Emergency                                                </td><td>QC                                                       </td><td>Montreal                                                 </td><td>General                                                  </td><td>Female                                                   </td><td>OBM - PMP Refuge                                         </td><td> 40                                                      </td></tr>\n",
       "\t<tr><td>Emergency                                                      </td><td>QC                                                             </td><td><span style=white-space:pre-wrap>Montreal     </span>          </td><td>General                                                        </td><td>Female                                                         </td><td>L'Abri d'espoir de l'Arm&lt;e9&gt;e du Salut - Refuge d'urgence</td><td> 60                                                            </td></tr>\n",
       "\t<tr><td>Emergency                                                                                                    </td><td>QC                                                                                                           </td><td><span style=white-space:pre-wrap>Montreal     </span>                                                        </td><td><span style=white-space:pre-wrap>Youth  </span>                                                              </td><td>Female                                                                                                       </td><td><span style=white-space:pre-wrap>\"Passages, Ressource d'h&lt;e9&gt;bergement de Montr&lt;e9&gt;al\"    </span></td><td> 16                                                                                                          </td></tr>\n",
       "\t<tr><td>Emergency                                                </td><td>QC                                                       </td><td>Quebec City                                              </td><td>General                                                  </td><td>Female                                                   </td><td>Maison de Lauberiviere (Femmes)                          </td><td> 12                                                      </td></tr>\n",
       "\t<tr><td>Emergency                                                                                              </td><td>QC                                                                                                     </td><td><span style=white-space:pre-wrap>Quebec City  </span>                                                  </td><td><span style=white-space:pre-wrap>Youth  </span>                                                        </td><td>Female                                                                                                 </td><td><span style=white-space:pre-wrap>\"Maison Richelieu, H&lt;e9&gt;bergement jeunesse\"              </span></td><td><span style=white-space:pre-wrap>  9</span>                                                            </td></tr>\n",
       "\t<tr><td>Emergency                                                </td><td>QC                                                       </td><td>Sherbrooke                                               </td><td>General                                                  </td><td>Female                                                   </td><td>Just'elles de l'Estrie                                   </td><td>  8                                                      </td></tr>\n",
       "\t<tr><td>Emergency                                                </td><td>SK                                                       </td><td>Prince Albert                                            </td><td>General                                                  </td><td>Female                                                   </td><td>Metis Women Association                                  </td><td>  8                                                      </td></tr>\n",
       "\t<tr><td>Emergency                                                </td><td>SK                                                       </td><td>Prince Albert                                            </td><td>General                                                  </td><td>Female                                                   </td><td>YWCA Central Avenue Residential Services                 </td><td> 50                                                      </td></tr>\n",
       "\t<tr><td>Emergency                                                </td><td>SK                                                       </td><td>Regina                                                   </td><td>General                                                  </td><td>Female                                                   </td><td>SHRM Women's Refuge d'urgence Shelter                    </td><td> 12                                                      </td></tr>\n",
       "\t<tr><td>Emergency                                                </td><td>SK                                                       </td><td>Regina                                                   </td><td>General                                                  </td><td>Female                                                   </td><td>YWCA Kikinaw Residence                                   </td><td> 54                                                      </td></tr>\n",
       "\t<tr><td>Emergency                                                </td><td>SK                                                       </td><td>Regina                                                   </td><td>General                                                  </td><td>Female                                                   </td><td>YWCA My Aunt's Place                                     </td><td> 22                                                      </td></tr>\n",
       "\t<tr><td>Emergency                                                </td><td>SK                                                       </td><td>Saskatoon                                                </td><td>General                                                  </td><td>Female                                                   </td><td>Infinity House Refuge d'urgence                          </td><td> 13                                                      </td></tr>\n",
       "\t<tr><td>Emergency                                                </td><td>SK                                                       </td><td>Saskatoon                                                </td><td>General                                                  </td><td>Female                                                   </td><td>Lighthouse Supported Living Inc Refuge d'urgence - Women </td><td> 20                                                      </td></tr>\n",
       "\t<tr><td>Emergency                                                </td><td>SK                                                       </td><td>Saskatoon                                                </td><td>General                                                  </td><td>Female                                                   </td><td>Mumford House                                            </td><td> 36                                                      </td></tr>\n",
       "\t<tr><td>Emergency                                                </td><td>SK                                                       </td><td>Saskatoon                                                </td><td>General                                                  </td><td>Female                                                   </td><td>YWCA Crisis Shelter                                      </td><td> 22                                                      </td></tr>\n",
       "\t<tr><td>Emergency                                                </td><td>SK                                                       </td><td>Saskatoon                                                </td><td>Youth                                                    </td><td>Female                                                   </td><td>YWCA Saskatoon Youth Program - 3rd Floor                 </td><td>  4                                                      </td></tr>\n",
       "</tbody>\n",
       "</table>\n"
      ],
      "text/latex": [
       "\\begin{tabular}{r|lllllll}\n",
       " ShelterType & Province & City & TargetPopulation & Gender & ShelterName & Beds\\\\\n",
       "\\hline\n",
       "\t Emergency                                             & AB                                                    & Calgary                                               & General                                               & Female                                                & Wagner Place                                          & 12                                                   \\\\\n",
       "\t Emergency                                             & AB                                                    & Calgary                                               & General                                               & Female                                                & YWCA Mary Dover House Refuge d'urgence Beds           &  6                                                   \\\\\n",
       "\t Emergency                                             & AB                                                    & Edmonton                                              & General                                               & Female                                                & E4C Women's Refuge d'urgence Accommodation Centre     & 66                                                   \\\\\n",
       "\t Emergency                                             & AB                                                    & Edmonton                                              & General                                               & Female                                                & Hope Mission - Women's Refuge d'urgence Shelter       & 50                                                   \\\\\n",
       "\t Emergency                                             & BC                                                    & Kelowna                                               & General                                               & Female                                                & Alexandra Gardner Women and Children Safe Centre      & 20                                                   \\\\\n",
       "\t Emergency                                             & BC                                                    & Nanaimo                                               & General                                               & Female                                                & Samaritan House - Refuge d'urgence                    & 10                                                   \\\\\n",
       "\t Emergency                                             & BC                                                    & New Westminster                                       & General                                               & Female                                                & Elizabeth Gurney House                                & 12                                                   \\\\\n",
       "\t Emergency                                             & BC                                                    & Prince George                                         & General                                               & Female                                                & AWAC Shelter                                          & 30                                                   \\\\\n",
       "\t Emergency                                             & BC                                                    & Surrey                                                & General                                               & Female                                                & Cynthia's Place Refuge d'urgence                      & 14                                                   \\\\\n",
       "\t Emergency                                             & BC                                                    & Surrey                                                & General                                               & Female                                                & Sheena's Place                                        & 12                                                   \\\\\n",
       "\t Emergency                                             & BC                                                    & Vancouver                                             & General                                               & Female                                                & 412 Women's Refuge d'urgence Shelter                  & 50                                                   \\\\\n",
       "\t Emergency                                             & BC                                                    & Vancouver                                             & General                                               & Female                                                & Belkin House - Refuge d'urgence Women and Children    & 28                                                   \\\\\n",
       "\t Emergency                                             & BC                                                    & Vancouver                                             & General                                               & Female                                                & Powell Place Refuge d'urgence Shelter                 & 52                                                   \\\\\n",
       "\t Emergency                                             & BC                                                    & Vancouver                                             & General                                               & Female                                                & Springhouse Refuge d'urgence Shelter                  & 32                                                   \\\\\n",
       "\t Emergency                                             & BC                                                    & Victoria                                              & General                                               & Female                                                & Sandy Merriman House                                  & 25                                                   \\\\\n",
       "\t Emergency                                             & NB                                                    & Fredericton                                           & General                                               & Female                                                & Grace House For Women                                 & 14                                                   \\\\\n",
       "\t Emergency                                             & NB                                                    & Saint John                                            & General                                               & Female                                                & Coverdale Centre for Women - Refuge d'urgence Shelter & 10                                                   \\\\\n",
       "\t Emergency                                             & NL                                                    & St. John's                                            & Youth                                                 & Female                                                & Naomi Centre                                          &  8                                                   \\\\\n",
       "\t Emergency                                             & NS                                                    & Halifax                                               & General                                               & Female                                                & Adsum House Refuge d'urgence Shelter                  & 16                                                   \\\\\n",
       "\t Emergency                                             & NS                                                    & Halifax                                               & General                                               & Female                                                & Barry House                                           & 20                                                   \\\\\n",
       "\t Emergency                                             & NS                                                    & Sydney                                                & General                                               & Female                                                & Almost Home Women's Shelter Refuge d'urgence          &  7                                                   \\\\\n",
       "\t Emergency                                             & ON                                                    & Cambridge                                             & Youth                                                 & Female                                                & Argus Residence for Young Women                       & 10                                                   \\\\\n",
       "\t Emergency                                             & ON                                                    & Guelph                                                & General                                               & Female                                                & Elizabeth Place                                       & 14                                                   \\\\\n",
       "\t Emergency                                             & ON                                                    & Hamilton                                              & General                                               & Female                                                & Mary's Place Hamilton                                 & 20                                                   \\\\\n",
       "\t Emergency                                             & ON                                                    & Kingston                                              & General                                               & Female                                                & Dawn House Women's Shelter Inc.                       & 10                                                   \\\\\n",
       "\t Emergency                                             & ON                                                    & Kingston                                              & General                                               & Female                                                & Lily's Place                                          & 14                                                   \\\\\n",
       "\t Emergency                                             & ON                                                    & London                                                & General                                               & Female                                                & Centre of Hope Refuge d'urgence Female                & 31                                                   \\\\\n",
       "\t Emergency                                             & ON                                                    & Newmarket                                             & General                                               & Female                                                & Belinda's Place                                       & 28                                                   \\\\\n",
       "\t Emergency                                             & ON                                                    & North Bay                                             & General                                               & Female                                                & Ojibway Family Resource Centre                        & 10                                                   \\\\\n",
       "\t Emergency                                             & ON                                                    & Ottawa                                                & General                                               & Female                                                & Cornerstone Housing for Women                         & 55                                                   \\\\\n",
       "\t ... & ... & ... & ... & ... & ... & ...\\\\\n",
       "\t Emergency                                                 & ON                                                        & Toronto                                                   & General                                                   & Female                                                    & Street Haven at the Crossroads                            &  46                                                      \\\\\n",
       "\t Emergency                                                 & ON                                                        & Toronto                                                   & General                                                   & Female                                                    & Women<U+0092>s Residence - Main Site                      & 103                                                      \\\\\n",
       "\t Emergency                                                 & ON                                                        & Toronto                                                   & General                                                   & Female                                                    & Woodlawn Residence                                        &  28                                                      \\\\\n",
       "\t Emergency                                                 & ON                                                        & Toronto                                                   & Youth                                                     & Female                                                    & First Stop Woodlawn Youth Unit                            &  28                                                      \\\\\n",
       "\t Emergency                                                 & ON                                                        & Whitby                                                    & General                                                   & Female                                                    & Muslim Welfare Home                                       &  45                                                      \\\\\n",
       "\t Emergency                                                 & ON                                                        & Windsor                                                   & General                                                   & Female                                                    & Welcome Centre Shelter for Women                          &  11                                                      \\\\\n",
       "\t Emergency                                                 & QC                                                        & Fermont                                                   & General                                                   & Female                                                    & Maison d'Aide et d'H<e9>bergement de Fermont              &   6                                                      \\\\\n",
       "\t Emergency                                                 & QC                                                        & Longueuil                                                 & General                                                   & Female                                                    & La Maison <c9>lizabeth-Bergeron                           &   5                                                      \\\\\n",
       "\t Emergency                                                 & QC                                                        & Montreal                                                  & General                                                   & Female                                                    & Auberge Madeleine                                         &  26                                                      \\\\\n",
       "\t Emergency                                                 & QC                                                        & Montreal                                                  & General                                                   & Female                                                    & Foyer pour Femmes Autochtones de Montr<e9>al              &  16                                                      \\\\\n",
       "\t Emergency                                                 & QC                                                        & Montreal                                                  & General                                                   & Female                                                    & La Maison Marguerite de Montr<e9>al - Refuge d'urgence    &  18                                                      \\\\\n",
       "\t Emergency                                                 & QC                                                        & Montreal                                                  & General                                                   & Female                                                    & Le Cha<ee>non                                             &  47                                                      \\\\\n",
       "\t Emergency                                                 & QC                                                        & Montreal                                                  & General                                                   & Female                                                    & Logifem Inc                                               &  20                                                      \\\\\n",
       "\t Emergency                                                 & QC                                                        & Montreal                                                  & General                                                   & Female                                                    & Maison Olga - Refuge d'urgence                            &   3                                                      \\\\\n",
       "\t Emergency                                                 & QC                                                        & Montreal                                                  & General                                                   & Female                                                    & OBM - PMP Refuge                                          &  40                                                      \\\\\n",
       "\t Emergency                                                 & QC                                                        & Montreal                                                  & General                                                   & Female                                                    & L'Abri d'espoir de l'Arm<e9>e du Salut - Refuge d'urgence &  60                                                      \\\\\n",
       "\t Emergency                                                 & QC                                                        & Montreal                                                  & Youth                                                     & Female                                                    & \"Passages, Ressource d'h<e9>bergement de Montr<e9>al\"     &  16                                                      \\\\\n",
       "\t Emergency                                                 & QC                                                        & Quebec City                                               & General                                                   & Female                                                    & Maison de Lauberiviere (Femmes)                           &  12                                                      \\\\\n",
       "\t Emergency                                                 & QC                                                        & Quebec City                                               & Youth                                                     & Female                                                    & \"Maison Richelieu, H<e9>bergement jeunesse\"               &   9                                                      \\\\\n",
       "\t Emergency                                                 & QC                                                        & Sherbrooke                                                & General                                                   & Female                                                    & Just'elles de l'Estrie                                    &   8                                                      \\\\\n",
       "\t Emergency                                                 & SK                                                        & Prince Albert                                             & General                                                   & Female                                                    & Metis Women Association                                   &   8                                                      \\\\\n",
       "\t Emergency                                                 & SK                                                        & Prince Albert                                             & General                                                   & Female                                                    & YWCA Central Avenue Residential Services                  &  50                                                      \\\\\n",
       "\t Emergency                                                 & SK                                                        & Regina                                                    & General                                                   & Female                                                    & SHRM Women's Refuge d'urgence Shelter                     &  12                                                      \\\\\n",
       "\t Emergency                                                 & SK                                                        & Regina                                                    & General                                                   & Female                                                    & YWCA Kikinaw Residence                                    &  54                                                      \\\\\n",
       "\t Emergency                                                 & SK                                                        & Regina                                                    & General                                                   & Female                                                    & YWCA My Aunt's Place                                      &  22                                                      \\\\\n",
       "\t Emergency                                                 & SK                                                        & Saskatoon                                                 & General                                                   & Female                                                    & Infinity House Refuge d'urgence                           &  13                                                      \\\\\n",
       "\t Emergency                                                 & SK                                                        & Saskatoon                                                 & General                                                   & Female                                                    & Lighthouse Supported Living Inc Refuge d'urgence - Women  &  20                                                      \\\\\n",
       "\t Emergency                                                 & SK                                                        & Saskatoon                                                 & General                                                   & Female                                                    & Mumford House                                             &  36                                                      \\\\\n",
       "\t Emergency                                                 & SK                                                        & Saskatoon                                                 & General                                                   & Female                                                    & YWCA Crisis Shelter                                       &  22                                                      \\\\\n",
       "\t Emergency                                                 & SK                                                        & Saskatoon                                                 & Youth                                                     & Female                                                    & YWCA Saskatoon Youth Program - 3rd Floor                  &   4                                                      \\\\\n",
       "\\end{tabular}\n"
      ],
      "text/markdown": [
       "\n",
       "ShelterType | Province | City | TargetPopulation | Gender | ShelterName | Beds | \n",
       "|---|---|---|---|---|---|---|---|---|---|---|---|---|---|---|---|---|---|---|---|---|---|---|---|---|---|---|---|---|---|---|---|---|---|---|---|---|---|---|---|---|---|---|---|---|---|---|---|---|---|---|---|---|---|---|---|---|---|---|---|---|\n",
       "| Emergency                                             | AB                                                    | Calgary                                               | General                                               | Female                                                | Wagner Place                                          | 12                                                    | \n",
       "| Emergency                                             | AB                                                    | Calgary                                               | General                                               | Female                                                | YWCA Mary Dover House Refuge d'urgence Beds           |  6                                                    | \n",
       "| Emergency                                             | AB                                                    | Edmonton                                              | General                                               | Female                                                | E4C Women's Refuge d'urgence Accommodation Centre     | 66                                                    | \n",
       "| Emergency                                             | AB                                                    | Edmonton                                              | General                                               | Female                                                | Hope Mission - Women's Refuge d'urgence Shelter       | 50                                                    | \n",
       "| Emergency                                             | BC                                                    | Kelowna                                               | General                                               | Female                                                | Alexandra Gardner Women and Children Safe Centre      | 20                                                    | \n",
       "| Emergency                                             | BC                                                    | Nanaimo                                               | General                                               | Female                                                | Samaritan House - Refuge d'urgence                    | 10                                                    | \n",
       "| Emergency                                             | BC                                                    | New Westminster                                       | General                                               | Female                                                | Elizabeth Gurney House                                | 12                                                    | \n",
       "| Emergency                                             | BC                                                    | Prince George                                         | General                                               | Female                                                | AWAC Shelter                                          | 30                                                    | \n",
       "| Emergency                                             | BC                                                    | Surrey                                                | General                                               | Female                                                | Cynthia's Place Refuge d'urgence                      | 14                                                    | \n",
       "| Emergency                                             | BC                                                    | Surrey                                                | General                                               | Female                                                | Sheena's Place                                        | 12                                                    | \n",
       "| Emergency                                             | BC                                                    | Vancouver                                             | General                                               | Female                                                | 412 Women's Refuge d'urgence Shelter                  | 50                                                    | \n",
       "| Emergency                                             | BC                                                    | Vancouver                                             | General                                               | Female                                                | Belkin House - Refuge d'urgence Women and Children    | 28                                                    | \n",
       "| Emergency                                             | BC                                                    | Vancouver                                             | General                                               | Female                                                | Powell Place Refuge d'urgence Shelter                 | 52                                                    | \n",
       "| Emergency                                             | BC                                                    | Vancouver                                             | General                                               | Female                                                | Springhouse Refuge d'urgence Shelter                  | 32                                                    | \n",
       "| Emergency                                             | BC                                                    | Victoria                                              | General                                               | Female                                                | Sandy Merriman House                                  | 25                                                    | \n",
       "| Emergency                                             | NB                                                    | Fredericton                                           | General                                               | Female                                                | Grace House For Women                                 | 14                                                    | \n",
       "| Emergency                                             | NB                                                    | Saint John                                            | General                                               | Female                                                | Coverdale Centre for Women - Refuge d'urgence Shelter | 10                                                    | \n",
       "| Emergency                                             | NL                                                    | St. John's                                            | Youth                                                 | Female                                                | Naomi Centre                                          |  8                                                    | \n",
       "| Emergency                                             | NS                                                    | Halifax                                               | General                                               | Female                                                | Adsum House Refuge d'urgence Shelter                  | 16                                                    | \n",
       "| Emergency                                             | NS                                                    | Halifax                                               | General                                               | Female                                                | Barry House                                           | 20                                                    | \n",
       "| Emergency                                             | NS                                                    | Sydney                                                | General                                               | Female                                                | Almost Home Women's Shelter Refuge d'urgence          |  7                                                    | \n",
       "| Emergency                                             | ON                                                    | Cambridge                                             | Youth                                                 | Female                                                | Argus Residence for Young Women                       | 10                                                    | \n",
       "| Emergency                                             | ON                                                    | Guelph                                                | General                                               | Female                                                | Elizabeth Place                                       | 14                                                    | \n",
       "| Emergency                                             | ON                                                    | Hamilton                                              | General                                               | Female                                                | Mary's Place Hamilton                                 | 20                                                    | \n",
       "| Emergency                                             | ON                                                    | Kingston                                              | General                                               | Female                                                | Dawn House Women's Shelter Inc.                       | 10                                                    | \n",
       "| Emergency                                             | ON                                                    | Kingston                                              | General                                               | Female                                                | Lily's Place                                          | 14                                                    | \n",
       "| Emergency                                             | ON                                                    | London                                                | General                                               | Female                                                | Centre of Hope Refuge d'urgence Female                | 31                                                    | \n",
       "| Emergency                                             | ON                                                    | Newmarket                                             | General                                               | Female                                                | Belinda's Place                                       | 28                                                    | \n",
       "| Emergency                                             | ON                                                    | North Bay                                             | General                                               | Female                                                | Ojibway Family Resource Centre                        | 10                                                    | \n",
       "| Emergency                                             | ON                                                    | Ottawa                                                | General                                               | Female                                                | Cornerstone Housing for Women                         | 55                                                    | \n",
       "| ... | ... | ... | ... | ... | ... | ... | \n",
       "| Emergency                                                 | ON                                                        | Toronto                                                   | General                                                   | Female                                                    | Street Haven at the Crossroads                            |  46                                                       | \n",
       "| Emergency                                                 | ON                                                        | Toronto                                                   | General                                                   | Female                                                    | Women<U+0092>s Residence - Main Site                      | 103                                                       | \n",
       "| Emergency                                                 | ON                                                        | Toronto                                                   | General                                                   | Female                                                    | Woodlawn Residence                                        |  28                                                       | \n",
       "| Emergency                                                 | ON                                                        | Toronto                                                   | Youth                                                     | Female                                                    | First Stop Woodlawn Youth Unit                            |  28                                                       | \n",
       "| Emergency                                                 | ON                                                        | Whitby                                                    | General                                                   | Female                                                    | Muslim Welfare Home                                       |  45                                                       | \n",
       "| Emergency                                                 | ON                                                        | Windsor                                                   | General                                                   | Female                                                    | Welcome Centre Shelter for Women                          |  11                                                       | \n",
       "| Emergency                                                 | QC                                                        | Fermont                                                   | General                                                   | Female                                                    | Maison d'Aide et d'H<e9>bergement de Fermont              |   6                                                       | \n",
       "| Emergency                                                 | QC                                                        | Longueuil                                                 | General                                                   | Female                                                    | La Maison <c9>lizabeth-Bergeron                           |   5                                                       | \n",
       "| Emergency                                                 | QC                                                        | Montreal                                                  | General                                                   | Female                                                    | Auberge Madeleine                                         |  26                                                       | \n",
       "| Emergency                                                 | QC                                                        | Montreal                                                  | General                                                   | Female                                                    | Foyer pour Femmes Autochtones de Montr<e9>al              |  16                                                       | \n",
       "| Emergency                                                 | QC                                                        | Montreal                                                  | General                                                   | Female                                                    | La Maison Marguerite de Montr<e9>al - Refuge d'urgence    |  18                                                       | \n",
       "| Emergency                                                 | QC                                                        | Montreal                                                  | General                                                   | Female                                                    | Le Cha<ee>non                                             |  47                                                       | \n",
       "| Emergency                                                 | QC                                                        | Montreal                                                  | General                                                   | Female                                                    | Logifem Inc                                               |  20                                                       | \n",
       "| Emergency                                                 | QC                                                        | Montreal                                                  | General                                                   | Female                                                    | Maison Olga - Refuge d'urgence                            |   3                                                       | \n",
       "| Emergency                                                 | QC                                                        | Montreal                                                  | General                                                   | Female                                                    | OBM - PMP Refuge                                          |  40                                                       | \n",
       "| Emergency                                                 | QC                                                        | Montreal                                                  | General                                                   | Female                                                    | L'Abri d'espoir de l'Arm<e9>e du Salut - Refuge d'urgence |  60                                                       | \n",
       "| Emergency                                                 | QC                                                        | Montreal                                                  | Youth                                                     | Female                                                    | \"Passages, Ressource d'h<e9>bergement de Montr<e9>al\"     |  16                                                       | \n",
       "| Emergency                                                 | QC                                                        | Quebec City                                               | General                                                   | Female                                                    | Maison de Lauberiviere (Femmes)                           |  12                                                       | \n",
       "| Emergency                                                 | QC                                                        | Quebec City                                               | Youth                                                     | Female                                                    | \"Maison Richelieu, H<e9>bergement jeunesse\"               |   9                                                       | \n",
       "| Emergency                                                 | QC                                                        | Sherbrooke                                                | General                                                   | Female                                                    | Just'elles de l'Estrie                                    |   8                                                       | \n",
       "| Emergency                                                 | SK                                                        | Prince Albert                                             | General                                                   | Female                                                    | Metis Women Association                                   |   8                                                       | \n",
       "| Emergency                                                 | SK                                                        | Prince Albert                                             | General                                                   | Female                                                    | YWCA Central Avenue Residential Services                  |  50                                                       | \n",
       "| Emergency                                                 | SK                                                        | Regina                                                    | General                                                   | Female                                                    | SHRM Women's Refuge d'urgence Shelter                     |  12                                                       | \n",
       "| Emergency                                                 | SK                                                        | Regina                                                    | General                                                   | Female                                                    | YWCA Kikinaw Residence                                    |  54                                                       | \n",
       "| Emergency                                                 | SK                                                        | Regina                                                    | General                                                   | Female                                                    | YWCA My Aunt's Place                                      |  22                                                       | \n",
       "| Emergency                                                 | SK                                                        | Saskatoon                                                 | General                                                   | Female                                                    | Infinity House Refuge d'urgence                           |  13                                                       | \n",
       "| Emergency                                                 | SK                                                        | Saskatoon                                                 | General                                                   | Female                                                    | Lighthouse Supported Living Inc Refuge d'urgence - Women  |  20                                                       | \n",
       "| Emergency                                                 | SK                                                        | Saskatoon                                                 | General                                                   | Female                                                    | Mumford House                                             |  36                                                       | \n",
       "| Emergency                                                 | SK                                                        | Saskatoon                                                 | General                                                   | Female                                                    | YWCA Crisis Shelter                                       |  22                                                       | \n",
       "| Emergency                                                 | SK                                                        | Saskatoon                                                 | Youth                                                     | Female                                                    | YWCA Saskatoon Youth Program - 3rd Floor                  |   4                                                       | \n",
       "\n",
       "\n"
      ],
      "text/plain": [
       "    ShelterType Province City            TargetPopulation Gender\n",
       "1   Emergency   AB       Calgary         General          Female\n",
       "2   Emergency   AB       Calgary         General          Female\n",
       "3   Emergency   AB       Edmonton        General          Female\n",
       "4   Emergency   AB       Edmonton        General          Female\n",
       "5   Emergency   BC       Kelowna         General          Female\n",
       "6   Emergency   BC       Nanaimo         General          Female\n",
       "7   Emergency   BC       New Westminster General          Female\n",
       "8   Emergency   BC       Prince George   General          Female\n",
       "9   Emergency   BC       Surrey          General          Female\n",
       "10  Emergency   BC       Surrey          General          Female\n",
       "11  Emergency   BC       Vancouver       General          Female\n",
       "12  Emergency   BC       Vancouver       General          Female\n",
       "13  Emergency   BC       Vancouver       General          Female\n",
       "14  Emergency   BC       Vancouver       General          Female\n",
       "15  Emergency   BC       Victoria        General          Female\n",
       "16  Emergency   NB       Fredericton     General          Female\n",
       "17  Emergency   NB       Saint John      General          Female\n",
       "18  Emergency   NL       St. John's      Youth            Female\n",
       "19  Emergency   NS       Halifax         General          Female\n",
       "20  Emergency   NS       Halifax         General          Female\n",
       "21  Emergency   NS       Sydney          General          Female\n",
       "22  Emergency   ON       Cambridge       Youth            Female\n",
       "23  Emergency   ON       Guelph          General          Female\n",
       "24  Emergency   ON       Hamilton        General          Female\n",
       "25  Emergency   ON       Kingston        General          Female\n",
       "26  Emergency   ON       Kingston        General          Female\n",
       "27  Emergency   ON       London          General          Female\n",
       "28  Emergency   ON       Newmarket       General          Female\n",
       "29  Emergency   ON       North Bay       General          Female\n",
       "30  Emergency   ON       Ottawa          General          Female\n",
       "... ...         ...      ...             ...              ...   \n",
       "45  Emergency   ON       Toronto         General          Female\n",
       "46  Emergency   ON       Toronto         General          Female\n",
       "47  Emergency   ON       Toronto         General          Female\n",
       "48  Emergency   ON       Toronto         Youth            Female\n",
       "49  Emergency   ON       Whitby          General          Female\n",
       "50  Emergency   ON       Windsor         General          Female\n",
       "51  Emergency   QC       Fermont         General          Female\n",
       "52  Emergency   QC       Longueuil       General          Female\n",
       "53  Emergency   QC       Montreal        General          Female\n",
       "54  Emergency   QC       Montreal        General          Female\n",
       "55  Emergency   QC       Montreal        General          Female\n",
       "56  Emergency   QC       Montreal        General          Female\n",
       "57  Emergency   QC       Montreal        General          Female\n",
       "58  Emergency   QC       Montreal        General          Female\n",
       "59  Emergency   QC       Montreal        General          Female\n",
       "60  Emergency   QC       Montreal        General          Female\n",
       "61  Emergency   QC       Montreal        Youth            Female\n",
       "62  Emergency   QC       Quebec City     General          Female\n",
       "63  Emergency   QC       Quebec City     Youth            Female\n",
       "64  Emergency   QC       Sherbrooke      General          Female\n",
       "65  Emergency   SK       Prince Albert   General          Female\n",
       "66  Emergency   SK       Prince Albert   General          Female\n",
       "67  Emergency   SK       Regina          General          Female\n",
       "68  Emergency   SK       Regina          General          Female\n",
       "69  Emergency   SK       Regina          General          Female\n",
       "70  Emergency   SK       Saskatoon       General          Female\n",
       "71  Emergency   SK       Saskatoon       General          Female\n",
       "72  Emergency   SK       Saskatoon       General          Female\n",
       "73  Emergency   SK       Saskatoon       General          Female\n",
       "74  Emergency   SK       Saskatoon       Youth            Female\n",
       "    ShelterName                                               Beds\n",
       "1   Wagner Place                                              12  \n",
       "2   YWCA Mary Dover House Refuge d'urgence Beds                6  \n",
       "3   E4C Women's Refuge d'urgence Accommodation Centre         66  \n",
       "4   Hope Mission - Women's Refuge d'urgence Shelter           50  \n",
       "5   Alexandra Gardner Women and Children Safe Centre          20  \n",
       "6   Samaritan House - Refuge d'urgence                        10  \n",
       "7   Elizabeth Gurney House                                    12  \n",
       "8   AWAC Shelter                                              30  \n",
       "9   Cynthia's Place Refuge d'urgence                          14  \n",
       "10  Sheena's Place                                            12  \n",
       "11  412 Women's Refuge d'urgence Shelter                      50  \n",
       "12  Belkin House - Refuge d'urgence Women and Children        28  \n",
       "13  Powell Place Refuge d'urgence Shelter                     52  \n",
       "14  Springhouse Refuge d'urgence Shelter                      32  \n",
       "15  Sandy Merriman House                                      25  \n",
       "16  Grace House For Women                                     14  \n",
       "17  Coverdale Centre for Women - Refuge d'urgence Shelter     10  \n",
       "18  Naomi Centre                                               8  \n",
       "19  Adsum House Refuge d'urgence Shelter                      16  \n",
       "20  Barry House                                               20  \n",
       "21  Almost Home Women's Shelter Refuge d'urgence               7  \n",
       "22  Argus Residence for Young Women                           10  \n",
       "23  Elizabeth Place                                           14  \n",
       "24  Mary's Place Hamilton                                     20  \n",
       "25  Dawn House Women's Shelter Inc.                           10  \n",
       "26  Lily's Place                                              14  \n",
       "27  Centre of Hope Refuge d'urgence Female                    31  \n",
       "28  Belinda's Place                                           28  \n",
       "29  Ojibway Family Resource Centre                            10  \n",
       "30  Cornerstone Housing for Women                             55  \n",
       "... ...                                                       ... \n",
       "45  Street Haven at the Crossroads                             46 \n",
       "46  Women<U+0092>s Residence - Main Site                      103 \n",
       "47  Woodlawn Residence                                         28 \n",
       "48  First Stop Woodlawn Youth Unit                             28 \n",
       "49  Muslim Welfare Home                                        45 \n",
       "50  Welcome Centre Shelter for Women                           11 \n",
       "51  Maison d'Aide et d'H<e9>bergement de Fermont                6 \n",
       "52  La Maison <c9>lizabeth-Bergeron                             5 \n",
       "53  Auberge Madeleine                                          26 \n",
       "54  Foyer pour Femmes Autochtones de Montr<e9>al               16 \n",
       "55  La Maison Marguerite de Montr<e9>al - Refuge d'urgence     18 \n",
       "56  Le Cha<ee>non                                              47 \n",
       "57  Logifem Inc                                                20 \n",
       "58  Maison Olga - Refuge d'urgence                              3 \n",
       "59  OBM - PMP Refuge                                           40 \n",
       "60  L'Abri d'espoir de l'Arm<e9>e du Salut - Refuge d'urgence  60 \n",
       "61  \"Passages, Ressource d'h<e9>bergement de Montr<e9>al\"      16 \n",
       "62  Maison de Lauberiviere (Femmes)                            12 \n",
       "63  \"Maison Richelieu, H<e9>bergement jeunesse\"                 9 \n",
       "64  Just'elles de l'Estrie                                      8 \n",
       "65  Metis Women Association                                     8 \n",
       "66  YWCA Central Avenue Residential Services                   50 \n",
       "67  SHRM Women's Refuge d'urgence Shelter                      12 \n",
       "68  YWCA Kikinaw Residence                                     54 \n",
       "69  YWCA My Aunt's Place                                       22 \n",
       "70  Infinity House Refuge d'urgence                            13 \n",
       "71  Lighthouse Supported Living Inc Refuge d'urgence - Women   20 \n",
       "72  Mumford House                                              36 \n",
       "73  YWCA Crisis Shelter                                        22 \n",
       "74  YWCA Saskatoon Youth Program - 3rd Floor                    4 "
      ]
     },
     "metadata": {},
     "output_type": "display_data"
    }
   ],
   "source": [
    "glimpse(df)\n",
    "df"
   ]
  },
  {
   "cell_type": "code",
   "execution_count": 51,
   "metadata": {},
   "outputs": [
    {
     "data": {
      "text/html": [
       "<ol class=list-inline>\n",
       "\t<li>AB</li>\n",
       "\t<li>BC</li>\n",
       "\t<li>NB</li>\n",
       "\t<li>NL</li>\n",
       "\t<li>NS</li>\n",
       "\t<li>ON</li>\n",
       "\t<li>QC</li>\n",
       "\t<li>SK</li>\n",
       "</ol>\n"
      ],
      "text/latex": [
       "\\begin{enumerate*}\n",
       "\\item AB\n",
       "\\item BC\n",
       "\\item NB\n",
       "\\item NL\n",
       "\\item NS\n",
       "\\item ON\n",
       "\\item QC\n",
       "\\item SK\n",
       "\\end{enumerate*}\n"
      ],
      "text/markdown": [
       "1. AB\n",
       "2. BC\n",
       "3. NB\n",
       "4. NL\n",
       "5. NS\n",
       "6. ON\n",
       "7. QC\n",
       "8. SK\n",
       "\n",
       "\n"
      ],
      "text/plain": [
       "[1] AB BC NB NL NS ON QC SK\n",
       "Levels: AB BC NB NL NS ON QC SK"
      ]
     },
     "metadata": {},
     "output_type": "display_data"
    }
   ],
   "source": [
    "unique(df$Province)"
   ]
  },
  {
   "cell_type": "code",
   "execution_count": 52,
   "metadata": {},
   "outputs": [
    {
     "name": "stdout",
     "output_type": "stream",
     "text": [
      "Observations: 74\n",
      "Variables: 7\n",
      "$ ShelterType      <fctr> Emergency, Emergency, Emergency, Emergency, Emerg...\n",
      "$ Province         <fctr> AB, AB, AB, AB, BC, BC, BC, BC, BC, BC, BC, BC, B...\n",
      "$ City             <fctr> Calgary, Calgary, Edmonton, Edmonton, Kelowna, Na...\n",
      "$ TargetPopulation <fctr> General, General, General, General, General, Gene...\n",
      "$ Gender           <fctr> Female, Female, Female, Female, Female, Female, F...\n",
      "$ ShelterName      <chr> \"Wagner Place\", \"YWCA Mary Dover House Refuge d'ur...\n",
      "$ Beds             <dbl> 12, 6, 66, 50, 20, 10, 12, 30, 14, 12, 50, 28, 52,...\n"
     ]
    },
    {
     "data": {
      "text/html": [
       "<table>\n",
       "<thead><tr><th scope=col>ShelterType</th><th scope=col>Province</th><th scope=col>City</th><th scope=col>TargetPopulation</th><th scope=col>Gender</th><th scope=col>ShelterName</th><th scope=col>Beds</th></tr></thead>\n",
       "<tbody>\n",
       "\t<tr><td>Emergency                                        </td><td>AB                                               </td><td>Calgary                                          </td><td>General                                          </td><td>Female                                           </td><td>Wagner Place                                     </td><td>12                                               </td></tr>\n",
       "\t<tr><td>Emergency                                        </td><td>AB                                               </td><td>Calgary                                          </td><td>General                                          </td><td>Female                                           </td><td>YWCA Mary Dover House Refuge d'urgence Beds      </td><td> 6                                               </td></tr>\n",
       "\t<tr><td>Emergency                                        </td><td>AB                                               </td><td>Edmonton                                         </td><td>General                                          </td><td>Female                                           </td><td>E4C Women's Refuge d'urgence Accommodation Centre</td><td>66                                               </td></tr>\n",
       "\t<tr><td>Emergency                                        </td><td>AB                                               </td><td>Edmonton                                         </td><td>General                                          </td><td>Female                                           </td><td>Hope Mission - Women's Refuge d'urgence Shelter  </td><td>50                                               </td></tr>\n",
       "\t<tr><td>Emergency                                        </td><td>BC                                               </td><td>Kelowna                                          </td><td>General                                          </td><td>Female                                           </td><td>Alexandra Gardner Women and Children Safe Centre </td><td>20                                               </td></tr>\n",
       "\t<tr><td>Emergency                                        </td><td>BC                                               </td><td>Nanaimo                                          </td><td>General                                          </td><td>Female                                           </td><td>Samaritan House - Refuge d'urgence               </td><td>10                                               </td></tr>\n",
       "</tbody>\n",
       "</table>\n"
      ],
      "text/latex": [
       "\\begin{tabular}{r|lllllll}\n",
       " ShelterType & Province & City & TargetPopulation & Gender & ShelterName & Beds\\\\\n",
       "\\hline\n",
       "\t Emergency                                         & AB                                                & Calgary                                           & General                                           & Female                                            & Wagner Place                                      & 12                                               \\\\\n",
       "\t Emergency                                         & AB                                                & Calgary                                           & General                                           & Female                                            & YWCA Mary Dover House Refuge d'urgence Beds       &  6                                               \\\\\n",
       "\t Emergency                                         & AB                                                & Edmonton                                          & General                                           & Female                                            & E4C Women's Refuge d'urgence Accommodation Centre & 66                                               \\\\\n",
       "\t Emergency                                         & AB                                                & Edmonton                                          & General                                           & Female                                            & Hope Mission - Women's Refuge d'urgence Shelter   & 50                                               \\\\\n",
       "\t Emergency                                         & BC                                                & Kelowna                                           & General                                           & Female                                            & Alexandra Gardner Women and Children Safe Centre  & 20                                               \\\\\n",
       "\t Emergency                                         & BC                                                & Nanaimo                                           & General                                           & Female                                            & Samaritan House - Refuge d'urgence                & 10                                               \\\\\n",
       "\\end{tabular}\n"
      ],
      "text/markdown": [
       "\n",
       "ShelterType | Province | City | TargetPopulation | Gender | ShelterName | Beds | \n",
       "|---|---|---|---|---|---|\n",
       "| Emergency                                         | AB                                                | Calgary                                           | General                                           | Female                                            | Wagner Place                                      | 12                                                | \n",
       "| Emergency                                         | AB                                                | Calgary                                           | General                                           | Female                                            | YWCA Mary Dover House Refuge d'urgence Beds       |  6                                                | \n",
       "| Emergency                                         | AB                                                | Edmonton                                          | General                                           | Female                                            | E4C Women's Refuge d'urgence Accommodation Centre | 66                                                | \n",
       "| Emergency                                         | AB                                                | Edmonton                                          | General                                           | Female                                            | Hope Mission - Women's Refuge d'urgence Shelter   | 50                                                | \n",
       "| Emergency                                         | BC                                                | Kelowna                                           | General                                           | Female                                            | Alexandra Gardner Women and Children Safe Centre  | 20                                                | \n",
       "| Emergency                                         | BC                                                | Nanaimo                                           | General                                           | Female                                            | Samaritan House - Refuge d'urgence                | 10                                                | \n",
       "\n",
       "\n"
      ],
      "text/plain": [
       "  ShelterType Province City     TargetPopulation Gender\n",
       "1 Emergency   AB       Calgary  General          Female\n",
       "2 Emergency   AB       Calgary  General          Female\n",
       "3 Emergency   AB       Edmonton General          Female\n",
       "4 Emergency   AB       Edmonton General          Female\n",
       "5 Emergency   BC       Kelowna  General          Female\n",
       "6 Emergency   BC       Nanaimo  General          Female\n",
       "  ShelterName                                       Beds\n",
       "1 Wagner Place                                      12  \n",
       "2 YWCA Mary Dover House Refuge d'urgence Beds        6  \n",
       "3 E4C Women's Refuge d'urgence Accommodation Centre 66  \n",
       "4 Hope Mission - Women's Refuge d'urgence Shelter   50  \n",
       "5 Alexandra Gardner Women and Children Safe Centre  20  \n",
       "6 Samaritan House - Refuge d'urgence                10  "
      ]
     },
     "metadata": {},
     "output_type": "display_data"
    },
    {
     "data": {
      "text/html": [
       "<table>\n",
       "<thead><tr><th scope=col>ShelterType</th><th scope=col>Province</th><th scope=col>City</th><th scope=col>TargetPopulation</th><th scope=col>Gender</th><th scope=col>ShelterName</th><th scope=col>Beds</th></tr></thead>\n",
       "<tbody>\n",
       "\t<tr><td>Emergency                                               </td><td>SK                                                      </td><td>Regina                                                  </td><td>General                                                 </td><td>Female                                                  </td><td>YWCA My Aunt's Place                                    </td><td>22                                                      </td></tr>\n",
       "\t<tr><td>Emergency                                               </td><td>SK                                                      </td><td>Saskatoon                                               </td><td>General                                                 </td><td>Female                                                  </td><td>Infinity House Refuge d'urgence                         </td><td>13                                                      </td></tr>\n",
       "\t<tr><td>Emergency                                               </td><td>SK                                                      </td><td>Saskatoon                                               </td><td>General                                                 </td><td>Female                                                  </td><td>Lighthouse Supported Living Inc Refuge d'urgence - Women</td><td>20                                                      </td></tr>\n",
       "\t<tr><td>Emergency                                               </td><td>SK                                                      </td><td>Saskatoon                                               </td><td>General                                                 </td><td>Female                                                  </td><td>Mumford House                                           </td><td>36                                                      </td></tr>\n",
       "\t<tr><td>Emergency                                               </td><td>SK                                                      </td><td>Saskatoon                                               </td><td>General                                                 </td><td>Female                                                  </td><td>YWCA Crisis Shelter                                     </td><td>22                                                      </td></tr>\n",
       "\t<tr><td>Emergency                                               </td><td>SK                                                      </td><td>Saskatoon                                               </td><td>Youth                                                   </td><td>Female                                                  </td><td>YWCA Saskatoon Youth Program - 3rd Floor                </td><td> 4                                                      </td></tr>\n",
       "</tbody>\n",
       "</table>\n"
      ],
      "text/latex": [
       "\\begin{tabular}{r|lllllll}\n",
       " ShelterType & Province & City & TargetPopulation & Gender & ShelterName & Beds\\\\\n",
       "\\hline\n",
       "\t Emergency                                                & SK                                                       & Regina                                                   & General                                                  & Female                                                   & YWCA My Aunt's Place                                     & 22                                                      \\\\\n",
       "\t Emergency                                                & SK                                                       & Saskatoon                                                & General                                                  & Female                                                   & Infinity House Refuge d'urgence                          & 13                                                      \\\\\n",
       "\t Emergency                                                & SK                                                       & Saskatoon                                                & General                                                  & Female                                                   & Lighthouse Supported Living Inc Refuge d'urgence - Women & 20                                                      \\\\\n",
       "\t Emergency                                                & SK                                                       & Saskatoon                                                & General                                                  & Female                                                   & Mumford House                                            & 36                                                      \\\\\n",
       "\t Emergency                                                & SK                                                       & Saskatoon                                                & General                                                  & Female                                                   & YWCA Crisis Shelter                                      & 22                                                      \\\\\n",
       "\t Emergency                                                & SK                                                       & Saskatoon                                                & Youth                                                    & Female                                                   & YWCA Saskatoon Youth Program - 3rd Floor                 &  4                                                      \\\\\n",
       "\\end{tabular}\n"
      ],
      "text/markdown": [
       "\n",
       "ShelterType | Province | City | TargetPopulation | Gender | ShelterName | Beds | \n",
       "|---|---|---|---|---|---|\n",
       "| Emergency                                                | SK                                                       | Regina                                                   | General                                                  | Female                                                   | YWCA My Aunt's Place                                     | 22                                                       | \n",
       "| Emergency                                                | SK                                                       | Saskatoon                                                | General                                                  | Female                                                   | Infinity House Refuge d'urgence                          | 13                                                       | \n",
       "| Emergency                                                | SK                                                       | Saskatoon                                                | General                                                  | Female                                                   | Lighthouse Supported Living Inc Refuge d'urgence - Women | 20                                                       | \n",
       "| Emergency                                                | SK                                                       | Saskatoon                                                | General                                                  | Female                                                   | Mumford House                                            | 36                                                       | \n",
       "| Emergency                                                | SK                                                       | Saskatoon                                                | General                                                  | Female                                                   | YWCA Crisis Shelter                                      | 22                                                       | \n",
       "| Emergency                                                | SK                                                       | Saskatoon                                                | Youth                                                    | Female                                                   | YWCA Saskatoon Youth Program - 3rd Floor                 |  4                                                       | \n",
       "\n",
       "\n"
      ],
      "text/plain": [
       "  ShelterType Province City      TargetPopulation Gender\n",
       "1 Emergency   SK       Regina    General          Female\n",
       "2 Emergency   SK       Saskatoon General          Female\n",
       "3 Emergency   SK       Saskatoon General          Female\n",
       "4 Emergency   SK       Saskatoon General          Female\n",
       "5 Emergency   SK       Saskatoon General          Female\n",
       "6 Emergency   SK       Saskatoon Youth            Female\n",
       "  ShelterName                                              Beds\n",
       "1 YWCA My Aunt's Place                                     22  \n",
       "2 Infinity House Refuge d'urgence                          13  \n",
       "3 Lighthouse Supported Living Inc Refuge d'urgence - Women 20  \n",
       "4 Mumford House                                            36  \n",
       "5 YWCA Crisis Shelter                                      22  \n",
       "6 YWCA Saskatoon Youth Program - 3rd Floor                  4  "
      ]
     },
     "metadata": {},
     "output_type": "display_data"
    }
   ],
   "source": [
    "glimpse(df)\n",
    "head(df)\n",
    "tail(df)"
   ]
  },
  {
   "cell_type": "code",
   "execution_count": 53,
   "metadata": {},
   "outputs": [
    {
     "data": {
      "text/html": [
       "<table>\n",
       "<thead><tr><th scope=col>Province</th><th scope=col>TotalEmergencyBedsForFemales</th></tr></thead>\n",
       "<tbody>\n",
       "\t<tr><td>AB  </td><td> 134</td></tr>\n",
       "\t<tr><td>BC  </td><td> 285</td></tr>\n",
       "\t<tr><td>NB  </td><td>  24</td></tr>\n",
       "\t<tr><td>NL  </td><td>   8</td></tr>\n",
       "\t<tr><td>NS  </td><td>  43</td></tr>\n",
       "\t<tr><td>ON  </td><td>1120</td></tr>\n",
       "\t<tr><td>QC  </td><td> 286</td></tr>\n",
       "\t<tr><td>SK  </td><td> 241</td></tr>\n",
       "</tbody>\n",
       "</table>\n"
      ],
      "text/latex": [
       "\\begin{tabular}{r|ll}\n",
       " Province & TotalEmergencyBedsForFemales\\\\\n",
       "\\hline\n",
       "\t AB   &  134\\\\\n",
       "\t BC   &  285\\\\\n",
       "\t NB   &   24\\\\\n",
       "\t NL   &    8\\\\\n",
       "\t NS   &   43\\\\\n",
       "\t ON   & 1120\\\\\n",
       "\t QC   &  286\\\\\n",
       "\t SK   &  241\\\\\n",
       "\\end{tabular}\n"
      ],
      "text/markdown": [
       "\n",
       "Province | TotalEmergencyBedsForFemales | \n",
       "|---|---|---|---|---|---|---|---|\n",
       "| AB   |  134 | \n",
       "| BC   |  285 | \n",
       "| NB   |   24 | \n",
       "| NL   |    8 | \n",
       "| NS   |   43 | \n",
       "| ON   | 1120 | \n",
       "| QC   |  286 | \n",
       "| SK   |  241 | \n",
       "\n",
       "\n"
      ],
      "text/plain": [
       "  Province TotalEmergencyBedsForFemales\n",
       "1 AB        134                        \n",
       "2 BC        285                        \n",
       "3 NB         24                        \n",
       "4 NL          8                        \n",
       "5 NS         43                        \n",
       "6 ON       1120                        \n",
       "7 QC        286                        \n",
       "8 SK        241                        "
      ]
     },
     "metadata": {},
     "output_type": "display_data"
    }
   ],
   "source": [
    "df_Provincial <- df %>%\n",
    "  select(Province, Beds) %>%\n",
    "  group_by(Province) %>%\n",
    "  summarise(TotalEmergencyBedsForFemales = sum(Beds))\n",
    "\n",
    "df_Provincial"
   ]
  },
  {
   "cell_type": "code",
   "execution_count": 54,
   "metadata": {},
   "outputs": [
    {
     "data": {
      "text/html": [
       "<table>\n",
       "<thead><tr><th scope=col>Province</th><th scope=col>TotalEmergencyBedsForFemales</th></tr></thead>\n",
       "<tbody>\n",
       "\t<tr><td>AB  </td><td> 134</td></tr>\n",
       "\t<tr><td>BC  </td><td> 285</td></tr>\n",
       "\t<tr><td>NB  </td><td>  24</td></tr>\n",
       "\t<tr><td>NL  </td><td>   8</td></tr>\n",
       "\t<tr><td>NS  </td><td>  43</td></tr>\n",
       "\t<tr><td>ON  </td><td>1120</td></tr>\n",
       "\t<tr><td>QC  </td><td> 286</td></tr>\n",
       "\t<tr><td>SK  </td><td> 241</td></tr>\n",
       "\t<tr><td>MB  </td><td>   0</td></tr>\n",
       "\t<tr><td>PI  </td><td>   0</td></tr>\n",
       "</tbody>\n",
       "</table>\n"
      ],
      "text/latex": [
       "\\begin{tabular}{r|ll}\n",
       " Province & TotalEmergencyBedsForFemales\\\\\n",
       "\\hline\n",
       "\t AB   &  134\\\\\n",
       "\t BC   &  285\\\\\n",
       "\t NB   &   24\\\\\n",
       "\t NL   &    8\\\\\n",
       "\t NS   &   43\\\\\n",
       "\t ON   & 1120\\\\\n",
       "\t QC   &  286\\\\\n",
       "\t SK   &  241\\\\\n",
       "\t MB   &    0\\\\\n",
       "\t PI   &    0\\\\\n",
       "\\end{tabular}\n"
      ],
      "text/markdown": [
       "\n",
       "Province | TotalEmergencyBedsForFemales | \n",
       "|---|---|---|---|---|---|---|---|---|---|\n",
       "| AB   |  134 | \n",
       "| BC   |  285 | \n",
       "| NB   |   24 | \n",
       "| NL   |    8 | \n",
       "| NS   |   43 | \n",
       "| ON   | 1120 | \n",
       "| QC   |  286 | \n",
       "| SK   |  241 | \n",
       "| MB   |    0 | \n",
       "| PI   |    0 | \n",
       "\n",
       "\n"
      ],
      "text/plain": [
       "   Province TotalEmergencyBedsForFemales\n",
       "1  AB        134                        \n",
       "2  BC        285                        \n",
       "3  NB         24                        \n",
       "4  NL          8                        \n",
       "5  NS         43                        \n",
       "6  ON       1120                        \n",
       "7  QC        286                        \n",
       "8  SK        241                        \n",
       "9  MB          0                        \n",
       "10 PI          0                        "
      ]
     },
     "metadata": {},
     "output_type": "display_data"
    }
   ],
   "source": [
    "# add rows for two provinces that do not have emergency beds\n",
    "\n",
    "newRow1 <- data.frame(Province = \"MB\", TotalEmergencyBedsForFemales = 0)\n",
    "newRow2 <- data.frame(Province = \"PI\", TotalEmergencyBedsForFemales = 0)\n",
    "\n",
    "df_Provincial <- rbind(df_Provincial, newRow1, newRow2)\n",
    "\n",
    "df_Provincial"
   ]
  },
  {
   "cell_type": "code",
   "execution_count": 55,
   "metadata": {},
   "outputs": [
    {
     "name": "stdout",
     "output_type": "stream",
     "text": [
      "Observations: 10\n",
      "Variables: 3\n",
      "$ Province                        <fctr> AB, BC, NB, NL, NS, ON, QC, SK, MB...\n",
      "$ TotalEmergencyBedsForFemales    <dbl> 134, 285, 24, 8, 43, 1120, 286, 241...\n",
      "$ TotalProvincialPopulationFemale <dbl> 2117001, 2427673, 384250, 268207, 4...\n"
     ]
    },
    {
     "data": {
      "text/html": [
       "<table>\n",
       "<thead><tr><th scope=col>Province</th><th scope=col>TotalEmergencyBedsForFemales</th><th scope=col>TotalProvincialPopulationFemale</th></tr></thead>\n",
       "<tbody>\n",
       "\t<tr><td>AB     </td><td> 134   </td><td>2117001</td></tr>\n",
       "\t<tr><td>BC     </td><td> 285   </td><td>2427673</td></tr>\n",
       "\t<tr><td>NB     </td><td>  24   </td><td> 384250</td></tr>\n",
       "\t<tr><td>NL     </td><td>   8   </td><td> 268207</td></tr>\n",
       "\t<tr><td>NS     </td><td>  43   </td><td> 486028</td></tr>\n",
       "\t<tr><td>ON     </td><td>1120   </td><td>7212574</td></tr>\n",
       "\t<tr><td>QC     </td><td> 286   </td><td>4219609</td></tr>\n",
       "\t<tr><td>SK     </td><td> 241   </td><td> 577058</td></tr>\n",
       "\t<tr><td>MB     </td><td>   0   </td><td> 671339</td></tr>\n",
       "\t<tr><td>PI     </td><td>   0   </td><td>  77666</td></tr>\n",
       "</tbody>\n",
       "</table>\n"
      ],
      "text/latex": [
       "\\begin{tabular}{r|lll}\n",
       " Province & TotalEmergencyBedsForFemales & TotalProvincialPopulationFemale\\\\\n",
       "\\hline\n",
       "\t AB      &  134    & 2117001\\\\\n",
       "\t BC      &  285    & 2427673\\\\\n",
       "\t NB      &   24    &  384250\\\\\n",
       "\t NL      &    8    &  268207\\\\\n",
       "\t NS      &   43    &  486028\\\\\n",
       "\t ON      & 1120    & 7212574\\\\\n",
       "\t QC      &  286    & 4219609\\\\\n",
       "\t SK      &  241    &  577058\\\\\n",
       "\t MB      &    0    &  671339\\\\\n",
       "\t PI      &    0    &   77666\\\\\n",
       "\\end{tabular}\n"
      ],
      "text/markdown": [
       "\n",
       "Province | TotalEmergencyBedsForFemales | TotalProvincialPopulationFemale | \n",
       "|---|---|---|---|---|---|---|---|---|---|\n",
       "| AB      |  134    | 2117001 | \n",
       "| BC      |  285    | 2427673 | \n",
       "| NB      |   24    |  384250 | \n",
       "| NL      |    8    |  268207 | \n",
       "| NS      |   43    |  486028 | \n",
       "| ON      | 1120    | 7212574 | \n",
       "| QC      |  286    | 4219609 | \n",
       "| SK      |  241    |  577058 | \n",
       "| MB      |    0    |  671339 | \n",
       "| PI      |    0    |   77666 | \n",
       "\n",
       "\n"
      ],
      "text/plain": [
       "   Province TotalEmergencyBedsForFemales TotalProvincialPopulationFemale\n",
       "1  AB        134                         2117001                        \n",
       "2  BC        285                         2427673                        \n",
       "3  NB         24                          384250                        \n",
       "4  NL          8                          268207                        \n",
       "5  NS         43                          486028                        \n",
       "6  ON       1120                         7212574                        \n",
       "7  QC        286                         4219609                        \n",
       "8  SK        241                          577058                        \n",
       "9  MB          0                          671339                        \n",
       "10 PI          0                           77666                        "
      ]
     },
     "metadata": {},
     "output_type": "display_data"
    }
   ],
   "source": [
    "# Add 2017 population stats for each province\n",
    "# Source: https://www150.statcan.gc.ca/t1/tbl1/en/tv.action?pid=1710000501&pickMembers%5B0%5D=1.10&pickMembers%5B1%5D=2.1\n",
    "\n",
    "df_Provincial$TotalProvincialPopulationFemale <- 0\n",
    "\n",
    "df_Provincial$TotalProvincialPopulationFemale[df_Provincial$Province == \"AB\"] <- 2117001\n",
    "df_Provincial$TotalProvincialPopulationFemale[df_Provincial$Province == \"BC\"] <- 2427673\n",
    "df_Provincial$TotalProvincialPopulationFemale[df_Provincial$Province == \"MB\"] <- 671339\n",
    "df_Provincial$TotalProvincialPopulationFemale[df_Provincial$Province == \"NB\"] <- 384250\n",
    "df_Provincial$TotalProvincialPopulationFemale[df_Provincial$Province == \"NL\"] <- 268207\n",
    "df_Provincial$TotalProvincialPopulationFemale[df_Provincial$Province == \"NS\"] <- 486028\n",
    "df_Provincial$TotalProvincialPopulationFemale[df_Provincial$Province == \"NT\"] <- 21683\n",
    "df_Provincial$TotalProvincialPopulationFemale[df_Provincial$Province == \"NU\"] <- 18309\n",
    "df_Provincial$TotalProvincialPopulationFemale[df_Provincial$Province == \"ON\"] <- 7212574\n",
    "df_Provincial$TotalProvincialPopulationFemale[df_Provincial$Province == \"PI\"] <- 77666\n",
    "df_Provincial$TotalProvincialPopulationFemale[df_Provincial$Province == \"QC\"] <- 4219609\n",
    "df_Provincial$TotalProvincialPopulationFemale[df_Provincial$Province == \"SK\"] <- 577058\n",
    "df_Provincial$TotalProvincialPopulationFemale[df_Provincial$Province == \"YT\"] <- 18845\n",
    "\n",
    "glimpse(df_Provincial)\n",
    "df_Provincial"
   ]
  },
  {
   "cell_type": "code",
   "execution_count": 56,
   "metadata": {},
   "outputs": [
    {
     "name": "stdout",
     "output_type": "stream",
     "text": [
      "Observations: 10\n",
      "Variables: 4\n",
      "$ Province                        <fctr> AB, BC, NB, NL, NS, ON, QC, SK, MB...\n",
      "$ TotalEmergencyBedsForFemales    <dbl> 134, 285, 24, 8, 43, 1120, 286, 241...\n",
      "$ TotalProvincialPopulationFemale <dbl> 2117001, 2427673, 384250, 268207, 4...\n",
      "$ EmergencyBedsForFemalesPer100K  <dbl> 6, 12, 6, 3, 9, 16, 7, 42, 0, 0\n"
     ]
    },
    {
     "data": {
      "text/html": [
       "<table>\n",
       "<thead><tr><th scope=col>Province</th><th scope=col>TotalEmergencyBedsForFemales</th><th scope=col>TotalProvincialPopulationFemale</th><th scope=col>EmergencyBedsForFemalesPer100K</th></tr></thead>\n",
       "<tbody>\n",
       "\t<tr><td>AB     </td><td> 134   </td><td>2117001</td><td> 6     </td></tr>\n",
       "\t<tr><td>BC     </td><td> 285   </td><td>2427673</td><td>12     </td></tr>\n",
       "\t<tr><td>NB     </td><td>  24   </td><td> 384250</td><td> 6     </td></tr>\n",
       "\t<tr><td>NL     </td><td>   8   </td><td> 268207</td><td> 3     </td></tr>\n",
       "\t<tr><td>NS     </td><td>  43   </td><td> 486028</td><td> 9     </td></tr>\n",
       "\t<tr><td>ON     </td><td>1120   </td><td>7212574</td><td>16     </td></tr>\n",
       "\t<tr><td>QC     </td><td> 286   </td><td>4219609</td><td> 7     </td></tr>\n",
       "\t<tr><td>SK     </td><td> 241   </td><td> 577058</td><td>42     </td></tr>\n",
       "\t<tr><td>MB     </td><td>   0   </td><td> 671339</td><td> 0     </td></tr>\n",
       "\t<tr><td>PI     </td><td>   0   </td><td>  77666</td><td> 0     </td></tr>\n",
       "</tbody>\n",
       "</table>\n"
      ],
      "text/latex": [
       "\\begin{tabular}{r|llll}\n",
       " Province & TotalEmergencyBedsForFemales & TotalProvincialPopulationFemale & EmergencyBedsForFemalesPer100K\\\\\n",
       "\\hline\n",
       "\t AB      &  134    & 2117001 &  6     \\\\\n",
       "\t BC      &  285    & 2427673 & 12     \\\\\n",
       "\t NB      &   24    &  384250 &  6     \\\\\n",
       "\t NL      &    8    &  268207 &  3     \\\\\n",
       "\t NS      &   43    &  486028 &  9     \\\\\n",
       "\t ON      & 1120    & 7212574 & 16     \\\\\n",
       "\t QC      &  286    & 4219609 &  7     \\\\\n",
       "\t SK      &  241    &  577058 & 42     \\\\\n",
       "\t MB      &    0    &  671339 &  0     \\\\\n",
       "\t PI      &    0    &   77666 &  0     \\\\\n",
       "\\end{tabular}\n"
      ],
      "text/markdown": [
       "\n",
       "Province | TotalEmergencyBedsForFemales | TotalProvincialPopulationFemale | EmergencyBedsForFemalesPer100K | \n",
       "|---|---|---|---|---|---|---|---|---|---|\n",
       "| AB      |  134    | 2117001 |  6      | \n",
       "| BC      |  285    | 2427673 | 12      | \n",
       "| NB      |   24    |  384250 |  6      | \n",
       "| NL      |    8    |  268207 |  3      | \n",
       "| NS      |   43    |  486028 |  9      | \n",
       "| ON      | 1120    | 7212574 | 16      | \n",
       "| QC      |  286    | 4219609 |  7      | \n",
       "| SK      |  241    |  577058 | 42      | \n",
       "| MB      |    0    |  671339 |  0      | \n",
       "| PI      |    0    |   77666 |  0      | \n",
       "\n",
       "\n"
      ],
      "text/plain": [
       "   Province TotalEmergencyBedsForFemales TotalProvincialPopulationFemale\n",
       "1  AB        134                         2117001                        \n",
       "2  BC        285                         2427673                        \n",
       "3  NB         24                          384250                        \n",
       "4  NL          8                          268207                        \n",
       "5  NS         43                          486028                        \n",
       "6  ON       1120                         7212574                        \n",
       "7  QC        286                         4219609                        \n",
       "8  SK        241                          577058                        \n",
       "9  MB          0                          671339                        \n",
       "10 PI          0                           77666                        \n",
       "   EmergencyBedsForFemalesPer100K\n",
       "1   6                            \n",
       "2  12                            \n",
       "3   6                            \n",
       "4   3                            \n",
       "5   9                            \n",
       "6  16                            \n",
       "7   7                            \n",
       "8  42                            \n",
       "9   0                            \n",
       "10  0                            "
      ]
     },
     "metadata": {},
     "output_type": "display_data"
    }
   ],
   "source": [
    "df_Provincial <- df_Provincial %>%\n",
    "  mutate(EmergencyBedsForFemalesPer100K = round(TotalEmergencyBedsForFemales / TotalProvincialPopulationFemale * 100000))\n",
    "\n",
    "glimpse(df_Provincial)\n",
    "df_Provincial"
   ]
  },
  {
   "cell_type": "markdown",
   "metadata": {},
   "source": [
    "## Display a map of Canada showing results"
   ]
  },
  {
   "cell_type": "code",
   "execution_count": 57,
   "metadata": {},
   "outputs": [
    {
     "name": "stdout",
     "output_type": "stream",
     "text": [
      "Reading layer `lpr_000b16a_e' from data source `C:\\Users\\tarji\\GIS_Canada\\lpr_000b16a_e.shp' using driver `ESRI Shapefile'\n",
      "Simple feature collection with 13 features and 6 fields\n",
      "geometry type:  MULTIPOLYGON\n",
      "dimension:      XY\n",
      "bbox:           xmin: 3689439 ymin: 659338.9 xmax: 9015737 ymax: 5242179\n",
      "epsg (SRID):    NA\n",
      "proj4string:    +proj=lcc +lat_1=49 +lat_2=77 +lat_0=63.390675 +lon_0=-91.86666666666666 +x_0=6200000 +y_0=3000000 +datum=NAD83 +units=m +no_defs\n"
     ]
    }
   ],
   "source": [
    "CanadaMap <- st_read(\"GIS_Canada/lpr_000b16a_e.shp\")"
   ]
  },
  {
   "cell_type": "code",
   "execution_count": 58,
   "metadata": {},
   "outputs": [
    {
     "data": {
      "text/plain": [
       "[1] \"2018-08-05 21:02:11 AST\""
      ]
     },
     "metadata": {},
     "output_type": "display_data"
    },
    {
     "name": "stdout",
     "output_type": "stream",
     "text": [
      "Observations: 13\n",
      "Variables: 7\n",
      "$ PRUID    <fctr> 10, 11, 12, 13, 24, 35, 46, 47, 48, 59, 60, 61, 62\n",
      "$ PRNAME   <fctr> Newfoundland and Labrador / Terre-Neuve-et-Labrador, Prin...\n",
      "$ PRENAME  <fctr> Newfoundland and Labrador, Prince Edward Island, Nova Sco...\n",
      "$ PRFNAME  <fctr> Terre-Neuve-et-Labrador, Île-du-Prince-Édouard, Nouvelle-...\n",
      "$ PREABBR  <fctr> N.L., P.E.I., N.S., N.B., Que., Ont., Man., Sask., Alta.,...\n",
      "$ PRFABBR  <fctr> T.-N.-L., Î.-P.-É., N.-É., N.-B., Qc, Ont., Man., Sask., ...\n",
      "$ geometry <simple_feature> MULTIPOLYGON (((8307365.588..., MULTIPOLYGON ((...\n"
     ]
    },
    {
     "data": {
      "text/plain": [
       "[1] \"2018-08-05 21:04:08 AST\""
      ]
     },
     "metadata": {},
     "output_type": "display_data"
    }
   ],
   "source": [
    "Sys.time()\n",
    "glimpse(CanadaMap)\n",
    "Sys.time()"
   ]
  },
  {
   "cell_type": "code",
   "execution_count": 59,
   "metadata": {},
   "outputs": [],
   "source": [
    "# Sys.time()\n",
    "# CanadaMap\n",
    "# Sys.time()"
   ]
  },
  {
   "cell_type": "code",
   "execution_count": 60,
   "metadata": {},
   "outputs": [
    {
     "name": "stdout",
     "output_type": "stream",
     "text": [
      "Observations: 10\n",
      "Variables: 5\n",
      "$ Province                        <fctr> AB, BC, NB, NL, NS, ON, QC, SK, MB...\n",
      "$ TotalEmergencyBedsForFemales    <dbl> 134, 285, 24, 8, 43, 1120, 286, 241...\n",
      "$ TotalProvincialPopulationFemale <dbl> 2117001, 2427673, 384250, 268207, 4...\n",
      "$ EmergencyBedsForFemalesPer100K  <dbl> 6, 12, 6, 3, 9, 16, 7, 42, 0, 0\n",
      "$ PREABBR                         <fctr> Alta., B.C., N.B., N.L., N.S., Ont...\n"
     ]
    },
    {
     "data": {
      "text/html": [
       "<table>\n",
       "<thead><tr><th scope=col>Province</th><th scope=col>TotalEmergencyBedsForFemales</th><th scope=col>TotalProvincialPopulationFemale</th><th scope=col>EmergencyBedsForFemalesPer100K</th><th scope=col>PREABBR</th></tr></thead>\n",
       "<tbody>\n",
       "\t<tr><td>AB     </td><td> 134   </td><td>2117001</td><td> 6     </td><td>Alta.  </td></tr>\n",
       "\t<tr><td>BC     </td><td> 285   </td><td>2427673</td><td>12     </td><td>B.C.   </td></tr>\n",
       "\t<tr><td>NB     </td><td>  24   </td><td> 384250</td><td> 6     </td><td>N.B.   </td></tr>\n",
       "\t<tr><td>NL     </td><td>   8   </td><td> 268207</td><td> 3     </td><td>N.L.   </td></tr>\n",
       "\t<tr><td>NS     </td><td>  43   </td><td> 486028</td><td> 9     </td><td>N.S.   </td></tr>\n",
       "\t<tr><td>ON     </td><td>1120   </td><td>7212574</td><td>16     </td><td>Ont.   </td></tr>\n",
       "\t<tr><td>QC     </td><td> 286   </td><td>4219609</td><td> 7     </td><td>Que.   </td></tr>\n",
       "\t<tr><td>SK     </td><td> 241   </td><td> 577058</td><td>42     </td><td>Sask.  </td></tr>\n",
       "\t<tr><td>MB     </td><td>   0   </td><td> 671339</td><td> 0     </td><td>Man.   </td></tr>\n",
       "\t<tr><td>PI     </td><td>   0   </td><td>  77666</td><td> 0     </td><td>P.E.I. </td></tr>\n",
       "</tbody>\n",
       "</table>\n"
      ],
      "text/latex": [
       "\\begin{tabular}{r|lllll}\n",
       " Province & TotalEmergencyBedsForFemales & TotalProvincialPopulationFemale & EmergencyBedsForFemalesPer100K & PREABBR\\\\\n",
       "\\hline\n",
       "\t AB      &  134    & 2117001 &  6      & Alta.  \\\\\n",
       "\t BC      &  285    & 2427673 & 12      & B.C.   \\\\\n",
       "\t NB      &   24    &  384250 &  6      & N.B.   \\\\\n",
       "\t NL      &    8    &  268207 &  3      & N.L.   \\\\\n",
       "\t NS      &   43    &  486028 &  9      & N.S.   \\\\\n",
       "\t ON      & 1120    & 7212574 & 16      & Ont.   \\\\\n",
       "\t QC      &  286    & 4219609 &  7      & Que.   \\\\\n",
       "\t SK      &  241    &  577058 & 42      & Sask.  \\\\\n",
       "\t MB      &    0    &  671339 &  0      & Man.   \\\\\n",
       "\t PI      &    0    &   77666 &  0      & P.E.I. \\\\\n",
       "\\end{tabular}\n"
      ],
      "text/markdown": [
       "\n",
       "Province | TotalEmergencyBedsForFemales | TotalProvincialPopulationFemale | EmergencyBedsForFemalesPer100K | PREABBR | \n",
       "|---|---|---|---|---|---|---|---|---|---|\n",
       "| AB      |  134    | 2117001 |  6      | Alta.   | \n",
       "| BC      |  285    | 2427673 | 12      | B.C.    | \n",
       "| NB      |   24    |  384250 |  6      | N.B.    | \n",
       "| NL      |    8    |  268207 |  3      | N.L.    | \n",
       "| NS      |   43    |  486028 |  9      | N.S.    | \n",
       "| ON      | 1120    | 7212574 | 16      | Ont.    | \n",
       "| QC      |  286    | 4219609 |  7      | Que.    | \n",
       "| SK      |  241    |  577058 | 42      | Sask.   | \n",
       "| MB      |    0    |  671339 |  0      | Man.    | \n",
       "| PI      |    0    |   77666 |  0      | P.E.I.  | \n",
       "\n",
       "\n"
      ],
      "text/plain": [
       "   Province TotalEmergencyBedsForFemales TotalProvincialPopulationFemale\n",
       "1  AB        134                         2117001                        \n",
       "2  BC        285                         2427673                        \n",
       "3  NB         24                          384250                        \n",
       "4  NL          8                          268207                        \n",
       "5  NS         43                          486028                        \n",
       "6  ON       1120                         7212574                        \n",
       "7  QC        286                         4219609                        \n",
       "8  SK        241                          577058                        \n",
       "9  MB          0                          671339                        \n",
       "10 PI          0                           77666                        \n",
       "   EmergencyBedsForFemalesPer100K PREABBR\n",
       "1   6                             Alta.  \n",
       "2  12                             B.C.   \n",
       "3   6                             N.B.   \n",
       "4   3                             N.L.   \n",
       "5   9                             N.S.   \n",
       "6  16                             Ont.   \n",
       "7   7                             Que.   \n",
       "8  42                             Sask.  \n",
       "9   0                             Man.   \n",
       "10  0                             P.E.I. "
      ]
     },
     "metadata": {},
     "output_type": "display_data"
    }
   ],
   "source": [
    "# Add a column for PREABBR to df_Provincial in order to do a join with CanadaMap\n",
    "\n",
    "\n",
    "df_Provincial$PREABBR <- \"unknown\"\n",
    "\n",
    "df_Provincial$PREABBR[df_Provincial$Province == \"AB\"] <- \"Alta.\"\n",
    "df_Provincial$PREABBR[df_Provincial$Province == \"BC\"] <- \"B.C.\"\n",
    "df_Provincial$PREABBR[df_Provincial$Province == \"MB\"] <- \"Man.\"\n",
    "df_Provincial$PREABBR[df_Provincial$Province == \"NB\"] <- \"N.B.\"\n",
    "df_Provincial$PREABBR[df_Provincial$Province == \"NL\"] <- \"N.L.\"\n",
    "df_Provincial$PREABBR[df_Provincial$Province == \"NS\"] <- \"N.S.\"\n",
    "df_Provincial$PREABBR[df_Provincial$Province == \"ON\"] <- \"Ont.\"\n",
    "df_Provincial$PREABBR[df_Provincial$Province == \"PI\"] <- \"P.E.I.\"\n",
    "df_Provincial$PREABBR[df_Provincial$Province == \"QC\"] <- \"Que.\"\n",
    "df_Provincial$PREABBR[df_Provincial$Province == \"SK\"] <- \"Sask.\"\n",
    "\n",
    "df_Provincial$PREABBR <- as.factor(df_Provincial$PREABBR)\n",
    "glimpse(df_Provincial)\n",
    "df_Provincial"
   ]
  },
  {
   "cell_type": "code",
   "execution_count": 61,
   "metadata": {},
   "outputs": [],
   "source": [
    "# Add a column for Year\n",
    "\n",
    "df_Provincial$Year <- 2017"
   ]
  },
  {
   "cell_type": "code",
   "execution_count": 62,
   "metadata": {},
   "outputs": [],
   "source": [
    "# Before merging with a shapefile for polygon data, write the data to a table in csv format\n",
    "# Table_B\n",
    "\n",
    "write.csv(df_Provincial, \n",
    "          file = \"Table_B.csv\",\n",
    "          row.names = FALSE) # set row.name to FALSE to not include an index column in the csv output file"
   ]
  },
  {
   "cell_type": "code",
   "execution_count": 63,
   "metadata": {},
   "outputs": [],
   "source": [
    "CanadaMap <- merge(CanadaMap, df_Provincial) # join the two dataframes, merge will use the common column name to join with"
   ]
  },
  {
   "cell_type": "code",
   "execution_count": 64,
   "metadata": {},
   "outputs": [
    {
     "data": {
      "text/plain": [
       "[1] \"2018-08-05 21:04:10 AST\""
      ]
     },
     "metadata": {},
     "output_type": "display_data"
    },
    {
     "name": "stdout",
     "output_type": "stream",
     "text": [
      "Observations: 10\n",
      "Variables: 12\n",
      "$ PREABBR                         <fctr> Alta., B.C., Man., N.B., N.L., N.S...\n",
      "$ PRUID                           <fctr> 48, 59, 46, 13, 10, 12, 35, 11, 24...\n",
      "$ PRNAME                          <fctr> Alberta, British Columbia / Colomb...\n",
      "$ PRENAME                         <fctr> Alberta, British Columbia, Manitob...\n",
      "$ PRFNAME                         <fctr> Alberta, Colombie-Britannique, Man...\n",
      "$ PRFABBR                         <fctr> Alb., C.-B., Man., N.-B., T.-N.-L....\n",
      "$ Province                        <fctr> AB, BC, MB, NB, NL, NS, ON, PI, QC...\n",
      "$ TotalEmergencyBedsForFemales    <dbl> 134, 285, 0, 24, 8, 43, 1120, 0, 28...\n",
      "$ TotalProvincialPopulationFemale <dbl> 2117001, 2427673, 671339, 384250, 2...\n",
      "$ EmergencyBedsForFemalesPer100K  <dbl> 6, 12, 0, 6, 3, 9, 16, 0, 7, 42\n",
      "$ Year                            <dbl> 2017, 2017, 2017, 2017, 2017, 2017,...\n",
      "$ geometry                        <simple_feature> MULTIPOLYGON (((5228304....\n"
     ]
    },
    {
     "data": {
      "text/plain": [
       "[1] \"2018-08-05 21:05:29 AST\""
      ]
     },
     "metadata": {},
     "output_type": "display_data"
    }
   ],
   "source": [
    "Sys.time()\n",
    "glimpse(CanadaMap)\n",
    "Sys.time()"
   ]
  },
  {
   "cell_type": "code",
   "execution_count": 65,
   "metadata": {},
   "outputs": [
    {
     "data": {
      "text/plain": [
       "[1] \"2018-08-05 21:05:29 AST\""
      ]
     },
     "metadata": {},
     "output_type": "display_data"
    },
    {
     "data": {},
     "metadata": {},
     "output_type": "display_data"
    },
    {
     "data": {
      "text/plain": [
       "[1] \"2018-08-05 21:08:24 AST\""
      ]
     },
     "metadata": {},
     "output_type": "display_data"
    },
    {
     "data": {
      "image/png": "[encoded data removed]",
      "text/plain": [
       "plot without title"
      ]
     },
     "metadata": {},
     "output_type": "display_data"
    }
   ],
   "source": [
    "Sys.time()\n",
    "\n",
    "my_map_B0 <-\n",
    "  tm_shape(CanadaMap) +\n",
    "  tm_polygons(col = \"EmergencyBedsForFemalesPer100K\", palette = \"Purples\", style = \"order\") +\n",
    "  tm_legend(legend.outside = TRUE, legend.outside.position = \"bottom\") +\n",
    "  tm_text(text = \"EmergencyBedsForFemalesPer100K\", size = .6) + \n",
    "  tm_layout(frame = FALSE, \n",
    "            legend.show = FALSE,\n",
    "            main.title = \"Number of Emergency Homeless Beds at Female-Only Shelters\\nPer 100,000 Female Population, 2017\",\n",
    "            main.title.size = 1)\n",
    "\n",
    "my_map_B0\n",
    "\n",
    "Sys.time()"
   ]
  },
  {
   "cell_type": "code",
   "execution_count": 66,
   "metadata": {},
   "outputs": [],
   "source": [
    "# Sys.time()\n",
    "#   save_tmap(tm = my_map_B0, \n",
    "#             filename = \"Number of Emergency Homeless Beds at Female-Only Shelters Per 100,000 Female Population, 2017.png\")\n",
    "# Sys.time()"
   ]
  },
  {
   "cell_type": "markdown",
   "metadata": {},
   "source": [
    "# Main Script Ends Here"
   ]
  },
  {
   "cell_type": "code",
   "execution_count": 67,
   "metadata": {},
   "outputs": [
    {
     "data": {
      "text/plain": [
       "[1] \"2018-08-05 21:08:41 AST\""
      ]
     },
     "metadata": {},
     "output_type": "display_data"
    }
   ],
   "source": [
    "Sys.time()"
   ]
  },
  {
   "cell_type": "markdown",
   "metadata": {},
   "source": [
    "# Appendix 1 - Examples of common coding techniques"
   ]
  },
  {
   "cell_type": "code",
   "execution_count": 68,
   "metadata": {},
   "outputs": [],
   "source": [
    "# Example of how to read and filter a large csv file a chunk at a time, e.g. filter 50000 rows at a time into a new dataframe\n",
    "# This is very efficient, comparable to fread in speed but done in chunks to conserve memory\n",
    "# I also prefer it to fread because I can filter out rows with missing values as I import the data\n",
    "# and specify which columns I want to import \n",
    "# need readr library from tidyverse library\n",
    "\n",
    "\n",
    "# Sys.time() # start time for reading file\n",
    "# f <- function(x, pos) subset(x, \n",
    "#                             !is.na(Beds) # filter out any rows with missing values in the specified column in parenthesis\n",
    "#                             & Gender == \"Male\") # only include rows where the specified condition is met\n",
    "#                             & any other criteria for filtering\n",
    "# df <- read_csv_chunked(\"http://www.edsc-esdc.gc.ca/ouvert-open/hps/CDHPD-OpenDataNSPL-DataSet-20170804-ENFR.csv\", \n",
    "#                            DataFrameCallback$new(f), \n",
    "#                            chunk_size = 50000, # this is an adequate chunk size\n",
    "#                            # col_names = TRUE # this will keep original column names if you don't provide custom names\n",
    "#                                               # most of the time it's best to rename every column explicitly as shown below\n",
    "#                            col_names = c(\"ShelterType\", # this renames each column in order of the csv file to what you specify\n",
    "#                                          \"ProvinceCode\",\n",
    "#                                          \"City\",\n",
    "#                                          \"TargetPopulation\",\n",
    "#                                          \"Gender\",\n",
    "#                                          \"ShelterName\",\n",
    "#                                          \"Beds\"), # all other columns after this will be dropped if not included        \n",
    "#                            cols_only( # specify which columns with data types you want to include \n",
    "#                                       # to avoid importing unwanted data\n",
    "#                                       # include all columns that you specified above with col_names if you renamed them\n",
    "#                                \"ShelterType\" = col_character(),\n",
    "#                                \"ProvinceCode\" = col_character(),\n",
    "#                                \"City\" = col_character(),\n",
    "#                                \"TargetPopulation\" = col_character(),\n",
    "#                                \"Gender\" = col_character(),\n",
    "#                                \"ShelterName\" = col_character(),\n",
    "#                                \"Beds\" = col_number()),\n",
    "#                            skip = 1, # skip original column headers if you renamed them\n",
    "#                            trim_ws = TRUE) # trim leading and trailing whitespace for each data point\n",
    "# Sys.time() # end time for reading file"
   ]
  },
  {
   "cell_type": "code",
   "execution_count": 69,
   "metadata": {},
   "outputs": [],
   "source": [
    "# Example of how to read csv files quickly with fread while converting all chr variables to factors \n",
    "# need data.table library\n",
    "# Use fread when you are a lazy and know you won't have memory issues loading the entire dataset at once\n",
    "# or when you know you need to keep all information loaded into memory\n",
    "\n",
    "# df <- fread(\"DataFilesAOP/AB_Provincial_Detailed_Crime_Stats_2006-2011-2016.csv\", \n",
    "#            stringsAsFactors = TRUE, header = TRUE)"
   ]
  },
  {
   "cell_type": "code",
   "execution_count": 70,
   "metadata": {},
   "outputs": [],
   "source": [
    "# Example of how to write a dataframe to a csv file\n",
    "\n",
    "# write.csv(df, \n",
    "#           file = \"NS_Crime_Stats_Clean_Extract3.csv\",\n",
    "#           row.names = FALSE) # set row.name to FALSE to not include an index column in the csv output file"
   ]
  },
  {
   "cell_type": "code",
   "execution_count": 71,
   "metadata": {},
   "outputs": [],
   "source": [
    "# Example how to change all of the column names in a dataframe to something friendlier\n",
    "# You want to avoid special characters and spaces in column names to prevent problems with differnt packages and features\n",
    "# Provide new names in a character vector\n",
    "\n",
    "# colnames(df) <- c(\" \", \" \")"
   ]
  },
  {
   "cell_type": "code",
   "execution_count": 72,
   "metadata": {},
   "outputs": [],
   "source": [
    "# Example how to set the number of digits displayed in dataframes\n",
    "\n",
    "# options(digits=15) # set the visible number of digits to 15, useful when displaying GIS coordinates in dataframes\n",
    "# options(\"digits\") # display the max number of digits that appear in cells of a dataframe"
   ]
  },
  {
   "cell_type": "code",
   "execution_count": 73,
   "metadata": {},
   "outputs": [],
   "source": [
    "# Example of how to convert columns to the correct data types and how to delete columns from a dataframe\n",
    "\n",
    "# use as.numeric() and as.factor() where appropriate\n",
    "# df$column_name <- NULL will delete that column from the dataframe"
   ]
  },
  {
   "cell_type": "code",
   "execution_count": 74,
   "metadata": {},
   "outputs": [],
   "source": [
    "# Example of how to recode values of a column for rows meeting a condition\n",
    "\n",
    "# df$LATITUDE[df$GEO == \n",
    "#                          \"Amherst, Nova Scotia, municipal\"] <- 45.8338198\n",
    "# df$LONGITUDE[df$GEO == \n",
    "#                          \"Amherst, Nova Scotia, municipal\"] <- -64.2109455\n",
    "#\n",
    "# df$COUNTY[df$GEO ==\n",
    "#                          \"Amherst, Nova Scotia, municipal\"] <- \"Cumberland\""
   ]
  },
  {
   "cell_type": "code",
   "execution_count": 75,
   "metadata": {},
   "outputs": [],
   "source": [
    "# Example of how to filter a dataframe to rows where a specific string appears anywhere in a specific column\n",
    "# This example filters df to rows where \"MEP\" appears in the \"Contents\" column (need stringr library)\n",
    "\n",
    "# df_MEP <- df %>%\n",
    "#   filter(str_detect(Contents, \"MEP\"))"
   ]
  },
  {
   "cell_type": "code",
   "execution_count": 76,
   "metadata": {},
   "outputs": [],
   "source": [
    "# Example of how to handle dates - converting from timestamp to YYYYMMDD\n",
    "# This example is adequate if you really don't need a date field for arithmetic or plotting with ggplot2\n",
    "\n",
    "# parse out date and time from Timestamp\n",
    "# df <- \n",
    "#   separate(df, Timestamp, # e.g., \"01/01/2017 12:00:00 AM\"\n",
    "#           into = c(\"Date\", \"Time\", \"AMPM\"), sep = \" \")\n",
    "\n",
    "# parse out Month, Day, Year from Date\n",
    "# df <- \n",
    "#  separate(df, Date, \n",
    "#           into = c(\"Month\", \"Day\", \"Year\"), sep = \"/\")\n",
    "\n",
    "# Remove unwanted columns\n",
    "# df$Time <- NULL\n",
    "# df$AMPM <- NULL\n",
    "\n",
    "# unite the columns \"Year\", \"Month\", \"Day\" into a single column for \"YYYYMMDD\"\n",
    "# df <- \n",
    "#  unite_(df, \"YYYYMMDD\", c(\"Year\",\"Month\", \"Day\"), sep = \"\")\n",
    "\n",
    "# sort by date in decreasing order\n",
    "# df <- df[order(df$YYYYMMDD, decreasing = TRUE), ]"
   ]
  },
  {
   "cell_type": "code",
   "execution_count": 77,
   "metadata": {},
   "outputs": [],
   "source": [
    "# Use the lubridate library if arithmetic is important when working with date and time data\n",
    "# In my opinion, the lubridate functions are more complicated than my current needs, so I prefer my approach above\n",
    "# for handling dates/times\n",
    "\n",
    "# https://lubridate.tidyverse.org/\n",
    "# https://rawgit.com/rstudio/cheatsheets/master/lubridate.pdf"
   ]
  },
  {
   "cell_type": "code",
   "execution_count": 78,
   "metadata": {},
   "outputs": [],
   "source": [
    "# Example of how to subset and retain only selected characters from a cell\n",
    "# This is useful if you want to strip out useless characters in a cell given a start and end position to retain\n",
    "# need stringr library\n",
    "\n",
    "# df$gps <- \n",
    "#   str_sub(df$gps, start = 3, end = -2) \n",
    "\n",
    "# this gets rid of the first 3 characters and the last two characters\n",
    "# you can get an accurate count of characters when viewing them with glimpse(df)"
   ]
  },
  {
   "cell_type": "code",
   "execution_count": 79,
   "metadata": {},
   "outputs": [],
   "source": [
    "# Example how to merge two dataframes on common column names\n",
    "# https://stackoverflow.com/questions/1299871/how-to-join-merge-data-frames-inner-outer-left-right\n",
    "\n",
    "# CanadaMap <- merge(CanadaMap, df_Provincial) # join the two dataframes, merge will use the common column name to join with"
   ]
  },
  {
   "cell_type": "code",
   "execution_count": 80,
   "metadata": {},
   "outputs": [],
   "source": [
    "# Example of how to combine two or more dataframes vertically with the same column names\n",
    "\n",
    "# df4 <- rblind(df1, df2, df3)"
   ]
  },
  {
   "cell_type": "code",
   "execution_count": 81,
   "metadata": {},
   "outputs": [],
   "source": [
    "# Example of how to combine two or more dataframes horizontally with the same number of rows but different columns\n",
    "\n",
    "# df4 <- cbind(df1, df2, df3)"
   ]
  },
  {
   "cell_type": "code",
   "execution_count": 82,
   "metadata": {},
   "outputs": [],
   "source": [
    "# Example of how to create a new column that takes on values by performing arithmetic on existing columns \n",
    "# need dplyr and tidyverse library\n",
    "# This example creates a new column that divides one column by another and mutliplies the result by a constant\n",
    "\n",
    "# NSMAP2011 <- NSMAP2011 %>%\n",
    "#   mutate(PropertyCrimeCountyRatePer100K = PropertyCrimeIncidentsPerCounty/CountyPopulation * 100000)"
   ]
  },
  {
   "cell_type": "code",
   "execution_count": 83,
   "metadata": {},
   "outputs": [],
   "source": [
    "# Example of how to order a dataframe by a column in descening order\n",
    "# a \"-\" in front of the column name will sort it in descending (largest to lowest) order\n",
    "\n",
    "# df <- \n",
    "#  df[with(df, order(-Incidents_Total)), ]\n",
    "\n",
    "\n",
    "# adding multiple column names will prioritize ordering in that sequence\n",
    "\n",
    "# df <- \n",
    "#  df[with(df, order(REGION, COUNTY, GEO, Violations, Statistics)), ]\n",
    "\n",
    "#--------------------\n",
    "# Alternatively, you can also use the following:\n",
    "# sort by date in decreasing order\n",
    "# df <- df[order(df$YYYYMMDD, decreasing = TRUE), ]"
   ]
  },
  {
   "cell_type": "code",
   "execution_count": 84,
   "metadata": {},
   "outputs": [],
   "source": [
    "# Before spreading data for tidy format, make sure to remove any special characters beforehand\n",
    "# This ensures that after spreading the data, the column names are all properly formatted\n",
    "# Properly formated column names will always appear flushed next to the dollar sign when glimpsing a dataframe\n",
    "# If spaces or special characters are present in the column name, they will appear within single quotes after the dollar sign\n",
    "# when glimpsing the dataframe after spreading the data\n",
    "\n",
    "# df_health$Indicators <- gsub(\" \", \"_\", df_health$Indicators)\n",
    "# df_health$Indicators <- gsub(\",\", \"\", df_health$Indicators)\n",
    "# df_health$Indicators <- gsub(\";\", \"\", df_health$Indicators)\n",
    "# df_health$Indicators <- gsub(\"-\", \"_\", df_health$Indicators)\n",
    "# df_health$Indicators <- gsub(\"\\\\(\", \"\", df_health$Indicators) # this removes left parenthesis\n",
    "# df_health$Indicators <- gsub(\"\\\\)\", \"\", df_health$Indicators) # this removes right parenthesis\n",
    "\n",
    "# df_health <- df_health %>%\n",
    "#   spread(Indicators, Value)"
   ]
  },
  {
   "cell_type": "code",
   "execution_count": 85,
   "metadata": {},
   "outputs": [],
   "source": [
    "# Example of how to load a shapefile for mapping \n",
    "# need sf library\n",
    "\n",
    "# NS <- st_read(\"GIS_Nova_Scotia/Counties_GCS.shp\")"
   ]
  },
  {
   "cell_type": "code",
   "execution_count": 86,
   "metadata": {},
   "outputs": [],
   "source": [
    "# Example how to convert a dataframe of lats/longs to a an sf dataframe for points spatial data \n",
    "# need sf library\n",
    "\n",
    "# pts <- st_as_sf(df, coords = c(\"LONGITUDE\", \"LATITUDE\"), crs = 4269) # create sf object called \"pts\" from df\n",
    "# class(pts)\n",
    "# glimpse(pts) # LONGITUDE and LATITUDE columns are replaced with a geometry column for point data"
   ]
  },
  {
   "cell_type": "code",
   "execution_count": 87,
   "metadata": {},
   "outputs": [],
   "source": [
    "# Example how to add custom icons for points spatial data \n",
    "# need sf library and tmap library\n",
    "\n",
    "# Using custom icons for points instead of bubbles\n",
    "\n",
    "# file <- \"DataFilesGeneral/flower_960_720.png\"  \n",
    "# flower_icon <- tmap_icons(file, width = 48, height = 48, keep.asp = TRUE,\n",
    "#   just = c(\"center\", \"center\"), as.local = TRUE)\n",
    "\n",
    "# my_map_2 <- my_map_0 +\n",
    "#   tm_shape(pts) +\n",
    "#   tm_symbols(\"VALUE\", shape = flower_icon, size = .3, alpha = .2, border.alpha = 0) \n",
    "# my_map_2"
   ]
  },
  {
   "cell_type": "markdown",
   "metadata": {},
   "source": [
    "# Appendix 2 - Note regarding preferred way for installing packages"
   ]
  },
  {
   "cell_type": "code",
   "execution_count": 88,
   "metadata": {},
   "outputs": [],
   "source": [
    "# Preferrably, install new packages via Anaconda Prompt > conda install r-package_name\n",
    "# Try to only use library() in notebook instead of install.packages()\n",
    "# this is more reliable than using install.packages(\"package name\") in R script\n",
    "# Anaconda Prompt > conda list shows what packages are installed\n",
    "\n",
    "# However, when the above isn't true for some reason, it is noted below\n",
    "# e.g., tmap must be installed through install.packages(\"tmap\")"
   ]
  }
 ],
 "metadata": {
  "kernelspec": {
   "display_name": "R",
   "language": "R",
   "name": "ir"
  },
  "language_info": {
   "codemirror_mode": "r",
   "file_extension": ".r",
   "mimetype": "text/x-r-source",
   "name": "R",
   "pygments_lexer": "r",
   "version": "3.4.3"
  }
 },
 "nbformat": 4,
 "nbformat_minor": 2
}
