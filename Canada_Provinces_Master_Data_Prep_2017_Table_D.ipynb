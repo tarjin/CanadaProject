{
 "cells": [
  {
   "cell_type": "code",
   "execution_count": 30,
   "metadata": {},
   "outputs": [
    {
     "data": {
      "text/plain": [
       "[1] \"2018-08-07 19:28:01 AST\""
      ]
     },
     "metadata": {},
     "output_type": "display_data"
    }
   ],
   "source": [
    "# Must run this notebook from root directory in Anaconda for relative local file paths to work\n",
    "\n",
    "Sys.time() # script start time"
   ]
  },
  {
   "cell_type": "markdown",
   "metadata": {},
   "source": [
    "# Install and attach packages"
   ]
  },
  {
   "cell_type": "code",
   "execution_count": 31,
   "metadata": {},
   "outputs": [],
   "source": [
    "# See note at the end of this notebook regarding the preferred way of installing packages"
   ]
  },
  {
   "cell_type": "code",
   "execution_count": 32,
   "metadata": {},
   "outputs": [],
   "source": [
    "library(tidyverse)"
   ]
  },
  {
   "cell_type": "code",
   "execution_count": 33,
   "metadata": {},
   "outputs": [],
   "source": [
    "library(data.table)"
   ]
  },
  {
   "cell_type": "code",
   "execution_count": 34,
   "metadata": {},
   "outputs": [],
   "source": [
    "library(stringr)"
   ]
  },
  {
   "cell_type": "code",
   "execution_count": 35,
   "metadata": {},
   "outputs": [],
   "source": [
    "library(sf) # needed for mapping"
   ]
  },
  {
   "cell_type": "code",
   "execution_count": 36,
   "metadata": {},
   "outputs": [],
   "source": [
    "# install.packages(\"tmap\")\n",
    "# this for some reason can only be installed via install.packages(), but only has to be done once in your environment"
   ]
  },
  {
   "cell_type": "code",
   "execution_count": 37,
   "metadata": {},
   "outputs": [],
   "source": [
    "library(tmap) # needed for mapping"
   ]
  },
  {
   "cell_type": "code",
   "execution_count": 38,
   "metadata": {},
   "outputs": [],
   "source": [
    "# Set default options to display more digits, useful for gps coordinates"
   ]
  },
  {
   "cell_type": "code",
   "execution_count": 39,
   "metadata": {},
   "outputs": [],
   "source": [
    "options(digits=15) # set the visible number of digits to 15, useful when displaying GIS coordinates in dataframes"
   ]
  },
  {
   "cell_type": "code",
   "execution_count": 40,
   "metadata": {},
   "outputs": [
    {
     "data": {
      "text/html": [
       "<strong>$digits</strong> = 15"
      ],
      "text/latex": [
       "\\textbf{\\$digits} = 15"
      ],
      "text/markdown": [
       "**$digits** = 15"
      ],
      "text/plain": [
       "$digits\n",
       "[1] 15\n"
      ]
     },
     "metadata": {},
     "output_type": "display_data"
    }
   ],
   "source": [
    "options(\"digits\") # display the max number of digits that appear in cells of a dataframe"
   ]
  },
  {
   "cell_type": "code",
   "execution_count": 41,
   "metadata": {},
   "outputs": [
    {
     "data": {
      "text/plain": [
       "R version 3.4.3 (2017-11-30)\n",
       "Platform: x86_64-w64-mingw32/x64 (64-bit)\n",
       "Running under: Windows 10 x64 (build 17134)\n",
       "\n",
       "Matrix products: default\n",
       "\n",
       "locale:\n",
       "[1] LC_COLLATE=English_Canada.1252  LC_CTYPE=English_Canada.1252   \n",
       "[3] LC_MONETARY=English_Canada.1252 LC_NUMERIC=C                   \n",
       "[5] LC_TIME=English_Canada.1252    \n",
       "\n",
       "attached base packages:\n",
       "[1] stats     graphics  grDevices utils     datasets  methods   base     \n",
       "\n",
       "other attached packages:\n",
       " [1] bindrcpp_0.2         tmap_1.10            sf_0.5-5            \n",
       " [4] data.table_1.10.4-3  forcats_0.2.0        stringr_1.2.0       \n",
       " [7] dplyr_0.7.4          purrr_0.2.4          readr_1.1.1         \n",
       "[10] tidyr_0.7.2          tibble_1.4.1         ggplot2_2.2.1       \n",
       "[13] tidyverse_1.2.1      RevoUtils_10.0.8     RevoUtilsMath_10.0.1\n",
       "\n",
       "loaded via a namespace (and not attached):\n",
       "  [1] colorspace_1.3-2   deldir_0.1-14      class_7.3-14      \n",
       "  [4] gdalUtils_2.0.1.7  leaflet_1.1.0      rgdal_1.2-8       \n",
       "  [7] satellite_1.0.0    IRdisplay_0.4.4    base64enc_0.1-3   \n",
       " [10] dichromat_2.0-0    rstudioapi_0.7     lubridate_1.7.1   \n",
       " [13] xml2_1.1.1         R.methodsS3_1.7.1  codetools_0.2-15  \n",
       " [16] splines_3.4.3      mnormt_1.5-5       geojsonlint_0.2.0 \n",
       " [19] IRkernel_0.8.11    jsonlite_1.5       tmaptools_1.2-1   \n",
       " [22] broom_0.4.3        png_0.1-7          R.oo_1.21.0       \n",
       " [25] rgeos_0.3-23       shiny_1.0.5        compiler_3.4.3    \n",
       " [28] httr_1.3.1         mapview_2.1.4      assertthat_0.2.0  \n",
       " [31] Matrix_1.2-12      lazyeval_0.2.1     cli_1.0.0         \n",
       " [34] htmltools_0.3.6    tools_3.4.3        coda_0.19-1       \n",
       " [37] gtable_0.2.0       glue_1.2.0         reshape2_1.4.3    \n",
       " [40] gmodels_2.16.2     V8_1.5             Rcpp_0.12.14      \n",
       " [43] cellranger_1.1.0   raster_2.5-8       spdep_0.6-13      \n",
       " [46] gdata_2.18.0       nlme_3.1-131       udunits2_0.13     \n",
       " [49] iterators_1.0.9    crosstalk_1.0.0    psych_1.7.8       \n",
       " [52] rvest_0.3.2        mime_0.5           gtools_3.5.0      \n",
       " [55] XML_3.98-1.9       LearnBayes_2.15    MASS_7.3-47       \n",
       " [58] scales_0.5.0       hms_0.4.0          parallel_3.4.3    \n",
       " [61] expm_0.999-2       RColorBrewer_1.1-2 curl_3.1          \n",
       " [64] geosphere_1.5-5    stringi_1.1.6      jsonvalidate_1.0.0\n",
       " [67] foreach_1.4.5      e1071_1.6-8        boot_1.3-20       \n",
       " [70] repr_0.12.0        rlang_0.1.6        pkgconfig_2.0.1   \n",
       " [73] bitops_1.0-6       evaluate_0.10.1    lattice_0.20-35   \n",
       " [76] bindr_0.1          htmlwidgets_0.9    osmar_1.1-7       \n",
       " [79] plyr_1.8.4         magrittr_1.5       R6_2.2.2          \n",
       " [82] pbdZMQ_0.2-6       DBI_0.7            pillar_1.0.1      \n",
       " [85] haven_1.1.0        foreign_0.8-69     units_0.4-6       \n",
       " [88] RCurl_1.95-4.8     sp_1.2-5           modelr_0.1.1      \n",
       " [91] crayon_1.3.4       rmapshaper_0.3.0   uuid_0.1-2        \n",
       " [94] KernSmooth_2.23-15 grid_3.4.3         readxl_1.0.0      \n",
       " [97] webshot_0.4.1      digest_0.6.13      classInt_0.1-24   \n",
       "[100] xtable_1.8-2       httpuv_1.3.5       R.utils_2.5.0     \n",
       "[103] stats4_3.4.3       munsell_0.4.3      viridisLite_0.2.0 "
      ]
     },
     "metadata": {},
     "output_type": "display_data"
    }
   ],
   "source": [
    "sessionInfo()"
   ]
  },
  {
   "cell_type": "markdown",
   "metadata": {},
   "source": [
    "# Main Script Begins Here"
   ]
  },
  {
   "cell_type": "markdown",
   "metadata": {},
   "source": [
    "## 3. Number of Emergency Homeless Beds at Non-Gender Specific Shelters Per 100,000 Population, 2017"
   ]
  },
  {
   "cell_type": "code",
   "execution_count": 42,
   "metadata": {},
   "outputs": [
    {
     "data": {
      "text/plain": [
       "[1] \"2018-08-07 19:28:03 AST\""
      ]
     },
     "metadata": {},
     "output_type": "display_data"
    }
   ],
   "source": [
    "Sys.time() # script start time from body"
   ]
  },
  {
   "cell_type": "code",
   "execution_count": 43,
   "metadata": {},
   "outputs": [],
   "source": [
    "# Import and clean data before analysis"
   ]
  },
  {
   "cell_type": "code",
   "execution_count": 44,
   "metadata": {},
   "outputs": [
    {
     "data": {
      "text/plain": [
       "[1] \"2018-08-07 19:28:03 AST\""
      ]
     },
     "metadata": {},
     "output_type": "display_data"
    },
    {
     "data": {
      "text/plain": [
       "[1] \"2018-08-07 19:28:05 AST\""
      ]
     },
     "metadata": {},
     "output_type": "display_data"
    }
   ],
   "source": [
    "# Import dataset\n",
    "# Homeless Shelters in Canada\n",
    "# Source: https://open.canada.ca/data/en/dataset/7e0189e3-8595-4e62-a4e9-4fed6f265e10\n",
    "# See also: http://publications.gc.ca/collections/collection_2018/edsc-esdc/Em20-91-2018-eng.pdf\n",
    "\n",
    "\n",
    "Sys.time() # start time for reading file\n",
    "f <- function(x, pos) subset(x, \n",
    "                            !is.na(Beds)) # filter out any rows with missing values in the specified column in parenthesis\n",
    "#                           & City == \"Halifax\") # only include rows where the specified condition is met\n",
    "#                           & any other criteria for filtering\n",
    "df <- read_csv_chunked(\"http://www.edsc-esdc.gc.ca/ouvert-open/hps/CDHPD-OpenDataNSPL-DataSet-20170804-ENFR.csv\", \n",
    "                           DataFrameCallback$new(f), \n",
    "                           chunk_size = 50000, # this is an adequate chunk size\n",
    "                           col_names = c(\"ShelterType\", # this renames each column in order to what you specify\n",
    "                                         \"Province\",\n",
    "                                         \"City\",\n",
    "                                         \"TargetPopulation\",\n",
    "                                         \"Gender\",\n",
    "                                         \"ShelterName\",\n",
    "                                         \"Beds\"), # all other columns after this will be dropped\n",
    "                           cols_only( # specify which columns with data types you want to include \n",
    "                                      # to avoid importing unwanted data\n",
    "                                      # include all columns that you specified above with col_names\n",
    "                               \"ShelterType\" = col_character(),\n",
    "                               \"Province\" = col_character(),\n",
    "                               \"City\" = col_character(),\n",
    "                               \"TargetPopulation\" = col_character(),\n",
    "                               \"Gender\" = col_character(),\n",
    "                               \"ShelterName\" = col_character(),\n",
    "                               \"Beds\" = col_number()),\n",
    "                           skip = 1, # skip original column headers\n",
    "                           trim_ws = TRUE) # trim leading and trailing whitespace for each data point\n",
    "Sys.time() # end time for reading file"
   ]
  },
  {
   "cell_type": "code",
   "execution_count": 45,
   "metadata": {},
   "outputs": [
    {
     "name": "stdout",
     "output_type": "stream",
     "text": [
      "Observations: 687\n",
      "Variables: 7\n",
      "$ ShelterType      <chr> \"Emergency\", \"Emergency\", \"Emergency\", \"Emergency\"...\n",
      "$ Province         <chr> \"AB\", \"AB\", \"AB\", \"AB\", \"AB\", \"AB\", \"AB\", \"AB\", \"A...\n",
      "$ City             <chr> \"Calgary\", \"Calgary\", \"Calgary\", \"Calgary\", \"Calga...\n",
      "$ TargetPopulation <chr> \"Family\", \"General\", \"General\", \"General\", \"Genera...\n",
      "$ Gender           <chr> \"Both\", \"Both\", \"Both\", \"Both\", \"Both\", \"Both\", \"F...\n",
      "$ ShelterName      <chr> \"Brenda's House\", \"Calgary Alpha House\", \"Calgary ...\n",
      "$ Beds             <dbl> 60, 120, 270, 975, 11, 370, 12, 6, 80, 25, 15, 5, ...\n"
     ]
    }
   ],
   "source": [
    "glimpse(df)"
   ]
  },
  {
   "cell_type": "code",
   "execution_count": 46,
   "metadata": {},
   "outputs": [],
   "source": [
    "# drop the territories\n",
    "\n",
    "df <- df %>%\n",
    "  filter(!Province %in% c(\"NT\", \"NU\", \"YT\")) %>%\n",
    "  filter(ShelterType == \"Emergency\") %>%\n",
    "  filter(Gender == \"Both\")"
   ]
  },
  {
   "cell_type": "code",
   "execution_count": 47,
   "metadata": {},
   "outputs": [
    {
     "data": {
      "text/html": [
       "<ol class=list-inline>\n",
       "\t<li>'AB'</li>\n",
       "\t<li>'BC'</li>\n",
       "\t<li>'MB'</li>\n",
       "\t<li>'NB'</li>\n",
       "\t<li>'NL'</li>\n",
       "\t<li>'NS'</li>\n",
       "\t<li>'ON'</li>\n",
       "\t<li>'QC'</li>\n",
       "\t<li>'SK'</li>\n",
       "</ol>\n"
      ],
      "text/latex": [
       "\\begin{enumerate*}\n",
       "\\item 'AB'\n",
       "\\item 'BC'\n",
       "\\item 'MB'\n",
       "\\item 'NB'\n",
       "\\item 'NL'\n",
       "\\item 'NS'\n",
       "\\item 'ON'\n",
       "\\item 'QC'\n",
       "\\item 'SK'\n",
       "\\end{enumerate*}\n"
      ],
      "text/markdown": [
       "1. 'AB'\n",
       "2. 'BC'\n",
       "3. 'MB'\n",
       "4. 'NB'\n",
       "5. 'NL'\n",
       "6. 'NS'\n",
       "7. 'ON'\n",
       "8. 'QC'\n",
       "9. 'SK'\n",
       "\n",
       "\n"
      ],
      "text/plain": [
       "[1] \"AB\" \"BC\" \"MB\" \"NB\" \"NL\" \"NS\" \"ON\" \"QC\" \"SK\""
      ]
     },
     "metadata": {},
     "output_type": "display_data"
    }
   ],
   "source": [
    "unique(df$Province)"
   ]
  },
  {
   "cell_type": "code",
   "execution_count": 48,
   "metadata": {},
   "outputs": [],
   "source": [
    "# Always rename the columns to remove spaces and special characters if you haven't already from read_csv_chunked\n",
    "# This avoids any potential problems R may encounter with different packages if not taken care of properly right away\n",
    "\n",
    "# colnames(df) <- c(\" \", \" \")"
   ]
  },
  {
   "cell_type": "code",
   "execution_count": 49,
   "metadata": {},
   "outputs": [],
   "source": [
    "# Always set the variable types next for each column and drop any unnecessary columns\n",
    "# if you haven't already from read_csv_chunked, or need to change characters to factors\n",
    "# use as.numeric() and as.factor() where appropriate\n",
    "# df$column_name <- NULL will delete that column from the dataframe\n",
    "\n",
    "df$ShelterType <- as.factor(df$ShelterType)\n",
    "df$Province <- as.factor(df$Province)\n",
    "df$City <- as.factor(df$City)\n",
    "df$TargetPopulation <- as.factor(df$TargetPopulation)\n",
    "df$Gender <- as.factor(df$Gender)"
   ]
  },
  {
   "cell_type": "code",
   "execution_count": 50,
   "metadata": {},
   "outputs": [
    {
     "name": "stdout",
     "output_type": "stream",
     "text": [
      "Observations: 237\n",
      "Variables: 7\n",
      "$ ShelterType      <fctr> Emergency, Emergency, Emergency, Emergency, Emerg...\n",
      "$ Province         <fctr> AB, AB, AB, AB, AB, AB, AB, AB, AB, AB, AB, AB, A...\n",
      "$ City             <fctr> Calgary, Calgary, Calgary, Calgary, Calgary, Calg...\n",
      "$ TargetPopulation <fctr> Family, General, General, General, General, Gener...\n",
      "$ Gender           <fctr> Both, Both, Both, Both, Both, Both, Both, Both, B...\n",
      "$ ShelterName      <chr> \"Brenda's House\", \"Calgary Alpha House\", \"Calgary ...\n",
      "$ Beds             <dbl> 60, 120, 270, 975, 11, 370, 25, 15, 5, 27, 60, 70,...\n"
     ]
    },
    {
     "data": {
      "text/html": [
       "<table>\n",
       "<thead><tr><th scope=col>ShelterType</th><th scope=col>Province</th><th scope=col>City</th><th scope=col>TargetPopulation</th><th scope=col>Gender</th><th scope=col>ShelterName</th><th scope=col>Beds</th></tr></thead>\n",
       "<tbody>\n",
       "\t<tr><td>Emergency                                    </td><td>AB                                           </td><td>Calgary                                      </td><td>Family                                       </td><td>Both                                         </td><td>Brenda's House                               </td><td> 60                                          </td></tr>\n",
       "\t<tr><td>Emergency                                    </td><td>AB                                           </td><td>Calgary                                      </td><td>General                                      </td><td>Both                                         </td><td>Calgary Alpha House                          </td><td>120                                          </td></tr>\n",
       "\t<tr><td>Emergency                                    </td><td>AB                                           </td><td>Calgary                                      </td><td>General                                      </td><td>Both                                         </td><td>Calgary Drop In Centre - Centre 2507         </td><td>270                                          </td></tr>\n",
       "\t<tr><td>Emergency                                    </td><td>AB                                           </td><td>Calgary                                      </td><td>General                                      </td><td>Both                                         </td><td>Drop In and Rehab Centre                     </td><td>975                                          </td></tr>\n",
       "\t<tr><td>Emergency                                    </td><td>AB                                           </td><td>Calgary                                      </td><td>General                                      </td><td>Both                                         </td><td>Kerby Rotary Shelter                         </td><td> 11                                          </td></tr>\n",
       "\t<tr><td>Emergency                                    </td><td>AB                                           </td><td>Calgary                                      </td><td>General                                      </td><td>Both                                         </td><td>The Mustard Seed Shelter                     </td><td>370                                          </td></tr>\n",
       "\t<tr><td>Emergency                                    </td><td>AB                                           </td><td>Calgary                                      </td><td>Youth                                        </td><td>Both                                         </td><td>Boys and Girls Club - Avenue 15 Youth Shelter</td><td> 25                                          </td></tr>\n",
       "\t<tr><td>Emergency                                    </td><td>AB                                           </td><td>Calgary                                      </td><td>Youth                                        </td><td>Both                                         </td><td>EXIT Youth Shelter                           </td><td> 15                                          </td></tr>\n",
       "\t<tr><td>Emergency                                    </td><td>AB                                           </td><td>Calgary                                      </td><td>Youth                                        </td><td>Both                                         </td><td>Mcman - Wellington Place Refuge d'urgence    </td><td>  5                                          </td></tr>\n",
       "\t<tr><td>Emergency                                    </td><td>AB                                           </td><td>Edmonton                                     </td><td>General                                      </td><td>Both                                         </td><td>George Spady Centre Detox                    </td><td> 27                                          </td></tr>\n",
       "\t<tr><td>Emergency                                    </td><td>AB                                           </td><td>Edmonton                                     </td><td>General                                      </td><td>Both                                         </td><td>George Spady Centre Overnight Shelter        </td><td> 60                                          </td></tr>\n",
       "\t<tr><td>Emergency                                    </td><td>AB                                           </td><td>Edmonton                                     </td><td>General                                      </td><td>Both                                         </td><td>Hope Mission - Intox                         </td><td> 70                                          </td></tr>\n",
       "\t<tr><td>Emergency                                    </td><td>AB                                           </td><td>Edmonton                                     </td><td>General                                      </td><td>Both                                         </td><td>Hope Mission - Mat Program                   </td><td>150                                          </td></tr>\n",
       "\t<tr><td>Emergency                                    </td><td>AB                                           </td><td>Edmonton                                     </td><td>Youth                                        </td><td>Both                                         </td><td>Hope Mission - Youth Shelter                 </td><td> 70                                          </td></tr>\n",
       "\t<tr><td>Emergency                                    </td><td>AB                                           </td><td>Edmonton                                     </td><td>Youth                                        </td><td>Both                                         </td><td>Youth Refuge d'urgence Shelter Edmonton      </td><td> 18                                          </td></tr>\n",
       "\t<tr><td>Emergency                                    </td><td>AB                                           </td><td>Grande Prairie                               </td><td>General                                      </td><td>Both                                         </td><td>Rotary House                                 </td><td> 92                                          </td></tr>\n",
       "\t<tr><td>Emergency                                    </td><td>AB                                           </td><td>Grande Prairie                               </td><td>Youth                                        </td><td>Both                                         </td><td>Sunrise House                                </td><td> 14                                          </td></tr>\n",
       "\t<tr><td>Emergency                                    </td><td>AB                                           </td><td>High Level                                   </td><td>General                                      </td><td>Both                                         </td><td>10005 House                                  </td><td> 20                                          </td></tr>\n",
       "\t<tr><td>Emergency                                    </td><td>AB                                           </td><td>Lethbridge                                   </td><td>General                                      </td><td>Both                                         </td><td>Lethbridge Shelter and Resource Centre       </td><td> 80                                          </td></tr>\n",
       "\t<tr><td>Emergency                                    </td><td>AB                                           </td><td>Lethbridge                                   </td><td>Youth                                        </td><td>Both                                         </td><td>Refuge d'urgence Youth Shelter               </td><td> 14                                          </td></tr>\n",
       "\t<tr><td>Emergency                                    </td><td>AB                                           </td><td>Medicine Hat                                 </td><td>General                                      </td><td>Both                                         </td><td>Family Support Centre                        </td><td> 30                                          </td></tr>\n",
       "\t<tr><td>Emergency                                    </td><td>AB                                           </td><td>Medicine Hat                                 </td><td>Youth                                        </td><td>Both                                         </td><td>Mcman - Inn Between Youth Shelter            </td><td>  6                                          </td></tr>\n",
       "\t<tr><td>Emergency                                    </td><td>AB                                           </td><td>Red Deer                                     </td><td>General                                      </td><td>Both                                         </td><td>CASHS Mat program                            </td><td> 26                                          </td></tr>\n",
       "\t<tr><td>Emergency                                    </td><td>AB                                           </td><td>Red Deer                                     </td><td>General                                      </td><td>Both                                         </td><td>CASHS Peoples Place                          </td><td> 35                                          </td></tr>\n",
       "\t<tr><td>Emergency                                    </td><td>AB                                           </td><td>Red Deer                                     </td><td>Youth                                        </td><td>Both                                         </td><td>49th Street Youth Shelter                    </td><td>  8                                          </td></tr>\n",
       "\t<tr><td>Emergency                                    </td><td>AB                                           </td><td>Wood Buffalo                                 </td><td>General                                      </td><td>Both                                         </td><td>Fort McMurray Mat Program                    </td><td> 10                                          </td></tr>\n",
       "\t<tr><td>Emergency                                    </td><td>AB                                           </td><td>Wood Buffalo                                 </td><td>General                                      </td><td>Both                                         </td><td>Marshall House Refuge d'urgence              </td><td> 70                                          </td></tr>\n",
       "\t<tr><td>Emergency                                    </td><td>AB                                           </td><td>Wood Buffalo                                 </td><td>Youth                                        </td><td>Both                                         </td><td>Stepping Stones Youth Home                   </td><td>  8                                          </td></tr>\n",
       "\t<tr><td>Emergency                                    </td><td>BC                                           </td><td>Abbotsford                                   </td><td>General                                      </td><td>Both                                         </td><td>Abbotsford Centre of Hope Refuge d'urgence   </td><td> 20                                          </td></tr>\n",
       "\t<tr><td>Emergency                                    </td><td>BC                                           </td><td>Abbotsford                                   </td><td>Youth                                        </td><td>Both                                         </td><td>Cyrus Centre: Refuge d'urgence Youth Shelter </td><td> 14                                          </td></tr>\n",
       "\t<tr><td>...</td><td>...</td><td>...</td><td>...</td><td>...</td><td>...</td><td>...</td></tr>\n",
       "\t<tr><td>Emergency                                              </td><td>QC                                                     </td><td>Montreal                                               </td><td>Youth                                                  </td><td>Both                                                   </td><td>Ressources jeunesse de St-Laurent - Refuge d'urgence   </td><td>11                                                     </td></tr>\n",
       "\t<tr><td>Emergency                                                                                            </td><td>QC                                                                                                   </td><td><span style=white-space:pre-wrap>Montreal                   </span>                                  </td><td><span style=white-space:pre-wrap>Youth  </span>                                                      </td><td>Both                                                                                                 </td><td><span style=white-space:pre-wrap>Service d'h&lt;e9&gt;bergement St-Denis                      </span></td><td> 9                                                                                                   </td></tr>\n",
       "\t<tr><td>Emergency                                              </td><td>QC                                                     </td><td>Montreal                                               </td><td>Youth                                                  </td><td>Both                                                   </td><td>The Bunker                                             </td><td>20                                                     </td></tr>\n",
       "\t<tr><td>Emergency                                              </td><td>QC                                                     </td><td>Quebec City                                            </td><td>General                                                </td><td>Both                                                   </td><td>Maison de JOB                                          </td><td>16                                                     </td></tr>\n",
       "\t<tr><td>Emergency                                                                                            </td><td>QC                                                                                                   </td><td><span style=white-space:pre-wrap>Quebec City                </span>                                  </td><td>General                                                                                              </td><td>Both                                                                                                 </td><td><span style=white-space:pre-wrap>L'Archipel d'Entraide Accroche-To&lt;ee&gt;t                 </span></td><td> 6                                                                                                   </td></tr>\n",
       "\t<tr><td>Emergency                                              </td><td>QC                                                     </td><td>Quebec City                                            </td><td>General                                                </td><td>Both                                                   </td><td>Maison Revivre                                         </td><td>30                                                     </td></tr>\n",
       "\t<tr><td>Emergency                                              </td><td>QC                                                     </td><td>Rouyn-Noranda                                          </td><td>General                                                </td><td>Both                                                   </td><td>Maison du Soleil Levant                                </td><td>15                                                     </td></tr>\n",
       "\t<tr><td>Emergency                                              </td><td>QC                                                     </td><td>Saguenay                                               </td><td>General                                                </td><td>Both                                                   </td><td>Maison d'accueil pour sans-abri de Chicoutimi          </td><td>20                                                     </td></tr>\n",
       "\t<tr><td>Emergency                                                                                                  </td><td>QC                                                                                                         </td><td><span style=white-space:pre-wrap>Saguenay                   </span>                                        </td><td>General                                                                                                    </td><td>Both                                                                                                       </td><td><span style=white-space:pre-wrap>Maison d'H&lt;e9&gt;bergement Le S&lt;e9&gt;jour Inc.              </span></td><td>25                                                                                                         </td></tr>\n",
       "\t<tr><td>Emergency                                                                                            </td><td>QC                                                                                                   </td><td>Saint-Eug&lt;ea&gt;nes-de-Guigues                                                                    </td><td>General                                                                                              </td><td>Both                                                                                                 </td><td><span style=white-space:pre-wrap>Le Centre G&lt;e9&gt;rard-Brisson                            </span></td><td>14                                                                                                   </td></tr>\n",
       "\t<tr><td>Emergency                                              </td><td>QC                                                     </td><td>Saint-Eustache                                         </td><td>Youth                                                  </td><td>Both                                                   </td><td>L'Accueil                                              </td><td> 9                                                     </td></tr>\n",
       "\t<tr><td>Emergency                                                                                            </td><td>QC                                                                                                   </td><td><span style=white-space:pre-wrap>Saint-Eustache             </span>                                  </td><td><span style=white-space:pre-wrap>Youth  </span>                                                      </td><td>Both                                                                                                 </td><td><span style=white-space:pre-wrap>Le Pr&lt;e9&gt;fixe                                          </span></td><td> 6                                                                                                   </td></tr>\n",
       "\t<tr><td>Emergency                                                                                            </td><td>QC                                                                                                   </td><td><span style=white-space:pre-wrap>Saint-Eustache             </span>                                  </td><td><span style=white-space:pre-wrap>Youth  </span>                                                      </td><td>Both                                                                                                 </td><td><span style=white-space:pre-wrap>Le R&lt;e9&gt;pit                                            </span></td><td> 6                                                                                                   </td></tr>\n",
       "\t<tr><td>Emergency                                                                                                  </td><td>QC                                                                                                         </td><td><span style=white-space:pre-wrap>Saint-J&lt;e9&gt;r&lt;f4&gt;me         </span>                            </td><td><span style=white-space:pre-wrap>Youth  </span>                                                            </td><td>Both                                                                                                       </td><td><span style=white-space:pre-wrap>Maison d'H&lt;e9&gt;bergement Jeunesse La Parenth&lt;e8&gt;se      </span></td><td> 9                                                                                                         </td></tr>\n",
       "\t<tr><td>Emergency                                                                                                  </td><td>QC                                                                                                         </td><td><span style=white-space:pre-wrap>Salaberry-de-Valleyfield   </span>                                        </td><td>General                                                                                                    </td><td>Both                                                                                                       </td><td><span style=white-space:pre-wrap>Centre de transition en itin&lt;e9&gt;rance du Suro&lt;ee&gt;t     </span></td><td> 8                                                                                                         </td></tr>\n",
       "\t<tr><td>Emergency                                                                                                  </td><td>QC                                                                                                         </td><td><span style=white-space:pre-wrap>Salaberry-de-Valleyfield   </span>                                        </td><td>General                                                                                                    </td><td>Both                                                                                                       </td><td><span style=white-space:pre-wrap>Maison d'h&lt;e9&gt;bergement d&lt;e9&gt;pannage de Valleyfield    </span></td><td>18                                                                                                         </td></tr>\n",
       "\t<tr><td>Emergency                                                                                            </td><td>QC                                                                                                   </td><td><span style=white-space:pre-wrap>Shawinigan                 </span>                                  </td><td>General                                                                                              </td><td>Both                                                                                                 </td><td><span style=white-space:pre-wrap>Centre d'h&lt;e9&gt;bergement Le Hamac                       </span></td><td> 8                                                                                                   </td></tr>\n",
       "\t<tr><td>Emergency                                              </td><td>QC                                                     </td><td>Sherbrooke                                             </td><td>General                                                </td><td>Both                                                   </td><td>Accueil Poirier                                        </td><td>22                                                     </td></tr>\n",
       "\t<tr><td>Emergency                                              </td><td>QC                                                     </td><td>Sherbrooke                                             </td><td>Youth                                                  </td><td>Both                                                   </td><td>Maison Jeunes-Est                                      </td><td> 8                                                     </td></tr>\n",
       "\t<tr><td>Emergency                                              </td><td>QC                                                     </td><td>St-Georges                                             </td><td>General                                                </td><td>Both                                                   </td><td>Au Bercail de St-Georges                               </td><td>23                                                     </td></tr>\n",
       "\t<tr><td>Emergency                                                                                            </td><td>QC                                                                                                   </td><td><span style=white-space:pre-wrap>St-Georges                 </span>                                  </td><td>General                                                                                              </td><td>Both                                                                                                 </td><td><span style=white-space:pre-wrap>La Crois&lt;e9&gt;e des chemins                              </span></td><td> 2                                                                                                   </td></tr>\n",
       "\t<tr><td>Emergency                                                                </td><td>QC                                                                       </td><td><span style=white-space:pre-wrap>Terrebonne                 </span>      </td><td>General                                                                  </td><td>Both                                                                     </td><td>H&lt;e9&gt;bergement d'urgence Lanaudi&lt;e8&gt;re &lt;e0&gt; Terrebonne </td><td>16                                                                       </td></tr>\n",
       "\t<tr><td>Emergency                                                                                            </td><td>QC                                                                                                   </td><td><span style=white-space:pre-wrap>Thetford Mines             </span>                                  </td><td>General                                                                                              </td><td>Both                                                                                                 </td><td><span style=white-space:pre-wrap>Centre Domr&lt;e9&gt;my des Appalaches                       </span></td><td> 9                                                                                                   </td></tr>\n",
       "\t<tr><td>Emergency                                                                                      </td><td>QC                                                                                             </td><td><span style=white-space:pre-wrap>Trois-Rivi&lt;e8&gt;res          </span>                      </td><td><span style=white-space:pre-wrap>Youth  </span>                                                </td><td>Both                                                                                           </td><td><span style=white-space:pre-wrap>Autonomie Jeunesse                                     </span></td><td>11                                                                                             </td></tr>\n",
       "\t<tr><td>Emergency                                              </td><td>QC                                                     </td><td>Victoriaville                                          </td><td>Youth                                                  </td><td>Both                                                   </td><td>Maison Raymond Roy                                     </td><td> 9                                                     </td></tr>\n",
       "\t<tr><td>Emergency                                              </td><td>SK                                                     </td><td>Moose Jaw                                              </td><td>General                                                </td><td>Both                                                   </td><td>Riverside Mission                                      </td><td>12                                                     </td></tr>\n",
       "\t<tr><td>Emergency                                              </td><td>SK                                                     </td><td>North Battleford                                       </td><td>General                                                </td><td>Both                                                   </td><td>Battlefords Refuge d'urgence Shelter                   </td><td>16                                                     </td></tr>\n",
       "\t<tr><td>Emergency                                              </td><td>SK                                                     </td><td>Prince Albert                                          </td><td>General                                                </td><td>Both                                                   </td><td>YWCA - Our House                                       </td><td>22                                                     </td></tr>\n",
       "\t<tr><td>Emergency                                              </td><td>SK                                                     </td><td>Saskatoon                                              </td><td>General                                                </td><td>Both                                                   </td><td>Lighthouse Supported Living Inc - Stabilization Shelter</td><td>20                                                     </td></tr>\n",
       "\t<tr><td>Emergency                                              </td><td>SK                                                     </td><td>Saskatoon                                              </td><td>Youth                                                  </td><td>Both                                                   </td><td>STC Urban Safe House                                   </td><td> 5                                                     </td></tr>\n",
       "</tbody>\n",
       "</table>\n"
      ],
      "text/latex": [
       "\\begin{tabular}{r|lllllll}\n",
       " ShelterType & Province & City & TargetPopulation & Gender & ShelterName & Beds\\\\\n",
       "\\hline\n",
       "\t Emergency                                     & AB                                            & Calgary                                       & Family                                        & Both                                          & Brenda's House                                &  60                                          \\\\\n",
       "\t Emergency                                     & AB                                            & Calgary                                       & General                                       & Both                                          & Calgary Alpha House                           & 120                                          \\\\\n",
       "\t Emergency                                     & AB                                            & Calgary                                       & General                                       & Both                                          & Calgary Drop In Centre - Centre 2507          & 270                                          \\\\\n",
       "\t Emergency                                     & AB                                            & Calgary                                       & General                                       & Both                                          & Drop In and Rehab Centre                      & 975                                          \\\\\n",
       "\t Emergency                                     & AB                                            & Calgary                                       & General                                       & Both                                          & Kerby Rotary Shelter                          &  11                                          \\\\\n",
       "\t Emergency                                     & AB                                            & Calgary                                       & General                                       & Both                                          & The Mustard Seed Shelter                      & 370                                          \\\\\n",
       "\t Emergency                                     & AB                                            & Calgary                                       & Youth                                         & Both                                          & Boys and Girls Club - Avenue 15 Youth Shelter &  25                                          \\\\\n",
       "\t Emergency                                     & AB                                            & Calgary                                       & Youth                                         & Both                                          & EXIT Youth Shelter                            &  15                                          \\\\\n",
       "\t Emergency                                     & AB                                            & Calgary                                       & Youth                                         & Both                                          & Mcman - Wellington Place Refuge d'urgence     &   5                                          \\\\\n",
       "\t Emergency                                     & AB                                            & Edmonton                                      & General                                       & Both                                          & George Spady Centre Detox                     &  27                                          \\\\\n",
       "\t Emergency                                     & AB                                            & Edmonton                                      & General                                       & Both                                          & George Spady Centre Overnight Shelter         &  60                                          \\\\\n",
       "\t Emergency                                     & AB                                            & Edmonton                                      & General                                       & Both                                          & Hope Mission - Intox                          &  70                                          \\\\\n",
       "\t Emergency                                     & AB                                            & Edmonton                                      & General                                       & Both                                          & Hope Mission - Mat Program                    & 150                                          \\\\\n",
       "\t Emergency                                     & AB                                            & Edmonton                                      & Youth                                         & Both                                          & Hope Mission - Youth Shelter                  &  70                                          \\\\\n",
       "\t Emergency                                     & AB                                            & Edmonton                                      & Youth                                         & Both                                          & Youth Refuge d'urgence Shelter Edmonton       &  18                                          \\\\\n",
       "\t Emergency                                     & AB                                            & Grande Prairie                                & General                                       & Both                                          & Rotary House                                  &  92                                          \\\\\n",
       "\t Emergency                                     & AB                                            & Grande Prairie                                & Youth                                         & Both                                          & Sunrise House                                 &  14                                          \\\\\n",
       "\t Emergency                                     & AB                                            & High Level                                    & General                                       & Both                                          & 10005 House                                   &  20                                          \\\\\n",
       "\t Emergency                                     & AB                                            & Lethbridge                                    & General                                       & Both                                          & Lethbridge Shelter and Resource Centre        &  80                                          \\\\\n",
       "\t Emergency                                     & AB                                            & Lethbridge                                    & Youth                                         & Both                                          & Refuge d'urgence Youth Shelter                &  14                                          \\\\\n",
       "\t Emergency                                     & AB                                            & Medicine Hat                                  & General                                       & Both                                          & Family Support Centre                         &  30                                          \\\\\n",
       "\t Emergency                                     & AB                                            & Medicine Hat                                  & Youth                                         & Both                                          & Mcman - Inn Between Youth Shelter             &   6                                          \\\\\n",
       "\t Emergency                                     & AB                                            & Red Deer                                      & General                                       & Both                                          & CASHS Mat program                             &  26                                          \\\\\n",
       "\t Emergency                                     & AB                                            & Red Deer                                      & General                                       & Both                                          & CASHS Peoples Place                           &  35                                          \\\\\n",
       "\t Emergency                                     & AB                                            & Red Deer                                      & Youth                                         & Both                                          & 49th Street Youth Shelter                     &   8                                          \\\\\n",
       "\t Emergency                                     & AB                                            & Wood Buffalo                                  & General                                       & Both                                          & Fort McMurray Mat Program                     &  10                                          \\\\\n",
       "\t Emergency                                     & AB                                            & Wood Buffalo                                  & General                                       & Both                                          & Marshall House Refuge d'urgence               &  70                                          \\\\\n",
       "\t Emergency                                     & AB                                            & Wood Buffalo                                  & Youth                                         & Both                                          & Stepping Stones Youth Home                    &   8                                          \\\\\n",
       "\t Emergency                                     & BC                                            & Abbotsford                                    & General                                       & Both                                          & Abbotsford Centre of Hope Refuge d'urgence    &  20                                          \\\\\n",
       "\t Emergency                                     & BC                                            & Abbotsford                                    & Youth                                         & Both                                          & Cyrus Centre: Refuge d'urgence Youth Shelter  &  14                                          \\\\\n",
       "\t ... & ... & ... & ... & ... & ... & ...\\\\\n",
       "\t Emergency                                               & QC                                                      & Montreal                                                & Youth                                                   & Both                                                    & Ressources jeunesse de St-Laurent - Refuge d'urgence    & 11                                                     \\\\\n",
       "\t Emergency                                               & QC                                                      & Montreal                                                & Youth                                                   & Both                                                    & Service d'h<e9>bergement St-Denis                       &  9                                                     \\\\\n",
       "\t Emergency                                               & QC                                                      & Montreal                                                & Youth                                                   & Both                                                    & The Bunker                                              & 20                                                     \\\\\n",
       "\t Emergency                                               & QC                                                      & Quebec City                                             & General                                                 & Both                                                    & Maison de JOB                                           & 16                                                     \\\\\n",
       "\t Emergency                                               & QC                                                      & Quebec City                                             & General                                                 & Both                                                    & L'Archipel d'Entraide Accroche-To<ee>t                  &  6                                                     \\\\\n",
       "\t Emergency                                               & QC                                                      & Quebec City                                             & General                                                 & Both                                                    & Maison Revivre                                          & 30                                                     \\\\\n",
       "\t Emergency                                               & QC                                                      & Rouyn-Noranda                                           & General                                                 & Both                                                    & Maison du Soleil Levant                                 & 15                                                     \\\\\n",
       "\t Emergency                                               & QC                                                      & Saguenay                                                & General                                                 & Both                                                    & Maison d'accueil pour sans-abri de Chicoutimi           & 20                                                     \\\\\n",
       "\t Emergency                                               & QC                                                      & Saguenay                                                & General                                                 & Both                                                    & Maison d'H<e9>bergement Le S<e9>jour Inc.               & 25                                                     \\\\\n",
       "\t Emergency                                               & QC                                                      & Saint-Eug<ea>nes-de-Guigues                             & General                                                 & Both                                                    & Le Centre G<e9>rard-Brisson                             & 14                                                     \\\\\n",
       "\t Emergency                                               & QC                                                      & Saint-Eustache                                          & Youth                                                   & Both                                                    & L'Accueil                                               &  9                                                     \\\\\n",
       "\t Emergency                                               & QC                                                      & Saint-Eustache                                          & Youth                                                   & Both                                                    & Le Pr<e9>fixe                                           &  6                                                     \\\\\n",
       "\t Emergency                                               & QC                                                      & Saint-Eustache                                          & Youth                                                   & Both                                                    & Le R<e9>pit                                             &  6                                                     \\\\\n",
       "\t Emergency                                               & QC                                                      & Saint-J<e9>r<f4>me                                      & Youth                                                   & Both                                                    & Maison d'H<e9>bergement Jeunesse La Parenth<e8>se       &  9                                                     \\\\\n",
       "\t Emergency                                               & QC                                                      & Salaberry-de-Valleyfield                                & General                                                 & Both                                                    & Centre de transition en itin<e9>rance du Suro<ee>t      &  8                                                     \\\\\n",
       "\t Emergency                                               & QC                                                      & Salaberry-de-Valleyfield                                & General                                                 & Both                                                    & Maison d'h<e9>bergement d<e9>pannage de Valleyfield     & 18                                                     \\\\\n",
       "\t Emergency                                               & QC                                                      & Shawinigan                                              & General                                                 & Both                                                    & Centre d'h<e9>bergement Le Hamac                        &  8                                                     \\\\\n",
       "\t Emergency                                               & QC                                                      & Sherbrooke                                              & General                                                 & Both                                                    & Accueil Poirier                                         & 22                                                     \\\\\n",
       "\t Emergency                                               & QC                                                      & Sherbrooke                                              & Youth                                                   & Both                                                    & Maison Jeunes-Est                                       &  8                                                     \\\\\n",
       "\t Emergency                                               & QC                                                      & St-Georges                                              & General                                                 & Both                                                    & Au Bercail de St-Georges                                & 23                                                     \\\\\n",
       "\t Emergency                                               & QC                                                      & St-Georges                                              & General                                                 & Both                                                    & La Crois<e9>e des chemins                               &  2                                                     \\\\\n",
       "\t Emergency                                               & QC                                                      & Terrebonne                                              & General                                                 & Both                                                    & H<e9>bergement d'urgence Lanaudi<e8>re <e0> Terrebonne  & 16                                                     \\\\\n",
       "\t Emergency                                               & QC                                                      & Thetford Mines                                          & General                                                 & Both                                                    & Centre Domr<e9>my des Appalaches                        &  9                                                     \\\\\n",
       "\t Emergency                                               & QC                                                      & Trois-Rivi<e8>res                                       & Youth                                                   & Both                                                    & Autonomie Jeunesse                                      & 11                                                     \\\\\n",
       "\t Emergency                                               & QC                                                      & Victoriaville                                           & Youth                                                   & Both                                                    & Maison Raymond Roy                                      &  9                                                     \\\\\n",
       "\t Emergency                                               & SK                                                      & Moose Jaw                                               & General                                                 & Both                                                    & Riverside Mission                                       & 12                                                     \\\\\n",
       "\t Emergency                                               & SK                                                      & North Battleford                                        & General                                                 & Both                                                    & Battlefords Refuge d'urgence Shelter                    & 16                                                     \\\\\n",
       "\t Emergency                                               & SK                                                      & Prince Albert                                           & General                                                 & Both                                                    & YWCA - Our House                                        & 22                                                     \\\\\n",
       "\t Emergency                                               & SK                                                      & Saskatoon                                               & General                                                 & Both                                                    & Lighthouse Supported Living Inc - Stabilization Shelter & 20                                                     \\\\\n",
       "\t Emergency                                               & SK                                                      & Saskatoon                                               & Youth                                                   & Both                                                    & STC Urban Safe House                                    &  5                                                     \\\\\n",
       "\\end{tabular}\n"
      ],
      "text/markdown": [
       "\n",
       "ShelterType | Province | City | TargetPopulation | Gender | ShelterName | Beds | \n",
       "|---|---|---|---|---|---|---|---|---|---|---|---|---|---|---|---|---|---|---|---|---|---|---|---|---|---|---|---|---|---|---|---|---|---|---|---|---|---|---|---|---|---|---|---|---|---|---|---|---|---|---|---|---|---|---|---|---|---|---|---|---|\n",
       "| Emergency                                     | AB                                            | Calgary                                       | Family                                        | Both                                          | Brenda's House                                |  60                                           | \n",
       "| Emergency                                     | AB                                            | Calgary                                       | General                                       | Both                                          | Calgary Alpha House                           | 120                                           | \n",
       "| Emergency                                     | AB                                            | Calgary                                       | General                                       | Both                                          | Calgary Drop In Centre - Centre 2507          | 270                                           | \n",
       "| Emergency                                     | AB                                            | Calgary                                       | General                                       | Both                                          | Drop In and Rehab Centre                      | 975                                           | \n",
       "| Emergency                                     | AB                                            | Calgary                                       | General                                       | Both                                          | Kerby Rotary Shelter                          |  11                                           | \n",
       "| Emergency                                     | AB                                            | Calgary                                       | General                                       | Both                                          | The Mustard Seed Shelter                      | 370                                           | \n",
       "| Emergency                                     | AB                                            | Calgary                                       | Youth                                         | Both                                          | Boys and Girls Club - Avenue 15 Youth Shelter |  25                                           | \n",
       "| Emergency                                     | AB                                            | Calgary                                       | Youth                                         | Both                                          | EXIT Youth Shelter                            |  15                                           | \n",
       "| Emergency                                     | AB                                            | Calgary                                       | Youth                                         | Both                                          | Mcman - Wellington Place Refuge d'urgence     |   5                                           | \n",
       "| Emergency                                     | AB                                            | Edmonton                                      | General                                       | Both                                          | George Spady Centre Detox                     |  27                                           | \n",
       "| Emergency                                     | AB                                            | Edmonton                                      | General                                       | Both                                          | George Spady Centre Overnight Shelter         |  60                                           | \n",
       "| Emergency                                     | AB                                            | Edmonton                                      | General                                       | Both                                          | Hope Mission - Intox                          |  70                                           | \n",
       "| Emergency                                     | AB                                            | Edmonton                                      | General                                       | Both                                          | Hope Mission - Mat Program                    | 150                                           | \n",
       "| Emergency                                     | AB                                            | Edmonton                                      | Youth                                         | Both                                          | Hope Mission - Youth Shelter                  |  70                                           | \n",
       "| Emergency                                     | AB                                            | Edmonton                                      | Youth                                         | Both                                          | Youth Refuge d'urgence Shelter Edmonton       |  18                                           | \n",
       "| Emergency                                     | AB                                            | Grande Prairie                                | General                                       | Both                                          | Rotary House                                  |  92                                           | \n",
       "| Emergency                                     | AB                                            | Grande Prairie                                | Youth                                         | Both                                          | Sunrise House                                 |  14                                           | \n",
       "| Emergency                                     | AB                                            | High Level                                    | General                                       | Both                                          | 10005 House                                   |  20                                           | \n",
       "| Emergency                                     | AB                                            | Lethbridge                                    | General                                       | Both                                          | Lethbridge Shelter and Resource Centre        |  80                                           | \n",
       "| Emergency                                     | AB                                            | Lethbridge                                    | Youth                                         | Both                                          | Refuge d'urgence Youth Shelter                |  14                                           | \n",
       "| Emergency                                     | AB                                            | Medicine Hat                                  | General                                       | Both                                          | Family Support Centre                         |  30                                           | \n",
       "| Emergency                                     | AB                                            | Medicine Hat                                  | Youth                                         | Both                                          | Mcman - Inn Between Youth Shelter             |   6                                           | \n",
       "| Emergency                                     | AB                                            | Red Deer                                      | General                                       | Both                                          | CASHS Mat program                             |  26                                           | \n",
       "| Emergency                                     | AB                                            | Red Deer                                      | General                                       | Both                                          | CASHS Peoples Place                           |  35                                           | \n",
       "| Emergency                                     | AB                                            | Red Deer                                      | Youth                                         | Both                                          | 49th Street Youth Shelter                     |   8                                           | \n",
       "| Emergency                                     | AB                                            | Wood Buffalo                                  | General                                       | Both                                          | Fort McMurray Mat Program                     |  10                                           | \n",
       "| Emergency                                     | AB                                            | Wood Buffalo                                  | General                                       | Both                                          | Marshall House Refuge d'urgence               |  70                                           | \n",
       "| Emergency                                     | AB                                            | Wood Buffalo                                  | Youth                                         | Both                                          | Stepping Stones Youth Home                    |   8                                           | \n",
       "| Emergency                                     | BC                                            | Abbotsford                                    | General                                       | Both                                          | Abbotsford Centre of Hope Refuge d'urgence    |  20                                           | \n",
       "| Emergency                                     | BC                                            | Abbotsford                                    | Youth                                         | Both                                          | Cyrus Centre: Refuge d'urgence Youth Shelter  |  14                                           | \n",
       "| ... | ... | ... | ... | ... | ... | ... | \n",
       "| Emergency                                               | QC                                                      | Montreal                                                | Youth                                                   | Both                                                    | Ressources jeunesse de St-Laurent - Refuge d'urgence    | 11                                                      | \n",
       "| Emergency                                               | QC                                                      | Montreal                                                | Youth                                                   | Both                                                    | Service d'h<e9>bergement St-Denis                       |  9                                                      | \n",
       "| Emergency                                               | QC                                                      | Montreal                                                | Youth                                                   | Both                                                    | The Bunker                                              | 20                                                      | \n",
       "| Emergency                                               | QC                                                      | Quebec City                                             | General                                                 | Both                                                    | Maison de JOB                                           | 16                                                      | \n",
       "| Emergency                                               | QC                                                      | Quebec City                                             | General                                                 | Both                                                    | L'Archipel d'Entraide Accroche-To<ee>t                  |  6                                                      | \n",
       "| Emergency                                               | QC                                                      | Quebec City                                             | General                                                 | Both                                                    | Maison Revivre                                          | 30                                                      | \n",
       "| Emergency                                               | QC                                                      | Rouyn-Noranda                                           | General                                                 | Both                                                    | Maison du Soleil Levant                                 | 15                                                      | \n",
       "| Emergency                                               | QC                                                      | Saguenay                                                | General                                                 | Both                                                    | Maison d'accueil pour sans-abri de Chicoutimi           | 20                                                      | \n",
       "| Emergency                                               | QC                                                      | Saguenay                                                | General                                                 | Both                                                    | Maison d'H<e9>bergement Le S<e9>jour Inc.               | 25                                                      | \n",
       "| Emergency                                               | QC                                                      | Saint-Eug<ea>nes-de-Guigues                             | General                                                 | Both                                                    | Le Centre G<e9>rard-Brisson                             | 14                                                      | \n",
       "| Emergency                                               | QC                                                      | Saint-Eustache                                          | Youth                                                   | Both                                                    | L'Accueil                                               |  9                                                      | \n",
       "| Emergency                                               | QC                                                      | Saint-Eustache                                          | Youth                                                   | Both                                                    | Le Pr<e9>fixe                                           |  6                                                      | \n",
       "| Emergency                                               | QC                                                      | Saint-Eustache                                          | Youth                                                   | Both                                                    | Le R<e9>pit                                             |  6                                                      | \n",
       "| Emergency                                               | QC                                                      | Saint-J<e9>r<f4>me                                      | Youth                                                   | Both                                                    | Maison d'H<e9>bergement Jeunesse La Parenth<e8>se       |  9                                                      | \n",
       "| Emergency                                               | QC                                                      | Salaberry-de-Valleyfield                                | General                                                 | Both                                                    | Centre de transition en itin<e9>rance du Suro<ee>t      |  8                                                      | \n",
       "| Emergency                                               | QC                                                      | Salaberry-de-Valleyfield                                | General                                                 | Both                                                    | Maison d'h<e9>bergement d<e9>pannage de Valleyfield     | 18                                                      | \n",
       "| Emergency                                               | QC                                                      | Shawinigan                                              | General                                                 | Both                                                    | Centre d'h<e9>bergement Le Hamac                        |  8                                                      | \n",
       "| Emergency                                               | QC                                                      | Sherbrooke                                              | General                                                 | Both                                                    | Accueil Poirier                                         | 22                                                      | \n",
       "| Emergency                                               | QC                                                      | Sherbrooke                                              | Youth                                                   | Both                                                    | Maison Jeunes-Est                                       |  8                                                      | \n",
       "| Emergency                                               | QC                                                      | St-Georges                                              | General                                                 | Both                                                    | Au Bercail de St-Georges                                | 23                                                      | \n",
       "| Emergency                                               | QC                                                      | St-Georges                                              | General                                                 | Both                                                    | La Crois<e9>e des chemins                               |  2                                                      | \n",
       "| Emergency                                               | QC                                                      | Terrebonne                                              | General                                                 | Both                                                    | H<e9>bergement d'urgence Lanaudi<e8>re <e0> Terrebonne  | 16                                                      | \n",
       "| Emergency                                               | QC                                                      | Thetford Mines                                          | General                                                 | Both                                                    | Centre Domr<e9>my des Appalaches                        |  9                                                      | \n",
       "| Emergency                                               | QC                                                      | Trois-Rivi<e8>res                                       | Youth                                                   | Both                                                    | Autonomie Jeunesse                                      | 11                                                      | \n",
       "| Emergency                                               | QC                                                      | Victoriaville                                           | Youth                                                   | Both                                                    | Maison Raymond Roy                                      |  9                                                      | \n",
       "| Emergency                                               | SK                                                      | Moose Jaw                                               | General                                                 | Both                                                    | Riverside Mission                                       | 12                                                      | \n",
       "| Emergency                                               | SK                                                      | North Battleford                                        | General                                                 | Both                                                    | Battlefords Refuge d'urgence Shelter                    | 16                                                      | \n",
       "| Emergency                                               | SK                                                      | Prince Albert                                           | General                                                 | Both                                                    | YWCA - Our House                                        | 22                                                      | \n",
       "| Emergency                                               | SK                                                      | Saskatoon                                               | General                                                 | Both                                                    | Lighthouse Supported Living Inc - Stabilization Shelter | 20                                                      | \n",
       "| Emergency                                               | SK                                                      | Saskatoon                                               | Youth                                                   | Both                                                    | STC Urban Safe House                                    |  5                                                      | \n",
       "\n",
       "\n"
      ],
      "text/plain": [
       "    ShelterType Province City                        TargetPopulation Gender\n",
       "1   Emergency   AB       Calgary                     Family           Both  \n",
       "2   Emergency   AB       Calgary                     General          Both  \n",
       "3   Emergency   AB       Calgary                     General          Both  \n",
       "4   Emergency   AB       Calgary                     General          Both  \n",
       "5   Emergency   AB       Calgary                     General          Both  \n",
       "6   Emergency   AB       Calgary                     General          Both  \n",
       "7   Emergency   AB       Calgary                     Youth            Both  \n",
       "8   Emergency   AB       Calgary                     Youth            Both  \n",
       "9   Emergency   AB       Calgary                     Youth            Both  \n",
       "10  Emergency   AB       Edmonton                    General          Both  \n",
       "11  Emergency   AB       Edmonton                    General          Both  \n",
       "12  Emergency   AB       Edmonton                    General          Both  \n",
       "13  Emergency   AB       Edmonton                    General          Both  \n",
       "14  Emergency   AB       Edmonton                    Youth            Both  \n",
       "15  Emergency   AB       Edmonton                    Youth            Both  \n",
       "16  Emergency   AB       Grande Prairie              General          Both  \n",
       "17  Emergency   AB       Grande Prairie              Youth            Both  \n",
       "18  Emergency   AB       High Level                  General          Both  \n",
       "19  Emergency   AB       Lethbridge                  General          Both  \n",
       "20  Emergency   AB       Lethbridge                  Youth            Both  \n",
       "21  Emergency   AB       Medicine Hat                General          Both  \n",
       "22  Emergency   AB       Medicine Hat                Youth            Both  \n",
       "23  Emergency   AB       Red Deer                    General          Both  \n",
       "24  Emergency   AB       Red Deer                    General          Both  \n",
       "25  Emergency   AB       Red Deer                    Youth            Both  \n",
       "26  Emergency   AB       Wood Buffalo                General          Both  \n",
       "27  Emergency   AB       Wood Buffalo                General          Both  \n",
       "28  Emergency   AB       Wood Buffalo                Youth            Both  \n",
       "29  Emergency   BC       Abbotsford                  General          Both  \n",
       "30  Emergency   BC       Abbotsford                  Youth            Both  \n",
       "... ...         ...      ...                         ...              ...   \n",
       "208 Emergency   QC       Montreal                    Youth            Both  \n",
       "209 Emergency   QC       Montreal                    Youth            Both  \n",
       "210 Emergency   QC       Montreal                    Youth            Both  \n",
       "211 Emergency   QC       Quebec City                 General          Both  \n",
       "212 Emergency   QC       Quebec City                 General          Both  \n",
       "213 Emergency   QC       Quebec City                 General          Both  \n",
       "214 Emergency   QC       Rouyn-Noranda               General          Both  \n",
       "215 Emergency   QC       Saguenay                    General          Both  \n",
       "216 Emergency   QC       Saguenay                    General          Both  \n",
       "217 Emergency   QC       Saint-Eug<ea>nes-de-Guigues General          Both  \n",
       "218 Emergency   QC       Saint-Eustache              Youth            Both  \n",
       "219 Emergency   QC       Saint-Eustache              Youth            Both  \n",
       "220 Emergency   QC       Saint-Eustache              Youth            Both  \n",
       "221 Emergency   QC       Saint-J<e9>r<f4>me          Youth            Both  \n",
       "222 Emergency   QC       Salaberry-de-Valleyfield    General          Both  \n",
       "223 Emergency   QC       Salaberry-de-Valleyfield    General          Both  \n",
       "224 Emergency   QC       Shawinigan                  General          Both  \n",
       "225 Emergency   QC       Sherbrooke                  General          Both  \n",
       "226 Emergency   QC       Sherbrooke                  Youth            Both  \n",
       "227 Emergency   QC       St-Georges                  General          Both  \n",
       "228 Emergency   QC       St-Georges                  General          Both  \n",
       "229 Emergency   QC       Terrebonne                  General          Both  \n",
       "230 Emergency   QC       Thetford Mines              General          Both  \n",
       "231 Emergency   QC       Trois-Rivi<e8>res           Youth            Both  \n",
       "232 Emergency   QC       Victoriaville               Youth            Both  \n",
       "233 Emergency   SK       Moose Jaw                   General          Both  \n",
       "234 Emergency   SK       North Battleford            General          Both  \n",
       "235 Emergency   SK       Prince Albert               General          Both  \n",
       "236 Emergency   SK       Saskatoon                   General          Both  \n",
       "237 Emergency   SK       Saskatoon                   Youth            Both  \n",
       "    ShelterName                                             Beds\n",
       "1   Brenda's House                                           60 \n",
       "2   Calgary Alpha House                                     120 \n",
       "3   Calgary Drop In Centre - Centre 2507                    270 \n",
       "4   Drop In and Rehab Centre                                975 \n",
       "5   Kerby Rotary Shelter                                     11 \n",
       "6   The Mustard Seed Shelter                                370 \n",
       "7   Boys and Girls Club - Avenue 15 Youth Shelter            25 \n",
       "8   EXIT Youth Shelter                                       15 \n",
       "9   Mcman - Wellington Place Refuge d'urgence                 5 \n",
       "10  George Spady Centre Detox                                27 \n",
       "11  George Spady Centre Overnight Shelter                    60 \n",
       "12  Hope Mission - Intox                                     70 \n",
       "13  Hope Mission - Mat Program                              150 \n",
       "14  Hope Mission - Youth Shelter                             70 \n",
       "15  Youth Refuge d'urgence Shelter Edmonton                  18 \n",
       "16  Rotary House                                             92 \n",
       "17  Sunrise House                                            14 \n",
       "18  10005 House                                              20 \n",
       "19  Lethbridge Shelter and Resource Centre                   80 \n",
       "20  Refuge d'urgence Youth Shelter                           14 \n",
       "21  Family Support Centre                                    30 \n",
       "22  Mcman - Inn Between Youth Shelter                         6 \n",
       "23  CASHS Mat program                                        26 \n",
       "24  CASHS Peoples Place                                      35 \n",
       "25  49th Street Youth Shelter                                 8 \n",
       "26  Fort McMurray Mat Program                                10 \n",
       "27  Marshall House Refuge d'urgence                          70 \n",
       "28  Stepping Stones Youth Home                                8 \n",
       "29  Abbotsford Centre of Hope Refuge d'urgence               20 \n",
       "30  Cyrus Centre: Refuge d'urgence Youth Shelter             14 \n",
       "... ...                                                     ... \n",
       "208 Ressources jeunesse de St-Laurent - Refuge d'urgence    11  \n",
       "209 Service d'h<e9>bergement St-Denis                        9  \n",
       "210 The Bunker                                              20  \n",
       "211 Maison de JOB                                           16  \n",
       "212 L'Archipel d'Entraide Accroche-To<ee>t                   6  \n",
       "213 Maison Revivre                                          30  \n",
       "214 Maison du Soleil Levant                                 15  \n",
       "215 Maison d'accueil pour sans-abri de Chicoutimi           20  \n",
       "216 Maison d'H<e9>bergement Le S<e9>jour Inc.               25  \n",
       "217 Le Centre G<e9>rard-Brisson                             14  \n",
       "218 L'Accueil                                                9  \n",
       "219 Le Pr<e9>fixe                                            6  \n",
       "220 Le R<e9>pit                                              6  \n",
       "221 Maison d'H<e9>bergement Jeunesse La Parenth<e8>se        9  \n",
       "222 Centre de transition en itin<e9>rance du Suro<ee>t       8  \n",
       "223 Maison d'h<e9>bergement d<e9>pannage de Valleyfield     18  \n",
       "224 Centre d'h<e9>bergement Le Hamac                         8  \n",
       "225 Accueil Poirier                                         22  \n",
       "226 Maison Jeunes-Est                                        8  \n",
       "227 Au Bercail de St-Georges                                23  \n",
       "228 La Crois<e9>e des chemins                                2  \n",
       "229 H<e9>bergement d'urgence Lanaudi<e8>re <e0> Terrebonne  16  \n",
       "230 Centre Domr<e9>my des Appalaches                         9  \n",
       "231 Autonomie Jeunesse                                      11  \n",
       "232 Maison Raymond Roy                                       9  \n",
       "233 Riverside Mission                                       12  \n",
       "234 Battlefords Refuge d'urgence Shelter                    16  \n",
       "235 YWCA - Our House                                        22  \n",
       "236 Lighthouse Supported Living Inc - Stabilization Shelter 20  \n",
       "237 STC Urban Safe House                                     5  "
      ]
     },
     "metadata": {},
     "output_type": "display_data"
    }
   ],
   "source": [
    "glimpse(df)\n",
    "df"
   ]
  },
  {
   "cell_type": "code",
   "execution_count": 51,
   "metadata": {},
   "outputs": [
    {
     "data": {
      "text/html": [
       "<ol class=list-inline>\n",
       "\t<li>AB</li>\n",
       "\t<li>BC</li>\n",
       "\t<li>MB</li>\n",
       "\t<li>NB</li>\n",
       "\t<li>NL</li>\n",
       "\t<li>NS</li>\n",
       "\t<li>ON</li>\n",
       "\t<li>QC</li>\n",
       "\t<li>SK</li>\n",
       "</ol>\n"
      ],
      "text/latex": [
       "\\begin{enumerate*}\n",
       "\\item AB\n",
       "\\item BC\n",
       "\\item MB\n",
       "\\item NB\n",
       "\\item NL\n",
       "\\item NS\n",
       "\\item ON\n",
       "\\item QC\n",
       "\\item SK\n",
       "\\end{enumerate*}\n"
      ],
      "text/markdown": [
       "1. AB\n",
       "2. BC\n",
       "3. MB\n",
       "4. NB\n",
       "5. NL\n",
       "6. NS\n",
       "7. ON\n",
       "8. QC\n",
       "9. SK\n",
       "\n",
       "\n"
      ],
      "text/plain": [
       "[1] AB BC MB NB NL NS ON QC SK\n",
       "Levels: AB BC MB NB NL NS ON QC SK"
      ]
     },
     "metadata": {},
     "output_type": "display_data"
    }
   ],
   "source": [
    "unique(df$Province)"
   ]
  },
  {
   "cell_type": "code",
   "execution_count": 52,
   "metadata": {},
   "outputs": [
    {
     "name": "stdout",
     "output_type": "stream",
     "text": [
      "Observations: 237\n",
      "Variables: 7\n",
      "$ ShelterType      <fctr> Emergency, Emergency, Emergency, Emergency, Emerg...\n",
      "$ Province         <fctr> AB, AB, AB, AB, AB, AB, AB, AB, AB, AB, AB, AB, A...\n",
      "$ City             <fctr> Calgary, Calgary, Calgary, Calgary, Calgary, Calg...\n",
      "$ TargetPopulation <fctr> Family, General, General, General, General, Gener...\n",
      "$ Gender           <fctr> Both, Both, Both, Both, Both, Both, Both, Both, B...\n",
      "$ ShelterName      <chr> \"Brenda's House\", \"Calgary Alpha House\", \"Calgary ...\n",
      "$ Beds             <dbl> 60, 120, 270, 975, 11, 370, 25, 15, 5, 27, 60, 70,...\n"
     ]
    },
    {
     "data": {
      "text/html": [
       "<table>\n",
       "<thead><tr><th scope=col>ShelterType</th><th scope=col>Province</th><th scope=col>City</th><th scope=col>TargetPopulation</th><th scope=col>Gender</th><th scope=col>ShelterName</th><th scope=col>Beds</th></tr></thead>\n",
       "<tbody>\n",
       "\t<tr><td>Emergency                           </td><td>AB                                  </td><td>Calgary                             </td><td>Family                              </td><td>Both                                </td><td>Brenda's House                      </td><td> 60                                 </td></tr>\n",
       "\t<tr><td>Emergency                           </td><td>AB                                  </td><td>Calgary                             </td><td>General                             </td><td>Both                                </td><td>Calgary Alpha House                 </td><td>120                                 </td></tr>\n",
       "\t<tr><td>Emergency                           </td><td>AB                                  </td><td>Calgary                             </td><td>General                             </td><td>Both                                </td><td>Calgary Drop In Centre - Centre 2507</td><td>270                                 </td></tr>\n",
       "\t<tr><td>Emergency                           </td><td>AB                                  </td><td>Calgary                             </td><td>General                             </td><td>Both                                </td><td>Drop In and Rehab Centre            </td><td>975                                 </td></tr>\n",
       "\t<tr><td>Emergency                           </td><td>AB                                  </td><td>Calgary                             </td><td>General                             </td><td>Both                                </td><td>Kerby Rotary Shelter                </td><td> 11                                 </td></tr>\n",
       "\t<tr><td>Emergency                           </td><td>AB                                  </td><td>Calgary                             </td><td>General                             </td><td>Both                                </td><td>The Mustard Seed Shelter            </td><td>370                                 </td></tr>\n",
       "</tbody>\n",
       "</table>\n"
      ],
      "text/latex": [
       "\\begin{tabular}{r|lllllll}\n",
       " ShelterType & Province & City & TargetPopulation & Gender & ShelterName & Beds\\\\\n",
       "\\hline\n",
       "\t Emergency                            & AB                                   & Calgary                              & Family                               & Both                                 & Brenda's House                       &  60                                 \\\\\n",
       "\t Emergency                            & AB                                   & Calgary                              & General                              & Both                                 & Calgary Alpha House                  & 120                                 \\\\\n",
       "\t Emergency                            & AB                                   & Calgary                              & General                              & Both                                 & Calgary Drop In Centre - Centre 2507 & 270                                 \\\\\n",
       "\t Emergency                            & AB                                   & Calgary                              & General                              & Both                                 & Drop In and Rehab Centre             & 975                                 \\\\\n",
       "\t Emergency                            & AB                                   & Calgary                              & General                              & Both                                 & Kerby Rotary Shelter                 &  11                                 \\\\\n",
       "\t Emergency                            & AB                                   & Calgary                              & General                              & Both                                 & The Mustard Seed Shelter             & 370                                 \\\\\n",
       "\\end{tabular}\n"
      ],
      "text/markdown": [
       "\n",
       "ShelterType | Province | City | TargetPopulation | Gender | ShelterName | Beds | \n",
       "|---|---|---|---|---|---|\n",
       "| Emergency                            | AB                                   | Calgary                              | Family                               | Both                                 | Brenda's House                       |  60                                  | \n",
       "| Emergency                            | AB                                   | Calgary                              | General                              | Both                                 | Calgary Alpha House                  | 120                                  | \n",
       "| Emergency                            | AB                                   | Calgary                              | General                              | Both                                 | Calgary Drop In Centre - Centre 2507 | 270                                  | \n",
       "| Emergency                            | AB                                   | Calgary                              | General                              | Both                                 | Drop In and Rehab Centre             | 975                                  | \n",
       "| Emergency                            | AB                                   | Calgary                              | General                              | Both                                 | Kerby Rotary Shelter                 |  11                                  | \n",
       "| Emergency                            | AB                                   | Calgary                              | General                              | Both                                 | The Mustard Seed Shelter             | 370                                  | \n",
       "\n",
       "\n"
      ],
      "text/plain": [
       "  ShelterType Province City    TargetPopulation Gender\n",
       "1 Emergency   AB       Calgary Family           Both  \n",
       "2 Emergency   AB       Calgary General          Both  \n",
       "3 Emergency   AB       Calgary General          Both  \n",
       "4 Emergency   AB       Calgary General          Both  \n",
       "5 Emergency   AB       Calgary General          Both  \n",
       "6 Emergency   AB       Calgary General          Both  \n",
       "  ShelterName                          Beds\n",
       "1 Brenda's House                        60 \n",
       "2 Calgary Alpha House                  120 \n",
       "3 Calgary Drop In Centre - Centre 2507 270 \n",
       "4 Drop In and Rehab Centre             975 \n",
       "5 Kerby Rotary Shelter                  11 \n",
       "6 The Mustard Seed Shelter             370 "
      ]
     },
     "metadata": {},
     "output_type": "display_data"
    },
    {
     "data": {
      "text/html": [
       "<table>\n",
       "<thead><tr><th scope=col>ShelterType</th><th scope=col>Province</th><th scope=col>City</th><th scope=col>TargetPopulation</th><th scope=col>Gender</th><th scope=col>ShelterName</th><th scope=col>Beds</th></tr></thead>\n",
       "<tbody>\n",
       "\t<tr><td>Emergency                                              </td><td>QC                                                     </td><td>Victoriaville                                          </td><td>Youth                                                  </td><td>Both                                                   </td><td>Maison Raymond Roy                                     </td><td> 9                                                     </td></tr>\n",
       "\t<tr><td>Emergency                                              </td><td>SK                                                     </td><td>Moose Jaw                                              </td><td>General                                                </td><td>Both                                                   </td><td>Riverside Mission                                      </td><td>12                                                     </td></tr>\n",
       "\t<tr><td>Emergency                                              </td><td>SK                                                     </td><td>North Battleford                                       </td><td>General                                                </td><td>Both                                                   </td><td>Battlefords Refuge d'urgence Shelter                   </td><td>16                                                     </td></tr>\n",
       "\t<tr><td>Emergency                                              </td><td>SK                                                     </td><td>Prince Albert                                          </td><td>General                                                </td><td>Both                                                   </td><td>YWCA - Our House                                       </td><td>22                                                     </td></tr>\n",
       "\t<tr><td>Emergency                                              </td><td>SK                                                     </td><td>Saskatoon                                              </td><td>General                                                </td><td>Both                                                   </td><td>Lighthouse Supported Living Inc - Stabilization Shelter</td><td>20                                                     </td></tr>\n",
       "\t<tr><td>Emergency                                              </td><td>SK                                                     </td><td>Saskatoon                                              </td><td>Youth                                                  </td><td>Both                                                   </td><td>STC Urban Safe House                                   </td><td> 5                                                     </td></tr>\n",
       "</tbody>\n",
       "</table>\n"
      ],
      "text/latex": [
       "\\begin{tabular}{r|lllllll}\n",
       " ShelterType & Province & City & TargetPopulation & Gender & ShelterName & Beds\\\\\n",
       "\\hline\n",
       "\t Emergency                                               & QC                                                      & Victoriaville                                           & Youth                                                   & Both                                                    & Maison Raymond Roy                                      &  9                                                     \\\\\n",
       "\t Emergency                                               & SK                                                      & Moose Jaw                                               & General                                                 & Both                                                    & Riverside Mission                                       & 12                                                     \\\\\n",
       "\t Emergency                                               & SK                                                      & North Battleford                                        & General                                                 & Both                                                    & Battlefords Refuge d'urgence Shelter                    & 16                                                     \\\\\n",
       "\t Emergency                                               & SK                                                      & Prince Albert                                           & General                                                 & Both                                                    & YWCA - Our House                                        & 22                                                     \\\\\n",
       "\t Emergency                                               & SK                                                      & Saskatoon                                               & General                                                 & Both                                                    & Lighthouse Supported Living Inc - Stabilization Shelter & 20                                                     \\\\\n",
       "\t Emergency                                               & SK                                                      & Saskatoon                                               & Youth                                                   & Both                                                    & STC Urban Safe House                                    &  5                                                     \\\\\n",
       "\\end{tabular}\n"
      ],
      "text/markdown": [
       "\n",
       "ShelterType | Province | City | TargetPopulation | Gender | ShelterName | Beds | \n",
       "|---|---|---|---|---|---|\n",
       "| Emergency                                               | QC                                                      | Victoriaville                                           | Youth                                                   | Both                                                    | Maison Raymond Roy                                      |  9                                                      | \n",
       "| Emergency                                               | SK                                                      | Moose Jaw                                               | General                                                 | Both                                                    | Riverside Mission                                       | 12                                                      | \n",
       "| Emergency                                               | SK                                                      | North Battleford                                        | General                                                 | Both                                                    | Battlefords Refuge d'urgence Shelter                    | 16                                                      | \n",
       "| Emergency                                               | SK                                                      | Prince Albert                                           | General                                                 | Both                                                    | YWCA - Our House                                        | 22                                                      | \n",
       "| Emergency                                               | SK                                                      | Saskatoon                                               | General                                                 | Both                                                    | Lighthouse Supported Living Inc - Stabilization Shelter | 20                                                      | \n",
       "| Emergency                                               | SK                                                      | Saskatoon                                               | Youth                                                   | Both                                                    | STC Urban Safe House                                    |  5                                                      | \n",
       "\n",
       "\n"
      ],
      "text/plain": [
       "  ShelterType Province City             TargetPopulation Gender\n",
       "1 Emergency   QC       Victoriaville    Youth            Both  \n",
       "2 Emergency   SK       Moose Jaw        General          Both  \n",
       "3 Emergency   SK       North Battleford General          Both  \n",
       "4 Emergency   SK       Prince Albert    General          Both  \n",
       "5 Emergency   SK       Saskatoon        General          Both  \n",
       "6 Emergency   SK       Saskatoon        Youth            Both  \n",
       "  ShelterName                                             Beds\n",
       "1 Maison Raymond Roy                                       9  \n",
       "2 Riverside Mission                                       12  \n",
       "3 Battlefords Refuge d'urgence Shelter                    16  \n",
       "4 YWCA - Our House                                        22  \n",
       "5 Lighthouse Supported Living Inc - Stabilization Shelter 20  \n",
       "6 STC Urban Safe House                                     5  "
      ]
     },
     "metadata": {},
     "output_type": "display_data"
    }
   ],
   "source": [
    "glimpse(df)\n",
    "head(df)\n",
    "tail(df)"
   ]
  },
  {
   "cell_type": "code",
   "execution_count": 53,
   "metadata": {},
   "outputs": [
    {
     "data": {
      "text/html": [
       "<table>\n",
       "<thead><tr><th scope=col>Province</th><th scope=col>TotalEmergencyBedsForAnyGender</th></tr></thead>\n",
       "<tbody>\n",
       "\t<tr><td>AB  </td><td>2659</td></tr>\n",
       "\t<tr><td>BC  </td><td>1338</td></tr>\n",
       "\t<tr><td>MB  </td><td> 661</td></tr>\n",
       "\t<tr><td>NB  </td><td>  81</td></tr>\n",
       "\t<tr><td>NL  </td><td>  36</td></tr>\n",
       "\t<tr><td>NS  </td><td>  45</td></tr>\n",
       "\t<tr><td>ON  </td><td>2844</td></tr>\n",
       "\t<tr><td>QC  </td><td> 690</td></tr>\n",
       "\t<tr><td>SK  </td><td>  75</td></tr>\n",
       "</tbody>\n",
       "</table>\n"
      ],
      "text/latex": [
       "\\begin{tabular}{r|ll}\n",
       " Province & TotalEmergencyBedsForAnyGender\\\\\n",
       "\\hline\n",
       "\t AB   & 2659\\\\\n",
       "\t BC   & 1338\\\\\n",
       "\t MB   &  661\\\\\n",
       "\t NB   &   81\\\\\n",
       "\t NL   &   36\\\\\n",
       "\t NS   &   45\\\\\n",
       "\t ON   & 2844\\\\\n",
       "\t QC   &  690\\\\\n",
       "\t SK   &   75\\\\\n",
       "\\end{tabular}\n"
      ],
      "text/markdown": [
       "\n",
       "Province | TotalEmergencyBedsForAnyGender | \n",
       "|---|---|---|---|---|---|---|---|---|\n",
       "| AB   | 2659 | \n",
       "| BC   | 1338 | \n",
       "| MB   |  661 | \n",
       "| NB   |   81 | \n",
       "| NL   |   36 | \n",
       "| NS   |   45 | \n",
       "| ON   | 2844 | \n",
       "| QC   |  690 | \n",
       "| SK   |   75 | \n",
       "\n",
       "\n"
      ],
      "text/plain": [
       "  Province TotalEmergencyBedsForAnyGender\n",
       "1 AB       2659                          \n",
       "2 BC       1338                          \n",
       "3 MB        661                          \n",
       "4 NB         81                          \n",
       "5 NL         36                          \n",
       "6 NS         45                          \n",
       "7 ON       2844                          \n",
       "8 QC        690                          \n",
       "9 SK         75                          "
      ]
     },
     "metadata": {},
     "output_type": "display_data"
    }
   ],
   "source": [
    "df_Provincial <- df %>%\n",
    "  select(Province, Beds) %>%\n",
    "  group_by(Province) %>%\n",
    "  summarise(TotalEmergencyBedsForAnyGender = sum(Beds))\n",
    "\n",
    "df_Provincial"
   ]
  },
  {
   "cell_type": "code",
   "execution_count": 54,
   "metadata": {},
   "outputs": [
    {
     "data": {
      "text/html": [
       "<table>\n",
       "<thead><tr><th scope=col>Province</th><th scope=col>TotalEmergencyBedsForAnyGender</th></tr></thead>\n",
       "<tbody>\n",
       "\t<tr><td>AB  </td><td>2659</td></tr>\n",
       "\t<tr><td>BC  </td><td>1338</td></tr>\n",
       "\t<tr><td>MB  </td><td> 661</td></tr>\n",
       "\t<tr><td>NB  </td><td>  81</td></tr>\n",
       "\t<tr><td>NL  </td><td>  36</td></tr>\n",
       "\t<tr><td>NS  </td><td>  45</td></tr>\n",
       "\t<tr><td>ON  </td><td>2844</td></tr>\n",
       "\t<tr><td>QC  </td><td> 690</td></tr>\n",
       "\t<tr><td>SK  </td><td>  75</td></tr>\n",
       "\t<tr><td>PI  </td><td>   0</td></tr>\n",
       "</tbody>\n",
       "</table>\n"
      ],
      "text/latex": [
       "\\begin{tabular}{r|ll}\n",
       " Province & TotalEmergencyBedsForAnyGender\\\\\n",
       "\\hline\n",
       "\t AB   & 2659\\\\\n",
       "\t BC   & 1338\\\\\n",
       "\t MB   &  661\\\\\n",
       "\t NB   &   81\\\\\n",
       "\t NL   &   36\\\\\n",
       "\t NS   &   45\\\\\n",
       "\t ON   & 2844\\\\\n",
       "\t QC   &  690\\\\\n",
       "\t SK   &   75\\\\\n",
       "\t PI   &    0\\\\\n",
       "\\end{tabular}\n"
      ],
      "text/markdown": [
       "\n",
       "Province | TotalEmergencyBedsForAnyGender | \n",
       "|---|---|---|---|---|---|---|---|---|---|\n",
       "| AB   | 2659 | \n",
       "| BC   | 1338 | \n",
       "| MB   |  661 | \n",
       "| NB   |   81 | \n",
       "| NL   |   36 | \n",
       "| NS   |   45 | \n",
       "| ON   | 2844 | \n",
       "| QC   |  690 | \n",
       "| SK   |   75 | \n",
       "| PI   |    0 | \n",
       "\n",
       "\n"
      ],
      "text/plain": [
       "   Province TotalEmergencyBedsForAnyGender\n",
       "1  AB       2659                          \n",
       "2  BC       1338                          \n",
       "3  MB        661                          \n",
       "4  NB         81                          \n",
       "5  NL         36                          \n",
       "6  NS         45                          \n",
       "7  ON       2844                          \n",
       "8  QC        690                          \n",
       "9  SK         75                          \n",
       "10 PI          0                          "
      ]
     },
     "metadata": {},
     "output_type": "display_data"
    }
   ],
   "source": [
    "# add row for one province that does not have emergency beds\n",
    "\n",
    "newRow1 <- data.frame(Province = \"PI\", TotalEmergencyBedsForAnyGender = 0)\n",
    "\n",
    "df_Provincial <- rbind(df_Provincial, newRow1)\n",
    "\n",
    "df_Provincial"
   ]
  },
  {
   "cell_type": "code",
   "execution_count": 55,
   "metadata": {},
   "outputs": [
    {
     "name": "stdout",
     "output_type": "stream",
     "text": [
      "Observations: 10\n",
      "Variables: 3\n",
      "$ Province                       <fctr> AB, BC, MB, NB, NL, NS, ON, QC, SK, PI\n",
      "$ TotalEmergencyBedsForAnyGender <dbl> 2659, 1338, 661, 81, 36, 45, 2844, 6...\n",
      "$ TotalProvincialPopulation      <dbl> 4286134, 4817160, 1338109, 759655, 5...\n"
     ]
    },
    {
     "data": {
      "text/html": [
       "<table>\n",
       "<thead><tr><th scope=col>Province</th><th scope=col>TotalEmergencyBedsForAnyGender</th><th scope=col>TotalProvincialPopulation</th></tr></thead>\n",
       "<tbody>\n",
       "\t<tr><td>AB      </td><td>2659    </td><td> 4286134</td></tr>\n",
       "\t<tr><td>BC      </td><td>1338    </td><td> 4817160</td></tr>\n",
       "\t<tr><td>MB      </td><td> 661    </td><td> 1338109</td></tr>\n",
       "\t<tr><td>NB      </td><td>  81    </td><td>  759655</td></tr>\n",
       "\t<tr><td>NL      </td><td>  36    </td><td>  528817</td></tr>\n",
       "\t<tr><td>NS      </td><td>  45    </td><td>  953869</td></tr>\n",
       "\t<tr><td>ON      </td><td>2844    </td><td>14193384</td></tr>\n",
       "\t<tr><td>QC      </td><td> 690    </td><td> 8394034</td></tr>\n",
       "\t<tr><td>SK      </td><td>  75    </td><td> 1163925</td></tr>\n",
       "\t<tr><td>PI      </td><td>   0    </td><td>  152021</td></tr>\n",
       "</tbody>\n",
       "</table>\n"
      ],
      "text/latex": [
       "\\begin{tabular}{r|lll}\n",
       " Province & TotalEmergencyBedsForAnyGender & TotalProvincialPopulation\\\\\n",
       "\\hline\n",
       "\t AB       & 2659     &  4286134\\\\\n",
       "\t BC       & 1338     &  4817160\\\\\n",
       "\t MB       &  661     &  1338109\\\\\n",
       "\t NB       &   81     &   759655\\\\\n",
       "\t NL       &   36     &   528817\\\\\n",
       "\t NS       &   45     &   953869\\\\\n",
       "\t ON       & 2844     & 14193384\\\\\n",
       "\t QC       &  690     &  8394034\\\\\n",
       "\t SK       &   75     &  1163925\\\\\n",
       "\t PI       &    0     &   152021\\\\\n",
       "\\end{tabular}\n"
      ],
      "text/markdown": [
       "\n",
       "Province | TotalEmergencyBedsForAnyGender | TotalProvincialPopulation | \n",
       "|---|---|---|---|---|---|---|---|---|---|\n",
       "| AB       | 2659     |  4286134 | \n",
       "| BC       | 1338     |  4817160 | \n",
       "| MB       |  661     |  1338109 | \n",
       "| NB       |   81     |   759655 | \n",
       "| NL       |   36     |   528817 | \n",
       "| NS       |   45     |   953869 | \n",
       "| ON       | 2844     | 14193384 | \n",
       "| QC       |  690     |  8394034 | \n",
       "| SK       |   75     |  1163925 | \n",
       "| PI       |    0     |   152021 | \n",
       "\n",
       "\n"
      ],
      "text/plain": [
       "   Province TotalEmergencyBedsForAnyGender TotalProvincialPopulation\n",
       "1  AB       2659                            4286134                 \n",
       "2  BC       1338                            4817160                 \n",
       "3  MB        661                            1338109                 \n",
       "4  NB         81                             759655                 \n",
       "5  NL         36                             528817                 \n",
       "6  NS         45                             953869                 \n",
       "7  ON       2844                           14193384                 \n",
       "8  QC        690                            8394034                 \n",
       "9  SK         75                            1163925                 \n",
       "10 PI          0                             152021                 "
      ]
     },
     "metadata": {},
     "output_type": "display_data"
    }
   ],
   "source": [
    "# Add 2017 population stats for each province\n",
    "# Source: https://www150.statcan.gc.ca/t1/tbl1/en/tv.action?pid=1710000501&pickMembers%5B0%5D=1.10&pickMembers%5B1%5D=2.1\n",
    "\n",
    "df_Provincial$TotalProvincialPopulation <- 0\n",
    "\n",
    "df_Provincial$TotalProvincialPopulation[df_Provincial$Province == \"AB\"] <- 4286134\n",
    "df_Provincial$TotalProvincialPopulation[df_Provincial$Province == \"BC\"] <- 4817160\n",
    "df_Provincial$TotalProvincialPopulation[df_Provincial$Province == \"MB\"] <- 1338109\n",
    "df_Provincial$TotalProvincialPopulation[df_Provincial$Province == \"NB\"] <- 759655\n",
    "df_Provincial$TotalProvincialPopulation[df_Provincial$Province == \"NL\"] <- 528817\n",
    "df_Provincial$TotalProvincialPopulation[df_Provincial$Province == \"NS\"] <- 953869\n",
    "df_Provincial$TotalProvincialPopulation[df_Provincial$Province == \"ON\"] <- 14193384\n",
    "df_Provincial$TotalProvincialPopulation[df_Provincial$Province == \"PI\"] <- 152021\n",
    "df_Provincial$TotalProvincialPopulation[df_Provincial$Province == \"QC\"] <- 8394034\n",
    "df_Provincial$TotalProvincialPopulation[df_Provincial$Province == \"SK\"] <- 1163925\n",
    "\n",
    "glimpse(df_Provincial)\n",
    "df_Provincial"
   ]
  },
  {
   "cell_type": "code",
   "execution_count": 56,
   "metadata": {},
   "outputs": [
    {
     "name": "stdout",
     "output_type": "stream",
     "text": [
      "Observations: 10\n",
      "Variables: 4\n",
      "$ Province                         <fctr> AB, BC, MB, NB, NL, NS, ON, QC, S...\n",
      "$ TotalEmergencyBedsForAnyGender   <dbl> 2659, 1338, 661, 81, 36, 45, 2844,...\n",
      "$ TotalProvincialPopulation        <dbl> 4286134, 4817160, 1338109, 759655,...\n",
      "$ EmergencyBedsForAnyGenderPer100K <dbl> 62, 28, 49, 11, 7, 5, 20, 8, 6, 0\n"
     ]
    },
    {
     "data": {
      "text/html": [
       "<table>\n",
       "<thead><tr><th scope=col>Province</th><th scope=col>TotalEmergencyBedsForAnyGender</th><th scope=col>TotalProvincialPopulation</th><th scope=col>EmergencyBedsForAnyGenderPer100K</th></tr></thead>\n",
       "<tbody>\n",
       "\t<tr><td>AB      </td><td>2659    </td><td> 4286134</td><td>62      </td></tr>\n",
       "\t<tr><td>BC      </td><td>1338    </td><td> 4817160</td><td>28      </td></tr>\n",
       "\t<tr><td>MB      </td><td> 661    </td><td> 1338109</td><td>49      </td></tr>\n",
       "\t<tr><td>NB      </td><td>  81    </td><td>  759655</td><td>11      </td></tr>\n",
       "\t<tr><td>NL      </td><td>  36    </td><td>  528817</td><td> 7      </td></tr>\n",
       "\t<tr><td>NS      </td><td>  45    </td><td>  953869</td><td> 5      </td></tr>\n",
       "\t<tr><td>ON      </td><td>2844    </td><td>14193384</td><td>20      </td></tr>\n",
       "\t<tr><td>QC      </td><td> 690    </td><td> 8394034</td><td> 8      </td></tr>\n",
       "\t<tr><td>SK      </td><td>  75    </td><td> 1163925</td><td> 6      </td></tr>\n",
       "\t<tr><td>PI      </td><td>   0    </td><td>  152021</td><td> 0      </td></tr>\n",
       "</tbody>\n",
       "</table>\n"
      ],
      "text/latex": [
       "\\begin{tabular}{r|llll}\n",
       " Province & TotalEmergencyBedsForAnyGender & TotalProvincialPopulation & EmergencyBedsForAnyGenderPer100K\\\\\n",
       "\\hline\n",
       "\t AB       & 2659     &  4286134 & 62      \\\\\n",
       "\t BC       & 1338     &  4817160 & 28      \\\\\n",
       "\t MB       &  661     &  1338109 & 49      \\\\\n",
       "\t NB       &   81     &   759655 & 11      \\\\\n",
       "\t NL       &   36     &   528817 &  7      \\\\\n",
       "\t NS       &   45     &   953869 &  5      \\\\\n",
       "\t ON       & 2844     & 14193384 & 20      \\\\\n",
       "\t QC       &  690     &  8394034 &  8      \\\\\n",
       "\t SK       &   75     &  1163925 &  6      \\\\\n",
       "\t PI       &    0     &   152021 &  0      \\\\\n",
       "\\end{tabular}\n"
      ],
      "text/markdown": [
       "\n",
       "Province | TotalEmergencyBedsForAnyGender | TotalProvincialPopulation | EmergencyBedsForAnyGenderPer100K | \n",
       "|---|---|---|---|---|---|---|---|---|---|\n",
       "| AB       | 2659     |  4286134 | 62       | \n",
       "| BC       | 1338     |  4817160 | 28       | \n",
       "| MB       |  661     |  1338109 | 49       | \n",
       "| NB       |   81     |   759655 | 11       | \n",
       "| NL       |   36     |   528817 |  7       | \n",
       "| NS       |   45     |   953869 |  5       | \n",
       "| ON       | 2844     | 14193384 | 20       | \n",
       "| QC       |  690     |  8394034 |  8       | \n",
       "| SK       |   75     |  1163925 |  6       | \n",
       "| PI       |    0     |   152021 |  0       | \n",
       "\n",
       "\n"
      ],
      "text/plain": [
       "   Province TotalEmergencyBedsForAnyGender TotalProvincialPopulation\n",
       "1  AB       2659                            4286134                 \n",
       "2  BC       1338                            4817160                 \n",
       "3  MB        661                            1338109                 \n",
       "4  NB         81                             759655                 \n",
       "5  NL         36                             528817                 \n",
       "6  NS         45                             953869                 \n",
       "7  ON       2844                           14193384                 \n",
       "8  QC        690                            8394034                 \n",
       "9  SK         75                            1163925                 \n",
       "10 PI          0                             152021                 \n",
       "   EmergencyBedsForAnyGenderPer100K\n",
       "1  62                              \n",
       "2  28                              \n",
       "3  49                              \n",
       "4  11                              \n",
       "5   7                              \n",
       "6   5                              \n",
       "7  20                              \n",
       "8   8                              \n",
       "9   6                              \n",
       "10  0                              "
      ]
     },
     "metadata": {},
     "output_type": "display_data"
    }
   ],
   "source": [
    "df_Provincial <- df_Provincial %>%\n",
    "  mutate(EmergencyBedsForAnyGenderPer100K = round(TotalEmergencyBedsForAnyGender / TotalProvincialPopulation * 100000))\n",
    "\n",
    "glimpse(df_Provincial)\n",
    "df_Provincial"
   ]
  },
  {
   "cell_type": "markdown",
   "metadata": {},
   "source": [
    "## Display a map of Canada showing results"
   ]
  },
  {
   "cell_type": "code",
   "execution_count": 57,
   "metadata": {},
   "outputs": [
    {
     "name": "stdout",
     "output_type": "stream",
     "text": [
      "Reading layer `lpr_000b16a_e' from data source `C:\\Users\\tarji\\GIS_Canada\\lpr_000b16a_e.shp' using driver `ESRI Shapefile'\n",
      "Simple feature collection with 13 features and 6 fields\n",
      "geometry type:  MULTIPOLYGON\n",
      "dimension:      XY\n",
      "bbox:           xmin: 3689439 ymin: 659338.9 xmax: 9015737 ymax: 5242179\n",
      "epsg (SRID):    NA\n",
      "proj4string:    +proj=lcc +lat_1=49 +lat_2=77 +lat_0=63.390675 +lon_0=-91.86666666666666 +x_0=6200000 +y_0=3000000 +datum=NAD83 +units=m +no_defs\n"
     ]
    }
   ],
   "source": [
    "CanadaMap <- st_read(\"GIS_Canada/lpr_000b16a_e.shp\")"
   ]
  },
  {
   "cell_type": "code",
   "execution_count": 58,
   "metadata": {},
   "outputs": [
    {
     "data": {
      "text/plain": [
       "[1] \"2018-08-07 19:28:10 AST\""
      ]
     },
     "metadata": {},
     "output_type": "display_data"
    },
    {
     "name": "stdout",
     "output_type": "stream",
     "text": [
      "Observations: 13\n",
      "Variables: 7\n",
      "$ PRUID    <fctr> 10, 11, 12, 13, 24, 35, 46, 47, 48, 59, 60, 61, 62\n",
      "$ PRNAME   <fctr> Newfoundland and Labrador / Terre-Neuve-et-Labrador, Prin...\n",
      "$ PRENAME  <fctr> Newfoundland and Labrador, Prince Edward Island, Nova Sco...\n",
      "$ PRFNAME  <fctr> Terre-Neuve-et-Labrador, Île-du-Prince-Édouard, Nouvelle-...\n",
      "$ PREABBR  <fctr> N.L., P.E.I., N.S., N.B., Que., Ont., Man., Sask., Alta.,...\n",
      "$ PRFABBR  <fctr> T.-N.-L., Î.-P.-É., N.-É., N.-B., Qc, Ont., Man., Sask., ...\n",
      "$ geometry <simple_feature> MULTIPOLYGON (((8307365.588..., MULTIPOLYGON ((...\n"
     ]
    },
    {
     "data": {
      "text/plain": [
       "[1] \"2018-08-07 19:30:05 AST\""
      ]
     },
     "metadata": {},
     "output_type": "display_data"
    }
   ],
   "source": [
    "Sys.time()\n",
    "glimpse(CanadaMap)\n",
    "Sys.time()"
   ]
  },
  {
   "cell_type": "code",
   "execution_count": 59,
   "metadata": {},
   "outputs": [],
   "source": [
    "# Sys.time()\n",
    "# CanadaMap\n",
    "# Sys.time()"
   ]
  },
  {
   "cell_type": "code",
   "execution_count": 60,
   "metadata": {},
   "outputs": [
    {
     "name": "stdout",
     "output_type": "stream",
     "text": [
      "Observations: 10\n",
      "Variables: 5\n",
      "$ Province                         <fctr> AB, BC, MB, NB, NL, NS, ON, QC, S...\n",
      "$ TotalEmergencyBedsForAnyGender   <dbl> 2659, 1338, 661, 81, 36, 45, 2844,...\n",
      "$ TotalProvincialPopulation        <dbl> 4286134, 4817160, 1338109, 759655,...\n",
      "$ EmergencyBedsForAnyGenderPer100K <dbl> 62, 28, 49, 11, 7, 5, 20, 8, 6, 0\n",
      "$ PREABBR                          <fctr> Alta., B.C., Man., N.B., N.L., N....\n"
     ]
    },
    {
     "data": {
      "text/html": [
       "<table>\n",
       "<thead><tr><th scope=col>Province</th><th scope=col>TotalEmergencyBedsForAnyGender</th><th scope=col>TotalProvincialPopulation</th><th scope=col>EmergencyBedsForAnyGenderPer100K</th><th scope=col>PREABBR</th></tr></thead>\n",
       "<tbody>\n",
       "\t<tr><td>AB      </td><td>2659    </td><td> 4286134</td><td>62      </td><td>Alta.   </td></tr>\n",
       "\t<tr><td>BC      </td><td>1338    </td><td> 4817160</td><td>28      </td><td>B.C.    </td></tr>\n",
       "\t<tr><td>MB      </td><td> 661    </td><td> 1338109</td><td>49      </td><td>Man.    </td></tr>\n",
       "\t<tr><td>NB      </td><td>  81    </td><td>  759655</td><td>11      </td><td>N.B.    </td></tr>\n",
       "\t<tr><td>NL      </td><td>  36    </td><td>  528817</td><td> 7      </td><td>N.L.    </td></tr>\n",
       "\t<tr><td>NS      </td><td>  45    </td><td>  953869</td><td> 5      </td><td>N.S.    </td></tr>\n",
       "\t<tr><td>ON      </td><td>2844    </td><td>14193384</td><td>20      </td><td>Ont.    </td></tr>\n",
       "\t<tr><td>QC      </td><td> 690    </td><td> 8394034</td><td> 8      </td><td>Que.    </td></tr>\n",
       "\t<tr><td>SK      </td><td>  75    </td><td> 1163925</td><td> 6      </td><td>Sask.   </td></tr>\n",
       "\t<tr><td>PI      </td><td>   0    </td><td>  152021</td><td> 0      </td><td>P.E.I.  </td></tr>\n",
       "</tbody>\n",
       "</table>\n"
      ],
      "text/latex": [
       "\\begin{tabular}{r|lllll}\n",
       " Province & TotalEmergencyBedsForAnyGender & TotalProvincialPopulation & EmergencyBedsForAnyGenderPer100K & PREABBR\\\\\n",
       "\\hline\n",
       "\t AB       & 2659     &  4286134 & 62       & Alta.   \\\\\n",
       "\t BC       & 1338     &  4817160 & 28       & B.C.    \\\\\n",
       "\t MB       &  661     &  1338109 & 49       & Man.    \\\\\n",
       "\t NB       &   81     &   759655 & 11       & N.B.    \\\\\n",
       "\t NL       &   36     &   528817 &  7       & N.L.    \\\\\n",
       "\t NS       &   45     &   953869 &  5       & N.S.    \\\\\n",
       "\t ON       & 2844     & 14193384 & 20       & Ont.    \\\\\n",
       "\t QC       &  690     &  8394034 &  8       & Que.    \\\\\n",
       "\t SK       &   75     &  1163925 &  6       & Sask.   \\\\\n",
       "\t PI       &    0     &   152021 &  0       & P.E.I.  \\\\\n",
       "\\end{tabular}\n"
      ],
      "text/markdown": [
       "\n",
       "Province | TotalEmergencyBedsForAnyGender | TotalProvincialPopulation | EmergencyBedsForAnyGenderPer100K | PREABBR | \n",
       "|---|---|---|---|---|---|---|---|---|---|\n",
       "| AB       | 2659     |  4286134 | 62       | Alta.    | \n",
       "| BC       | 1338     |  4817160 | 28       | B.C.     | \n",
       "| MB       |  661     |  1338109 | 49       | Man.     | \n",
       "| NB       |   81     |   759655 | 11       | N.B.     | \n",
       "| NL       |   36     |   528817 |  7       | N.L.     | \n",
       "| NS       |   45     |   953869 |  5       | N.S.     | \n",
       "| ON       | 2844     | 14193384 | 20       | Ont.     | \n",
       "| QC       |  690     |  8394034 |  8       | Que.     | \n",
       "| SK       |   75     |  1163925 |  6       | Sask.    | \n",
       "| PI       |    0     |   152021 |  0       | P.E.I.   | \n",
       "\n",
       "\n"
      ],
      "text/plain": [
       "   Province TotalEmergencyBedsForAnyGender TotalProvincialPopulation\n",
       "1  AB       2659                            4286134                 \n",
       "2  BC       1338                            4817160                 \n",
       "3  MB        661                            1338109                 \n",
       "4  NB         81                             759655                 \n",
       "5  NL         36                             528817                 \n",
       "6  NS         45                             953869                 \n",
       "7  ON       2844                           14193384                 \n",
       "8  QC        690                            8394034                 \n",
       "9  SK         75                            1163925                 \n",
       "10 PI          0                             152021                 \n",
       "   EmergencyBedsForAnyGenderPer100K PREABBR\n",
       "1  62                               Alta.  \n",
       "2  28                               B.C.   \n",
       "3  49                               Man.   \n",
       "4  11                               N.B.   \n",
       "5   7                               N.L.   \n",
       "6   5                               N.S.   \n",
       "7  20                               Ont.   \n",
       "8   8                               Que.   \n",
       "9   6                               Sask.  \n",
       "10  0                               P.E.I. "
      ]
     },
     "metadata": {},
     "output_type": "display_data"
    }
   ],
   "source": [
    "# Add a column for PREABBR to df_Provincial in order to do a join with CanadaMap\n",
    "\n",
    "\n",
    "df_Provincial$PREABBR <- \"unknown\"\n",
    "\n",
    "df_Provincial$PREABBR[df_Provincial$Province == \"AB\"] <- \"Alta.\"\n",
    "df_Provincial$PREABBR[df_Provincial$Province == \"BC\"] <- \"B.C.\"\n",
    "df_Provincial$PREABBR[df_Provincial$Province == \"MB\"] <- \"Man.\"\n",
    "df_Provincial$PREABBR[df_Provincial$Province == \"NB\"] <- \"N.B.\"\n",
    "df_Provincial$PREABBR[df_Provincial$Province == \"NL\"] <- \"N.L.\"\n",
    "df_Provincial$PREABBR[df_Provincial$Province == \"NS\"] <- \"N.S.\"\n",
    "df_Provincial$PREABBR[df_Provincial$Province == \"ON\"] <- \"Ont.\"\n",
    "df_Provincial$PREABBR[df_Provincial$Province == \"PI\"] <- \"P.E.I.\"\n",
    "df_Provincial$PREABBR[df_Provincial$Province == \"QC\"] <- \"Que.\"\n",
    "df_Provincial$PREABBR[df_Provincial$Province == \"SK\"] <- \"Sask.\"\n",
    "\n",
    "df_Provincial$PREABBR <- as.factor(df_Provincial$PREABBR)\n",
    "glimpse(df_Provincial)\n",
    "df_Provincial"
   ]
  },
  {
   "cell_type": "code",
   "execution_count": 61,
   "metadata": {},
   "outputs": [],
   "source": [
    "# Add a column for Year\n",
    "\n",
    "df_Provincial$Year <- 2017"
   ]
  },
  {
   "cell_type": "code",
   "execution_count": 62,
   "metadata": {},
   "outputs": [],
   "source": [
    "# Before merging with a shapefile for polygon data, write the data to a table in csv format\n",
    "# Table_B\n",
    "\n",
    "write.csv(df_Provincial, \n",
    "          file = \"Table_D.csv\",\n",
    "          row.names = FALSE) # set row.name to FALSE to not include an index column in the csv output file"
   ]
  },
  {
   "cell_type": "code",
   "execution_count": 63,
   "metadata": {},
   "outputs": [],
   "source": [
    "CanadaMap <- merge(CanadaMap, df_Provincial) # join the two dataframes, merge will use the common column name to join with"
   ]
  },
  {
   "cell_type": "code",
   "execution_count": 64,
   "metadata": {},
   "outputs": [
    {
     "data": {
      "text/plain": [
       "[1] \"2018-08-07 19:30:07 AST\""
      ]
     },
     "metadata": {},
     "output_type": "display_data"
    },
    {
     "name": "stdout",
     "output_type": "stream",
     "text": [
      "Observations: 10\n",
      "Variables: 12\n",
      "$ PREABBR                          <fctr> Alta., B.C., Man., N.B., N.L., N....\n",
      "$ PRUID                            <fctr> 48, 59, 46, 13, 10, 12, 35, 11, 2...\n",
      "$ PRNAME                           <fctr> Alberta, British Columbia / Colom...\n",
      "$ PRENAME                          <fctr> Alberta, British Columbia, Manito...\n",
      "$ PRFNAME                          <fctr> Alberta, Colombie-Britannique, Ma...\n",
      "$ PRFABBR                          <fctr> Alb., C.-B., Man., N.-B., T.-N.-L...\n",
      "$ Province                         <fctr> AB, BC, MB, NB, NL, NS, ON, PI, Q...\n",
      "$ TotalEmergencyBedsForAnyGender   <dbl> 2659, 1338, 661, 81, 36, 45, 2844,...\n",
      "$ TotalProvincialPopulation        <dbl> 4286134, 4817160, 1338109, 759655,...\n",
      "$ EmergencyBedsForAnyGenderPer100K <dbl> 62, 28, 49, 11, 7, 5, 20, 0, 8, 6\n",
      "$ Year                             <dbl> 2017, 2017, 2017, 2017, 2017, 2017...\n",
      "$ geometry                         <simple_feature> MULTIPOLYGON (((5228304...\n"
     ]
    },
    {
     "data": {
      "text/plain": [
       "[1] \"2018-08-07 19:31:22 AST\""
      ]
     },
     "metadata": {},
     "output_type": "display_data"
    }
   ],
   "source": [
    "Sys.time()\n",
    "glimpse(CanadaMap)\n",
    "Sys.time()"
   ]
  },
  {
   "cell_type": "code",
   "execution_count": 65,
   "metadata": {},
   "outputs": [
    {
     "data": {
      "text/plain": [
       "[1] \"2018-08-07 19:31:22 AST\""
      ]
     },
     "metadata": {},
     "output_type": "display_data"
    },
    {
     "data": {},
     "metadata": {},
     "output_type": "display_data"
    },
    {
     "data": {
      "text/plain": [
       "[1] \"2018-08-07 19:34:12 AST\""
      ]
     },
     "metadata": {},
     "output_type": "display_data"
    },
    {
     "data": {
      "image/png": "[encoded data removed]",
      "text/plain": [
       "plot without title"
      ]
     },
     "metadata": {},
     "output_type": "display_data"
    }
   ],
   "source": [
    "Sys.time()\n",
    "\n",
    "my_map_D0 <-\n",
    "  tm_shape(CanadaMap) +\n",
    "  tm_polygons(col = \"EmergencyBedsForAnyGenderPer100K\", palette = \"Oranges\", style = \"order\") +\n",
    "  tm_legend(legend.outside = TRUE, legend.outside.position = \"bottom\") +\n",
    "  tm_text(text = \"EmergencyBedsForAnyGenderPer100K\", size = .6) + \n",
    "  tm_layout(frame = FALSE, \n",
    "            legend.show = FALSE,\n",
    "            main.title = \"Number of Emergency Homeless Beds at Non-Gender Specific Shelters\\nPer 100,000 Population, 2017\",\n",
    "            main.title.size = 1)\n",
    "\n",
    "my_map_D0\n",
    "\n",
    "Sys.time()"
   ]
  },
  {
   "cell_type": "code",
   "execution_count": 66,
   "metadata": {},
   "outputs": [],
   "source": [
    "# Sys.time()\n",
    "#   save_tmap(tm = my_map_D0, \n",
    "#             filename = \"Number of Emergency Homeless Beds at Non-Gender Specific Shelters Per 100,000 Population, 2017.png\")\n",
    "# Sys.time()"
   ]
  },
  {
   "cell_type": "markdown",
   "metadata": {},
   "source": [
    "# Main Script Ends Here"
   ]
  },
  {
   "cell_type": "code",
   "execution_count": 67,
   "metadata": {},
   "outputs": [
    {
     "data": {
      "text/plain": [
       "[1] \"2018-08-07 19:34:30 AST\""
      ]
     },
     "metadata": {},
     "output_type": "display_data"
    }
   ],
   "source": [
    "Sys.time()"
   ]
  },
  {
   "cell_type": "markdown",
   "metadata": {},
   "source": [
    "# Appendix 1 - Examples of common coding techniques"
   ]
  },
  {
   "cell_type": "code",
   "execution_count": 68,
   "metadata": {},
   "outputs": [],
   "source": [
    "# Example of how to read and filter a large csv file a chunk at a time, e.g. filter 50000 rows at a time into a new dataframe\n",
    "# This is very efficient, comparable to fread in speed but done in chunks to conserve memory\n",
    "# I also prefer it to fread because I can filter out rows with missing values as I import the data\n",
    "# and specify which columns I want to import \n",
    "# need readr library from tidyverse library\n",
    "\n",
    "\n",
    "# Sys.time() # start time for reading file\n",
    "# f <- function(x, pos) subset(x, \n",
    "#                             !is.na(Beds) # filter out any rows with missing values in the specified column in parenthesis\n",
    "#                             & Gender == \"Male\") # only include rows where the specified condition is met\n",
    "#                             & any other criteria for filtering\n",
    "# df <- read_csv_chunked(\"http://www.edsc-esdc.gc.ca/ouvert-open/hps/CDHPD-OpenDataNSPL-DataSet-20170804-ENFR.csv\", \n",
    "#                            DataFrameCallback$new(f), \n",
    "#                            chunk_size = 50000, # this is an adequate chunk size\n",
    "#                            # col_names = TRUE # this will keep original column names if you don't provide custom names\n",
    "#                                               # most of the time it's best to rename every column explicitly as shown below\n",
    "#                            col_names = c(\"ShelterType\", # this renames each column in order of the csv file to what you specify\n",
    "#                                          \"ProvinceCode\",\n",
    "#                                          \"City\",\n",
    "#                                          \"TargetPopulation\",\n",
    "#                                          \"Gender\",\n",
    "#                                          \"ShelterName\",\n",
    "#                                          \"Beds\"), # all other columns after this will be dropped if not included        \n",
    "#                            cols_only( # specify which columns with data types you want to include \n",
    "#                                       # to avoid importing unwanted data\n",
    "#                                       # include all columns that you specified above with col_names if you renamed them\n",
    "#                                \"ShelterType\" = col_character(),\n",
    "#                                \"ProvinceCode\" = col_character(),\n",
    "#                                \"City\" = col_character(),\n",
    "#                                \"TargetPopulation\" = col_character(),\n",
    "#                                \"Gender\" = col_character(),\n",
    "#                                \"ShelterName\" = col_character(),\n",
    "#                                \"Beds\" = col_number()),\n",
    "#                            skip = 1, # skip original column headers if you renamed them\n",
    "#                            trim_ws = TRUE) # trim leading and trailing whitespace for each data point\n",
    "# Sys.time() # end time for reading file"
   ]
  },
  {
   "cell_type": "code",
   "execution_count": 69,
   "metadata": {},
   "outputs": [],
   "source": [
    "# Example of how to read csv files quickly with fread while converting all chr variables to factors \n",
    "# need data.table library\n",
    "# Use fread when you are a lazy and know you won't have memory issues loading the entire dataset at once\n",
    "# or when you know you need to keep all information loaded into memory\n",
    "\n",
    "# df <- fread(\"DataFilesAOP/AB_Provincial_Detailed_Crime_Stats_2006-2011-2016.csv\", \n",
    "#            stringsAsFactors = TRUE, header = TRUE)"
   ]
  },
  {
   "cell_type": "code",
   "execution_count": 70,
   "metadata": {},
   "outputs": [],
   "source": [
    "# Example of how to write a dataframe to a csv file\n",
    "\n",
    "# write.csv(df, \n",
    "#           file = \"NS_Crime_Stats_Clean_Extract3.csv\",\n",
    "#           row.names = FALSE) # set row.name to FALSE to not include an index column in the csv output file"
   ]
  },
  {
   "cell_type": "code",
   "execution_count": 71,
   "metadata": {},
   "outputs": [],
   "source": [
    "# Example how to change all of the column names in a dataframe to something friendlier\n",
    "# You want to avoid special characters and spaces in column names to prevent problems with differnt packages and features\n",
    "# Provide new names in a character vector\n",
    "\n",
    "# colnames(df) <- c(\" \", \" \")"
   ]
  },
  {
   "cell_type": "code",
   "execution_count": 72,
   "metadata": {},
   "outputs": [],
   "source": [
    "# Example how to set the number of digits displayed in dataframes\n",
    "\n",
    "# options(digits=15) # set the visible number of digits to 15, useful when displaying GIS coordinates in dataframes\n",
    "# options(\"digits\") # display the max number of digits that appear in cells of a dataframe"
   ]
  },
  {
   "cell_type": "code",
   "execution_count": 73,
   "metadata": {},
   "outputs": [],
   "source": [
    "# Example of how to convert columns to the correct data types and how to delete columns from a dataframe\n",
    "\n",
    "# use as.numeric() and as.factor() where appropriate\n",
    "# df$column_name <- NULL will delete that column from the dataframe"
   ]
  },
  {
   "cell_type": "code",
   "execution_count": 74,
   "metadata": {},
   "outputs": [],
   "source": [
    "# Example of how to recode values of a column for rows meeting a condition\n",
    "\n",
    "# df$LATITUDE[df$GEO == \n",
    "#                          \"Amherst, Nova Scotia, municipal\"] <- 45.8338198\n",
    "# df$LONGITUDE[df$GEO == \n",
    "#                          \"Amherst, Nova Scotia, municipal\"] <- -64.2109455\n",
    "#\n",
    "# df$COUNTY[df$GEO ==\n",
    "#                          \"Amherst, Nova Scotia, municipal\"] <- \"Cumberland\""
   ]
  },
  {
   "cell_type": "code",
   "execution_count": 75,
   "metadata": {},
   "outputs": [],
   "source": [
    "# Example of how to filter a dataframe to rows where a specific string appears anywhere in a specific column\n",
    "# This example filters df to rows where \"MEP\" appears in the \"Contents\" column (need stringr library)\n",
    "\n",
    "# df_MEP <- df %>%\n",
    "#   filter(str_detect(Contents, \"MEP\"))"
   ]
  },
  {
   "cell_type": "code",
   "execution_count": 76,
   "metadata": {},
   "outputs": [],
   "source": [
    "# Example of how to handle dates - converting from timestamp to YYYYMMDD\n",
    "# This example is adequate if you really don't need a date field for arithmetic or plotting with ggplot2\n",
    "\n",
    "# parse out date and time from Timestamp\n",
    "# df <- \n",
    "#   separate(df, Timestamp, # e.g., \"01/01/2017 12:00:00 AM\"\n",
    "#           into = c(\"Date\", \"Time\", \"AMPM\"), sep = \" \")\n",
    "\n",
    "# parse out Month, Day, Year from Date\n",
    "# df <- \n",
    "#  separate(df, Date, \n",
    "#           into = c(\"Month\", \"Day\", \"Year\"), sep = \"/\")\n",
    "\n",
    "# Remove unwanted columns\n",
    "# df$Time <- NULL\n",
    "# df$AMPM <- NULL\n",
    "\n",
    "# unite the columns \"Year\", \"Month\", \"Day\" into a single column for \"YYYYMMDD\"\n",
    "# df <- \n",
    "#  unite_(df, \"YYYYMMDD\", c(\"Year\",\"Month\", \"Day\"), sep = \"\")\n",
    "\n",
    "# sort by date in decreasing order\n",
    "# df <- df[order(df$YYYYMMDD, decreasing = TRUE), ]"
   ]
  },
  {
   "cell_type": "code",
   "execution_count": 77,
   "metadata": {},
   "outputs": [],
   "source": [
    "# Use the lubridate library if arithmetic is important when working with date and time data\n",
    "# In my opinion, the lubridate functions are more complicated than my current needs, so I prefer my approach above\n",
    "# for handling dates/times\n",
    "\n",
    "# https://lubridate.tidyverse.org/\n",
    "# https://rawgit.com/rstudio/cheatsheets/master/lubridate.pdf"
   ]
  },
  {
   "cell_type": "code",
   "execution_count": 78,
   "metadata": {},
   "outputs": [],
   "source": [
    "# Example of how to subset and retain only selected characters from a cell\n",
    "# This is useful if you want to strip out useless characters in a cell given a start and end position to retain\n",
    "# need stringr library\n",
    "\n",
    "# df$gps <- \n",
    "#   str_sub(df$gps, start = 3, end = -2) \n",
    "\n",
    "# this gets rid of the first 3 characters and the last two characters\n",
    "# you can get an accurate count of characters when viewing them with glimpse(df)"
   ]
  },
  {
   "cell_type": "code",
   "execution_count": 79,
   "metadata": {},
   "outputs": [],
   "source": [
    "# Example how to merge two dataframes on common column names\n",
    "# https://stackoverflow.com/questions/1299871/how-to-join-merge-data-frames-inner-outer-left-right\n",
    "\n",
    "# CanadaMap <- merge(CanadaMap, df_Provincial) # join the two dataframes, merge will use the common column name to join with"
   ]
  },
  {
   "cell_type": "code",
   "execution_count": 80,
   "metadata": {},
   "outputs": [],
   "source": [
    "# Example of how to combine two or more dataframes vertically with the same column names\n",
    "\n",
    "# df4 <- rbind(df1, df2, df3)"
   ]
  },
  {
   "cell_type": "code",
   "execution_count": 81,
   "metadata": {},
   "outputs": [],
   "source": [
    "# Example of how to combine two or more dataframes horizontally with the same number of rows but different columns\n",
    "\n",
    "# df4 <- cbind(df1, df2, df3)"
   ]
  },
  {
   "cell_type": "code",
   "execution_count": 82,
   "metadata": {},
   "outputs": [],
   "source": [
    "# Example of how to create a new column that takes on values by performing arithmetic on existing columns \n",
    "# need dplyr and tidyverse library\n",
    "# This example creates a new column that divides one column by another and mutliplies the result by a constant\n",
    "\n",
    "# NSMAP2011 <- NSMAP2011 %>%\n",
    "#   mutate(PropertyCrimeCountyRatePer100K = PropertyCrimeIncidentsPerCounty/CountyPopulation * 100000)"
   ]
  },
  {
   "cell_type": "code",
   "execution_count": 83,
   "metadata": {},
   "outputs": [],
   "source": [
    "# Example of how to order a dataframe by a column in descening order\n",
    "# a \"-\" in front of the column name will sort it in descending (largest to lowest) order\n",
    "\n",
    "# df <- \n",
    "#  df[with(df, order(-Incidents_Total)), ]\n",
    "\n",
    "\n",
    "# adding multiple column names will prioritize ordering in that sequence\n",
    "\n",
    "# df <- \n",
    "#  df[with(df, order(REGION, COUNTY, GEO, Violations, Statistics)), ]\n",
    "\n",
    "#--------------------\n",
    "# Alternatively, you can also use the following:\n",
    "# sort by date in decreasing order\n",
    "# df <- df[order(df$YYYYMMDD, decreasing = TRUE), ]"
   ]
  },
  {
   "cell_type": "code",
   "execution_count": 84,
   "metadata": {},
   "outputs": [],
   "source": [
    "# Before spreading data for tidy format, make sure to remove any special characters beforehand\n",
    "# This ensures that after spreading the data, the column names are all properly formatted\n",
    "# Properly formated column names will always appear flushed next to the dollar sign when glimpsing a dataframe\n",
    "# If spaces or special characters are present in the column name, they will appear within single quotes after the dollar sign\n",
    "# when glimpsing the dataframe after spreading the data\n",
    "\n",
    "# df_health$Indicators <- gsub(\" \", \"_\", df_health$Indicators)\n",
    "# df_health$Indicators <- gsub(\",\", \"\", df_health$Indicators)\n",
    "# df_health$Indicators <- gsub(\";\", \"\", df_health$Indicators)\n",
    "# df_health$Indicators <- gsub(\"-\", \"_\", df_health$Indicators)\n",
    "# df_health$Indicators <- gsub(\"\\\\(\", \"\", df_health$Indicators) # this removes left parenthesis\n",
    "# df_health$Indicators <- gsub(\"\\\\)\", \"\", df_health$Indicators) # this removes right parenthesis\n",
    "\n",
    "# df_health <- df_health %>%\n",
    "#   spread(Indicators, Value)"
   ]
  },
  {
   "cell_type": "code",
   "execution_count": 85,
   "metadata": {},
   "outputs": [],
   "source": [
    "# Example of how to load a shapefile for mapping \n",
    "# need sf library\n",
    "\n",
    "# NS <- st_read(\"GIS_Nova_Scotia/Counties_GCS.shp\")"
   ]
  },
  {
   "cell_type": "code",
   "execution_count": 86,
   "metadata": {},
   "outputs": [],
   "source": [
    "# Example how to convert a dataframe of lats/longs to a an sf dataframe for points spatial data \n",
    "# need sf library\n",
    "\n",
    "# pts <- st_as_sf(df, coords = c(\"LONGITUDE\", \"LATITUDE\"), crs = 4269) # create sf object called \"pts\" from df\n",
    "# class(pts)\n",
    "# glimpse(pts) # LONGITUDE and LATITUDE columns are replaced with a geometry column for point data"
   ]
  },
  {
   "cell_type": "code",
   "execution_count": 87,
   "metadata": {},
   "outputs": [],
   "source": [
    "# Example how to add custom icons for points spatial data \n",
    "# need sf library and tmap library\n",
    "\n",
    "# Using custom icons for points instead of bubbles\n",
    "\n",
    "# file <- \"DataFilesGeneral/flower_960_720.png\"  \n",
    "# flower_icon <- tmap_icons(file, width = 48, height = 48, keep.asp = TRUE,\n",
    "#   just = c(\"center\", \"center\"), as.local = TRUE)\n",
    "\n",
    "# my_map_2 <- my_map_0 +\n",
    "#   tm_shape(pts) +\n",
    "#   tm_symbols(\"VALUE\", shape = flower_icon, size = .3, alpha = .2, border.alpha = 0) \n",
    "# my_map_2"
   ]
  },
  {
   "cell_type": "markdown",
   "metadata": {},
   "source": [
    "# Appendix 2 - Note regarding preferred way for installing packages"
   ]
  },
  {
   "cell_type": "code",
   "execution_count": 88,
   "metadata": {},
   "outputs": [],
   "source": [
    "# Preferrably, install new packages via Anaconda Prompt > conda install r-package_name\n",
    "# Try to only use library() in notebook instead of install.packages()\n",
    "# this is more reliable than using install.packages(\"package name\") in R script\n",
    "# Anaconda Prompt > conda list shows what packages are installed\n",
    "\n",
    "# However, when the above isn't true for some reason, it is noted below\n",
    "# e.g., tmap must be installed through install.packages(\"tmap\")"
   ]
  }
 ],
 "metadata": {
  "kernelspec": {
   "display_name": "R",
   "language": "R",
   "name": "ir"
  },
  "language_info": {
   "codemirror_mode": "r",
   "file_extension": ".r",
   "mimetype": "text/x-r-source",
   "name": "R",
   "pygments_lexer": "r",
   "version": "3.4.3"
  }
 },
 "nbformat": 4,
 "nbformat_minor": 2
}
