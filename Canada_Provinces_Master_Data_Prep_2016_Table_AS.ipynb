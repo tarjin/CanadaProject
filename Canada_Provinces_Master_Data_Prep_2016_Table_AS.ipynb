{
 "cells": [
  {
   "cell_type": "code",
   "execution_count": 1,
   "metadata": {},
   "outputs": [
    {
     "data": {
      "text/plain": [
       "[1] \"2018-08-15 13:28:01 AST\""
      ]
     },
     "metadata": {},
     "output_type": "display_data"
    }
   ],
   "source": [
    "# Must run this notebook from root directory in Anaconda for relative local file paths to work\n",
    "\n",
    "Sys.time() # script start time"
   ]
  },
  {
   "cell_type": "markdown",
   "metadata": {},
   "source": [
    "# Install and attach packages"
   ]
  },
  {
   "cell_type": "code",
   "execution_count": 2,
   "metadata": {},
   "outputs": [],
   "source": [
    "# See note at the end of this notebook regarding the preferred way of installing packages"
   ]
  },
  {
   "cell_type": "code",
   "execution_count": 3,
   "metadata": {},
   "outputs": [
    {
     "name": "stderr",
     "output_type": "stream",
     "text": [
      "-- Attaching packages --------------------------------------- tidyverse 1.2.1 --\n",
      "v ggplot2 2.2.1     v purrr   0.2.4\n",
      "v tibble  1.4.1     v dplyr   0.7.4\n",
      "v tidyr   0.7.2     v stringr 1.2.0\n",
      "v readr   1.1.1     v forcats 0.2.0\n",
      "-- Conflicts ------------------------------------------ tidyverse_conflicts() --\n",
      "x dplyr::filter() masks stats::filter()\n",
      "x dplyr::lag()    masks stats::lag()\n"
     ]
    }
   ],
   "source": [
    "library(tidyverse)"
   ]
  },
  {
   "cell_type": "code",
   "execution_count": 4,
   "metadata": {},
   "outputs": [
    {
     "name": "stderr",
     "output_type": "stream",
     "text": [
      "\n",
      "Attaching package: 'data.table'\n",
      "\n",
      "The following objects are masked from 'package:dplyr':\n",
      "\n",
      "    between, first, last\n",
      "\n",
      "The following object is masked from 'package:purrr':\n",
      "\n",
      "    transpose\n",
      "\n"
     ]
    }
   ],
   "source": [
    "library(data.table)"
   ]
  },
  {
   "cell_type": "code",
   "execution_count": 5,
   "metadata": {},
   "outputs": [],
   "source": [
    "library(stringr)"
   ]
  },
  {
   "cell_type": "code",
   "execution_count": 6,
   "metadata": {},
   "outputs": [
    {
     "name": "stderr",
     "output_type": "stream",
     "text": [
      "\n",
      "Attaching package: 'gridExtra'\n",
      "\n",
      "The following object is masked from 'package:dplyr':\n",
      "\n",
      "    combine\n",
      "\n"
     ]
    }
   ],
   "source": [
    "library(gridExtra)"
   ]
  },
  {
   "cell_type": "code",
   "execution_count": 7,
   "metadata": {},
   "outputs": [
    {
     "name": "stderr",
     "output_type": "stream",
     "text": [
      "Linking to GEOS 3.6.1, GDAL 2.2.0, proj.4 4.9.3\n"
     ]
    }
   ],
   "source": [
    "library(sf) # needed for mapping"
   ]
  },
  {
   "cell_type": "code",
   "execution_count": 8,
   "metadata": {},
   "outputs": [],
   "source": [
    "# install.packages(\"tmap\")\n",
    "# this for some reason can only be installed via install.packages(), but only has to be done once in your environment"
   ]
  },
  {
   "cell_type": "code",
   "execution_count": 9,
   "metadata": {},
   "outputs": [],
   "source": [
    "library(tmap) # needed for mapping"
   ]
  },
  {
   "cell_type": "code",
   "execution_count": 10,
   "metadata": {},
   "outputs": [],
   "source": [
    "# Set default options to display more digits, useful for gps coordinates"
   ]
  },
  {
   "cell_type": "code",
   "execution_count": 11,
   "metadata": {},
   "outputs": [],
   "source": [
    "options(digits=15) # set the visible number of digits to 15, useful when displaying GIS coordinates in dataframes"
   ]
  },
  {
   "cell_type": "code",
   "execution_count": 12,
   "metadata": {},
   "outputs": [
    {
     "data": {
      "text/html": [
       "<strong>$digits</strong> = 15"
      ],
      "text/latex": [
       "\\textbf{\\$digits} = 15"
      ],
      "text/markdown": [
       "**$digits** = 15"
      ],
      "text/plain": [
       "$digits\n",
       "[1] 15\n"
      ]
     },
     "metadata": {},
     "output_type": "display_data"
    }
   ],
   "source": [
    "options(\"digits\") # display the max number of digits that appear in cells of a dataframe"
   ]
  },
  {
   "cell_type": "code",
   "execution_count": 13,
   "metadata": {},
   "outputs": [
    {
     "data": {
      "text/plain": [
       "R version 3.4.3 (2017-11-30)\n",
       "Platform: x86_64-w64-mingw32/x64 (64-bit)\n",
       "Running under: Windows 10 x64 (build 17134)\n",
       "\n",
       "Matrix products: default\n",
       "\n",
       "locale:\n",
       "[1] LC_COLLATE=English_Canada.1252  LC_CTYPE=English_Canada.1252   \n",
       "[3] LC_MONETARY=English_Canada.1252 LC_NUMERIC=C                   \n",
       "[5] LC_TIME=English_Canada.1252    \n",
       "\n",
       "attached base packages:\n",
       "[1] stats     graphics  grDevices utils     datasets  methods   base     \n",
       "\n",
       "other attached packages:\n",
       " [1] tmap_1.10            sf_0.5-4             gridExtra_2.2.1     \n",
       " [4] data.table_1.10.4-3  forcats_0.2.0        stringr_1.2.0       \n",
       " [7] dplyr_0.7.4          purrr_0.2.4          readr_1.1.1         \n",
       "[10] tidyr_0.7.2          tibble_1.4.1         ggplot2_2.2.1       \n",
       "[13] tidyverse_1.2.1      RevoUtils_10.0.8     RevoUtilsMath_10.0.1\n",
       "\n",
       "loaded via a namespace (and not attached):\n",
       "  [1] colorspace_1.3-2   deldir_0.1-14      class_7.3-14      \n",
       "  [4] gdalUtils_2.0.1.7  leaflet_1.1.0      rgdal_1.2-8       \n",
       "  [7] satellite_1.0.0    IRdisplay_0.4.4    base64enc_0.1-3   \n",
       " [10] dichromat_2.0-0    rstudioapi_0.7     lubridate_1.7.1   \n",
       " [13] xml2_1.1.1         R.methodsS3_1.7.1  codetools_0.2-15  \n",
       " [16] splines_3.4.3      mnormt_1.5-5       geojsonlint_0.2.0 \n",
       " [19] IRkernel_0.8.11    jsonlite_1.5       tmaptools_1.2-1   \n",
       " [22] broom_0.4.3        png_0.1-7          R.oo_1.21.0       \n",
       " [25] rgeos_0.3-23       shiny_1.0.5        compiler_3.4.3    \n",
       " [28] httr_1.3.1         mapview_2.1.4      assertthat_0.2.0  \n",
       " [31] Matrix_1.2-12      lazyeval_0.2.1     cli_1.0.0         \n",
       " [34] htmltools_0.3.6    tools_3.4.3        bindrcpp_0.2      \n",
       " [37] coda_0.19-1        gtable_0.2.0       glue_1.2.0        \n",
       " [40] reshape2_1.4.3     gmodels_2.16.2     V8_1.5            \n",
       " [43] Rcpp_0.12.14       cellranger_1.1.0   raster_2.5-8      \n",
       " [46] spdep_0.6-13       gdata_2.18.0       nlme_3.1-131      \n",
       " [49] udunits2_0.13      iterators_1.0.9    crosstalk_1.0.0   \n",
       " [52] psych_1.7.5        rvest_0.3.2        mime_0.5          \n",
       " [55] gtools_3.5.0       XML_3.98-1.9       LearnBayes_2.15   \n",
       " [58] MASS_7.3-47        scales_0.5.0       hms_0.4.0         \n",
       " [61] parallel_3.4.3     expm_0.999-2       RColorBrewer_1.1-2\n",
       " [64] curl_3.1           geosphere_1.5-5    stringi_1.1.6     \n",
       " [67] jsonvalidate_1.0.0 foreach_1.4.5      e1071_1.6-8       \n",
       " [70] boot_1.3-20        repr_0.12.0        rlang_0.1.6       \n",
       " [73] pkgconfig_2.0.1    bitops_1.0-6       evaluate_0.10.1   \n",
       " [76] lattice_0.20-35    bindr_0.1          htmlwidgets_0.9   \n",
       " [79] osmar_1.1-7        plyr_1.8.4         magrittr_1.5      \n",
       " [82] R6_2.2.2           pbdZMQ_0.2-6       DBI_0.7           \n",
       " [85] pillar_1.0.1       haven_1.1.0        foreign_0.8-69    \n",
       " [88] units_0.4-6        RCurl_1.95-4.8     sp_1.2-5          \n",
       " [91] modelr_0.1.1       crayon_1.3.4       rmapshaper_0.3.0  \n",
       " [94] uuid_0.1-2         KernSmooth_2.23-15 grid_3.4.3        \n",
       " [97] readxl_1.0.0       webshot_0.4.1      digest_0.6.13     \n",
       "[100] classInt_0.1-24    xtable_1.8-2       httpuv_1.3.5      \n",
       "[103] R.utils_2.5.0      stats4_3.4.3       munsell_0.4.3     \n",
       "[106] viridisLite_0.2.0 "
      ]
     },
     "metadata": {},
     "output_type": "display_data"
    }
   ],
   "source": [
    "sessionInfo()"
   ]
  },
  {
   "cell_type": "markdown",
   "metadata": {},
   "source": [
    "# Main Script Begins Here"
   ]
  },
  {
   "cell_type": "markdown",
   "metadata": {},
   "source": [
    "## 45. Percent of Children Under 18 Living in Low Income After Tax, 2016"
   ]
  },
  {
   "cell_type": "code",
   "execution_count": 14,
   "metadata": {},
   "outputs": [
    {
     "data": {
      "text/plain": [
       "[1] \"2018-08-15 13:28:10 AST\""
      ]
     },
     "metadata": {},
     "output_type": "display_data"
    }
   ],
   "source": [
    "Sys.time() # script start time from body"
   ]
  },
  {
   "cell_type": "code",
   "execution_count": 15,
   "metadata": {},
   "outputs": [],
   "source": [
    "# Import and clean data before analysis"
   ]
  },
  {
   "cell_type": "code",
   "execution_count": 16,
   "metadata": {},
   "outputs": [
    {
     "data": {
      "text/plain": [
       "[1] \"2018-08-15 13:28:10 AST\""
      ]
     },
     "metadata": {},
     "output_type": "display_data"
    },
    {
     "data": {
      "text/plain": [
       "[1] \"2018-08-15 13:28:11 AST\""
      ]
     },
     "metadata": {},
     "output_type": "display_data"
    }
   ],
   "source": [
    "# Import dataset\n",
    "# Low income statistics by age, sex and economic family type\n",
    "# Source: https://www150.statcan.gc.ca/t1/tbl1/en/tv.action?pid=1110013501\n",
    "\n",
    "\n",
    "\n",
    "Sys.time() # start time for reading file\n",
    "f <- function(x, pos) subset(x, \n",
    "                            !is.na(VALUE) # filter out any rows with missing values in the specified column in parenthesis\n",
    "                            & REF_DATE == 2016 # only include rows where the specified condition is met\n",
    "                            & Statistics == \"Percentage of persons in low income\" \n",
    "                            & GEO %in% c(\"British Columbia\", \n",
    "                                         \"Alberta\",\n",
    "                                         \"Saskatchewan\",\n",
    "                                         \"Manitoba\",\n",
    "                                         \"Ontario\",\n",
    "                                         \"Quebec\",\n",
    "                                         \"New Brunswick\",\n",
    "                                         \"Prince Edward Island\",\n",
    "                                         \"Newfoundland and Labrador\",\n",
    "                                         \"Nova Scotia\")) \n",
    "df <- read_csv_chunked(\"DataFilesLowIncome/LowIncomeDataUpTo2016.csv\", \n",
    "                           DataFrameCallback$new(f), \n",
    "                           chunk_size = 50000, # this is an adequate chunk size\n",
    "                           col_names = TRUE,\n",
    "                           cols_only( # specify which columns with data types you want to include \n",
    "                                      # to avoid importing unwanted data\n",
    "                                      # include all columns that you specified above with col_names if you renamed them\n",
    "                               \"REF_DATE\" = col_number(),\n",
    "                               \"GEO\" = col_character(),\n",
    "                               \"Persons in low income\" = col_character(),\n",
    "                               \"Low income lines\" = col_character(),\n",
    "                               \"Statistics\" = col_character(),\n",
    "                               \"VALUE\" = col_number()),\n",
    "                           trim_ws = TRUE) # trim leading and trailing whitespace for each data point\n",
    "Sys.time() # end time for reading file"
   ]
  },
  {
   "cell_type": "code",
   "execution_count": 17,
   "metadata": {},
   "outputs": [
    {
     "name": "stdout",
     "output_type": "stream",
     "text": [
      "Observations: 1,166\n",
      "Variables: 6\n",
      "$ REF_DATE                <dbl> 2016, 2016, 2016, 2016, 2016, 2016, 2016, 2...\n",
      "$ GEO                     <chr> \"Newfoundland and Labrador\", \"Newfoundland ...\n",
      "$ `Persons in low income` <chr> \"All persons\", \"All persons\", \"All persons\"...\n",
      "$ `Low income lines`      <chr> \"Low income measure after tax\", \"Low income...\n",
      "$ Statistics              <chr> \"Percentage of persons in low income\", \"Per...\n",
      "$ VALUE                   <dbl> 15.6, 5.7, 7.8, 10.8, 16.3, 7.9, 11.7, 12.4...\n"
     ]
    }
   ],
   "source": [
    "glimpse(df)"
   ]
  },
  {
   "cell_type": "code",
   "execution_count": 18,
   "metadata": {},
   "outputs": [
    {
     "name": "stdout",
     "output_type": "stream",
     "text": [
      "Observations: 1,166\n",
      "Variables: 6\n",
      "$ Year               <dbl> 2016, 2016, 2016, 2016, 2016, 2016, 2016, 2016, ...\n",
      "$ PRENAME            <chr> \"Newfoundland and Labrador\", \"Newfoundland and L...\n",
      "$ PersonsInLowIncome <chr> \"All persons\", \"All persons\", \"All persons\", \"Al...\n",
      "$ LowIncomeLines     <chr> \"Low income measure after tax\", \"Low income cut-...\n",
      "$ Percent            <chr> \"Percentage of persons in low income\", \"Percenta...\n",
      "$ Value              <dbl> 15.6, 5.7, 7.8, 10.8, 16.3, 7.9, 11.7, 12.4, 7.1...\n"
     ]
    },
    {
     "data": {
      "text/html": [
       "<table>\n",
       "<thead><tr><th scope=col>Year</th><th scope=col>PRENAME</th><th scope=col>PersonsInLowIncome</th><th scope=col>LowIncomeLines</th><th scope=col>Percent</th><th scope=col>Value</th></tr></thead>\n",
       "<tbody>\n",
       "\t<tr><td>2016                                     </td><td>Newfoundland and Labrador                </td><td>All persons                              </td><td>Low income measure after tax             </td><td>Percentage of persons in low income      </td><td>15.6                                     </td></tr>\n",
       "\t<tr><td>2016                                     </td><td>Newfoundland and Labrador                </td><td>All persons                              </td><td>Low income cut-offs after tax, 1992 base </td><td>Percentage of persons in low income      </td><td> 5.7                                     </td></tr>\n",
       "\t<tr><td>2016                                     </td><td>Newfoundland and Labrador                </td><td>All persons                              </td><td>Low income cut-offs before tax, 1992 base</td><td>Percentage of persons in low income      </td><td> 7.8                                     </td></tr>\n",
       "\t<tr><td>2016                                     </td><td>Newfoundland and Labrador                </td><td>All persons                              </td><td>Market basket measure, 2011 base         </td><td>Percentage of persons in low income      </td><td>10.8                                     </td></tr>\n",
       "\t<tr><td>2016                                     </td><td>Newfoundland and Labrador                </td><td>Persons under 18 years                   </td><td>Low income measure after tax             </td><td>Percentage of persons in low income      </td><td>16.3                                     </td></tr>\n",
       "\t<tr><td>2016                                     </td><td>Newfoundland and Labrador                </td><td>Persons under 18 years                   </td><td>Low income cut-offs before tax, 1992 base</td><td>Percentage of persons in low income      </td><td> 7.9                                     </td></tr>\n",
       "</tbody>\n",
       "</table>\n"
      ],
      "text/latex": [
       "\\begin{tabular}{r|llllll}\n",
       " Year & PRENAME & PersonsInLowIncome & LowIncomeLines & Percent & Value\\\\\n",
       "\\hline\n",
       "\t 2016                                      & Newfoundland and Labrador                 & All persons                               & Low income measure after tax              & Percentage of persons in low income       & 15.6                                     \\\\\n",
       "\t 2016                                      & Newfoundland and Labrador                 & All persons                               & Low income cut-offs after tax, 1992 base  & Percentage of persons in low income       &  5.7                                     \\\\\n",
       "\t 2016                                      & Newfoundland and Labrador                 & All persons                               & Low income cut-offs before tax, 1992 base & Percentage of persons in low income       &  7.8                                     \\\\\n",
       "\t 2016                                      & Newfoundland and Labrador                 & All persons                               & Market basket measure, 2011 base          & Percentage of persons in low income       & 10.8                                     \\\\\n",
       "\t 2016                                      & Newfoundland and Labrador                 & Persons under 18 years                    & Low income measure after tax              & Percentage of persons in low income       & 16.3                                     \\\\\n",
       "\t 2016                                      & Newfoundland and Labrador                 & Persons under 18 years                    & Low income cut-offs before tax, 1992 base & Percentage of persons in low income       &  7.9                                     \\\\\n",
       "\\end{tabular}\n"
      ],
      "text/markdown": [
       "\n",
       "Year | PRENAME | PersonsInLowIncome | LowIncomeLines | Percent | Value | \n",
       "|---|---|---|---|---|---|\n",
       "| 2016                                      | Newfoundland and Labrador                 | All persons                               | Low income measure after tax              | Percentage of persons in low income       | 15.6                                      | \n",
       "| 2016                                      | Newfoundland and Labrador                 | All persons                               | Low income cut-offs after tax, 1992 base  | Percentage of persons in low income       |  5.7                                      | \n",
       "| 2016                                      | Newfoundland and Labrador                 | All persons                               | Low income cut-offs before tax, 1992 base | Percentage of persons in low income       |  7.8                                      | \n",
       "| 2016                                      | Newfoundland and Labrador                 | All persons                               | Market basket measure, 2011 base          | Percentage of persons in low income       | 10.8                                      | \n",
       "| 2016                                      | Newfoundland and Labrador                 | Persons under 18 years                    | Low income measure after tax              | Percentage of persons in low income       | 16.3                                      | \n",
       "| 2016                                      | Newfoundland and Labrador                 | Persons under 18 years                    | Low income cut-offs before tax, 1992 base | Percentage of persons in low income       |  7.9                                      | \n",
       "\n",
       "\n"
      ],
      "text/plain": [
       "  Year PRENAME                   PersonsInLowIncome    \n",
       "1 2016 Newfoundland and Labrador All persons           \n",
       "2 2016 Newfoundland and Labrador All persons           \n",
       "3 2016 Newfoundland and Labrador All persons           \n",
       "4 2016 Newfoundland and Labrador All persons           \n",
       "5 2016 Newfoundland and Labrador Persons under 18 years\n",
       "6 2016 Newfoundland and Labrador Persons under 18 years\n",
       "  LowIncomeLines                            Percent                            \n",
       "1 Low income measure after tax              Percentage of persons in low income\n",
       "2 Low income cut-offs after tax, 1992 base  Percentage of persons in low income\n",
       "3 Low income cut-offs before tax, 1992 base Percentage of persons in low income\n",
       "4 Market basket measure, 2011 base          Percentage of persons in low income\n",
       "5 Low income measure after tax              Percentage of persons in low income\n",
       "6 Low income cut-offs before tax, 1992 base Percentage of persons in low income\n",
       "  Value\n",
       "1 15.6 \n",
       "2  5.7 \n",
       "3  7.8 \n",
       "4 10.8 \n",
       "5 16.3 \n",
       "6  7.9 "
      ]
     },
     "metadata": {},
     "output_type": "display_data"
    }
   ],
   "source": [
    "colnames(df) <- c(\"Year\", \"PRENAME\", \"PersonsInLowIncome\", \"LowIncomeLines\", \"Percent\", \"Value\")\n",
    "glimpse(df)\n",
    "head(df)"
   ]
  },
  {
   "cell_type": "code",
   "execution_count": 19,
   "metadata": {},
   "outputs": [],
   "source": [
    "df <- df %>%\n",
    "  filter(LowIncomeLines == \"Low income measure after tax\")"
   ]
  },
  {
   "cell_type": "code",
   "execution_count": 20,
   "metadata": {},
   "outputs": [],
   "source": [
    "df$Percent <- NULL # we don't need this column\n",
    "\n",
    "colnames(df) <- c(\"Year\", \"PRENAME\", \"PersonsInLowIncome\", \"LowIncomeLines\", \"Percent\") # rename "
   ]
  },
  {
   "cell_type": "code",
   "execution_count": 21,
   "metadata": {},
   "outputs": [],
   "source": [
    "# Before spreading data for tidy format, make sure to remove any special characters beforehand\n",
    "# This ensures that after spreading the data, the column names are all properly formatted\n",
    "# Properly formated column names will always appear flushed next to the dollar sign when glimpsing a dataframe\n",
    "# If spaces or special characters are present in the column name, they will appear within single quotes after the dollar sign\n",
    "# when glimpsing the dataframe after spreading the data\n",
    "\n",
    "df$LowIncomeLines <- gsub(\" \", \"_\", df$LowIncomeLines)\n",
    "df$LowIncomeLines <- gsub(\",\", \"\", df$LowIncomeLines)\n",
    "df$LowIncomeLines <- gsub(\";\", \"\", df$LowIncomeLines)\n",
    "df$LowIncomeLines <- gsub(\"-\", \"_\", df$LowIncomeLines)\n",
    "df$LowIncomeLines <- gsub(\"\\\\(\", \"\", df$LowIncomeLines) # this removes left parenthesis\n",
    "df$LowIncomeLines <- gsub(\"\\\\)\", \"\", df$LowIncomeLines) # this removes right parenthesis\n",
    "\n",
    "df <- df %>%\n",
    "  spread(LowIncomeLines, Percent)"
   ]
  },
  {
   "cell_type": "code",
   "execution_count": 22,
   "metadata": {},
   "outputs": [
    {
     "name": "stdout",
     "output_type": "stream",
     "text": [
      "Observations: 323\n",
      "Variables: 4\n",
      "$ Year                         <dbl> 2016, 2016, 2016, 2016, 2016, 2016, 20...\n",
      "$ PRENAME                      <chr> \"Alberta\", \"Alberta\", \"Alberta\", \"Albe...\n",
      "$ PersonsInLowIncome           <chr> \"All persons\", \"Elderly females not in...\n",
      "$ Low_income_measure_after_tax <dbl> 8.1, 12.7, 22.7, 16.3, 7.9, 6.3, 6.2, ...\n"
     ]
    },
    {
     "data": {
      "text/html": [
       "<table>\n",
       "<thead><tr><th scope=col>Year</th><th scope=col>PRENAME</th><th scope=col>PersonsInLowIncome</th><th scope=col>Low_income_measure_after_tax</th></tr></thead>\n",
       "<tbody>\n",
       "\t<tr><td>2016                                       </td><td>Alberta                                    </td><td>All persons                                </td><td> 8.1                                       </td></tr>\n",
       "\t<tr><td>2016                                       </td><td>Alberta                                    </td><td>Elderly females not in an economic family  </td><td>12.7                                       </td></tr>\n",
       "\t<tr><td>2016                                       </td><td>Alberta                                    </td><td>Elderly males not in an economic family    </td><td>22.7                                       </td></tr>\n",
       "\t<tr><td>2016                                       </td><td>Alberta                                    </td><td>Elderly persons not in an economic family  </td><td>16.3                                       </td></tr>\n",
       "\t<tr><td>2016                                       </td><td>Alberta                                    </td><td>Females                                    </td><td> 7.9                                       </td></tr>\n",
       "\t<tr><td>2016                                       </td><td>Alberta                                    </td><td>Females 18 to 64 years in economic families</td><td> 6.3                                       </td></tr>\n",
       "</tbody>\n",
       "</table>\n"
      ],
      "text/latex": [
       "\\begin{tabular}{r|llll}\n",
       " Year & PRENAME & PersonsInLowIncome & Low\\_income\\_measure\\_after\\_tax\\\\\n",
       "\\hline\n",
       "\t 2016                                        & Alberta                                     & All persons                                 &  8.1                                       \\\\\n",
       "\t 2016                                        & Alberta                                     & Elderly females not in an economic family   & 12.7                                       \\\\\n",
       "\t 2016                                        & Alberta                                     & Elderly males not in an economic family     & 22.7                                       \\\\\n",
       "\t 2016                                        & Alberta                                     & Elderly persons not in an economic family   & 16.3                                       \\\\\n",
       "\t 2016                                        & Alberta                                     & Females                                     &  7.9                                       \\\\\n",
       "\t 2016                                        & Alberta                                     & Females 18 to 64 years in economic families &  6.3                                       \\\\\n",
       "\\end{tabular}\n"
      ],
      "text/markdown": [
       "\n",
       "Year | PRENAME | PersonsInLowIncome | Low_income_measure_after_tax | \n",
       "|---|---|---|---|---|---|\n",
       "| 2016                                        | Alberta                                     | All persons                                 |  8.1                                        | \n",
       "| 2016                                        | Alberta                                     | Elderly females not in an economic family   | 12.7                                        | \n",
       "| 2016                                        | Alberta                                     | Elderly males not in an economic family     | 22.7                                        | \n",
       "| 2016                                        | Alberta                                     | Elderly persons not in an economic family   | 16.3                                        | \n",
       "| 2016                                        | Alberta                                     | Females                                     |  7.9                                        | \n",
       "| 2016                                        | Alberta                                     | Females 18 to 64 years in economic families |  6.3                                        | \n",
       "\n",
       "\n"
      ],
      "text/plain": [
       "  Year PRENAME PersonsInLowIncome                         \n",
       "1 2016 Alberta All persons                                \n",
       "2 2016 Alberta Elderly females not in an economic family  \n",
       "3 2016 Alberta Elderly males not in an economic family    \n",
       "4 2016 Alberta Elderly persons not in an economic family  \n",
       "5 2016 Alberta Females                                    \n",
       "6 2016 Alberta Females 18 to 64 years in economic families\n",
       "  Low_income_measure_after_tax\n",
       "1  8.1                        \n",
       "2 12.7                        \n",
       "3 22.7                        \n",
       "4 16.3                        \n",
       "5  7.9                        \n",
       "6  6.3                        "
      ]
     },
     "metadata": {},
     "output_type": "display_data"
    }
   ],
   "source": [
    "glimpse(df)\n",
    "head(df)"
   ]
  },
  {
   "cell_type": "code",
   "execution_count": 23,
   "metadata": {},
   "outputs": [],
   "source": [
    "# Before spreading data for tidy format, make sure to remove any special characters beforehand\n",
    "# This ensures that after spreading the data, the column names are all properly formatted\n",
    "# Properly formated column names will always appear flushed next to the dollar sign when glimpsing a dataframe\n",
    "# If spaces or special characters are present in the column name, they will appear within single quotes after the dollar sign\n",
    "# when glimpsing the dataframe after spreading the data\n",
    "\n",
    "df$PersonsInLowIncome <- gsub(\" \", \"_\", df$PersonsInLowIncome)\n",
    "df$PersonsInLowIncome <- gsub(\",\", \"\", df$PersonsInLowIncome)\n",
    "df$PersonsInLowIncome <- gsub(\";\", \"\", df$PersonsInLowIncome)\n",
    "df$PersonsInLowIncome <- gsub(\"-\", \"_\", df$PersonsInLowIncome)\n",
    "df$PersonsInLowIncome <- gsub(\"\\\\(\", \"\", df$PersonsInLowIncome) # this removes left parenthesis\n",
    "df$PersonsInLowIncome <- gsub(\"\\\\)\", \"\", df$PersonsInLowIncome) # this removes right parenthesis\n",
    "\n",
    "df <- df %>%\n",
    "  spread(PersonsInLowIncome, Low_income_measure_after_tax)"
   ]
  },
  {
   "cell_type": "code",
   "execution_count": 24,
   "metadata": {},
   "outputs": [
    {
     "name": "stdout",
     "output_type": "stream",
     "text": [
      "Observations: 10\n",
      "Variables: 35\n",
      "$ Year                                                    <dbl> 2016, 2016,...\n",
      "$ PRENAME                                                 <chr> \"Alberta\", ...\n",
      "$ All_persons                                             <dbl> 8.1, 12.9, ...\n",
      "$ Elderly_females_in_economic_families                    <dbl> NA, 6.7, 5....\n",
      "$ Elderly_females_not_in_an_economic_family               <dbl> 12.7, 33.5,...\n",
      "$ Elderly_males_in_economic_families                      <dbl> NA, 4.8, 5....\n",
      "$ Elderly_males_not_in_an_economic_family                 <dbl> 22.7, 32.6,...\n",
      "$ Elderly_persons_in_economic_families                    <dbl> NA, 5.7, 5....\n",
      "$ Elderly_persons_not_in_an_economic_family               <dbl> 16.3, 33.2,...\n",
      "$ Females                                                 <dbl> 7.9, 12.9, ...\n",
      "$ Females_18_to_64_years                                  <dbl> 8.5, 11.9, ...\n",
      "$ Females_18_to_64_years_in_economic_families             <dbl> 6.3, 8.3, 1...\n",
      "$ Females_65_years_and_over                               <dbl> 5.3, 15.6, ...\n",
      "$ Females_in_economic_families                            <dbl> 6.2, 9.2, 1...\n",
      "$ Females_not_in_an_economic_family                       <dbl> 18.1, 30.9,...\n",
      "$ Females_under_18_years                                  <dbl> 7.7, 13.9, ...\n",
      "$ Males                                                   <dbl> 8.2, 12.8, ...\n",
      "$ Males_18_to_64_years                                    <dbl> 8.6, 13.9, ...\n",
      "$ Males_18_to_64_years_in_economic_families               <dbl> 6.2, 8.9, 8...\n",
      "$ Males_65_years_and_over                                 <dbl> 6.4, 9.8, 1...\n",
      "$ Males_in_economic_families                              <dbl> 6.2, 8.8, 1...\n",
      "$ Males_not_in_an_economic_family                         <dbl> 18.8, 31.2,...\n",
      "$ Males_under_18_years                                    <dbl> 7.8, 11.8, ...\n",
      "$ Non_elderly_females_not_in_an_economic_family           <dbl> 20.3, 29.4,...\n",
      "$ Non_elderly_males_not_in_an_economic_family             <dbl> 18.1, 30.9,...\n",
      "$ Non_elderly_persons_not_in_an_economic_family           <dbl> 19.1, 30.3,...\n",
      "$ Persons_18_to_64_years                                  <dbl> 8.6, 12.9, ...\n",
      "$ Persons_18_to_64_years_in_economic_families             <dbl> 6.3, 8.6, 9...\n",
      "$ Persons_65_years_and_over                               <dbl> 5.8, 12.8, ...\n",
      "$ Persons_in_economic_families                            <dbl> 6.2, 9.0, 1...\n",
      "$ Persons_not_in_an_economic_family                       <dbl> 18.5, 31.1,...\n",
      "$ Persons_under_18_years                                  <dbl> 7.7, 12.8, ...\n",
      "$ Persons_under_18_years_in_couple_families_with_children <dbl> 7.0, 9.1, 1...\n",
      "$ Persons_under_18_years_in_economic_families             <dbl> 7.7, 12.8, ...\n",
      "$ Persons_under_18_years_in_female_lone_parent_families   <dbl> NA, 42.2, 5...\n"
     ]
    },
    {
     "data": {
      "text/html": [
       "<table>\n",
       "<thead><tr><th scope=col>Year</th><th scope=col>PRENAME</th><th scope=col>All_persons</th><th scope=col>Elderly_females_in_economic_families</th><th scope=col>Elderly_females_not_in_an_economic_family</th><th scope=col>Elderly_males_in_economic_families</th><th scope=col>Elderly_males_not_in_an_economic_family</th><th scope=col>Elderly_persons_in_economic_families</th><th scope=col>Elderly_persons_not_in_an_economic_family</th><th scope=col>Females</th><th scope=col>...</th><th scope=col>Non_elderly_persons_not_in_an_economic_family</th><th scope=col>Persons_18_to_64_years</th><th scope=col>Persons_18_to_64_years_in_economic_families</th><th scope=col>Persons_65_years_and_over</th><th scope=col>Persons_in_economic_families</th><th scope=col>Persons_not_in_an_economic_family</th><th scope=col>Persons_under_18_years</th><th scope=col>Persons_under_18_years_in_couple_families_with_children</th><th scope=col>Persons_under_18_years_in_economic_families</th><th scope=col>Persons_under_18_years_in_female_lone_parent_families</th></tr></thead>\n",
       "<tbody>\n",
       "\t<tr><td>2016                     </td><td>Alberta                  </td><td> 8.1                     </td><td>  NA                     </td><td>12.7                     </td><td>  NA                     </td><td>22.7                     </td><td>  NA                     </td><td>16.3                     </td><td> 7.9                     </td><td>...                      </td><td>19.1                     </td><td> 8.6                     </td><td> 6.3                     </td><td> 5.8                     </td><td> 6.2                     </td><td>18.5                     </td><td> 7.7                     </td><td> 7.0                     </td><td> 7.7                     </td><td>  NA                     </td></tr>\n",
       "\t<tr><td>2016                     </td><td>British Columbia         </td><td>12.9                     </td><td> 6.7                     </td><td>33.5                     </td><td> 4.8                     </td><td>32.6                     </td><td> 5.7                     </td><td>33.2                     </td><td>12.9                     </td><td>...                      </td><td>30.3                     </td><td>12.9                     </td><td> 8.6                     </td><td>12.8                     </td><td> 9.0                     </td><td>31.1                     </td><td>12.8                     </td><td> 9.1                     </td><td>12.8                     </td><td>42.2                     </td></tr>\n",
       "\t<tr><td>2016                     </td><td>Manitoba                 </td><td>13.3                     </td><td> 5.5                     </td><td>32.6                     </td><td> 5.8                     </td><td>29.8                     </td><td> 5.7                     </td><td>31.6                     </td><td>13.6                     </td><td>...                      </td><td>25.4                     </td><td>11.8                     </td><td> 9.3                     </td><td>14.1                     </td><td>10.9                     </td><td>27.5                     </td><td>17.1                     </td><td>12.8                     </td><td>17.1                     </td><td>54.4                     </td></tr>\n",
       "\t<tr><td>2016                     </td><td>New Brunswick            </td><td>14.7                     </td><td>12.2                     </td><td>47.6                     </td><td>13.1                     </td><td>42.1                     </td><td>12.7                     </td><td>45.9                     </td><td>16.1                     </td><td>...                      </td><td>30.0                     </td><td>11.8                     </td><td> 8.2                     </td><td>21.5                     </td><td>11.0                     </td><td>35.3                     </td><td>17.5                     </td><td>13.7                     </td><td>17.5                     </td><td>39.3                     </td></tr>\n",
       "\t<tr><td>2016                     </td><td>Newfoundland and Labrador</td><td>15.6                     </td><td>18.2                     </td><td>45.3                     </td><td>22.5                     </td><td>37.3                     </td><td>20.4                     </td><td>42.7                     </td><td>17.6                     </td><td>...                      </td><td>25.3                     </td><td>12.4                     </td><td>10.1                     </td><td>25.4                     </td><td>13.2                     </td><td>30.6                     </td><td>16.3                     </td><td>  NA                     </td><td>16.3                     </td><td>53.7                     </td></tr>\n",
       "\t<tr><td>2016                     </td><td>Nova Scotia              </td><td>16.1                     </td><td> 9.2                     </td><td>35.1                     </td><td> 9.7                     </td><td>38.9                     </td><td> 9.5                     </td><td>36.2                     </td><td>16.3                     </td><td>...                      </td><td>28.9                     </td><td>15.6                     </td><td>12.1                     </td><td>16.1                     </td><td>12.9                     </td><td>30.9                     </td><td>18.1                     </td><td> 9.3                     </td><td>18.1                     </td><td>57.2                     </td></tr>\n",
       "</tbody>\n",
       "</table>\n"
      ],
      "text/latex": [
       "\\begin{tabular}{r|lllllllllllllllllllllllllllllllllll}\n",
       " Year & PRENAME & All\\_persons & Elderly\\_females\\_in\\_economic\\_families & Elderly\\_females\\_not\\_in\\_an\\_economic\\_family & Elderly\\_males\\_in\\_economic\\_families & Elderly\\_males\\_not\\_in\\_an\\_economic\\_family & Elderly\\_persons\\_in\\_economic\\_families & Elderly\\_persons\\_not\\_in\\_an\\_economic\\_family & Females & ... & Non\\_elderly\\_persons\\_not\\_in\\_an\\_economic\\_family & Persons\\_18\\_to\\_64\\_years & Persons\\_18\\_to\\_64\\_years\\_in\\_economic\\_families & Persons\\_65\\_years\\_and\\_over & Persons\\_in\\_economic\\_families & Persons\\_not\\_in\\_an\\_economic\\_family & Persons\\_under\\_18\\_years & Persons\\_under\\_18\\_years\\_in\\_couple\\_families\\_with\\_children & Persons\\_under\\_18\\_years\\_in\\_economic\\_families & Persons\\_under\\_18\\_years\\_in\\_female\\_lone\\_parent\\_families\\\\\n",
       "\\hline\n",
       "\t 2016                      & Alberta                   &  8.1                      &   NA                      & 12.7                      &   NA                      & 22.7                      &   NA                      & 16.3                      &  7.9                      & ...                       & 19.1                      &  8.6                      &  6.3                      &  5.8                      &  6.2                      & 18.5                      &  7.7                      &  7.0                      &  7.7                      &   NA                     \\\\\n",
       "\t 2016                      & British Columbia          & 12.9                      &  6.7                      & 33.5                      &  4.8                      & 32.6                      &  5.7                      & 33.2                      & 12.9                      & ...                       & 30.3                      & 12.9                      &  8.6                      & 12.8                      &  9.0                      & 31.1                      & 12.8                      &  9.1                      & 12.8                      & 42.2                     \\\\\n",
       "\t 2016                      & Manitoba                  & 13.3                      &  5.5                      & 32.6                      &  5.8                      & 29.8                      &  5.7                      & 31.6                      & 13.6                      & ...                       & 25.4                      & 11.8                      &  9.3                      & 14.1                      & 10.9                      & 27.5                      & 17.1                      & 12.8                      & 17.1                      & 54.4                     \\\\\n",
       "\t 2016                      & New Brunswick             & 14.7                      & 12.2                      & 47.6                      & 13.1                      & 42.1                      & 12.7                      & 45.9                      & 16.1                      & ...                       & 30.0                      & 11.8                      &  8.2                      & 21.5                      & 11.0                      & 35.3                      & 17.5                      & 13.7                      & 17.5                      & 39.3                     \\\\\n",
       "\t 2016                      & Newfoundland and Labrador & 15.6                      & 18.2                      & 45.3                      & 22.5                      & 37.3                      & 20.4                      & 42.7                      & 17.6                      & ...                       & 25.3                      & 12.4                      & 10.1                      & 25.4                      & 13.2                      & 30.6                      & 16.3                      &   NA                      & 16.3                      & 53.7                     \\\\\n",
       "\t 2016                      & Nova Scotia               & 16.1                      &  9.2                      & 35.1                      &  9.7                      & 38.9                      &  9.5                      & 36.2                      & 16.3                      & ...                       & 28.9                      & 15.6                      & 12.1                      & 16.1                      & 12.9                      & 30.9                      & 18.1                      &  9.3                      & 18.1                      & 57.2                     \\\\\n",
       "\\end{tabular}\n"
      ],
      "text/markdown": [
       "\n",
       "Year | PRENAME | All_persons | Elderly_females_in_economic_families | Elderly_females_not_in_an_economic_family | Elderly_males_in_economic_families | Elderly_males_not_in_an_economic_family | Elderly_persons_in_economic_families | Elderly_persons_not_in_an_economic_family | Females | ... | Non_elderly_persons_not_in_an_economic_family | Persons_18_to_64_years | Persons_18_to_64_years_in_economic_families | Persons_65_years_and_over | Persons_in_economic_families | Persons_not_in_an_economic_family | Persons_under_18_years | Persons_under_18_years_in_couple_families_with_children | Persons_under_18_years_in_economic_families | Persons_under_18_years_in_female_lone_parent_families | \n",
       "|---|---|---|---|---|---|\n",
       "| 2016                      | Alberta                   |  8.1                      |   NA                      | 12.7                      |   NA                      | 22.7                      |   NA                      | 16.3                      |  7.9                      | ...                       | 19.1                      |  8.6                      |  6.3                      |  5.8                      |  6.2                      | 18.5                      |  7.7                      |  7.0                      |  7.7                      |   NA                      | \n",
       "| 2016                      | British Columbia          | 12.9                      |  6.7                      | 33.5                      |  4.8                      | 32.6                      |  5.7                      | 33.2                      | 12.9                      | ...                       | 30.3                      | 12.9                      |  8.6                      | 12.8                      |  9.0                      | 31.1                      | 12.8                      |  9.1                      | 12.8                      | 42.2                      | \n",
       "| 2016                      | Manitoba                  | 13.3                      |  5.5                      | 32.6                      |  5.8                      | 29.8                      |  5.7                      | 31.6                      | 13.6                      | ...                       | 25.4                      | 11.8                      |  9.3                      | 14.1                      | 10.9                      | 27.5                      | 17.1                      | 12.8                      | 17.1                      | 54.4                      | \n",
       "| 2016                      | New Brunswick             | 14.7                      | 12.2                      | 47.6                      | 13.1                      | 42.1                      | 12.7                      | 45.9                      | 16.1                      | ...                       | 30.0                      | 11.8                      |  8.2                      | 21.5                      | 11.0                      | 35.3                      | 17.5                      | 13.7                      | 17.5                      | 39.3                      | \n",
       "| 2016                      | Newfoundland and Labrador | 15.6                      | 18.2                      | 45.3                      | 22.5                      | 37.3                      | 20.4                      | 42.7                      | 17.6                      | ...                       | 25.3                      | 12.4                      | 10.1                      | 25.4                      | 13.2                      | 30.6                      | 16.3                      |   NA                      | 16.3                      | 53.7                      | \n",
       "| 2016                      | Nova Scotia               | 16.1                      |  9.2                      | 35.1                      |  9.7                      | 38.9                      |  9.5                      | 36.2                      | 16.3                      | ...                       | 28.9                      | 15.6                      | 12.1                      | 16.1                      | 12.9                      | 30.9                      | 18.1                      |  9.3                      | 18.1                      | 57.2                      | \n",
       "\n",
       "\n"
      ],
      "text/plain": [
       "  Year PRENAME                   All_persons\n",
       "1 2016 Alberta                    8.1       \n",
       "2 2016 British Columbia          12.9       \n",
       "3 2016 Manitoba                  13.3       \n",
       "4 2016 New Brunswick             14.7       \n",
       "5 2016 Newfoundland and Labrador 15.6       \n",
       "6 2016 Nova Scotia               16.1       \n",
       "  Elderly_females_in_economic_families\n",
       "1   NA                                \n",
       "2  6.7                                \n",
       "3  5.5                                \n",
       "4 12.2                                \n",
       "5 18.2                                \n",
       "6  9.2                                \n",
       "  Elderly_females_not_in_an_economic_family Elderly_males_in_economic_families\n",
       "1 12.7                                        NA                              \n",
       "2 33.5                                       4.8                              \n",
       "3 32.6                                       5.8                              \n",
       "4 47.6                                      13.1                              \n",
       "5 45.3                                      22.5                              \n",
       "6 35.1                                       9.7                              \n",
       "  Elderly_males_not_in_an_economic_family Elderly_persons_in_economic_families\n",
       "1 22.7                                      NA                                \n",
       "2 32.6                                     5.7                                \n",
       "3 29.8                                     5.7                                \n",
       "4 42.1                                    12.7                                \n",
       "5 37.3                                    20.4                                \n",
       "6 38.9                                     9.5                                \n",
       "  Elderly_persons_not_in_an_economic_family Females ...\n",
       "1 16.3                                       7.9    ...\n",
       "2 33.2                                      12.9    ...\n",
       "3 31.6                                      13.6    ...\n",
       "4 45.9                                      16.1    ...\n",
       "5 42.7                                      17.6    ...\n",
       "6 36.2                                      16.3    ...\n",
       "  Non_elderly_persons_not_in_an_economic_family Persons_18_to_64_years\n",
       "1 19.1                                           8.6                  \n",
       "2 30.3                                          12.9                  \n",
       "3 25.4                                          11.8                  \n",
       "4 30.0                                          11.8                  \n",
       "5 25.3                                          12.4                  \n",
       "6 28.9                                          15.6                  \n",
       "  Persons_18_to_64_years_in_economic_families Persons_65_years_and_over\n",
       "1  6.3                                         5.8                     \n",
       "2  8.6                                        12.8                     \n",
       "3  9.3                                        14.1                     \n",
       "4  8.2                                        21.5                     \n",
       "5 10.1                                        25.4                     \n",
       "6 12.1                                        16.1                     \n",
       "  Persons_in_economic_families Persons_not_in_an_economic_family\n",
       "1  6.2                         18.5                             \n",
       "2  9.0                         31.1                             \n",
       "3 10.9                         27.5                             \n",
       "4 11.0                         35.3                             \n",
       "5 13.2                         30.6                             \n",
       "6 12.9                         30.9                             \n",
       "  Persons_under_18_years\n",
       "1  7.7                  \n",
       "2 12.8                  \n",
       "3 17.1                  \n",
       "4 17.5                  \n",
       "5 16.3                  \n",
       "6 18.1                  \n",
       "  Persons_under_18_years_in_couple_families_with_children\n",
       "1  7.0                                                   \n",
       "2  9.1                                                   \n",
       "3 12.8                                                   \n",
       "4 13.7                                                   \n",
       "5   NA                                                   \n",
       "6  9.3                                                   \n",
       "  Persons_under_18_years_in_economic_families\n",
       "1  7.7                                       \n",
       "2 12.8                                       \n",
       "3 17.1                                       \n",
       "4 17.5                                       \n",
       "5 16.3                                       \n",
       "6 18.1                                       \n",
       "  Persons_under_18_years_in_female_lone_parent_families\n",
       "1   NA                                                 \n",
       "2 42.2                                                 \n",
       "3 54.4                                                 \n",
       "4 39.3                                                 \n",
       "5 53.7                                                 \n",
       "6 57.2                                                 "
      ]
     },
     "metadata": {},
     "output_type": "display_data"
    }
   ],
   "source": [
    "glimpse(df)\n",
    "head(df)"
   ]
  },
  {
   "cell_type": "code",
   "execution_count": 25,
   "metadata": {},
   "outputs": [],
   "source": [
    "df$PRENAME <- as.factor(df$PRENAME)"
   ]
  },
  {
   "cell_type": "code",
   "execution_count": 26,
   "metadata": {},
   "outputs": [
    {
     "data": {
      "text/html": [
       "<ol class=list-inline>\n",
       "\t<li>'Alberta'</li>\n",
       "\t<li>'British Columbia'</li>\n",
       "\t<li>'Manitoba'</li>\n",
       "\t<li>'New Brunswick'</li>\n",
       "\t<li>'Newfoundland and Labrador'</li>\n",
       "\t<li>'Nova Scotia'</li>\n",
       "\t<li>'Ontario'</li>\n",
       "\t<li>'Prince Edward Island'</li>\n",
       "\t<li>'Quebec'</li>\n",
       "\t<li>'Saskatchewan'</li>\n",
       "</ol>\n"
      ],
      "text/latex": [
       "\\begin{enumerate*}\n",
       "\\item 'Alberta'\n",
       "\\item 'British Columbia'\n",
       "\\item 'Manitoba'\n",
       "\\item 'New Brunswick'\n",
       "\\item 'Newfoundland and Labrador'\n",
       "\\item 'Nova Scotia'\n",
       "\\item 'Ontario'\n",
       "\\item 'Prince Edward Island'\n",
       "\\item 'Quebec'\n",
       "\\item 'Saskatchewan'\n",
       "\\end{enumerate*}\n"
      ],
      "text/markdown": [
       "1. 'Alberta'\n",
       "2. 'British Columbia'\n",
       "3. 'Manitoba'\n",
       "4. 'New Brunswick'\n",
       "5. 'Newfoundland and Labrador'\n",
       "6. 'Nova Scotia'\n",
       "7. 'Ontario'\n",
       "8. 'Prince Edward Island'\n",
       "9. 'Quebec'\n",
       "10. 'Saskatchewan'\n",
       "\n",
       "\n"
      ],
      "text/plain": [
       " [1] \"Alberta\"                   \"British Columbia\"         \n",
       " [3] \"Manitoba\"                  \"New Brunswick\"            \n",
       " [5] \"Newfoundland and Labrador\" \"Nova Scotia\"              \n",
       " [7] \"Ontario\"                   \"Prince Edward Island\"     \n",
       " [9] \"Quebec\"                    \"Saskatchewan\"             "
      ]
     },
     "metadata": {},
     "output_type": "display_data"
    }
   ],
   "source": [
    "levels(df$PRENAME)"
   ]
  },
  {
   "cell_type": "markdown",
   "metadata": {},
   "source": [
    "### Select measures of interest"
   ]
  },
  {
   "cell_type": "code",
   "execution_count": 27,
   "metadata": {},
   "outputs": [
    {
     "name": "stdout",
     "output_type": "stream",
     "text": [
      "Observations: 10\n",
      "Variables: 2\n",
      "$ PRENAME                <fctr> Alberta, British Columbia, Manitoba, New Br...\n",
      "$ Persons_under_18_years <dbl> 7.7, 12.8, 17.1, 17.5, 16.3, 18.1, 16.2, 19....\n"
     ]
    },
    {
     "data": {
      "text/html": [
       "<table>\n",
       "<thead><tr><th scope=col>PRENAME</th><th scope=col>Persons_under_18_years</th></tr></thead>\n",
       "<tbody>\n",
       "\t<tr><td>Alberta                  </td><td> 7.7                     </td></tr>\n",
       "\t<tr><td>British Columbia         </td><td>12.8                     </td></tr>\n",
       "\t<tr><td>Manitoba                 </td><td>17.1                     </td></tr>\n",
       "\t<tr><td>New Brunswick            </td><td>17.5                     </td></tr>\n",
       "\t<tr><td>Newfoundland and Labrador</td><td>16.3                     </td></tr>\n",
       "\t<tr><td>Nova Scotia              </td><td>18.1                     </td></tr>\n",
       "\t<tr><td>Ontario                  </td><td>16.2                     </td></tr>\n",
       "\t<tr><td>Prince Edward Island     </td><td>19.8                     </td></tr>\n",
       "\t<tr><td>Quebec                   </td><td>13.1                     </td></tr>\n",
       "\t<tr><td>Saskatchewan             </td><td>13.0                     </td></tr>\n",
       "</tbody>\n",
       "</table>\n"
      ],
      "text/latex": [
       "\\begin{tabular}{r|ll}\n",
       " PRENAME & Persons\\_under\\_18\\_years\\\\\n",
       "\\hline\n",
       "\t Alberta                   &  7.7                     \\\\\n",
       "\t British Columbia          & 12.8                     \\\\\n",
       "\t Manitoba                  & 17.1                     \\\\\n",
       "\t New Brunswick             & 17.5                     \\\\\n",
       "\t Newfoundland and Labrador & 16.3                     \\\\\n",
       "\t Nova Scotia               & 18.1                     \\\\\n",
       "\t Ontario                   & 16.2                     \\\\\n",
       "\t Prince Edward Island      & 19.8                     \\\\\n",
       "\t Quebec                    & 13.1                     \\\\\n",
       "\t Saskatchewan              & 13.0                     \\\\\n",
       "\\end{tabular}\n"
      ],
      "text/markdown": [
       "\n",
       "PRENAME | Persons_under_18_years | \n",
       "|---|---|---|---|---|---|---|---|---|---|\n",
       "| Alberta                   |  7.7                      | \n",
       "| British Columbia          | 12.8                      | \n",
       "| Manitoba                  | 17.1                      | \n",
       "| New Brunswick             | 17.5                      | \n",
       "| Newfoundland and Labrador | 16.3                      | \n",
       "| Nova Scotia               | 18.1                      | \n",
       "| Ontario                   | 16.2                      | \n",
       "| Prince Edward Island      | 19.8                      | \n",
       "| Quebec                    | 13.1                      | \n",
       "| Saskatchewan              | 13.0                      | \n",
       "\n",
       "\n"
      ],
      "text/plain": [
       "   PRENAME                   Persons_under_18_years\n",
       "1  Alberta                    7.7                  \n",
       "2  British Columbia          12.8                  \n",
       "3  Manitoba                  17.1                  \n",
       "4  New Brunswick             17.5                  \n",
       "5  Newfoundland and Labrador 16.3                  \n",
       "6  Nova Scotia               18.1                  \n",
       "7  Ontario                   16.2                  \n",
       "8  Prince Edward Island      19.8                  \n",
       "9  Quebec                    13.1                  \n",
       "10 Saskatchewan              13.0                  "
      ]
     },
     "metadata": {},
     "output_type": "display_data"
    }
   ],
   "source": [
    "df <- df %>%\n",
    "  select(\"PRENAME\", \"Persons_under_18_years\")\n",
    "  \n",
    "\n",
    "glimpse(df)\n",
    "df"
   ]
  },
  {
   "cell_type": "code",
   "execution_count": 28,
   "metadata": {},
   "outputs": [
    {
     "data": {
      "text/html": [
       "<table>\n",
       "<thead><tr><th scope=col>PRENAME</th><th scope=col>PercentChildrenInLowIncomeAfterTax</th></tr></thead>\n",
       "<tbody>\n",
       "\t<tr><td>Alberta                  </td><td> 7.7                     </td></tr>\n",
       "\t<tr><td>British Columbia         </td><td>12.8                     </td></tr>\n",
       "\t<tr><td>Manitoba                 </td><td>17.1                     </td></tr>\n",
       "\t<tr><td>New Brunswick            </td><td>17.5                     </td></tr>\n",
       "\t<tr><td>Newfoundland and Labrador</td><td>16.3                     </td></tr>\n",
       "\t<tr><td>Nova Scotia              </td><td>18.1                     </td></tr>\n",
       "\t<tr><td>Ontario                  </td><td>16.2                     </td></tr>\n",
       "\t<tr><td>Prince Edward Island     </td><td>19.8                     </td></tr>\n",
       "\t<tr><td>Quebec                   </td><td>13.1                     </td></tr>\n",
       "\t<tr><td>Saskatchewan             </td><td>13.0                     </td></tr>\n",
       "</tbody>\n",
       "</table>\n"
      ],
      "text/latex": [
       "\\begin{tabular}{r|ll}\n",
       " PRENAME & PercentChildrenInLowIncomeAfterTax\\\\\n",
       "\\hline\n",
       "\t Alberta                   &  7.7                     \\\\\n",
       "\t British Columbia          & 12.8                     \\\\\n",
       "\t Manitoba                  & 17.1                     \\\\\n",
       "\t New Brunswick             & 17.5                     \\\\\n",
       "\t Newfoundland and Labrador & 16.3                     \\\\\n",
       "\t Nova Scotia               & 18.1                     \\\\\n",
       "\t Ontario                   & 16.2                     \\\\\n",
       "\t Prince Edward Island      & 19.8                     \\\\\n",
       "\t Quebec                    & 13.1                     \\\\\n",
       "\t Saskatchewan              & 13.0                     \\\\\n",
       "\\end{tabular}\n"
      ],
      "text/markdown": [
       "\n",
       "PRENAME | PercentChildrenInLowIncomeAfterTax | \n",
       "|---|---|---|---|---|---|---|---|---|---|\n",
       "| Alberta                   |  7.7                      | \n",
       "| British Columbia          | 12.8                      | \n",
       "| Manitoba                  | 17.1                      | \n",
       "| New Brunswick             | 17.5                      | \n",
       "| Newfoundland and Labrador | 16.3                      | \n",
       "| Nova Scotia               | 18.1                      | \n",
       "| Ontario                   | 16.2                      | \n",
       "| Prince Edward Island      | 19.8                      | \n",
       "| Quebec                    | 13.1                      | \n",
       "| Saskatchewan              | 13.0                      | \n",
       "\n",
       "\n"
      ],
      "text/plain": [
       "   PRENAME                   PercentChildrenInLowIncomeAfterTax\n",
       "1  Alberta                    7.7                              \n",
       "2  British Columbia          12.8                              \n",
       "3  Manitoba                  17.1                              \n",
       "4  New Brunswick             17.5                              \n",
       "5  Newfoundland and Labrador 16.3                              \n",
       "6  Nova Scotia               18.1                              \n",
       "7  Ontario                   16.2                              \n",
       "8  Prince Edward Island      19.8                              \n",
       "9  Quebec                    13.1                              \n",
       "10 Saskatchewan              13.0                              "
      ]
     },
     "metadata": {},
     "output_type": "display_data"
    }
   ],
   "source": [
    "# rename column to be friendlier when merging with CanadaMap spatial dataframe\n",
    "\n",
    "df$PercentChildrenInLowIncomeAfterTax <-\n",
    "  df$Persons_under_18_years\n",
    "\n",
    "df$Persons_under_18_years <- NULL\n",
    "\n",
    "df"
   ]
  },
  {
   "cell_type": "markdown",
   "metadata": {},
   "source": [
    "## Display a map of Canada showing results"
   ]
  },
  {
   "cell_type": "code",
   "execution_count": 29,
   "metadata": {},
   "outputs": [
    {
     "name": "stdout",
     "output_type": "stream",
     "text": [
      "Reading layer `lpr_000b16a_e' from data source `C:\\Users\\rahmant\\GIS_Canada\\lpr_000b16a_e.shp' using driver `ESRI Shapefile'\n",
      "Simple feature collection with 13 features and 6 fields\n",
      "geometry type:  MULTIPOLYGON\n",
      "dimension:      XY\n",
      "bbox:           xmin: 3689439 ymin: 659338.9 xmax: 9015737 ymax: 5242179\n",
      "epsg (SRID):    NA\n",
      "proj4string:    +proj=lcc +lat_1=49 +lat_2=77 +lat_0=63.390675 +lon_0=-91.86666666666666 +x_0=6200000 +y_0=3000000 +datum=NAD83 +units=m +no_defs\n"
     ]
    }
   ],
   "source": [
    "CanadaMap <- st_read(\"GIS_Canada/lpr_000b16a_e.shp\")"
   ]
  },
  {
   "cell_type": "code",
   "execution_count": 30,
   "metadata": {},
   "outputs": [
    {
     "data": {
      "text/plain": [
       "[1] \"2018-08-15 13:28:14 AST\""
      ]
     },
     "metadata": {},
     "output_type": "display_data"
    },
    {
     "name": "stdout",
     "output_type": "stream",
     "text": [
      "Observations: 13\n",
      "Variables: 7\n",
      "$ PRUID    <fctr> 10, 11, 12, 13, 24, 35, 46, 47, 48, 59, 60, 61, 62\n",
      "$ PRNAME   <fctr> Newfoundland and Labrador / Terre-Neuve-et-Labrador, Prin...\n",
      "$ PRENAME  <fctr> Newfoundland and Labrador, Prince Edward Island, Nova Sco...\n",
      "$ PRFNAME  <fctr> Terre-Neuve-et-Labrador, Île-du-Prince-Édouard, Nouvelle-...\n",
      "$ PREABBR  <fctr> N.L., P.E.I., N.S., N.B., Que., Ont., Man., Sask., Alta.,...\n",
      "$ PRFABBR  <fctr> T.-N.-L., Î.-P.-É., N.-É., N.-B., Qc, Ont., Man., Sask., ...\n",
      "$ geometry <simple_feature> MULTIPOLYGON (((8307365.588..., MULTIPOLYGON ((...\n"
     ]
    },
    {
     "data": {
      "text/plain": [
       "[1] \"2018-08-15 13:28:38 AST\""
      ]
     },
     "metadata": {},
     "output_type": "display_data"
    }
   ],
   "source": [
    "Sys.time()\n",
    "glimpse(CanadaMap)\n",
    "Sys.time()"
   ]
  },
  {
   "cell_type": "code",
   "execution_count": 31,
   "metadata": {},
   "outputs": [],
   "source": [
    "CanadaMap <- merge(CanadaMap, df) # join the two dataframes, merge will use the common column name to join with\n",
    "\n",
    "# Note: this will lose any data with territories"
   ]
  },
  {
   "cell_type": "code",
   "execution_count": 32,
   "metadata": {},
   "outputs": [
    {
     "name": "stdout",
     "output_type": "stream",
     "text": [
      "Observations: 10\n",
      "Variables: 8\n",
      "$ PRENAME                            <fctr> Alberta, British Columbia, Mani...\n",
      "$ PRUID                              <fctr> 48, 59, 46, 13, 10, 12, 35, 11,...\n",
      "$ PRNAME                             <fctr> Alberta, British Columbia / Col...\n",
      "$ PRFNAME                            <fctr> Alberta, Colombie-Britannique, ...\n",
      "$ PREABBR                            <fctr> Alta., B.C., Man., N.B., N.L., ...\n",
      "$ PRFABBR                            <fctr> Alb., C.-B., Man., N.-B., T.-N....\n",
      "$ PercentChildrenInLowIncomeAfterTax <dbl> 7.7, 12.8, 17.1, 17.5, 16.3, 18....\n",
      "$ geometry                           <simple_feature> MULTIPOLYGON (((52283...\n"
     ]
    }
   ],
   "source": [
    "glimpse(CanadaMap)"
   ]
  },
  {
   "cell_type": "code",
   "execution_count": 33,
   "metadata": {},
   "outputs": [],
   "source": [
    "df$PREABBR <- CanadaMap$PREABBR\n",
    "df$PRENAME <- NULL"
   ]
  },
  {
   "cell_type": "code",
   "execution_count": 34,
   "metadata": {},
   "outputs": [],
   "source": [
    "# Before merging with a shapefile for polygon data, write the data to a table in csv format\n",
    "# Table_B\n",
    "\n",
    "write.csv(df, \n",
    "          file = \"Table_AS.csv\",\n",
    "          row.names = FALSE) # set row.name to FALSE to not include an index column in the csv output file"
   ]
  },
  {
   "cell_type": "code",
   "execution_count": 35,
   "metadata": {},
   "outputs": [
    {
     "data": {
      "text/html": [
       "<strong>png:</strong> 2"
      ],
      "text/latex": [
       "\\textbf{png:} 2"
      ],
      "text/markdown": [
       "**png:** 2"
      ],
      "text/plain": [
       "png \n",
       "  2 "
      ]
     },
     "metadata": {},
     "output_type": "display_data"
    }
   ],
   "source": [
    "# Save a dataframe as a nicely formatted png file\n",
    "# uses the gridExtra package\n",
    "\n",
    "png(\"Table_AS.png\", height = 30*nrow(df), width = 250*ncol(df))\n",
    "grid.table(df)\n",
    "dev.off()"
   ]
  },
  {
   "cell_type": "code",
   "execution_count": 36,
   "metadata": {},
   "outputs": [
    {
     "data": {
      "text/plain": [
       "[1] \"2018-08-15 13:28:54 AST\""
      ]
     },
     "metadata": {},
     "output_type": "display_data"
    },
    {
     "data": {},
     "metadata": {},
     "output_type": "display_data"
    },
    {
     "data": {
      "text/plain": [
       "[1] \"2018-08-15 13:29:34 AST\""
      ]
     },
     "metadata": {},
     "output_type": "display_data"
    },
    {
     "data": {
      "image/png": "[encoded data removed]",
      "text/plain": [
       "plot without title"
      ]
     },
     "metadata": {},
     "output_type": "display_data"
    }
   ],
   "source": [
    "Sys.time()\n",
    "\n",
    "my_map_AS0 <-\n",
    "  tm_shape(CanadaMap) +\n",
    "  tm_polygons(col = \"PercentChildrenInLowIncomeAfterTax\", palette = \"YlOrRd\", style = \"order\") +\n",
    "  tm_legend(legend.outside = TRUE, legend.outside.position = \"bottom\") +\n",
    "  tm_text(text = \"PercentChildrenInLowIncomeAfterTax\", size = .6) + \n",
    "  tm_layout(frame = FALSE, \n",
    "            legend.show = FALSE,\n",
    "            main.title = \"Percent of Children Under 18 Living in Low Income After Tax, 2016\",\n",
    "            main.title.size = 1)\n",
    "\n",
    "my_map_AS0\n",
    "\n",
    "Sys.time()"
   ]
  },
  {
   "cell_type": "code",
   "execution_count": 37,
   "metadata": {},
   "outputs": [],
   "source": [
    "# Sys.time()\n",
    "#   save_tmap(tm = my_map_AS0, \n",
    "#        filename = \"Percent of Children Under 18 Living in Low Income After Tax, 2016\")\n",
    "# Sys.time()"
   ]
  },
  {
   "cell_type": "markdown",
   "metadata": {},
   "source": [
    "# Main Script Ends Here"
   ]
  },
  {
   "cell_type": "code",
   "execution_count": 38,
   "metadata": {},
   "outputs": [
    {
     "data": {
      "text/plain": [
       "[1] \"2018-08-15 13:29:38 AST\""
      ]
     },
     "metadata": {},
     "output_type": "display_data"
    }
   ],
   "source": [
    "Sys.time()"
   ]
  },
  {
   "cell_type": "markdown",
   "metadata": {},
   "source": [
    "# Appendix 1 - Examples of common coding techniques"
   ]
  },
  {
   "cell_type": "code",
   "execution_count": 39,
   "metadata": {},
   "outputs": [],
   "source": [
    "# Example of how to read and filter a large csv file a chunk at a time, e.g. filter 50000 rows at a time into a new dataframe\n",
    "# This is very efficient, comparable to fread in speed but done in chunks to conserve memory\n",
    "# I also prefer it to fread because I can filter out rows with missing values as I import the data\n",
    "# and specify which columns I want to import \n",
    "# need readr library from tidyverse library\n",
    "\n",
    "\n",
    "# Sys.time() # start time for reading file\n",
    "# f <- function(x, pos) subset(x, \n",
    "#                             !is.na(Beds) # filter out any rows with missing values in the specified column in parenthesis\n",
    "#                             & Gender == \"Male\") # only include rows where the specified condition is met\n",
    "#                             & any other criteria for filtering\n",
    "# df <- read_csv_chunked(\"http://www.edsc-esdc.gc.ca/ouvert-open/hps/CDHPD-OpenDataNSPL-DataSet-20170804-ENFR.csv\", \n",
    "#                            DataFrameCallback$new(f), \n",
    "#                            chunk_size = 50000, # this is an adequate chunk size\n",
    "#                            # col_names = TRUE # this will keep original column names if you don't provide custom names\n",
    "#                                               # most of the time it's best to rename every column explicitly as shown below\n",
    "#                            col_names = c(\"ShelterType\", # this renames each column in order of the csv file to what you specify\n",
    "#                                          \"ProvinceCode\",\n",
    "#                                          \"City\",\n",
    "#                                          \"TargetPopulation\",\n",
    "#                                          \"Gender\",\n",
    "#                                          \"ShelterName\",\n",
    "#                                          \"Beds\"), # all other columns after this will be dropped if not included        \n",
    "#                            cols_only( # specify which columns with data types you want to include \n",
    "#                                       # to avoid importing unwanted data\n",
    "#                                       # include all columns that you specified above with col_names if you renamed them\n",
    "#                                \"ShelterType\" = col_character(),\n",
    "#                                \"ProvinceCode\" = col_character(),\n",
    "#                                \"City\" = col_character(),\n",
    "#                                \"TargetPopulation\" = col_character(),\n",
    "#                                \"Gender\" = col_character(),\n",
    "#                                \"ShelterName\" = col_character(),\n",
    "#                                \"Beds\" = col_number()),\n",
    "#                            skip = 1, # skip original column headers if you renamed them\n",
    "#                            trim_ws = TRUE) # trim leading and trailing whitespace for each data point\n",
    "# Sys.time() # end time for reading file"
   ]
  },
  {
   "cell_type": "code",
   "execution_count": 40,
   "metadata": {},
   "outputs": [],
   "source": [
    "# Example of how to read csv files quickly with fread while converting all chr variables to factors \n",
    "# need data.table library\n",
    "# Use fread when you are a lazy and know you won't have memory issues loading the entire dataset at once\n",
    "# or when you know you need to keep all information loaded into memory\n",
    "\n",
    "# df <- fread(\"DataFilesAOP/AB_Provincial_Detailed_Crime_Stats_2006-2011-2016.csv\", \n",
    "#            stringsAsFactors = TRUE, header = TRUE)"
   ]
  },
  {
   "cell_type": "code",
   "execution_count": 41,
   "metadata": {},
   "outputs": [],
   "source": [
    "# Example of how to write a dataframe to a csv file\n",
    "\n",
    "# write.csv(df, \n",
    "#           file = \"NS_Crime_Stats_Clean_Extract3.csv\",\n",
    "#           row.names = FALSE) # set row.name to FALSE to not include an index column in the csv output file"
   ]
  },
  {
   "cell_type": "code",
   "execution_count": 42,
   "metadata": {},
   "outputs": [],
   "source": [
    "# Example of how to create dummy variables from a factor variable\n",
    "\n",
    "# df_Province_dummies <- data.frame(model.matrix(~Province, df))\n",
    "# df_Province_dummies\n",
    "# df_Province_dummies$X.Intercept. <- NULL\n",
    "# df_Province_dummies # 9 dummy columns, all zeros indicate Alberta\n",
    "# df <- cbind(df_Province_dummies, df)"
   ]
  },
  {
   "cell_type": "code",
   "execution_count": 43,
   "metadata": {},
   "outputs": [],
   "source": [
    "# Example how to change all of the column names in a dataframe to something friendlier\n",
    "# You want to avoid special characters and spaces in column names to prevent problems with differnt packages and features\n",
    "# Provide new names in a character vector\n",
    "\n",
    "# colnames(df) <- c(\" \", \" \")"
   ]
  },
  {
   "cell_type": "code",
   "execution_count": 44,
   "metadata": {},
   "outputs": [],
   "source": [
    "# Example how to set the number of digits displayed in dataframes\n",
    "\n",
    "# options(digits=15) # set the visible number of digits to 15, useful when displaying GIS coordinates in dataframes\n",
    "# options(\"digits\") # display the max number of digits that appear in cells of a dataframe"
   ]
  },
  {
   "cell_type": "code",
   "execution_count": 45,
   "metadata": {},
   "outputs": [],
   "source": [
    "# Example of how to convert columns to the correct data types and how to delete columns from a dataframe\n",
    "\n",
    "# use as.numeric() and as.factor() where appropriate\n",
    "# df$column_name <- NULL will delete that column from the dataframe"
   ]
  },
  {
   "cell_type": "code",
   "execution_count": 46,
   "metadata": {},
   "outputs": [],
   "source": [
    "# Example of how to recode values of a column for rows meeting a condition\n",
    "\n",
    "# df$LATITUDE[df$GEO == \n",
    "#                          \"Amherst, Nova Scotia, municipal\"] <- 45.8338198\n",
    "# df$LONGITUDE[df$GEO == \n",
    "#                          \"Amherst, Nova Scotia, municipal\"] <- -64.2109455\n",
    "#\n",
    "# df$COUNTY[df$GEO ==\n",
    "#                          \"Amherst, Nova Scotia, municipal\"] <- \"Cumberland\""
   ]
  },
  {
   "cell_type": "code",
   "execution_count": 47,
   "metadata": {},
   "outputs": [],
   "source": [
    "# Example of how to filter a dataframe to rows where a specific string appears anywhere in a specific column\n",
    "# This example filters df to rows where \"MEP\" appears in the \"Contents\" column (need stringr library)\n",
    "\n",
    "# df_MEP <- df %>%\n",
    "#   filter(str_detect(Contents, \"MEP\"))"
   ]
  },
  {
   "cell_type": "code",
   "execution_count": 48,
   "metadata": {},
   "outputs": [],
   "source": [
    "# Example of how to handle dates - converting from timestamp to YYYYMMDD\n",
    "# This example is adequate if you really don't need a date field for arithmetic or plotting with ggplot2\n",
    "\n",
    "# parse out date and time from Timestamp\n",
    "# df <- \n",
    "#   separate(df, Timestamp, # e.g., \"01/01/2017 12:00:00 AM\"\n",
    "#           into = c(\"Date\", \"Time\", \"AMPM\"), sep = \" \")\n",
    "\n",
    "# parse out Month, Day, Year from Date\n",
    "# df <- \n",
    "#  separate(df, Date, \n",
    "#           into = c(\"Month\", \"Day\", \"Year\"), sep = \"/\")\n",
    "\n",
    "# Remove unwanted columns\n",
    "# df$Time <- NULL\n",
    "# df$AMPM <- NULL\n",
    "\n",
    "# unite the columns \"Year\", \"Month\", \"Day\" into a single column for \"YYYYMMDD\"\n",
    "# df <- \n",
    "#  unite_(df, \"YYYYMMDD\", c(\"Year\",\"Month\", \"Day\"), sep = \"\")\n",
    "\n",
    "# sort by date in decreasing order\n",
    "# df <- df[order(df$YYYYMMDD, decreasing = TRUE), ]"
   ]
  },
  {
   "cell_type": "code",
   "execution_count": 49,
   "metadata": {},
   "outputs": [],
   "source": [
    "# Use the lubridate library if arithmetic is important when working with date and time data\n",
    "# In my opinion, the lubridate functions are more complicated than my current needs, so I prefer my approach above\n",
    "# for handling dates/times\n",
    "\n",
    "# https://lubridate.tidyverse.org/\n",
    "# https://rawgit.com/rstudio/cheatsheets/master/lubridate.pdf"
   ]
  },
  {
   "cell_type": "code",
   "execution_count": 50,
   "metadata": {},
   "outputs": [],
   "source": [
    "# Example of how to subset and retain only selected characters from a cell\n",
    "# This is useful if you want to strip out useless characters in a cell given a start and end position to retain\n",
    "# need stringr library\n",
    "\n",
    "# df$gps <- \n",
    "#   str_sub(df$gps, start = 3, end = -2) \n",
    "\n",
    "# this gets rid of the first 3 characters and the last two characters\n",
    "# you can get an accurate count of characters when viewing them with glimpse(df)"
   ]
  },
  {
   "cell_type": "code",
   "execution_count": 51,
   "metadata": {},
   "outputs": [],
   "source": [
    "# Example how to merge two dataframes on common column names\n",
    "# https://stackoverflow.com/questions/1299871/how-to-join-merge-data-frames-inner-outer-left-right\n",
    "\n",
    "# CanadaMap <- merge(CanadaMap, df_Provincial) # join the two dataframes, merge will use the common column name to join with"
   ]
  },
  {
   "cell_type": "code",
   "execution_count": 52,
   "metadata": {},
   "outputs": [],
   "source": [
    "# Example of how to combine two or more dataframes vertically with the same column names\n",
    "\n",
    "# df4 <- rbind(df1, df2, df3)"
   ]
  },
  {
   "cell_type": "code",
   "execution_count": 53,
   "metadata": {},
   "outputs": [],
   "source": [
    "# Example of how to combine two or more dataframes horizontally with the same number of rows but different columns\n",
    "\n",
    "# df4 <- cbind(df1, df2, df3)"
   ]
  },
  {
   "cell_type": "code",
   "execution_count": 54,
   "metadata": {},
   "outputs": [],
   "source": [
    "# Example of how to create a new column that takes on values by performing arithmetic on existing columns \n",
    "# need dplyr and tidyverse library\n",
    "# This example creates a new column that divides one column by another and mutliplies the result by a constant\n",
    "\n",
    "# NSMAP2011 <- NSMAP2011 %>%\n",
    "#   mutate(PropertyCrimeCountyRatePer100K = PropertyCrimeIncidentsPerCounty/CountyPopulation * 100000)"
   ]
  },
  {
   "cell_type": "code",
   "execution_count": 55,
   "metadata": {},
   "outputs": [],
   "source": [
    "# Example of how to order a dataframe by a column in descening order\n",
    "# a \"-\" in front of the column name will sort it in descending (largest to lowest) order\n",
    "\n",
    "# df <- \n",
    "#  df[with(df, order(-Incidents_Total)), ]\n",
    "\n",
    "\n",
    "# adding multiple column names will prioritize ordering in that sequence\n",
    "\n",
    "# df <- \n",
    "#  df[with(df, order(REGION, COUNTY, GEO, Violations, Statistics)), ]\n",
    "\n",
    "#--------------------\n",
    "# Alternatively, you can also use the following:\n",
    "# sort by date in decreasing order\n",
    "# df <- df[order(df$YYYYMMDD, decreasing = TRUE), ]"
   ]
  },
  {
   "cell_type": "code",
   "execution_count": 56,
   "metadata": {},
   "outputs": [],
   "source": [
    "# Before spreading data for tidy format, make sure to remove any special characters beforehand\n",
    "# This ensures that after spreading the data, the column names are all properly formatted\n",
    "# Properly formatted column names will always appear flushed next to the dollar sign when glimpsing a dataframe\n",
    "# If spaces or special characters are present in the column name, they will appear within single quotes after the dollar sign\n",
    "# when glimpsing the dataframe after spreading the data\n",
    "\n",
    "# df_health$Indicators <- gsub(\" \", \"_\", df_health$Indicators)\n",
    "# df_health$Indicators <- gsub(\",\", \"\", df_health$Indicators)\n",
    "# df_health$Indicators <- gsub(\";\", \"\", df_health$Indicators)\n",
    "# df_health$Indicators <- gsub(\"-\", \"_\", df_health$Indicators)\n",
    "# df_health$Indicators <- gsub(\"\\\\(\", \"\", df_health$Indicators) # this removes left parenthesis\n",
    "# df_health$Indicators <- gsub(\"\\\\)\", \"\", df_health$Indicators) # this removes right parenthesis\n",
    "\n",
    "# df_health <- df_health %>%\n",
    "#   spread(Indicators, Value)"
   ]
  },
  {
   "cell_type": "code",
   "execution_count": 57,
   "metadata": {},
   "outputs": [],
   "source": [
    "# Example how to set a cell as NA\n",
    "# df_Provincial$PREABBR <- NA\n",
    "\n",
    "\n",
    "# Example how to remove all rows with NA\n",
    "# df_Provincial <- na.omit(df_Provincial)"
   ]
  },
  {
   "cell_type": "code",
   "execution_count": 58,
   "metadata": {},
   "outputs": [],
   "source": [
    "# Example of how to load a shapefile for mapping \n",
    "# need sf library\n",
    "\n",
    "# NS <- st_read(\"GIS_Nova_Scotia/Counties_GCS.shp\")"
   ]
  },
  {
   "cell_type": "code",
   "execution_count": 59,
   "metadata": {},
   "outputs": [],
   "source": [
    "# Example how to convert a dataframe of lats/longs to a an sf dataframe for points spatial data \n",
    "# need sf library\n",
    "\n",
    "# pts <- st_as_sf(df, coords = c(\"LONGITUDE\", \"LATITUDE\"), crs = 4269) # create sf object called \"pts\" from df\n",
    "# class(pts)\n",
    "# glimpse(pts) # LONGITUDE and LATITUDE columns are replaced with a geometry column for point data"
   ]
  },
  {
   "cell_type": "code",
   "execution_count": 60,
   "metadata": {},
   "outputs": [],
   "source": [
    "# Example how to add custom icons for points spatial data \n",
    "# need sf library and tmap library\n",
    "\n",
    "# Using custom icons for points instead of bubbles\n",
    "\n",
    "# file <- \"DataFilesGeneral/flower_960_720.png\"  \n",
    "# flower_icon <- tmap_icons(file, width = 48, height = 48, keep.asp = TRUE,\n",
    "#   just = c(\"center\", \"center\"), as.local = TRUE)\n",
    "\n",
    "# my_map_2 <- my_map_0 +\n",
    "#   tm_shape(pts) +\n",
    "#   tm_symbols(\"VALUE\", shape = flower_icon, size = .3, alpha = .2, border.alpha = 0) \n",
    "# my_map_2"
   ]
  },
  {
   "cell_type": "markdown",
   "metadata": {},
   "source": [
    "# Appendix 2 - Note regarding preferred way for installing packages"
   ]
  },
  {
   "cell_type": "code",
   "execution_count": 61,
   "metadata": {},
   "outputs": [],
   "source": [
    "# Preferrably, install new packages via Anaconda Prompt > conda install r-package_name\n",
    "# Try to only use library() in notebook instead of install.packages()\n",
    "# this is more reliable than using install.packages(\"package name\") in R script\n",
    "# Anaconda Prompt > conda list shows what packages are installed\n",
    "\n",
    "# However, when the above isn't true for some reason, it is noted below\n",
    "# e.g., tmap must be installed through install.packages(\"tmap\")"
   ]
  }
 ],
 "metadata": {
  "kernelspec": {
   "display_name": "R",
   "language": "R",
   "name": "ir"
  },
  "language_info": {
   "codemirror_mode": "r",
   "file_extension": ".r",
   "mimetype": "text/x-r-source",
   "name": "R",
   "pygments_lexer": "r",
   "version": "3.4.3"
  }
 },
 "nbformat": 4,
 "nbformat_minor": 2
}
