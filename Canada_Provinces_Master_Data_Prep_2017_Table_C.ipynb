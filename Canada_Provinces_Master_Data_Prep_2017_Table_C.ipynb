{
 "cells": [
  {
   "cell_type": "code",
   "execution_count": 1,
   "metadata": {},
   "outputs": [
    {
     "data": {
      "text/plain": [
       "[1] \"2018-08-08 12:32:16 AST\""
      ]
     },
     "metadata": {},
     "output_type": "display_data"
    }
   ],
   "source": [
    "# Must run this notebook from root directory in Anaconda for relative local file paths to work\n",
    "\n",
    "Sys.time() # script start time"
   ]
  },
  {
   "cell_type": "markdown",
   "metadata": {},
   "source": [
    "# Install and attach packages"
   ]
  },
  {
   "cell_type": "code",
   "execution_count": 2,
   "metadata": {},
   "outputs": [],
   "source": [
    "# See note at the end of this notebook regarding the preferred way of installing packages"
   ]
  },
  {
   "cell_type": "code",
   "execution_count": 3,
   "metadata": {},
   "outputs": [
    {
     "name": "stderr",
     "output_type": "stream",
     "text": [
      "-- Attaching packages --------------------------------------- tidyverse 1.2.1 --\n",
      "v ggplot2 2.2.1     v purrr   0.2.4\n",
      "v tibble  1.4.1     v dplyr   0.7.4\n",
      "v tidyr   0.7.2     v stringr 1.2.0\n",
      "v readr   1.1.1     v forcats 0.2.0\n",
      "-- Conflicts ------------------------------------------ tidyverse_conflicts() --\n",
      "x dplyr::filter() masks stats::filter()\n",
      "x dplyr::lag()    masks stats::lag()\n"
     ]
    }
   ],
   "source": [
    "library(tidyverse)"
   ]
  },
  {
   "cell_type": "code",
   "execution_count": 4,
   "metadata": {},
   "outputs": [
    {
     "name": "stderr",
     "output_type": "stream",
     "text": [
      "\n",
      "Attaching package: 'data.table'\n",
      "\n",
      "The following objects are masked from 'package:dplyr':\n",
      "\n",
      "    between, first, last\n",
      "\n",
      "The following object is masked from 'package:purrr':\n",
      "\n",
      "    transpose\n",
      "\n"
     ]
    }
   ],
   "source": [
    "library(data.table)"
   ]
  },
  {
   "cell_type": "code",
   "execution_count": 5,
   "metadata": {},
   "outputs": [],
   "source": [
    "library(stringr)"
   ]
  },
  {
   "cell_type": "code",
   "execution_count": 6,
   "metadata": {},
   "outputs": [
    {
     "name": "stderr",
     "output_type": "stream",
     "text": [
      "\n",
      "Attaching package: 'gridExtra'\n",
      "\n",
      "The following object is masked from 'package:dplyr':\n",
      "\n",
      "    combine\n",
      "\n"
     ]
    }
   ],
   "source": [
    "library(gridExtra)"
   ]
  },
  {
   "cell_type": "code",
   "execution_count": 7,
   "metadata": {},
   "outputs": [
    {
     "name": "stderr",
     "output_type": "stream",
     "text": [
      "Linking to GEOS 3.6.1, GDAL 2.2.0, proj.4 4.9.3\n"
     ]
    }
   ],
   "source": [
    "library(sf) # needed for mapping"
   ]
  },
  {
   "cell_type": "code",
   "execution_count": 8,
   "metadata": {},
   "outputs": [],
   "source": [
    "# install.packages(\"tmap\")\n",
    "# this for some reason can only be installed via install.packages(), but only has to be done once in your environment"
   ]
  },
  {
   "cell_type": "code",
   "execution_count": 9,
   "metadata": {},
   "outputs": [],
   "source": [
    "library(tmap) # needed for mapping"
   ]
  },
  {
   "cell_type": "code",
   "execution_count": 10,
   "metadata": {},
   "outputs": [],
   "source": [
    "# Set default options to display more digits, useful for gps coordinates"
   ]
  },
  {
   "cell_type": "code",
   "execution_count": 11,
   "metadata": {},
   "outputs": [],
   "source": [
    "options(digits=15) # set the visible number of digits to 15, useful when displaying GIS coordinates in dataframes"
   ]
  },
  {
   "cell_type": "code",
   "execution_count": 12,
   "metadata": {},
   "outputs": [
    {
     "data": {
      "text/html": [
       "<strong>$digits</strong> = 15"
      ],
      "text/latex": [
       "\\textbf{\\$digits} = 15"
      ],
      "text/markdown": [
       "**$digits** = 15"
      ],
      "text/plain": [
       "$digits\n",
       "[1] 15\n"
      ]
     },
     "metadata": {},
     "output_type": "display_data"
    }
   ],
   "source": [
    "options(\"digits\") # display the max number of digits that appear in cells of a dataframe"
   ]
  },
  {
   "cell_type": "code",
   "execution_count": 13,
   "metadata": {},
   "outputs": [
    {
     "data": {
      "text/plain": [
       "R version 3.4.3 (2017-11-30)\n",
       "Platform: x86_64-w64-mingw32/x64 (64-bit)\n",
       "Running under: Windows 10 x64 (build 17134)\n",
       "\n",
       "Matrix products: default\n",
       "\n",
       "locale:\n",
       "[1] LC_COLLATE=English_Canada.1252  LC_CTYPE=English_Canada.1252   \n",
       "[3] LC_MONETARY=English_Canada.1252 LC_NUMERIC=C                   \n",
       "[5] LC_TIME=English_Canada.1252    \n",
       "\n",
       "attached base packages:\n",
       "[1] stats     graphics  grDevices utils     datasets  methods   base     \n",
       "\n",
       "other attached packages:\n",
       " [1] tmap_1.10            sf_0.5-4             gridExtra_2.2.1     \n",
       " [4] data.table_1.10.4-3  forcats_0.2.0        stringr_1.2.0       \n",
       " [7] dplyr_0.7.4          purrr_0.2.4          readr_1.1.1         \n",
       "[10] tidyr_0.7.2          tibble_1.4.1         ggplot2_2.2.1       \n",
       "[13] tidyverse_1.2.1      RevoUtils_10.0.8     RevoUtilsMath_10.0.1\n",
       "\n",
       "loaded via a namespace (and not attached):\n",
       "  [1] colorspace_1.3-2   deldir_0.1-14      class_7.3-14      \n",
       "  [4] gdalUtils_2.0.1.7  leaflet_1.1.0      rgdal_1.2-8       \n",
       "  [7] satellite_1.0.0    IRdisplay_0.4.4    base64enc_0.1-3   \n",
       " [10] dichromat_2.0-0    rstudioapi_0.7     lubridate_1.7.1   \n",
       " [13] xml2_1.1.1         R.methodsS3_1.7.1  codetools_0.2-15  \n",
       " [16] splines_3.4.3      mnormt_1.5-5       geojsonlint_0.2.0 \n",
       " [19] IRkernel_0.8.11    jsonlite_1.5       tmaptools_1.2-1   \n",
       " [22] broom_0.4.3        png_0.1-7          R.oo_1.21.0       \n",
       " [25] rgeos_0.3-23       shiny_1.0.5        compiler_3.4.3    \n",
       " [28] httr_1.3.1         mapview_2.1.4      assertthat_0.2.0  \n",
       " [31] Matrix_1.2-12      lazyeval_0.2.1     cli_1.0.0         \n",
       " [34] htmltools_0.3.6    tools_3.4.3        bindrcpp_0.2      \n",
       " [37] coda_0.19-1        gtable_0.2.0       glue_1.2.0        \n",
       " [40] reshape2_1.4.3     gmodels_2.16.2     V8_1.5            \n",
       " [43] Rcpp_0.12.14       cellranger_1.1.0   raster_2.5-8      \n",
       " [46] spdep_0.6-13       gdata_2.18.0       nlme_3.1-131      \n",
       " [49] udunits2_0.13      iterators_1.0.9    crosstalk_1.0.0   \n",
       " [52] psych_1.7.5        rvest_0.3.2        mime_0.5          \n",
       " [55] gtools_3.5.0       XML_3.98-1.9       LearnBayes_2.15   \n",
       " [58] MASS_7.3-47        scales_0.5.0       hms_0.4.0         \n",
       " [61] parallel_3.4.3     expm_0.999-2       RColorBrewer_1.1-2\n",
       " [64] curl_3.1           geosphere_1.5-5    stringi_1.1.6     \n",
       " [67] jsonvalidate_1.0.0 foreach_1.4.5      e1071_1.6-8       \n",
       " [70] boot_1.3-20        repr_0.12.0        rlang_0.1.6       \n",
       " [73] pkgconfig_2.0.1    bitops_1.0-6       evaluate_0.10.1   \n",
       " [76] lattice_0.20-35    bindr_0.1          htmlwidgets_0.9   \n",
       " [79] osmar_1.1-7        plyr_1.8.4         magrittr_1.5      \n",
       " [82] R6_2.2.2           pbdZMQ_0.2-6       DBI_0.7           \n",
       " [85] pillar_1.0.1       haven_1.1.0        foreign_0.8-69    \n",
       " [88] units_0.4-6        RCurl_1.95-4.8     sp_1.2-5          \n",
       " [91] modelr_0.1.1       crayon_1.3.4       rmapshaper_0.3.0  \n",
       " [94] uuid_0.1-2         KernSmooth_2.23-15 grid_3.4.3        \n",
       " [97] readxl_1.0.0       webshot_0.4.1      digest_0.6.13     \n",
       "[100] classInt_0.1-24    xtable_1.8-2       httpuv_1.3.5      \n",
       "[103] R.utils_2.5.0      stats4_3.4.3       munsell_0.4.3     \n",
       "[106] viridisLite_0.2.0 "
      ]
     },
     "metadata": {},
     "output_type": "display_data"
    }
   ],
   "source": [
    "sessionInfo()"
   ]
  },
  {
   "cell_type": "markdown",
   "metadata": {},
   "source": [
    "# Main Script Begins Here"
   ]
  },
  {
   "cell_type": "markdown",
   "metadata": {},
   "source": [
    "## 3. Number of Emergency Homeless Beds at Male-Only Shelters Per 100,000 Male Population, 2017"
   ]
  },
  {
   "cell_type": "code",
   "execution_count": 14,
   "metadata": {},
   "outputs": [
    {
     "data": {
      "text/plain": [
       "[1] \"2018-08-08 12:32:22 AST\""
      ]
     },
     "metadata": {},
     "output_type": "display_data"
    }
   ],
   "source": [
    "Sys.time() # script start time from body"
   ]
  },
  {
   "cell_type": "code",
   "execution_count": 15,
   "metadata": {},
   "outputs": [],
   "source": [
    "# Import and clean data before analysis"
   ]
  },
  {
   "cell_type": "code",
   "execution_count": 16,
   "metadata": {},
   "outputs": [
    {
     "data": {
      "text/plain": [
       "[1] \"2018-08-08 12:32:22 AST\""
      ]
     },
     "metadata": {},
     "output_type": "display_data"
    },
    {
     "data": {
      "text/plain": [
       "[1] \"2018-08-08 12:32:22 AST\""
      ]
     },
     "metadata": {},
     "output_type": "display_data"
    }
   ],
   "source": [
    "# Import dataset\n",
    "# Homeless Shelters in Canada\n",
    "# Source: https://open.canada.ca/data/en/dataset/7e0189e3-8595-4e62-a4e9-4fed6f265e10\n",
    "# See also: http://publications.gc.ca/collections/collection_2018/edsc-esdc/Em20-91-2018-eng.pdf\n",
    "\n",
    "\n",
    "Sys.time() # start time for reading file\n",
    "f <- function(x, pos) subset(x, \n",
    "                            !is.na(Beds)) # filter out any rows with missing values in the specified column in parenthesis\n",
    "#                           & City == \"Halifax\") # only include rows where the specified condition is met\n",
    "#                           & any other criteria for filtering\n",
    "df <- read_csv_chunked(\"http://www.edsc-esdc.gc.ca/ouvert-open/hps/CDHPD-OpenDataNSPL-DataSet-20170804-ENFR.csv\", \n",
    "                           DataFrameCallback$new(f), \n",
    "                           chunk_size = 50000, # this is an adequate chunk size\n",
    "                           col_names = c(\"ShelterType\", # this renames each column in order to what you specify\n",
    "                                         \"Province\",\n",
    "                                         \"City\",\n",
    "                                         \"TargetPopulation\",\n",
    "                                         \"Gender\",\n",
    "                                         \"ShelterName\",\n",
    "                                         \"Beds\"), # all other columns after this will be dropped\n",
    "                           cols_only( # specify which columns with data types you want to include \n",
    "                                      # to avoid importing unwanted data\n",
    "                                      # include all columns that you specified above with col_names\n",
    "                               \"ShelterType\" = col_character(),\n",
    "                               \"Province\" = col_character(),\n",
    "                               \"City\" = col_character(),\n",
    "                               \"TargetPopulation\" = col_character(),\n",
    "                               \"Gender\" = col_character(),\n",
    "                               \"ShelterName\" = col_character(),\n",
    "                               \"Beds\" = col_number()),\n",
    "                           skip = 1, # skip original column headers\n",
    "                           trim_ws = TRUE) # trim leading and trailing whitespace for each data point\n",
    "Sys.time() # end time for reading file"
   ]
  },
  {
   "cell_type": "code",
   "execution_count": 17,
   "metadata": {},
   "outputs": [
    {
     "name": "stdout",
     "output_type": "stream",
     "text": [
      "Observations: 687\n",
      "Variables: 7\n",
      "$ ShelterType      <chr> \"Emergency\", \"Emergency\", \"Emergency\", \"Emergency\"...\n",
      "$ Province         <chr> \"AB\", \"AB\", \"AB\", \"AB\", \"AB\", \"AB\", \"AB\", \"AB\", \"A...\n",
      "$ City             <chr> \"Calgary\", \"Calgary\", \"Calgary\", \"Calgary\", \"Calga...\n",
      "$ TargetPopulation <chr> \"Family\", \"General\", \"General\", \"General\", \"Genera...\n",
      "$ Gender           <chr> \"Both\", \"Both\", \"Both\", \"Both\", \"Both\", \"Both\", \"F...\n",
      "$ ShelterName      <chr> \"Brenda's House\", \"Calgary Alpha House\", \"Calgary ...\n",
      "$ Beds             <dbl> 60, 120, 270, 975, 11, 370, 12, 6, 80, 25, 15, 5, ...\n"
     ]
    }
   ],
   "source": [
    "glimpse(df)"
   ]
  },
  {
   "cell_type": "code",
   "execution_count": 18,
   "metadata": {},
   "outputs": [],
   "source": [
    "# drop the territories\n",
    "\n",
    "df <- df %>%\n",
    "  filter(!Province %in% c(\"NT\", \"NU\", \"YT\")) %>%\n",
    "  filter(ShelterType == \"Emergency\") %>%\n",
    "  filter(Gender == \"Male\")"
   ]
  },
  {
   "cell_type": "code",
   "execution_count": 19,
   "metadata": {},
   "outputs": [
    {
     "data": {
      "text/html": [
       "<ol class=list-inline>\n",
       "\t<li>'AB'</li>\n",
       "\t<li>'BC'</li>\n",
       "\t<li>'NB'</li>\n",
       "\t<li>'NL'</li>\n",
       "\t<li>'NS'</li>\n",
       "\t<li>'ON'</li>\n",
       "\t<li>'PI'</li>\n",
       "\t<li>'QC'</li>\n",
       "\t<li>'SK'</li>\n",
       "</ol>\n"
      ],
      "text/latex": [
       "\\begin{enumerate*}\n",
       "\\item 'AB'\n",
       "\\item 'BC'\n",
       "\\item 'NB'\n",
       "\\item 'NL'\n",
       "\\item 'NS'\n",
       "\\item 'ON'\n",
       "\\item 'PI'\n",
       "\\item 'QC'\n",
       "\\item 'SK'\n",
       "\\end{enumerate*}\n"
      ],
      "text/markdown": [
       "1. 'AB'\n",
       "2. 'BC'\n",
       "3. 'NB'\n",
       "4. 'NL'\n",
       "5. 'NS'\n",
       "6. 'ON'\n",
       "7. 'PI'\n",
       "8. 'QC'\n",
       "9. 'SK'\n",
       "\n",
       "\n"
      ],
      "text/plain": [
       "[1] \"AB\" \"BC\" \"NB\" \"NL\" \"NS\" \"ON\" \"PI\" \"QC\" \"SK\""
      ]
     },
     "metadata": {},
     "output_type": "display_data"
    }
   ],
   "source": [
    "unique(df$Province)"
   ]
  },
  {
   "cell_type": "code",
   "execution_count": 20,
   "metadata": {},
   "outputs": [],
   "source": [
    "# Always rename the columns to remove spaces and special characters if you haven't already from read_csv_chunked\n",
    "# This avoids any potential problems R may encounter with different packages if not taken care of properly right away\n",
    "\n",
    "# colnames(df) <- c(\" \", \" \")"
   ]
  },
  {
   "cell_type": "code",
   "execution_count": 21,
   "metadata": {},
   "outputs": [],
   "source": [
    "# Always set the variable types next for each column and drop any unnecessary columns\n",
    "# if you haven't already from read_csv_chunked, or need to change characters to factors\n",
    "# use as.numeric() and as.factor() where appropriate\n",
    "# df$column_name <- NULL will delete that column from the dataframe\n",
    "\n",
    "df$ShelterType <- as.factor(df$ShelterType)\n",
    "df$Province <- as.factor(df$Province)\n",
    "df$City <- as.factor(df$City)\n",
    "df$TargetPopulation <- as.factor(df$TargetPopulation)\n",
    "df$Gender <- as.factor(df$Gender)"
   ]
  },
  {
   "cell_type": "code",
   "execution_count": 22,
   "metadata": {},
   "outputs": [
    {
     "name": "stdout",
     "output_type": "stream",
     "text": [
      "Observations: 81\n",
      "Variables: 7\n",
      "$ ShelterType      <fctr> Emergency, Emergency, Emergency, Emergency, Emerg...\n",
      "$ Province         <fctr> AB, AB, AB, AB, BC, BC, BC, BC, BC, BC, BC, BC, B...\n",
      "$ City             <fctr> Calgary, Edmonton, Lloydminster, Wood Buffalo, Na...\n",
      "$ TargetPopulation <fctr> General, General, General, General, General, Gene...\n",
      "$ Gender           <fctr> Male, Male, Male, Male, Male, Male, Male, Male, M...\n",
      "$ ShelterName      <chr> \"The Salvation Army - Centre Of Hope Refuge d'urge...\n",
      "$ Beds             <dbl> 80, 249, 28, 32, 23, 15, 10, 21, 10, 54, 102, 60, ...\n"
     ]
    },
    {
     "data": {
      "text/html": [
       "<table>\n",
       "<thead><tr><th scope=col>ShelterType</th><th scope=col>Province</th><th scope=col>City</th><th scope=col>TargetPopulation</th><th scope=col>Gender</th><th scope=col>ShelterName</th><th scope=col>Beds</th></tr></thead>\n",
       "<tbody>\n",
       "\t<tr><td>Emergency                                           </td><td>AB                                                  </td><td>Calgary                                             </td><td>General                                             </td><td>Male                                                </td><td>The Salvation Army - Centre Of Hope Refuge d'urgence</td><td> 80                                                 </td></tr>\n",
       "\t<tr><td>Emergency                                           </td><td>AB                                                  </td><td>Edmonton                                            </td><td>General                                             </td><td>Male                                                </td><td>Hope Mission - Herb Jamieson Centre                 </td><td>249                                                 </td></tr>\n",
       "\t<tr><td>Emergency                                           </td><td>AB                                                  </td><td>Lloydminster                                        </td><td>General                                             </td><td>Male                                                </td><td>Lloydminster Men's Shelter                          </td><td> 28                                                 </td></tr>\n",
       "\t<tr><td>Emergency                                           </td><td>AB                                                  </td><td>Wood Buffalo                                        </td><td>General                                             </td><td>Male                                                </td><td>Fort McMurray Community and Family Services Shelter </td><td> 32                                                 </td></tr>\n",
       "\t<tr><td>Emergency                                           </td><td>BC                                                  </td><td>Nanaimo                                             </td><td>General                                             </td><td>Male                                                </td><td>Nanaimo - New Hope Centre Refuge d'urgence          </td><td> 23                                                 </td></tr>\n",
       "\t<tr><td>Emergency                                           </td><td>BC                                                  </td><td>New Westminster                                     </td><td>General                                             </td><td>Male                                                </td><td>Lookout - New Westminster                           </td><td> 15                                                 </td></tr>\n",
       "\t<tr><td>Emergency                                           </td><td>BC                                                  </td><td>New Westminster                                     </td><td>General                                             </td><td>Male                                                </td><td>Stevenson House                                     </td><td> 10                                                 </td></tr>\n",
       "\t<tr><td>Emergency                                           </td><td>BC                                                  </td><td>Prince George                                       </td><td>General                                             </td><td>Male                                                </td><td>Ketso Yoh Men's Hostel                              </td><td> 21                                                 </td></tr>\n",
       "\t<tr><td>Emergency                                           </td><td>BC                                                  </td><td>Richmond                                            </td><td>General                                             </td><td>Male                                                </td><td>Richmond House Refuge d'urgence Shelter             </td><td> 10                                                 </td></tr>\n",
       "\t<tr><td>Emergency                                           </td><td>BC                                                  </td><td>Vancouver                                           </td><td>General                                             </td><td>Male                                                </td><td>Belkin House - Refuge d'urgence Men                 </td><td> 54                                                 </td></tr>\n",
       "\t<tr><td>Emergency                                           </td><td>BC                                                  </td><td>Vancouver                                           </td><td>General                                             </td><td>Male                                                </td><td>Catholic Charities Men's Hostel                     </td><td>102                                                 </td></tr>\n",
       "\t<tr><td>Emergency                                           </td><td>BC                                                  </td><td>Vancouver                                           </td><td>General                                             </td><td>Male                                                </td><td>Harbour Light - The Beacon                          </td><td> 60                                                 </td></tr>\n",
       "\t<tr><td>Emergency                                           </td><td>BC                                                  </td><td>Vancouver                                           </td><td>General                                             </td><td>Male                                                </td><td>Harbour Light - The Haven                           </td><td> 40                                                 </td></tr>\n",
       "\t<tr><td>Emergency                                           </td><td>BC                                                  </td><td>Victoria                                            </td><td>General                                             </td><td>Male                                                </td><td>Victoria Addictions and Rehabilitation Centre       </td><td> 21                                                 </td></tr>\n",
       "\t<tr><td>Emergency                                           </td><td>NB                                                  </td><td>Fredericton                                         </td><td>General                                             </td><td>Male                                                </td><td>Fredericton Homeless Shelter for Men                </td><td> 25                                                 </td></tr>\n",
       "\t<tr><td>Emergency                                           </td><td>NB                                                  </td><td>Saint John                                          </td><td>General                                             </td><td>Male                                                </td><td>Outflow Men's Shelter                               </td><td> 20                                                 </td></tr>\n",
       "\t<tr><td>Emergency                                           </td><td>NL                                                  </td><td>St. John's                                          </td><td>Youth                                               </td><td>Male                                                </td><td>Choices For Youth Shelter                           </td><td>  9                                                 </td></tr>\n",
       "\t<tr><td>Emergency                                           </td><td>NS                                                  </td><td>Halifax                                             </td><td>General                                             </td><td>Male                                                </td><td>Metro Turning Point Centre                          </td><td> 80                                                 </td></tr>\n",
       "\t<tr><td>Emergency                                           </td><td>NS                                                  </td><td>Halifax                                             </td><td>General                                             </td><td>Male                                                </td><td>The Salvation Army - Halifax Booth Centre           </td><td> 40                                                 </td></tr>\n",
       "\t<tr><td>Emergency                                           </td><td>ON                                                  </td><td>Barrie                                              </td><td>General                                             </td><td>Male                                                </td><td>Barrie Bayside Mission                              </td><td> 20                                                 </td></tr>\n",
       "\t<tr><td>Emergency                                           </td><td>ON                                                  </td><td>Brampton                                            </td><td>General                                             </td><td>Male                                                </td><td>Wilkinson Road Shelter                              </td><td> 60                                                 </td></tr>\n",
       "\t<tr><td>Emergency                                           </td><td>ON                                                  </td><td>Brantford                                           </td><td>General                                             </td><td>Male                                                </td><td>Brantford Booth Centre Hostel                       </td><td> 38                                                 </td></tr>\n",
       "\t<tr><td>Emergency                                           </td><td>ON                                                  </td><td>Cambridge                                           </td><td>Youth                                               </td><td>Male                                                </td><td>Argus Residence for Young Men                       </td><td> 10                                                 </td></tr>\n",
       "\t<tr><td>Emergency                                           </td><td>ON                                                  </td><td>Cochrane                                            </td><td>General                                             </td><td>Male                                                </td><td>Ga Beh Shoo In Men's Shelter                        </td><td> 10                                                 </td></tr>\n",
       "\t<tr><td>Emergency                                           </td><td>ON                                                  </td><td>East Gwillimbury                                    </td><td>Youth                                               </td><td>Male                                                </td><td>York Region Youth Shelter                           </td><td> 10                                                 </td></tr>\n",
       "\t<tr><td>Emergency                                           </td><td>ON                                                  </td><td>Guelph                                              </td><td>General                                             </td><td>Male                                                </td><td>The Stepping Stone                                  </td><td> 18                                                 </td></tr>\n",
       "\t<tr><td>Emergency                                           </td><td>ON                                                  </td><td>Hamilton                                            </td><td>General                                             </td><td>Male                                                </td><td>Men's Centre                                        </td><td> 60                                                 </td></tr>\n",
       "\t<tr><td>Emergency                                           </td><td>ON                                                  </td><td>Hamilton                                            </td><td>General                                             </td><td>Male                                                </td><td>Men's Residence                                     </td><td> 58                                                 </td></tr>\n",
       "\t<tr><td>Emergency                                           </td><td>ON                                                  </td><td>Hamilton                                            </td><td>General                                             </td><td>Male                                                </td><td>Hamilton Booth Centre                               </td><td> 97                                                 </td></tr>\n",
       "\t<tr><td>Emergency                                           </td><td>ON                                                  </td><td>Huntsville                                          </td><td>General                                             </td><td>Male                                                </td><td>The Table Men's Shelter                             </td><td>  8                                                 </td></tr>\n",
       "\t<tr><td>...</td><td>...</td><td>...</td><td>...</td><td>...</td><td>...</td><td>...</td></tr>\n",
       "\t<tr><td>Emergency                                             </td><td>ON                                                    </td><td>Toronto                                               </td><td>General                                               </td><td>Male                                                  </td><td>Good Shepherd Centre                                  </td><td> 66                                                   </td></tr>\n",
       "\t<tr><td>Emergency                                             </td><td>ON                                                    </td><td>Toronto                                               </td><td>General                                               </td><td>Male                                                  </td><td>Maxwell Meighen Centre Refuge d'urgence               </td><td>250                                                   </td></tr>\n",
       "\t<tr><td>Emergency                                             </td><td>ON                                                    </td><td>Toronto                                               </td><td>General                                               </td><td>Male                                                  </td><td>Na-Me-Res (Native Men's Residence)                    </td><td> 63                                                   </td></tr>\n",
       "\t<tr><td>Emergency                                             </td><td>ON                                                    </td><td>Toronto                                               </td><td>General                                               </td><td>Male                                                  </td><td>Scott Mission                                         </td><td> 45                                                   </td></tr>\n",
       "\t<tr><td>Emergency                                             </td><td>ON                                                    </td><td>Toronto                                               </td><td>General                                               </td><td>Male                                                  </td><td>Seaton House - Annex Program                          </td><td>140                                                   </td></tr>\n",
       "\t<tr><td>Emergency                                             </td><td>ON                                                    </td><td>Toronto                                               </td><td>General                                               </td><td>Male                                                  </td><td>Seaton House - Main Site                              </td><td>240                                                   </td></tr>\n",
       "\t<tr><td>Emergency                                             </td><td>ON                                                    </td><td>Toronto                                               </td><td>General                                               </td><td>Male                                                  </td><td>St. Simon's Shelter                                   </td><td> 57                                                   </td></tr>\n",
       "\t<tr><td>Emergency                                             </td><td>ON                                                    </td><td>Toronto                                               </td><td>Youth                                                 </td><td>Male                                                  </td><td>Toronto Queen Street West YMCA Centre                 </td><td> 40                                                   </td></tr>\n",
       "\t<tr><td>Emergency                                             </td><td>ON                                                    </td><td>Toronto                                               </td><td>Youth                                                 </td><td>Male                                                  </td><td>Turning Point Youth Services Refuge d'urgence         </td><td> 35                                                   </td></tr>\n",
       "\t<tr><td>Emergency                                             </td><td>ON                                                    </td><td>Windsor                                               </td><td>General                                               </td><td>Male                                                  </td><td>Windsor Community and Rehabilitation Centre           </td><td> 56                                                   </td></tr>\n",
       "\t<tr><td>Emergency                                             </td><td>ON                                                    </td><td>Windsor                                               </td><td>Youth                                                 </td><td>Male                                                  </td><td>Windsor Residence for Young Men                       </td><td> 10                                                   </td></tr>\n",
       "\t<tr><td>Emergency                                             </td><td>PI                                                    </td><td>Charlottetown                                         </td><td>General                                               </td><td>Male                                                  </td><td>Bedford MacDonald                                     </td><td>  7                                                   </td></tr>\n",
       "\t<tr><td>Emergency                                             </td><td>QC                                                    </td><td>Baie-Comeau                                           </td><td>General                                               </td><td>Male                                                  </td><td>Point de Rencontre                                    </td><td> 17                                                   </td></tr>\n",
       "\t<tr><td>Emergency                                             </td><td>QC                                                    </td><td>Granby                                                </td><td>Youth                                                 </td><td>Male                                                  </td><td>Auberge Sous Mon Toit                                 </td><td> 20                                                   </td></tr>\n",
       "\t<tr><td>Emergency                                             </td><td>QC                                                    </td><td>Longueuil                                             </td><td>General                                               </td><td>Male                                                  </td><td>La Casa Bernard-Hubert                                </td><td> 20                                                   </td></tr>\n",
       "\t<tr><td>Emergency                                             </td><td>QC                                                    </td><td>Montreal                                              </td><td>General                                               </td><td>Male                                                  </td><td>Bon Accueil (Mission des Hommes) - Refuge d'urgence   </td><td>187                                                   </td></tr>\n",
       "\t<tr><td>Emergency                                                                                           </td><td>QC                                                                                                  </td><td><span style=white-space:pre-wrap>Montreal     </span>                                               </td><td>General                                                                                             </td><td>Male                                                                                                </td><td><span style=white-space:pre-wrap>Maison du P&lt;e8&gt;re - Refuge                            </span></td><td>170                                                                                                 </td></tr>\n",
       "\t<tr><td>Emergency                                             </td><td>QC                                                    </td><td>Montreal                                              </td><td>General                                               </td><td>Male                                                  </td><td>OBM - Webster ACCUEIL                                 </td><td> 36                                                   </td></tr>\n",
       "\t<tr><td>Emergency                                             </td><td>QC                                                    </td><td>Montreal                                              </td><td>General                                               </td><td>Male                                                  </td><td>OBM - Webster Refuge                                  </td><td>212                                                   </td></tr>\n",
       "\t<tr><td>Emergency                                                                                           </td><td>QC                                                                                                  </td><td><span style=white-space:pre-wrap>Montreal     </span>                                               </td><td>General                                                                                             </td><td>Male                                                                                                </td><td><span style=white-space:pre-wrap>Le Centre Booth de l'Arm&lt;e9&gt;e du Salut                </span></td><td>207                                                                                                 </td></tr>\n",
       "\t<tr><td>Emergency                                             </td><td>QC                                                    </td><td>Montreal                                              </td><td>Youth                                                 </td><td>Male                                                  </td><td>Auberge du coeur Le Tournant                          </td><td> 10                                                   </td></tr>\n",
       "\t<tr><td>Emergency                                                                                           </td><td>QC                                                                                                  </td><td><span style=white-space:pre-wrap>Montreal     </span>                                               </td><td><span style=white-space:pre-wrap>Youth  </span>                                                     </td><td>Male                                                                                                </td><td><span style=white-space:pre-wrap>Refuge des jeunes de Montr&lt;e9&gt;al                      </span></td><td> 45                                                                                                 </td></tr>\n",
       "\t<tr><td>Emergency                                                                                           </td><td>QC                                                                                                  </td><td><span style=white-space:pre-wrap>Quebec City  </span>                                               </td><td>General                                                                                             </td><td>Male                                                                                                </td><td><span style=white-space:pre-wrap>Maison de Lauberivi&lt;e8&gt;re (Hommes)                    </span></td><td> 39                                                                                                 </td></tr>\n",
       "\t<tr><td>Emergency                                                                                                 </td><td>QC                                                                                                        </td><td><span style=white-space:pre-wrap>Quebec City  </span>                                                     </td><td><span style=white-space:pre-wrap>Youth  </span>                                                           </td><td>Male                                                                                                      </td><td><span style=white-space:pre-wrap>G&lt;ee&gt;te Jeunesse (R&lt;e9&gt;sidence Sainte-Foy)            </span></td><td><span style=white-space:pre-wrap>  5</span>                                                               </td></tr>\n",
       "\t<tr><td>Emergency                                             </td><td>QC                                                    </td><td>Saguenay                                              </td><td>General                                               </td><td>Male                                                  </td><td>Pavillon Lafontaine - Chicoutimi                      </td><td>  3                                                   </td></tr>\n",
       "\t<tr><td>Emergency                                             </td><td>SK                                                    </td><td>Regina                                                </td><td>General                                               </td><td>Male                                                  </td><td>SHRM Men's Refuge d'urgence Shelter                   </td><td> 12                                                   </td></tr>\n",
       "\t<tr><td>Emergency                                             </td><td>SK                                                    </td><td>Regina                                                </td><td>General                                               </td><td>Male                                                  </td><td>Waterston Centre - Refuge d'urgence Shelter           </td><td> 52                                                   </td></tr>\n",
       "\t<tr><td>Emergency                                             </td><td>SK                                                    </td><td>Saskatoon                                             </td><td>General                                               </td><td>Male                                                  </td><td>Lighthouse Supported Living Inc Refuge d'urgence - Men</td><td> 17                                                   </td></tr>\n",
       "\t<tr><td>Emergency                                             </td><td>SK                                                    </td><td>Saskatoon                                             </td><td>General                                               </td><td>Male                                                  </td><td>SCC Men's Hostel - Noah's Ark                         </td><td> 35                                                   </td></tr>\n",
       "\t<tr><td>Emergency                                             </td><td>SK                                                    </td><td>Saskatoon                                             </td><td>Youth                                                 </td><td>Male                                                  </td><td>SCC Youth                                             </td><td>  2                                                   </td></tr>\n",
       "</tbody>\n",
       "</table>\n"
      ],
      "text/latex": [
       "\\begin{tabular}{r|lllllll}\n",
       " ShelterType & Province & City & TargetPopulation & Gender & ShelterName & Beds\\\\\n",
       "\\hline\n",
       "\t Emergency                                            & AB                                                   & Calgary                                              & General                                              & Male                                                 & The Salvation Army - Centre Of Hope Refuge d'urgence &  80                                                 \\\\\n",
       "\t Emergency                                            & AB                                                   & Edmonton                                             & General                                              & Male                                                 & Hope Mission - Herb Jamieson Centre                  & 249                                                 \\\\\n",
       "\t Emergency                                            & AB                                                   & Lloydminster                                         & General                                              & Male                                                 & Lloydminster Men's Shelter                           &  28                                                 \\\\\n",
       "\t Emergency                                            & AB                                                   & Wood Buffalo                                         & General                                              & Male                                                 & Fort McMurray Community and Family Services Shelter  &  32                                                 \\\\\n",
       "\t Emergency                                            & BC                                                   & Nanaimo                                              & General                                              & Male                                                 & Nanaimo - New Hope Centre Refuge d'urgence           &  23                                                 \\\\\n",
       "\t Emergency                                            & BC                                                   & New Westminster                                      & General                                              & Male                                                 & Lookout - New Westminster                            &  15                                                 \\\\\n",
       "\t Emergency                                            & BC                                                   & New Westminster                                      & General                                              & Male                                                 & Stevenson House                                      &  10                                                 \\\\\n",
       "\t Emergency                                            & BC                                                   & Prince George                                        & General                                              & Male                                                 & Ketso Yoh Men's Hostel                               &  21                                                 \\\\\n",
       "\t Emergency                                            & BC                                                   & Richmond                                             & General                                              & Male                                                 & Richmond House Refuge d'urgence Shelter              &  10                                                 \\\\\n",
       "\t Emergency                                            & BC                                                   & Vancouver                                            & General                                              & Male                                                 & Belkin House - Refuge d'urgence Men                  &  54                                                 \\\\\n",
       "\t Emergency                                            & BC                                                   & Vancouver                                            & General                                              & Male                                                 & Catholic Charities Men's Hostel                      & 102                                                 \\\\\n",
       "\t Emergency                                            & BC                                                   & Vancouver                                            & General                                              & Male                                                 & Harbour Light - The Beacon                           &  60                                                 \\\\\n",
       "\t Emergency                                            & BC                                                   & Vancouver                                            & General                                              & Male                                                 & Harbour Light - The Haven                            &  40                                                 \\\\\n",
       "\t Emergency                                            & BC                                                   & Victoria                                             & General                                              & Male                                                 & Victoria Addictions and Rehabilitation Centre        &  21                                                 \\\\\n",
       "\t Emergency                                            & NB                                                   & Fredericton                                          & General                                              & Male                                                 & Fredericton Homeless Shelter for Men                 &  25                                                 \\\\\n",
       "\t Emergency                                            & NB                                                   & Saint John                                           & General                                              & Male                                                 & Outflow Men's Shelter                                &  20                                                 \\\\\n",
       "\t Emergency                                            & NL                                                   & St. John's                                           & Youth                                                & Male                                                 & Choices For Youth Shelter                            &   9                                                 \\\\\n",
       "\t Emergency                                            & NS                                                   & Halifax                                              & General                                              & Male                                                 & Metro Turning Point Centre                           &  80                                                 \\\\\n",
       "\t Emergency                                            & NS                                                   & Halifax                                              & General                                              & Male                                                 & The Salvation Army - Halifax Booth Centre            &  40                                                 \\\\\n",
       "\t Emergency                                            & ON                                                   & Barrie                                               & General                                              & Male                                                 & Barrie Bayside Mission                               &  20                                                 \\\\\n",
       "\t Emergency                                            & ON                                                   & Brampton                                             & General                                              & Male                                                 & Wilkinson Road Shelter                               &  60                                                 \\\\\n",
       "\t Emergency                                            & ON                                                   & Brantford                                            & General                                              & Male                                                 & Brantford Booth Centre Hostel                        &  38                                                 \\\\\n",
       "\t Emergency                                            & ON                                                   & Cambridge                                            & Youth                                                & Male                                                 & Argus Residence for Young Men                        &  10                                                 \\\\\n",
       "\t Emergency                                            & ON                                                   & Cochrane                                             & General                                              & Male                                                 & Ga Beh Shoo In Men's Shelter                         &  10                                                 \\\\\n",
       "\t Emergency                                            & ON                                                   & East Gwillimbury                                     & Youth                                                & Male                                                 & York Region Youth Shelter                            &  10                                                 \\\\\n",
       "\t Emergency                                            & ON                                                   & Guelph                                               & General                                              & Male                                                 & The Stepping Stone                                   &  18                                                 \\\\\n",
       "\t Emergency                                            & ON                                                   & Hamilton                                             & General                                              & Male                                                 & Men's Centre                                         &  60                                                 \\\\\n",
       "\t Emergency                                            & ON                                                   & Hamilton                                             & General                                              & Male                                                 & Men's Residence                                      &  58                                                 \\\\\n",
       "\t Emergency                                            & ON                                                   & Hamilton                                             & General                                              & Male                                                 & Hamilton Booth Centre                                &  97                                                 \\\\\n",
       "\t Emergency                                            & ON                                                   & Huntsville                                           & General                                              & Male                                                 & The Table Men's Shelter                              &   8                                                 \\\\\n",
       "\t ... & ... & ... & ... & ... & ... & ...\\\\\n",
       "\t Emergency                                              & ON                                                     & Toronto                                                & General                                                & Male                                                   & Good Shepherd Centre                                   &  66                                                   \\\\\n",
       "\t Emergency                                              & ON                                                     & Toronto                                                & General                                                & Male                                                   & Maxwell Meighen Centre Refuge d'urgence                & 250                                                   \\\\\n",
       "\t Emergency                                              & ON                                                     & Toronto                                                & General                                                & Male                                                   & Na-Me-Res (Native Men's Residence)                     &  63                                                   \\\\\n",
       "\t Emergency                                              & ON                                                     & Toronto                                                & General                                                & Male                                                   & Scott Mission                                          &  45                                                   \\\\\n",
       "\t Emergency                                              & ON                                                     & Toronto                                                & General                                                & Male                                                   & Seaton House - Annex Program                           & 140                                                   \\\\\n",
       "\t Emergency                                              & ON                                                     & Toronto                                                & General                                                & Male                                                   & Seaton House - Main Site                               & 240                                                   \\\\\n",
       "\t Emergency                                              & ON                                                     & Toronto                                                & General                                                & Male                                                   & St. Simon's Shelter                                    &  57                                                   \\\\\n",
       "\t Emergency                                              & ON                                                     & Toronto                                                & Youth                                                  & Male                                                   & Toronto Queen Street West YMCA Centre                  &  40                                                   \\\\\n",
       "\t Emergency                                              & ON                                                     & Toronto                                                & Youth                                                  & Male                                                   & Turning Point Youth Services Refuge d'urgence          &  35                                                   \\\\\n",
       "\t Emergency                                              & ON                                                     & Windsor                                                & General                                                & Male                                                   & Windsor Community and Rehabilitation Centre            &  56                                                   \\\\\n",
       "\t Emergency                                              & ON                                                     & Windsor                                                & Youth                                                  & Male                                                   & Windsor Residence for Young Men                        &  10                                                   \\\\\n",
       "\t Emergency                                              & PI                                                     & Charlottetown                                          & General                                                & Male                                                   & Bedford MacDonald                                      &   7                                                   \\\\\n",
       "\t Emergency                                              & QC                                                     & Baie-Comeau                                            & General                                                & Male                                                   & Point de Rencontre                                     &  17                                                   \\\\\n",
       "\t Emergency                                              & QC                                                     & Granby                                                 & Youth                                                  & Male                                                   & Auberge Sous Mon Toit                                  &  20                                                   \\\\\n",
       "\t Emergency                                              & QC                                                     & Longueuil                                              & General                                                & Male                                                   & La Casa Bernard-Hubert                                 &  20                                                   \\\\\n",
       "\t Emergency                                              & QC                                                     & Montreal                                               & General                                                & Male                                                   & Bon Accueil (Mission des Hommes) - Refuge d'urgence    & 187                                                   \\\\\n",
       "\t Emergency                                              & QC                                                     & Montreal                                               & General                                                & Male                                                   & Maison du P<e8>re - Refuge                             & 170                                                   \\\\\n",
       "\t Emergency                                              & QC                                                     & Montreal                                               & General                                                & Male                                                   & OBM - Webster ACCUEIL                                  &  36                                                   \\\\\n",
       "\t Emergency                                              & QC                                                     & Montreal                                               & General                                                & Male                                                   & OBM - Webster Refuge                                   & 212                                                   \\\\\n",
       "\t Emergency                                              & QC                                                     & Montreal                                               & General                                                & Male                                                   & Le Centre Booth de l'Arm<e9>e du Salut                 & 207                                                   \\\\\n",
       "\t Emergency                                              & QC                                                     & Montreal                                               & Youth                                                  & Male                                                   & Auberge du coeur Le Tournant                           &  10                                                   \\\\\n",
       "\t Emergency                                              & QC                                                     & Montreal                                               & Youth                                                  & Male                                                   & Refuge des jeunes de Montr<e9>al                       &  45                                                   \\\\\n",
       "\t Emergency                                              & QC                                                     & Quebec City                                            & General                                                & Male                                                   & Maison de Lauberivi<e8>re (Hommes)                     &  39                                                   \\\\\n",
       "\t Emergency                                              & QC                                                     & Quebec City                                            & Youth                                                  & Male                                                   & G<ee>te Jeunesse (R<e9>sidence Sainte-Foy)             &   5                                                   \\\\\n",
       "\t Emergency                                              & QC                                                     & Saguenay                                               & General                                                & Male                                                   & Pavillon Lafontaine - Chicoutimi                       &   3                                                   \\\\\n",
       "\t Emergency                                              & SK                                                     & Regina                                                 & General                                                & Male                                                   & SHRM Men's Refuge d'urgence Shelter                    &  12                                                   \\\\\n",
       "\t Emergency                                              & SK                                                     & Regina                                                 & General                                                & Male                                                   & Waterston Centre - Refuge d'urgence Shelter            &  52                                                   \\\\\n",
       "\t Emergency                                              & SK                                                     & Saskatoon                                              & General                                                & Male                                                   & Lighthouse Supported Living Inc Refuge d'urgence - Men &  17                                                   \\\\\n",
       "\t Emergency                                              & SK                                                     & Saskatoon                                              & General                                                & Male                                                   & SCC Men's Hostel - Noah's Ark                          &  35                                                   \\\\\n",
       "\t Emergency                                              & SK                                                     & Saskatoon                                              & Youth                                                  & Male                                                   & SCC Youth                                              &   2                                                   \\\\\n",
       "\\end{tabular}\n"
      ],
      "text/markdown": [
       "\n",
       "ShelterType | Province | City | TargetPopulation | Gender | ShelterName | Beds | \n",
       "|---|---|---|---|---|---|---|---|---|---|---|---|---|---|---|---|---|---|---|---|---|---|---|---|---|---|---|---|---|---|---|---|---|---|---|---|---|---|---|---|---|---|---|---|---|---|---|---|---|---|---|---|---|---|---|---|---|---|---|---|---|\n",
       "| Emergency                                            | AB                                                   | Calgary                                              | General                                              | Male                                                 | The Salvation Army - Centre Of Hope Refuge d'urgence |  80                                                  | \n",
       "| Emergency                                            | AB                                                   | Edmonton                                             | General                                              | Male                                                 | Hope Mission - Herb Jamieson Centre                  | 249                                                  | \n",
       "| Emergency                                            | AB                                                   | Lloydminster                                         | General                                              | Male                                                 | Lloydminster Men's Shelter                           |  28                                                  | \n",
       "| Emergency                                            | AB                                                   | Wood Buffalo                                         | General                                              | Male                                                 | Fort McMurray Community and Family Services Shelter  |  32                                                  | \n",
       "| Emergency                                            | BC                                                   | Nanaimo                                              | General                                              | Male                                                 | Nanaimo - New Hope Centre Refuge d'urgence           |  23                                                  | \n",
       "| Emergency                                            | BC                                                   | New Westminster                                      | General                                              | Male                                                 | Lookout - New Westminster                            |  15                                                  | \n",
       "| Emergency                                            | BC                                                   | New Westminster                                      | General                                              | Male                                                 | Stevenson House                                      |  10                                                  | \n",
       "| Emergency                                            | BC                                                   | Prince George                                        | General                                              | Male                                                 | Ketso Yoh Men's Hostel                               |  21                                                  | \n",
       "| Emergency                                            | BC                                                   | Richmond                                             | General                                              | Male                                                 | Richmond House Refuge d'urgence Shelter              |  10                                                  | \n",
       "| Emergency                                            | BC                                                   | Vancouver                                            | General                                              | Male                                                 | Belkin House - Refuge d'urgence Men                  |  54                                                  | \n",
       "| Emergency                                            | BC                                                   | Vancouver                                            | General                                              | Male                                                 | Catholic Charities Men's Hostel                      | 102                                                  | \n",
       "| Emergency                                            | BC                                                   | Vancouver                                            | General                                              | Male                                                 | Harbour Light - The Beacon                           |  60                                                  | \n",
       "| Emergency                                            | BC                                                   | Vancouver                                            | General                                              | Male                                                 | Harbour Light - The Haven                            |  40                                                  | \n",
       "| Emergency                                            | BC                                                   | Victoria                                             | General                                              | Male                                                 | Victoria Addictions and Rehabilitation Centre        |  21                                                  | \n",
       "| Emergency                                            | NB                                                   | Fredericton                                          | General                                              | Male                                                 | Fredericton Homeless Shelter for Men                 |  25                                                  | \n",
       "| Emergency                                            | NB                                                   | Saint John                                           | General                                              | Male                                                 | Outflow Men's Shelter                                |  20                                                  | \n",
       "| Emergency                                            | NL                                                   | St. John's                                           | Youth                                                | Male                                                 | Choices For Youth Shelter                            |   9                                                  | \n",
       "| Emergency                                            | NS                                                   | Halifax                                              | General                                              | Male                                                 | Metro Turning Point Centre                           |  80                                                  | \n",
       "| Emergency                                            | NS                                                   | Halifax                                              | General                                              | Male                                                 | The Salvation Army - Halifax Booth Centre            |  40                                                  | \n",
       "| Emergency                                            | ON                                                   | Barrie                                               | General                                              | Male                                                 | Barrie Bayside Mission                               |  20                                                  | \n",
       "| Emergency                                            | ON                                                   | Brampton                                             | General                                              | Male                                                 | Wilkinson Road Shelter                               |  60                                                  | \n",
       "| Emergency                                            | ON                                                   | Brantford                                            | General                                              | Male                                                 | Brantford Booth Centre Hostel                        |  38                                                  | \n",
       "| Emergency                                            | ON                                                   | Cambridge                                            | Youth                                                | Male                                                 | Argus Residence for Young Men                        |  10                                                  | \n",
       "| Emergency                                            | ON                                                   | Cochrane                                             | General                                              | Male                                                 | Ga Beh Shoo In Men's Shelter                         |  10                                                  | \n",
       "| Emergency                                            | ON                                                   | East Gwillimbury                                     | Youth                                                | Male                                                 | York Region Youth Shelter                            |  10                                                  | \n",
       "| Emergency                                            | ON                                                   | Guelph                                               | General                                              | Male                                                 | The Stepping Stone                                   |  18                                                  | \n",
       "| Emergency                                            | ON                                                   | Hamilton                                             | General                                              | Male                                                 | Men's Centre                                         |  60                                                  | \n",
       "| Emergency                                            | ON                                                   | Hamilton                                             | General                                              | Male                                                 | Men's Residence                                      |  58                                                  | \n",
       "| Emergency                                            | ON                                                   | Hamilton                                             | General                                              | Male                                                 | Hamilton Booth Centre                                |  97                                                  | \n",
       "| Emergency                                            | ON                                                   | Huntsville                                           | General                                              | Male                                                 | The Table Men's Shelter                              |   8                                                  | \n",
       "| ... | ... | ... | ... | ... | ... | ... | \n",
       "| Emergency                                              | ON                                                     | Toronto                                                | General                                                | Male                                                   | Good Shepherd Centre                                   |  66                                                    | \n",
       "| Emergency                                              | ON                                                     | Toronto                                                | General                                                | Male                                                   | Maxwell Meighen Centre Refuge d'urgence                | 250                                                    | \n",
       "| Emergency                                              | ON                                                     | Toronto                                                | General                                                | Male                                                   | Na-Me-Res (Native Men's Residence)                     |  63                                                    | \n",
       "| Emergency                                              | ON                                                     | Toronto                                                | General                                                | Male                                                   | Scott Mission                                          |  45                                                    | \n",
       "| Emergency                                              | ON                                                     | Toronto                                                | General                                                | Male                                                   | Seaton House - Annex Program                           | 140                                                    | \n",
       "| Emergency                                              | ON                                                     | Toronto                                                | General                                                | Male                                                   | Seaton House - Main Site                               | 240                                                    | \n",
       "| Emergency                                              | ON                                                     | Toronto                                                | General                                                | Male                                                   | St. Simon's Shelter                                    |  57                                                    | \n",
       "| Emergency                                              | ON                                                     | Toronto                                                | Youth                                                  | Male                                                   | Toronto Queen Street West YMCA Centre                  |  40                                                    | \n",
       "| Emergency                                              | ON                                                     | Toronto                                                | Youth                                                  | Male                                                   | Turning Point Youth Services Refuge d'urgence          |  35                                                    | \n",
       "| Emergency                                              | ON                                                     | Windsor                                                | General                                                | Male                                                   | Windsor Community and Rehabilitation Centre            |  56                                                    | \n",
       "| Emergency                                              | ON                                                     | Windsor                                                | Youth                                                  | Male                                                   | Windsor Residence for Young Men                        |  10                                                    | \n",
       "| Emergency                                              | PI                                                     | Charlottetown                                          | General                                                | Male                                                   | Bedford MacDonald                                      |   7                                                    | \n",
       "| Emergency                                              | QC                                                     | Baie-Comeau                                            | General                                                | Male                                                   | Point de Rencontre                                     |  17                                                    | \n",
       "| Emergency                                              | QC                                                     | Granby                                                 | Youth                                                  | Male                                                   | Auberge Sous Mon Toit                                  |  20                                                    | \n",
       "| Emergency                                              | QC                                                     | Longueuil                                              | General                                                | Male                                                   | La Casa Bernard-Hubert                                 |  20                                                    | \n",
       "| Emergency                                              | QC                                                     | Montreal                                               | General                                                | Male                                                   | Bon Accueil (Mission des Hommes) - Refuge d'urgence    | 187                                                    | \n",
       "| Emergency                                              | QC                                                     | Montreal                                               | General                                                | Male                                                   | Maison du P<e8>re - Refuge                             | 170                                                    | \n",
       "| Emergency                                              | QC                                                     | Montreal                                               | General                                                | Male                                                   | OBM - Webster ACCUEIL                                  |  36                                                    | \n",
       "| Emergency                                              | QC                                                     | Montreal                                               | General                                                | Male                                                   | OBM - Webster Refuge                                   | 212                                                    | \n",
       "| Emergency                                              | QC                                                     | Montreal                                               | General                                                | Male                                                   | Le Centre Booth de l'Arm<e9>e du Salut                 | 207                                                    | \n",
       "| Emergency                                              | QC                                                     | Montreal                                               | Youth                                                  | Male                                                   | Auberge du coeur Le Tournant                           |  10                                                    | \n",
       "| Emergency                                              | QC                                                     | Montreal                                               | Youth                                                  | Male                                                   | Refuge des jeunes de Montr<e9>al                       |  45                                                    | \n",
       "| Emergency                                              | QC                                                     | Quebec City                                            | General                                                | Male                                                   | Maison de Lauberivi<e8>re (Hommes)                     |  39                                                    | \n",
       "| Emergency                                              | QC                                                     | Quebec City                                            | Youth                                                  | Male                                                   | G<ee>te Jeunesse (R<e9>sidence Sainte-Foy)             |   5                                                    | \n",
       "| Emergency                                              | QC                                                     | Saguenay                                               | General                                                | Male                                                   | Pavillon Lafontaine - Chicoutimi                       |   3                                                    | \n",
       "| Emergency                                              | SK                                                     | Regina                                                 | General                                                | Male                                                   | SHRM Men's Refuge d'urgence Shelter                    |  12                                                    | \n",
       "| Emergency                                              | SK                                                     | Regina                                                 | General                                                | Male                                                   | Waterston Centre - Refuge d'urgence Shelter            |  52                                                    | \n",
       "| Emergency                                              | SK                                                     | Saskatoon                                              | General                                                | Male                                                   | Lighthouse Supported Living Inc Refuge d'urgence - Men |  17                                                    | \n",
       "| Emergency                                              | SK                                                     | Saskatoon                                              | General                                                | Male                                                   | SCC Men's Hostel - Noah's Ark                          |  35                                                    | \n",
       "| Emergency                                              | SK                                                     | Saskatoon                                              | Youth                                                  | Male                                                   | SCC Youth                                              |   2                                                    | \n",
       "\n",
       "\n"
      ],
      "text/plain": [
       "    ShelterType Province City             TargetPopulation Gender\n",
       "1   Emergency   AB       Calgary          General          Male  \n",
       "2   Emergency   AB       Edmonton         General          Male  \n",
       "3   Emergency   AB       Lloydminster     General          Male  \n",
       "4   Emergency   AB       Wood Buffalo     General          Male  \n",
       "5   Emergency   BC       Nanaimo          General          Male  \n",
       "6   Emergency   BC       New Westminster  General          Male  \n",
       "7   Emergency   BC       New Westminster  General          Male  \n",
       "8   Emergency   BC       Prince George    General          Male  \n",
       "9   Emergency   BC       Richmond         General          Male  \n",
       "10  Emergency   BC       Vancouver        General          Male  \n",
       "11  Emergency   BC       Vancouver        General          Male  \n",
       "12  Emergency   BC       Vancouver        General          Male  \n",
       "13  Emergency   BC       Vancouver        General          Male  \n",
       "14  Emergency   BC       Victoria         General          Male  \n",
       "15  Emergency   NB       Fredericton      General          Male  \n",
       "16  Emergency   NB       Saint John       General          Male  \n",
       "17  Emergency   NL       St. John's       Youth            Male  \n",
       "18  Emergency   NS       Halifax          General          Male  \n",
       "19  Emergency   NS       Halifax          General          Male  \n",
       "20  Emergency   ON       Barrie           General          Male  \n",
       "21  Emergency   ON       Brampton         General          Male  \n",
       "22  Emergency   ON       Brantford        General          Male  \n",
       "23  Emergency   ON       Cambridge        Youth            Male  \n",
       "24  Emergency   ON       Cochrane         General          Male  \n",
       "25  Emergency   ON       East Gwillimbury Youth            Male  \n",
       "26  Emergency   ON       Guelph           General          Male  \n",
       "27  Emergency   ON       Hamilton         General          Male  \n",
       "28  Emergency   ON       Hamilton         General          Male  \n",
       "29  Emergency   ON       Hamilton         General          Male  \n",
       "30  Emergency   ON       Huntsville       General          Male  \n",
       "... ...         ...      ...              ...              ...   \n",
       "52  Emergency   ON       Toronto          General          Male  \n",
       "53  Emergency   ON       Toronto          General          Male  \n",
       "54  Emergency   ON       Toronto          General          Male  \n",
       "55  Emergency   ON       Toronto          General          Male  \n",
       "56  Emergency   ON       Toronto          General          Male  \n",
       "57  Emergency   ON       Toronto          General          Male  \n",
       "58  Emergency   ON       Toronto          General          Male  \n",
       "59  Emergency   ON       Toronto          Youth            Male  \n",
       "60  Emergency   ON       Toronto          Youth            Male  \n",
       "61  Emergency   ON       Windsor          General          Male  \n",
       "62  Emergency   ON       Windsor          Youth            Male  \n",
       "63  Emergency   PI       Charlottetown    General          Male  \n",
       "64  Emergency   QC       Baie-Comeau      General          Male  \n",
       "65  Emergency   QC       Granby           Youth            Male  \n",
       "66  Emergency   QC       Longueuil        General          Male  \n",
       "67  Emergency   QC       Montreal         General          Male  \n",
       "68  Emergency   QC       Montreal         General          Male  \n",
       "69  Emergency   QC       Montreal         General          Male  \n",
       "70  Emergency   QC       Montreal         General          Male  \n",
       "71  Emergency   QC       Montreal         General          Male  \n",
       "72  Emergency   QC       Montreal         Youth            Male  \n",
       "73  Emergency   QC       Montreal         Youth            Male  \n",
       "74  Emergency   QC       Quebec City      General          Male  \n",
       "75  Emergency   QC       Quebec City      Youth            Male  \n",
       "76  Emergency   QC       Saguenay         General          Male  \n",
       "77  Emergency   SK       Regina           General          Male  \n",
       "78  Emergency   SK       Regina           General          Male  \n",
       "79  Emergency   SK       Saskatoon        General          Male  \n",
       "80  Emergency   SK       Saskatoon        General          Male  \n",
       "81  Emergency   SK       Saskatoon        Youth            Male  \n",
       "    ShelterName                                            Beds\n",
       "1   The Salvation Army - Centre Of Hope Refuge d'urgence    80 \n",
       "2   Hope Mission - Herb Jamieson Centre                    249 \n",
       "3   Lloydminster Men's Shelter                              28 \n",
       "4   Fort McMurray Community and Family Services Shelter     32 \n",
       "5   Nanaimo - New Hope Centre Refuge d'urgence              23 \n",
       "6   Lookout - New Westminster                               15 \n",
       "7   Stevenson House                                         10 \n",
       "8   Ketso Yoh Men's Hostel                                  21 \n",
       "9   Richmond House Refuge d'urgence Shelter                 10 \n",
       "10  Belkin House - Refuge d'urgence Men                     54 \n",
       "11  Catholic Charities Men's Hostel                        102 \n",
       "12  Harbour Light - The Beacon                              60 \n",
       "13  Harbour Light - The Haven                               40 \n",
       "14  Victoria Addictions and Rehabilitation Centre           21 \n",
       "15  Fredericton Homeless Shelter for Men                    25 \n",
       "16  Outflow Men's Shelter                                   20 \n",
       "17  Choices For Youth Shelter                                9 \n",
       "18  Metro Turning Point Centre                              80 \n",
       "19  The Salvation Army - Halifax Booth Centre               40 \n",
       "20  Barrie Bayside Mission                                  20 \n",
       "21  Wilkinson Road Shelter                                  60 \n",
       "22  Brantford Booth Centre Hostel                           38 \n",
       "23  Argus Residence for Young Men                           10 \n",
       "24  Ga Beh Shoo In Men's Shelter                            10 \n",
       "25  York Region Youth Shelter                               10 \n",
       "26  The Stepping Stone                                      18 \n",
       "27  Men's Centre                                            60 \n",
       "28  Men's Residence                                         58 \n",
       "29  Hamilton Booth Centre                                   97 \n",
       "30  The Table Men's Shelter                                  8 \n",
       "... ...                                                    ... \n",
       "52  Good Shepherd Centre                                    66 \n",
       "53  Maxwell Meighen Centre Refuge d'urgence                250 \n",
       "54  Na-Me-Res (Native Men's Residence)                      63 \n",
       "55  Scott Mission                                           45 \n",
       "56  Seaton House - Annex Program                           140 \n",
       "57  Seaton House - Main Site                               240 \n",
       "58  St. Simon's Shelter                                     57 \n",
       "59  Toronto Queen Street West YMCA Centre                   40 \n",
       "60  Turning Point Youth Services Refuge d'urgence           35 \n",
       "61  Windsor Community and Rehabilitation Centre             56 \n",
       "62  Windsor Residence for Young Men                         10 \n",
       "63  Bedford MacDonald                                        7 \n",
       "64  Point de Rencontre                                      17 \n",
       "65  Auberge Sous Mon Toit                                   20 \n",
       "66  La Casa Bernard-Hubert                                  20 \n",
       "67  Bon Accueil (Mission des Hommes) - Refuge d'urgence    187 \n",
       "68  Maison du P<e8>re - Refuge                             170 \n",
       "69  OBM - Webster ACCUEIL                                   36 \n",
       "70  OBM - Webster Refuge                                   212 \n",
       "71  Le Centre Booth de l'Arm<e9>e du Salut                 207 \n",
       "72  Auberge du coeur Le Tournant                            10 \n",
       "73  Refuge des jeunes de Montr<e9>al                        45 \n",
       "74  Maison de Lauberivi<e8>re (Hommes)                      39 \n",
       "75  G<ee>te Jeunesse (R<e9>sidence Sainte-Foy)               5 \n",
       "76  Pavillon Lafontaine - Chicoutimi                         3 \n",
       "77  SHRM Men's Refuge d'urgence Shelter                     12 \n",
       "78  Waterston Centre - Refuge d'urgence Shelter             52 \n",
       "79  Lighthouse Supported Living Inc Refuge d'urgence - Men  17 \n",
       "80  SCC Men's Hostel - Noah's Ark                           35 \n",
       "81  SCC Youth                                                2 "
      ]
     },
     "metadata": {},
     "output_type": "display_data"
    }
   ],
   "source": [
    "glimpse(df)\n",
    "df"
   ]
  },
  {
   "cell_type": "code",
   "execution_count": 23,
   "metadata": {},
   "outputs": [
    {
     "data": {
      "text/html": [
       "<ol class=list-inline>\n",
       "\t<li>AB</li>\n",
       "\t<li>BC</li>\n",
       "\t<li>NB</li>\n",
       "\t<li>NL</li>\n",
       "\t<li>NS</li>\n",
       "\t<li>ON</li>\n",
       "\t<li>PI</li>\n",
       "\t<li>QC</li>\n",
       "\t<li>SK</li>\n",
       "</ol>\n"
      ],
      "text/latex": [
       "\\begin{enumerate*}\n",
       "\\item AB\n",
       "\\item BC\n",
       "\\item NB\n",
       "\\item NL\n",
       "\\item NS\n",
       "\\item ON\n",
       "\\item PI\n",
       "\\item QC\n",
       "\\item SK\n",
       "\\end{enumerate*}\n"
      ],
      "text/markdown": [
       "1. AB\n",
       "2. BC\n",
       "3. NB\n",
       "4. NL\n",
       "5. NS\n",
       "6. ON\n",
       "7. PI\n",
       "8. QC\n",
       "9. SK\n",
       "\n",
       "\n"
      ],
      "text/plain": [
       "[1] AB BC NB NL NS ON PI QC SK\n",
       "Levels: AB BC NB NL NS ON PI QC SK"
      ]
     },
     "metadata": {},
     "output_type": "display_data"
    }
   ],
   "source": [
    "unique(df$Province)"
   ]
  },
  {
   "cell_type": "code",
   "execution_count": 24,
   "metadata": {},
   "outputs": [
    {
     "name": "stdout",
     "output_type": "stream",
     "text": [
      "Observations: 81\n",
      "Variables: 7\n",
      "$ ShelterType      <fctr> Emergency, Emergency, Emergency, Emergency, Emerg...\n",
      "$ Province         <fctr> AB, AB, AB, AB, BC, BC, BC, BC, BC, BC, BC, BC, B...\n",
      "$ City             <fctr> Calgary, Edmonton, Lloydminster, Wood Buffalo, Na...\n",
      "$ TargetPopulation <fctr> General, General, General, General, General, Gene...\n",
      "$ Gender           <fctr> Male, Male, Male, Male, Male, Male, Male, Male, M...\n",
      "$ ShelterName      <chr> \"The Salvation Army - Centre Of Hope Refuge d'urge...\n",
      "$ Beds             <dbl> 80, 249, 28, 32, 23, 15, 10, 21, 10, 54, 102, 60, ...\n"
     ]
    },
    {
     "data": {
      "text/html": [
       "<table>\n",
       "<thead><tr><th scope=col>ShelterType</th><th scope=col>Province</th><th scope=col>City</th><th scope=col>TargetPopulation</th><th scope=col>Gender</th><th scope=col>ShelterName</th><th scope=col>Beds</th></tr></thead>\n",
       "<tbody>\n",
       "\t<tr><td>Emergency                                           </td><td>AB                                                  </td><td>Calgary                                             </td><td>General                                             </td><td>Male                                                </td><td>The Salvation Army - Centre Of Hope Refuge d'urgence</td><td> 80                                                 </td></tr>\n",
       "\t<tr><td>Emergency                                           </td><td>AB                                                  </td><td>Edmonton                                            </td><td>General                                             </td><td>Male                                                </td><td>Hope Mission - Herb Jamieson Centre                 </td><td>249                                                 </td></tr>\n",
       "\t<tr><td>Emergency                                           </td><td>AB                                                  </td><td>Lloydminster                                        </td><td>General                                             </td><td>Male                                                </td><td>Lloydminster Men's Shelter                          </td><td> 28                                                 </td></tr>\n",
       "\t<tr><td>Emergency                                           </td><td>AB                                                  </td><td>Wood Buffalo                                        </td><td>General                                             </td><td>Male                                                </td><td>Fort McMurray Community and Family Services Shelter </td><td> 32                                                 </td></tr>\n",
       "\t<tr><td>Emergency                                           </td><td>BC                                                  </td><td>Nanaimo                                             </td><td>General                                             </td><td>Male                                                </td><td>Nanaimo - New Hope Centre Refuge d'urgence          </td><td> 23                                                 </td></tr>\n",
       "\t<tr><td>Emergency                                           </td><td>BC                                                  </td><td>New Westminster                                     </td><td>General                                             </td><td>Male                                                </td><td>Lookout - New Westminster                           </td><td> 15                                                 </td></tr>\n",
       "</tbody>\n",
       "</table>\n"
      ],
      "text/latex": [
       "\\begin{tabular}{r|lllllll}\n",
       " ShelterType & Province & City & TargetPopulation & Gender & ShelterName & Beds\\\\\n",
       "\\hline\n",
       "\t Emergency                                            & AB                                                   & Calgary                                              & General                                              & Male                                                 & The Salvation Army - Centre Of Hope Refuge d'urgence &  80                                                 \\\\\n",
       "\t Emergency                                            & AB                                                   & Edmonton                                             & General                                              & Male                                                 & Hope Mission - Herb Jamieson Centre                  & 249                                                 \\\\\n",
       "\t Emergency                                            & AB                                                   & Lloydminster                                         & General                                              & Male                                                 & Lloydminster Men's Shelter                           &  28                                                 \\\\\n",
       "\t Emergency                                            & AB                                                   & Wood Buffalo                                         & General                                              & Male                                                 & Fort McMurray Community and Family Services Shelter  &  32                                                 \\\\\n",
       "\t Emergency                                            & BC                                                   & Nanaimo                                              & General                                              & Male                                                 & Nanaimo - New Hope Centre Refuge d'urgence           &  23                                                 \\\\\n",
       "\t Emergency                                            & BC                                                   & New Westminster                                      & General                                              & Male                                                 & Lookout - New Westminster                            &  15                                                 \\\\\n",
       "\\end{tabular}\n"
      ],
      "text/markdown": [
       "\n",
       "ShelterType | Province | City | TargetPopulation | Gender | ShelterName | Beds | \n",
       "|---|---|---|---|---|---|\n",
       "| Emergency                                            | AB                                                   | Calgary                                              | General                                              | Male                                                 | The Salvation Army - Centre Of Hope Refuge d'urgence |  80                                                  | \n",
       "| Emergency                                            | AB                                                   | Edmonton                                             | General                                              | Male                                                 | Hope Mission - Herb Jamieson Centre                  | 249                                                  | \n",
       "| Emergency                                            | AB                                                   | Lloydminster                                         | General                                              | Male                                                 | Lloydminster Men's Shelter                           |  28                                                  | \n",
       "| Emergency                                            | AB                                                   | Wood Buffalo                                         | General                                              | Male                                                 | Fort McMurray Community and Family Services Shelter  |  32                                                  | \n",
       "| Emergency                                            | BC                                                   | Nanaimo                                              | General                                              | Male                                                 | Nanaimo - New Hope Centre Refuge d'urgence           |  23                                                  | \n",
       "| Emergency                                            | BC                                                   | New Westminster                                      | General                                              | Male                                                 | Lookout - New Westminster                            |  15                                                  | \n",
       "\n",
       "\n"
      ],
      "text/plain": [
       "  ShelterType Province City            TargetPopulation Gender\n",
       "1 Emergency   AB       Calgary         General          Male  \n",
       "2 Emergency   AB       Edmonton        General          Male  \n",
       "3 Emergency   AB       Lloydminster    General          Male  \n",
       "4 Emergency   AB       Wood Buffalo    General          Male  \n",
       "5 Emergency   BC       Nanaimo         General          Male  \n",
       "6 Emergency   BC       New Westminster General          Male  \n",
       "  ShelterName                                          Beds\n",
       "1 The Salvation Army - Centre Of Hope Refuge d'urgence  80 \n",
       "2 Hope Mission - Herb Jamieson Centre                  249 \n",
       "3 Lloydminster Men's Shelter                            28 \n",
       "4 Fort McMurray Community and Family Services Shelter   32 \n",
       "5 Nanaimo - New Hope Centre Refuge d'urgence            23 \n",
       "6 Lookout - New Westminster                             15 "
      ]
     },
     "metadata": {},
     "output_type": "display_data"
    },
    {
     "data": {
      "text/html": [
       "<table>\n",
       "<thead><tr><th scope=col>ShelterType</th><th scope=col>Province</th><th scope=col>City</th><th scope=col>TargetPopulation</th><th scope=col>Gender</th><th scope=col>ShelterName</th><th scope=col>Beds</th></tr></thead>\n",
       "<tbody>\n",
       "\t<tr><td>Emergency                                             </td><td>QC                                                    </td><td>Saguenay                                              </td><td>General                                               </td><td>Male                                                  </td><td>Pavillon Lafontaine - Chicoutimi                      </td><td> 3                                                    </td></tr>\n",
       "\t<tr><td>Emergency                                             </td><td>SK                                                    </td><td>Regina                                                </td><td>General                                               </td><td>Male                                                  </td><td>SHRM Men's Refuge d'urgence Shelter                   </td><td>12                                                    </td></tr>\n",
       "\t<tr><td>Emergency                                             </td><td>SK                                                    </td><td>Regina                                                </td><td>General                                               </td><td>Male                                                  </td><td>Waterston Centre - Refuge d'urgence Shelter           </td><td>52                                                    </td></tr>\n",
       "\t<tr><td>Emergency                                             </td><td>SK                                                    </td><td>Saskatoon                                             </td><td>General                                               </td><td>Male                                                  </td><td>Lighthouse Supported Living Inc Refuge d'urgence - Men</td><td>17                                                    </td></tr>\n",
       "\t<tr><td>Emergency                                             </td><td>SK                                                    </td><td>Saskatoon                                             </td><td>General                                               </td><td>Male                                                  </td><td>SCC Men's Hostel - Noah's Ark                         </td><td>35                                                    </td></tr>\n",
       "\t<tr><td>Emergency                                             </td><td>SK                                                    </td><td>Saskatoon                                             </td><td>Youth                                                 </td><td>Male                                                  </td><td>SCC Youth                                             </td><td> 2                                                    </td></tr>\n",
       "</tbody>\n",
       "</table>\n"
      ],
      "text/latex": [
       "\\begin{tabular}{r|lllllll}\n",
       " ShelterType & Province & City & TargetPopulation & Gender & ShelterName & Beds\\\\\n",
       "\\hline\n",
       "\t Emergency                                              & QC                                                     & Saguenay                                               & General                                                & Male                                                   & Pavillon Lafontaine - Chicoutimi                       &  3                                                    \\\\\n",
       "\t Emergency                                              & SK                                                     & Regina                                                 & General                                                & Male                                                   & SHRM Men's Refuge d'urgence Shelter                    & 12                                                    \\\\\n",
       "\t Emergency                                              & SK                                                     & Regina                                                 & General                                                & Male                                                   & Waterston Centre - Refuge d'urgence Shelter            & 52                                                    \\\\\n",
       "\t Emergency                                              & SK                                                     & Saskatoon                                              & General                                                & Male                                                   & Lighthouse Supported Living Inc Refuge d'urgence - Men & 17                                                    \\\\\n",
       "\t Emergency                                              & SK                                                     & Saskatoon                                              & General                                                & Male                                                   & SCC Men's Hostel - Noah's Ark                          & 35                                                    \\\\\n",
       "\t Emergency                                              & SK                                                     & Saskatoon                                              & Youth                                                  & Male                                                   & SCC Youth                                              &  2                                                    \\\\\n",
       "\\end{tabular}\n"
      ],
      "text/markdown": [
       "\n",
       "ShelterType | Province | City | TargetPopulation | Gender | ShelterName | Beds | \n",
       "|---|---|---|---|---|---|\n",
       "| Emergency                                              | QC                                                     | Saguenay                                               | General                                                | Male                                                   | Pavillon Lafontaine - Chicoutimi                       |  3                                                     | \n",
       "| Emergency                                              | SK                                                     | Regina                                                 | General                                                | Male                                                   | SHRM Men's Refuge d'urgence Shelter                    | 12                                                     | \n",
       "| Emergency                                              | SK                                                     | Regina                                                 | General                                                | Male                                                   | Waterston Centre - Refuge d'urgence Shelter            | 52                                                     | \n",
       "| Emergency                                              | SK                                                     | Saskatoon                                              | General                                                | Male                                                   | Lighthouse Supported Living Inc Refuge d'urgence - Men | 17                                                     | \n",
       "| Emergency                                              | SK                                                     | Saskatoon                                              | General                                                | Male                                                   | SCC Men's Hostel - Noah's Ark                          | 35                                                     | \n",
       "| Emergency                                              | SK                                                     | Saskatoon                                              | Youth                                                  | Male                                                   | SCC Youth                                              |  2                                                     | \n",
       "\n",
       "\n"
      ],
      "text/plain": [
       "  ShelterType Province City      TargetPopulation Gender\n",
       "1 Emergency   QC       Saguenay  General          Male  \n",
       "2 Emergency   SK       Regina    General          Male  \n",
       "3 Emergency   SK       Regina    General          Male  \n",
       "4 Emergency   SK       Saskatoon General          Male  \n",
       "5 Emergency   SK       Saskatoon General          Male  \n",
       "6 Emergency   SK       Saskatoon Youth            Male  \n",
       "  ShelterName                                            Beds\n",
       "1 Pavillon Lafontaine - Chicoutimi                        3  \n",
       "2 SHRM Men's Refuge d'urgence Shelter                    12  \n",
       "3 Waterston Centre - Refuge d'urgence Shelter            52  \n",
       "4 Lighthouse Supported Living Inc Refuge d'urgence - Men 17  \n",
       "5 SCC Men's Hostel - Noah's Ark                          35  \n",
       "6 SCC Youth                                               2  "
      ]
     },
     "metadata": {},
     "output_type": "display_data"
    }
   ],
   "source": [
    "glimpse(df)\n",
    "head(df)\n",
    "tail(df)"
   ]
  },
  {
   "cell_type": "code",
   "execution_count": 25,
   "metadata": {},
   "outputs": [
    {
     "data": {
      "text/html": [
       "<table>\n",
       "<thead><tr><th scope=col>Province</th><th scope=col>TotalEmergencyBedsForMales</th></tr></thead>\n",
       "<tbody>\n",
       "\t<tr><td>AB  </td><td> 389</td></tr>\n",
       "\t<tr><td>BC  </td><td> 356</td></tr>\n",
       "\t<tr><td>NB  </td><td>  45</td></tr>\n",
       "\t<tr><td>NL  </td><td>   9</td></tr>\n",
       "\t<tr><td>NS  </td><td> 120</td></tr>\n",
       "\t<tr><td>ON  </td><td>2663</td></tr>\n",
       "\t<tr><td>PI  </td><td>   7</td></tr>\n",
       "\t<tr><td>QC  </td><td> 971</td></tr>\n",
       "\t<tr><td>SK  </td><td> 118</td></tr>\n",
       "</tbody>\n",
       "</table>\n"
      ],
      "text/latex": [
       "\\begin{tabular}{r|ll}\n",
       " Province & TotalEmergencyBedsForMales\\\\\n",
       "\\hline\n",
       "\t AB   &  389\\\\\n",
       "\t BC   &  356\\\\\n",
       "\t NB   &   45\\\\\n",
       "\t NL   &    9\\\\\n",
       "\t NS   &  120\\\\\n",
       "\t ON   & 2663\\\\\n",
       "\t PI   &    7\\\\\n",
       "\t QC   &  971\\\\\n",
       "\t SK   &  118\\\\\n",
       "\\end{tabular}\n"
      ],
      "text/markdown": [
       "\n",
       "Province | TotalEmergencyBedsForMales | \n",
       "|---|---|---|---|---|---|---|---|---|\n",
       "| AB   |  389 | \n",
       "| BC   |  356 | \n",
       "| NB   |   45 | \n",
       "| NL   |    9 | \n",
       "| NS   |  120 | \n",
       "| ON   | 2663 | \n",
       "| PI   |    7 | \n",
       "| QC   |  971 | \n",
       "| SK   |  118 | \n",
       "\n",
       "\n"
      ],
      "text/plain": [
       "  Province TotalEmergencyBedsForMales\n",
       "1 AB        389                      \n",
       "2 BC        356                      \n",
       "3 NB         45                      \n",
       "4 NL          9                      \n",
       "5 NS        120                      \n",
       "6 ON       2663                      \n",
       "7 PI          7                      \n",
       "8 QC        971                      \n",
       "9 SK        118                      "
      ]
     },
     "metadata": {},
     "output_type": "display_data"
    }
   ],
   "source": [
    "df_Provincial <- df %>%\n",
    "  select(Province, Beds) %>%\n",
    "  group_by(Province) %>%\n",
    "  summarise(TotalEmergencyBedsForMales = sum(Beds))\n",
    "\n",
    "df_Provincial"
   ]
  },
  {
   "cell_type": "code",
   "execution_count": 26,
   "metadata": {},
   "outputs": [
    {
     "data": {
      "text/html": [
       "<table>\n",
       "<thead><tr><th scope=col>Province</th><th scope=col>TotalEmergencyBedsForMales</th></tr></thead>\n",
       "<tbody>\n",
       "\t<tr><td>AB  </td><td> 389</td></tr>\n",
       "\t<tr><td>BC  </td><td> 356</td></tr>\n",
       "\t<tr><td>NB  </td><td>  45</td></tr>\n",
       "\t<tr><td>NL  </td><td>   9</td></tr>\n",
       "\t<tr><td>NS  </td><td> 120</td></tr>\n",
       "\t<tr><td>ON  </td><td>2663</td></tr>\n",
       "\t<tr><td>PI  </td><td>   7</td></tr>\n",
       "\t<tr><td>QC  </td><td> 971</td></tr>\n",
       "\t<tr><td>SK  </td><td> 118</td></tr>\n",
       "\t<tr><td>MB  </td><td>   0</td></tr>\n",
       "</tbody>\n",
       "</table>\n"
      ],
      "text/latex": [
       "\\begin{tabular}{r|ll}\n",
       " Province & TotalEmergencyBedsForMales\\\\\n",
       "\\hline\n",
       "\t AB   &  389\\\\\n",
       "\t BC   &  356\\\\\n",
       "\t NB   &   45\\\\\n",
       "\t NL   &    9\\\\\n",
       "\t NS   &  120\\\\\n",
       "\t ON   & 2663\\\\\n",
       "\t PI   &    7\\\\\n",
       "\t QC   &  971\\\\\n",
       "\t SK   &  118\\\\\n",
       "\t MB   &    0\\\\\n",
       "\\end{tabular}\n"
      ],
      "text/markdown": [
       "\n",
       "Province | TotalEmergencyBedsForMales | \n",
       "|---|---|---|---|---|---|---|---|---|---|\n",
       "| AB   |  389 | \n",
       "| BC   |  356 | \n",
       "| NB   |   45 | \n",
       "| NL   |    9 | \n",
       "| NS   |  120 | \n",
       "| ON   | 2663 | \n",
       "| PI   |    7 | \n",
       "| QC   |  971 | \n",
       "| SK   |  118 | \n",
       "| MB   |    0 | \n",
       "\n",
       "\n"
      ],
      "text/plain": [
       "   Province TotalEmergencyBedsForMales\n",
       "1  AB        389                      \n",
       "2  BC        356                      \n",
       "3  NB         45                      \n",
       "4  NL          9                      \n",
       "5  NS        120                      \n",
       "6  ON       2663                      \n",
       "7  PI          7                      \n",
       "8  QC        971                      \n",
       "9  SK        118                      \n",
       "10 MB          0                      "
      ]
     },
     "metadata": {},
     "output_type": "display_data"
    }
   ],
   "source": [
    "# add row for one province that does not have emergency beds\n",
    "\n",
    "newRow1 <- data.frame(Province = \"MB\", TotalEmergencyBedsForMales = 0)\n",
    "\n",
    "df_Provincial <- rbind(df_Provincial, newRow1)\n",
    "\n",
    "df_Provincial"
   ]
  },
  {
   "cell_type": "code",
   "execution_count": 27,
   "metadata": {},
   "outputs": [
    {
     "name": "stdout",
     "output_type": "stream",
     "text": [
      "Observations: 10\n",
      "Variables: 3\n",
      "$ Province                      <fctr> AB, BC, NB, NL, NS, ON, PI, QC, SK, MB\n",
      "$ TotalEmergencyBedsForMales    <dbl> 389, 356, 45, 9, 120, 2663, 7, 971, 1...\n",
      "$ TotalProvincialPopulationMale <dbl> 2169133, 2389487, 375405, 260610, 467...\n"
     ]
    },
    {
     "data": {
      "text/html": [
       "<table>\n",
       "<thead><tr><th scope=col>Province</th><th scope=col>TotalEmergencyBedsForMales</th><th scope=col>TotalProvincialPopulationMale</th></tr></thead>\n",
       "<tbody>\n",
       "\t<tr><td>AB     </td><td> 389   </td><td>2169133</td></tr>\n",
       "\t<tr><td>BC     </td><td> 356   </td><td>2389487</td></tr>\n",
       "\t<tr><td>NB     </td><td>  45   </td><td> 375405</td></tr>\n",
       "\t<tr><td>NL     </td><td>   9   </td><td> 260610</td></tr>\n",
       "\t<tr><td>NS     </td><td> 120   </td><td> 467841</td></tr>\n",
       "\t<tr><td>ON     </td><td>2663   </td><td>6980810</td></tr>\n",
       "\t<tr><td>PI     </td><td>   7   </td><td>  74355</td></tr>\n",
       "\t<tr><td>QC     </td><td> 971   </td><td>4174425</td></tr>\n",
       "\t<tr><td>SK     </td><td> 118   </td><td> 586867</td></tr>\n",
       "\t<tr><td>MB     </td><td>   0   </td><td> 666770</td></tr>\n",
       "</tbody>\n",
       "</table>\n"
      ],
      "text/latex": [
       "\\begin{tabular}{r|lll}\n",
       " Province & TotalEmergencyBedsForMales & TotalProvincialPopulationMale\\\\\n",
       "\\hline\n",
       "\t AB      &  389    & 2169133\\\\\n",
       "\t BC      &  356    & 2389487\\\\\n",
       "\t NB      &   45    &  375405\\\\\n",
       "\t NL      &    9    &  260610\\\\\n",
       "\t NS      &  120    &  467841\\\\\n",
       "\t ON      & 2663    & 6980810\\\\\n",
       "\t PI      &    7    &   74355\\\\\n",
       "\t QC      &  971    & 4174425\\\\\n",
       "\t SK      &  118    &  586867\\\\\n",
       "\t MB      &    0    &  666770\\\\\n",
       "\\end{tabular}\n"
      ],
      "text/markdown": [
       "\n",
       "Province | TotalEmergencyBedsForMales | TotalProvincialPopulationMale | \n",
       "|---|---|---|---|---|---|---|---|---|---|\n",
       "| AB      |  389    | 2169133 | \n",
       "| BC      |  356    | 2389487 | \n",
       "| NB      |   45    |  375405 | \n",
       "| NL      |    9    |  260610 | \n",
       "| NS      |  120    |  467841 | \n",
       "| ON      | 2663    | 6980810 | \n",
       "| PI      |    7    |   74355 | \n",
       "| QC      |  971    | 4174425 | \n",
       "| SK      |  118    |  586867 | \n",
       "| MB      |    0    |  666770 | \n",
       "\n",
       "\n"
      ],
      "text/plain": [
       "   Province TotalEmergencyBedsForMales TotalProvincialPopulationMale\n",
       "1  AB        389                       2169133                      \n",
       "2  BC        356                       2389487                      \n",
       "3  NB         45                        375405                      \n",
       "4  NL          9                        260610                      \n",
       "5  NS        120                        467841                      \n",
       "6  ON       2663                       6980810                      \n",
       "7  PI          7                         74355                      \n",
       "8  QC        971                       4174425                      \n",
       "9  SK        118                        586867                      \n",
       "10 MB          0                        666770                      "
      ]
     },
     "metadata": {},
     "output_type": "display_data"
    }
   ],
   "source": [
    "# Add 2017 population stats for each province\n",
    "# Source: https://www150.statcan.gc.ca/t1/tbl1/en/tv.action?pid=1710000501&pickMembers%5B0%5D=1.10&pickMembers%5B1%5D=2.1\n",
    "\n",
    "df_Provincial$TotalProvincialPopulationMale <- 0\n",
    "\n",
    "df_Provincial$TotalProvincialPopulationMale[df_Provincial$Province == \"AB\"] <- 2169133\n",
    "df_Provincial$TotalProvincialPopulationMale[df_Provincial$Province == \"BC\"] <- 2389487\n",
    "df_Provincial$TotalProvincialPopulationMale[df_Provincial$Province == \"MB\"] <- 666770\n",
    "df_Provincial$TotalProvincialPopulationMale[df_Provincial$Province == \"NB\"] <- 375405\n",
    "df_Provincial$TotalProvincialPopulationMale[df_Provincial$Province == \"NL\"] <- 260610\n",
    "df_Provincial$TotalProvincialPopulationMale[df_Provincial$Province == \"NS\"] <- 467841\n",
    "df_Provincial$TotalProvincialPopulationMale[df_Provincial$Province == \"NT\"] <- 22837\n",
    "df_Provincial$TotalProvincialPopulationMale[df_Provincial$Province == \"NU\"] <- 19687\n",
    "df_Provincial$TotalProvincialPopulationMale[df_Provincial$Province == \"ON\"] <- 6980810\n",
    "df_Provincial$TotalProvincialPopulationMale[df_Provincial$Province == \"PI\"] <- 74355\n",
    "df_Provincial$TotalProvincialPopulationMale[df_Provincial$Province == \"QC\"] <- 4174425\n",
    "df_Provincial$TotalProvincialPopulationMale[df_Provincial$Province == \"SK\"] <- 586867\n",
    "df_Provincial$TotalProvincialPopulationMale[df_Provincial$Province == \"YT\"] <- 19614\n",
    "\n",
    "glimpse(df_Provincial)\n",
    "df_Provincial"
   ]
  },
  {
   "cell_type": "code",
   "execution_count": 28,
   "metadata": {},
   "outputs": [
    {
     "name": "stdout",
     "output_type": "stream",
     "text": [
      "Observations: 10\n",
      "Variables: 4\n",
      "$ Province                      <fctr> AB, BC, NB, NL, NS, ON, PI, QC, SK, MB\n",
      "$ TotalEmergencyBedsForMales    <dbl> 389, 356, 45, 9, 120, 2663, 7, 971, 1...\n",
      "$ TotalProvincialPopulationMale <dbl> 2169133, 2389487, 375405, 260610, 467...\n",
      "$ EmergencyBedsForMalesPer100K  <dbl> 18, 15, 12, 3, 26, 38, 9, 23, 20, 0\n"
     ]
    },
    {
     "data": {
      "text/html": [
       "<table>\n",
       "<thead><tr><th scope=col>Province</th><th scope=col>TotalEmergencyBedsForMales</th><th scope=col>TotalProvincialPopulationMale</th><th scope=col>EmergencyBedsForMalesPer100K</th></tr></thead>\n",
       "<tbody>\n",
       "\t<tr><td>AB     </td><td> 389   </td><td>2169133</td><td>18     </td></tr>\n",
       "\t<tr><td>BC     </td><td> 356   </td><td>2389487</td><td>15     </td></tr>\n",
       "\t<tr><td>NB     </td><td>  45   </td><td> 375405</td><td>12     </td></tr>\n",
       "\t<tr><td>NL     </td><td>   9   </td><td> 260610</td><td> 3     </td></tr>\n",
       "\t<tr><td>NS     </td><td> 120   </td><td> 467841</td><td>26     </td></tr>\n",
       "\t<tr><td>ON     </td><td>2663   </td><td>6980810</td><td>38     </td></tr>\n",
       "\t<tr><td>PI     </td><td>   7   </td><td>  74355</td><td> 9     </td></tr>\n",
       "\t<tr><td>QC     </td><td> 971   </td><td>4174425</td><td>23     </td></tr>\n",
       "\t<tr><td>SK     </td><td> 118   </td><td> 586867</td><td>20     </td></tr>\n",
       "\t<tr><td>MB     </td><td>   0   </td><td> 666770</td><td> 0     </td></tr>\n",
       "</tbody>\n",
       "</table>\n"
      ],
      "text/latex": [
       "\\begin{tabular}{r|llll}\n",
       " Province & TotalEmergencyBedsForMales & TotalProvincialPopulationMale & EmergencyBedsForMalesPer100K\\\\\n",
       "\\hline\n",
       "\t AB      &  389    & 2169133 & 18     \\\\\n",
       "\t BC      &  356    & 2389487 & 15     \\\\\n",
       "\t NB      &   45    &  375405 & 12     \\\\\n",
       "\t NL      &    9    &  260610 &  3     \\\\\n",
       "\t NS      &  120    &  467841 & 26     \\\\\n",
       "\t ON      & 2663    & 6980810 & 38     \\\\\n",
       "\t PI      &    7    &   74355 &  9     \\\\\n",
       "\t QC      &  971    & 4174425 & 23     \\\\\n",
       "\t SK      &  118    &  586867 & 20     \\\\\n",
       "\t MB      &    0    &  666770 &  0     \\\\\n",
       "\\end{tabular}\n"
      ],
      "text/markdown": [
       "\n",
       "Province | TotalEmergencyBedsForMales | TotalProvincialPopulationMale | EmergencyBedsForMalesPer100K | \n",
       "|---|---|---|---|---|---|---|---|---|---|\n",
       "| AB      |  389    | 2169133 | 18      | \n",
       "| BC      |  356    | 2389487 | 15      | \n",
       "| NB      |   45    |  375405 | 12      | \n",
       "| NL      |    9    |  260610 |  3      | \n",
       "| NS      |  120    |  467841 | 26      | \n",
       "| ON      | 2663    | 6980810 | 38      | \n",
       "| PI      |    7    |   74355 |  9      | \n",
       "| QC      |  971    | 4174425 | 23      | \n",
       "| SK      |  118    |  586867 | 20      | \n",
       "| MB      |    0    |  666770 |  0      | \n",
       "\n",
       "\n"
      ],
      "text/plain": [
       "   Province TotalEmergencyBedsForMales TotalProvincialPopulationMale\n",
       "1  AB        389                       2169133                      \n",
       "2  BC        356                       2389487                      \n",
       "3  NB         45                        375405                      \n",
       "4  NL          9                        260610                      \n",
       "5  NS        120                        467841                      \n",
       "6  ON       2663                       6980810                      \n",
       "7  PI          7                         74355                      \n",
       "8  QC        971                       4174425                      \n",
       "9  SK        118                        586867                      \n",
       "10 MB          0                        666770                      \n",
       "   EmergencyBedsForMalesPer100K\n",
       "1  18                          \n",
       "2  15                          \n",
       "3  12                          \n",
       "4   3                          \n",
       "5  26                          \n",
       "6  38                          \n",
       "7   9                          \n",
       "8  23                          \n",
       "9  20                          \n",
       "10  0                          "
      ]
     },
     "metadata": {},
     "output_type": "display_data"
    }
   ],
   "source": [
    "df_Provincial <- df_Provincial %>%\n",
    "  mutate(EmergencyBedsForMalesPer100K = round(TotalEmergencyBedsForMales / TotalProvincialPopulationMale * 100000))\n",
    "\n",
    "glimpse(df_Provincial)\n",
    "df_Provincial"
   ]
  },
  {
   "cell_type": "markdown",
   "metadata": {},
   "source": [
    "## Display a map of Canada showing results"
   ]
  },
  {
   "cell_type": "code",
   "execution_count": 29,
   "metadata": {},
   "outputs": [
    {
     "name": "stdout",
     "output_type": "stream",
     "text": [
      "Reading layer `lpr_000b16a_e' from data source `C:\\Users\\rahmant\\GIS_Canada\\lpr_000b16a_e.shp' using driver `ESRI Shapefile'\n",
      "Simple feature collection with 13 features and 6 fields\n",
      "geometry type:  MULTIPOLYGON\n",
      "dimension:      XY\n",
      "bbox:           xmin: 3689439 ymin: 659338.9 xmax: 9015737 ymax: 5242179\n",
      "epsg (SRID):    NA\n",
      "proj4string:    +proj=lcc +lat_1=49 +lat_2=77 +lat_0=63.390675 +lon_0=-91.86666666666666 +x_0=6200000 +y_0=3000000 +datum=NAD83 +units=m +no_defs\n"
     ]
    }
   ],
   "source": [
    "CanadaMap <- st_read(\"GIS_Canada/lpr_000b16a_e.shp\")"
   ]
  },
  {
   "cell_type": "code",
   "execution_count": 30,
   "metadata": {},
   "outputs": [
    {
     "data": {
      "text/plain": [
       "[1] \"2018-08-08 12:32:25 AST\""
      ]
     },
     "metadata": {},
     "output_type": "display_data"
    },
    {
     "name": "stdout",
     "output_type": "stream",
     "text": [
      "Observations: 13\n",
      "Variables: 7\n",
      "$ PRUID    <fctr> 10, 11, 12, 13, 24, 35, 46, 47, 48, 59, 60, 61, 62\n",
      "$ PRNAME   <fctr> Newfoundland and Labrador / Terre-Neuve-et-Labrador, Prin...\n",
      "$ PRENAME  <fctr> Newfoundland and Labrador, Prince Edward Island, Nova Sco...\n",
      "$ PRFNAME  <fctr> Terre-Neuve-et-Labrador, Île-du-Prince-Édouard, Nouvelle-...\n",
      "$ PREABBR  <fctr> N.L., P.E.I., N.S., N.B., Que., Ont., Man., Sask., Alta.,...\n",
      "$ PRFABBR  <fctr> T.-N.-L., Î.-P.-É., N.-É., N.-B., Qc, Ont., Man., Sask., ...\n",
      "$ geometry <simple_feature> MULTIPOLYGON (((8307365.588..., MULTIPOLYGON ((...\n"
     ]
    },
    {
     "data": {
      "text/plain": [
       "[1] \"2018-08-08 12:32:49 AST\""
      ]
     },
     "metadata": {},
     "output_type": "display_data"
    }
   ],
   "source": [
    "Sys.time()\n",
    "glimpse(CanadaMap)\n",
    "Sys.time()"
   ]
  },
  {
   "cell_type": "code",
   "execution_count": 31,
   "metadata": {},
   "outputs": [],
   "source": [
    "# Sys.time()\n",
    "# CanadaMap\n",
    "# Sys.time()"
   ]
  },
  {
   "cell_type": "code",
   "execution_count": 32,
   "metadata": {},
   "outputs": [
    {
     "name": "stdout",
     "output_type": "stream",
     "text": [
      "Observations: 10\n",
      "Variables: 5\n",
      "$ Province                      <fctr> AB, BC, NB, NL, NS, ON, PI, QC, SK, MB\n",
      "$ TotalEmergencyBedsForMales    <dbl> 389, 356, 45, 9, 120, 2663, 7, 971, 1...\n",
      "$ TotalProvincialPopulationMale <dbl> 2169133, 2389487, 375405, 260610, 467...\n",
      "$ EmergencyBedsForMalesPer100K  <dbl> 18, 15, 12, 3, 26, 38, 9, 23, 20, 0\n",
      "$ PREABBR                       <fctr> Alta., B.C., N.B., N.L., N.S., Ont.,...\n"
     ]
    },
    {
     "data": {
      "text/html": [
       "<table>\n",
       "<thead><tr><th scope=col>Province</th><th scope=col>TotalEmergencyBedsForMales</th><th scope=col>TotalProvincialPopulationMale</th><th scope=col>EmergencyBedsForMalesPer100K</th><th scope=col>PREABBR</th></tr></thead>\n",
       "<tbody>\n",
       "\t<tr><td>AB     </td><td> 389   </td><td>2169133</td><td>18     </td><td>Alta.  </td></tr>\n",
       "\t<tr><td>BC     </td><td> 356   </td><td>2389487</td><td>15     </td><td>B.C.   </td></tr>\n",
       "\t<tr><td>NB     </td><td>  45   </td><td> 375405</td><td>12     </td><td>N.B.   </td></tr>\n",
       "\t<tr><td>NL     </td><td>   9   </td><td> 260610</td><td> 3     </td><td>N.L.   </td></tr>\n",
       "\t<tr><td>NS     </td><td> 120   </td><td> 467841</td><td>26     </td><td>N.S.   </td></tr>\n",
       "\t<tr><td>ON     </td><td>2663   </td><td>6980810</td><td>38     </td><td>Ont.   </td></tr>\n",
       "\t<tr><td>PI     </td><td>   7   </td><td>  74355</td><td> 9     </td><td>P.E.I. </td></tr>\n",
       "\t<tr><td>QC     </td><td> 971   </td><td>4174425</td><td>23     </td><td>Que.   </td></tr>\n",
       "\t<tr><td>SK     </td><td> 118   </td><td> 586867</td><td>20     </td><td>Sask.  </td></tr>\n",
       "\t<tr><td>MB     </td><td>   0   </td><td> 666770</td><td> 0     </td><td>Man.   </td></tr>\n",
       "</tbody>\n",
       "</table>\n"
      ],
      "text/latex": [
       "\\begin{tabular}{r|lllll}\n",
       " Province & TotalEmergencyBedsForMales & TotalProvincialPopulationMale & EmergencyBedsForMalesPer100K & PREABBR\\\\\n",
       "\\hline\n",
       "\t AB      &  389    & 2169133 & 18      & Alta.  \\\\\n",
       "\t BC      &  356    & 2389487 & 15      & B.C.   \\\\\n",
       "\t NB      &   45    &  375405 & 12      & N.B.   \\\\\n",
       "\t NL      &    9    &  260610 &  3      & N.L.   \\\\\n",
       "\t NS      &  120    &  467841 & 26      & N.S.   \\\\\n",
       "\t ON      & 2663    & 6980810 & 38      & Ont.   \\\\\n",
       "\t PI      &    7    &   74355 &  9      & P.E.I. \\\\\n",
       "\t QC      &  971    & 4174425 & 23      & Que.   \\\\\n",
       "\t SK      &  118    &  586867 & 20      & Sask.  \\\\\n",
       "\t MB      &    0    &  666770 &  0      & Man.   \\\\\n",
       "\\end{tabular}\n"
      ],
      "text/markdown": [
       "\n",
       "Province | TotalEmergencyBedsForMales | TotalProvincialPopulationMale | EmergencyBedsForMalesPer100K | PREABBR | \n",
       "|---|---|---|---|---|---|---|---|---|---|\n",
       "| AB      |  389    | 2169133 | 18      | Alta.   | \n",
       "| BC      |  356    | 2389487 | 15      | B.C.    | \n",
       "| NB      |   45    |  375405 | 12      | N.B.    | \n",
       "| NL      |    9    |  260610 |  3      | N.L.    | \n",
       "| NS      |  120    |  467841 | 26      | N.S.    | \n",
       "| ON      | 2663    | 6980810 | 38      | Ont.    | \n",
       "| PI      |    7    |   74355 |  9      | P.E.I.  | \n",
       "| QC      |  971    | 4174425 | 23      | Que.    | \n",
       "| SK      |  118    |  586867 | 20      | Sask.   | \n",
       "| MB      |    0    |  666770 |  0      | Man.    | \n",
       "\n",
       "\n"
      ],
      "text/plain": [
       "   Province TotalEmergencyBedsForMales TotalProvincialPopulationMale\n",
       "1  AB        389                       2169133                      \n",
       "2  BC        356                       2389487                      \n",
       "3  NB         45                        375405                      \n",
       "4  NL          9                        260610                      \n",
       "5  NS        120                        467841                      \n",
       "6  ON       2663                       6980810                      \n",
       "7  PI          7                         74355                      \n",
       "8  QC        971                       4174425                      \n",
       "9  SK        118                        586867                      \n",
       "10 MB          0                        666770                      \n",
       "   EmergencyBedsForMalesPer100K PREABBR\n",
       "1  18                           Alta.  \n",
       "2  15                           B.C.   \n",
       "3  12                           N.B.   \n",
       "4   3                           N.L.   \n",
       "5  26                           N.S.   \n",
       "6  38                           Ont.   \n",
       "7   9                           P.E.I. \n",
       "8  23                           Que.   \n",
       "9  20                           Sask.  \n",
       "10  0                           Man.   "
      ]
     },
     "metadata": {},
     "output_type": "display_data"
    }
   ],
   "source": [
    "# Add a column for PREABBR to df_Provincial in order to do a join with CanadaMap\n",
    "\n",
    "\n",
    "df_Provincial$PREABBR <- \"unknown\"\n",
    "\n",
    "df_Provincial$PREABBR[df_Provincial$Province == \"AB\"] <- \"Alta.\"\n",
    "df_Provincial$PREABBR[df_Provincial$Province == \"BC\"] <- \"B.C.\"\n",
    "df_Provincial$PREABBR[df_Provincial$Province == \"MB\"] <- \"Man.\"\n",
    "df_Provincial$PREABBR[df_Provincial$Province == \"NB\"] <- \"N.B.\"\n",
    "df_Provincial$PREABBR[df_Provincial$Province == \"NL\"] <- \"N.L.\"\n",
    "df_Provincial$PREABBR[df_Provincial$Province == \"NS\"] <- \"N.S.\"\n",
    "df_Provincial$PREABBR[df_Provincial$Province == \"ON\"] <- \"Ont.\"\n",
    "df_Provincial$PREABBR[df_Provincial$Province == \"PI\"] <- \"P.E.I.\"\n",
    "df_Provincial$PREABBR[df_Provincial$Province == \"QC\"] <- \"Que.\"\n",
    "df_Provincial$PREABBR[df_Provincial$Province == \"SK\"] <- \"Sask.\"\n",
    "\n",
    "df_Provincial$PREABBR <- as.factor(df_Provincial$PREABBR)\n",
    "glimpse(df_Provincial)\n",
    "df_Provincial"
   ]
  },
  {
   "cell_type": "code",
   "execution_count": 33,
   "metadata": {},
   "outputs": [],
   "source": [
    "# Add a column for Year\n",
    "\n",
    "df_Provincial$Year <- 2017"
   ]
  },
  {
   "cell_type": "code",
   "execution_count": 34,
   "metadata": {},
   "outputs": [],
   "source": [
    "# Before merging with a shapefile for polygon data, write the data to a table in csv format\n",
    "# Table_B\n",
    "\n",
    "write.csv(df_Provincial, \n",
    "          file = \"Table_C.csv\",\n",
    "          row.names = FALSE) # set row.name to FALSE to not include an index column in the csv output file"
   ]
  },
  {
   "cell_type": "code",
   "execution_count": 35,
   "metadata": {},
   "outputs": [
    {
     "data": {
      "text/html": [
       "<strong>png:</strong> 2"
      ],
      "text/latex": [
       "\\textbf{png:} 2"
      ],
      "text/markdown": [
       "**png:** 2"
      ],
      "text/plain": [
       "png \n",
       "  2 "
      ]
     },
     "metadata": {},
     "output_type": "display_data"
    }
   ],
   "source": [
    "# Save a dataframe as a nicely formatted png file\n",
    "# uses the gridExtra package\n",
    "\n",
    "png(\"Table_C.png\", height = 30*nrow(df_Provincial), width = 150*ncol(df_Provincial))\n",
    "grid.table(df_Provincial)\n",
    "dev.off()"
   ]
  },
  {
   "cell_type": "code",
   "execution_count": 36,
   "metadata": {},
   "outputs": [],
   "source": [
    "CanadaMap <- merge(CanadaMap, df_Provincial) # join the two dataframes, merge will use the common column name to join with"
   ]
  },
  {
   "cell_type": "code",
   "execution_count": 37,
   "metadata": {},
   "outputs": [
    {
     "data": {
      "text/plain": [
       "[1] \"2018-08-08 12:32:49 AST\""
      ]
     },
     "metadata": {},
     "output_type": "display_data"
    },
    {
     "name": "stdout",
     "output_type": "stream",
     "text": [
      "Observations: 10\n",
      "Variables: 12\n",
      "$ PREABBR                       <fctr> Alta., B.C., Man., N.B., N.L., N.S.,...\n",
      "$ PRUID                         <fctr> 48, 59, 46, 13, 10, 12, 35, 11, 24, 47\n",
      "$ PRNAME                        <fctr> Alberta, British Columbia / Colombie...\n",
      "$ PRENAME                       <fctr> Alberta, British Columbia, Manitoba,...\n",
      "$ PRFNAME                       <fctr> Alberta, Colombie-Britannique, Manit...\n",
      "$ PRFABBR                       <fctr> Alb., C.-B., Man., N.-B., T.-N.-L., ...\n",
      "$ Province                      <fctr> AB, BC, MB, NB, NL, NS, ON, PI, QC, SK\n",
      "$ TotalEmergencyBedsForMales    <dbl> 389, 356, 0, 45, 9, 120, 2663, 7, 971...\n",
      "$ TotalProvincialPopulationMale <dbl> 2169133, 2389487, 666770, 375405, 260...\n",
      "$ EmergencyBedsForMalesPer100K  <dbl> 18, 15, 0, 12, 3, 26, 38, 9, 23, 20\n",
      "$ Year                          <dbl> 2017, 2017, 2017, 2017, 2017, 2017, 2...\n",
      "$ geometry                      <simple_feature> MULTIPOLYGON (((5228304.17...\n"
     ]
    },
    {
     "data": {
      "text/plain": [
       "[1] \"2018-08-08 12:33:04 AST\""
      ]
     },
     "metadata": {},
     "output_type": "display_data"
    }
   ],
   "source": [
    "Sys.time()\n",
    "glimpse(CanadaMap)\n",
    "Sys.time()"
   ]
  },
  {
   "cell_type": "code",
   "execution_count": 38,
   "metadata": {},
   "outputs": [
    {
     "data": {
      "text/plain": [
       "[1] \"2018-08-08 12:33:04 AST\""
      ]
     },
     "metadata": {},
     "output_type": "display_data"
    },
    {
     "data": {},
     "metadata": {},
     "output_type": "display_data"
    },
    {
     "data": {
      "text/plain": [
       "[1] \"2018-08-08 12:33:44 AST\""
      ]
     },
     "metadata": {},
     "output_type": "display_data"
    },
    {
     "data": {
      "image/png": "[encoded data removed]",
      "text/plain": [
       "plot without title"
      ]
     },
     "metadata": {},
     "output_type": "display_data"
    }
   ],
   "source": [
    "Sys.time()\n",
    "\n",
    "my_map_C0 <-\n",
    "  tm_shape(CanadaMap) +\n",
    "  tm_polygons(col = \"EmergencyBedsForMalesPer100K\", palette = \"Blues\", style = \"order\") +\n",
    "  tm_legend(legend.outside = TRUE, legend.outside.position = \"bottom\") +\n",
    "  tm_text(text = \"EmergencyBedsForMalesPer100K\", size = .6) + \n",
    "  tm_layout(frame = FALSE, \n",
    "            legend.show = FALSE,\n",
    "            main.title = \"Number of Emergency Homeless Beds at Male-Only Shelters\\nPer 100,000 Male Population, 2017\",\n",
    "            main.title.size = 1)\n",
    "\n",
    "my_map_C0\n",
    "\n",
    "Sys.time()"
   ]
  },
  {
   "cell_type": "code",
   "execution_count": 39,
   "metadata": {},
   "outputs": [],
   "source": [
    "# Sys.time()\n",
    "#   save_tmap(tm = my_map_C0, \n",
    "#             filename = \"Number of Emergency Homeless Beds at Male-Only Shelters\\nPer 100,000 Male Population, 2017.png\")\n",
    "# Sys.time()"
   ]
  },
  {
   "cell_type": "markdown",
   "metadata": {},
   "source": [
    "# Main Script Ends Here"
   ]
  },
  {
   "cell_type": "code",
   "execution_count": 40,
   "metadata": {},
   "outputs": [
    {
     "data": {
      "text/plain": [
       "[1] \"2018-08-08 12:33:48 AST\""
      ]
     },
     "metadata": {},
     "output_type": "display_data"
    }
   ],
   "source": [
    "Sys.time()"
   ]
  },
  {
   "cell_type": "markdown",
   "metadata": {},
   "source": [
    "# Appendix 1 - Examples of common coding techniques"
   ]
  },
  {
   "cell_type": "code",
   "execution_count": 41,
   "metadata": {},
   "outputs": [],
   "source": [
    "# Example of how to read and filter a large csv file a chunk at a time, e.g. filter 50000 rows at a time into a new dataframe\n",
    "# This is very efficient, comparable to fread in speed but done in chunks to conserve memory\n",
    "# I also prefer it to fread because I can filter out rows with missing values as I import the data\n",
    "# and specify which columns I want to import \n",
    "# need readr library from tidyverse library\n",
    "\n",
    "\n",
    "# Sys.time() # start time for reading file\n",
    "# f <- function(x, pos) subset(x, \n",
    "#                             !is.na(Beds) # filter out any rows with missing values in the specified column in parenthesis\n",
    "#                             & Gender == \"Male\") # only include rows where the specified condition is met\n",
    "#                             & any other criteria for filtering\n",
    "# df <- read_csv_chunked(\"http://www.edsc-esdc.gc.ca/ouvert-open/hps/CDHPD-OpenDataNSPL-DataSet-20170804-ENFR.csv\", \n",
    "#                            DataFrameCallback$new(f), \n",
    "#                            chunk_size = 50000, # this is an adequate chunk size\n",
    "#                            # col_names = TRUE # this will keep original column names if you don't provide custom names\n",
    "#                                               # most of the time it's best to rename every column explicitly as shown below\n",
    "#                            col_names = c(\"ShelterType\", # this renames each column in order of the csv file to what you specify\n",
    "#                                          \"ProvinceCode\",\n",
    "#                                          \"City\",\n",
    "#                                          \"TargetPopulation\",\n",
    "#                                          \"Gender\",\n",
    "#                                          \"ShelterName\",\n",
    "#                                          \"Beds\"), # all other columns after this will be dropped if not included        \n",
    "#                            cols_only( # specify which columns with data types you want to include \n",
    "#                                       # to avoid importing unwanted data\n",
    "#                                       # include all columns that you specified above with col_names if you renamed them\n",
    "#                                \"ShelterType\" = col_character(),\n",
    "#                                \"ProvinceCode\" = col_character(),\n",
    "#                                \"City\" = col_character(),\n",
    "#                                \"TargetPopulation\" = col_character(),\n",
    "#                                \"Gender\" = col_character(),\n",
    "#                                \"ShelterName\" = col_character(),\n",
    "#                                \"Beds\" = col_number()),\n",
    "#                            skip = 1, # skip original column headers if you renamed them\n",
    "#                            trim_ws = TRUE) # trim leading and trailing whitespace for each data point\n",
    "# Sys.time() # end time for reading file"
   ]
  },
  {
   "cell_type": "code",
   "execution_count": 42,
   "metadata": {},
   "outputs": [],
   "source": [
    "# Example of how to read csv files quickly with fread while converting all chr variables to factors \n",
    "# need data.table library\n",
    "# Use fread when you are a lazy and know you won't have memory issues loading the entire dataset at once\n",
    "# or when you know you need to keep all information loaded into memory\n",
    "\n",
    "# df <- fread(\"DataFilesAOP/AB_Provincial_Detailed_Crime_Stats_2006-2011-2016.csv\", \n",
    "#            stringsAsFactors = TRUE, header = TRUE)"
   ]
  },
  {
   "cell_type": "code",
   "execution_count": 43,
   "metadata": {},
   "outputs": [],
   "source": [
    "# Example of how to write a dataframe to a csv file\n",
    "\n",
    "# write.csv(df, \n",
    "#           file = \"NS_Crime_Stats_Clean_Extract3.csv\",\n",
    "#           row.names = FALSE) # set row.name to FALSE to not include an index column in the csv output file"
   ]
  },
  {
   "cell_type": "code",
   "execution_count": 44,
   "metadata": {},
   "outputs": [],
   "source": [
    "# Example how to change all of the column names in a dataframe to something friendlier\n",
    "# You want to avoid special characters and spaces in column names to prevent problems with differnt packages and features\n",
    "# Provide new names in a character vector\n",
    "\n",
    "# colnames(df) <- c(\" \", \" \")"
   ]
  },
  {
   "cell_type": "code",
   "execution_count": 45,
   "metadata": {},
   "outputs": [],
   "source": [
    "# Example how to set the number of digits displayed in dataframes\n",
    "\n",
    "# options(digits=15) # set the visible number of digits to 15, useful when displaying GIS coordinates in dataframes\n",
    "# options(\"digits\") # display the max number of digits that appear in cells of a dataframe"
   ]
  },
  {
   "cell_type": "code",
   "execution_count": 46,
   "metadata": {},
   "outputs": [],
   "source": [
    "# Example of how to convert columns to the correct data types and how to delete columns from a dataframe\n",
    "\n",
    "# use as.numeric() and as.factor() where appropriate\n",
    "# df$column_name <- NULL will delete that column from the dataframe"
   ]
  },
  {
   "cell_type": "code",
   "execution_count": 47,
   "metadata": {},
   "outputs": [],
   "source": [
    "# Example of how to recode values of a column for rows meeting a condition\n",
    "\n",
    "# df$LATITUDE[df$GEO == \n",
    "#                          \"Amherst, Nova Scotia, municipal\"] <- 45.8338198\n",
    "# df$LONGITUDE[df$GEO == \n",
    "#                          \"Amherst, Nova Scotia, municipal\"] <- -64.2109455\n",
    "#\n",
    "# df$COUNTY[df$GEO ==\n",
    "#                          \"Amherst, Nova Scotia, municipal\"] <- \"Cumberland\""
   ]
  },
  {
   "cell_type": "code",
   "execution_count": 48,
   "metadata": {},
   "outputs": [],
   "source": [
    "# Example of how to filter a dataframe to rows where a specific string appears anywhere in a specific column\n",
    "# This example filters df to rows where \"MEP\" appears in the \"Contents\" column (need stringr library)\n",
    "\n",
    "# df_MEP <- df %>%\n",
    "#   filter(str_detect(Contents, \"MEP\"))"
   ]
  },
  {
   "cell_type": "code",
   "execution_count": 49,
   "metadata": {},
   "outputs": [],
   "source": [
    "# Example of how to handle dates - converting from timestamp to YYYYMMDD\n",
    "# This example is adequate if you really don't need a date field for arithmetic or plotting with ggplot2\n",
    "\n",
    "# parse out date and time from Timestamp\n",
    "# df <- \n",
    "#   separate(df, Timestamp, # e.g., \"01/01/2017 12:00:00 AM\"\n",
    "#           into = c(\"Date\", \"Time\", \"AMPM\"), sep = \" \")\n",
    "\n",
    "# parse out Month, Day, Year from Date\n",
    "# df <- \n",
    "#  separate(df, Date, \n",
    "#           into = c(\"Month\", \"Day\", \"Year\"), sep = \"/\")\n",
    "\n",
    "# Remove unwanted columns\n",
    "# df$Time <- NULL\n",
    "# df$AMPM <- NULL\n",
    "\n",
    "# unite the columns \"Year\", \"Month\", \"Day\" into a single column for \"YYYYMMDD\"\n",
    "# df <- \n",
    "#  unite_(df, \"YYYYMMDD\", c(\"Year\",\"Month\", \"Day\"), sep = \"\")\n",
    "\n",
    "# sort by date in decreasing order\n",
    "# df <- df[order(df$YYYYMMDD, decreasing = TRUE), ]"
   ]
  },
  {
   "cell_type": "code",
   "execution_count": 50,
   "metadata": {},
   "outputs": [],
   "source": [
    "# Use the lubridate library if arithmetic is important when working with date and time data\n",
    "# In my opinion, the lubridate functions are more complicated than my current needs, so I prefer my approach above\n",
    "# for handling dates/times\n",
    "\n",
    "# https://lubridate.tidyverse.org/\n",
    "# https://rawgit.com/rstudio/cheatsheets/master/lubridate.pdf"
   ]
  },
  {
   "cell_type": "code",
   "execution_count": 51,
   "metadata": {},
   "outputs": [],
   "source": [
    "# Example of how to subset and retain only selected characters from a cell\n",
    "# This is useful if you want to strip out useless characters in a cell given a start and end position to retain\n",
    "# need stringr library\n",
    "\n",
    "# df$gps <- \n",
    "#   str_sub(df$gps, start = 3, end = -2) \n",
    "\n",
    "# this gets rid of the first 3 characters and the last two characters\n",
    "# you can get an accurate count of characters when viewing them with glimpse(df)"
   ]
  },
  {
   "cell_type": "code",
   "execution_count": 52,
   "metadata": {},
   "outputs": [],
   "source": [
    "# Example how to merge two dataframes on common column names\n",
    "# https://stackoverflow.com/questions/1299871/how-to-join-merge-data-frames-inner-outer-left-right\n",
    "\n",
    "# CanadaMap <- merge(CanadaMap, df_Provincial) # join the two dataframes, merge will use the common column name to join with"
   ]
  },
  {
   "cell_type": "code",
   "execution_count": 53,
   "metadata": {},
   "outputs": [],
   "source": [
    "# Example of how to combine two or more dataframes vertically with the same column names\n",
    "\n",
    "# df4 <- rbind(df1, df2, df3)"
   ]
  },
  {
   "cell_type": "code",
   "execution_count": 54,
   "metadata": {},
   "outputs": [],
   "source": [
    "# Example of how to combine two or more dataframes horizontally with the same number of rows but different columns\n",
    "\n",
    "# df4 <- cbind(df1, df2, df3)"
   ]
  },
  {
   "cell_type": "code",
   "execution_count": 55,
   "metadata": {},
   "outputs": [],
   "source": [
    "# Example of how to create a new column that takes on values by performing arithmetic on existing columns \n",
    "# need dplyr and tidyverse library\n",
    "# This example creates a new column that divides one column by another and mutliplies the result by a constant\n",
    "\n",
    "# NSMAP2011 <- NSMAP2011 %>%\n",
    "#   mutate(PropertyCrimeCountyRatePer100K = PropertyCrimeIncidentsPerCounty/CountyPopulation * 100000)"
   ]
  },
  {
   "cell_type": "code",
   "execution_count": 56,
   "metadata": {},
   "outputs": [],
   "source": [
    "# Example of how to order a dataframe by a column in descening order\n",
    "# a \"-\" in front of the column name will sort it in descending (largest to lowest) order\n",
    "\n",
    "# df <- \n",
    "#  df[with(df, order(-Incidents_Total)), ]\n",
    "\n",
    "\n",
    "# adding multiple column names will prioritize ordering in that sequence\n",
    "\n",
    "# df <- \n",
    "#  df[with(df, order(REGION, COUNTY, GEO, Violations, Statistics)), ]\n",
    "\n",
    "#--------------------\n",
    "# Alternatively, you can also use the following:\n",
    "# sort by date in decreasing order\n",
    "# df <- df[order(df$YYYYMMDD, decreasing = TRUE), ]"
   ]
  },
  {
   "cell_type": "code",
   "execution_count": 57,
   "metadata": {},
   "outputs": [],
   "source": [
    "# Before spreading data for tidy format, make sure to remove any special characters beforehand\n",
    "# This ensures that after spreading the data, the column names are all properly formatted\n",
    "# Properly formatted column names will always appear flushed next to the dollar sign when glimpsing a dataframe\n",
    "# If spaces or special characters are present in the column name, they will appear within single quotes after the dollar sign\n",
    "# when glimpsing the dataframe after spreading the data\n",
    "\n",
    "# df_health$Indicators <- gsub(\" \", \"_\", df_health$Indicators)\n",
    "# df_health$Indicators <- gsub(\",\", \"\", df_health$Indicators)\n",
    "# df_health$Indicators <- gsub(\";\", \"\", df_health$Indicators)\n",
    "# df_health$Indicators <- gsub(\"-\", \"_\", df_health$Indicators)\n",
    "# df_health$Indicators <- gsub(\"\\\\(\", \"\", df_health$Indicators) # this removes left parenthesis\n",
    "# df_health$Indicators <- gsub(\"\\\\)\", \"\", df_health$Indicators) # this removes right parenthesis\n",
    "\n",
    "# df_health <- df_health %>%\n",
    "#   spread(Indicators, Value)"
   ]
  },
  {
   "cell_type": "code",
   "execution_count": 58,
   "metadata": {},
   "outputs": [],
   "source": [
    "# Example of how to load a shapefile for mapping \n",
    "# need sf library\n",
    "\n",
    "# NS <- st_read(\"GIS_Nova_Scotia/Counties_GCS.shp\")"
   ]
  },
  {
   "cell_type": "code",
   "execution_count": 59,
   "metadata": {},
   "outputs": [],
   "source": [
    "# Example how to convert a dataframe of lats/longs to a an sf dataframe for points spatial data \n",
    "# need sf library\n",
    "\n",
    "# pts <- st_as_sf(df, coords = c(\"LONGITUDE\", \"LATITUDE\"), crs = 4269) # create sf object called \"pts\" from df\n",
    "# class(pts)\n",
    "# glimpse(pts) # LONGITUDE and LATITUDE columns are replaced with a geometry column for point data"
   ]
  },
  {
   "cell_type": "code",
   "execution_count": 60,
   "metadata": {},
   "outputs": [],
   "source": [
    "# Example how to add custom icons for points spatial data \n",
    "# need sf library and tmap library\n",
    "\n",
    "# Using custom icons for points instead of bubbles\n",
    "\n",
    "# file <- \"DataFilesGeneral/flower_960_720.png\"  \n",
    "# flower_icon <- tmap_icons(file, width = 48, height = 48, keep.asp = TRUE,\n",
    "#   just = c(\"center\", \"center\"), as.local = TRUE)\n",
    "\n",
    "# my_map_2 <- my_map_0 +\n",
    "#   tm_shape(pts) +\n",
    "#   tm_symbols(\"VALUE\", shape = flower_icon, size = .3, alpha = .2, border.alpha = 0) \n",
    "# my_map_2"
   ]
  },
  {
   "cell_type": "markdown",
   "metadata": {},
   "source": [
    "# Appendix 2 - Note regarding preferred way for installing packages"
   ]
  },
  {
   "cell_type": "code",
   "execution_count": 61,
   "metadata": {},
   "outputs": [],
   "source": [
    "# Preferrably, install new packages via Anaconda Prompt > conda install r-package_name\n",
    "# Try to only use library() in notebook instead of install.packages()\n",
    "# this is more reliable than using install.packages(\"package name\") in R script\n",
    "# Anaconda Prompt > conda list shows what packages are installed\n",
    "\n",
    "# However, when the above isn't true for some reason, it is noted below\n",
    "# e.g., tmap must be installed through install.packages(\"tmap\")"
   ]
  }
 ],
 "metadata": {
  "kernelspec": {
   "display_name": "R",
   "language": "R",
   "name": "ir"
  },
  "language_info": {
   "codemirror_mode": "r",
   "file_extension": ".r",
   "mimetype": "text/x-r-source",
   "name": "R",
   "pygments_lexer": "r",
   "version": "3.4.3"
  }
 },
 "nbformat": 4,
 "nbformat_minor": 2
}
