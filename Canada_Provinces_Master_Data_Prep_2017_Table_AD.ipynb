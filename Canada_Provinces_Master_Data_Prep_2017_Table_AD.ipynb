{
 "cells": [
  {
   "cell_type": "code",
   "execution_count": 61,
   "metadata": {},
   "outputs": [
    {
     "data": {
      "text/plain": [
       "[1] \"2018-08-14 14:53:02 AST\""
      ]
     },
     "metadata": {},
     "output_type": "display_data"
    }
   ],
   "source": [
    "# Must run this notebook from root directory in Anaconda for relative local file paths to work\n",
    "\n",
    "Sys.time() # script start time"
   ]
  },
  {
   "cell_type": "markdown",
   "metadata": {},
   "source": [
    "# Install and attach packages"
   ]
  },
  {
   "cell_type": "code",
   "execution_count": 62,
   "metadata": {},
   "outputs": [],
   "source": [
    "# See note at the end of this notebook regarding the preferred way of installing packages"
   ]
  },
  {
   "cell_type": "code",
   "execution_count": 63,
   "metadata": {},
   "outputs": [],
   "source": [
    "library(tidyverse)"
   ]
  },
  {
   "cell_type": "code",
   "execution_count": 64,
   "metadata": {},
   "outputs": [],
   "source": [
    "library(data.table)"
   ]
  },
  {
   "cell_type": "code",
   "execution_count": 65,
   "metadata": {},
   "outputs": [],
   "source": [
    "library(stringr)"
   ]
  },
  {
   "cell_type": "code",
   "execution_count": 66,
   "metadata": {},
   "outputs": [],
   "source": [
    "library(gridExtra)"
   ]
  },
  {
   "cell_type": "code",
   "execution_count": 67,
   "metadata": {},
   "outputs": [],
   "source": [
    "library(sf) # needed for mapping"
   ]
  },
  {
   "cell_type": "code",
   "execution_count": 68,
   "metadata": {},
   "outputs": [],
   "source": [
    "# install.packages(\"tmap\")\n",
    "# this for some reason can only be installed via install.packages(), but only has to be done once in your environment"
   ]
  },
  {
   "cell_type": "code",
   "execution_count": 69,
   "metadata": {},
   "outputs": [],
   "source": [
    "library(tmap) # needed for mapping"
   ]
  },
  {
   "cell_type": "code",
   "execution_count": 70,
   "metadata": {},
   "outputs": [],
   "source": [
    "# Set default options to display more digits, useful for gps coordinates"
   ]
  },
  {
   "cell_type": "code",
   "execution_count": 71,
   "metadata": {},
   "outputs": [],
   "source": [
    "options(digits=15) # set the visible number of digits to 15, useful when displaying GIS coordinates in dataframes"
   ]
  },
  {
   "cell_type": "code",
   "execution_count": 72,
   "metadata": {},
   "outputs": [
    {
     "data": {
      "text/html": [
       "<strong>$digits</strong> = 15"
      ],
      "text/latex": [
       "\\textbf{\\$digits} = 15"
      ],
      "text/markdown": [
       "**$digits** = 15"
      ],
      "text/plain": [
       "$digits\n",
       "[1] 15\n"
      ]
     },
     "metadata": {},
     "output_type": "display_data"
    }
   ],
   "source": [
    "options(\"digits\") # display the max number of digits that appear in cells of a dataframe"
   ]
  },
  {
   "cell_type": "code",
   "execution_count": 73,
   "metadata": {},
   "outputs": [
    {
     "data": {
      "text/plain": [
       "R version 3.4.3 (2017-11-30)\n",
       "Platform: x86_64-w64-mingw32/x64 (64-bit)\n",
       "Running under: Windows 10 x64 (build 17134)\n",
       "\n",
       "Matrix products: default\n",
       "\n",
       "locale:\n",
       "[1] LC_COLLATE=English_Canada.1252  LC_CTYPE=English_Canada.1252   \n",
       "[3] LC_MONETARY=English_Canada.1252 LC_NUMERIC=C                   \n",
       "[5] LC_TIME=English_Canada.1252    \n",
       "\n",
       "attached base packages:\n",
       "[1] stats     graphics  grDevices utils     datasets  methods   base     \n",
       "\n",
       "other attached packages:\n",
       " [1] bindrcpp_0.2         tmap_1.10            sf_0.5-4            \n",
       " [4] gridExtra_2.2.1      data.table_1.10.4-3  forcats_0.2.0       \n",
       " [7] stringr_1.2.0        dplyr_0.7.4          purrr_0.2.4         \n",
       "[10] readr_1.1.1          tidyr_0.7.2          tibble_1.4.1        \n",
       "[13] ggplot2_2.2.1        tidyverse_1.2.1      RevoUtils_10.0.8    \n",
       "[16] RevoUtilsMath_10.0.1\n",
       "\n",
       "loaded via a namespace (and not attached):\n",
       "  [1] colorspace_1.3-2   deldir_0.1-14      class_7.3-14      \n",
       "  [4] gdalUtils_2.0.1.7  leaflet_1.1.0      rgdal_1.2-8       \n",
       "  [7] satellite_1.0.0    IRdisplay_0.4.4    base64enc_0.1-3   \n",
       " [10] dichromat_2.0-0    rstudioapi_0.7     lubridate_1.7.1   \n",
       " [13] xml2_1.1.1         R.methodsS3_1.7.1  codetools_0.2-15  \n",
       " [16] splines_3.4.3      mnormt_1.5-5       geojsonlint_0.2.0 \n",
       " [19] IRkernel_0.8.11    jsonlite_1.5       tmaptools_1.2-1   \n",
       " [22] broom_0.4.3        png_0.1-7          R.oo_1.21.0       \n",
       " [25] rgeos_0.3-23       shiny_1.0.5        compiler_3.4.3    \n",
       " [28] httr_1.3.1         mapview_2.1.4      assertthat_0.2.0  \n",
       " [31] Matrix_1.2-12      lazyeval_0.2.1     cli_1.0.0         \n",
       " [34] htmltools_0.3.6    tools_3.4.3        coda_0.19-1       \n",
       " [37] gtable_0.2.0       glue_1.2.0         reshape2_1.4.3    \n",
       " [40] gmodels_2.16.2     V8_1.5             Rcpp_0.12.14      \n",
       " [43] cellranger_1.1.0   raster_2.5-8       spdep_0.6-13      \n",
       " [46] gdata_2.18.0       nlme_3.1-131       udunits2_0.13     \n",
       " [49] iterators_1.0.9    crosstalk_1.0.0    psych_1.7.5       \n",
       " [52] rvest_0.3.2        mime_0.5           gtools_3.5.0      \n",
       " [55] XML_3.98-1.9       LearnBayes_2.15    MASS_7.3-47       \n",
       " [58] scales_0.5.0       hms_0.4.0          parallel_3.4.3    \n",
       " [61] expm_0.999-2       RColorBrewer_1.1-2 curl_3.1          \n",
       " [64] geosphere_1.5-5    stringi_1.1.6      jsonvalidate_1.0.0\n",
       " [67] foreach_1.4.5      e1071_1.6-8        boot_1.3-20       \n",
       " [70] repr_0.12.0        rlang_0.1.6        pkgconfig_2.0.1   \n",
       " [73] bitops_1.0-6       evaluate_0.10.1    lattice_0.20-35   \n",
       " [76] bindr_0.1          htmlwidgets_0.9    tidyselect_0.2.3  \n",
       " [79] osmar_1.1-7        plyr_1.8.4         magrittr_1.5      \n",
       " [82] R6_2.2.2           pbdZMQ_0.2-6       DBI_0.7           \n",
       " [85] pillar_1.0.1       haven_1.1.0        foreign_0.8-69    \n",
       " [88] units_0.4-6        RCurl_1.95-4.8     sp_1.2-5          \n",
       " [91] modelr_0.1.1       crayon_1.3.4       rmapshaper_0.3.0  \n",
       " [94] uuid_0.1-2         KernSmooth_2.23-15 grid_3.4.3        \n",
       " [97] readxl_1.0.0       webshot_0.4.1      digest_0.6.13     \n",
       "[100] classInt_0.1-24    xtable_1.8-2       httpuv_1.3.5      \n",
       "[103] R.utils_2.5.0      stats4_3.4.3       munsell_0.4.3     \n",
       "[106] viridisLite_0.2.0 "
      ]
     },
     "metadata": {},
     "output_type": "display_data"
    }
   ],
   "source": [
    "sessionInfo()"
   ]
  },
  {
   "cell_type": "markdown",
   "metadata": {},
   "source": [
    "# Main Script Begins Here"
   ]
  },
  {
   "cell_type": "markdown",
   "metadata": {},
   "source": [
    "## 30. Percent of Females 12 and Over Who Smoke Daily, 2017"
   ]
  },
  {
   "cell_type": "code",
   "execution_count": 74,
   "metadata": {},
   "outputs": [
    {
     "data": {
      "text/plain": [
       "[1] \"2018-08-14 14:53:02 AST\""
      ]
     },
     "metadata": {},
     "output_type": "display_data"
    }
   ],
   "source": [
    "Sys.time() # script start time from body"
   ]
  },
  {
   "cell_type": "code",
   "execution_count": 75,
   "metadata": {},
   "outputs": [],
   "source": [
    "# Import and clean data before analysis"
   ]
  },
  {
   "cell_type": "code",
   "execution_count": 76,
   "metadata": {},
   "outputs": [
    {
     "data": {
      "text/plain": [
       "[1] \"2018-08-14 14:53:02 AST\""
      ]
     },
     "metadata": {},
     "output_type": "display_data"
    },
    {
     "data": {
      "text/plain": [
       "[1] \"2018-08-14 14:53:03 AST\""
      ]
     },
     "metadata": {},
     "output_type": "display_data"
    }
   ],
   "source": [
    "# Import dataset\n",
    "# Canadian health characteristics, annual estimates\n",
    "# Source: https://www150.statcan.gc.ca/t1/tbl1/en/tv.action?pid=1310009601\n",
    "\n",
    "\n",
    "\n",
    "Sys.time() # start time for reading file\n",
    "f <- function(x, pos) subset(x, \n",
    "                            !is.na(VALUE) # filter out any rows with missing values in the specified column in parenthesis\n",
    "                            & REF_DATE == 2017 # only include rows where the specified condition is met\n",
    "                            & Characteristics == \"Percent\")\n",
    "df <- read_csv_chunked(\"DataFilesMentalHealth/Canadian_health_characteristics_annual_estimates_2015_to_2017.csv\", \n",
    "                           DataFrameCallback$new(f), \n",
    "                           chunk_size = 50000, # this is an adequate chunk size\n",
    "                           col_names = TRUE,\n",
    "                           cols_only( # specify which columns with data types you want to include \n",
    "                                      # to avoid importing unwanted data\n",
    "                                      # include all columns that you specified above with col_names if you renamed them\n",
    "                               \"REF_DATE\" = col_number(),\n",
    "                               \"GEO\" = col_character(),\n",
    "                               \"Age group\" = col_character(),\n",
    "                               \"Sex\" = col_character(),\n",
    "                               \"Indicators\" = col_character(),\n",
    "                               \"Characteristics\" = col_character(),\n",
    "                               \"VALUE\" = col_number()),\n",
    "                           trim_ws = TRUE) # trim leading and trailing whitespace for each data point\n",
    "Sys.time() # end time for reading file"
   ]
  },
  {
   "cell_type": "code",
   "execution_count": 77,
   "metadata": {},
   "outputs": [
    {
     "name": "stdout",
     "output_type": "stream",
     "text": [
      "Observations: 4,045\n",
      "Variables: 7\n",
      "$ REF_DATE        <dbl> 2017, 2017, 2017, 2017, 2017, 2017, 2017, 2017, 201...\n",
      "$ GEO             <chr> \"Canada (excluding territories)\", \"Canada (excludin...\n",
      "$ `Age group`     <chr> \"Total, 12 years and over\", \"Total, 12 years and ov...\n",
      "$ Sex             <chr> \"Both sexes\", \"Both sexes\", \"Both sexes\", \"Both sex...\n",
      "$ Indicators      <chr> \"Perceived health, very good or excellent\", \"Percei...\n",
      "$ Characteristics <chr> \"Percent\", \"Percent\", \"Percent\", \"Percent\", \"Percen...\n",
      "$ VALUE           <dbl> 61.0, 11.2, 70.3, 7.0, 21.7, 36.0, 26.9, 27.9, 19.3...\n"
     ]
    }
   ],
   "source": [
    "glimpse(df)"
   ]
  },
  {
   "cell_type": "code",
   "execution_count": 78,
   "metadata": {},
   "outputs": [
    {
     "name": "stdout",
     "output_type": "stream",
     "text": [
      "Observations: 4,045\n",
      "Variables: 7\n",
      "$ Year            <dbl> 2017, 2017, 2017, 2017, 2017, 2017, 2017, 2017, 201...\n",
      "$ PRENAME         <chr> \"Canada (excluding territories)\", \"Canada (excludin...\n",
      "$ Age_Group       <chr> \"Total, 12 years and over\", \"Total, 12 years and ov...\n",
      "$ Sex             <chr> \"Both sexes\", \"Both sexes\", \"Both sexes\", \"Both sex...\n",
      "$ Indicators      <chr> \"Perceived health, very good or excellent\", \"Percei...\n",
      "$ Characteristics <chr> \"Percent\", \"Percent\", \"Percent\", \"Percent\", \"Percen...\n",
      "$ Value           <dbl> 61.0, 11.2, 70.3, 7.0, 21.7, 36.0, 26.9, 27.9, 19.3...\n"
     ]
    },
    {
     "data": {
      "text/html": [
       "<table>\n",
       "<thead><tr><th scope=col>Year</th><th scope=col>PRENAME</th><th scope=col>Age_Group</th><th scope=col>Sex</th><th scope=col>Indicators</th><th scope=col>Characteristics</th><th scope=col>Value</th></tr></thead>\n",
       "<tbody>\n",
       "\t<tr><td>2017                                                                          </td><td>Canada (excluding territories)                                                </td><td>Total, 12 years and over                                                      </td><td>Both sexes                                                                    </td><td>Perceived health, very good or excellent                                      </td><td>Percent                                                                       </td><td>61.0                                                                          </td></tr>\n",
       "\t<tr><td>2017                                                                          </td><td>Canada (excluding territories)                                                </td><td>Total, 12 years and over                                                      </td><td>Both sexes                                                                    </td><td>Perceived health, fair or poor                                                </td><td>Percent                                                                       </td><td>11.2                                                                          </td></tr>\n",
       "\t<tr><td>2017                                                                          </td><td>Canada (excluding territories)                                                </td><td>Total, 12 years and over                                                      </td><td>Both sexes                                                                    </td><td>Perceived mental health, very good or excellent                               </td><td>Percent                                                                       </td><td>70.3                                                                          </td></tr>\n",
       "\t<tr><td>2017                                                                          </td><td>Canada (excluding territories)                                                </td><td>Total, 12 years and over                                                      </td><td>Both sexes                                                                    </td><td>Perceived mental health, fair or poor                                         </td><td>Percent                                                                       </td><td> 7.0                                                                          </td></tr>\n",
       "\t<tr><td>2017                                                                          </td><td>Canada (excluding territories)                                                </td><td>Total, 12 years and over                                                      </td><td>Both sexes                                                                    </td><td>Perceived life stress                                                         </td><td>Percent                                                                       </td><td>21.7                                                                          </td></tr>\n",
       "\t<tr><td>2017                                                                          </td><td>Canada (excluding territories)                                                </td><td>Total, 12 years and over                                                      </td><td>Both sexes                                                                    </td><td>Body mass index, adjusted self-reported, adult (18 years and over), overweight</td><td>Percent                                                                       </td><td>36.0                                                                          </td></tr>\n",
       "</tbody>\n",
       "</table>\n"
      ],
      "text/latex": [
       "\\begin{tabular}{r|lllllll}\n",
       " Year & PRENAME & Age\\_Group & Sex & Indicators & Characteristics & Value\\\\\n",
       "\\hline\n",
       "\t 2017                                                                           & Canada (excluding territories)                                                 & Total, 12 years and over                                                       & Both sexes                                                                     & Perceived health, very good or excellent                                       & Percent                                                                        & 61.0                                                                          \\\\\n",
       "\t 2017                                                                           & Canada (excluding territories)                                                 & Total, 12 years and over                                                       & Both sexes                                                                     & Perceived health, fair or poor                                                 & Percent                                                                        & 11.2                                                                          \\\\\n",
       "\t 2017                                                                           & Canada (excluding territories)                                                 & Total, 12 years and over                                                       & Both sexes                                                                     & Perceived mental health, very good or excellent                                & Percent                                                                        & 70.3                                                                          \\\\\n",
       "\t 2017                                                                           & Canada (excluding territories)                                                 & Total, 12 years and over                                                       & Both sexes                                                                     & Perceived mental health, fair or poor                                          & Percent                                                                        &  7.0                                                                          \\\\\n",
       "\t 2017                                                                           & Canada (excluding territories)                                                 & Total, 12 years and over                                                       & Both sexes                                                                     & Perceived life stress                                                          & Percent                                                                        & 21.7                                                                          \\\\\n",
       "\t 2017                                                                           & Canada (excluding territories)                                                 & Total, 12 years and over                                                       & Both sexes                                                                     & Body mass index, adjusted self-reported, adult (18 years and over), overweight & Percent                                                                        & 36.0                                                                          \\\\\n",
       "\\end{tabular}\n"
      ],
      "text/markdown": [
       "\n",
       "Year | PRENAME | Age_Group | Sex | Indicators | Characteristics | Value | \n",
       "|---|---|---|---|---|---|\n",
       "| 2017                                                                           | Canada (excluding territories)                                                 | Total, 12 years and over                                                       | Both sexes                                                                     | Perceived health, very good or excellent                                       | Percent                                                                        | 61.0                                                                           | \n",
       "| 2017                                                                           | Canada (excluding territories)                                                 | Total, 12 years and over                                                       | Both sexes                                                                     | Perceived health, fair or poor                                                 | Percent                                                                        | 11.2                                                                           | \n",
       "| 2017                                                                           | Canada (excluding territories)                                                 | Total, 12 years and over                                                       | Both sexes                                                                     | Perceived mental health, very good or excellent                                | Percent                                                                        | 70.3                                                                           | \n",
       "| 2017                                                                           | Canada (excluding territories)                                                 | Total, 12 years and over                                                       | Both sexes                                                                     | Perceived mental health, fair or poor                                          | Percent                                                                        |  7.0                                                                           | \n",
       "| 2017                                                                           | Canada (excluding territories)                                                 | Total, 12 years and over                                                       | Both sexes                                                                     | Perceived life stress                                                          | Percent                                                                        | 21.7                                                                           | \n",
       "| 2017                                                                           | Canada (excluding territories)                                                 | Total, 12 years and over                                                       | Both sexes                                                                     | Body mass index, adjusted self-reported, adult (18 years and over), overweight | Percent                                                                        | 36.0                                                                           | \n",
       "\n",
       "\n"
      ],
      "text/plain": [
       "  Year PRENAME                        Age_Group                Sex       \n",
       "1 2017 Canada (excluding territories) Total, 12 years and over Both sexes\n",
       "2 2017 Canada (excluding territories) Total, 12 years and over Both sexes\n",
       "3 2017 Canada (excluding territories) Total, 12 years and over Both sexes\n",
       "4 2017 Canada (excluding territories) Total, 12 years and over Both sexes\n",
       "5 2017 Canada (excluding territories) Total, 12 years and over Both sexes\n",
       "6 2017 Canada (excluding territories) Total, 12 years and over Both sexes\n",
       "  Indicators                                                                    \n",
       "1 Perceived health, very good or excellent                                      \n",
       "2 Perceived health, fair or poor                                                \n",
       "3 Perceived mental health, very good or excellent                               \n",
       "4 Perceived mental health, fair or poor                                         \n",
       "5 Perceived life stress                                                         \n",
       "6 Body mass index, adjusted self-reported, adult (18 years and over), overweight\n",
       "  Characteristics Value\n",
       "1 Percent         61.0 \n",
       "2 Percent         11.2 \n",
       "3 Percent         70.3 \n",
       "4 Percent          7.0 \n",
       "5 Percent         21.7 \n",
       "6 Percent         36.0 "
      ]
     },
     "metadata": {},
     "output_type": "display_data"
    }
   ],
   "source": [
    "colnames(df) <- c(\"Year\", \"PRENAME\", \"Age_Group\", \"Sex\", \"Indicators\", \"Characteristics\", \"Value\")\n",
    "glimpse(df)\n",
    "head(df)"
   ]
  },
  {
   "cell_type": "code",
   "execution_count": 79,
   "metadata": {},
   "outputs": [
    {
     "data": {
      "text/html": [
       "<table>\n",
       "<thead><tr><th scope=col>Year</th><th scope=col>PRENAME</th><th scope=col>Age_Group</th><th scope=col>Sex</th><th scope=col>Indicators</th><th scope=col>Value</th></tr></thead>\n",
       "<tbody>\n",
       "\t<tr><td>2017                                                                          </td><td>Canada (excluding territories)                                                </td><td>Total, 12 years and over                                                      </td><td>Both sexes                                                                    </td><td>Perceived health, very good or excellent                                      </td><td>61.0                                                                          </td></tr>\n",
       "\t<tr><td>2017                                                                          </td><td>Canada (excluding territories)                                                </td><td>Total, 12 years and over                                                      </td><td>Both sexes                                                                    </td><td>Perceived health, fair or poor                                                </td><td>11.2                                                                          </td></tr>\n",
       "\t<tr><td>2017                                                                          </td><td>Canada (excluding territories)                                                </td><td>Total, 12 years and over                                                      </td><td>Both sexes                                                                    </td><td>Perceived mental health, very good or excellent                               </td><td>70.3                                                                          </td></tr>\n",
       "\t<tr><td>2017                                                                          </td><td>Canada (excluding territories)                                                </td><td>Total, 12 years and over                                                      </td><td>Both sexes                                                                    </td><td>Perceived mental health, fair or poor                                         </td><td> 7.0                                                                          </td></tr>\n",
       "\t<tr><td>2017                                                                          </td><td>Canada (excluding territories)                                                </td><td>Total, 12 years and over                                                      </td><td>Both sexes                                                                    </td><td>Perceived life stress                                                         </td><td>21.7                                                                          </td></tr>\n",
       "\t<tr><td>2017                                                                          </td><td>Canada (excluding territories)                                                </td><td>Total, 12 years and over                                                      </td><td>Both sexes                                                                    </td><td>Body mass index, adjusted self-reported, adult (18 years and over), overweight</td><td>36.0                                                                          </td></tr>\n",
       "</tbody>\n",
       "</table>\n"
      ],
      "text/latex": [
       "\\begin{tabular}{r|llllll}\n",
       " Year & PRENAME & Age\\_Group & Sex & Indicators & Value\\\\\n",
       "\\hline\n",
       "\t 2017                                                                           & Canada (excluding territories)                                                 & Total, 12 years and over                                                       & Both sexes                                                                     & Perceived health, very good or excellent                                       & 61.0                                                                          \\\\\n",
       "\t 2017                                                                           & Canada (excluding territories)                                                 & Total, 12 years and over                                                       & Both sexes                                                                     & Perceived health, fair or poor                                                 & 11.2                                                                          \\\\\n",
       "\t 2017                                                                           & Canada (excluding territories)                                                 & Total, 12 years and over                                                       & Both sexes                                                                     & Perceived mental health, very good or excellent                                & 70.3                                                                          \\\\\n",
       "\t 2017                                                                           & Canada (excluding territories)                                                 & Total, 12 years and over                                                       & Both sexes                                                                     & Perceived mental health, fair or poor                                          &  7.0                                                                          \\\\\n",
       "\t 2017                                                                           & Canada (excluding territories)                                                 & Total, 12 years and over                                                       & Both sexes                                                                     & Perceived life stress                                                          & 21.7                                                                          \\\\\n",
       "\t 2017                                                                           & Canada (excluding territories)                                                 & Total, 12 years and over                                                       & Both sexes                                                                     & Body mass index, adjusted self-reported, adult (18 years and over), overweight & 36.0                                                                          \\\\\n",
       "\\end{tabular}\n"
      ],
      "text/markdown": [
       "\n",
       "Year | PRENAME | Age_Group | Sex | Indicators | Value | \n",
       "|---|---|---|---|---|---|\n",
       "| 2017                                                                           | Canada (excluding territories)                                                 | Total, 12 years and over                                                       | Both sexes                                                                     | Perceived health, very good or excellent                                       | 61.0                                                                           | \n",
       "| 2017                                                                           | Canada (excluding territories)                                                 | Total, 12 years and over                                                       | Both sexes                                                                     | Perceived health, fair or poor                                                 | 11.2                                                                           | \n",
       "| 2017                                                                           | Canada (excluding territories)                                                 | Total, 12 years and over                                                       | Both sexes                                                                     | Perceived mental health, very good or excellent                                | 70.3                                                                           | \n",
       "| 2017                                                                           | Canada (excluding territories)                                                 | Total, 12 years and over                                                       | Both sexes                                                                     | Perceived mental health, fair or poor                                          |  7.0                                                                           | \n",
       "| 2017                                                                           | Canada (excluding territories)                                                 | Total, 12 years and over                                                       | Both sexes                                                                     | Perceived life stress                                                          | 21.7                                                                           | \n",
       "| 2017                                                                           | Canada (excluding territories)                                                 | Total, 12 years and over                                                       | Both sexes                                                                     | Body mass index, adjusted self-reported, adult (18 years and over), overweight | 36.0                                                                           | \n",
       "\n",
       "\n"
      ],
      "text/plain": [
       "  Year PRENAME                        Age_Group                Sex       \n",
       "1 2017 Canada (excluding territories) Total, 12 years and over Both sexes\n",
       "2 2017 Canada (excluding territories) Total, 12 years and over Both sexes\n",
       "3 2017 Canada (excluding territories) Total, 12 years and over Both sexes\n",
       "4 2017 Canada (excluding territories) Total, 12 years and over Both sexes\n",
       "5 2017 Canada (excluding territories) Total, 12 years and over Both sexes\n",
       "6 2017 Canada (excluding territories) Total, 12 years and over Both sexes\n",
       "  Indicators                                                                    \n",
       "1 Perceived health, very good or excellent                                      \n",
       "2 Perceived health, fair or poor                                                \n",
       "3 Perceived mental health, very good or excellent                               \n",
       "4 Perceived mental health, fair or poor                                         \n",
       "5 Perceived life stress                                                         \n",
       "6 Body mass index, adjusted self-reported, adult (18 years and over), overweight\n",
       "  Value\n",
       "1 61.0 \n",
       "2 11.2 \n",
       "3 70.3 \n",
       "4  7.0 \n",
       "5 21.7 \n",
       "6 36.0 "
      ]
     },
     "metadata": {},
     "output_type": "display_data"
    }
   ],
   "source": [
    "df$Characteristics <- NULL # drop this column -- we are going to spread Indicators across Value for tidy data format\n",
    "head(df)"
   ]
  },
  {
   "cell_type": "code",
   "execution_count": 80,
   "metadata": {},
   "outputs": [],
   "source": [
    "# Before spreading data for tidy format, make sure to remove any special characters beforehand\n",
    "# This ensures that after spreading the data, the column names are all properly formatted\n",
    "# Properly formated column names will always appear flushed next to the dollar sign when glimpsing a dataframe\n",
    "# If spaces or special characters are present in the column name, they will appear within single quotes after the dollar sign\n",
    "# when glimpsing the dataframe after spreading the data\n",
    "\n",
    "df$Indicators <- gsub(\" \", \"_\", df$Indicators)\n",
    "df$Indicators <- gsub(\",\", \"\", df$Indicators)\n",
    "df$Indicators <- gsub(\";\", \"\", df$Indicators)\n",
    "df$Indicators <- gsub(\"-\", \"_\", df$Indicators)\n",
    "df$Indicators <- gsub(\"\\\\(\", \"\", df$Indicators) # this removes left parenthesis\n",
    "df$Indicators <- gsub(\"\\\\)\", \"\", df$Indicators) # this removes right parenthesis\n",
    "\n",
    "df <- df %>%\n",
    "  spread(Indicators, Value)"
   ]
  },
  {
   "cell_type": "code",
   "execution_count": 81,
   "metadata": {},
   "outputs": [
    {
     "name": "stdout",
     "output_type": "stream",
     "text": [
      "Observations: 198\n",
      "Variables: 30\n",
      "$ Year                                                                                <dbl> ...\n",
      "$ PRENAME                                                                             <chr> ...\n",
      "$ Age_Group                                                                           <chr> ...\n",
      "$ Sex                                                                                 <chr> ...\n",
      "$ Arthritis_15_years_and_over                                                         <dbl> ...\n",
      "$ Asthma                                                                              <dbl> ...\n",
      "$ Body_mass_index_adjusted_self_reported_adult_18_years_and_over_obese                <dbl> ...\n",
      "$ Body_mass_index_adjusted_self_reported_adult_18_years_and_over_overweight           <dbl> ...\n",
      "$ Body_mass_index_self_reported_youth_12_to_17_years_old_overweight_or_obese          <dbl> ...\n",
      "$ Breast_milk_feeding_initiation                                                      <dbl> ...\n",
      "$ Chronic_obstructive_pulmonary_disease_COPD_35_years_and_over                        <dbl> ...\n",
      "$ Current_smoker_daily                                                                <dbl> ...\n",
      "$ Current_smoker_daily_or_occasional                                                  <dbl> ...\n",
      "$ Diabetes                                                                            <dbl> ...\n",
      "$ Exclusive_breastfeeding_at_least_6_months                                           <dbl> ...\n",
      "$ Fruit_and_vegetable_consumption_5_times_or_more_per_day                             <dbl> ...\n",
      "$ Has_a_regular_healthcare_provider                                                   <dbl> ...\n",
      "$ Heavy_drinking                                                                      <dbl> ...\n",
      "$ High_blood_pressure                                                                 <dbl> ...\n",
      "$ Influenza_immunization_in_the_past_12_months                                        <dbl> ...\n",
      "$ Life_satisfaction_satisfied_or_very_satisfied                                       <dbl> ...\n",
      "$ Mood_disorder                                                                       <dbl> ...\n",
      "$ Perceived_health_fair_or_poor                                                       <dbl> ...\n",
      "$ Perceived_health_very_good_or_excellent                                             <dbl> ...\n",
      "$ Perceived_life_stress                                                               <dbl> ...\n",
      "$ Perceived_mental_health_fair_or_poor                                                <dbl> ...\n",
      "$ Perceived_mental_health_very_good_or_excellent                                      <dbl> ...\n",
      "$ Self_reported_physical_activity_150_minutes_per_week_adult_18_years_and_over        <dbl> ...\n",
      "$ Self_reported_physical_activity_average_60_minutes_per_day_youth_12_to_17_years_old <dbl> ...\n",
      "$ Sense_of_belonging_to_local_community_somewhat_strong_or_very_strong                <dbl> ...\n"
     ]
    },
    {
     "data": {
      "text/html": [
       "<table>\n",
       "<thead><tr><th scope=col>Year</th><th scope=col>PRENAME</th><th scope=col>Age_Group</th><th scope=col>Sex</th><th scope=col>Arthritis_15_years_and_over</th><th scope=col>Asthma</th><th scope=col>Body_mass_index_adjusted_self_reported_adult_18_years_and_over_obese</th><th scope=col>Body_mass_index_adjusted_self_reported_adult_18_years_and_over_overweight</th><th scope=col>Body_mass_index_self_reported_youth_12_to_17_years_old_overweight_or_obese</th><th scope=col>Breast_milk_feeding_initiation</th><th scope=col>...</th><th scope=col>Life_satisfaction_satisfied_or_very_satisfied</th><th scope=col>Mood_disorder</th><th scope=col>Perceived_health_fair_or_poor</th><th scope=col>Perceived_health_very_good_or_excellent</th><th scope=col>Perceived_life_stress</th><th scope=col>Perceived_mental_health_fair_or_poor</th><th scope=col>Perceived_mental_health_very_good_or_excellent</th><th scope=col>Self_reported_physical_activity_150_minutes_per_week_adult_18_years_and_over</th><th scope=col>Self_reported_physical_activity_average_60_minutes_per_day_youth_12_to_17_years_old</th><th scope=col>Sense_of_belonging_to_local_community_somewhat_strong_or_very_strong</th></tr></thead>\n",
       "<tbody>\n",
       "\t<tr><td>2017          </td><td>Alberta       </td><td>12 to 17 years</td><td>Both sexes    </td><td> NA           </td><td>11.4          </td><td>  NA          </td><td>  NA          </td><td>26.0          </td><td>NA            </td><td>...           </td><td>98.7          </td><td> 6.9          </td><td>3.1           </td><td>78.7          </td><td> 9.6          </td><td> 5.7          </td><td>77.4          </td><td>  NA          </td><td>67.8          </td><td>88.3          </td></tr>\n",
       "\t<tr><td>2017          </td><td>Alberta       </td><td>12 to 17 years</td><td>Females       </td><td> NA           </td><td> 9.8          </td><td>  NA          </td><td>  NA          </td><td>19.7          </td><td>NA            </td><td>...           </td><td>99.2          </td><td>11.8          </td><td>3.2           </td><td>79.6          </td><td>11.9          </td><td> 7.8          </td><td>73.2          </td><td>  NA          </td><td>65.6          </td><td>92.8          </td></tr>\n",
       "\t<tr><td>2017          </td><td>Alberta       </td><td>12 to 17 years</td><td>Males         </td><td> NA           </td><td>13.0          </td><td>  NA          </td><td>  NA          </td><td>32.1          </td><td>NA            </td><td>...           </td><td>98.3          </td><td>  NA          </td><td> NA           </td><td>77.8          </td><td> 7.3          </td><td>  NA          </td><td>81.7          </td><td>  NA          </td><td>70.1          </td><td>84.0          </td></tr>\n",
       "\t<tr><td>2017          </td><td>Alberta       </td><td>18 to 34 years</td><td>Both sexes    </td><td>2.4           </td><td> 9.6          </td><td>20.1          </td><td>27.8          </td><td>  NA          </td><td>95            </td><td>...           </td><td>93.9          </td><td>10.6          </td><td>6.3           </td><td>69.2          </td><td>20.4          </td><td> 9.1          </td><td>65.4          </td><td>68.9          </td><td>  NA          </td><td>62.8          </td></tr>\n",
       "\t<tr><td>2017          </td><td>Alberta       </td><td>18 to 34 years</td><td>Females       </td><td>2.7           </td><td> 9.7          </td><td>16.9          </td><td>23.2          </td><td>  NA          </td><td>95            </td><td>...           </td><td>94.7          </td><td>13.8          </td><td>6.7           </td><td>68.5          </td><td>23.4          </td><td>10.1          </td><td>62.4          </td><td>65.4          </td><td>  NA          </td><td>64.9          </td></tr>\n",
       "\t<tr><td>2017          </td><td>Alberta       </td><td>18 to 34 years</td><td>Males         </td><td>2.1           </td><td> 9.4          </td><td>23.0          </td><td>31.9          </td><td>  NA          </td><td>NA            </td><td>...           </td><td>93.2          </td><td> 7.5          </td><td>5.9           </td><td>69.7          </td><td>17.5          </td><td> 8.0          </td><td>68.2          </td><td>72.3          </td><td>  NA          </td><td>60.8          </td></tr>\n",
       "</tbody>\n",
       "</table>\n"
      ],
      "text/latex": [
       "\\begin{tabular}{r|llllllllllllllllllllllllllllll}\n",
       " Year & PRENAME & Age\\_Group & Sex & Arthritis\\_15\\_years\\_and\\_over & Asthma & Body\\_mass\\_index\\_adjusted\\_self\\_reported\\_adult\\_18\\_years\\_and\\_over\\_obese & Body\\_mass\\_index\\_adjusted\\_self\\_reported\\_adult\\_18\\_years\\_and\\_over\\_overweight & Body\\_mass\\_index\\_self\\_reported\\_youth\\_12\\_to\\_17\\_years\\_old\\_overweight\\_or\\_obese & Breast\\_milk\\_feeding\\_initiation & ... & Life\\_satisfaction\\_satisfied\\_or\\_very\\_satisfied & Mood\\_disorder & Perceived\\_health\\_fair\\_or\\_poor & Perceived\\_health\\_very\\_good\\_or\\_excellent & Perceived\\_life\\_stress & Perceived\\_mental\\_health\\_fair\\_or\\_poor & Perceived\\_mental\\_health\\_very\\_good\\_or\\_excellent & Self\\_reported\\_physical\\_activity\\_150\\_minutes\\_per\\_week\\_adult\\_18\\_years\\_and\\_over & Self\\_reported\\_physical\\_activity\\_average\\_60\\_minutes\\_per\\_day\\_youth\\_12\\_to\\_17\\_years\\_old & Sense\\_of\\_belonging\\_to\\_local\\_community\\_somewhat\\_strong\\_or\\_very\\_strong\\\\\n",
       "\\hline\n",
       "\t 2017           & Alberta        & 12 to 17 years & Both sexes     &  NA            & 11.4           &   NA           &   NA           & 26.0           & NA             & ...            & 98.7           &  6.9           & 3.1            & 78.7           &  9.6           &  5.7           & 77.4           &   NA           & 67.8           & 88.3          \\\\\n",
       "\t 2017           & Alberta        & 12 to 17 years & Females        &  NA            &  9.8           &   NA           &   NA           & 19.7           & NA             & ...            & 99.2           & 11.8           & 3.2            & 79.6           & 11.9           &  7.8           & 73.2           &   NA           & 65.6           & 92.8          \\\\\n",
       "\t 2017           & Alberta        & 12 to 17 years & Males          &  NA            & 13.0           &   NA           &   NA           & 32.1           & NA             & ...            & 98.3           &   NA           &  NA            & 77.8           &  7.3           &   NA           & 81.7           &   NA           & 70.1           & 84.0          \\\\\n",
       "\t 2017           & Alberta        & 18 to 34 years & Both sexes     & 2.4            &  9.6           & 20.1           & 27.8           &   NA           & 95             & ...            & 93.9           & 10.6           & 6.3            & 69.2           & 20.4           &  9.1           & 65.4           & 68.9           &   NA           & 62.8          \\\\\n",
       "\t 2017           & Alberta        & 18 to 34 years & Females        & 2.7            &  9.7           & 16.9           & 23.2           &   NA           & 95             & ...            & 94.7           & 13.8           & 6.7            & 68.5           & 23.4           & 10.1           & 62.4           & 65.4           &   NA           & 64.9          \\\\\n",
       "\t 2017           & Alberta        & 18 to 34 years & Males          & 2.1            &  9.4           & 23.0           & 31.9           &   NA           & NA             & ...            & 93.2           &  7.5           & 5.9            & 69.7           & 17.5           &  8.0           & 68.2           & 72.3           &   NA           & 60.8          \\\\\n",
       "\\end{tabular}\n"
      ],
      "text/markdown": [
       "\n",
       "Year | PRENAME | Age_Group | Sex | Arthritis_15_years_and_over | Asthma | Body_mass_index_adjusted_self_reported_adult_18_years_and_over_obese | Body_mass_index_adjusted_self_reported_adult_18_years_and_over_overweight | Body_mass_index_self_reported_youth_12_to_17_years_old_overweight_or_obese | Breast_milk_feeding_initiation | ... | Life_satisfaction_satisfied_or_very_satisfied | Mood_disorder | Perceived_health_fair_or_poor | Perceived_health_very_good_or_excellent | Perceived_life_stress | Perceived_mental_health_fair_or_poor | Perceived_mental_health_very_good_or_excellent | Self_reported_physical_activity_150_minutes_per_week_adult_18_years_and_over | Self_reported_physical_activity_average_60_minutes_per_day_youth_12_to_17_years_old | Sense_of_belonging_to_local_community_somewhat_strong_or_very_strong | \n",
       "|---|---|---|---|---|---|\n",
       "| 2017           | Alberta        | 12 to 17 years | Both sexes     |  NA            | 11.4           |   NA           |   NA           | 26.0           | NA             | ...            | 98.7           |  6.9           | 3.1            | 78.7           |  9.6           |  5.7           | 77.4           |   NA           | 67.8           | 88.3           | \n",
       "| 2017           | Alberta        | 12 to 17 years | Females        |  NA            |  9.8           |   NA           |   NA           | 19.7           | NA             | ...            | 99.2           | 11.8           | 3.2            | 79.6           | 11.9           |  7.8           | 73.2           |   NA           | 65.6           | 92.8           | \n",
       "| 2017           | Alberta        | 12 to 17 years | Males          |  NA            | 13.0           |   NA           |   NA           | 32.1           | NA             | ...            | 98.3           |   NA           |  NA            | 77.8           |  7.3           |   NA           | 81.7           |   NA           | 70.1           | 84.0           | \n",
       "| 2017           | Alberta        | 18 to 34 years | Both sexes     | 2.4            |  9.6           | 20.1           | 27.8           |   NA           | 95             | ...            | 93.9           | 10.6           | 6.3            | 69.2           | 20.4           |  9.1           | 65.4           | 68.9           |   NA           | 62.8           | \n",
       "| 2017           | Alberta        | 18 to 34 years | Females        | 2.7            |  9.7           | 16.9           | 23.2           |   NA           | 95             | ...            | 94.7           | 13.8           | 6.7            | 68.5           | 23.4           | 10.1           | 62.4           | 65.4           |   NA           | 64.9           | \n",
       "| 2017           | Alberta        | 18 to 34 years | Males          | 2.1            |  9.4           | 23.0           | 31.9           |   NA           | NA             | ...            | 93.2           |  7.5           | 5.9            | 69.7           | 17.5           |  8.0           | 68.2           | 72.3           |   NA           | 60.8           | \n",
       "\n",
       "\n"
      ],
      "text/plain": [
       "  Year PRENAME Age_Group      Sex        Arthritis_15_years_and_over Asthma\n",
       "1 2017 Alberta 12 to 17 years Both sexes  NA                         11.4  \n",
       "2 2017 Alberta 12 to 17 years Females     NA                          9.8  \n",
       "3 2017 Alberta 12 to 17 years Males       NA                         13.0  \n",
       "4 2017 Alberta 18 to 34 years Both sexes 2.4                          9.6  \n",
       "5 2017 Alberta 18 to 34 years Females    2.7                          9.7  \n",
       "6 2017 Alberta 18 to 34 years Males      2.1                          9.4  \n",
       "  Body_mass_index_adjusted_self_reported_adult_18_years_and_over_obese\n",
       "1   NA                                                                \n",
       "2   NA                                                                \n",
       "3   NA                                                                \n",
       "4 20.1                                                                \n",
       "5 16.9                                                                \n",
       "6 23.0                                                                \n",
       "  Body_mass_index_adjusted_self_reported_adult_18_years_and_over_overweight\n",
       "1   NA                                                                     \n",
       "2   NA                                                                     \n",
       "3   NA                                                                     \n",
       "4 27.8                                                                     \n",
       "5 23.2                                                                     \n",
       "6 31.9                                                                     \n",
       "  Body_mass_index_self_reported_youth_12_to_17_years_old_overweight_or_obese\n",
       "1 26.0                                                                      \n",
       "2 19.7                                                                      \n",
       "3 32.1                                                                      \n",
       "4   NA                                                                      \n",
       "5   NA                                                                      \n",
       "6   NA                                                                      \n",
       "  Breast_milk_feeding_initiation ...\n",
       "1 NA                             ...\n",
       "2 NA                             ...\n",
       "3 NA                             ...\n",
       "4 95                             ...\n",
       "5 95                             ...\n",
       "6 NA                             ...\n",
       "  Life_satisfaction_satisfied_or_very_satisfied Mood_disorder\n",
       "1 98.7                                           6.9         \n",
       "2 99.2                                          11.8         \n",
       "3 98.3                                            NA         \n",
       "4 93.9                                          10.6         \n",
       "5 94.7                                          13.8         \n",
       "6 93.2                                           7.5         \n",
       "  Perceived_health_fair_or_poor Perceived_health_very_good_or_excellent\n",
       "1 3.1                           78.7                                   \n",
       "2 3.2                           79.6                                   \n",
       "3  NA                           77.8                                   \n",
       "4 6.3                           69.2                                   \n",
       "5 6.7                           68.5                                   \n",
       "6 5.9                           69.7                                   \n",
       "  Perceived_life_stress Perceived_mental_health_fair_or_poor\n",
       "1  9.6                   5.7                                \n",
       "2 11.9                   7.8                                \n",
       "3  7.3                    NA                                \n",
       "4 20.4                   9.1                                \n",
       "5 23.4                  10.1                                \n",
       "6 17.5                   8.0                                \n",
       "  Perceived_mental_health_very_good_or_excellent\n",
       "1 77.4                                          \n",
       "2 73.2                                          \n",
       "3 81.7                                          \n",
       "4 65.4                                          \n",
       "5 62.4                                          \n",
       "6 68.2                                          \n",
       "  Self_reported_physical_activity_150_minutes_per_week_adult_18_years_and_over\n",
       "1   NA                                                                        \n",
       "2   NA                                                                        \n",
       "3   NA                                                                        \n",
       "4 68.9                                                                        \n",
       "5 65.4                                                                        \n",
       "6 72.3                                                                        \n",
       "  Self_reported_physical_activity_average_60_minutes_per_day_youth_12_to_17_years_old\n",
       "1 67.8                                                                               \n",
       "2 65.6                                                                               \n",
       "3 70.1                                                                               \n",
       "4   NA                                                                               \n",
       "5   NA                                                                               \n",
       "6   NA                                                                               \n",
       "  Sense_of_belonging_to_local_community_somewhat_strong_or_very_strong\n",
       "1 88.3                                                                \n",
       "2 92.8                                                                \n",
       "3 84.0                                                                \n",
       "4 62.8                                                                \n",
       "5 64.9                                                                \n",
       "6 60.8                                                                "
      ]
     },
     "metadata": {},
     "output_type": "display_data"
    }
   ],
   "source": [
    "glimpse(df)\n",
    "head(df)"
   ]
  },
  {
   "cell_type": "code",
   "execution_count": 82,
   "metadata": {},
   "outputs": [],
   "source": [
    "df$PRENAME <- as.factor(df$PRENAME)\n",
    "df$Age_Group <- as.factor(df$Age_Group)\n",
    "df$Sex <- as.factor(df$Sex)"
   ]
  },
  {
   "cell_type": "code",
   "execution_count": 83,
   "metadata": {},
   "outputs": [
    {
     "data": {
      "text/html": [
       "<ol class=list-inline>\n",
       "\t<li>'Alberta'</li>\n",
       "\t<li>'British Columbia'</li>\n",
       "\t<li>'Canada (excluding territories)'</li>\n",
       "\t<li>'Manitoba'</li>\n",
       "\t<li>'New Brunswick'</li>\n",
       "\t<li>'Newfoundland and Labrador'</li>\n",
       "\t<li>'Nova Scotia'</li>\n",
       "\t<li>'Ontario'</li>\n",
       "\t<li>'Prince Edward Island'</li>\n",
       "\t<li>'Quebec'</li>\n",
       "\t<li>'Saskatchewan'</li>\n",
       "</ol>\n"
      ],
      "text/latex": [
       "\\begin{enumerate*}\n",
       "\\item 'Alberta'\n",
       "\\item 'British Columbia'\n",
       "\\item 'Canada (excluding territories)'\n",
       "\\item 'Manitoba'\n",
       "\\item 'New Brunswick'\n",
       "\\item 'Newfoundland and Labrador'\n",
       "\\item 'Nova Scotia'\n",
       "\\item 'Ontario'\n",
       "\\item 'Prince Edward Island'\n",
       "\\item 'Quebec'\n",
       "\\item 'Saskatchewan'\n",
       "\\end{enumerate*}\n"
      ],
      "text/markdown": [
       "1. 'Alberta'\n",
       "2. 'British Columbia'\n",
       "3. 'Canada (excluding territories)'\n",
       "4. 'Manitoba'\n",
       "5. 'New Brunswick'\n",
       "6. 'Newfoundland and Labrador'\n",
       "7. 'Nova Scotia'\n",
       "8. 'Ontario'\n",
       "9. 'Prince Edward Island'\n",
       "10. 'Quebec'\n",
       "11. 'Saskatchewan'\n",
       "\n",
       "\n"
      ],
      "text/plain": [
       " [1] \"Alberta\"                        \"British Columbia\"              \n",
       " [3] \"Canada (excluding territories)\" \"Manitoba\"                      \n",
       " [5] \"New Brunswick\"                  \"Newfoundland and Labrador\"     \n",
       " [7] \"Nova Scotia\"                    \"Ontario\"                       \n",
       " [9] \"Prince Edward Island\"           \"Quebec\"                        \n",
       "[11] \"Saskatchewan\"                  "
      ]
     },
     "metadata": {},
     "output_type": "display_data"
    }
   ],
   "source": [
    "levels(df$PRENAME)"
   ]
  },
  {
   "cell_type": "code",
   "execution_count": 84,
   "metadata": {},
   "outputs": [
    {
     "data": {
      "text/html": [
       "<ol class=list-inline>\n",
       "\t<li>'12 to 17 years'</li>\n",
       "\t<li>'18 to 34 years'</li>\n",
       "\t<li>'35 to 49 years'</li>\n",
       "\t<li>'50 to 64 years'</li>\n",
       "\t<li>'65 years and over'</li>\n",
       "\t<li>'Total, 12 years and over'</li>\n",
       "</ol>\n"
      ],
      "text/latex": [
       "\\begin{enumerate*}\n",
       "\\item '12 to 17 years'\n",
       "\\item '18 to 34 years'\n",
       "\\item '35 to 49 years'\n",
       "\\item '50 to 64 years'\n",
       "\\item '65 years and over'\n",
       "\\item 'Total, 12 years and over'\n",
       "\\end{enumerate*}\n"
      ],
      "text/markdown": [
       "1. '12 to 17 years'\n",
       "2. '18 to 34 years'\n",
       "3. '35 to 49 years'\n",
       "4. '50 to 64 years'\n",
       "5. '65 years and over'\n",
       "6. 'Total, 12 years and over'\n",
       "\n",
       "\n"
      ],
      "text/plain": [
       "[1] \"12 to 17 years\"           \"18 to 34 years\"          \n",
       "[3] \"35 to 49 years\"           \"50 to 64 years\"          \n",
       "[5] \"65 years and over\"        \"Total, 12 years and over\""
      ]
     },
     "metadata": {},
     "output_type": "display_data"
    }
   ],
   "source": [
    "levels(df$Age_Group)"
   ]
  },
  {
   "cell_type": "code",
   "execution_count": 85,
   "metadata": {},
   "outputs": [
    {
     "data": {
      "text/html": [
       "<ol class=list-inline>\n",
       "\t<li>'Both sexes'</li>\n",
       "\t<li>'Females'</li>\n",
       "\t<li>'Males'</li>\n",
       "</ol>\n"
      ],
      "text/latex": [
       "\\begin{enumerate*}\n",
       "\\item 'Both sexes'\n",
       "\\item 'Females'\n",
       "\\item 'Males'\n",
       "\\end{enumerate*}\n"
      ],
      "text/markdown": [
       "1. 'Both sexes'\n",
       "2. 'Females'\n",
       "3. 'Males'\n",
       "\n",
       "\n"
      ],
      "text/plain": [
       "[1] \"Both sexes\" \"Females\"    \"Males\"     "
      ]
     },
     "metadata": {},
     "output_type": "display_data"
    }
   ],
   "source": [
    "levels(df$Sex)"
   ]
  },
  {
   "cell_type": "markdown",
   "metadata": {},
   "source": [
    "### Filter to measures of interest"
   ]
  },
  {
   "cell_type": "code",
   "execution_count": 86,
   "metadata": {},
   "outputs": [
    {
     "name": "stdout",
     "output_type": "stream",
     "text": [
      "Observations: 10\n",
      "Variables: 2\n",
      "$ PRENAME              <fctr> Alberta, British Columbia, Manitoba, New Brun...\n",
      "$ Current_smoker_daily <dbl> 9.2, 6.1, 10.8, 10.2, 15.3, 10.6, 9.2, 9.5, 11...\n"
     ]
    },
    {
     "data": {
      "text/html": [
       "<table>\n",
       "<thead><tr><th scope=col>PRENAME</th><th scope=col>Current_smoker_daily</th></tr></thead>\n",
       "<tbody>\n",
       "\t<tr><td>Alberta                  </td><td> 9.2                     </td></tr>\n",
       "\t<tr><td>British Columbia         </td><td> 6.1                     </td></tr>\n",
       "\t<tr><td>Manitoba                 </td><td>10.8                     </td></tr>\n",
       "\t<tr><td>New Brunswick            </td><td>10.2                     </td></tr>\n",
       "\t<tr><td>Newfoundland and Labrador</td><td>15.3                     </td></tr>\n",
       "\t<tr><td>Nova Scotia              </td><td>10.6                     </td></tr>\n",
       "\t<tr><td>Ontario                  </td><td> 9.2                     </td></tr>\n",
       "\t<tr><td>Prince Edward Island     </td><td> 9.5                     </td></tr>\n",
       "\t<tr><td>Quebec                   </td><td>11.3                     </td></tr>\n",
       "\t<tr><td>Saskatchewan             </td><td>13.0                     </td></tr>\n",
       "</tbody>\n",
       "</table>\n"
      ],
      "text/latex": [
       "\\begin{tabular}{r|ll}\n",
       " PRENAME & Current\\_smoker\\_daily\\\\\n",
       "\\hline\n",
       "\t Alberta                   &  9.2                     \\\\\n",
       "\t British Columbia          &  6.1                     \\\\\n",
       "\t Manitoba                  & 10.8                     \\\\\n",
       "\t New Brunswick             & 10.2                     \\\\\n",
       "\t Newfoundland and Labrador & 15.3                     \\\\\n",
       "\t Nova Scotia               & 10.6                     \\\\\n",
       "\t Ontario                   &  9.2                     \\\\\n",
       "\t Prince Edward Island      &  9.5                     \\\\\n",
       "\t Quebec                    & 11.3                     \\\\\n",
       "\t Saskatchewan              & 13.0                     \\\\\n",
       "\\end{tabular}\n"
      ],
      "text/markdown": [
       "\n",
       "PRENAME | Current_smoker_daily | \n",
       "|---|---|---|---|---|---|---|---|---|---|\n",
       "| Alberta                   |  9.2                      | \n",
       "| British Columbia          |  6.1                      | \n",
       "| Manitoba                  | 10.8                      | \n",
       "| New Brunswick             | 10.2                      | \n",
       "| Newfoundland and Labrador | 15.3                      | \n",
       "| Nova Scotia               | 10.6                      | \n",
       "| Ontario                   |  9.2                      | \n",
       "| Prince Edward Island      |  9.5                      | \n",
       "| Quebec                    | 11.3                      | \n",
       "| Saskatchewan              | 13.0                      | \n",
       "\n",
       "\n"
      ],
      "text/plain": [
       "   PRENAME                   Current_smoker_daily\n",
       "1  Alberta                    9.2                \n",
       "2  British Columbia           6.1                \n",
       "3  Manitoba                  10.8                \n",
       "4  New Brunswick             10.2                \n",
       "5  Newfoundland and Labrador 15.3                \n",
       "6  Nova Scotia               10.6                \n",
       "7  Ontario                    9.2                \n",
       "8  Prince Edward Island       9.5                \n",
       "9  Quebec                    11.3                \n",
       "10 Saskatchewan              13.0                "
      ]
     },
     "metadata": {},
     "output_type": "display_data"
    }
   ],
   "source": [
    "df <- df %>%\n",
    "  filter(!PRENAME == \"Canada (excluding territories)\") %>%\n",
    "  filter(Age_Group == \"Total, 12 years and over\") %>%\n",
    "  filter(Sex == \"Females\") %>%\n",
    "  select(\"PRENAME\", \"Current_smoker_daily\")\n",
    "  \n",
    "\n",
    "glimpse(df)\n",
    "df"
   ]
  },
  {
   "cell_type": "code",
   "execution_count": 87,
   "metadata": {},
   "outputs": [
    {
     "data": {
      "text/html": [
       "<table>\n",
       "<thead><tr><th scope=col>PRENAME</th><th scope=col>SmokeDailyForFemales</th></tr></thead>\n",
       "<tbody>\n",
       "\t<tr><td>Alberta                  </td><td> 9.2                     </td></tr>\n",
       "\t<tr><td>British Columbia         </td><td> 6.1                     </td></tr>\n",
       "\t<tr><td>Manitoba                 </td><td>10.8                     </td></tr>\n",
       "\t<tr><td>New Brunswick            </td><td>10.2                     </td></tr>\n",
       "\t<tr><td>Newfoundland and Labrador</td><td>15.3                     </td></tr>\n",
       "\t<tr><td>Nova Scotia              </td><td>10.6                     </td></tr>\n",
       "\t<tr><td>Ontario                  </td><td> 9.2                     </td></tr>\n",
       "\t<tr><td>Prince Edward Island     </td><td> 9.5                     </td></tr>\n",
       "\t<tr><td>Quebec                   </td><td>11.3                     </td></tr>\n",
       "\t<tr><td>Saskatchewan             </td><td>13.0                     </td></tr>\n",
       "</tbody>\n",
       "</table>\n"
      ],
      "text/latex": [
       "\\begin{tabular}{r|ll}\n",
       " PRENAME & SmokeDailyForFemales\\\\\n",
       "\\hline\n",
       "\t Alberta                   &  9.2                     \\\\\n",
       "\t British Columbia          &  6.1                     \\\\\n",
       "\t Manitoba                  & 10.8                     \\\\\n",
       "\t New Brunswick             & 10.2                     \\\\\n",
       "\t Newfoundland and Labrador & 15.3                     \\\\\n",
       "\t Nova Scotia               & 10.6                     \\\\\n",
       "\t Ontario                   &  9.2                     \\\\\n",
       "\t Prince Edward Island      &  9.5                     \\\\\n",
       "\t Quebec                    & 11.3                     \\\\\n",
       "\t Saskatchewan              & 13.0                     \\\\\n",
       "\\end{tabular}\n"
      ],
      "text/markdown": [
       "\n",
       "PRENAME | SmokeDailyForFemales | \n",
       "|---|---|---|---|---|---|---|---|---|---|\n",
       "| Alberta                   |  9.2                      | \n",
       "| British Columbia          |  6.1                      | \n",
       "| Manitoba                  | 10.8                      | \n",
       "| New Brunswick             | 10.2                      | \n",
       "| Newfoundland and Labrador | 15.3                      | \n",
       "| Nova Scotia               | 10.6                      | \n",
       "| Ontario                   |  9.2                      | \n",
       "| Prince Edward Island      |  9.5                      | \n",
       "| Quebec                    | 11.3                      | \n",
       "| Saskatchewan              | 13.0                      | \n",
       "\n",
       "\n"
      ],
      "text/plain": [
       "   PRENAME                   SmokeDailyForFemales\n",
       "1  Alberta                    9.2                \n",
       "2  British Columbia           6.1                \n",
       "3  Manitoba                  10.8                \n",
       "4  New Brunswick             10.2                \n",
       "5  Newfoundland and Labrador 15.3                \n",
       "6  Nova Scotia               10.6                \n",
       "7  Ontario                    9.2                \n",
       "8  Prince Edward Island       9.5                \n",
       "9  Quebec                    11.3                \n",
       "10 Saskatchewan              13.0                "
      ]
     },
     "metadata": {},
     "output_type": "display_data"
    }
   ],
   "source": [
    "# rename column to be friendlier when merging with CanadaMap spatial dataframe\n",
    "\n",
    "df$SmokeDailyForFemales <-\n",
    "  df$Current_smoker_daily\n",
    "\n",
    "df$Current_smoker_daily <- NULL\n",
    "\n",
    "df"
   ]
  },
  {
   "cell_type": "markdown",
   "metadata": {},
   "source": [
    "## Display a map of Canada showing results"
   ]
  },
  {
   "cell_type": "code",
   "execution_count": 88,
   "metadata": {},
   "outputs": [
    {
     "name": "stdout",
     "output_type": "stream",
     "text": [
      "Reading layer `lpr_000b16a_e' from data source `C:\\Users\\rahmant\\GIS_Canada\\lpr_000b16a_e.shp' using driver `ESRI Shapefile'\n",
      "Simple feature collection with 13 features and 6 fields\n",
      "geometry type:  MULTIPOLYGON\n",
      "dimension:      XY\n",
      "bbox:           xmin: 3689439 ymin: 659338.9 xmax: 9015737 ymax: 5242179\n",
      "epsg (SRID):    NA\n",
      "proj4string:    +proj=lcc +lat_1=49 +lat_2=77 +lat_0=63.390675 +lon_0=-91.86666666666666 +x_0=6200000 +y_0=3000000 +datum=NAD83 +units=m +no_defs\n"
     ]
    }
   ],
   "source": [
    "CanadaMap <- st_read(\"GIS_Canada/lpr_000b16a_e.shp\")"
   ]
  },
  {
   "cell_type": "code",
   "execution_count": 89,
   "metadata": {},
   "outputs": [
    {
     "data": {
      "text/plain": [
       "[1] \"2018-08-14 14:53:04 AST\""
      ]
     },
     "metadata": {},
     "output_type": "display_data"
    },
    {
     "name": "stdout",
     "output_type": "stream",
     "text": [
      "Observations: 13\n",
      "Variables: 7\n",
      "$ PRUID    <fctr> 10, 11, 12, 13, 24, 35, 46, 47, 48, 59, 60, 61, 62\n",
      "$ PRNAME   <fctr> Newfoundland and Labrador / Terre-Neuve-et-Labrador, Prin...\n",
      "$ PRENAME  <fctr> Newfoundland and Labrador, Prince Edward Island, Nova Sco...\n",
      "$ PRFNAME  <fctr> Terre-Neuve-et-Labrador, Île-du-Prince-Édouard, Nouvelle-...\n",
      "$ PREABBR  <fctr> N.L., P.E.I., N.S., N.B., Que., Ont., Man., Sask., Alta.,...\n",
      "$ PRFABBR  <fctr> T.-N.-L., Î.-P.-É., N.-É., N.-B., Qc, Ont., Man., Sask., ...\n",
      "$ geometry <simple_feature> MULTIPOLYGON (((8307365.588..., MULTIPOLYGON ((...\n"
     ]
    },
    {
     "data": {
      "text/plain": [
       "[1] \"2018-08-14 14:53:28 AST\""
      ]
     },
     "metadata": {},
     "output_type": "display_data"
    }
   ],
   "source": [
    "Sys.time()\n",
    "glimpse(CanadaMap)\n",
    "Sys.time()"
   ]
  },
  {
   "cell_type": "code",
   "execution_count": 90,
   "metadata": {},
   "outputs": [],
   "source": [
    "CanadaMap <- merge(CanadaMap, df) # join the two dataframes, merge will use the common column name to join with\n",
    "\n",
    "# Note: this will lose any data with territories"
   ]
  },
  {
   "cell_type": "code",
   "execution_count": 91,
   "metadata": {},
   "outputs": [
    {
     "name": "stdout",
     "output_type": "stream",
     "text": [
      "Observations: 10\n",
      "Variables: 8\n",
      "$ PRENAME              <fctr> Alberta, British Columbia, Manitoba, New Brun...\n",
      "$ PRUID                <fctr> 48, 59, 46, 13, 10, 12, 35, 11, 24, 47\n",
      "$ PRNAME               <fctr> Alberta, British Columbia / Colombie-Britanni...\n",
      "$ PRFNAME              <fctr> Alberta, Colombie-Britannique, Manitoba, Nouv...\n",
      "$ PREABBR              <fctr> Alta., B.C., Man., N.B., N.L., N.S., Ont., P....\n",
      "$ PRFABBR              <fctr> Alb., C.-B., Man., N.-B., T.-N.-L., N.-É., On...\n",
      "$ SmokeDailyForFemales <dbl> 9.2, 6.1, 10.8, 10.2, 15.3, 10.6, 9.2, 9.5, 11...\n",
      "$ geometry             <simple_feature> MULTIPOLYGON (((5228304.177..., MUL...\n"
     ]
    }
   ],
   "source": [
    "glimpse(CanadaMap)"
   ]
  },
  {
   "cell_type": "code",
   "execution_count": 92,
   "metadata": {},
   "outputs": [],
   "source": [
    "df$PREABBR <- CanadaMap$PREABBR\n",
    "df$PRENAME <- NULL"
   ]
  },
  {
   "cell_type": "code",
   "execution_count": 93,
   "metadata": {},
   "outputs": [],
   "source": [
    "# Before merging with a shapefile for polygon data, write the data to a table in csv format\n",
    "# Table_B\n",
    "\n",
    "write.csv(df, \n",
    "          file = \"Table_AD.csv\",\n",
    "          row.names = FALSE) # set row.name to FALSE to not include an index column in the csv output file"
   ]
  },
  {
   "cell_type": "code",
   "execution_count": 94,
   "metadata": {},
   "outputs": [
    {
     "data": {
      "text/html": [
       "<strong>png:</strong> 2"
      ],
      "text/latex": [
       "\\textbf{png:} 2"
      ],
      "text/markdown": [
       "**png:** 2"
      ],
      "text/plain": [
       "png \n",
       "  2 "
      ]
     },
     "metadata": {},
     "output_type": "display_data"
    }
   ],
   "source": [
    "# Save a dataframe as a nicely formatted png file\n",
    "# uses the gridExtra package\n",
    "\n",
    "png(\"Table_AD.png\", height = 30*nrow(df), width = 250*ncol(df))\n",
    "grid.table(df)\n",
    "dev.off()"
   ]
  },
  {
   "cell_type": "code",
   "execution_count": 95,
   "metadata": {},
   "outputs": [
    {
     "data": {
      "text/plain": [
       "[1] \"2018-08-14 14:53:44 AST\""
      ]
     },
     "metadata": {},
     "output_type": "display_data"
    },
    {
     "data": {},
     "metadata": {},
     "output_type": "display_data"
    },
    {
     "data": {
      "text/plain": [
       "[1] \"2018-08-14 14:54:29 AST\""
      ]
     },
     "metadata": {},
     "output_type": "display_data"
    },
    {
     "data": {
      "image/png": "[encoded data removed]",
      "text/plain": [
       "plot without title"
      ]
     },
     "metadata": {},
     "output_type": "display_data"
    }
   ],
   "source": [
    "Sys.time()\n",
    "\n",
    "my_map_AD0 <-\n",
    "  tm_shape(CanadaMap) +\n",
    "  tm_polygons(col = \"SmokeDailyForFemales\", palette = \"Purples\", style = \"order\") +\n",
    "  tm_legend(legend.outside = TRUE, legend.outside.position = \"bottom\") +\n",
    "  tm_text(text = \"SmokeDailyForFemales\", size = .6) + \n",
    "  tm_layout(frame = FALSE, \n",
    "            legend.show = FALSE,\n",
    "            main.title = \"Percent of Females 12 and Over Who Smoke Daily, 2017\",\n",
    "            main.title.size = 1)\n",
    "\n",
    "my_map_AD0\n",
    "\n",
    "Sys.time()"
   ]
  },
  {
   "cell_type": "code",
   "execution_count": 96,
   "metadata": {},
   "outputs": [],
   "source": [
    "# Sys.time()\n",
    "#   save_tmap(tm = my_map_AD0, \n",
    "#        filename = \"Percent of Females 12 and Over Who Smoke Daily, 2017\")\n",
    "# Sys.time()"
   ]
  },
  {
   "cell_type": "markdown",
   "metadata": {},
   "source": [
    "# Main Script Ends Here"
   ]
  },
  {
   "cell_type": "code",
   "execution_count": 97,
   "metadata": {},
   "outputs": [
    {
     "data": {
      "text/plain": [
       "[1] \"2018-08-14 14:54:33 AST\""
      ]
     },
     "metadata": {},
     "output_type": "display_data"
    }
   ],
   "source": [
    "Sys.time()"
   ]
  },
  {
   "cell_type": "markdown",
   "metadata": {},
   "source": [
    "# Appendix 1 - Examples of common coding techniques"
   ]
  },
  {
   "cell_type": "code",
   "execution_count": 98,
   "metadata": {},
   "outputs": [],
   "source": [
    "# Example of how to read and filter a large csv file a chunk at a time, e.g. filter 50000 rows at a time into a new dataframe\n",
    "# This is very efficient, comparable to fread in speed but done in chunks to conserve memory\n",
    "# I also prefer it to fread because I can filter out rows with missing values as I import the data\n",
    "# and specify which columns I want to import \n",
    "# need readr library from tidyverse library\n",
    "\n",
    "\n",
    "# Sys.time() # start time for reading file\n",
    "# f <- function(x, pos) subset(x, \n",
    "#                             !is.na(Beds) # filter out any rows with missing values in the specified column in parenthesis\n",
    "#                             & Gender == \"Male\") # only include rows where the specified condition is met\n",
    "#                             & any other criteria for filtering\n",
    "# df <- read_csv_chunked(\"http://www.edsc-esdc.gc.ca/ouvert-open/hps/CDHPD-OpenDataNSPL-DataSet-20170804-ENFR.csv\", \n",
    "#                            DataFrameCallback$new(f), \n",
    "#                            chunk_size = 50000, # this is an adequate chunk size\n",
    "#                            # col_names = TRUE # this will keep original column names if you don't provide custom names\n",
    "#                                               # most of the time it's best to rename every column explicitly as shown below\n",
    "#                            col_names = c(\"ShelterType\", # this renames each column in order of the csv file to what you specify\n",
    "#                                          \"ProvinceCode\",\n",
    "#                                          \"City\",\n",
    "#                                          \"TargetPopulation\",\n",
    "#                                          \"Gender\",\n",
    "#                                          \"ShelterName\",\n",
    "#                                          \"Beds\"), # all other columns after this will be dropped if not included        \n",
    "#                            cols_only( # specify which columns with data types you want to include \n",
    "#                                       # to avoid importing unwanted data\n",
    "#                                       # include all columns that you specified above with col_names if you renamed them\n",
    "#                                \"ShelterType\" = col_character(),\n",
    "#                                \"ProvinceCode\" = col_character(),\n",
    "#                                \"City\" = col_character(),\n",
    "#                                \"TargetPopulation\" = col_character(),\n",
    "#                                \"Gender\" = col_character(),\n",
    "#                                \"ShelterName\" = col_character(),\n",
    "#                                \"Beds\" = col_number()),\n",
    "#                            skip = 1, # skip original column headers if you renamed them\n",
    "#                            trim_ws = TRUE) # trim leading and trailing whitespace for each data point\n",
    "# Sys.time() # end time for reading file"
   ]
  },
  {
   "cell_type": "code",
   "execution_count": 99,
   "metadata": {},
   "outputs": [],
   "source": [
    "# Example of how to read csv files quickly with fread while converting all chr variables to factors \n",
    "# need data.table library\n",
    "# Use fread when you are a lazy and know you won't have memory issues loading the entire dataset at once\n",
    "# or when you know you need to keep all information loaded into memory\n",
    "\n",
    "# df <- fread(\"DataFilesAOP/AB_Provincial_Detailed_Crime_Stats_2006-2011-2016.csv\", \n",
    "#            stringsAsFactors = TRUE, header = TRUE)"
   ]
  },
  {
   "cell_type": "code",
   "execution_count": 100,
   "metadata": {},
   "outputs": [],
   "source": [
    "# Example of how to write a dataframe to a csv file\n",
    "\n",
    "# write.csv(df, \n",
    "#           file = \"NS_Crime_Stats_Clean_Extract3.csv\",\n",
    "#           row.names = FALSE) # set row.name to FALSE to not include an index column in the csv output file"
   ]
  },
  {
   "cell_type": "code",
   "execution_count": 101,
   "metadata": {},
   "outputs": [],
   "source": [
    "# Example of how to create dummy variables from a factor variable\n",
    "\n",
    "# df_Province_dummies <- data.frame(model.matrix(~Province, df))\n",
    "# df_Province_dummies\n",
    "# df_Province_dummies$X.Intercept. <- NULL\n",
    "# df_Province_dummies # 9 dummy columns, all zeros indicate Alberta\n",
    "# df <- cbind(df_Province_dummies, df)"
   ]
  },
  {
   "cell_type": "code",
   "execution_count": 102,
   "metadata": {},
   "outputs": [],
   "source": [
    "# Example how to change all of the column names in a dataframe to something friendlier\n",
    "# You want to avoid special characters and spaces in column names to prevent problems with differnt packages and features\n",
    "# Provide new names in a character vector\n",
    "\n",
    "# colnames(df) <- c(\" \", \" \")"
   ]
  },
  {
   "cell_type": "code",
   "execution_count": 103,
   "metadata": {},
   "outputs": [],
   "source": [
    "# Example how to set the number of digits displayed in dataframes\n",
    "\n",
    "# options(digits=15) # set the visible number of digits to 15, useful when displaying GIS coordinates in dataframes\n",
    "# options(\"digits\") # display the max number of digits that appear in cells of a dataframe"
   ]
  },
  {
   "cell_type": "code",
   "execution_count": 104,
   "metadata": {},
   "outputs": [],
   "source": [
    "# Example of how to convert columns to the correct data types and how to delete columns from a dataframe\n",
    "\n",
    "# use as.numeric() and as.factor() where appropriate\n",
    "# df$column_name <- NULL will delete that column from the dataframe"
   ]
  },
  {
   "cell_type": "code",
   "execution_count": 105,
   "metadata": {},
   "outputs": [],
   "source": [
    "# Example of how to recode values of a column for rows meeting a condition\n",
    "\n",
    "# df$LATITUDE[df$GEO == \n",
    "#                          \"Amherst, Nova Scotia, municipal\"] <- 45.8338198\n",
    "# df$LONGITUDE[df$GEO == \n",
    "#                          \"Amherst, Nova Scotia, municipal\"] <- -64.2109455\n",
    "#\n",
    "# df$COUNTY[df$GEO ==\n",
    "#                          \"Amherst, Nova Scotia, municipal\"] <- \"Cumberland\""
   ]
  },
  {
   "cell_type": "code",
   "execution_count": 106,
   "metadata": {},
   "outputs": [],
   "source": [
    "# Example of how to filter a dataframe to rows where a specific string appears anywhere in a specific column\n",
    "# This example filters df to rows where \"MEP\" appears in the \"Contents\" column (need stringr library)\n",
    "\n",
    "# df_MEP <- df %>%\n",
    "#   filter(str_detect(Contents, \"MEP\"))"
   ]
  },
  {
   "cell_type": "code",
   "execution_count": 107,
   "metadata": {},
   "outputs": [],
   "source": [
    "# Example of how to handle dates - converting from timestamp to YYYYMMDD\n",
    "# This example is adequate if you really don't need a date field for arithmetic or plotting with ggplot2\n",
    "\n",
    "# parse out date and time from Timestamp\n",
    "# df <- \n",
    "#   separate(df, Timestamp, # e.g., \"01/01/2017 12:00:00 AM\"\n",
    "#           into = c(\"Date\", \"Time\", \"AMPM\"), sep = \" \")\n",
    "\n",
    "# parse out Month, Day, Year from Date\n",
    "# df <- \n",
    "#  separate(df, Date, \n",
    "#           into = c(\"Month\", \"Day\", \"Year\"), sep = \"/\")\n",
    "\n",
    "# Remove unwanted columns\n",
    "# df$Time <- NULL\n",
    "# df$AMPM <- NULL\n",
    "\n",
    "# unite the columns \"Year\", \"Month\", \"Day\" into a single column for \"YYYYMMDD\"\n",
    "# df <- \n",
    "#  unite_(df, \"YYYYMMDD\", c(\"Year\",\"Month\", \"Day\"), sep = \"\")\n",
    "\n",
    "# sort by date in decreasing order\n",
    "# df <- df[order(df$YYYYMMDD, decreasing = TRUE), ]"
   ]
  },
  {
   "cell_type": "code",
   "execution_count": 108,
   "metadata": {},
   "outputs": [],
   "source": [
    "# Use the lubridate library if arithmetic is important when working with date and time data\n",
    "# In my opinion, the lubridate functions are more complicated than my current needs, so I prefer my approach above\n",
    "# for handling dates/times\n",
    "\n",
    "# https://lubridate.tidyverse.org/\n",
    "# https://rawgit.com/rstudio/cheatsheets/master/lubridate.pdf"
   ]
  },
  {
   "cell_type": "code",
   "execution_count": 109,
   "metadata": {},
   "outputs": [],
   "source": [
    "# Example of how to subset and retain only selected characters from a cell\n",
    "# This is useful if you want to strip out useless characters in a cell given a start and end position to retain\n",
    "# need stringr library\n",
    "\n",
    "# df$gps <- \n",
    "#   str_sub(df$gps, start = 3, end = -2) \n",
    "\n",
    "# this gets rid of the first 3 characters and the last two characters\n",
    "# you can get an accurate count of characters when viewing them with glimpse(df)"
   ]
  },
  {
   "cell_type": "code",
   "execution_count": 110,
   "metadata": {},
   "outputs": [],
   "source": [
    "# Example how to merge two dataframes on common column names\n",
    "# https://stackoverflow.com/questions/1299871/how-to-join-merge-data-frames-inner-outer-left-right\n",
    "\n",
    "# CanadaMap <- merge(CanadaMap, df_Provincial) # join the two dataframes, merge will use the common column name to join with"
   ]
  },
  {
   "cell_type": "code",
   "execution_count": 111,
   "metadata": {},
   "outputs": [],
   "source": [
    "# Example of how to combine two or more dataframes vertically with the same column names\n",
    "\n",
    "# df4 <- rbind(df1, df2, df3)"
   ]
  },
  {
   "cell_type": "code",
   "execution_count": 112,
   "metadata": {},
   "outputs": [],
   "source": [
    "# Example of how to combine two or more dataframes horizontally with the same number of rows but different columns\n",
    "\n",
    "# df4 <- cbind(df1, df2, df3)"
   ]
  },
  {
   "cell_type": "code",
   "execution_count": 113,
   "metadata": {},
   "outputs": [],
   "source": [
    "# Example of how to create a new column that takes on values by performing arithmetic on existing columns \n",
    "# need dplyr and tidyverse library\n",
    "# This example creates a new column that divides one column by another and mutliplies the result by a constant\n",
    "\n",
    "# NSMAP2011 <- NSMAP2011 %>%\n",
    "#   mutate(PropertyCrimeCountyRatePer100K = PropertyCrimeIncidentsPerCounty/CountyPopulation * 100000)"
   ]
  },
  {
   "cell_type": "code",
   "execution_count": 114,
   "metadata": {},
   "outputs": [],
   "source": [
    "# Example of how to order a dataframe by a column in descening order\n",
    "# a \"-\" in front of the column name will sort it in descending (largest to lowest) order\n",
    "\n",
    "# df <- \n",
    "#  df[with(df, order(-Incidents_Total)), ]\n",
    "\n",
    "\n",
    "# adding multiple column names will prioritize ordering in that sequence\n",
    "\n",
    "# df <- \n",
    "#  df[with(df, order(REGION, COUNTY, GEO, Violations, Statistics)), ]\n",
    "\n",
    "#--------------------\n",
    "# Alternatively, you can also use the following:\n",
    "# sort by date in decreasing order\n",
    "# df <- df[order(df$YYYYMMDD, decreasing = TRUE), ]"
   ]
  },
  {
   "cell_type": "code",
   "execution_count": 115,
   "metadata": {},
   "outputs": [],
   "source": [
    "# Before spreading data for tidy format, make sure to remove any special characters beforehand\n",
    "# This ensures that after spreading the data, the column names are all properly formatted\n",
    "# Properly formatted column names will always appear flushed next to the dollar sign when glimpsing a dataframe\n",
    "# If spaces or special characters are present in the column name, they will appear within single quotes after the dollar sign\n",
    "# when glimpsing the dataframe after spreading the data\n",
    "\n",
    "# df_health$Indicators <- gsub(\" \", \"_\", df_health$Indicators)\n",
    "# df_health$Indicators <- gsub(\",\", \"\", df_health$Indicators)\n",
    "# df_health$Indicators <- gsub(\";\", \"\", df_health$Indicators)\n",
    "# df_health$Indicators <- gsub(\"-\", \"_\", df_health$Indicators)\n",
    "# df_health$Indicators <- gsub(\"\\\\(\", \"\", df_health$Indicators) # this removes left parenthesis\n",
    "# df_health$Indicators <- gsub(\"\\\\)\", \"\", df_health$Indicators) # this removes right parenthesis\n",
    "\n",
    "# df_health <- df_health %>%\n",
    "#   spread(Indicators, Value)"
   ]
  },
  {
   "cell_type": "code",
   "execution_count": 116,
   "metadata": {},
   "outputs": [],
   "source": [
    "# Example how to set a cell as NA\n",
    "# df_Provincial$PREABBR <- NA\n",
    "\n",
    "\n",
    "# Example how to remove all rows with NA\n",
    "# df_Provincial <- na.omit(df_Provincial)"
   ]
  },
  {
   "cell_type": "code",
   "execution_count": 117,
   "metadata": {},
   "outputs": [],
   "source": [
    "# Example of how to load a shapefile for mapping \n",
    "# need sf library\n",
    "\n",
    "# NS <- st_read(\"GIS_Nova_Scotia/Counties_GCS.shp\")"
   ]
  },
  {
   "cell_type": "code",
   "execution_count": 118,
   "metadata": {},
   "outputs": [],
   "source": [
    "# Example how to convert a dataframe of lats/longs to a an sf dataframe for points spatial data \n",
    "# need sf library\n",
    "\n",
    "# pts <- st_as_sf(df, coords = c(\"LONGITUDE\", \"LATITUDE\"), crs = 4269) # create sf object called \"pts\" from df\n",
    "# class(pts)\n",
    "# glimpse(pts) # LONGITUDE and LATITUDE columns are replaced with a geometry column for point data"
   ]
  },
  {
   "cell_type": "code",
   "execution_count": 119,
   "metadata": {},
   "outputs": [],
   "source": [
    "# Example how to add custom icons for points spatial data \n",
    "# need sf library and tmap library\n",
    "\n",
    "# Using custom icons for points instead of bubbles\n",
    "\n",
    "# file <- \"DataFilesGeneral/flower_960_720.png\"  \n",
    "# flower_icon <- tmap_icons(file, width = 48, height = 48, keep.asp = TRUE,\n",
    "#   just = c(\"center\", \"center\"), as.local = TRUE)\n",
    "\n",
    "# my_map_2 <- my_map_0 +\n",
    "#   tm_shape(pts) +\n",
    "#   tm_symbols(\"VALUE\", shape = flower_icon, size = .3, alpha = .2, border.alpha = 0) \n",
    "# my_map_2"
   ]
  },
  {
   "cell_type": "markdown",
   "metadata": {},
   "source": [
    "# Appendix 2 - Note regarding preferred way for installing packages"
   ]
  },
  {
   "cell_type": "code",
   "execution_count": 120,
   "metadata": {},
   "outputs": [],
   "source": [
    "# Preferrably, install new packages via Anaconda Prompt > conda install r-package_name\n",
    "# Try to only use library() in notebook instead of install.packages()\n",
    "# this is more reliable than using install.packages(\"package name\") in R script\n",
    "# Anaconda Prompt > conda list shows what packages are installed\n",
    "\n",
    "# However, when the above isn't true for some reason, it is noted below\n",
    "# e.g., tmap must be installed through install.packages(\"tmap\")"
   ]
  }
 ],
 "metadata": {
  "kernelspec": {
   "display_name": "R",
   "language": "R",
   "name": "ir"
  },
  "language_info": {
   "codemirror_mode": "r",
   "file_extension": ".r",
   "mimetype": "text/x-r-source",
   "name": "R",
   "pygments_lexer": "r",
   "version": "3.4.3"
  }
 },
 "nbformat": 4,
 "nbformat_minor": 2
}
