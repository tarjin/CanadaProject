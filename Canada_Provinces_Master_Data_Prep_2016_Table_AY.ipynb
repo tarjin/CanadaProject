{
 "cells": [
  {
   "cell_type": "code",
   "execution_count": 405,
   "metadata": {},
   "outputs": [
    {
     "data": {
      "text/plain": [
       "[1] \"2018-08-16 14:23:35 AST\""
      ]
     },
     "metadata": {},
     "output_type": "display_data"
    }
   ],
   "source": [
    "# Must run this notebook from root directory in Anaconda for relative local file paths to work\n",
    "\n",
    "Sys.time() # script start time"
   ]
  },
  {
   "cell_type": "markdown",
   "metadata": {},
   "source": [
    "# Install and attach packages"
   ]
  },
  {
   "cell_type": "code",
   "execution_count": 406,
   "metadata": {},
   "outputs": [],
   "source": [
    "# See note at the end of this notebook regarding the preferred way of installing packages"
   ]
  },
  {
   "cell_type": "code",
   "execution_count": 407,
   "metadata": {},
   "outputs": [],
   "source": [
    "library(tidyverse)"
   ]
  },
  {
   "cell_type": "code",
   "execution_count": 408,
   "metadata": {},
   "outputs": [],
   "source": [
    "library(data.table)"
   ]
  },
  {
   "cell_type": "code",
   "execution_count": 409,
   "metadata": {},
   "outputs": [],
   "source": [
    "library(stringr)"
   ]
  },
  {
   "cell_type": "code",
   "execution_count": 410,
   "metadata": {},
   "outputs": [],
   "source": [
    "library(gridExtra)"
   ]
  },
  {
   "cell_type": "code",
   "execution_count": 411,
   "metadata": {},
   "outputs": [],
   "source": [
    "library(sf) # needed for mapping"
   ]
  },
  {
   "cell_type": "code",
   "execution_count": 412,
   "metadata": {},
   "outputs": [],
   "source": [
    "# install.packages(\"tmap\")\n",
    "# this for some reason can only be installed via install.packages(), but only has to be done once in your environment"
   ]
  },
  {
   "cell_type": "code",
   "execution_count": 413,
   "metadata": {},
   "outputs": [],
   "source": [
    "library(tmap) # needed for mapping"
   ]
  },
  {
   "cell_type": "code",
   "execution_count": 414,
   "metadata": {},
   "outputs": [],
   "source": [
    "# Set default options to display more digits, useful for gps coordinates"
   ]
  },
  {
   "cell_type": "code",
   "execution_count": 415,
   "metadata": {},
   "outputs": [],
   "source": [
    "options(digits=15) # set the visible number of digits to 15, useful when displaying GIS coordinates in dataframes"
   ]
  },
  {
   "cell_type": "code",
   "execution_count": 416,
   "metadata": {},
   "outputs": [
    {
     "data": {
      "text/html": [
       "<strong>$digits</strong> = 15"
      ],
      "text/latex": [
       "\\textbf{\\$digits} = 15"
      ],
      "text/markdown": [
       "**$digits** = 15"
      ],
      "text/plain": [
       "$digits\n",
       "[1] 15\n"
      ]
     },
     "metadata": {},
     "output_type": "display_data"
    }
   ],
   "source": [
    "options(\"digits\") # display the max number of digits that appear in cells of a dataframe"
   ]
  },
  {
   "cell_type": "code",
   "execution_count": 417,
   "metadata": {},
   "outputs": [
    {
     "data": {
      "text/plain": [
       "R version 3.4.3 (2017-11-30)\n",
       "Platform: x86_64-w64-mingw32/x64 (64-bit)\n",
       "Running under: Windows 10 x64 (build 17134)\n",
       "\n",
       "Matrix products: default\n",
       "\n",
       "locale:\n",
       "[1] LC_COLLATE=English_Canada.1252  LC_CTYPE=English_Canada.1252   \n",
       "[3] LC_MONETARY=English_Canada.1252 LC_NUMERIC=C                   \n",
       "[5] LC_TIME=English_Canada.1252    \n",
       "\n",
       "attached base packages:\n",
       "[1] stats     graphics  grDevices utils     datasets  methods   base     \n",
       "\n",
       "other attached packages:\n",
       " [1] bindrcpp_0.2         tmap_1.10            sf_0.5-4            \n",
       " [4] gridExtra_2.2.1      data.table_1.10.4-3  forcats_0.2.0       \n",
       " [7] stringr_1.2.0        dplyr_0.7.4          purrr_0.2.4         \n",
       "[10] readr_1.1.1          tidyr_0.7.2          tibble_1.4.1        \n",
       "[13] ggplot2_2.2.1        tidyverse_1.2.1      RevoUtils_10.0.8    \n",
       "[16] RevoUtilsMath_10.0.1\n",
       "\n",
       "loaded via a namespace (and not attached):\n",
       "  [1] colorspace_1.3-2   deldir_0.1-14      class_7.3-14      \n",
       "  [4] gdalUtils_2.0.1.7  leaflet_1.1.0      rgdal_1.2-8       \n",
       "  [7] satellite_1.0.0    IRdisplay_0.4.4    base64enc_0.1-3   \n",
       " [10] dichromat_2.0-0    rstudioapi_0.7     lubridate_1.7.1   \n",
       " [13] xml2_1.1.1         R.methodsS3_1.7.1  codetools_0.2-15  \n",
       " [16] splines_3.4.3      mnormt_1.5-5       geojsonlint_0.2.0 \n",
       " [19] IRkernel_0.8.11    jsonlite_1.5       tmaptools_1.2-1   \n",
       " [22] broom_0.4.3        png_0.1-7          R.oo_1.21.0       \n",
       " [25] rgeos_0.3-23       shiny_1.0.5        compiler_3.4.3    \n",
       " [28] httr_1.3.1         mapview_2.1.4      assertthat_0.2.0  \n",
       " [31] Matrix_1.2-12      lazyeval_0.2.1     cli_1.0.0         \n",
       " [34] htmltools_0.3.6    tools_3.4.3        coda_0.19-1       \n",
       " [37] gtable_0.2.0       glue_1.2.0         reshape2_1.4.3    \n",
       " [40] gmodels_2.16.2     V8_1.5             Rcpp_0.12.14      \n",
       " [43] cellranger_1.1.0   raster_2.5-8       spdep_0.6-13      \n",
       " [46] gdata_2.18.0       nlme_3.1-131       udunits2_0.13     \n",
       " [49] iterators_1.0.9    crosstalk_1.0.0    psych_1.7.5       \n",
       " [52] rvest_0.3.2        mime_0.5           gtools_3.5.0      \n",
       " [55] XML_3.98-1.9       LearnBayes_2.15    MASS_7.3-47       \n",
       " [58] scales_0.5.0       hms_0.4.0          parallel_3.4.3    \n",
       " [61] expm_0.999-2       RColorBrewer_1.1-2 curl_3.1          \n",
       " [64] geosphere_1.5-5    stringi_1.1.6      jsonvalidate_1.0.0\n",
       " [67] foreach_1.4.5      e1071_1.6-8        boot_1.3-20       \n",
       " [70] repr_0.12.0        rlang_0.1.6        pkgconfig_2.0.1   \n",
       " [73] bitops_1.0-6       evaluate_0.10.1    lattice_0.20-35   \n",
       " [76] bindr_0.1          htmlwidgets_0.9    tidyselect_0.2.3  \n",
       " [79] osmar_1.1-7        plyr_1.8.4         magrittr_1.5      \n",
       " [82] R6_2.2.2           pbdZMQ_0.2-6       DBI_0.7           \n",
       " [85] pillar_1.0.1       haven_1.1.0        foreign_0.8-69    \n",
       " [88] units_0.4-6        RCurl_1.95-4.8     sp_1.2-5          \n",
       " [91] modelr_0.1.1       crayon_1.3.4       rmapshaper_0.3.0  \n",
       " [94] uuid_0.1-2         KernSmooth_2.23-15 grid_3.4.3        \n",
       " [97] readxl_1.0.0       webshot_0.4.1      digest_0.6.13     \n",
       "[100] classInt_0.1-24    xtable_1.8-2       httpuv_1.3.5      \n",
       "[103] R.utils_2.5.0      stats4_3.4.3       munsell_0.4.3     \n",
       "[106] viridisLite_0.2.0 "
      ]
     },
     "metadata": {},
     "output_type": "display_data"
    }
   ],
   "source": [
    "sessionInfo()"
   ]
  },
  {
   "cell_type": "markdown",
   "metadata": {},
   "source": [
    "# Main Script Begins Here"
   ]
  },
  {
   "cell_type": "markdown",
   "metadata": {},
   "source": [
    "## 51. Percent Females Satisfied or Very Satisfied with Work Life Balance Across All Employment Types, 2016"
   ]
  },
  {
   "cell_type": "code",
   "execution_count": 418,
   "metadata": {},
   "outputs": [
    {
     "data": {
      "text/plain": [
       "[1] \"2018-08-16 14:23:36 AST\""
      ]
     },
     "metadata": {},
     "output_type": "display_data"
    }
   ],
   "source": [
    "Sys.time() # script start time from body"
   ]
  },
  {
   "cell_type": "code",
   "execution_count": 419,
   "metadata": {},
   "outputs": [],
   "source": [
    "# Import and clean data before analysis"
   ]
  },
  {
   "cell_type": "code",
   "execution_count": 420,
   "metadata": {},
   "outputs": [
    {
     "data": {
      "text/plain": [
       "[1] \"2018-08-16 14:23:36 AST\""
      ]
     },
     "metadata": {},
     "output_type": "display_data"
    },
    {
     "data": {
      "text/plain": [
       "[1] \"2018-08-16 14:23:36 AST\""
      ]
     },
     "metadata": {},
     "output_type": "display_data"
    }
   ],
   "source": [
    "# Import dataset\n",
    "# Satisfaction with the balance between work and home by age group, sex and employment type, Canada, provinces and regions\n",
    "# Data from 2016\n",
    "# Source: https://www150.statcan.gc.ca/t1/tbl1/en/tv.action?pid=1410020701\n",
    "\n",
    "\n",
    "\n",
    "Sys.time() # start time for reading file\n",
    "f <- function(x, pos) subset(x, \n",
    "                            !is.na(VALUE) # filter out any rows with missing values in the specified column in parenthesis\n",
    "                            & Response == \"Very satisfied or satisfied\" # only include rows where the specified condition is met\n",
    "                            & Estimates == \"Percentage of persons\" \n",
    "                            & GEO %in% c(\"British Columbia\", \n",
    "                                         \"Alberta\",\n",
    "                                         \"Saskatchewan\",\n",
    "                                         \"Manitoba\",\n",
    "                                         \"Ontario\",\n",
    "                                         \"Quebec\",\n",
    "                                         \"New Brunswick\",\n",
    "                                         \"Prince Edward Island\",\n",
    "                                         \"Newfoundland and Labrador\",\n",
    "                                         \"Nova Scotia\")) \n",
    "df <- read_csv_chunked(\"DataFilesWorkLifeBalance/WorkLifeBalanceSatisfaction_2016.csv\", \n",
    "                           DataFrameCallback$new(f), \n",
    "                           chunk_size = 50000, # this is an adequate chunk size\n",
    "                           col_names = TRUE,\n",
    "                           cols_only( # specify which columns with data types you want to include \n",
    "                                      # to avoid importing unwanted data\n",
    "                                      # include all columns that you specified above with col_names if you renamed them\n",
    "                               \"REF_DATE\" = col_number(),\n",
    "                               \"GEO\" = col_character(),\n",
    "                               \"Age group\" = col_character(),\n",
    "                               \"Sex\" = col_character(),\n",
    "                               \"Employment type\" = col_character(),\n",
    "                               \"Response\" = col_character(),\n",
    "                               \"Estimates\" = col_character(),\n",
    "                               \"VALUE\" = col_number()),\n",
    "                           trim_ws = TRUE) # trim leading and trailing whitespace for each data point\n",
    "Sys.time() # end time for reading file"
   ]
  },
  {
   "cell_type": "code",
   "execution_count": 421,
   "metadata": {},
   "outputs": [
    {
     "name": "stdout",
     "output_type": "stream",
     "text": [
      "Observations: 674\n",
      "Variables: 8\n",
      "$ REF_DATE          <dbl> 2016, 2016, 2016, 2016, 2016, 2016, 2016, 2016, 2...\n",
      "$ GEO               <chr> \"Newfoundland and Labrador\", \"Newfoundland and La...\n",
      "$ `Age group`       <chr> \"Total, 15 years and over\", \"Total, 15 years and ...\n",
      "$ Sex               <chr> \"Both sexes\", \"Both sexes\", \"Both sexes\", \"Males\"...\n",
      "$ `Employment type` <chr> \"Total, employment type\", \"Paid worker\", \"Self-em...\n",
      "$ Response          <chr> \"Very satisfied or satisfied\", \"Very satisfied or...\n",
      "$ Estimates         <chr> \"Percentage of persons\", \"Percentage of persons\",...\n",
      "$ VALUE             <dbl> 76.5, 75.7, 88.0, 78.5, 77.4, 89.0, 74.3, 73.8, 8...\n"
     ]
    }
   ],
   "source": [
    "glimpse(df)"
   ]
  },
  {
   "cell_type": "code",
   "execution_count": 422,
   "metadata": {},
   "outputs": [
    {
     "name": "stdout",
     "output_type": "stream",
     "text": [
      "Observations: 674\n",
      "Variables: 8\n",
      "$ Year           <dbl> 2016, 2016, 2016, 2016, 2016, 2016, 2016, 2016, 2016...\n",
      "$ PRENAME        <chr> \"Newfoundland and Labrador\", \"Newfoundland and Labra...\n",
      "$ AgeGroup       <chr> \"Total, 15 years and over\", \"Total, 15 years and ove...\n",
      "$ Sex            <chr> \"Both sexes\", \"Both sexes\", \"Both sexes\", \"Males\", \"...\n",
      "$ EmploymentType <chr> \"Total, employment type\", \"Paid worker\", \"Self-emplo...\n",
      "$ Response       <chr> \"Very satisfied or satisfied\", \"Very satisfied or sa...\n",
      "$ Estimates      <chr> \"Percentage of persons\", \"Percentage of persons\", \"P...\n",
      "$ Percent        <dbl> 76.5, 75.7, 88.0, 78.5, 77.4, 89.0, 74.3, 73.8, 85.6...\n"
     ]
    },
    {
     "data": {
      "text/html": [
       "<table>\n",
       "<thead><tr><th scope=col>Year</th><th scope=col>PRENAME</th><th scope=col>AgeGroup</th><th scope=col>Sex</th><th scope=col>EmploymentType</th><th scope=col>Response</th><th scope=col>Estimates</th><th scope=col>Percent</th></tr></thead>\n",
       "<tbody>\n",
       "\t<tr><td>2016                       </td><td>Newfoundland and Labrador  </td><td>Total, 15 years and over   </td><td>Both sexes                 </td><td>Total, employment type     </td><td>Very satisfied or satisfied</td><td>Percentage of persons      </td><td>76.5                       </td></tr>\n",
       "\t<tr><td>2016                       </td><td>Newfoundland and Labrador  </td><td>Total, 15 years and over   </td><td>Both sexes                 </td><td>Paid worker                </td><td>Very satisfied or satisfied</td><td>Percentage of persons      </td><td>75.7                       </td></tr>\n",
       "\t<tr><td>2016                       </td><td>Newfoundland and Labrador  </td><td>Total, 15 years and over   </td><td>Both sexes                 </td><td>Self-employed              </td><td>Very satisfied or satisfied</td><td>Percentage of persons      </td><td>88.0                       </td></tr>\n",
       "\t<tr><td>2016                       </td><td>Newfoundland and Labrador  </td><td>Total, 15 years and over   </td><td>Males                      </td><td>Total, employment type     </td><td>Very satisfied or satisfied</td><td>Percentage of persons      </td><td>78.5                       </td></tr>\n",
       "\t<tr><td>2016                       </td><td>Newfoundland and Labrador  </td><td>Total, 15 years and over   </td><td>Males                      </td><td>Paid worker                </td><td>Very satisfied or satisfied</td><td>Percentage of persons      </td><td>77.4                       </td></tr>\n",
       "\t<tr><td>2016                       </td><td>Newfoundland and Labrador  </td><td>Total, 15 years and over   </td><td>Males                      </td><td>Self-employed              </td><td>Very satisfied or satisfied</td><td>Percentage of persons      </td><td>89.0                       </td></tr>\n",
       "</tbody>\n",
       "</table>\n"
      ],
      "text/latex": [
       "\\begin{tabular}{r|llllllll}\n",
       " Year & PRENAME & AgeGroup & Sex & EmploymentType & Response & Estimates & Percent\\\\\n",
       "\\hline\n",
       "\t 2016                        & Newfoundland and Labrador   & Total, 15 years and over    & Both sexes                  & Total, employment type      & Very satisfied or satisfied & Percentage of persons       & 76.5                       \\\\\n",
       "\t 2016                        & Newfoundland and Labrador   & Total, 15 years and over    & Both sexes                  & Paid worker                 & Very satisfied or satisfied & Percentage of persons       & 75.7                       \\\\\n",
       "\t 2016                        & Newfoundland and Labrador   & Total, 15 years and over    & Both sexes                  & Self-employed               & Very satisfied or satisfied & Percentage of persons       & 88.0                       \\\\\n",
       "\t 2016                        & Newfoundland and Labrador   & Total, 15 years and over    & Males                       & Total, employment type      & Very satisfied or satisfied & Percentage of persons       & 78.5                       \\\\\n",
       "\t 2016                        & Newfoundland and Labrador   & Total, 15 years and over    & Males                       & Paid worker                 & Very satisfied or satisfied & Percentage of persons       & 77.4                       \\\\\n",
       "\t 2016                        & Newfoundland and Labrador   & Total, 15 years and over    & Males                       & Self-employed               & Very satisfied or satisfied & Percentage of persons       & 89.0                       \\\\\n",
       "\\end{tabular}\n"
      ],
      "text/markdown": [
       "\n",
       "Year | PRENAME | AgeGroup | Sex | EmploymentType | Response | Estimates | Percent | \n",
       "|---|---|---|---|---|---|\n",
       "| 2016                        | Newfoundland and Labrador   | Total, 15 years and over    | Both sexes                  | Total, employment type      | Very satisfied or satisfied | Percentage of persons       | 76.5                        | \n",
       "| 2016                        | Newfoundland and Labrador   | Total, 15 years and over    | Both sexes                  | Paid worker                 | Very satisfied or satisfied | Percentage of persons       | 75.7                        | \n",
       "| 2016                        | Newfoundland and Labrador   | Total, 15 years and over    | Both sexes                  | Self-employed               | Very satisfied or satisfied | Percentage of persons       | 88.0                        | \n",
       "| 2016                        | Newfoundland and Labrador   | Total, 15 years and over    | Males                       | Total, employment type      | Very satisfied or satisfied | Percentage of persons       | 78.5                        | \n",
       "| 2016                        | Newfoundland and Labrador   | Total, 15 years and over    | Males                       | Paid worker                 | Very satisfied or satisfied | Percentage of persons       | 77.4                        | \n",
       "| 2016                        | Newfoundland and Labrador   | Total, 15 years and over    | Males                       | Self-employed               | Very satisfied or satisfied | Percentage of persons       | 89.0                        | \n",
       "\n",
       "\n"
      ],
      "text/plain": [
       "  Year PRENAME                   AgeGroup                 Sex       \n",
       "1 2016 Newfoundland and Labrador Total, 15 years and over Both sexes\n",
       "2 2016 Newfoundland and Labrador Total, 15 years and over Both sexes\n",
       "3 2016 Newfoundland and Labrador Total, 15 years and over Both sexes\n",
       "4 2016 Newfoundland and Labrador Total, 15 years and over Males     \n",
       "5 2016 Newfoundland and Labrador Total, 15 years and over Males     \n",
       "6 2016 Newfoundland and Labrador Total, 15 years and over Males     \n",
       "  EmploymentType         Response                    Estimates            \n",
       "1 Total, employment type Very satisfied or satisfied Percentage of persons\n",
       "2 Paid worker            Very satisfied or satisfied Percentage of persons\n",
       "3 Self-employed          Very satisfied or satisfied Percentage of persons\n",
       "4 Total, employment type Very satisfied or satisfied Percentage of persons\n",
       "5 Paid worker            Very satisfied or satisfied Percentage of persons\n",
       "6 Self-employed          Very satisfied or satisfied Percentage of persons\n",
       "  Percent\n",
       "1 76.5   \n",
       "2 75.7   \n",
       "3 88.0   \n",
       "4 78.5   \n",
       "5 77.4   \n",
       "6 89.0   "
      ]
     },
     "metadata": {},
     "output_type": "display_data"
    }
   ],
   "source": [
    "colnames(df) <- c(\"Year\", \"PRENAME\", \"AgeGroup\", \"Sex\", \"EmploymentType\", \"Response\", \"Estimates\", \"Percent\")\n",
    "glimpse(df)\n",
    "head(df)"
   ]
  },
  {
   "cell_type": "code",
   "execution_count": 423,
   "metadata": {},
   "outputs": [
    {
     "name": "stdout",
     "output_type": "stream",
     "text": [
      "Observations: 29\n",
      "Variables: 8\n",
      "$ Year           <dbl> 2016, 2016, 2016, 2016, 2016, 2016, 2016, 2016, 2016...\n",
      "$ PRENAME        <chr> \"Newfoundland and Labrador\", \"Newfoundland and Labra...\n",
      "$ AgeGroup       <chr> \"Total, 15 years and over\", \"Total, 15 years and ove...\n",
      "$ Sex            <chr> \"Females\", \"Females\", \"Females\", \"Females\", \"Females...\n",
      "$ EmploymentType <chr> \"Total, employment type\", \"Paid worker\", \"Self-emplo...\n",
      "$ Response       <chr> \"Very satisfied or satisfied\", \"Very satisfied or sa...\n",
      "$ Estimates      <chr> \"Percentage of persons\", \"Percentage of persons\", \"P...\n",
      "$ Percent        <dbl> 74.3, 73.8, 85.6, 78.9, 78.9, 67.6, 67.5, 69.8, 66.7...\n"
     ]
    },
    {
     "data": {
      "text/html": [
       "<table>\n",
       "<thead><tr><th scope=col>Year</th><th scope=col>PRENAME</th><th scope=col>AgeGroup</th><th scope=col>Sex</th><th scope=col>EmploymentType</th><th scope=col>Response</th><th scope=col>Estimates</th><th scope=col>Percent</th></tr></thead>\n",
       "<tbody>\n",
       "\t<tr><td>2016                       </td><td>Newfoundland and Labrador  </td><td>Total, 15 years and over   </td><td>Females                    </td><td>Total, employment type     </td><td>Very satisfied or satisfied</td><td>Percentage of persons      </td><td>74.3                       </td></tr>\n",
       "\t<tr><td>2016                       </td><td>Newfoundland and Labrador  </td><td>Total, 15 years and over   </td><td>Females                    </td><td>Paid worker                </td><td>Very satisfied or satisfied</td><td>Percentage of persons      </td><td>73.8                       </td></tr>\n",
       "\t<tr><td>2016                       </td><td>Newfoundland and Labrador  </td><td>Total, 15 years and over   </td><td>Females                    </td><td>Self-employed              </td><td>Very satisfied or satisfied</td><td>Percentage of persons      </td><td>85.6                       </td></tr>\n",
       "\t<tr><td>2016                       </td><td>Prince Edward Island       </td><td>Total, 15 years and over   </td><td>Females                    </td><td>Total, employment type     </td><td>Very satisfied or satisfied</td><td>Percentage of persons      </td><td>78.9                       </td></tr>\n",
       "\t<tr><td>2016                       </td><td>Prince Edward Island       </td><td>Total, 15 years and over   </td><td>Females                    </td><td>Paid worker                </td><td>Very satisfied or satisfied</td><td>Percentage of persons      </td><td>78.9                       </td></tr>\n",
       "\t<tr><td>2016                       </td><td>Nova Scotia                </td><td>Total, 15 years and over   </td><td>Females                    </td><td>Total, employment type     </td><td>Very satisfied or satisfied</td><td>Percentage of persons      </td><td>67.6                       </td></tr>\n",
       "\t<tr><td>2016                       </td><td>Nova Scotia                </td><td>Total, 15 years and over   </td><td>Females                    </td><td>Paid worker                </td><td>Very satisfied or satisfied</td><td>Percentage of persons      </td><td>67.5                       </td></tr>\n",
       "\t<tr><td>2016                       </td><td>Nova Scotia                </td><td>Total, 15 years and over   </td><td>Females                    </td><td>Self-employed              </td><td>Very satisfied or satisfied</td><td>Percentage of persons      </td><td>69.8                       </td></tr>\n",
       "\t<tr><td>2016                       </td><td>New Brunswick              </td><td>Total, 15 years and over   </td><td>Females                    </td><td>Total, employment type     </td><td>Very satisfied or satisfied</td><td>Percentage of persons      </td><td>66.7                       </td></tr>\n",
       "\t<tr><td>2016                       </td><td>New Brunswick              </td><td>Total, 15 years and over   </td><td>Females                    </td><td>Paid worker                </td><td>Very satisfied or satisfied</td><td>Percentage of persons      </td><td>66.4                       </td></tr>\n",
       "\t<tr><td>2016                       </td><td>New Brunswick              </td><td>Total, 15 years and over   </td><td>Females                    </td><td>Self-employed              </td><td>Very satisfied or satisfied</td><td>Percentage of persons      </td><td>70.2                       </td></tr>\n",
       "\t<tr><td>2016                       </td><td>Quebec                     </td><td>Total, 15 years and over   </td><td>Females                    </td><td>Total, employment type     </td><td>Very satisfied or satisfied</td><td>Percentage of persons      </td><td>72.4                       </td></tr>\n",
       "\t<tr><td>2016                       </td><td>Quebec                     </td><td>Total, 15 years and over   </td><td>Females                    </td><td>Paid worker                </td><td>Very satisfied or satisfied</td><td>Percentage of persons      </td><td>70.5                       </td></tr>\n",
       "\t<tr><td>2016                       </td><td>Quebec                     </td><td>Total, 15 years and over   </td><td>Females                    </td><td>Self-employed              </td><td>Very satisfied or satisfied</td><td>Percentage of persons      </td><td>87.3                       </td></tr>\n",
       "\t<tr><td>2016                       </td><td>Ontario                    </td><td>Total, 15 years and over   </td><td>Females                    </td><td>Total, employment type     </td><td>Very satisfied or satisfied</td><td>Percentage of persons      </td><td>63.1                       </td></tr>\n",
       "\t<tr><td>2016                       </td><td>Ontario                    </td><td>Total, 15 years and over   </td><td>Females                    </td><td>Paid worker                </td><td>Very satisfied or satisfied</td><td>Percentage of persons      </td><td>62.0                       </td></tr>\n",
       "\t<tr><td>2016                       </td><td>Ontario                    </td><td>Total, 15 years and over   </td><td>Females                    </td><td>Self-employed              </td><td>Very satisfied or satisfied</td><td>Percentage of persons      </td><td>72.1                       </td></tr>\n",
       "\t<tr><td>2016                       </td><td>Manitoba                   </td><td>Total, 15 years and over   </td><td>Females                    </td><td>Total, employment type     </td><td>Very satisfied or satisfied</td><td>Percentage of persons      </td><td>73.1                       </td></tr>\n",
       "\t<tr><td>2016                       </td><td>Manitoba                   </td><td>Total, 15 years and over   </td><td>Females                    </td><td>Paid worker                </td><td>Very satisfied or satisfied</td><td>Percentage of persons      </td><td>73.0                       </td></tr>\n",
       "\t<tr><td>2016                       </td><td>Manitoba                   </td><td>Total, 15 years and over   </td><td>Females                    </td><td>Self-employed              </td><td>Very satisfied or satisfied</td><td>Percentage of persons      </td><td>74.2                       </td></tr>\n",
       "\t<tr><td>2016                       </td><td>Saskatchewan               </td><td>Total, 15 years and over   </td><td>Females                    </td><td>Total, employment type     </td><td>Very satisfied or satisfied</td><td>Percentage of persons      </td><td>74.3                       </td></tr>\n",
       "\t<tr><td>2016                       </td><td>Saskatchewan               </td><td>Total, 15 years and over   </td><td>Females                    </td><td>Paid worker                </td><td>Very satisfied or satisfied</td><td>Percentage of persons      </td><td>72.5                       </td></tr>\n",
       "\t<tr><td>2016                       </td><td>Saskatchewan               </td><td>Total, 15 years and over   </td><td>Females                    </td><td>Self-employed              </td><td>Very satisfied or satisfied</td><td>Percentage of persons      </td><td>86.5                       </td></tr>\n",
       "\t<tr><td>2016                       </td><td>Alberta                    </td><td>Total, 15 years and over   </td><td>Females                    </td><td>Total, employment type     </td><td>Very satisfied or satisfied</td><td>Percentage of persons      </td><td>64.4                       </td></tr>\n",
       "\t<tr><td>2016                       </td><td>Alberta                    </td><td>Total, 15 years and over   </td><td>Females                    </td><td>Paid worker                </td><td>Very satisfied or satisfied</td><td>Percentage of persons      </td><td>63.7                       </td></tr>\n",
       "\t<tr><td>2016                       </td><td>Alberta                    </td><td>Total, 15 years and over   </td><td>Females                    </td><td>Self-employed              </td><td>Very satisfied or satisfied</td><td>Percentage of persons      </td><td>69.4                       </td></tr>\n",
       "\t<tr><td>2016                       </td><td>British Columbia           </td><td>Total, 15 years and over   </td><td>Females                    </td><td>Total, employment type     </td><td>Very satisfied or satisfied</td><td>Percentage of persons      </td><td>63.1                       </td></tr>\n",
       "\t<tr><td>2016                       </td><td>British Columbia           </td><td>Total, 15 years and over   </td><td>Females                    </td><td>Paid worker                </td><td>Very satisfied or satisfied</td><td>Percentage of persons      </td><td>62.7                       </td></tr>\n",
       "\t<tr><td>2016                       </td><td>British Columbia           </td><td>Total, 15 years and over   </td><td>Females                    </td><td>Self-employed              </td><td>Very satisfied or satisfied</td><td>Percentage of persons      </td><td>66.1                       </td></tr>\n",
       "</tbody>\n",
       "</table>\n"
      ],
      "text/latex": [
       "\\begin{tabular}{r|llllllll}\n",
       " Year & PRENAME & AgeGroup & Sex & EmploymentType & Response & Estimates & Percent\\\\\n",
       "\\hline\n",
       "\t 2016                        & Newfoundland and Labrador   & Total, 15 years and over    & Females                     & Total, employment type      & Very satisfied or satisfied & Percentage of persons       & 74.3                       \\\\\n",
       "\t 2016                        & Newfoundland and Labrador   & Total, 15 years and over    & Females                     & Paid worker                 & Very satisfied or satisfied & Percentage of persons       & 73.8                       \\\\\n",
       "\t 2016                        & Newfoundland and Labrador   & Total, 15 years and over    & Females                     & Self-employed               & Very satisfied or satisfied & Percentage of persons       & 85.6                       \\\\\n",
       "\t 2016                        & Prince Edward Island        & Total, 15 years and over    & Females                     & Total, employment type      & Very satisfied or satisfied & Percentage of persons       & 78.9                       \\\\\n",
       "\t 2016                        & Prince Edward Island        & Total, 15 years and over    & Females                     & Paid worker                 & Very satisfied or satisfied & Percentage of persons       & 78.9                       \\\\\n",
       "\t 2016                        & Nova Scotia                 & Total, 15 years and over    & Females                     & Total, employment type      & Very satisfied or satisfied & Percentage of persons       & 67.6                       \\\\\n",
       "\t 2016                        & Nova Scotia                 & Total, 15 years and over    & Females                     & Paid worker                 & Very satisfied or satisfied & Percentage of persons       & 67.5                       \\\\\n",
       "\t 2016                        & Nova Scotia                 & Total, 15 years and over    & Females                     & Self-employed               & Very satisfied or satisfied & Percentage of persons       & 69.8                       \\\\\n",
       "\t 2016                        & New Brunswick               & Total, 15 years and over    & Females                     & Total, employment type      & Very satisfied or satisfied & Percentage of persons       & 66.7                       \\\\\n",
       "\t 2016                        & New Brunswick               & Total, 15 years and over    & Females                     & Paid worker                 & Very satisfied or satisfied & Percentage of persons       & 66.4                       \\\\\n",
       "\t 2016                        & New Brunswick               & Total, 15 years and over    & Females                     & Self-employed               & Very satisfied or satisfied & Percentage of persons       & 70.2                       \\\\\n",
       "\t 2016                        & Quebec                      & Total, 15 years and over    & Females                     & Total, employment type      & Very satisfied or satisfied & Percentage of persons       & 72.4                       \\\\\n",
       "\t 2016                        & Quebec                      & Total, 15 years and over    & Females                     & Paid worker                 & Very satisfied or satisfied & Percentage of persons       & 70.5                       \\\\\n",
       "\t 2016                        & Quebec                      & Total, 15 years and over    & Females                     & Self-employed               & Very satisfied or satisfied & Percentage of persons       & 87.3                       \\\\\n",
       "\t 2016                        & Ontario                     & Total, 15 years and over    & Females                     & Total, employment type      & Very satisfied or satisfied & Percentage of persons       & 63.1                       \\\\\n",
       "\t 2016                        & Ontario                     & Total, 15 years and over    & Females                     & Paid worker                 & Very satisfied or satisfied & Percentage of persons       & 62.0                       \\\\\n",
       "\t 2016                        & Ontario                     & Total, 15 years and over    & Females                     & Self-employed               & Very satisfied or satisfied & Percentage of persons       & 72.1                       \\\\\n",
       "\t 2016                        & Manitoba                    & Total, 15 years and over    & Females                     & Total, employment type      & Very satisfied or satisfied & Percentage of persons       & 73.1                       \\\\\n",
       "\t 2016                        & Manitoba                    & Total, 15 years and over    & Females                     & Paid worker                 & Very satisfied or satisfied & Percentage of persons       & 73.0                       \\\\\n",
       "\t 2016                        & Manitoba                    & Total, 15 years and over    & Females                     & Self-employed               & Very satisfied or satisfied & Percentage of persons       & 74.2                       \\\\\n",
       "\t 2016                        & Saskatchewan                & Total, 15 years and over    & Females                     & Total, employment type      & Very satisfied or satisfied & Percentage of persons       & 74.3                       \\\\\n",
       "\t 2016                        & Saskatchewan                & Total, 15 years and over    & Females                     & Paid worker                 & Very satisfied or satisfied & Percentage of persons       & 72.5                       \\\\\n",
       "\t 2016                        & Saskatchewan                & Total, 15 years and over    & Females                     & Self-employed               & Very satisfied or satisfied & Percentage of persons       & 86.5                       \\\\\n",
       "\t 2016                        & Alberta                     & Total, 15 years and over    & Females                     & Total, employment type      & Very satisfied or satisfied & Percentage of persons       & 64.4                       \\\\\n",
       "\t 2016                        & Alberta                     & Total, 15 years and over    & Females                     & Paid worker                 & Very satisfied or satisfied & Percentage of persons       & 63.7                       \\\\\n",
       "\t 2016                        & Alberta                     & Total, 15 years and over    & Females                     & Self-employed               & Very satisfied or satisfied & Percentage of persons       & 69.4                       \\\\\n",
       "\t 2016                        & British Columbia            & Total, 15 years and over    & Females                     & Total, employment type      & Very satisfied or satisfied & Percentage of persons       & 63.1                       \\\\\n",
       "\t 2016                        & British Columbia            & Total, 15 years and over    & Females                     & Paid worker                 & Very satisfied or satisfied & Percentage of persons       & 62.7                       \\\\\n",
       "\t 2016                        & British Columbia            & Total, 15 years and over    & Females                     & Self-employed               & Very satisfied or satisfied & Percentage of persons       & 66.1                       \\\\\n",
       "\\end{tabular}\n"
      ],
      "text/markdown": [
       "\n",
       "Year | PRENAME | AgeGroup | Sex | EmploymentType | Response | Estimates | Percent | \n",
       "|---|---|---|---|---|---|---|---|---|---|---|---|---|---|---|---|---|---|---|---|---|---|---|---|---|---|---|---|---|\n",
       "| 2016                        | Newfoundland and Labrador   | Total, 15 years and over    | Females                     | Total, employment type      | Very satisfied or satisfied | Percentage of persons       | 74.3                        | \n",
       "| 2016                        | Newfoundland and Labrador   | Total, 15 years and over    | Females                     | Paid worker                 | Very satisfied or satisfied | Percentage of persons       | 73.8                        | \n",
       "| 2016                        | Newfoundland and Labrador   | Total, 15 years and over    | Females                     | Self-employed               | Very satisfied or satisfied | Percentage of persons       | 85.6                        | \n",
       "| 2016                        | Prince Edward Island        | Total, 15 years and over    | Females                     | Total, employment type      | Very satisfied or satisfied | Percentage of persons       | 78.9                        | \n",
       "| 2016                        | Prince Edward Island        | Total, 15 years and over    | Females                     | Paid worker                 | Very satisfied or satisfied | Percentage of persons       | 78.9                        | \n",
       "| 2016                        | Nova Scotia                 | Total, 15 years and over    | Females                     | Total, employment type      | Very satisfied or satisfied | Percentage of persons       | 67.6                        | \n",
       "| 2016                        | Nova Scotia                 | Total, 15 years and over    | Females                     | Paid worker                 | Very satisfied or satisfied | Percentage of persons       | 67.5                        | \n",
       "| 2016                        | Nova Scotia                 | Total, 15 years and over    | Females                     | Self-employed               | Very satisfied or satisfied | Percentage of persons       | 69.8                        | \n",
       "| 2016                        | New Brunswick               | Total, 15 years and over    | Females                     | Total, employment type      | Very satisfied or satisfied | Percentage of persons       | 66.7                        | \n",
       "| 2016                        | New Brunswick               | Total, 15 years and over    | Females                     | Paid worker                 | Very satisfied or satisfied | Percentage of persons       | 66.4                        | \n",
       "| 2016                        | New Brunswick               | Total, 15 years and over    | Females                     | Self-employed               | Very satisfied or satisfied | Percentage of persons       | 70.2                        | \n",
       "| 2016                        | Quebec                      | Total, 15 years and over    | Females                     | Total, employment type      | Very satisfied or satisfied | Percentage of persons       | 72.4                        | \n",
       "| 2016                        | Quebec                      | Total, 15 years and over    | Females                     | Paid worker                 | Very satisfied or satisfied | Percentage of persons       | 70.5                        | \n",
       "| 2016                        | Quebec                      | Total, 15 years and over    | Females                     | Self-employed               | Very satisfied or satisfied | Percentage of persons       | 87.3                        | \n",
       "| 2016                        | Ontario                     | Total, 15 years and over    | Females                     | Total, employment type      | Very satisfied or satisfied | Percentage of persons       | 63.1                        | \n",
       "| 2016                        | Ontario                     | Total, 15 years and over    | Females                     | Paid worker                 | Very satisfied or satisfied | Percentage of persons       | 62.0                        | \n",
       "| 2016                        | Ontario                     | Total, 15 years and over    | Females                     | Self-employed               | Very satisfied or satisfied | Percentage of persons       | 72.1                        | \n",
       "| 2016                        | Manitoba                    | Total, 15 years and over    | Females                     | Total, employment type      | Very satisfied or satisfied | Percentage of persons       | 73.1                        | \n",
       "| 2016                        | Manitoba                    | Total, 15 years and over    | Females                     | Paid worker                 | Very satisfied or satisfied | Percentage of persons       | 73.0                        | \n",
       "| 2016                        | Manitoba                    | Total, 15 years and over    | Females                     | Self-employed               | Very satisfied or satisfied | Percentage of persons       | 74.2                        | \n",
       "| 2016                        | Saskatchewan                | Total, 15 years and over    | Females                     | Total, employment type      | Very satisfied or satisfied | Percentage of persons       | 74.3                        | \n",
       "| 2016                        | Saskatchewan                | Total, 15 years and over    | Females                     | Paid worker                 | Very satisfied or satisfied | Percentage of persons       | 72.5                        | \n",
       "| 2016                        | Saskatchewan                | Total, 15 years and over    | Females                     | Self-employed               | Very satisfied or satisfied | Percentage of persons       | 86.5                        | \n",
       "| 2016                        | Alberta                     | Total, 15 years and over    | Females                     | Total, employment type      | Very satisfied or satisfied | Percentage of persons       | 64.4                        | \n",
       "| 2016                        | Alberta                     | Total, 15 years and over    | Females                     | Paid worker                 | Very satisfied or satisfied | Percentage of persons       | 63.7                        | \n",
       "| 2016                        | Alberta                     | Total, 15 years and over    | Females                     | Self-employed               | Very satisfied or satisfied | Percentage of persons       | 69.4                        | \n",
       "| 2016                        | British Columbia            | Total, 15 years and over    | Females                     | Total, employment type      | Very satisfied or satisfied | Percentage of persons       | 63.1                        | \n",
       "| 2016                        | British Columbia            | Total, 15 years and over    | Females                     | Paid worker                 | Very satisfied or satisfied | Percentage of persons       | 62.7                        | \n",
       "| 2016                        | British Columbia            | Total, 15 years and over    | Females                     | Self-employed               | Very satisfied or satisfied | Percentage of persons       | 66.1                        | \n",
       "\n",
       "\n"
      ],
      "text/plain": [
       "   Year PRENAME                   AgeGroup                 Sex    \n",
       "1  2016 Newfoundland and Labrador Total, 15 years and over Females\n",
       "2  2016 Newfoundland and Labrador Total, 15 years and over Females\n",
       "3  2016 Newfoundland and Labrador Total, 15 years and over Females\n",
       "4  2016 Prince Edward Island      Total, 15 years and over Females\n",
       "5  2016 Prince Edward Island      Total, 15 years and over Females\n",
       "6  2016 Nova Scotia               Total, 15 years and over Females\n",
       "7  2016 Nova Scotia               Total, 15 years and over Females\n",
       "8  2016 Nova Scotia               Total, 15 years and over Females\n",
       "9  2016 New Brunswick             Total, 15 years and over Females\n",
       "10 2016 New Brunswick             Total, 15 years and over Females\n",
       "11 2016 New Brunswick             Total, 15 years and over Females\n",
       "12 2016 Quebec                    Total, 15 years and over Females\n",
       "13 2016 Quebec                    Total, 15 years and over Females\n",
       "14 2016 Quebec                    Total, 15 years and over Females\n",
       "15 2016 Ontario                   Total, 15 years and over Females\n",
       "16 2016 Ontario                   Total, 15 years and over Females\n",
       "17 2016 Ontario                   Total, 15 years and over Females\n",
       "18 2016 Manitoba                  Total, 15 years and over Females\n",
       "19 2016 Manitoba                  Total, 15 years and over Females\n",
       "20 2016 Manitoba                  Total, 15 years and over Females\n",
       "21 2016 Saskatchewan              Total, 15 years and over Females\n",
       "22 2016 Saskatchewan              Total, 15 years and over Females\n",
       "23 2016 Saskatchewan              Total, 15 years and over Females\n",
       "24 2016 Alberta                   Total, 15 years and over Females\n",
       "25 2016 Alberta                   Total, 15 years and over Females\n",
       "26 2016 Alberta                   Total, 15 years and over Females\n",
       "27 2016 British Columbia          Total, 15 years and over Females\n",
       "28 2016 British Columbia          Total, 15 years and over Females\n",
       "29 2016 British Columbia          Total, 15 years and over Females\n",
       "   EmploymentType         Response                    Estimates            \n",
       "1  Total, employment type Very satisfied or satisfied Percentage of persons\n",
       "2  Paid worker            Very satisfied or satisfied Percentage of persons\n",
       "3  Self-employed          Very satisfied or satisfied Percentage of persons\n",
       "4  Total, employment type Very satisfied or satisfied Percentage of persons\n",
       "5  Paid worker            Very satisfied or satisfied Percentage of persons\n",
       "6  Total, employment type Very satisfied or satisfied Percentage of persons\n",
       "7  Paid worker            Very satisfied or satisfied Percentage of persons\n",
       "8  Self-employed          Very satisfied or satisfied Percentage of persons\n",
       "9  Total, employment type Very satisfied or satisfied Percentage of persons\n",
       "10 Paid worker            Very satisfied or satisfied Percentage of persons\n",
       "11 Self-employed          Very satisfied or satisfied Percentage of persons\n",
       "12 Total, employment type Very satisfied or satisfied Percentage of persons\n",
       "13 Paid worker            Very satisfied or satisfied Percentage of persons\n",
       "14 Self-employed          Very satisfied or satisfied Percentage of persons\n",
       "15 Total, employment type Very satisfied or satisfied Percentage of persons\n",
       "16 Paid worker            Very satisfied or satisfied Percentage of persons\n",
       "17 Self-employed          Very satisfied or satisfied Percentage of persons\n",
       "18 Total, employment type Very satisfied or satisfied Percentage of persons\n",
       "19 Paid worker            Very satisfied or satisfied Percentage of persons\n",
       "20 Self-employed          Very satisfied or satisfied Percentage of persons\n",
       "21 Total, employment type Very satisfied or satisfied Percentage of persons\n",
       "22 Paid worker            Very satisfied or satisfied Percentage of persons\n",
       "23 Self-employed          Very satisfied or satisfied Percentage of persons\n",
       "24 Total, employment type Very satisfied or satisfied Percentage of persons\n",
       "25 Paid worker            Very satisfied or satisfied Percentage of persons\n",
       "26 Self-employed          Very satisfied or satisfied Percentage of persons\n",
       "27 Total, employment type Very satisfied or satisfied Percentage of persons\n",
       "28 Paid worker            Very satisfied or satisfied Percentage of persons\n",
       "29 Self-employed          Very satisfied or satisfied Percentage of persons\n",
       "   Percent\n",
       "1  74.3   \n",
       "2  73.8   \n",
       "3  85.6   \n",
       "4  78.9   \n",
       "5  78.9   \n",
       "6  67.6   \n",
       "7  67.5   \n",
       "8  69.8   \n",
       "9  66.7   \n",
       "10 66.4   \n",
       "11 70.2   \n",
       "12 72.4   \n",
       "13 70.5   \n",
       "14 87.3   \n",
       "15 63.1   \n",
       "16 62.0   \n",
       "17 72.1   \n",
       "18 73.1   \n",
       "19 73.0   \n",
       "20 74.2   \n",
       "21 74.3   \n",
       "22 72.5   \n",
       "23 86.5   \n",
       "24 64.4   \n",
       "25 63.7   \n",
       "26 69.4   \n",
       "27 63.1   \n",
       "28 62.7   \n",
       "29 66.1   "
      ]
     },
     "metadata": {},
     "output_type": "display_data"
    },
    {
     "name": "stdout",
     "output_type": "stream",
     "text": [
      "Observations: 29\n",
      "Variables: 4\n",
      "$ Year           <dbl> 2016, 2016, 2016, 2016, 2016, 2016, 2016, 2016, 2016...\n",
      "$ PRENAME        <chr> \"Newfoundland and Labrador\", \"Newfoundland and Labra...\n",
      "$ EmploymentType <chr> \"Total, employment type\", \"Paid worker\", \"Self-emplo...\n",
      "$ Percent        <dbl> 74.3, 73.8, 85.6, 78.9, 78.9, 67.6, 67.5, 69.8, 66.7...\n"
     ]
    },
    {
     "data": {
      "text/html": [
       "<table>\n",
       "<thead><tr><th scope=col>Year</th><th scope=col>PRENAME</th><th scope=col>EmploymentType</th><th scope=col>Percent</th></tr></thead>\n",
       "<tbody>\n",
       "\t<tr><td>2016                     </td><td>Newfoundland and Labrador</td><td>Total, employment type   </td><td>74.3                     </td></tr>\n",
       "\t<tr><td>2016                     </td><td>Newfoundland and Labrador</td><td>Paid worker              </td><td>73.8                     </td></tr>\n",
       "\t<tr><td>2016                     </td><td>Newfoundland and Labrador</td><td>Self-employed            </td><td>85.6                     </td></tr>\n",
       "\t<tr><td>2016                     </td><td>Prince Edward Island     </td><td>Total, employment type   </td><td>78.9                     </td></tr>\n",
       "\t<tr><td>2016                     </td><td>Prince Edward Island     </td><td>Paid worker              </td><td>78.9                     </td></tr>\n",
       "\t<tr><td>2016                     </td><td>Nova Scotia              </td><td>Total, employment type   </td><td>67.6                     </td></tr>\n",
       "\t<tr><td>2016                     </td><td>Nova Scotia              </td><td>Paid worker              </td><td>67.5                     </td></tr>\n",
       "\t<tr><td>2016                     </td><td>Nova Scotia              </td><td>Self-employed            </td><td>69.8                     </td></tr>\n",
       "\t<tr><td>2016                     </td><td>New Brunswick            </td><td>Total, employment type   </td><td>66.7                     </td></tr>\n",
       "\t<tr><td>2016                     </td><td>New Brunswick            </td><td>Paid worker              </td><td>66.4                     </td></tr>\n",
       "\t<tr><td>2016                     </td><td>New Brunswick            </td><td>Self-employed            </td><td>70.2                     </td></tr>\n",
       "\t<tr><td>2016                     </td><td>Quebec                   </td><td>Total, employment type   </td><td>72.4                     </td></tr>\n",
       "\t<tr><td>2016                     </td><td>Quebec                   </td><td>Paid worker              </td><td>70.5                     </td></tr>\n",
       "\t<tr><td>2016                     </td><td>Quebec                   </td><td>Self-employed            </td><td>87.3                     </td></tr>\n",
       "\t<tr><td>2016                     </td><td>Ontario                  </td><td>Total, employment type   </td><td>63.1                     </td></tr>\n",
       "\t<tr><td>2016                     </td><td>Ontario                  </td><td>Paid worker              </td><td>62.0                     </td></tr>\n",
       "\t<tr><td>2016                     </td><td>Ontario                  </td><td>Self-employed            </td><td>72.1                     </td></tr>\n",
       "\t<tr><td>2016                     </td><td>Manitoba                 </td><td>Total, employment type   </td><td>73.1                     </td></tr>\n",
       "\t<tr><td>2016                     </td><td>Manitoba                 </td><td>Paid worker              </td><td>73.0                     </td></tr>\n",
       "\t<tr><td>2016                     </td><td>Manitoba                 </td><td>Self-employed            </td><td>74.2                     </td></tr>\n",
       "\t<tr><td>2016                     </td><td>Saskatchewan             </td><td>Total, employment type   </td><td>74.3                     </td></tr>\n",
       "\t<tr><td>2016                     </td><td>Saskatchewan             </td><td>Paid worker              </td><td>72.5                     </td></tr>\n",
       "\t<tr><td>2016                     </td><td>Saskatchewan             </td><td>Self-employed            </td><td>86.5                     </td></tr>\n",
       "\t<tr><td>2016                     </td><td>Alberta                  </td><td>Total, employment type   </td><td>64.4                     </td></tr>\n",
       "\t<tr><td>2016                     </td><td>Alberta                  </td><td>Paid worker              </td><td>63.7                     </td></tr>\n",
       "\t<tr><td>2016                     </td><td>Alberta                  </td><td>Self-employed            </td><td>69.4                     </td></tr>\n",
       "\t<tr><td>2016                     </td><td>British Columbia         </td><td>Total, employment type   </td><td>63.1                     </td></tr>\n",
       "\t<tr><td>2016                     </td><td>British Columbia         </td><td>Paid worker              </td><td>62.7                     </td></tr>\n",
       "\t<tr><td>2016                     </td><td>British Columbia         </td><td>Self-employed            </td><td>66.1                     </td></tr>\n",
       "</tbody>\n",
       "</table>\n"
      ],
      "text/latex": [
       "\\begin{tabular}{r|llll}\n",
       " Year & PRENAME & EmploymentType & Percent\\\\\n",
       "\\hline\n",
       "\t 2016                      & Newfoundland and Labrador & Total, employment type    & 74.3                     \\\\\n",
       "\t 2016                      & Newfoundland and Labrador & Paid worker               & 73.8                     \\\\\n",
       "\t 2016                      & Newfoundland and Labrador & Self-employed             & 85.6                     \\\\\n",
       "\t 2016                      & Prince Edward Island      & Total, employment type    & 78.9                     \\\\\n",
       "\t 2016                      & Prince Edward Island      & Paid worker               & 78.9                     \\\\\n",
       "\t 2016                      & Nova Scotia               & Total, employment type    & 67.6                     \\\\\n",
       "\t 2016                      & Nova Scotia               & Paid worker               & 67.5                     \\\\\n",
       "\t 2016                      & Nova Scotia               & Self-employed             & 69.8                     \\\\\n",
       "\t 2016                      & New Brunswick             & Total, employment type    & 66.7                     \\\\\n",
       "\t 2016                      & New Brunswick             & Paid worker               & 66.4                     \\\\\n",
       "\t 2016                      & New Brunswick             & Self-employed             & 70.2                     \\\\\n",
       "\t 2016                      & Quebec                    & Total, employment type    & 72.4                     \\\\\n",
       "\t 2016                      & Quebec                    & Paid worker               & 70.5                     \\\\\n",
       "\t 2016                      & Quebec                    & Self-employed             & 87.3                     \\\\\n",
       "\t 2016                      & Ontario                   & Total, employment type    & 63.1                     \\\\\n",
       "\t 2016                      & Ontario                   & Paid worker               & 62.0                     \\\\\n",
       "\t 2016                      & Ontario                   & Self-employed             & 72.1                     \\\\\n",
       "\t 2016                      & Manitoba                  & Total, employment type    & 73.1                     \\\\\n",
       "\t 2016                      & Manitoba                  & Paid worker               & 73.0                     \\\\\n",
       "\t 2016                      & Manitoba                  & Self-employed             & 74.2                     \\\\\n",
       "\t 2016                      & Saskatchewan              & Total, employment type    & 74.3                     \\\\\n",
       "\t 2016                      & Saskatchewan              & Paid worker               & 72.5                     \\\\\n",
       "\t 2016                      & Saskatchewan              & Self-employed             & 86.5                     \\\\\n",
       "\t 2016                      & Alberta                   & Total, employment type    & 64.4                     \\\\\n",
       "\t 2016                      & Alberta                   & Paid worker               & 63.7                     \\\\\n",
       "\t 2016                      & Alberta                   & Self-employed             & 69.4                     \\\\\n",
       "\t 2016                      & British Columbia          & Total, employment type    & 63.1                     \\\\\n",
       "\t 2016                      & British Columbia          & Paid worker               & 62.7                     \\\\\n",
       "\t 2016                      & British Columbia          & Self-employed             & 66.1                     \\\\\n",
       "\\end{tabular}\n"
      ],
      "text/markdown": [
       "\n",
       "Year | PRENAME | EmploymentType | Percent | \n",
       "|---|---|---|---|---|---|---|---|---|---|---|---|---|---|---|---|---|---|---|---|---|---|---|---|---|---|---|---|---|\n",
       "| 2016                      | Newfoundland and Labrador | Total, employment type    | 74.3                      | \n",
       "| 2016                      | Newfoundland and Labrador | Paid worker               | 73.8                      | \n",
       "| 2016                      | Newfoundland and Labrador | Self-employed             | 85.6                      | \n",
       "| 2016                      | Prince Edward Island      | Total, employment type    | 78.9                      | \n",
       "| 2016                      | Prince Edward Island      | Paid worker               | 78.9                      | \n",
       "| 2016                      | Nova Scotia               | Total, employment type    | 67.6                      | \n",
       "| 2016                      | Nova Scotia               | Paid worker               | 67.5                      | \n",
       "| 2016                      | Nova Scotia               | Self-employed             | 69.8                      | \n",
       "| 2016                      | New Brunswick             | Total, employment type    | 66.7                      | \n",
       "| 2016                      | New Brunswick             | Paid worker               | 66.4                      | \n",
       "| 2016                      | New Brunswick             | Self-employed             | 70.2                      | \n",
       "| 2016                      | Quebec                    | Total, employment type    | 72.4                      | \n",
       "| 2016                      | Quebec                    | Paid worker               | 70.5                      | \n",
       "| 2016                      | Quebec                    | Self-employed             | 87.3                      | \n",
       "| 2016                      | Ontario                   | Total, employment type    | 63.1                      | \n",
       "| 2016                      | Ontario                   | Paid worker               | 62.0                      | \n",
       "| 2016                      | Ontario                   | Self-employed             | 72.1                      | \n",
       "| 2016                      | Manitoba                  | Total, employment type    | 73.1                      | \n",
       "| 2016                      | Manitoba                  | Paid worker               | 73.0                      | \n",
       "| 2016                      | Manitoba                  | Self-employed             | 74.2                      | \n",
       "| 2016                      | Saskatchewan              | Total, employment type    | 74.3                      | \n",
       "| 2016                      | Saskatchewan              | Paid worker               | 72.5                      | \n",
       "| 2016                      | Saskatchewan              | Self-employed             | 86.5                      | \n",
       "| 2016                      | Alberta                   | Total, employment type    | 64.4                      | \n",
       "| 2016                      | Alberta                   | Paid worker               | 63.7                      | \n",
       "| 2016                      | Alberta                   | Self-employed             | 69.4                      | \n",
       "| 2016                      | British Columbia          | Total, employment type    | 63.1                      | \n",
       "| 2016                      | British Columbia          | Paid worker               | 62.7                      | \n",
       "| 2016                      | British Columbia          | Self-employed             | 66.1                      | \n",
       "\n",
       "\n"
      ],
      "text/plain": [
       "   Year PRENAME                   EmploymentType         Percent\n",
       "1  2016 Newfoundland and Labrador Total, employment type 74.3   \n",
       "2  2016 Newfoundland and Labrador Paid worker            73.8   \n",
       "3  2016 Newfoundland and Labrador Self-employed          85.6   \n",
       "4  2016 Prince Edward Island      Total, employment type 78.9   \n",
       "5  2016 Prince Edward Island      Paid worker            78.9   \n",
       "6  2016 Nova Scotia               Total, employment type 67.6   \n",
       "7  2016 Nova Scotia               Paid worker            67.5   \n",
       "8  2016 Nova Scotia               Self-employed          69.8   \n",
       "9  2016 New Brunswick             Total, employment type 66.7   \n",
       "10 2016 New Brunswick             Paid worker            66.4   \n",
       "11 2016 New Brunswick             Self-employed          70.2   \n",
       "12 2016 Quebec                    Total, employment type 72.4   \n",
       "13 2016 Quebec                    Paid worker            70.5   \n",
       "14 2016 Quebec                    Self-employed          87.3   \n",
       "15 2016 Ontario                   Total, employment type 63.1   \n",
       "16 2016 Ontario                   Paid worker            62.0   \n",
       "17 2016 Ontario                   Self-employed          72.1   \n",
       "18 2016 Manitoba                  Total, employment type 73.1   \n",
       "19 2016 Manitoba                  Paid worker            73.0   \n",
       "20 2016 Manitoba                  Self-employed          74.2   \n",
       "21 2016 Saskatchewan              Total, employment type 74.3   \n",
       "22 2016 Saskatchewan              Paid worker            72.5   \n",
       "23 2016 Saskatchewan              Self-employed          86.5   \n",
       "24 2016 Alberta                   Total, employment type 64.4   \n",
       "25 2016 Alberta                   Paid worker            63.7   \n",
       "26 2016 Alberta                   Self-employed          69.4   \n",
       "27 2016 British Columbia          Total, employment type 63.1   \n",
       "28 2016 British Columbia          Paid worker            62.7   \n",
       "29 2016 British Columbia          Self-employed          66.1   "
      ]
     },
     "metadata": {},
     "output_type": "display_data"
    }
   ],
   "source": [
    "df <- df %>%\n",
    "  filter(Sex == \"Females\") %>%\n",
    "  filter(AgeGroup == \"Total, 15 years and over\")\n",
    "\n",
    "glimpse(df)\n",
    "df\n",
    "\n",
    "# remove unneded columns after filtering\n",
    "df$AgeGroup <- NULL\n",
    "df$Sex <- NULL\n",
    "df$Response <- NULL\n",
    "df$Estimates <- NULL\n",
    "\n",
    "glimpse(df)\n",
    "df"
   ]
  },
  {
   "cell_type": "code",
   "execution_count": 424,
   "metadata": {},
   "outputs": [],
   "source": [
    "# Before spreading data for tidy format, make sure to remove any special characters beforehand\n",
    "# This ensures that after spreading the data, the column names are all properly formatted\n",
    "# Properly formated column names will always appear flushed next to the dollar sign when glimpsing a dataframe\n",
    "# If spaces or special characters are present in the column name, they will appear within single quotes after the dollar sign\n",
    "# when glimpsing the dataframe after spreading the data\n",
    "\n",
    "df$EmploymentType <- gsub(\" \", \"_\", df$EmploymentType)\n",
    "df$EmploymentType <- gsub(\",\", \"\", df$EmploymentType)\n",
    "df$EmploymentType <- gsub(\";\", \"\", df$EmploymentType)\n",
    "df$EmploymentType <- gsub(\"-\", \"_\", df$EmploymentType)\n",
    "df$EmploymentType <- gsub(\"\\\\(\", \"\", df$EmploymentType) # this removes left parenthesis\n",
    "df$EmploymentType <- gsub(\"\\\\)\", \"\", df$EmploymentType) # this removes right parenthesis\n",
    "\n",
    "df <- df %>%\n",
    "  spread(EmploymentType, Percent)"
   ]
  },
  {
   "cell_type": "code",
   "execution_count": 425,
   "metadata": {},
   "outputs": [
    {
     "data": {
      "text/html": [
       "<table>\n",
       "<thead><tr><th scope=col>Year</th><th scope=col>PRENAME</th><th scope=col>Paid_worker</th><th scope=col>Self_employed</th><th scope=col>Total_employment_type</th></tr></thead>\n",
       "<tbody>\n",
       "\t<tr><td>2016                     </td><td>Alberta                  </td><td>63.7                     </td><td>69.4                     </td><td>64.4                     </td></tr>\n",
       "\t<tr><td>2016                     </td><td>British Columbia         </td><td>62.7                     </td><td>66.1                     </td><td>63.1                     </td></tr>\n",
       "\t<tr><td>2016                     </td><td>Manitoba                 </td><td>73.0                     </td><td>74.2                     </td><td>73.1                     </td></tr>\n",
       "\t<tr><td>2016                     </td><td>New Brunswick            </td><td>66.4                     </td><td>70.2                     </td><td>66.7                     </td></tr>\n",
       "\t<tr><td>2016                     </td><td>Newfoundland and Labrador</td><td>73.8                     </td><td>85.6                     </td><td>74.3                     </td></tr>\n",
       "\t<tr><td>2016                     </td><td>Nova Scotia              </td><td>67.5                     </td><td>69.8                     </td><td>67.6                     </td></tr>\n",
       "\t<tr><td>2016                     </td><td>Ontario                  </td><td>62.0                     </td><td>72.1                     </td><td>63.1                     </td></tr>\n",
       "\t<tr><td>2016                     </td><td>Prince Edward Island     </td><td>78.9                     </td><td>  NA                     </td><td>78.9                     </td></tr>\n",
       "\t<tr><td>2016                     </td><td>Quebec                   </td><td>70.5                     </td><td>87.3                     </td><td>72.4                     </td></tr>\n",
       "\t<tr><td>2016                     </td><td>Saskatchewan             </td><td>72.5                     </td><td>86.5                     </td><td>74.3                     </td></tr>\n",
       "</tbody>\n",
       "</table>\n"
      ],
      "text/latex": [
       "\\begin{tabular}{r|lllll}\n",
       " Year & PRENAME & Paid\\_worker & Self\\_employed & Total\\_employment\\_type\\\\\n",
       "\\hline\n",
       "\t 2016                      & Alberta                   & 63.7                      & 69.4                      & 64.4                     \\\\\n",
       "\t 2016                      & British Columbia          & 62.7                      & 66.1                      & 63.1                     \\\\\n",
       "\t 2016                      & Manitoba                  & 73.0                      & 74.2                      & 73.1                     \\\\\n",
       "\t 2016                      & New Brunswick             & 66.4                      & 70.2                      & 66.7                     \\\\\n",
       "\t 2016                      & Newfoundland and Labrador & 73.8                      & 85.6                      & 74.3                     \\\\\n",
       "\t 2016                      & Nova Scotia               & 67.5                      & 69.8                      & 67.6                     \\\\\n",
       "\t 2016                      & Ontario                   & 62.0                      & 72.1                      & 63.1                     \\\\\n",
       "\t 2016                      & Prince Edward Island      & 78.9                      &   NA                      & 78.9                     \\\\\n",
       "\t 2016                      & Quebec                    & 70.5                      & 87.3                      & 72.4                     \\\\\n",
       "\t 2016                      & Saskatchewan              & 72.5                      & 86.5                      & 74.3                     \\\\\n",
       "\\end{tabular}\n"
      ],
      "text/markdown": [
       "\n",
       "Year | PRENAME | Paid_worker | Self_employed | Total_employment_type | \n",
       "|---|---|---|---|---|---|---|---|---|---|\n",
       "| 2016                      | Alberta                   | 63.7                      | 69.4                      | 64.4                      | \n",
       "| 2016                      | British Columbia          | 62.7                      | 66.1                      | 63.1                      | \n",
       "| 2016                      | Manitoba                  | 73.0                      | 74.2                      | 73.1                      | \n",
       "| 2016                      | New Brunswick             | 66.4                      | 70.2                      | 66.7                      | \n",
       "| 2016                      | Newfoundland and Labrador | 73.8                      | 85.6                      | 74.3                      | \n",
       "| 2016                      | Nova Scotia               | 67.5                      | 69.8                      | 67.6                      | \n",
       "| 2016                      | Ontario                   | 62.0                      | 72.1                      | 63.1                      | \n",
       "| 2016                      | Prince Edward Island      | 78.9                      |   NA                      | 78.9                      | \n",
       "| 2016                      | Quebec                    | 70.5                      | 87.3                      | 72.4                      | \n",
       "| 2016                      | Saskatchewan              | 72.5                      | 86.5                      | 74.3                      | \n",
       "\n",
       "\n"
      ],
      "text/plain": [
       "   Year PRENAME                   Paid_worker Self_employed\n",
       "1  2016 Alberta                   63.7        69.4         \n",
       "2  2016 British Columbia          62.7        66.1         \n",
       "3  2016 Manitoba                  73.0        74.2         \n",
       "4  2016 New Brunswick             66.4        70.2         \n",
       "5  2016 Newfoundland and Labrador 73.8        85.6         \n",
       "6  2016 Nova Scotia               67.5        69.8         \n",
       "7  2016 Ontario                   62.0        72.1         \n",
       "8  2016 Prince Edward Island      78.9          NA         \n",
       "9  2016 Quebec                    70.5        87.3         \n",
       "10 2016 Saskatchewan              72.5        86.5         \n",
       "   Total_employment_type\n",
       "1  64.4                 \n",
       "2  63.1                 \n",
       "3  73.1                 \n",
       "4  66.7                 \n",
       "5  74.3                 \n",
       "6  67.6                 \n",
       "7  63.1                 \n",
       "8  78.9                 \n",
       "9  72.4                 \n",
       "10 74.3                 "
      ]
     },
     "metadata": {},
     "output_type": "display_data"
    }
   ],
   "source": [
    "df"
   ]
  },
  {
   "cell_type": "code",
   "execution_count": 426,
   "metadata": {},
   "outputs": [],
   "source": [
    "colnames(df) <- c(\"Year\", \n",
    "                  \"PRENAME\", \n",
    "                  \"WorkLifeBalanceSatisfiedOrVerySatisfiedPaidWorkerFemale\", \n",
    "                  \"WorkLifeBalanceSatisfiedOrVerySatisfiedSelfEmployedFemale\", \n",
    "                  \"WorkLifeBalanceSatisfiedOrVerySatisfiedAllEmploymentTypesFemale\")"
   ]
  },
  {
   "cell_type": "code",
   "execution_count": 427,
   "metadata": {},
   "outputs": [],
   "source": [
    "df$PRENAME <- as.factor(df$PRENAME)"
   ]
  },
  {
   "cell_type": "code",
   "execution_count": 428,
   "metadata": {},
   "outputs": [
    {
     "data": {
      "text/html": [
       "<ol class=list-inline>\n",
       "\t<li>'Alberta'</li>\n",
       "\t<li>'British Columbia'</li>\n",
       "\t<li>'Manitoba'</li>\n",
       "\t<li>'New Brunswick'</li>\n",
       "\t<li>'Newfoundland and Labrador'</li>\n",
       "\t<li>'Nova Scotia'</li>\n",
       "\t<li>'Ontario'</li>\n",
       "\t<li>'Prince Edward Island'</li>\n",
       "\t<li>'Quebec'</li>\n",
       "\t<li>'Saskatchewan'</li>\n",
       "</ol>\n"
      ],
      "text/latex": [
       "\\begin{enumerate*}\n",
       "\\item 'Alberta'\n",
       "\\item 'British Columbia'\n",
       "\\item 'Manitoba'\n",
       "\\item 'New Brunswick'\n",
       "\\item 'Newfoundland and Labrador'\n",
       "\\item 'Nova Scotia'\n",
       "\\item 'Ontario'\n",
       "\\item 'Prince Edward Island'\n",
       "\\item 'Quebec'\n",
       "\\item 'Saskatchewan'\n",
       "\\end{enumerate*}\n"
      ],
      "text/markdown": [
       "1. 'Alberta'\n",
       "2. 'British Columbia'\n",
       "3. 'Manitoba'\n",
       "4. 'New Brunswick'\n",
       "5. 'Newfoundland and Labrador'\n",
       "6. 'Nova Scotia'\n",
       "7. 'Ontario'\n",
       "8. 'Prince Edward Island'\n",
       "9. 'Quebec'\n",
       "10. 'Saskatchewan'\n",
       "\n",
       "\n"
      ],
      "text/plain": [
       " [1] \"Alberta\"                   \"British Columbia\"         \n",
       " [3] \"Manitoba\"                  \"New Brunswick\"            \n",
       " [5] \"Newfoundland and Labrador\" \"Nova Scotia\"              \n",
       " [7] \"Ontario\"                   \"Prince Edward Island\"     \n",
       " [9] \"Quebec\"                    \"Saskatchewan\"             "
      ]
     },
     "metadata": {},
     "output_type": "display_data"
    }
   ],
   "source": [
    "levels(df$PRENAME)"
   ]
  },
  {
   "cell_type": "code",
   "execution_count": 429,
   "metadata": {},
   "outputs": [
    {
     "name": "stdout",
     "output_type": "stream",
     "text": [
      "Observations: 10\n",
      "Variables: 5\n",
      "$ Year                                                            <dbl> 201...\n",
      "$ PRENAME                                                         <fctr> Al...\n",
      "$ WorkLifeBalanceSatisfiedOrVerySatisfiedPaidWorkerFemale         <dbl> 63....\n",
      "$ WorkLifeBalanceSatisfiedOrVerySatisfiedSelfEmployedFemale       <dbl> 69....\n",
      "$ WorkLifeBalanceSatisfiedOrVerySatisfiedAllEmploymentTypesFemale <dbl> 64....\n"
     ]
    },
    {
     "data": {
      "text/html": [
       "<table>\n",
       "<thead><tr><th scope=col>Year</th><th scope=col>PRENAME</th><th scope=col>WorkLifeBalanceSatisfiedOrVerySatisfiedPaidWorkerFemale</th><th scope=col>WorkLifeBalanceSatisfiedOrVerySatisfiedSelfEmployedFemale</th><th scope=col>WorkLifeBalanceSatisfiedOrVerySatisfiedAllEmploymentTypesFemale</th></tr></thead>\n",
       "<tbody>\n",
       "\t<tr><td>2016                     </td><td>Alberta                  </td><td>63.7                     </td><td>69.4                     </td><td>64.4                     </td></tr>\n",
       "\t<tr><td>2016                     </td><td>British Columbia         </td><td>62.7                     </td><td>66.1                     </td><td>63.1                     </td></tr>\n",
       "\t<tr><td>2016                     </td><td>Manitoba                 </td><td>73.0                     </td><td>74.2                     </td><td>73.1                     </td></tr>\n",
       "\t<tr><td>2016                     </td><td>New Brunswick            </td><td>66.4                     </td><td>70.2                     </td><td>66.7                     </td></tr>\n",
       "\t<tr><td>2016                     </td><td>Newfoundland and Labrador</td><td>73.8                     </td><td>85.6                     </td><td>74.3                     </td></tr>\n",
       "\t<tr><td>2016                     </td><td>Nova Scotia              </td><td>67.5                     </td><td>69.8                     </td><td>67.6                     </td></tr>\n",
       "\t<tr><td>2016                     </td><td>Ontario                  </td><td>62.0                     </td><td>72.1                     </td><td>63.1                     </td></tr>\n",
       "\t<tr><td>2016                     </td><td>Prince Edward Island     </td><td>78.9                     </td><td>  NA                     </td><td>78.9                     </td></tr>\n",
       "\t<tr><td>2016                     </td><td>Quebec                   </td><td>70.5                     </td><td>87.3                     </td><td>72.4                     </td></tr>\n",
       "\t<tr><td>2016                     </td><td>Saskatchewan             </td><td>72.5                     </td><td>86.5                     </td><td>74.3                     </td></tr>\n",
       "</tbody>\n",
       "</table>\n"
      ],
      "text/latex": [
       "\\begin{tabular}{r|lllll}\n",
       " Year & PRENAME & WorkLifeBalanceSatisfiedOrVerySatisfiedPaidWorkerFemale & WorkLifeBalanceSatisfiedOrVerySatisfiedSelfEmployedFemale & WorkLifeBalanceSatisfiedOrVerySatisfiedAllEmploymentTypesFemale\\\\\n",
       "\\hline\n",
       "\t 2016                      & Alberta                   & 63.7                      & 69.4                      & 64.4                     \\\\\n",
       "\t 2016                      & British Columbia          & 62.7                      & 66.1                      & 63.1                     \\\\\n",
       "\t 2016                      & Manitoba                  & 73.0                      & 74.2                      & 73.1                     \\\\\n",
       "\t 2016                      & New Brunswick             & 66.4                      & 70.2                      & 66.7                     \\\\\n",
       "\t 2016                      & Newfoundland and Labrador & 73.8                      & 85.6                      & 74.3                     \\\\\n",
       "\t 2016                      & Nova Scotia               & 67.5                      & 69.8                      & 67.6                     \\\\\n",
       "\t 2016                      & Ontario                   & 62.0                      & 72.1                      & 63.1                     \\\\\n",
       "\t 2016                      & Prince Edward Island      & 78.9                      &   NA                      & 78.9                     \\\\\n",
       "\t 2016                      & Quebec                    & 70.5                      & 87.3                      & 72.4                     \\\\\n",
       "\t 2016                      & Saskatchewan              & 72.5                      & 86.5                      & 74.3                     \\\\\n",
       "\\end{tabular}\n"
      ],
      "text/markdown": [
       "\n",
       "Year | PRENAME | WorkLifeBalanceSatisfiedOrVerySatisfiedPaidWorkerFemale | WorkLifeBalanceSatisfiedOrVerySatisfiedSelfEmployedFemale | WorkLifeBalanceSatisfiedOrVerySatisfiedAllEmploymentTypesFemale | \n",
       "|---|---|---|---|---|---|---|---|---|---|\n",
       "| 2016                      | Alberta                   | 63.7                      | 69.4                      | 64.4                      | \n",
       "| 2016                      | British Columbia          | 62.7                      | 66.1                      | 63.1                      | \n",
       "| 2016                      | Manitoba                  | 73.0                      | 74.2                      | 73.1                      | \n",
       "| 2016                      | New Brunswick             | 66.4                      | 70.2                      | 66.7                      | \n",
       "| 2016                      | Newfoundland and Labrador | 73.8                      | 85.6                      | 74.3                      | \n",
       "| 2016                      | Nova Scotia               | 67.5                      | 69.8                      | 67.6                      | \n",
       "| 2016                      | Ontario                   | 62.0                      | 72.1                      | 63.1                      | \n",
       "| 2016                      | Prince Edward Island      | 78.9                      |   NA                      | 78.9                      | \n",
       "| 2016                      | Quebec                    | 70.5                      | 87.3                      | 72.4                      | \n",
       "| 2016                      | Saskatchewan              | 72.5                      | 86.5                      | 74.3                      | \n",
       "\n",
       "\n"
      ],
      "text/plain": [
       "   Year PRENAME                  \n",
       "1  2016 Alberta                  \n",
       "2  2016 British Columbia         \n",
       "3  2016 Manitoba                 \n",
       "4  2016 New Brunswick            \n",
       "5  2016 Newfoundland and Labrador\n",
       "6  2016 Nova Scotia              \n",
       "7  2016 Ontario                  \n",
       "8  2016 Prince Edward Island     \n",
       "9  2016 Quebec                   \n",
       "10 2016 Saskatchewan             \n",
       "   WorkLifeBalanceSatisfiedOrVerySatisfiedPaidWorkerFemale\n",
       "1  63.7                                                   \n",
       "2  62.7                                                   \n",
       "3  73.0                                                   \n",
       "4  66.4                                                   \n",
       "5  73.8                                                   \n",
       "6  67.5                                                   \n",
       "7  62.0                                                   \n",
       "8  78.9                                                   \n",
       "9  70.5                                                   \n",
       "10 72.5                                                   \n",
       "   WorkLifeBalanceSatisfiedOrVerySatisfiedSelfEmployedFemale\n",
       "1  69.4                                                     \n",
       "2  66.1                                                     \n",
       "3  74.2                                                     \n",
       "4  70.2                                                     \n",
       "5  85.6                                                     \n",
       "6  69.8                                                     \n",
       "7  72.1                                                     \n",
       "8    NA                                                     \n",
       "9  87.3                                                     \n",
       "10 86.5                                                     \n",
       "   WorkLifeBalanceSatisfiedOrVerySatisfiedAllEmploymentTypesFemale\n",
       "1  64.4                                                           \n",
       "2  63.1                                                           \n",
       "3  73.1                                                           \n",
       "4  66.7                                                           \n",
       "5  74.3                                                           \n",
       "6  67.6                                                           \n",
       "7  63.1                                                           \n",
       "8  78.9                                                           \n",
       "9  72.4                                                           \n",
       "10 74.3                                                           "
      ]
     },
     "metadata": {},
     "output_type": "display_data"
    }
   ],
   "source": [
    "glimpse(df)\n",
    "df"
   ]
  },
  {
   "cell_type": "markdown",
   "metadata": {},
   "source": [
    "### Select measures of interest"
   ]
  },
  {
   "cell_type": "code",
   "execution_count": 430,
   "metadata": {},
   "outputs": [
    {
     "name": "stdout",
     "output_type": "stream",
     "text": [
      "Observations: 10\n",
      "Variables: 2\n",
      "$ PRENAME                                                         <fctr> Al...\n",
      "$ WorkLifeBalanceSatisfiedOrVerySatisfiedAllEmploymentTypesFemale <dbl> 64....\n"
     ]
    },
    {
     "data": {
      "text/html": [
       "<table>\n",
       "<thead><tr><th scope=col>PRENAME</th><th scope=col>WorkLifeBalanceSatisfiedOrVerySatisfiedAllEmploymentTypesFemale</th></tr></thead>\n",
       "<tbody>\n",
       "\t<tr><td>Alberta                  </td><td>64.4                     </td></tr>\n",
       "\t<tr><td>British Columbia         </td><td>63.1                     </td></tr>\n",
       "\t<tr><td>Manitoba                 </td><td>73.1                     </td></tr>\n",
       "\t<tr><td>New Brunswick            </td><td>66.7                     </td></tr>\n",
       "\t<tr><td>Newfoundland and Labrador</td><td>74.3                     </td></tr>\n",
       "\t<tr><td>Nova Scotia              </td><td>67.6                     </td></tr>\n",
       "\t<tr><td>Ontario                  </td><td>63.1                     </td></tr>\n",
       "\t<tr><td>Prince Edward Island     </td><td>78.9                     </td></tr>\n",
       "\t<tr><td>Quebec                   </td><td>72.4                     </td></tr>\n",
       "\t<tr><td>Saskatchewan             </td><td>74.3                     </td></tr>\n",
       "</tbody>\n",
       "</table>\n"
      ],
      "text/latex": [
       "\\begin{tabular}{r|ll}\n",
       " PRENAME & WorkLifeBalanceSatisfiedOrVerySatisfiedAllEmploymentTypesFemale\\\\\n",
       "\\hline\n",
       "\t Alberta                   & 64.4                     \\\\\n",
       "\t British Columbia          & 63.1                     \\\\\n",
       "\t Manitoba                  & 73.1                     \\\\\n",
       "\t New Brunswick             & 66.7                     \\\\\n",
       "\t Newfoundland and Labrador & 74.3                     \\\\\n",
       "\t Nova Scotia               & 67.6                     \\\\\n",
       "\t Ontario                   & 63.1                     \\\\\n",
       "\t Prince Edward Island      & 78.9                     \\\\\n",
       "\t Quebec                    & 72.4                     \\\\\n",
       "\t Saskatchewan              & 74.3                     \\\\\n",
       "\\end{tabular}\n"
      ],
      "text/markdown": [
       "\n",
       "PRENAME | WorkLifeBalanceSatisfiedOrVerySatisfiedAllEmploymentTypesFemale | \n",
       "|---|---|---|---|---|---|---|---|---|---|\n",
       "| Alberta                   | 64.4                      | \n",
       "| British Columbia          | 63.1                      | \n",
       "| Manitoba                  | 73.1                      | \n",
       "| New Brunswick             | 66.7                      | \n",
       "| Newfoundland and Labrador | 74.3                      | \n",
       "| Nova Scotia               | 67.6                      | \n",
       "| Ontario                   | 63.1                      | \n",
       "| Prince Edward Island      | 78.9                      | \n",
       "| Quebec                    | 72.4                      | \n",
       "| Saskatchewan              | 74.3                      | \n",
       "\n",
       "\n"
      ],
      "text/plain": [
       "   PRENAME                  \n",
       "1  Alberta                  \n",
       "2  British Columbia         \n",
       "3  Manitoba                 \n",
       "4  New Brunswick            \n",
       "5  Newfoundland and Labrador\n",
       "6  Nova Scotia              \n",
       "7  Ontario                  \n",
       "8  Prince Edward Island     \n",
       "9  Quebec                   \n",
       "10 Saskatchewan             \n",
       "   WorkLifeBalanceSatisfiedOrVerySatisfiedAllEmploymentTypesFemale\n",
       "1  64.4                                                           \n",
       "2  63.1                                                           \n",
       "3  73.1                                                           \n",
       "4  66.7                                                           \n",
       "5  74.3                                                           \n",
       "6  67.6                                                           \n",
       "7  63.1                                                           \n",
       "8  78.9                                                           \n",
       "9  72.4                                                           \n",
       "10 74.3                                                           "
      ]
     },
     "metadata": {},
     "output_type": "display_data"
    }
   ],
   "source": [
    "df <- df %>%\n",
    "  select(\"PRENAME\", \"WorkLifeBalanceSatisfiedOrVerySatisfiedAllEmploymentTypesFemale\")\n",
    "  \n",
    "\n",
    "glimpse(df)\n",
    "df"
   ]
  },
  {
   "cell_type": "markdown",
   "metadata": {},
   "source": [
    "## Display a map of Canada showing results"
   ]
  },
  {
   "cell_type": "code",
   "execution_count": 431,
   "metadata": {},
   "outputs": [
    {
     "name": "stdout",
     "output_type": "stream",
     "text": [
      "Reading layer `lpr_000b16a_e' from data source `C:\\Users\\rahmant\\GIS_Canada\\lpr_000b16a_e.shp' using driver `ESRI Shapefile'\n",
      "Simple feature collection with 13 features and 6 fields\n",
      "geometry type:  MULTIPOLYGON\n",
      "dimension:      XY\n",
      "bbox:           xmin: 3689439 ymin: 659338.9 xmax: 9015737 ymax: 5242179\n",
      "epsg (SRID):    NA\n",
      "proj4string:    +proj=lcc +lat_1=49 +lat_2=77 +lat_0=63.390675 +lon_0=-91.86666666666666 +x_0=6200000 +y_0=3000000 +datum=NAD83 +units=m +no_defs\n"
     ]
    }
   ],
   "source": [
    "CanadaMap <- st_read(\"GIS_Canada/lpr_000b16a_e.shp\")"
   ]
  },
  {
   "cell_type": "code",
   "execution_count": 432,
   "metadata": {},
   "outputs": [
    {
     "data": {
      "text/plain": [
       "[1] \"2018-08-16 14:23:37 AST\""
      ]
     },
     "metadata": {},
     "output_type": "display_data"
    },
    {
     "name": "stdout",
     "output_type": "stream",
     "text": [
      "Observations: 13\n",
      "Variables: 7\n",
      "$ PRUID    <fctr> 10, 11, 12, 13, 24, 35, 46, 47, 48, 59, 60, 61, 62\n",
      "$ PRNAME   <fctr> Newfoundland and Labrador / Terre-Neuve-et-Labrador, Prin...\n",
      "$ PRENAME  <fctr> Newfoundland and Labrador, Prince Edward Island, Nova Sco...\n",
      "$ PRFNAME  <fctr> Terre-Neuve-et-Labrador, Île-du-Prince-Édouard, Nouvelle-...\n",
      "$ PREABBR  <fctr> N.L., P.E.I., N.S., N.B., Que., Ont., Man., Sask., Alta.,...\n",
      "$ PRFABBR  <fctr> T.-N.-L., Î.-P.-É., N.-É., N.-B., Qc, Ont., Man., Sask., ...\n",
      "$ geometry <simple_feature> MULTIPOLYGON (((8307365.588..., MULTIPOLYGON ((...\n"
     ]
    },
    {
     "data": {
      "text/plain": [
       "[1] \"2018-08-16 14:24:02 AST\""
      ]
     },
     "metadata": {},
     "output_type": "display_data"
    }
   ],
   "source": [
    "Sys.time()\n",
    "glimpse(CanadaMap)\n",
    "Sys.time()"
   ]
  },
  {
   "cell_type": "code",
   "execution_count": 433,
   "metadata": {},
   "outputs": [],
   "source": [
    "CanadaMap <- merge(CanadaMap, df) # join the two dataframes, merge will use the common column name to join with"
   ]
  },
  {
   "cell_type": "code",
   "execution_count": 434,
   "metadata": {},
   "outputs": [
    {
     "name": "stdout",
     "output_type": "stream",
     "text": [
      "Observations: 10\n",
      "Variables: 8\n",
      "$ PRENAME                                                         <fctr> Al...\n",
      "$ PRUID                                                           <fctr> 48...\n",
      "$ PRNAME                                                          <fctr> Al...\n",
      "$ PRFNAME                                                         <fctr> Al...\n",
      "$ PREABBR                                                         <fctr> Al...\n",
      "$ PRFABBR                                                         <fctr> Al...\n",
      "$ WorkLifeBalanceSatisfiedOrVerySatisfiedAllEmploymentTypesFemale <dbl> 64....\n",
      "$ geometry                                                        <simple_feature> ...\n"
     ]
    }
   ],
   "source": [
    "glimpse(CanadaMap)"
   ]
  },
  {
   "cell_type": "code",
   "execution_count": 435,
   "metadata": {},
   "outputs": [],
   "source": [
    "df$PREABBR <- CanadaMap$PREABBR\n",
    "df$PRENAME <- NULL"
   ]
  },
  {
   "cell_type": "code",
   "execution_count": 436,
   "metadata": {},
   "outputs": [],
   "source": [
    "# Before merging with a shapefile for polygon data, write the data to a table in csv format\n",
    "# Table_B\n",
    "\n",
    "write.csv(df, \n",
    "          file = \"Table_AY.csv\",\n",
    "          row.names = FALSE) # set row.name to FALSE to not include an index column in the csv output file"
   ]
  },
  {
   "cell_type": "code",
   "execution_count": 437,
   "metadata": {},
   "outputs": [
    {
     "data": {
      "text/html": [
       "<strong>png:</strong> 2"
      ],
      "text/latex": [
       "\\textbf{png:} 2"
      ],
      "text/markdown": [
       "**png:** 2"
      ],
      "text/plain": [
       "png \n",
       "  2 "
      ]
     },
     "metadata": {},
     "output_type": "display_data"
    }
   ],
   "source": [
    "# Save a dataframe as a nicely formatted png file\n",
    "# uses the gridExtra package\n",
    "\n",
    "png(\"Table_AY.png\", height = 30*nrow(df), width = 250*ncol(df))\n",
    "grid.table(df)\n",
    "dev.off()"
   ]
  },
  {
   "cell_type": "code",
   "execution_count": 438,
   "metadata": {},
   "outputs": [
    {
     "data": {
      "text/plain": [
       "[1] \"2018-08-16 14:24:18 AST\""
      ]
     },
     "metadata": {},
     "output_type": "display_data"
    },
    {
     "data": {},
     "metadata": {},
     "output_type": "display_data"
    },
    {
     "data": {
      "text/plain": [
       "[1] \"2018-08-16 14:24:57 AST\""
      ]
     },
     "metadata": {},
     "output_type": "display_data"
    },
    {
     "data": {
      "image/png": "[encoded data removed]",
      "text/plain": [
       "plot without title"
      ]
     },
     "metadata": {},
     "output_type": "display_data"
    }
   ],
   "source": [
    "Sys.time()\n",
    "\n",
    "my_map_AY0 <-\n",
    "  tm_shape(CanadaMap) +\n",
    "  tm_polygons(col = \"WorkLifeBalanceSatisfiedOrVerySatisfiedAllEmploymentTypesFemale\", palette = \"Purples\", \n",
    "              style = \"order\") +\n",
    "  tm_legend(legend.outside = TRUE, legend.outside.position = \"bottom\") +\n",
    "  tm_text(text = \"WorkLifeBalanceSatisfiedOrVerySatisfiedAllEmploymentTypesFemale\", size = .6) + \n",
    "  tm_layout(frame = FALSE, \n",
    "            legend.show = FALSE,\n",
    "            main.title = \"Percent Females Satisfied or Very Satisfied with Work Life Balance\\nAcross All Employment Types, 2016\",\n",
    "            main.title.size = 1)\n",
    "\n",
    "my_map_AY0\n",
    "\n",
    "Sys.time()"
   ]
  },
  {
   "cell_type": "code",
   "execution_count": 439,
   "metadata": {},
   "outputs": [],
   "source": [
    "# Sys.time()\n",
    "#   save_tmap(tm = my_map_AY0, \n",
    "#        filename = \"Percent Females Satisfied or Very Satisfied with Work Life Balance Across All Employment Types, 2016\")\n",
    "# Sys.time()"
   ]
  },
  {
   "cell_type": "markdown",
   "metadata": {},
   "source": [
    "# Main Script Ends Here"
   ]
  },
  {
   "cell_type": "code",
   "execution_count": 440,
   "metadata": {},
   "outputs": [
    {
     "data": {
      "text/plain": [
       "[1] \"2018-08-16 14:25:01 AST\""
      ]
     },
     "metadata": {},
     "output_type": "display_data"
    }
   ],
   "source": [
    "Sys.time()"
   ]
  },
  {
   "cell_type": "markdown",
   "metadata": {},
   "source": [
    "# Appendix 1 - Examples of common coding techniques"
   ]
  },
  {
   "cell_type": "code",
   "execution_count": 441,
   "metadata": {},
   "outputs": [],
   "source": [
    "# Example of how to read and filter a large csv file a chunk at a time, e.g. filter 50000 rows at a time into a new dataframe\n",
    "# This is very efficient, comparable to fread in speed but done in chunks to conserve memory\n",
    "# I also prefer it to fread because I can filter out rows with missing values as I import the data\n",
    "# and specify which columns I want to import \n",
    "# need readr library from tidyverse library\n",
    "\n",
    "\n",
    "# Sys.time() # start time for reading file\n",
    "# f <- function(x, pos) subset(x, \n",
    "#                             !is.na(Beds) # filter out any rows with missing values in the specified column in parenthesis\n",
    "#                             & Gender == \"Male\") # only include rows where the specified condition is met\n",
    "#                             & any other criteria for filtering\n",
    "# df <- read_csv_chunked(\"http://www.edsc-esdc.gc.ca/ouvert-open/hps/CDHPD-OpenDataNSPL-DataSet-20170804-ENFR.csv\", \n",
    "#                            DataFrameCallback$new(f), \n",
    "#                            chunk_size = 50000, # this is an adequate chunk size\n",
    "#                            # col_names = TRUE # this will keep original column names if you don't provide custom names\n",
    "#                                               # most of the time it's best to rename every column explicitly as shown below\n",
    "#                            col_names = c(\"ShelterType\", # this renames each column in order of the csv file to what you specify\n",
    "#                                          \"ProvinceCode\",\n",
    "#                                          \"City\",\n",
    "#                                          \"TargetPopulation\",\n",
    "#                                          \"Gender\",\n",
    "#                                          \"ShelterName\",\n",
    "#                                          \"Beds\"), # all other columns after this will be dropped if not included        \n",
    "#                            cols_only( # specify which columns with data types you want to include \n",
    "#                                       # to avoid importing unwanted data\n",
    "#                                       # include all columns that you specified above with col_names if you renamed them\n",
    "#                                \"ShelterType\" = col_character(),\n",
    "#                                \"ProvinceCode\" = col_character(),\n",
    "#                                \"City\" = col_character(),\n",
    "#                                \"TargetPopulation\" = col_character(),\n",
    "#                                \"Gender\" = col_character(),\n",
    "#                                \"ShelterName\" = col_character(),\n",
    "#                                \"Beds\" = col_number()),\n",
    "#                            skip = 1, # skip original column headers if you renamed them\n",
    "#                            trim_ws = TRUE) # trim leading and trailing whitespace for each data point\n",
    "# Sys.time() # end time for reading file"
   ]
  },
  {
   "cell_type": "code",
   "execution_count": 442,
   "metadata": {},
   "outputs": [],
   "source": [
    "# Example of how to read csv files quickly with fread while converting all chr variables to factors \n",
    "# need data.table library\n",
    "# Use fread when you are a lazy and know you won't have memory issues loading the entire dataset at once\n",
    "# or when you know you need to keep all information loaded into memory\n",
    "\n",
    "# df <- fread(\"DataFilesAOP/AB_Provincial_Detailed_Crime_Stats_2006-2011-2016.csv\", \n",
    "#            stringsAsFactors = TRUE, header = TRUE)"
   ]
  },
  {
   "cell_type": "code",
   "execution_count": 443,
   "metadata": {},
   "outputs": [],
   "source": [
    "# Example of how to write a dataframe to a csv file\n",
    "\n",
    "# write.csv(df, \n",
    "#           file = \"NS_Crime_Stats_Clean_Extract3.csv\",\n",
    "#           row.names = FALSE) # set row.name to FALSE to not include an index column in the csv output file"
   ]
  },
  {
   "cell_type": "code",
   "execution_count": 444,
   "metadata": {},
   "outputs": [],
   "source": [
    "# Example of how to create dummy variables from a factor variable\n",
    "\n",
    "# df_Province_dummies <- data.frame(model.matrix(~Province, df))\n",
    "# df_Province_dummies\n",
    "# df_Province_dummies$X.Intercept. <- NULL\n",
    "# df_Province_dummies # 9 dummy columns, all zeros indicate Alberta\n",
    "# df <- cbind(df_Province_dummies, df)"
   ]
  },
  {
   "cell_type": "code",
   "execution_count": 445,
   "metadata": {},
   "outputs": [],
   "source": [
    "# Example how to change all of the column names in a dataframe to something friendlier\n",
    "# You want to avoid special characters and spaces in column names to prevent problems with differnt packages and features\n",
    "# Provide new names in a character vector\n",
    "\n",
    "# colnames(df) <- c(\" \", \" \")"
   ]
  },
  {
   "cell_type": "code",
   "execution_count": 446,
   "metadata": {},
   "outputs": [],
   "source": [
    "# Example how to set the number of digits displayed in dataframes\n",
    "\n",
    "# options(digits=15) # set the visible number of digits to 15, useful when displaying GIS coordinates in dataframes\n",
    "# options(\"digits\") # display the max number of digits that appear in cells of a dataframe"
   ]
  },
  {
   "cell_type": "code",
   "execution_count": 447,
   "metadata": {},
   "outputs": [],
   "source": [
    "# Example of how to convert columns to the correct data types and how to delete columns from a dataframe\n",
    "\n",
    "# use as.numeric() and as.factor() where appropriate\n",
    "# df$column_name <- NULL will delete that column from the dataframe"
   ]
  },
  {
   "cell_type": "code",
   "execution_count": 448,
   "metadata": {},
   "outputs": [],
   "source": [
    "# Example of how to recode values of a column for rows meeting a condition\n",
    "\n",
    "# df$LATITUDE[df$GEO == \n",
    "#                          \"Amherst, Nova Scotia, municipal\"] <- 45.8338198\n",
    "# df$LONGITUDE[df$GEO == \n",
    "#                          \"Amherst, Nova Scotia, municipal\"] <- -64.2109455\n",
    "#\n",
    "# df$COUNTY[df$GEO ==\n",
    "#                          \"Amherst, Nova Scotia, municipal\"] <- \"Cumberland\""
   ]
  },
  {
   "cell_type": "code",
   "execution_count": 449,
   "metadata": {},
   "outputs": [],
   "source": [
    "# Example of how to filter a dataframe to rows where a specific string appears anywhere in a specific column\n",
    "# This example filters df to rows where \"MEP\" appears in the \"Contents\" column (need stringr library)\n",
    "\n",
    "# df_MEP <- df %>%\n",
    "#   filter(str_detect(Contents, \"MEP\"))"
   ]
  },
  {
   "cell_type": "code",
   "execution_count": 450,
   "metadata": {},
   "outputs": [],
   "source": [
    "# Example of how to handle dates - converting from timestamp to YYYYMMDD\n",
    "# This example is adequate if you really don't need a date field for arithmetic or plotting with ggplot2\n",
    "\n",
    "# parse out date and time from Timestamp\n",
    "# df <- \n",
    "#   separate(df, Timestamp, # e.g., \"01/01/2017 12:00:00 AM\"\n",
    "#           into = c(\"Date\", \"Time\", \"AMPM\"), sep = \" \")\n",
    "\n",
    "# parse out Month, Day, Year from Date\n",
    "# df <- \n",
    "#  separate(df, Date, \n",
    "#           into = c(\"Month\", \"Day\", \"Year\"), sep = \"/\")\n",
    "\n",
    "# Remove unwanted columns\n",
    "# df$Time <- NULL\n",
    "# df$AMPM <- NULL\n",
    "\n",
    "# unite the columns \"Year\", \"Month\", \"Day\" into a single column for \"YYYYMMDD\"\n",
    "# df <- \n",
    "#  unite_(df, \"YYYYMMDD\", c(\"Year\",\"Month\", \"Day\"), sep = \"\")\n",
    "\n",
    "# sort by date in decreasing order\n",
    "# df <- df[order(df$YYYYMMDD, decreasing = TRUE), ]"
   ]
  },
  {
   "cell_type": "code",
   "execution_count": 451,
   "metadata": {},
   "outputs": [],
   "source": [
    "# Use the lubridate library if arithmetic is important when working with date and time data\n",
    "# In my opinion, the lubridate functions are more complicated than my current needs, so I prefer my approach above\n",
    "# for handling dates/times\n",
    "\n",
    "# https://lubridate.tidyverse.org/\n",
    "# https://rawgit.com/rstudio/cheatsheets/master/lubridate.pdf"
   ]
  },
  {
   "cell_type": "code",
   "execution_count": 452,
   "metadata": {},
   "outputs": [],
   "source": [
    "# Example of how to subset and retain only selected characters from a cell\n",
    "# This is useful if you want to strip out useless characters in a cell given a start and end position to retain\n",
    "# need stringr library\n",
    "\n",
    "# df$gps <- \n",
    "#   str_sub(df$gps, start = 3, end = -2) \n",
    "\n",
    "# this gets rid of the first 3 characters and the last two characters\n",
    "# you can get an accurate count of characters when viewing them with glimpse(df)"
   ]
  },
  {
   "cell_type": "code",
   "execution_count": 453,
   "metadata": {},
   "outputs": [],
   "source": [
    "# Example how to merge two dataframes on common column names\n",
    "# https://stackoverflow.com/questions/1299871/how-to-join-merge-data-frames-inner-outer-left-right\n",
    "\n",
    "# CanadaMap <- merge(CanadaMap, df_Provincial) # join the two dataframes, merge will use the common column name to join with"
   ]
  },
  {
   "cell_type": "code",
   "execution_count": 454,
   "metadata": {},
   "outputs": [],
   "source": [
    "# Example of how to combine two or more dataframes vertically with the same column names\n",
    "\n",
    "# df4 <- rbind(df1, df2, df3)"
   ]
  },
  {
   "cell_type": "code",
   "execution_count": 455,
   "metadata": {},
   "outputs": [],
   "source": [
    "# Example of how to combine two or more dataframes horizontally with the same number of rows but different columns\n",
    "\n",
    "# df4 <- cbind(df1, df2, df3)"
   ]
  },
  {
   "cell_type": "code",
   "execution_count": 456,
   "metadata": {},
   "outputs": [],
   "source": [
    "# Example of how to create a new column that takes on values by performing arithmetic on existing columns \n",
    "# need dplyr and tidyverse library\n",
    "# This example creates a new column that divides one column by another and mutliplies the result by a constant\n",
    "\n",
    "# NSMAP2011 <- NSMAP2011 %>%\n",
    "#   mutate(PropertyCrimeCountyRatePer100K = PropertyCrimeIncidentsPerCounty/CountyPopulation * 100000)"
   ]
  },
  {
   "cell_type": "code",
   "execution_count": 457,
   "metadata": {},
   "outputs": [],
   "source": [
    "# Example of how to order a dataframe by a column in descening order\n",
    "# a \"-\" in front of the column name will sort it in descending (largest to lowest) order\n",
    "\n",
    "# df <- \n",
    "#  df[with(df, order(-Incidents_Total)), ]\n",
    "\n",
    "\n",
    "# adding multiple column names will prioritize ordering in that sequence\n",
    "\n",
    "# df <- \n",
    "#  df[with(df, order(REGION, COUNTY, GEO, Violations, Statistics)), ]\n",
    "\n",
    "#--------------------\n",
    "# Alternatively, you can also use the following:\n",
    "# sort by date in decreasing order\n",
    "# df <- df[order(df$YYYYMMDD, decreasing = TRUE), ]"
   ]
  },
  {
   "cell_type": "code",
   "execution_count": 458,
   "metadata": {},
   "outputs": [],
   "source": [
    "# Before spreading data for tidy format, make sure to remove any special characters beforehand\n",
    "# This ensures that after spreading the data, the column names are all properly formatted\n",
    "# Properly formatted column names will always appear flushed next to the dollar sign when glimpsing a dataframe\n",
    "# If spaces or special characters are present in the column name, they will appear within single quotes after the dollar sign\n",
    "# when glimpsing the dataframe after spreading the data\n",
    "\n",
    "# df_health$Indicators <- gsub(\" \", \"_\", df_health$Indicators)\n",
    "# df_health$Indicators <- gsub(\",\", \"\", df_health$Indicators)\n",
    "# df_health$Indicators <- gsub(\";\", \"\", df_health$Indicators)\n",
    "# df_health$Indicators <- gsub(\"-\", \"_\", df_health$Indicators)\n",
    "# df_health$Indicators <- gsub(\"\\\\(\", \"\", df_health$Indicators) # this removes left parenthesis\n",
    "# df_health$Indicators <- gsub(\"\\\\)\", \"\", df_health$Indicators) # this removes right parenthesis\n",
    "\n",
    "# df_health <- df_health %>%\n",
    "#   spread(Indicators, Value)"
   ]
  },
  {
   "cell_type": "code",
   "execution_count": 459,
   "metadata": {},
   "outputs": [],
   "source": [
    "# Example how to set a cell as NA\n",
    "# df_Provincial$PREABBR <- NA\n",
    "\n",
    "\n",
    "# Example how to remove all rows with NA\n",
    "# df_Provincial <- na.omit(df_Provincial)"
   ]
  },
  {
   "cell_type": "code",
   "execution_count": 460,
   "metadata": {},
   "outputs": [],
   "source": [
    "# Example of how to load a shapefile for mapping \n",
    "# need sf library\n",
    "\n",
    "# NS <- st_read(\"GIS_Nova_Scotia/Counties_GCS.shp\")"
   ]
  },
  {
   "cell_type": "code",
   "execution_count": 461,
   "metadata": {},
   "outputs": [],
   "source": [
    "# Example how to convert a dataframe of lats/longs to a an sf dataframe for points spatial data \n",
    "# need sf library\n",
    "\n",
    "# pts <- st_as_sf(df, coords = c(\"LONGITUDE\", \"LATITUDE\"), crs = 4269) # create sf object called \"pts\" from df\n",
    "# class(pts)\n",
    "# glimpse(pts) # LONGITUDE and LATITUDE columns are replaced with a geometry column for point data"
   ]
  },
  {
   "cell_type": "code",
   "execution_count": 462,
   "metadata": {},
   "outputs": [],
   "source": [
    "# Example how to add custom icons for points spatial data \n",
    "# need sf library and tmap library\n",
    "\n",
    "# Using custom icons for points instead of bubbles\n",
    "\n",
    "# file <- \"DataFilesGeneral/flower_960_720.png\"  \n",
    "# flower_icon <- tmap_icons(file, width = 48, height = 48, keep.asp = TRUE,\n",
    "#   just = c(\"center\", \"center\"), as.local = TRUE)\n",
    "\n",
    "# my_map_2 <- my_map_0 +\n",
    "#   tm_shape(pts) +\n",
    "#   tm_symbols(\"VALUE\", shape = flower_icon, size = .3, alpha = .2, border.alpha = 0) \n",
    "# my_map_2"
   ]
  },
  {
   "cell_type": "markdown",
   "metadata": {},
   "source": [
    "# Appendix 2 - Note regarding preferred way for installing packages"
   ]
  },
  {
   "cell_type": "code",
   "execution_count": 463,
   "metadata": {},
   "outputs": [],
   "source": [
    "# Preferrably, install new packages via Anaconda Prompt > conda install r-package_name\n",
    "# Try to only use library() in notebook instead of install.packages()\n",
    "# this is more reliable than using install.packages(\"package name\") in R script\n",
    "# Anaconda Prompt > conda list shows what packages are installed\n",
    "\n",
    "# However, when the above isn't true for some reason, it is noted below\n",
    "# e.g., tmap must be installed through install.packages(\"tmap\")"
   ]
  }
 ],
 "metadata": {
  "kernelspec": {
   "display_name": "R",
   "language": "R",
   "name": "ir"
  },
  "language_info": {
   "codemirror_mode": "r",
   "file_extension": ".r",
   "mimetype": "text/x-r-source",
   "name": "R",
   "pygments_lexer": "r",
   "version": "3.4.3"
  }
 },
 "nbformat": 4,
 "nbformat_minor": 2
}
