{
 "cells": [
  {
   "cell_type": "code",
   "execution_count": 77,
   "metadata": {},
   "outputs": [
    {
     "data": {
      "text/plain": [
       "[1] \"2018-08-10 14:40:40 AST\""
      ]
     },
     "metadata": {},
     "output_type": "display_data"
    }
   ],
   "source": [
    "# Must run this notebook from root directory in Anaconda for relative local file paths to work\n",
    "\n",
    "Sys.time() # script start time"
   ]
  },
  {
   "cell_type": "markdown",
   "metadata": {},
   "source": [
    "# Install and attach packages"
   ]
  },
  {
   "cell_type": "code",
   "execution_count": 78,
   "metadata": {},
   "outputs": [],
   "source": [
    "# See note at the end of this notebook regarding the preferred way of installing packages"
   ]
  },
  {
   "cell_type": "code",
   "execution_count": 79,
   "metadata": {},
   "outputs": [],
   "source": [
    "library(tidyverse)"
   ]
  },
  {
   "cell_type": "code",
   "execution_count": 80,
   "metadata": {},
   "outputs": [],
   "source": [
    "library(data.table)"
   ]
  },
  {
   "cell_type": "code",
   "execution_count": 81,
   "metadata": {},
   "outputs": [],
   "source": [
    "library(stringr)"
   ]
  },
  {
   "cell_type": "code",
   "execution_count": 82,
   "metadata": {},
   "outputs": [],
   "source": [
    "library(sf) # needed for mapping"
   ]
  },
  {
   "cell_type": "code",
   "execution_count": 83,
   "metadata": {},
   "outputs": [],
   "source": [
    "# install.packages(\"tmap\")\n",
    "# this for some reason can only be installed via install.packages(), but only has to be done once in your environment"
   ]
  },
  {
   "cell_type": "code",
   "execution_count": 84,
   "metadata": {},
   "outputs": [],
   "source": [
    "library(tmap) # needed for mapping"
   ]
  },
  {
   "cell_type": "code",
   "execution_count": 85,
   "metadata": {},
   "outputs": [],
   "source": [
    "# Set default options to display more digits, useful for gps coordinates"
   ]
  },
  {
   "cell_type": "code",
   "execution_count": 86,
   "metadata": {},
   "outputs": [],
   "source": [
    "options(digits=15) # set the visible number of digits to 15, useful when displaying GIS coordinates in dataframes"
   ]
  },
  {
   "cell_type": "code",
   "execution_count": 87,
   "metadata": {},
   "outputs": [
    {
     "data": {
      "text/html": [
       "<strong>$digits</strong> = 15"
      ],
      "text/latex": [
       "\\textbf{\\$digits} = 15"
      ],
      "text/markdown": [
       "**$digits** = 15"
      ],
      "text/plain": [
       "$digits\n",
       "[1] 15\n"
      ]
     },
     "metadata": {},
     "output_type": "display_data"
    }
   ],
   "source": [
    "options(\"digits\") # display the max number of digits that appear in cells of a dataframe"
   ]
  },
  {
   "cell_type": "code",
   "execution_count": 88,
   "metadata": {},
   "outputs": [
    {
     "data": {
      "text/plain": [
       "R version 3.4.3 (2017-11-30)\n",
       "Platform: x86_64-w64-mingw32/x64 (64-bit)\n",
       "Running under: Windows 10 x64 (build 17134)\n",
       "\n",
       "Matrix products: default\n",
       "\n",
       "locale:\n",
       "[1] LC_COLLATE=English_Canada.1252  LC_CTYPE=English_Canada.1252   \n",
       "[3] LC_MONETARY=English_Canada.1252 LC_NUMERIC=C                   \n",
       "[5] LC_TIME=English_Canada.1252    \n",
       "\n",
       "attached base packages:\n",
       "[1] stats     graphics  grDevices utils     datasets  methods   base     \n",
       "\n",
       "other attached packages:\n",
       " [1] tmap_1.10            sf_0.5-4             data.table_1.10.4-3 \n",
       " [4] forcats_0.2.0        stringr_1.2.0        dplyr_0.7.4         \n",
       " [7] purrr_0.2.4          readr_1.1.1          tidyr_0.7.2         \n",
       "[10] tibble_1.4.1         ggplot2_2.2.1        tidyverse_1.2.1     \n",
       "[13] RevoUtils_10.0.8     RevoUtilsMath_10.0.1\n",
       "\n",
       "loaded via a namespace (and not attached):\n",
       "  [1] colorspace_1.3-2   deldir_0.1-14      class_7.3-14      \n",
       "  [4] gdalUtils_2.0.1.7  leaflet_1.1.0      rgdal_1.2-8       \n",
       "  [7] satellite_1.0.0    IRdisplay_0.4.4    base64enc_0.1-3   \n",
       " [10] dichromat_2.0-0    rstudioapi_0.7     lubridate_1.7.1   \n",
       " [13] xml2_1.1.1         R.methodsS3_1.7.1  codetools_0.2-15  \n",
       " [16] splines_3.4.3      mnormt_1.5-5       geojsonlint_0.2.0 \n",
       " [19] IRkernel_0.8.11    jsonlite_1.5       tmaptools_1.2-1   \n",
       " [22] broom_0.4.3        png_0.1-7          R.oo_1.21.0       \n",
       " [25] rgeos_0.3-23       shiny_1.0.5        compiler_3.4.3    \n",
       " [28] httr_1.3.1         mapview_2.1.4      assertthat_0.2.0  \n",
       " [31] Matrix_1.2-12      lazyeval_0.2.1     cli_1.0.0         \n",
       " [34] htmltools_0.3.6    tools_3.4.3        bindrcpp_0.2      \n",
       " [37] coda_0.19-1        gtable_0.2.0       glue_1.2.0        \n",
       " [40] reshape2_1.4.3     gmodels_2.16.2     V8_1.5            \n",
       " [43] Rcpp_0.12.14       cellranger_1.1.0   raster_2.5-8      \n",
       " [46] spdep_0.6-13       gdata_2.18.0       nlme_3.1-131      \n",
       " [49] udunits2_0.13      iterators_1.0.9    crosstalk_1.0.0   \n",
       " [52] psych_1.7.5        rvest_0.3.2        mime_0.5          \n",
       " [55] gtools_3.5.0       XML_3.98-1.9       LearnBayes_2.15   \n",
       " [58] MASS_7.3-47        scales_0.5.0       hms_0.4.0         \n",
       " [61] parallel_3.4.3     expm_0.999-2       RColorBrewer_1.1-2\n",
       " [64] curl_3.1           geosphere_1.5-5    stringi_1.1.6     \n",
       " [67] jsonvalidate_1.0.0 foreach_1.4.5      e1071_1.6-8       \n",
       " [70] boot_1.3-20        repr_0.12.0        rlang_0.1.6       \n",
       " [73] pkgconfig_2.0.1    bitops_1.0-6       evaluate_0.10.1   \n",
       " [76] lattice_0.20-35    bindr_0.1          htmlwidgets_0.9   \n",
       " [79] osmar_1.1-7        plyr_1.8.4         magrittr_1.5      \n",
       " [82] R6_2.2.2           pbdZMQ_0.2-6       DBI_0.7           \n",
       " [85] pillar_1.0.1       haven_1.1.0        foreign_0.8-69    \n",
       " [88] units_0.4-6        RCurl_1.95-4.8     sp_1.2-5          \n",
       " [91] modelr_0.1.1       crayon_1.3.4       rmapshaper_0.3.0  \n",
       " [94] uuid_0.1-2         KernSmooth_2.23-15 grid_3.4.3        \n",
       " [97] readxl_1.0.0       webshot_0.4.1      digest_0.6.13     \n",
       "[100] classInt_0.1-24    xtable_1.8-2       httpuv_1.3.5      \n",
       "[103] R.utils_2.5.0      stats4_3.4.3       munsell_0.4.3     \n",
       "[106] viridisLite_0.2.0 "
      ]
     },
     "metadata": {},
     "output_type": "display_data"
    }
   ],
   "source": [
    "sessionInfo()"
   ]
  },
  {
   "cell_type": "markdown",
   "metadata": {},
   "source": [
    "# Main Script Begins Here"
   ]
  },
  {
   "cell_type": "code",
   "execution_count": 89,
   "metadata": {},
   "outputs": [
    {
     "data": {
      "text/plain": [
       "[1] \"2018-08-10 14:40:40 AST\""
      ]
     },
     "metadata": {},
     "output_type": "display_data"
    }
   ],
   "source": [
    "Sys.time() # script start time from body"
   ]
  },
  {
   "cell_type": "markdown",
   "metadata": {},
   "source": [
    "## 1. Table A"
   ]
  },
  {
   "cell_type": "markdown",
   "metadata": {},
   "source": [
    "#### Number of Homeless Beds in All Emergency or Transitional Shelters Per 100,000 Population, 2017"
   ]
  },
  {
   "cell_type": "code",
   "execution_count": 90,
   "metadata": {},
   "outputs": [],
   "source": [
    "# Homeless Shelters in Canada\n",
    "# Source: https://open.canada.ca/data/en/dataset/7e0189e3-8595-4e62-a4e9-4fed6f265e10\n",
    "# See also: http://publications.gc.ca/collections/collection_2018/edsc-esdc/Em20-91-2018-eng.pdf\n",
    "\n",
    "# 2017 population stats for each province\n",
    "# Source: https://www150.statcan.gc.ca/t1/tbl1/en/tv.action?pid=1710000501&pickMembers%5B0%5D=1.10&pickMembers%5B1%5D=2.1"
   ]
  },
  {
   "cell_type": "code",
   "execution_count": 91,
   "metadata": {},
   "outputs": [],
   "source": [
    "# Import data\n",
    "\n",
    "df <- fread(\"DataFilesCanadaProject/Table_A.csv\", \n",
    "             stringsAsFactors = TRUE, header = TRUE)"
   ]
  },
  {
   "cell_type": "code",
   "execution_count": 92,
   "metadata": {},
   "outputs": [
    {
     "name": "stdout",
     "output_type": "stream",
     "text": [
      "Observations: 10\n",
      "Variables: 6\n",
      "$ Province                  <fctr> AB, MB, SK, ON, BC, QC, NL, NS, NB, PI\n",
      "$ TotalBeds                 <int> 4385, 947, 830, 8725, 2783, 3730, 166, 28...\n",
      "$ TotalProvincialPopulation <int> 4286134, 1338109, 1163925, 14193384, 4817...\n",
      "$ BedsPer100K               <int> 102, 71, 71, 61, 58, 44, 31, 30, 22, 5\n",
      "$ PREABBR                   <fctr> Alta., Man., Sask., Ont., B.C., Que., N....\n",
      "$ Year                      <int> 2017, 2017, 2017, 2017, 2017, 2017, 2017,...\n"
     ]
    }
   ],
   "source": [
    "glimpse(df)"
   ]
  },
  {
   "cell_type": "code",
   "execution_count": 93,
   "metadata": {},
   "outputs": [
    {
     "data": {
      "text/html": [
       "<table>\n",
       "<thead><tr><th scope=col>Province</th><th scope=col>TotalBeds</th><th scope=col>TotalProvincialPopulation</th><th scope=col>BedsPer100K</th><th scope=col>PREABBR</th><th scope=col>Year</th></tr></thead>\n",
       "<tbody>\n",
       "\t<tr><td>AB      </td><td>4385    </td><td> 4286134</td><td>102     </td><td>Alta.   </td><td>2017    </td></tr>\n",
       "\t<tr><td>MB      </td><td> 947    </td><td> 1338109</td><td> 71     </td><td>Man.    </td><td>2017    </td></tr>\n",
       "\t<tr><td>SK      </td><td> 830    </td><td> 1163925</td><td> 71     </td><td>Sask.   </td><td>2017    </td></tr>\n",
       "\t<tr><td>ON      </td><td>8725    </td><td>14193384</td><td> 61     </td><td>Ont.    </td><td>2017    </td></tr>\n",
       "\t<tr><td>BC      </td><td>2783    </td><td> 4817160</td><td> 58     </td><td>B.C.    </td><td>2017    </td></tr>\n",
       "\t<tr><td>QC      </td><td>3730    </td><td> 8394034</td><td> 44     </td><td>Que.    </td><td>2017    </td></tr>\n",
       "\t<tr><td>NL      </td><td> 166    </td><td>  528817</td><td> 31     </td><td>N.L.    </td><td>2017    </td></tr>\n",
       "\t<tr><td>NS      </td><td> 284    </td><td>  953869</td><td> 30     </td><td>N.S.    </td><td>2017    </td></tr>\n",
       "\t<tr><td>NB      </td><td> 170    </td><td>  759655</td><td> 22     </td><td>N.B.    </td><td>2017    </td></tr>\n",
       "\t<tr><td>PI      </td><td>   7    </td><td>  152021</td><td>  5     </td><td>P.E.I.  </td><td>2017    </td></tr>\n",
       "</tbody>\n",
       "</table>\n"
      ],
      "text/latex": [
       "\\begin{tabular}{r|llllll}\n",
       " Province & TotalBeds & TotalProvincialPopulation & BedsPer100K & PREABBR & Year\\\\\n",
       "\\hline\n",
       "\t AB       & 4385     &  4286134 & 102      & Alta.    & 2017    \\\\\n",
       "\t MB       &  947     &  1338109 &  71      & Man.     & 2017    \\\\\n",
       "\t SK       &  830     &  1163925 &  71      & Sask.    & 2017    \\\\\n",
       "\t ON       & 8725     & 14193384 &  61      & Ont.     & 2017    \\\\\n",
       "\t BC       & 2783     &  4817160 &  58      & B.C.     & 2017    \\\\\n",
       "\t QC       & 3730     &  8394034 &  44      & Que.     & 2017    \\\\\n",
       "\t NL       &  166     &   528817 &  31      & N.L.     & 2017    \\\\\n",
       "\t NS       &  284     &   953869 &  30      & N.S.     & 2017    \\\\\n",
       "\t NB       &  170     &   759655 &  22      & N.B.     & 2017    \\\\\n",
       "\t PI       &    7     &   152021 &   5      & P.E.I.   & 2017    \\\\\n",
       "\\end{tabular}\n"
      ],
      "text/markdown": [
       "\n",
       "Province | TotalBeds | TotalProvincialPopulation | BedsPer100K | PREABBR | Year | \n",
       "|---|---|---|---|---|---|---|---|---|---|\n",
       "| AB       | 4385     |  4286134 | 102      | Alta.    | 2017     | \n",
       "| MB       |  947     |  1338109 |  71      | Man.     | 2017     | \n",
       "| SK       |  830     |  1163925 |  71      | Sask.    | 2017     | \n",
       "| ON       | 8725     | 14193384 |  61      | Ont.     | 2017     | \n",
       "| BC       | 2783     |  4817160 |  58      | B.C.     | 2017     | \n",
       "| QC       | 3730     |  8394034 |  44      | Que.     | 2017     | \n",
       "| NL       |  166     |   528817 |  31      | N.L.     | 2017     | \n",
       "| NS       |  284     |   953869 |  30      | N.S.     | 2017     | \n",
       "| NB       |  170     |   759655 |  22      | N.B.     | 2017     | \n",
       "| PI       |    7     |   152021 |   5      | P.E.I.   | 2017     | \n",
       "\n",
       "\n"
      ],
      "text/plain": [
       "   Province TotalBeds TotalProvincialPopulation BedsPer100K PREABBR Year\n",
       "1  AB       4385       4286134                  102         Alta.   2017\n",
       "2  MB        947       1338109                   71         Man.    2017\n",
       "3  SK        830       1163925                   71         Sask.   2017\n",
       "4  ON       8725      14193384                   61         Ont.    2017\n",
       "5  BC       2783       4817160                   58         B.C.    2017\n",
       "6  QC       3730       8394034                   44         Que.    2017\n",
       "7  NL        166        528817                   31         N.L.    2017\n",
       "8  NS        284        953869                   30         N.S.    2017\n",
       "9  NB        170        759655                   22         N.B.    2017\n",
       "10 PI          7        152021                    5         P.E.I.  2017"
      ]
     },
     "metadata": {},
     "output_type": "display_data"
    }
   ],
   "source": [
    "df"
   ]
  },
  {
   "cell_type": "code",
   "execution_count": 94,
   "metadata": {},
   "outputs": [],
   "source": [
    "rm(df) # remove object from memory"
   ]
  },
  {
   "cell_type": "markdown",
   "metadata": {},
   "source": [
    "## 2. Table B"
   ]
  },
  {
   "cell_type": "markdown",
   "metadata": {},
   "source": [
    "#### Number of Emergency Homeless Beds at Female-Only Shelters Per 100,000 Female Population, 2017"
   ]
  },
  {
   "cell_type": "code",
   "execution_count": 95,
   "metadata": {},
   "outputs": [],
   "source": [
    "# Homeless Shelters in Canada\n",
    "# Source: https://open.canada.ca/data/en/dataset/7e0189e3-8595-4e62-a4e9-4fed6f265e10\n",
    "# See also: http://publications.gc.ca/collections/collection_2018/edsc-esdc/Em20-91-2018-eng.pdf\n",
    "\n",
    "# 2017 population stats for each province\n",
    "# Source: https://www150.statcan.gc.ca/t1/tbl1/en/tv.action?pid=1710000501&pickMembers%5B0%5D=1.10&pickMembers%5B1%5D=2.1"
   ]
  },
  {
   "cell_type": "code",
   "execution_count": 96,
   "metadata": {},
   "outputs": [],
   "source": [
    "# Import data\n",
    "\n",
    "df <- fread(\"DataFilesCanadaProject/Table_B.csv\", \n",
    "             stringsAsFactors = TRUE, header = TRUE)"
   ]
  },
  {
   "cell_type": "code",
   "execution_count": 97,
   "metadata": {},
   "outputs": [
    {
     "name": "stdout",
     "output_type": "stream",
     "text": [
      "Observations: 10\n",
      "Variables: 6\n",
      "$ Province                        <fctr> AB, BC, NB, NL, NS, ON, QC, SK, MB...\n",
      "$ TotalEmergencyBedsForFemales    <int> 134, 285, 24, 8, 43, 1120, 286, 241...\n",
      "$ TotalProvincialPopulationFemale <int> 2117001, 2427673, 384250, 268207, 4...\n",
      "$ EmergencyBedsForFemalesPer100K  <int> 6, 12, 6, 3, 9, 16, 7, 42, 0, 0\n",
      "$ PREABBR                         <fctr> Alta., B.C., N.B., N.L., N.S., Ont...\n",
      "$ Year                            <int> 2017, 2017, 2017, 2017, 2017, 2017,...\n"
     ]
    }
   ],
   "source": [
    "glimpse(df)"
   ]
  },
  {
   "cell_type": "code",
   "execution_count": 98,
   "metadata": {},
   "outputs": [
    {
     "data": {
      "text/html": [
       "<table>\n",
       "<thead><tr><th scope=col>Province</th><th scope=col>TotalEmergencyBedsForFemales</th><th scope=col>TotalProvincialPopulationFemale</th><th scope=col>EmergencyBedsForFemalesPer100K</th><th scope=col>PREABBR</th><th scope=col>Year</th></tr></thead>\n",
       "<tbody>\n",
       "\t<tr><td>AB     </td><td> 134   </td><td>2117001</td><td> 6     </td><td>Alta.  </td><td>2017   </td></tr>\n",
       "\t<tr><td>BC     </td><td> 285   </td><td>2427673</td><td>12     </td><td>B.C.   </td><td>2017   </td></tr>\n",
       "\t<tr><td>NB     </td><td>  24   </td><td> 384250</td><td> 6     </td><td>N.B.   </td><td>2017   </td></tr>\n",
       "\t<tr><td>NL     </td><td>   8   </td><td> 268207</td><td> 3     </td><td>N.L.   </td><td>2017   </td></tr>\n",
       "\t<tr><td>NS     </td><td>  43   </td><td> 486028</td><td> 9     </td><td>N.S.   </td><td>2017   </td></tr>\n",
       "\t<tr><td>ON     </td><td>1120   </td><td>7212574</td><td>16     </td><td>Ont.   </td><td>2017   </td></tr>\n",
       "\t<tr><td>QC     </td><td> 286   </td><td>4219609</td><td> 7     </td><td>Que.   </td><td>2017   </td></tr>\n",
       "\t<tr><td>SK     </td><td> 241   </td><td> 577058</td><td>42     </td><td>Sask.  </td><td>2017   </td></tr>\n",
       "\t<tr><td>MB     </td><td>   0   </td><td> 671339</td><td> 0     </td><td>Man.   </td><td>2017   </td></tr>\n",
       "\t<tr><td>PI     </td><td>   0   </td><td>  77666</td><td> 0     </td><td>P.E.I. </td><td>2017   </td></tr>\n",
       "</tbody>\n",
       "</table>\n"
      ],
      "text/latex": [
       "\\begin{tabular}{r|llllll}\n",
       " Province & TotalEmergencyBedsForFemales & TotalProvincialPopulationFemale & EmergencyBedsForFemalesPer100K & PREABBR & Year\\\\\n",
       "\\hline\n",
       "\t AB      &  134    & 2117001 &  6      & Alta.   & 2017   \\\\\n",
       "\t BC      &  285    & 2427673 & 12      & B.C.    & 2017   \\\\\n",
       "\t NB      &   24    &  384250 &  6      & N.B.    & 2017   \\\\\n",
       "\t NL      &    8    &  268207 &  3      & N.L.    & 2017   \\\\\n",
       "\t NS      &   43    &  486028 &  9      & N.S.    & 2017   \\\\\n",
       "\t ON      & 1120    & 7212574 & 16      & Ont.    & 2017   \\\\\n",
       "\t QC      &  286    & 4219609 &  7      & Que.    & 2017   \\\\\n",
       "\t SK      &  241    &  577058 & 42      & Sask.   & 2017   \\\\\n",
       "\t MB      &    0    &  671339 &  0      & Man.    & 2017   \\\\\n",
       "\t PI      &    0    &   77666 &  0      & P.E.I.  & 2017   \\\\\n",
       "\\end{tabular}\n"
      ],
      "text/markdown": [
       "\n",
       "Province | TotalEmergencyBedsForFemales | TotalProvincialPopulationFemale | EmergencyBedsForFemalesPer100K | PREABBR | Year | \n",
       "|---|---|---|---|---|---|---|---|---|---|\n",
       "| AB      |  134    | 2117001 |  6      | Alta.   | 2017    | \n",
       "| BC      |  285    | 2427673 | 12      | B.C.    | 2017    | \n",
       "| NB      |   24    |  384250 |  6      | N.B.    | 2017    | \n",
       "| NL      |    8    |  268207 |  3      | N.L.    | 2017    | \n",
       "| NS      |   43    |  486028 |  9      | N.S.    | 2017    | \n",
       "| ON      | 1120    | 7212574 | 16      | Ont.    | 2017    | \n",
       "| QC      |  286    | 4219609 |  7      | Que.    | 2017    | \n",
       "| SK      |  241    |  577058 | 42      | Sask.   | 2017    | \n",
       "| MB      |    0    |  671339 |  0      | Man.    | 2017    | \n",
       "| PI      |    0    |   77666 |  0      | P.E.I.  | 2017    | \n",
       "\n",
       "\n"
      ],
      "text/plain": [
       "   Province TotalEmergencyBedsForFemales TotalProvincialPopulationFemale\n",
       "1  AB        134                         2117001                        \n",
       "2  BC        285                         2427673                        \n",
       "3  NB         24                          384250                        \n",
       "4  NL          8                          268207                        \n",
       "5  NS         43                          486028                        \n",
       "6  ON       1120                         7212574                        \n",
       "7  QC        286                         4219609                        \n",
       "8  SK        241                          577058                        \n",
       "9  MB          0                          671339                        \n",
       "10 PI          0                           77666                        \n",
       "   EmergencyBedsForFemalesPer100K PREABBR Year\n",
       "1   6                             Alta.   2017\n",
       "2  12                             B.C.    2017\n",
       "3   6                             N.B.    2017\n",
       "4   3                             N.L.    2017\n",
       "5   9                             N.S.    2017\n",
       "6  16                             Ont.    2017\n",
       "7   7                             Que.    2017\n",
       "8  42                             Sask.   2017\n",
       "9   0                             Man.    2017\n",
       "10  0                             P.E.I.  2017"
      ]
     },
     "metadata": {},
     "output_type": "display_data"
    }
   ],
   "source": [
    "df"
   ]
  },
  {
   "cell_type": "code",
   "execution_count": 99,
   "metadata": {},
   "outputs": [],
   "source": [
    "rm(df) # remove object from memory"
   ]
  },
  {
   "cell_type": "markdown",
   "metadata": {},
   "source": [
    "## 3. Table C"
   ]
  },
  {
   "cell_type": "markdown",
   "metadata": {},
   "source": [
    "#### Number of Emergency Homeless Beds at Male-Only Shelters Per 100,000 Male Population, 2017"
   ]
  },
  {
   "cell_type": "code",
   "execution_count": 100,
   "metadata": {},
   "outputs": [],
   "source": [
    "# Homeless Shelters in Canada\n",
    "# Source: https://open.canada.ca/data/en/dataset/7e0189e3-8595-4e62-a4e9-4fed6f265e10\n",
    "# See also: http://publications.gc.ca/collections/collection_2018/edsc-esdc/Em20-91-2018-eng.pdf\n",
    "\n",
    "# 2017 population stats for each province\n",
    "# Source: https://www150.statcan.gc.ca/t1/tbl1/en/tv.action?pid=1710000501&pickMembers%5B0%5D=1.10&pickMembers%5B1%5D=2.1"
   ]
  },
  {
   "cell_type": "code",
   "execution_count": 101,
   "metadata": {},
   "outputs": [],
   "source": [
    "# Import data\n",
    "\n",
    "df <- fread(\"DataFilesCanadaProject/Table_C.csv\", \n",
    "             stringsAsFactors = TRUE, header = TRUE)"
   ]
  },
  {
   "cell_type": "code",
   "execution_count": 102,
   "metadata": {},
   "outputs": [
    {
     "name": "stdout",
     "output_type": "stream",
     "text": [
      "Observations: 10\n",
      "Variables: 6\n",
      "$ Province                      <fctr> AB, BC, NB, NL, NS, ON, PI, QC, SK, MB\n",
      "$ TotalEmergencyBedsForMales    <int> 389, 356, 45, 9, 120, 2663, 7, 971, 1...\n",
      "$ TotalProvincialPopulationMale <int> 2169133, 2389487, 375405, 260610, 467...\n",
      "$ EmergencyBedsForMalesPer100K  <int> 18, 15, 12, 3, 26, 38, 9, 23, 20, 0\n",
      "$ PREABBR                       <fctr> Alta., B.C., N.B., N.L., N.S., Ont.,...\n",
      "$ Year                          <int> 2017, 2017, 2017, 2017, 2017, 2017, 2...\n"
     ]
    }
   ],
   "source": [
    "glimpse(df)"
   ]
  },
  {
   "cell_type": "code",
   "execution_count": 103,
   "metadata": {},
   "outputs": [
    {
     "data": {
      "text/html": [
       "<table>\n",
       "<thead><tr><th scope=col>Province</th><th scope=col>TotalEmergencyBedsForMales</th><th scope=col>TotalProvincialPopulationMale</th><th scope=col>EmergencyBedsForMalesPer100K</th><th scope=col>PREABBR</th><th scope=col>Year</th></tr></thead>\n",
       "<tbody>\n",
       "\t<tr><td>AB     </td><td> 389   </td><td>2169133</td><td>18     </td><td>Alta.  </td><td>2017   </td></tr>\n",
       "\t<tr><td>BC     </td><td> 356   </td><td>2389487</td><td>15     </td><td>B.C.   </td><td>2017   </td></tr>\n",
       "\t<tr><td>NB     </td><td>  45   </td><td> 375405</td><td>12     </td><td>N.B.   </td><td>2017   </td></tr>\n",
       "\t<tr><td>NL     </td><td>   9   </td><td> 260610</td><td> 3     </td><td>N.L.   </td><td>2017   </td></tr>\n",
       "\t<tr><td>NS     </td><td> 120   </td><td> 467841</td><td>26     </td><td>N.S.   </td><td>2017   </td></tr>\n",
       "\t<tr><td>ON     </td><td>2663   </td><td>6980810</td><td>38     </td><td>Ont.   </td><td>2017   </td></tr>\n",
       "\t<tr><td>PI     </td><td>   7   </td><td>  74355</td><td> 9     </td><td>P.E.I. </td><td>2017   </td></tr>\n",
       "\t<tr><td>QC     </td><td> 971   </td><td>4174425</td><td>23     </td><td>Que.   </td><td>2017   </td></tr>\n",
       "\t<tr><td>SK     </td><td> 118   </td><td> 586867</td><td>20     </td><td>Sask.  </td><td>2017   </td></tr>\n",
       "\t<tr><td>MB     </td><td>   0   </td><td> 666770</td><td> 0     </td><td>Man.   </td><td>2017   </td></tr>\n",
       "</tbody>\n",
       "</table>\n"
      ],
      "text/latex": [
       "\\begin{tabular}{r|llllll}\n",
       " Province & TotalEmergencyBedsForMales & TotalProvincialPopulationMale & EmergencyBedsForMalesPer100K & PREABBR & Year\\\\\n",
       "\\hline\n",
       "\t AB      &  389    & 2169133 & 18      & Alta.   & 2017   \\\\\n",
       "\t BC      &  356    & 2389487 & 15      & B.C.    & 2017   \\\\\n",
       "\t NB      &   45    &  375405 & 12      & N.B.    & 2017   \\\\\n",
       "\t NL      &    9    &  260610 &  3      & N.L.    & 2017   \\\\\n",
       "\t NS      &  120    &  467841 & 26      & N.S.    & 2017   \\\\\n",
       "\t ON      & 2663    & 6980810 & 38      & Ont.    & 2017   \\\\\n",
       "\t PI      &    7    &   74355 &  9      & P.E.I.  & 2017   \\\\\n",
       "\t QC      &  971    & 4174425 & 23      & Que.    & 2017   \\\\\n",
       "\t SK      &  118    &  586867 & 20      & Sask.   & 2017   \\\\\n",
       "\t MB      &    0    &  666770 &  0      & Man.    & 2017   \\\\\n",
       "\\end{tabular}\n"
      ],
      "text/markdown": [
       "\n",
       "Province | TotalEmergencyBedsForMales | TotalProvincialPopulationMale | EmergencyBedsForMalesPer100K | PREABBR | Year | \n",
       "|---|---|---|---|---|---|---|---|---|---|\n",
       "| AB      |  389    | 2169133 | 18      | Alta.   | 2017    | \n",
       "| BC      |  356    | 2389487 | 15      | B.C.    | 2017    | \n",
       "| NB      |   45    |  375405 | 12      | N.B.    | 2017    | \n",
       "| NL      |    9    |  260610 |  3      | N.L.    | 2017    | \n",
       "| NS      |  120    |  467841 | 26      | N.S.    | 2017    | \n",
       "| ON      | 2663    | 6980810 | 38      | Ont.    | 2017    | \n",
       "| PI      |    7    |   74355 |  9      | P.E.I.  | 2017    | \n",
       "| QC      |  971    | 4174425 | 23      | Que.    | 2017    | \n",
       "| SK      |  118    |  586867 | 20      | Sask.   | 2017    | \n",
       "| MB      |    0    |  666770 |  0      | Man.    | 2017    | \n",
       "\n",
       "\n"
      ],
      "text/plain": [
       "   Province TotalEmergencyBedsForMales TotalProvincialPopulationMale\n",
       "1  AB        389                       2169133                      \n",
       "2  BC        356                       2389487                      \n",
       "3  NB         45                        375405                      \n",
       "4  NL          9                        260610                      \n",
       "5  NS        120                        467841                      \n",
       "6  ON       2663                       6980810                      \n",
       "7  PI          7                         74355                      \n",
       "8  QC        971                       4174425                      \n",
       "9  SK        118                        586867                      \n",
       "10 MB          0                        666770                      \n",
       "   EmergencyBedsForMalesPer100K PREABBR Year\n",
       "1  18                           Alta.   2017\n",
       "2  15                           B.C.    2017\n",
       "3  12                           N.B.    2017\n",
       "4   3                           N.L.    2017\n",
       "5  26                           N.S.    2017\n",
       "6  38                           Ont.    2017\n",
       "7   9                           P.E.I.  2017\n",
       "8  23                           Que.    2017\n",
       "9  20                           Sask.   2017\n",
       "10  0                           Man.    2017"
      ]
     },
     "metadata": {},
     "output_type": "display_data"
    }
   ],
   "source": [
    "df"
   ]
  },
  {
   "cell_type": "code",
   "execution_count": 104,
   "metadata": {},
   "outputs": [],
   "source": [
    "rm(df) # remove object from memory"
   ]
  },
  {
   "cell_type": "markdown",
   "metadata": {},
   "source": [
    "## 4. Table D"
   ]
  },
  {
   "cell_type": "markdown",
   "metadata": {},
   "source": [
    "#### Number of Emergency Homeless Beds at Non-Gender Specific Shelters Per 100,000 Population, 2017"
   ]
  },
  {
   "cell_type": "code",
   "execution_count": 105,
   "metadata": {},
   "outputs": [],
   "source": [
    "# Homeless Shelters in Canada\n",
    "# Source: https://open.canada.ca/data/en/dataset/7e0189e3-8595-4e62-a4e9-4fed6f265e10\n",
    "# See also: http://publications.gc.ca/collections/collection_2018/edsc-esdc/Em20-91-2018-eng.pdf\n",
    "\n",
    "# 2017 population stats for each province\n",
    "# Source: https://www150.statcan.gc.ca/t1/tbl1/en/tv.action?pid=1710000501&pickMembers%5B0%5D=1.10&pickMembers%5B1%5D=2.1"
   ]
  },
  {
   "cell_type": "code",
   "execution_count": 106,
   "metadata": {},
   "outputs": [],
   "source": [
    "# Import data\n",
    "\n",
    "df <- fread(\"DataFilesCanadaProject/Table_D.csv\", \n",
    "             stringsAsFactors = TRUE, header = TRUE)"
   ]
  },
  {
   "cell_type": "code",
   "execution_count": 107,
   "metadata": {},
   "outputs": [
    {
     "name": "stdout",
     "output_type": "stream",
     "text": [
      "Observations: 10\n",
      "Variables: 6\n",
      "$ Province                         <fctr> AB, BC, MB, NB, NL, NS, ON, QC, S...\n",
      "$ TotalEmergencyBedsForAnyGender   <int> 2659, 1338, 661, 81, 36, 45, 2844,...\n",
      "$ TotalProvincialPopulation        <int> 4286134, 4817160, 1338109, 759655,...\n",
      "$ EmergencyBedsForAnyGenderPer100K <int> 62, 28, 49, 11, 7, 5, 20, 8, 6, 0\n",
      "$ PREABBR                          <fctr> Alta., B.C., Man., N.B., N.L., N....\n",
      "$ Year                             <int> 2017, 2017, 2017, 2017, 2017, 2017...\n"
     ]
    }
   ],
   "source": [
    "glimpse(df)"
   ]
  },
  {
   "cell_type": "code",
   "execution_count": 108,
   "metadata": {},
   "outputs": [
    {
     "name": "stdout",
     "output_type": "stream",
     "text": [
      "Observations: 10\n",
      "Variables: 6\n",
      "$ Province                         <fctr> AB, BC, MB, NB, NL, NS, ON, QC, S...\n",
      "$ TotalEmergencyBedsForAnyGender   <int> 2659, 1338, 661, 81, 36, 45, 2844,...\n",
      "$ TotalProvincialPopulation        <int> 4286134, 4817160, 1338109, 759655,...\n",
      "$ EmergencyBedsForAnyGenderPer100K <int> 62, 28, 49, 11, 7, 5, 20, 8, 6, 0\n",
      "$ PREABBR                          <fctr> Alta., B.C., Man., N.B., N.L., N....\n",
      "$ Year                             <int> 2017, 2017, 2017, 2017, 2017, 2017...\n"
     ]
    }
   ],
   "source": [
    "glimpse(df)"
   ]
  },
  {
   "cell_type": "code",
   "execution_count": 109,
   "metadata": {},
   "outputs": [
    {
     "data": {
      "text/html": [
       "<table>\n",
       "<thead><tr><th scope=col>Province</th><th scope=col>TotalEmergencyBedsForAnyGender</th><th scope=col>TotalProvincialPopulation</th><th scope=col>EmergencyBedsForAnyGenderPer100K</th><th scope=col>PREABBR</th><th scope=col>Year</th></tr></thead>\n",
       "<tbody>\n",
       "\t<tr><td>AB      </td><td>2659    </td><td> 4286134</td><td>62      </td><td>Alta.   </td><td>2017    </td></tr>\n",
       "\t<tr><td>BC      </td><td>1338    </td><td> 4817160</td><td>28      </td><td>B.C.    </td><td>2017    </td></tr>\n",
       "\t<tr><td>MB      </td><td> 661    </td><td> 1338109</td><td>49      </td><td>Man.    </td><td>2017    </td></tr>\n",
       "\t<tr><td>NB      </td><td>  81    </td><td>  759655</td><td>11      </td><td>N.B.    </td><td>2017    </td></tr>\n",
       "\t<tr><td>NL      </td><td>  36    </td><td>  528817</td><td> 7      </td><td>N.L.    </td><td>2017    </td></tr>\n",
       "\t<tr><td>NS      </td><td>  45    </td><td>  953869</td><td> 5      </td><td>N.S.    </td><td>2017    </td></tr>\n",
       "\t<tr><td>ON      </td><td>2844    </td><td>14193384</td><td>20      </td><td>Ont.    </td><td>2017    </td></tr>\n",
       "\t<tr><td>QC      </td><td> 690    </td><td> 8394034</td><td> 8      </td><td>Que.    </td><td>2017    </td></tr>\n",
       "\t<tr><td>SK      </td><td>  75    </td><td> 1163925</td><td> 6      </td><td>Sask.   </td><td>2017    </td></tr>\n",
       "\t<tr><td>PI      </td><td>   0    </td><td>  152021</td><td> 0      </td><td>P.E.I.  </td><td>2017    </td></tr>\n",
       "</tbody>\n",
       "</table>\n"
      ],
      "text/latex": [
       "\\begin{tabular}{r|llllll}\n",
       " Province & TotalEmergencyBedsForAnyGender & TotalProvincialPopulation & EmergencyBedsForAnyGenderPer100K & PREABBR & Year\\\\\n",
       "\\hline\n",
       "\t AB       & 2659     &  4286134 & 62       & Alta.    & 2017    \\\\\n",
       "\t BC       & 1338     &  4817160 & 28       & B.C.     & 2017    \\\\\n",
       "\t MB       &  661     &  1338109 & 49       & Man.     & 2017    \\\\\n",
       "\t NB       &   81     &   759655 & 11       & N.B.     & 2017    \\\\\n",
       "\t NL       &   36     &   528817 &  7       & N.L.     & 2017    \\\\\n",
       "\t NS       &   45     &   953869 &  5       & N.S.     & 2017    \\\\\n",
       "\t ON       & 2844     & 14193384 & 20       & Ont.     & 2017    \\\\\n",
       "\t QC       &  690     &  8394034 &  8       & Que.     & 2017    \\\\\n",
       "\t SK       &   75     &  1163925 &  6       & Sask.    & 2017    \\\\\n",
       "\t PI       &    0     &   152021 &  0       & P.E.I.   & 2017    \\\\\n",
       "\\end{tabular}\n"
      ],
      "text/markdown": [
       "\n",
       "Province | TotalEmergencyBedsForAnyGender | TotalProvincialPopulation | EmergencyBedsForAnyGenderPer100K | PREABBR | Year | \n",
       "|---|---|---|---|---|---|---|---|---|---|\n",
       "| AB       | 2659     |  4286134 | 62       | Alta.    | 2017     | \n",
       "| BC       | 1338     |  4817160 | 28       | B.C.     | 2017     | \n",
       "| MB       |  661     |  1338109 | 49       | Man.     | 2017     | \n",
       "| NB       |   81     |   759655 | 11       | N.B.     | 2017     | \n",
       "| NL       |   36     |   528817 |  7       | N.L.     | 2017     | \n",
       "| NS       |   45     |   953869 |  5       | N.S.     | 2017     | \n",
       "| ON       | 2844     | 14193384 | 20       | Ont.     | 2017     | \n",
       "| QC       |  690     |  8394034 |  8       | Que.     | 2017     | \n",
       "| SK       |   75     |  1163925 |  6       | Sask.    | 2017     | \n",
       "| PI       |    0     |   152021 |  0       | P.E.I.   | 2017     | \n",
       "\n",
       "\n"
      ],
      "text/plain": [
       "   Province TotalEmergencyBedsForAnyGender TotalProvincialPopulation\n",
       "1  AB       2659                            4286134                 \n",
       "2  BC       1338                            4817160                 \n",
       "3  MB        661                            1338109                 \n",
       "4  NB         81                             759655                 \n",
       "5  NL         36                             528817                 \n",
       "6  NS         45                             953869                 \n",
       "7  ON       2844                           14193384                 \n",
       "8  QC        690                            8394034                 \n",
       "9  SK         75                            1163925                 \n",
       "10 PI          0                             152021                 \n",
       "   EmergencyBedsForAnyGenderPer100K PREABBR Year\n",
       "1  62                               Alta.   2017\n",
       "2  28                               B.C.    2017\n",
       "3  49                               Man.    2017\n",
       "4  11                               N.B.    2017\n",
       "5   7                               N.L.    2017\n",
       "6   5                               N.S.    2017\n",
       "7  20                               Ont.    2017\n",
       "8   8                               Que.    2017\n",
       "9   6                               Sask.   2017\n",
       "10  0                               P.E.I.  2017"
      ]
     },
     "metadata": {},
     "output_type": "display_data"
    }
   ],
   "source": [
    "df"
   ]
  },
  {
   "cell_type": "code",
   "execution_count": 110,
   "metadata": {},
   "outputs": [],
   "source": [
    "rm(df) # remove object from memory"
   ]
  },
  {
   "cell_type": "markdown",
   "metadata": {},
   "source": [
    "## 5. Table E"
   ]
  },
  {
   "cell_type": "markdown",
   "metadata": {},
   "source": [
    "#### Number of Transitional Homeless Beds at Female-Only Shelters Per 100,000 Female Population, 2017"
   ]
  },
  {
   "cell_type": "code",
   "execution_count": 111,
   "metadata": {},
   "outputs": [],
   "source": [
    "# Homeless Shelters in Canada\n",
    "# Source: https://open.canada.ca/data/en/dataset/7e0189e3-8595-4e62-a4e9-4fed6f265e10\n",
    "# See also: http://publications.gc.ca/collections/collection_2018/edsc-esdc/Em20-91-2018-eng.pdf\n",
    "\n",
    "# 2017 population stats for each province\n",
    "# Source: https://www150.statcan.gc.ca/t1/tbl1/en/tv.action?pid=1710000501&pickMembers%5B0%5D=1.10&pickMembers%5B1%5D=2.1"
   ]
  },
  {
   "cell_type": "code",
   "execution_count": 112,
   "metadata": {},
   "outputs": [],
   "source": [
    "# Import data\n",
    "\n",
    "df <- fread(\"DataFilesCanadaProject/Table_E.csv\", \n",
    "             stringsAsFactors = TRUE, header = TRUE)"
   ]
  },
  {
   "cell_type": "code",
   "execution_count": 113,
   "metadata": {},
   "outputs": [
    {
     "name": "stdout",
     "output_type": "stream",
     "text": [
      "Observations: 10\n",
      "Variables: 6\n",
      "$ Province                          <fctr> AB, BC, MB, NB, NL, NS, ON, QC, ...\n",
      "$ TotalTransitionalBedsForFemales   <int> 198, 50, 5, 20, 12, 42, 129, 246,...\n",
      "$ TotalProvincialPopulationFemale   <int> 2117001, 2427673, 671339, 384250,...\n",
      "$ TransitionalBedsForFemalesPer100K <int> 9, 2, 1, 5, 4, 9, 2, 6, 11, 0\n",
      "$ PREABBR                           <fctr> Alta., B.C., Man., N.B., N.L., N...\n",
      "$ Year                              <int> 2017, 2017, 2017, 2017, 2017, 201...\n"
     ]
    }
   ],
   "source": [
    "glimpse(df)"
   ]
  },
  {
   "cell_type": "code",
   "execution_count": 114,
   "metadata": {},
   "outputs": [
    {
     "data": {
      "text/html": [
       "<table>\n",
       "<thead><tr><th scope=col>Province</th><th scope=col>TotalTransitionalBedsForFemales</th><th scope=col>TotalProvincialPopulationFemale</th><th scope=col>TransitionalBedsForFemalesPer100K</th><th scope=col>PREABBR</th><th scope=col>Year</th></tr></thead>\n",
       "<tbody>\n",
       "\t<tr><td>AB     </td><td>198    </td><td>2117001</td><td> 9     </td><td>Alta.  </td><td>2017   </td></tr>\n",
       "\t<tr><td>BC     </td><td> 50    </td><td>2427673</td><td> 2     </td><td>B.C.   </td><td>2017   </td></tr>\n",
       "\t<tr><td>MB     </td><td>  5    </td><td> 671339</td><td> 1     </td><td>Man.   </td><td>2017   </td></tr>\n",
       "\t<tr><td>NB     </td><td> 20    </td><td> 384250</td><td> 5     </td><td>N.B.   </td><td>2017   </td></tr>\n",
       "\t<tr><td>NL     </td><td> 12    </td><td> 268207</td><td> 4     </td><td>N.L.   </td><td>2017   </td></tr>\n",
       "\t<tr><td>NS     </td><td> 42    </td><td> 486028</td><td> 9     </td><td>N.S.   </td><td>2017   </td></tr>\n",
       "\t<tr><td>ON     </td><td>129    </td><td>7212574</td><td> 2     </td><td>Ont.   </td><td>2017   </td></tr>\n",
       "\t<tr><td>QC     </td><td>246    </td><td>4219609</td><td> 6     </td><td>Que.   </td><td>2017   </td></tr>\n",
       "\t<tr><td>SK     </td><td> 66    </td><td> 577058</td><td>11     </td><td>Sask.  </td><td>2017   </td></tr>\n",
       "\t<tr><td>PI     </td><td>  0    </td><td>  77666</td><td> 0     </td><td>P.E.I. </td><td>2017   </td></tr>\n",
       "</tbody>\n",
       "</table>\n"
      ],
      "text/latex": [
       "\\begin{tabular}{r|llllll}\n",
       " Province & TotalTransitionalBedsForFemales & TotalProvincialPopulationFemale & TransitionalBedsForFemalesPer100K & PREABBR & Year\\\\\n",
       "\\hline\n",
       "\t AB      & 198     & 2117001 &  9      & Alta.   & 2017   \\\\\n",
       "\t BC      &  50     & 2427673 &  2      & B.C.    & 2017   \\\\\n",
       "\t MB      &   5     &  671339 &  1      & Man.    & 2017   \\\\\n",
       "\t NB      &  20     &  384250 &  5      & N.B.    & 2017   \\\\\n",
       "\t NL      &  12     &  268207 &  4      & N.L.    & 2017   \\\\\n",
       "\t NS      &  42     &  486028 &  9      & N.S.    & 2017   \\\\\n",
       "\t ON      & 129     & 7212574 &  2      & Ont.    & 2017   \\\\\n",
       "\t QC      & 246     & 4219609 &  6      & Que.    & 2017   \\\\\n",
       "\t SK      &  66     &  577058 & 11      & Sask.   & 2017   \\\\\n",
       "\t PI      &   0     &   77666 &  0      & P.E.I.  & 2017   \\\\\n",
       "\\end{tabular}\n"
      ],
      "text/markdown": [
       "\n",
       "Province | TotalTransitionalBedsForFemales | TotalProvincialPopulationFemale | TransitionalBedsForFemalesPer100K | PREABBR | Year | \n",
       "|---|---|---|---|---|---|---|---|---|---|\n",
       "| AB      | 198     | 2117001 |  9      | Alta.   | 2017    | \n",
       "| BC      |  50     | 2427673 |  2      | B.C.    | 2017    | \n",
       "| MB      |   5     |  671339 |  1      | Man.    | 2017    | \n",
       "| NB      |  20     |  384250 |  5      | N.B.    | 2017    | \n",
       "| NL      |  12     |  268207 |  4      | N.L.    | 2017    | \n",
       "| NS      |  42     |  486028 |  9      | N.S.    | 2017    | \n",
       "| ON      | 129     | 7212574 |  2      | Ont.    | 2017    | \n",
       "| QC      | 246     | 4219609 |  6      | Que.    | 2017    | \n",
       "| SK      |  66     |  577058 | 11      | Sask.   | 2017    | \n",
       "| PI      |   0     |   77666 |  0      | P.E.I.  | 2017    | \n",
       "\n",
       "\n"
      ],
      "text/plain": [
       "   Province TotalTransitionalBedsForFemales TotalProvincialPopulationFemale\n",
       "1  AB       198                             2117001                        \n",
       "2  BC        50                             2427673                        \n",
       "3  MB         5                              671339                        \n",
       "4  NB        20                              384250                        \n",
       "5  NL        12                              268207                        \n",
       "6  NS        42                              486028                        \n",
       "7  ON       129                             7212574                        \n",
       "8  QC       246                             4219609                        \n",
       "9  SK        66                              577058                        \n",
       "10 PI         0                               77666                        \n",
       "   TransitionalBedsForFemalesPer100K PREABBR Year\n",
       "1   9                                Alta.   2017\n",
       "2   2                                B.C.    2017\n",
       "3   1                                Man.    2017\n",
       "4   5                                N.B.    2017\n",
       "5   4                                N.L.    2017\n",
       "6   9                                N.S.    2017\n",
       "7   2                                Ont.    2017\n",
       "8   6                                Que.    2017\n",
       "9  11                                Sask.   2017\n",
       "10  0                                P.E.I.  2017"
      ]
     },
     "metadata": {},
     "output_type": "display_data"
    }
   ],
   "source": [
    "df"
   ]
  },
  {
   "cell_type": "code",
   "execution_count": 115,
   "metadata": {},
   "outputs": [],
   "source": [
    "rm(df) # remove object from memory"
   ]
  },
  {
   "cell_type": "markdown",
   "metadata": {},
   "source": [
    "## 6. Table F"
   ]
  },
  {
   "cell_type": "markdown",
   "metadata": {},
   "source": [
    "#### Number of Transitional Homeless Beds at Male-Only Shelters Per 100,000 Male Population, 2017"
   ]
  },
  {
   "cell_type": "code",
   "execution_count": 116,
   "metadata": {},
   "outputs": [],
   "source": [
    "# Homeless Shelters in Canada\n",
    "# Source: https://open.canada.ca/data/en/dataset/7e0189e3-8595-4e62-a4e9-4fed6f265e10\n",
    "# See also: http://publications.gc.ca/collections/collection_2018/edsc-esdc/Em20-91-2018-eng.pdf\n",
    "\n",
    "# 2017 population stats for each province\n",
    "# Source: https://www150.statcan.gc.ca/t1/tbl1/en/tv.action?pid=1710000501&pickMembers%5B0%5D=1.10&pickMembers%5B1%5D=2.1"
   ]
  },
  {
   "cell_type": "code",
   "execution_count": 117,
   "metadata": {},
   "outputs": [],
   "source": [
    "# Import data\n",
    "\n",
    "df <- fread(\"DataFilesCanadaProject/Table_F.csv\", \n",
    "             stringsAsFactors = TRUE, header = TRUE)"
   ]
  },
  {
   "cell_type": "code",
   "execution_count": 118,
   "metadata": {},
   "outputs": [
    {
     "name": "stdout",
     "output_type": "stream",
     "text": [
      "Observations: 10\n",
      "Variables: 6\n",
      "$ Province                        <fctr> AB, BC, MB, NL, NS, ON, QC, SK, PI...\n",
      "$ TotalTransitionalBedsForMales   <int> 315, 70, 80, 2, 19, 559, 539, 133, ...\n",
      "$ TotalProvincialPopulationMale   <int> 2169133, 2389487, 666770, 260610, 4...\n",
      "$ TransitionalBedsForMalesPer100K <int> 15, 3, 12, 1, 4, 8, 13, 23, 0, 0\n",
      "$ PREABBR                         <fctr> Alta., B.C., Man., N.L., N.S., Ont...\n",
      "$ Year                            <int> 2017, 2017, 2017, 2017, 2017, 2017,...\n"
     ]
    }
   ],
   "source": [
    "glimpse(df)"
   ]
  },
  {
   "cell_type": "code",
   "execution_count": 119,
   "metadata": {},
   "outputs": [
    {
     "data": {
      "text/html": [
       "<table>\n",
       "<thead><tr><th scope=col>Province</th><th scope=col>TotalTransitionalBedsForMales</th><th scope=col>TotalProvincialPopulationMale</th><th scope=col>TransitionalBedsForMalesPer100K</th><th scope=col>PREABBR</th><th scope=col>Year</th></tr></thead>\n",
       "<tbody>\n",
       "\t<tr><td>AB     </td><td>315    </td><td>2169133</td><td>15     </td><td>Alta.  </td><td>2017   </td></tr>\n",
       "\t<tr><td>BC     </td><td> 70    </td><td>2389487</td><td> 3     </td><td>B.C.   </td><td>2017   </td></tr>\n",
       "\t<tr><td>MB     </td><td> 80    </td><td> 666770</td><td>12     </td><td>Man.   </td><td>2017   </td></tr>\n",
       "\t<tr><td>NL     </td><td>  2    </td><td> 260610</td><td> 1     </td><td>N.L.   </td><td>2017   </td></tr>\n",
       "\t<tr><td>NS     </td><td> 19    </td><td> 467841</td><td> 4     </td><td>N.S.   </td><td>2017   </td></tr>\n",
       "\t<tr><td>ON     </td><td>559    </td><td>6980810</td><td> 8     </td><td>Ont.   </td><td>2017   </td></tr>\n",
       "\t<tr><td>QC     </td><td>539    </td><td>4174425</td><td>13     </td><td>Que.   </td><td>2017   </td></tr>\n",
       "\t<tr><td>SK     </td><td>133    </td><td> 586867</td><td>23     </td><td>Sask.  </td><td>2017   </td></tr>\n",
       "\t<tr><td>PI     </td><td>  0    </td><td>  74355</td><td> 0     </td><td>P.E.I. </td><td>2017   </td></tr>\n",
       "\t<tr><td>NB     </td><td>  0    </td><td> 375405</td><td> 0     </td><td>N.B.   </td><td>2017   </td></tr>\n",
       "</tbody>\n",
       "</table>\n"
      ],
      "text/latex": [
       "\\begin{tabular}{r|llllll}\n",
       " Province & TotalTransitionalBedsForMales & TotalProvincialPopulationMale & TransitionalBedsForMalesPer100K & PREABBR & Year\\\\\n",
       "\\hline\n",
       "\t AB      & 315     & 2169133 & 15      & Alta.   & 2017   \\\\\n",
       "\t BC      &  70     & 2389487 &  3      & B.C.    & 2017   \\\\\n",
       "\t MB      &  80     &  666770 & 12      & Man.    & 2017   \\\\\n",
       "\t NL      &   2     &  260610 &  1      & N.L.    & 2017   \\\\\n",
       "\t NS      &  19     &  467841 &  4      & N.S.    & 2017   \\\\\n",
       "\t ON      & 559     & 6980810 &  8      & Ont.    & 2017   \\\\\n",
       "\t QC      & 539     & 4174425 & 13      & Que.    & 2017   \\\\\n",
       "\t SK      & 133     &  586867 & 23      & Sask.   & 2017   \\\\\n",
       "\t PI      &   0     &   74355 &  0      & P.E.I.  & 2017   \\\\\n",
       "\t NB      &   0     &  375405 &  0      & N.B.    & 2017   \\\\\n",
       "\\end{tabular}\n"
      ],
      "text/markdown": [
       "\n",
       "Province | TotalTransitionalBedsForMales | TotalProvincialPopulationMale | TransitionalBedsForMalesPer100K | PREABBR | Year | \n",
       "|---|---|---|---|---|---|---|---|---|---|\n",
       "| AB      | 315     | 2169133 | 15      | Alta.   | 2017    | \n",
       "| BC      |  70     | 2389487 |  3      | B.C.    | 2017    | \n",
       "| MB      |  80     |  666770 | 12      | Man.    | 2017    | \n",
       "| NL      |   2     |  260610 |  1      | N.L.    | 2017    | \n",
       "| NS      |  19     |  467841 |  4      | N.S.    | 2017    | \n",
       "| ON      | 559     | 6980810 |  8      | Ont.    | 2017    | \n",
       "| QC      | 539     | 4174425 | 13      | Que.    | 2017    | \n",
       "| SK      | 133     |  586867 | 23      | Sask.   | 2017    | \n",
       "| PI      |   0     |   74355 |  0      | P.E.I.  | 2017    | \n",
       "| NB      |   0     |  375405 |  0      | N.B.    | 2017    | \n",
       "\n",
       "\n"
      ],
      "text/plain": [
       "   Province TotalTransitionalBedsForMales TotalProvincialPopulationMale\n",
       "1  AB       315                           2169133                      \n",
       "2  BC        70                           2389487                      \n",
       "3  MB        80                            666770                      \n",
       "4  NL         2                            260610                      \n",
       "5  NS        19                            467841                      \n",
       "6  ON       559                           6980810                      \n",
       "7  QC       539                           4174425                      \n",
       "8  SK       133                            586867                      \n",
       "9  PI         0                             74355                      \n",
       "10 NB         0                            375405                      \n",
       "   TransitionalBedsForMalesPer100K PREABBR Year\n",
       "1  15                              Alta.   2017\n",
       "2   3                              B.C.    2017\n",
       "3  12                              Man.    2017\n",
       "4   1                              N.L.    2017\n",
       "5   4                              N.S.    2017\n",
       "6   8                              Ont.    2017\n",
       "7  13                              Que.    2017\n",
       "8  23                              Sask.   2017\n",
       "9   0                              P.E.I.  2017\n",
       "10  0                              N.B.    2017"
      ]
     },
     "metadata": {},
     "output_type": "display_data"
    }
   ],
   "source": [
    "df"
   ]
  },
  {
   "cell_type": "code",
   "execution_count": 120,
   "metadata": {},
   "outputs": [],
   "source": [
    "rm(df) # remove object from memory"
   ]
  },
  {
   "cell_type": "markdown",
   "metadata": {},
   "source": [
    "## 7. Table G"
   ]
  },
  {
   "cell_type": "markdown",
   "metadata": {},
   "source": [
    "#### Number of Transitional Homeless Beds at Non-Gender Specific Shelters Per 100,000 Population, 2017"
   ]
  },
  {
   "cell_type": "code",
   "execution_count": 121,
   "metadata": {},
   "outputs": [],
   "source": [
    "# Homeless Shelters in Canada\n",
    "# Source: https://open.canada.ca/data/en/dataset/7e0189e3-8595-4e62-a4e9-4fed6f265e10\n",
    "# See also: http://publications.gc.ca/collections/collection_2018/edsc-esdc/Em20-91-2018-eng.pdf\n",
    "\n",
    "# 2017 population stats for each province\n",
    "# Source: https://www150.statcan.gc.ca/t1/tbl1/en/tv.action?pid=1710000501&pickMembers%5B0%5D=1.10&pickMembers%5B1%5D=2.1"
   ]
  },
  {
   "cell_type": "code",
   "execution_count": 122,
   "metadata": {},
   "outputs": [],
   "source": [
    "# Import data\n",
    "\n",
    "df <- fread(\"DataFilesCanadaProject/Table_G.csv\", \n",
    "             stringsAsFactors = TRUE, header = TRUE)"
   ]
  },
  {
   "cell_type": "code",
   "execution_count": 123,
   "metadata": {},
   "outputs": [
    {
     "name": "stdout",
     "output_type": "stream",
     "text": [
      "Observations: 10\n",
      "Variables: 6\n",
      "$ Province                            <fctr> AB, BC, MB, NL, NS, ON, QC, SK...\n",
      "$ TotalTransitionalBedsForAnyGender   <int> 690, 684, 201, 99, 15, 1410, 99...\n",
      "$ TotalProvincialPopulation           <int> 4286134, 4817160, 1338109, 5288...\n",
      "$ TransitionalBedsForAnyGenderPer100K <int> 16, 14, 15, 19, 2, 10, 12, 17, ...\n",
      "$ PREABBR                             <fctr> Alta., B.C., Man., N.L., N.S.,...\n",
      "$ Year                                <int> 2017, 2017, 2017, 2017, 2017, 2...\n"
     ]
    }
   ],
   "source": [
    "glimpse(df)"
   ]
  },
  {
   "cell_type": "code",
   "execution_count": 124,
   "metadata": {},
   "outputs": [
    {
     "data": {
      "text/html": [
       "<table>\n",
       "<thead><tr><th scope=col>Province</th><th scope=col>TotalTransitionalBedsForAnyGender</th><th scope=col>TotalProvincialPopulation</th><th scope=col>TransitionalBedsForAnyGenderPer100K</th><th scope=col>PREABBR</th><th scope=col>Year</th></tr></thead>\n",
       "<tbody>\n",
       "\t<tr><td>AB      </td><td> 690    </td><td> 4286134</td><td>16      </td><td>Alta.   </td><td>2017    </td></tr>\n",
       "\t<tr><td>BC      </td><td> 684    </td><td> 4817160</td><td>14      </td><td>B.C.    </td><td>2017    </td></tr>\n",
       "\t<tr><td>MB      </td><td> 201    </td><td> 1338109</td><td>15      </td><td>Man.    </td><td>2017    </td></tr>\n",
       "\t<tr><td>NL      </td><td>  99    </td><td>  528817</td><td>19      </td><td>N.L.    </td><td>2017    </td></tr>\n",
       "\t<tr><td>NS      </td><td>  15    </td><td>  953869</td><td> 2      </td><td>N.S.    </td><td>2017    </td></tr>\n",
       "\t<tr><td>ON      </td><td>1410    </td><td>14193384</td><td>10      </td><td>Ont.    </td><td>2017    </td></tr>\n",
       "\t<tr><td>QC      </td><td> 998    </td><td> 8394034</td><td>12      </td><td>Que.    </td><td>2017    </td></tr>\n",
       "\t<tr><td>SK      </td><td> 197    </td><td> 1163925</td><td>17      </td><td>Sask.   </td><td>2017    </td></tr>\n",
       "\t<tr><td>PI      </td><td>   0    </td><td>  152021</td><td> 0      </td><td>P.E.I.  </td><td>2017    </td></tr>\n",
       "\t<tr><td>NB      </td><td>   0    </td><td>  759655</td><td> 0      </td><td>N.B.    </td><td>2017    </td></tr>\n",
       "</tbody>\n",
       "</table>\n"
      ],
      "text/latex": [
       "\\begin{tabular}{r|llllll}\n",
       " Province & TotalTransitionalBedsForAnyGender & TotalProvincialPopulation & TransitionalBedsForAnyGenderPer100K & PREABBR & Year\\\\\n",
       "\\hline\n",
       "\t AB       &  690     &  4286134 & 16       & Alta.    & 2017    \\\\\n",
       "\t BC       &  684     &  4817160 & 14       & B.C.     & 2017    \\\\\n",
       "\t MB       &  201     &  1338109 & 15       & Man.     & 2017    \\\\\n",
       "\t NL       &   99     &   528817 & 19       & N.L.     & 2017    \\\\\n",
       "\t NS       &   15     &   953869 &  2       & N.S.     & 2017    \\\\\n",
       "\t ON       & 1410     & 14193384 & 10       & Ont.     & 2017    \\\\\n",
       "\t QC       &  998     &  8394034 & 12       & Que.     & 2017    \\\\\n",
       "\t SK       &  197     &  1163925 & 17       & Sask.    & 2017    \\\\\n",
       "\t PI       &    0     &   152021 &  0       & P.E.I.   & 2017    \\\\\n",
       "\t NB       &    0     &   759655 &  0       & N.B.     & 2017    \\\\\n",
       "\\end{tabular}\n"
      ],
      "text/markdown": [
       "\n",
       "Province | TotalTransitionalBedsForAnyGender | TotalProvincialPopulation | TransitionalBedsForAnyGenderPer100K | PREABBR | Year | \n",
       "|---|---|---|---|---|---|---|---|---|---|\n",
       "| AB       |  690     |  4286134 | 16       | Alta.    | 2017     | \n",
       "| BC       |  684     |  4817160 | 14       | B.C.     | 2017     | \n",
       "| MB       |  201     |  1338109 | 15       | Man.     | 2017     | \n",
       "| NL       |   99     |   528817 | 19       | N.L.     | 2017     | \n",
       "| NS       |   15     |   953869 |  2       | N.S.     | 2017     | \n",
       "| ON       | 1410     | 14193384 | 10       | Ont.     | 2017     | \n",
       "| QC       |  998     |  8394034 | 12       | Que.     | 2017     | \n",
       "| SK       |  197     |  1163925 | 17       | Sask.    | 2017     | \n",
       "| PI       |    0     |   152021 |  0       | P.E.I.   | 2017     | \n",
       "| NB       |    0     |   759655 |  0       | N.B.     | 2017     | \n",
       "\n",
       "\n"
      ],
      "text/plain": [
       "   Province TotalTransitionalBedsForAnyGender TotalProvincialPopulation\n",
       "1  AB        690                               4286134                 \n",
       "2  BC        684                               4817160                 \n",
       "3  MB        201                               1338109                 \n",
       "4  NL         99                                528817                 \n",
       "5  NS         15                                953869                 \n",
       "6  ON       1410                              14193384                 \n",
       "7  QC        998                               8394034                 \n",
       "8  SK        197                               1163925                 \n",
       "9  PI          0                                152021                 \n",
       "10 NB          0                                759655                 \n",
       "   TransitionalBedsForAnyGenderPer100K PREABBR Year\n",
       "1  16                                  Alta.   2017\n",
       "2  14                                  B.C.    2017\n",
       "3  15                                  Man.    2017\n",
       "4  19                                  N.L.    2017\n",
       "5   2                                  N.S.    2017\n",
       "6  10                                  Ont.    2017\n",
       "7  12                                  Que.    2017\n",
       "8  17                                  Sask.   2017\n",
       "9   0                                  P.E.I.  2017\n",
       "10  0                                  N.B.    2017"
      ]
     },
     "metadata": {},
     "output_type": "display_data"
    }
   ],
   "source": [
    "df"
   ]
  },
  {
   "cell_type": "code",
   "execution_count": 125,
   "metadata": {},
   "outputs": [],
   "source": [
    "rm(df) # remove object from memory"
   ]
  },
  {
   "cell_type": "markdown",
   "metadata": {},
   "source": [
    "## 8. Table J"
   ]
  },
  {
   "cell_type": "markdown",
   "metadata": {},
   "source": [
    "#### Percent of Females 12 and Older Who Have a Strong Sense of Belonging to Their Local Community, 2017"
   ]
  },
  {
   "cell_type": "code",
   "execution_count": 126,
   "metadata": {},
   "outputs": [],
   "source": [
    "# Import dataset\n",
    "# Canadian health characteristics, annual estimates\n",
    "# Source: https://www150.statcan.gc.ca/t1/tbl1/en/tv.action?pid=1310009601"
   ]
  },
  {
   "cell_type": "code",
   "execution_count": 127,
   "metadata": {},
   "outputs": [],
   "source": [
    "# Import data\n",
    "\n",
    "df <- fread(\"DataFilesCanadaProject/Table_J.csv\", \n",
    "             stringsAsFactors = TRUE, header = TRUE)"
   ]
  },
  {
   "cell_type": "code",
   "execution_count": 128,
   "metadata": {},
   "outputs": [
    {
     "name": "stdout",
     "output_type": "stream",
     "text": [
      "Observations: 10\n",
      "Variables: 2\n",
      "$ SenseOfBelongingToLocalCommunityForFemales <dbl> 69.6, 72.9, 72.9, 77.9, ...\n",
      "$ PREABBR                                    <fctr> Alta., B.C., Man., N.B....\n"
     ]
    }
   ],
   "source": [
    "glimpse(df)"
   ]
  },
  {
   "cell_type": "code",
   "execution_count": 129,
   "metadata": {},
   "outputs": [
    {
     "data": {
      "text/html": [
       "<table>\n",
       "<thead><tr><th scope=col>SenseOfBelongingToLocalCommunityForFemales</th><th scope=col>PREABBR</th></tr></thead>\n",
       "<tbody>\n",
       "\t<tr><td>69.6  </td><td>Alta. </td></tr>\n",
       "\t<tr><td>72.9  </td><td>B.C.  </td></tr>\n",
       "\t<tr><td>72.9  </td><td>Man.  </td></tr>\n",
       "\t<tr><td>77.9  </td><td>N.B.  </td></tr>\n",
       "\t<tr><td>77.6  </td><td>N.L.  </td></tr>\n",
       "\t<tr><td>72.6  </td><td>N.S.  </td></tr>\n",
       "\t<tr><td>72.4  </td><td>Ont.  </td></tr>\n",
       "\t<tr><td>74.9  </td><td>P.E.I.</td></tr>\n",
       "\t<tr><td>61.4  </td><td>Que.  </td></tr>\n",
       "\t<tr><td>74.8  </td><td>Sask. </td></tr>\n",
       "</tbody>\n",
       "</table>\n"
      ],
      "text/latex": [
       "\\begin{tabular}{r|ll}\n",
       " SenseOfBelongingToLocalCommunityForFemales & PREABBR\\\\\n",
       "\\hline\n",
       "\t 69.6   & Alta. \\\\\n",
       "\t 72.9   & B.C.  \\\\\n",
       "\t 72.9   & Man.  \\\\\n",
       "\t 77.9   & N.B.  \\\\\n",
       "\t 77.6   & N.L.  \\\\\n",
       "\t 72.6   & N.S.  \\\\\n",
       "\t 72.4   & Ont.  \\\\\n",
       "\t 74.9   & P.E.I.\\\\\n",
       "\t 61.4   & Que.  \\\\\n",
       "\t 74.8   & Sask. \\\\\n",
       "\\end{tabular}\n"
      ],
      "text/markdown": [
       "\n",
       "SenseOfBelongingToLocalCommunityForFemales | PREABBR | \n",
       "|---|---|---|---|---|---|---|---|---|---|\n",
       "| 69.6   | Alta.  | \n",
       "| 72.9   | B.C.   | \n",
       "| 72.9   | Man.   | \n",
       "| 77.9   | N.B.   | \n",
       "| 77.6   | N.L.   | \n",
       "| 72.6   | N.S.   | \n",
       "| 72.4   | Ont.   | \n",
       "| 74.9   | P.E.I. | \n",
       "| 61.4   | Que.   | \n",
       "| 74.8   | Sask.  | \n",
       "\n",
       "\n"
      ],
      "text/plain": [
       "   SenseOfBelongingToLocalCommunityForFemales PREABBR\n",
       "1  69.6                                       Alta.  \n",
       "2  72.9                                       B.C.   \n",
       "3  72.9                                       Man.   \n",
       "4  77.9                                       N.B.   \n",
       "5  77.6                                       N.L.   \n",
       "6  72.6                                       N.S.   \n",
       "7  72.4                                       Ont.   \n",
       "8  74.9                                       P.E.I. \n",
       "9  61.4                                       Que.   \n",
       "10 74.8                                       Sask.  "
      ]
     },
     "metadata": {},
     "output_type": "display_data"
    }
   ],
   "source": [
    "df"
   ]
  },
  {
   "cell_type": "code",
   "execution_count": 130,
   "metadata": {},
   "outputs": [],
   "source": [
    "rm(df) # remove object from memory"
   ]
  },
  {
   "cell_type": "markdown",
   "metadata": {},
   "source": [
    "## 9. Table K"
   ]
  },
  {
   "cell_type": "markdown",
   "metadata": {},
   "source": [
    "#### Percent of Males 12 and Older Who Have a Strong Sense of Belonging to Their Local Community, 2017"
   ]
  },
  {
   "cell_type": "code",
   "execution_count": 131,
   "metadata": {},
   "outputs": [],
   "source": [
    "# Import dataset\n",
    "# Canadian health characteristics, annual estimates\n",
    "# Source: https://www150.statcan.gc.ca/t1/tbl1/en/tv.action?pid=1310009601"
   ]
  },
  {
   "cell_type": "code",
   "execution_count": 132,
   "metadata": {},
   "outputs": [],
   "source": [
    "# Import data\n",
    "\n",
    "df <- fread(\"DataFilesCanadaProject/Table_K.csv\", \n",
    "             stringsAsFactors = TRUE, header = TRUE)"
   ]
  },
  {
   "cell_type": "code",
   "execution_count": 133,
   "metadata": {},
   "outputs": [
    {
     "name": "stdout",
     "output_type": "stream",
     "text": [
      "Observations: 10\n",
      "Variables: 2\n",
      "$ SenseOfBelongingToLocalCommunityForMales <dbl> 68.2, 70.4, 74.0, 76.1, 76...\n",
      "$ PREABBR                                  <fctr> Alta., B.C., Man., N.B., ...\n"
     ]
    }
   ],
   "source": [
    "glimpse(df)"
   ]
  },
  {
   "cell_type": "code",
   "execution_count": 134,
   "metadata": {},
   "outputs": [
    {
     "data": {
      "text/html": [
       "<table>\n",
       "<thead><tr><th scope=col>SenseOfBelongingToLocalCommunityForMales</th><th scope=col>PREABBR</th></tr></thead>\n",
       "<tbody>\n",
       "\t<tr><td>68.2  </td><td>Alta. </td></tr>\n",
       "\t<tr><td>70.4  </td><td>B.C.  </td></tr>\n",
       "\t<tr><td>74.0  </td><td>Man.  </td></tr>\n",
       "\t<tr><td>76.1  </td><td>N.B.  </td></tr>\n",
       "\t<tr><td>76.9  </td><td>N.L.  </td></tr>\n",
       "\t<tr><td>70.7  </td><td>N.S.  </td></tr>\n",
       "\t<tr><td>71.0  </td><td>Ont.  </td></tr>\n",
       "\t<tr><td>78.1  </td><td>P.E.I.</td></tr>\n",
       "\t<tr><td>61.8  </td><td>Que.  </td></tr>\n",
       "\t<tr><td>74.0  </td><td>Sask. </td></tr>\n",
       "</tbody>\n",
       "</table>\n"
      ],
      "text/latex": [
       "\\begin{tabular}{r|ll}\n",
       " SenseOfBelongingToLocalCommunityForMales & PREABBR\\\\\n",
       "\\hline\n",
       "\t 68.2   & Alta. \\\\\n",
       "\t 70.4   & B.C.  \\\\\n",
       "\t 74.0   & Man.  \\\\\n",
       "\t 76.1   & N.B.  \\\\\n",
       "\t 76.9   & N.L.  \\\\\n",
       "\t 70.7   & N.S.  \\\\\n",
       "\t 71.0   & Ont.  \\\\\n",
       "\t 78.1   & P.E.I.\\\\\n",
       "\t 61.8   & Que.  \\\\\n",
       "\t 74.0   & Sask. \\\\\n",
       "\\end{tabular}\n"
      ],
      "text/markdown": [
       "\n",
       "SenseOfBelongingToLocalCommunityForMales | PREABBR | \n",
       "|---|---|---|---|---|---|---|---|---|---|\n",
       "| 68.2   | Alta.  | \n",
       "| 70.4   | B.C.   | \n",
       "| 74.0   | Man.   | \n",
       "| 76.1   | N.B.   | \n",
       "| 76.9   | N.L.   | \n",
       "| 70.7   | N.S.   | \n",
       "| 71.0   | Ont.   | \n",
       "| 78.1   | P.E.I. | \n",
       "| 61.8   | Que.   | \n",
       "| 74.0   | Sask.  | \n",
       "\n",
       "\n"
      ],
      "text/plain": [
       "   SenseOfBelongingToLocalCommunityForMales PREABBR\n",
       "1  68.2                                     Alta.  \n",
       "2  70.4                                     B.C.   \n",
       "3  74.0                                     Man.   \n",
       "4  76.1                                     N.B.   \n",
       "5  76.9                                     N.L.   \n",
       "6  70.7                                     N.S.   \n",
       "7  71.0                                     Ont.   \n",
       "8  78.1                                     P.E.I. \n",
       "9  61.8                                     Que.   \n",
       "10 74.0                                     Sask.  "
      ]
     },
     "metadata": {},
     "output_type": "display_data"
    }
   ],
   "source": [
    "df"
   ]
  },
  {
   "cell_type": "markdown",
   "metadata": {},
   "source": [
    "# Main Script Ends Here"
   ]
  },
  {
   "cell_type": "code",
   "execution_count": 135,
   "metadata": {},
   "outputs": [
    {
     "data": {
      "text/plain": [
       "[1] \"2018-08-10 14:40:42 AST\""
      ]
     },
     "metadata": {},
     "output_type": "display_data"
    }
   ],
   "source": [
    "Sys.time() # script end time from body"
   ]
  },
  {
   "cell_type": "markdown",
   "metadata": {},
   "source": [
    "# Appendix 1 - Examples of common coding techniques"
   ]
  },
  {
   "cell_type": "code",
   "execution_count": 136,
   "metadata": {},
   "outputs": [],
   "source": [
    "# Example of how to read and filter a large csv file a chunk at a time, e.g. filter 50000 rows at a time into a new dataframe\n",
    "# This is very efficient, comparable to fread in speed but done in chunks to conserve memory\n",
    "# I also prefer it to fread because I can filter out rows with missing values as I import the data\n",
    "# and specify which columns I want to import \n",
    "# need readr library from tidyverse library\n",
    "\n",
    "\n",
    "# Sys.time() # start time for reading file\n",
    "# f <- function(x, pos) subset(x, \n",
    "#                             !is.na(Beds) # filter out any rows with missing values in the specified column in parenthesis\n",
    "#                             & Gender == \"Male\") # only include rows where the specified condition is met\n",
    "#                             & any other criteria for filtering\n",
    "# df <- read_csv_chunked(\"http://www.edsc-esdc.gc.ca/ouvert-open/hps/CDHPD-OpenDataNSPL-DataSet-20170804-ENFR.csv\", \n",
    "#                            DataFrameCallback$new(f), \n",
    "#                            chunk_size = 50000, # this is an adequate chunk size\n",
    "#                            # col_names = TRUE # this will keep original column names if you don't provide custom names\n",
    "#                                               # most of the time it's best to rename every column explicitly as shown below\n",
    "#                            col_names = c(\"ShelterType\", # this renames each column in order of the csv file to what you specify\n",
    "#                                          \"ProvinceCode\",\n",
    "#                                          \"City\",\n",
    "#                                          \"TargetPopulation\",\n",
    "#                                          \"Gender\",\n",
    "#                                          \"ShelterName\",\n",
    "#                                          \"Beds\"), # all other columns after this will be dropped if not included        \n",
    "#                            cols_only( # specify which columns with data types you want to include \n",
    "#                                       # to avoid importing unwanted data\n",
    "#                                       # include all columns that you specified above with col_names if you renamed them\n",
    "#                                \"ShelterType\" = col_character(),\n",
    "#                                \"ProvinceCode\" = col_character(),\n",
    "#                                \"City\" = col_character(),\n",
    "#                                \"TargetPopulation\" = col_character(),\n",
    "#                                \"Gender\" = col_character(),\n",
    "#                                \"ShelterName\" = col_character(),\n",
    "#                                \"Beds\" = col_number()),\n",
    "#                            skip = 1, # skip original column headers if you renamed them\n",
    "#                            trim_ws = TRUE) # trim leading and trailing whitespace for each data point\n",
    "# Sys.time() # end time for reading file"
   ]
  },
  {
   "cell_type": "code",
   "execution_count": 137,
   "metadata": {},
   "outputs": [],
   "source": [
    "# Example of how to read csv files quickly with fread while converting all chr variables to factors \n",
    "# need data.table library\n",
    "# Use fread when you are a lazy and know you won't have memory issues loading the entire dataset at once\n",
    "# or when you know you need to keep all information loaded into memory\n",
    "\n",
    "# df <- fread(\"DataFilesAOP/AB_Provincial_Detailed_Crime_Stats_2006-2011-2016.csv\", \n",
    "#            stringsAsFactors = TRUE, header = TRUE)"
   ]
  },
  {
   "cell_type": "code",
   "execution_count": 138,
   "metadata": {},
   "outputs": [],
   "source": [
    "# Example of how to write a dataframe to a csv file\n",
    "\n",
    "# write.csv(df, \n",
    "#           file = \"NS_Crime_Stats_Clean_Extract3.csv\",\n",
    "#           row.names = FALSE) # set row.name to FALSE to not include an index column in the csv output file"
   ]
  },
  {
   "cell_type": "code",
   "execution_count": 139,
   "metadata": {},
   "outputs": [],
   "source": [
    "# Example how to change all of the column names in a dataframe to something friendlier\n",
    "# You want to avoid special characters and spaces in column names to prevent problems with differnt packages and features\n",
    "# Provide new names in a character vector\n",
    "\n",
    "# colnames(df) <- c(\" \", \" \")"
   ]
  },
  {
   "cell_type": "code",
   "execution_count": 140,
   "metadata": {},
   "outputs": [],
   "source": [
    "# Example how to set the number of digits displayed in dataframes\n",
    "\n",
    "# options(digits=15) # set the visible number of digits to 15, useful when displaying GIS coordinates in dataframes\n",
    "# options(\"digits\") # display the max number of digits that appear in cells of a dataframe"
   ]
  },
  {
   "cell_type": "code",
   "execution_count": 141,
   "metadata": {},
   "outputs": [],
   "source": [
    "# Example of how to convert columns to the correct data types and how to delete columns from a dataframe\n",
    "\n",
    "# use as.numeric() and as.factor() where appropriate\n",
    "# df$column_name <- NULL will delete that column from the dataframe"
   ]
  },
  {
   "cell_type": "code",
   "execution_count": 142,
   "metadata": {},
   "outputs": [],
   "source": [
    "# Example of how to recode values of a column for rows meeting a condition\n",
    "\n",
    "# df$LATITUDE[df$GEO == \n",
    "#                          \"Amherst, Nova Scotia, municipal\"] <- 45.8338198\n",
    "# df$LONGITUDE[df$GEO == \n",
    "#                          \"Amherst, Nova Scotia, municipal\"] <- -64.2109455\n",
    "#\n",
    "# df$COUNTY[df$GEO ==\n",
    "#                          \"Amherst, Nova Scotia, municipal\"] <- \"Cumberland\""
   ]
  },
  {
   "cell_type": "code",
   "execution_count": 143,
   "metadata": {},
   "outputs": [],
   "source": [
    "# Example of how to filter a dataframe to rows where a specific string appears anywhere in a specific column\n",
    "# This example filters df to rows where \"MEP\" appears in the \"Contents\" column (need stringr library)\n",
    "\n",
    "# df_MEP <- df %>%\n",
    "#   filter(str_detect(Contents, \"MEP\"))"
   ]
  },
  {
   "cell_type": "code",
   "execution_count": 144,
   "metadata": {},
   "outputs": [],
   "source": [
    "# Example of how to handle dates - converting from timestamp to YYYYMMDD\n",
    "# This example is adequate if you really don't need a date field for arithmetic or plotting with ggplot2\n",
    "\n",
    "# parse out date and time from Timestamp\n",
    "# df <- \n",
    "#   separate(df, Timestamp, # e.g., \"01/01/2017 12:00:00 AM\"\n",
    "#           into = c(\"Date\", \"Time\", \"AMPM\"), sep = \" \")\n",
    "\n",
    "# parse out Month, Day, Year from Date\n",
    "# df <- \n",
    "#  separate(df, Date, \n",
    "#           into = c(\"Month\", \"Day\", \"Year\"), sep = \"/\")\n",
    "\n",
    "# Remove unwanted columns\n",
    "# df$Time <- NULL\n",
    "# df$AMPM <- NULL\n",
    "\n",
    "# unite the columns \"Year\", \"Month\", \"Day\" into a single column for \"YYYYMMDD\"\n",
    "# df <- \n",
    "#  unite_(df, \"YYYYMMDD\", c(\"Year\",\"Month\", \"Day\"), sep = \"\")\n",
    "\n",
    "# sort by date in decreasing order\n",
    "# df <- df[order(df$YYYYMMDD, decreasing = TRUE), ]"
   ]
  },
  {
   "cell_type": "code",
   "execution_count": 145,
   "metadata": {},
   "outputs": [],
   "source": [
    "# Use the lubridate library if arithmetic is important when working with date and time data\n",
    "# In my opinion, the lubridate functions are more complicated than my current needs, so I prefer my approach above\n",
    "# for handling dates/times\n",
    "\n",
    "# https://lubridate.tidyverse.org/\n",
    "# https://rawgit.com/rstudio/cheatsheets/master/lubridate.pdf"
   ]
  },
  {
   "cell_type": "code",
   "execution_count": 146,
   "metadata": {},
   "outputs": [],
   "source": [
    "# Example of how to subset and retain only selected characters from a cell\n",
    "# This is useful if you want to strip out useless characters in a cell given a start and end position to retain\n",
    "# need stringr library\n",
    "\n",
    "# df$gps <- \n",
    "#   str_sub(df$gps, start = 3, end = -2) \n",
    "\n",
    "# this gets rid of the first 3 characters and the last two characters\n",
    "# you can get an accurate count of characters when viewing them with glimpse(df)"
   ]
  },
  {
   "cell_type": "code",
   "execution_count": 147,
   "metadata": {},
   "outputs": [],
   "source": [
    "# Example how to merge two dataframes on common column names\n",
    "# https://stackoverflow.com/questions/1299871/how-to-join-merge-data-frames-inner-outer-left-right\n",
    "\n",
    "# CanadaMap <- merge(CanadaMap, df_Provincial) # join the two dataframes, merge will use the common column name to join with"
   ]
  },
  {
   "cell_type": "code",
   "execution_count": 148,
   "metadata": {},
   "outputs": [],
   "source": [
    "# Example of how to combine two or more dataframes vertically with the same column names\n",
    "\n",
    "# df4 <- rbind(df1, df2, df3)"
   ]
  },
  {
   "cell_type": "code",
   "execution_count": 149,
   "metadata": {},
   "outputs": [],
   "source": [
    "# Example of how to combine two or more dataframes horizontally with the same number of rows but different columns\n",
    "\n",
    "# df4 <- cbind(df1, df2, df3)"
   ]
  },
  {
   "cell_type": "code",
   "execution_count": 150,
   "metadata": {},
   "outputs": [],
   "source": [
    "# Example of how to create a new column that takes on values by performing arithmetic on existing columns \n",
    "# need dplyr and tidyverse library\n",
    "# This example creates a new column that divides one column by another and mutliplies the result by a constant\n",
    "\n",
    "# NSMAP2011 <- NSMAP2011 %>%\n",
    "#   mutate(PropertyCrimeCountyRatePer100K = PropertyCrimeIncidentsPerCounty/CountyPopulation * 100000)"
   ]
  },
  {
   "cell_type": "code",
   "execution_count": 151,
   "metadata": {},
   "outputs": [],
   "source": [
    "# Example of how to order a dataframe by a column in descening order\n",
    "# a \"-\" in front of the column name will sort it in descending (largest to lowest) order\n",
    "\n",
    "# df <- \n",
    "#  df[with(df, order(-Incidents_Total)), ]\n",
    "\n",
    "\n",
    "# adding multiple column names will prioritize ordering in that sequence\n",
    "\n",
    "# df <- \n",
    "#  df[with(df, order(REGION, COUNTY, GEO, Violations, Statistics)), ]\n",
    "\n",
    "#--------------------\n",
    "# Alternatively, you can also use the following:\n",
    "# sort by date in decreasing order\n",
    "# df <- df[order(df$YYYYMMDD, decreasing = TRUE), ]"
   ]
  },
  {
   "cell_type": "code",
   "execution_count": 152,
   "metadata": {},
   "outputs": [],
   "source": [
    "# Before spreading data for tidy format, make sure to remove any special characters beforehand\n",
    "# This ensures that after spreading the data, the column names are all properly formatted\n",
    "# Properly formatted column names will always appear flushed next to the dollar sign when glimpsing a dataframe\n",
    "# If spaces or special characters are present in the column name, they will appear within single quotes after the dollar sign\n",
    "# when glimpsing the dataframe after spreading the data\n",
    "\n",
    "# df_health$Indicators <- gsub(\" \", \"_\", df_health$Indicators)\n",
    "# df_health$Indicators <- gsub(\",\", \"\", df_health$Indicators)\n",
    "# df_health$Indicators <- gsub(\";\", \"\", df_health$Indicators)\n",
    "# df_health$Indicators <- gsub(\"-\", \"_\", df_health$Indicators)\n",
    "# df_health$Indicators <- gsub(\"\\\\(\", \"\", df_health$Indicators) # this removes left parenthesis\n",
    "# df_health$Indicators <- gsub(\"\\\\)\", \"\", df_health$Indicators) # this removes right parenthesis\n",
    "\n",
    "# df_health <- df_health %>%\n",
    "#   spread(Indicators, Value)"
   ]
  },
  {
   "cell_type": "code",
   "execution_count": 153,
   "metadata": {},
   "outputs": [],
   "source": [
    "# Example of how to load a shapefile for mapping \n",
    "# need sf library\n",
    "\n",
    "# NS <- st_read(\"GIS_Nova_Scotia/Counties_GCS.shp\")"
   ]
  },
  {
   "cell_type": "code",
   "execution_count": 154,
   "metadata": {},
   "outputs": [],
   "source": [
    "# Example how to convert a dataframe of lats/longs to a an sf dataframe for points spatial data \n",
    "# need sf library\n",
    "\n",
    "# pts <- st_as_sf(df, coords = c(\"LONGITUDE\", \"LATITUDE\"), crs = 4269) # create sf object called \"pts\" from df\n",
    "# class(pts)\n",
    "# glimpse(pts) # LONGITUDE and LATITUDE columns are replaced with a geometry column for point data"
   ]
  },
  {
   "cell_type": "code",
   "execution_count": 155,
   "metadata": {},
   "outputs": [],
   "source": [
    "# Example how to add custom icons for points spatial data \n",
    "# need sf library and tmap library\n",
    "\n",
    "# Using custom icons for points instead of bubbles\n",
    "\n",
    "# file <- \"DataFilesGeneral/flower_960_720.png\"  \n",
    "# flower_icon <- tmap_icons(file, width = 48, height = 48, keep.asp = TRUE,\n",
    "#   just = c(\"center\", \"center\"), as.local = TRUE)\n",
    "\n",
    "# my_map_2 <- my_map_0 +\n",
    "#   tm_shape(pts) +\n",
    "#   tm_symbols(\"VALUE\", shape = flower_icon, size = .3, alpha = .2, border.alpha = 0) \n",
    "# my_map_2"
   ]
  },
  {
   "cell_type": "markdown",
   "metadata": {},
   "source": [
    "# Appendix 2 - Note regarding preferred way for installing packages"
   ]
  },
  {
   "cell_type": "code",
   "execution_count": 156,
   "metadata": {},
   "outputs": [],
   "source": [
    "# Preferrably, install new packages via Anaconda Prompt > conda install r-package_name\n",
    "# Try to only use library() in notebook instead of install.packages()\n",
    "# this is more reliable than using install.packages(\"package name\") in R script\n",
    "# Anaconda Prompt > conda list shows what packages are installed\n",
    "\n",
    "# However, when the above isn't true for some reason, it is noted below\n",
    "# e.g., tmap must be installed through install.packages(\"tmap\")"
   ]
  }
 ],
 "metadata": {
  "kernelspec": {
   "display_name": "R",
   "language": "R",
   "name": "ir"
  },
  "language_info": {
   "codemirror_mode": "r",
   "file_extension": ".r",
   "mimetype": "text/x-r-source",
   "name": "R",
   "pygments_lexer": "r",
   "version": "3.4.3"
  }
 },
 "nbformat": 4,
 "nbformat_minor": 2
}
