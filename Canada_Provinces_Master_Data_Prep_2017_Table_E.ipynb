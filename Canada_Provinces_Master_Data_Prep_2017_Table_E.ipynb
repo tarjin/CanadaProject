{
 "cells": [
  {
   "cell_type": "code",
   "execution_count": 149,
   "metadata": {},
   "outputs": [
    {
     "data": {
      "text/plain": [
       "[1] \"2018-08-09 15:08:23 AST\""
      ]
     },
     "metadata": {},
     "output_type": "display_data"
    }
   ],
   "source": [
    "# Must run this notebook from root directory in Anaconda for relative local file paths to work\n",
    "\n",
    "Sys.time() # script start time"
   ]
  },
  {
   "cell_type": "markdown",
   "metadata": {},
   "source": [
    "# Install and attach packages"
   ]
  },
  {
   "cell_type": "code",
   "execution_count": 150,
   "metadata": {},
   "outputs": [],
   "source": [
    "# See note at the end of this notebook regarding the preferred way of installing packages"
   ]
  },
  {
   "cell_type": "code",
   "execution_count": 151,
   "metadata": {},
   "outputs": [],
   "source": [
    "library(tidyverse)"
   ]
  },
  {
   "cell_type": "code",
   "execution_count": 152,
   "metadata": {},
   "outputs": [],
   "source": [
    "library(data.table)"
   ]
  },
  {
   "cell_type": "code",
   "execution_count": 153,
   "metadata": {},
   "outputs": [],
   "source": [
    "library(stringr)"
   ]
  },
  {
   "cell_type": "code",
   "execution_count": 154,
   "metadata": {},
   "outputs": [],
   "source": [
    "library(gridExtra)"
   ]
  },
  {
   "cell_type": "code",
   "execution_count": 155,
   "metadata": {},
   "outputs": [],
   "source": [
    "library(sf) # needed for mapping"
   ]
  },
  {
   "cell_type": "code",
   "execution_count": 156,
   "metadata": {},
   "outputs": [],
   "source": [
    "# install.packages(\"tmap\")\n",
    "# this for some reason can only be installed via install.packages(), but only has to be done once in your environment"
   ]
  },
  {
   "cell_type": "code",
   "execution_count": 157,
   "metadata": {},
   "outputs": [],
   "source": [
    "library(tmap) # needed for mapping"
   ]
  },
  {
   "cell_type": "code",
   "execution_count": 158,
   "metadata": {},
   "outputs": [],
   "source": [
    "# Set default options to display more digits, useful for gps coordinates"
   ]
  },
  {
   "cell_type": "code",
   "execution_count": 159,
   "metadata": {},
   "outputs": [],
   "source": [
    "options(digits=15) # set the visible number of digits to 15, useful when displaying GIS coordinates in dataframes"
   ]
  },
  {
   "cell_type": "code",
   "execution_count": 160,
   "metadata": {},
   "outputs": [
    {
     "data": {
      "text/html": [
       "<strong>$digits</strong> = 15"
      ],
      "text/latex": [
       "\\textbf{\\$digits} = 15"
      ],
      "text/markdown": [
       "**$digits** = 15"
      ],
      "text/plain": [
       "$digits\n",
       "[1] 15\n"
      ]
     },
     "metadata": {},
     "output_type": "display_data"
    }
   ],
   "source": [
    "options(\"digits\") # display the max number of digits that appear in cells of a dataframe"
   ]
  },
  {
   "cell_type": "code",
   "execution_count": 161,
   "metadata": {},
   "outputs": [
    {
     "data": {
      "text/plain": [
       "R version 3.4.3 (2017-11-30)\n",
       "Platform: x86_64-w64-mingw32/x64 (64-bit)\n",
       "Running under: Windows 10 x64 (build 17134)\n",
       "\n",
       "Matrix products: default\n",
       "\n",
       "locale:\n",
       "[1] LC_COLLATE=English_Canada.1252  LC_CTYPE=English_Canada.1252   \n",
       "[3] LC_MONETARY=English_Canada.1252 LC_NUMERIC=C                   \n",
       "[5] LC_TIME=English_Canada.1252    \n",
       "\n",
       "attached base packages:\n",
       "[1] stats     graphics  grDevices utils     datasets  methods   base     \n",
       "\n",
       "other attached packages:\n",
       " [1] bindrcpp_0.2         tmap_1.10            sf_0.5-4            \n",
       " [4] gridExtra_2.2.1      data.table_1.10.4-3  forcats_0.2.0       \n",
       " [7] stringr_1.2.0        dplyr_0.7.4          purrr_0.2.4         \n",
       "[10] readr_1.1.1          tidyr_0.7.2          tibble_1.4.1        \n",
       "[13] ggplot2_2.2.1        tidyverse_1.2.1      RevoUtils_10.0.8    \n",
       "[16] RevoUtilsMath_10.0.1\n",
       "\n",
       "loaded via a namespace (and not attached):\n",
       "  [1] colorspace_1.3-2   deldir_0.1-14      class_7.3-14      \n",
       "  [4] gdalUtils_2.0.1.7  leaflet_1.1.0      rgdal_1.2-8       \n",
       "  [7] satellite_1.0.0    IRdisplay_0.4.4    base64enc_0.1-3   \n",
       " [10] dichromat_2.0-0    rstudioapi_0.7     lubridate_1.7.1   \n",
       " [13] xml2_1.1.1         R.methodsS3_1.7.1  codetools_0.2-15  \n",
       " [16] splines_3.4.3      mnormt_1.5-5       geojsonlint_0.2.0 \n",
       " [19] IRkernel_0.8.11    jsonlite_1.5       tmaptools_1.2-1   \n",
       " [22] broom_0.4.3        png_0.1-7          R.oo_1.21.0       \n",
       " [25] rgeos_0.3-23       shiny_1.0.5        compiler_3.4.3    \n",
       " [28] httr_1.3.1         mapview_2.1.4      assertthat_0.2.0  \n",
       " [31] Matrix_1.2-12      lazyeval_0.2.1     cli_1.0.0         \n",
       " [34] htmltools_0.3.6    tools_3.4.3        coda_0.19-1       \n",
       " [37] gtable_0.2.0       glue_1.2.0         reshape2_1.4.3    \n",
       " [40] gmodels_2.16.2     V8_1.5             Rcpp_0.12.14      \n",
       " [43] cellranger_1.1.0   raster_2.5-8       spdep_0.6-13      \n",
       " [46] gdata_2.18.0       nlme_3.1-131       udunits2_0.13     \n",
       " [49] iterators_1.0.9    crosstalk_1.0.0    psych_1.7.5       \n",
       " [52] rvest_0.3.2        mime_0.5           gtools_3.5.0      \n",
       " [55] XML_3.98-1.9       LearnBayes_2.15    MASS_7.3-47       \n",
       " [58] scales_0.5.0       hms_0.4.0          parallel_3.4.3    \n",
       " [61] expm_0.999-2       RColorBrewer_1.1-2 curl_3.1          \n",
       " [64] geosphere_1.5-5    stringi_1.1.6      jsonvalidate_1.0.0\n",
       " [67] foreach_1.4.5      e1071_1.6-8        boot_1.3-20       \n",
       " [70] repr_0.12.0        rlang_0.1.6        pkgconfig_2.0.1   \n",
       " [73] bitops_1.0-6       evaluate_0.10.1    lattice_0.20-35   \n",
       " [76] bindr_0.1          htmlwidgets_0.9    osmar_1.1-7       \n",
       " [79] plyr_1.8.4         magrittr_1.5       R6_2.2.2          \n",
       " [82] pbdZMQ_0.2-6       DBI_0.7            pillar_1.0.1      \n",
       " [85] haven_1.1.0        foreign_0.8-69     units_0.4-6       \n",
       " [88] RCurl_1.95-4.8     sp_1.2-5           modelr_0.1.1      \n",
       " [91] crayon_1.3.4       rmapshaper_0.3.0   uuid_0.1-2        \n",
       " [94] KernSmooth_2.23-15 grid_3.4.3         readxl_1.0.0      \n",
       " [97] webshot_0.4.1      digest_0.6.13      classInt_0.1-24   \n",
       "[100] xtable_1.8-2       httpuv_1.3.5       R.utils_2.5.0     \n",
       "[103] stats4_3.4.3       munsell_0.4.3      viridisLite_0.2.0 "
      ]
     },
     "metadata": {},
     "output_type": "display_data"
    }
   ],
   "source": [
    "sessionInfo()"
   ]
  },
  {
   "cell_type": "markdown",
   "metadata": {},
   "source": [
    "# Main Script Begins Here"
   ]
  },
  {
   "cell_type": "markdown",
   "metadata": {},
   "source": [
    "## 5. Number of Transitional Homeless Beds at Female-Only Shelters Per 100,000 Female Population, 2017"
   ]
  },
  {
   "cell_type": "code",
   "execution_count": 162,
   "metadata": {},
   "outputs": [
    {
     "data": {
      "text/plain": [
       "[1] \"2018-08-09 15:08:23 AST\""
      ]
     },
     "metadata": {},
     "output_type": "display_data"
    }
   ],
   "source": [
    "Sys.time() # script start time from body"
   ]
  },
  {
   "cell_type": "code",
   "execution_count": 163,
   "metadata": {},
   "outputs": [],
   "source": [
    "# Import and clean data before analysis"
   ]
  },
  {
   "cell_type": "code",
   "execution_count": 164,
   "metadata": {},
   "outputs": [
    {
     "data": {
      "text/plain": [
       "[1] \"2018-08-09 15:08:24 AST\""
      ]
     },
     "metadata": {},
     "output_type": "display_data"
    },
    {
     "data": {
      "text/plain": [
       "[1] \"2018-08-09 15:08:24 AST\""
      ]
     },
     "metadata": {},
     "output_type": "display_data"
    }
   ],
   "source": [
    "# Import dataset\n",
    "# Homeless Shelters in Canada\n",
    "# Source: https://open.canada.ca/data/en/dataset/7e0189e3-8595-4e62-a4e9-4fed6f265e10\n",
    "# See also: http://publications.gc.ca/collections/collection_2018/edsc-esdc/Em20-91-2018-eng.pdf\n",
    "\n",
    "\n",
    "Sys.time() # start time for reading file\n",
    "f <- function(x, pos) subset(x, \n",
    "                            !is.na(Beds)) # filter out any rows with missing values in the specified column in parenthesis\n",
    "#                           & City == \"Halifax\") # only include rows where the specified condition is met\n",
    "#                           & any other criteria for filtering\n",
    "df <- read_csv_chunked(\"http://www.edsc-esdc.gc.ca/ouvert-open/hps/CDHPD-OpenDataNSPL-DataSet-20170804-ENFR.csv\", \n",
    "                           DataFrameCallback$new(f), \n",
    "                           chunk_size = 50000, # this is an adequate chunk size\n",
    "                           col_names = c(\"ShelterType\", # this renames each column in order to what you specify\n",
    "                                         \"Province\",\n",
    "                                         \"City\",\n",
    "                                         \"TargetPopulation\",\n",
    "                                         \"Gender\",\n",
    "                                         \"ShelterName\",\n",
    "                                         \"Beds\"), # all other columns after this will be dropped\n",
    "                           cols_only( # specify which columns with data types you want to include \n",
    "                                      # to avoid importing unwanted data\n",
    "                                      # include all columns that you specified above with col_names\n",
    "                               \"ShelterType\" = col_character(),\n",
    "                               \"Province\" = col_character(),\n",
    "                               \"City\" = col_character(),\n",
    "                               \"TargetPopulation\" = col_character(),\n",
    "                               \"Gender\" = col_character(),\n",
    "                               \"ShelterName\" = col_character(),\n",
    "                               \"Beds\" = col_number()),\n",
    "                           skip = 1, # skip original column headers\n",
    "                           trim_ws = TRUE) # trim leading and trailing whitespace for each data point\n",
    "Sys.time() # end time for reading file"
   ]
  },
  {
   "cell_type": "code",
   "execution_count": 165,
   "metadata": {},
   "outputs": [
    {
     "name": "stdout",
     "output_type": "stream",
     "text": [
      "Observations: 687\n",
      "Variables: 7\n",
      "$ ShelterType      <chr> \"Emergency\", \"Emergency\", \"Emergency\", \"Emergency\"...\n",
      "$ Province         <chr> \"AB\", \"AB\", \"AB\", \"AB\", \"AB\", \"AB\", \"AB\", \"AB\", \"A...\n",
      "$ City             <chr> \"Calgary\", \"Calgary\", \"Calgary\", \"Calgary\", \"Calga...\n",
      "$ TargetPopulation <chr> \"Family\", \"General\", \"General\", \"General\", \"Genera...\n",
      "$ Gender           <chr> \"Both\", \"Both\", \"Both\", \"Both\", \"Both\", \"Both\", \"F...\n",
      "$ ShelterName      <chr> \"Brenda's House\", \"Calgary Alpha House\", \"Calgary ...\n",
      "$ Beds             <dbl> 60, 120, 270, 975, 11, 370, 12, 6, 80, 25, 15, 5, ...\n"
     ]
    }
   ],
   "source": [
    "glimpse(df)"
   ]
  },
  {
   "cell_type": "code",
   "execution_count": 166,
   "metadata": {},
   "outputs": [],
   "source": [
    "# drop the territories\n",
    "\n",
    "df <- df %>%\n",
    "  filter(!Province %in% c(\"NT\", \"NU\", \"YT\")) %>%\n",
    "  filter(ShelterType == \"Transitional\") %>%\n",
    "  filter(Gender == \"Female\")"
   ]
  },
  {
   "cell_type": "code",
   "execution_count": 167,
   "metadata": {},
   "outputs": [
    {
     "data": {
      "text/html": [
       "<ol class=list-inline>\n",
       "\t<li>'AB'</li>\n",
       "\t<li>'BC'</li>\n",
       "\t<li>'MB'</li>\n",
       "\t<li>'NB'</li>\n",
       "\t<li>'NL'</li>\n",
       "\t<li>'NS'</li>\n",
       "\t<li>'ON'</li>\n",
       "\t<li>'QC'</li>\n",
       "\t<li>'SK'</li>\n",
       "</ol>\n"
      ],
      "text/latex": [
       "\\begin{enumerate*}\n",
       "\\item 'AB'\n",
       "\\item 'BC'\n",
       "\\item 'MB'\n",
       "\\item 'NB'\n",
       "\\item 'NL'\n",
       "\\item 'NS'\n",
       "\\item 'ON'\n",
       "\\item 'QC'\n",
       "\\item 'SK'\n",
       "\\end{enumerate*}\n"
      ],
      "text/markdown": [
       "1. 'AB'\n",
       "2. 'BC'\n",
       "3. 'MB'\n",
       "4. 'NB'\n",
       "5. 'NL'\n",
       "6. 'NS'\n",
       "7. 'ON'\n",
       "8. 'QC'\n",
       "9. 'SK'\n",
       "\n",
       "\n"
      ],
      "text/plain": [
       "[1] \"AB\" \"BC\" \"MB\" \"NB\" \"NL\" \"NS\" \"ON\" \"QC\" \"SK\""
      ]
     },
     "metadata": {},
     "output_type": "display_data"
    }
   ],
   "source": [
    "unique(df$Province)"
   ]
  },
  {
   "cell_type": "code",
   "execution_count": 168,
   "metadata": {},
   "outputs": [],
   "source": [
    "# Always rename the columns to remove spaces and special characters if you haven't already from read_csv_chunked\n",
    "# This avoids any potential problems R may encounter with different packages if not taken care of properly right away\n",
    "\n",
    "# colnames(df) <- c(\" \", \" \")"
   ]
  },
  {
   "cell_type": "code",
   "execution_count": 169,
   "metadata": {},
   "outputs": [],
   "source": [
    "# Always set the variable types next for each column and drop any unnecessary columns\n",
    "# if you haven't already from read_csv_chunked, or need to change characters to factors\n",
    "# use as.numeric() and as.factor() where appropriate\n",
    "# df$column_name <- NULL will delete that column from the dataframe\n",
    "\n",
    "df$ShelterType <- as.factor(df$ShelterType)\n",
    "df$Province <- as.factor(df$Province)\n",
    "df$City <- as.factor(df$City)\n",
    "df$TargetPopulation <- as.factor(df$TargetPopulation)\n",
    "df$Gender <- as.factor(df$Gender)"
   ]
  },
  {
   "cell_type": "code",
   "execution_count": 170,
   "metadata": {},
   "outputs": [
    {
     "name": "stdout",
     "output_type": "stream",
     "text": [
      "Observations: 52\n",
      "Variables: 7\n",
      "$ ShelterType      <fctr> Transitional, Transitional, Transitional, Transit...\n",
      "$ Province         <fctr> AB, AB, AB, AB, AB, AB, AB, AB, BC, BC, BC, BC, M...\n",
      "$ City             <fctr> Calgary, Calgary, Calgary, Edmonton, Edmonton, Ed...\n",
      "$ TargetPopulation <fctr> General, General, Youth, General, General, Youth,...\n",
      "$ Gender           <fctr> Female, Female, Female, Female, Female, Female, F...\n",
      "$ ShelterName      <chr> \"Youville Residence Society of Alberta\", \"YWCA - M...\n",
      "$ Beds             <dbl> 37, 94, 6, 8, 24, 10, 15, 4, 14, 16, 10, 10, 5, 8,...\n"
     ]
    },
    {
     "data": {
      "text/html": [
       "<table>\n",
       "<thead><tr><th scope=col>ShelterType</th><th scope=col>Province</th><th scope=col>City</th><th scope=col>TargetPopulation</th><th scope=col>Gender</th><th scope=col>ShelterName</th><th scope=col>Beds</th></tr></thead>\n",
       "<tbody>\n",
       "\t<tr><td>Transitional                                                   </td><td>AB                                                             </td><td>Calgary                                                        </td><td>General                                                        </td><td>Female                                                         </td><td>Youville Residence Society of Alberta                          </td><td>37                                                             </td></tr>\n",
       "\t<tr><td>Transitional                                                   </td><td>AB                                                             </td><td>Calgary                                                        </td><td>General                                                        </td><td>Female                                                         </td><td>YWCA - Mary Dover House                                        </td><td>94                                                             </td></tr>\n",
       "\t<tr><td>Transitional                                                   </td><td>AB                                                             </td><td>Calgary                                                        </td><td>Youth                                                          </td><td>Female                                                         </td><td>Boys and Girls Club - Haven's Way                              </td><td> 6                                                             </td></tr>\n",
       "\t<tr><td>Transitional                                                   </td><td>AB                                                             </td><td>Edmonton                                                       </td><td>General                                                        </td><td>Female                                                         </td><td>E4C Crossroads Downtown                                        </td><td> 8                                                             </td></tr>\n",
       "\t<tr><td>Transitional                                                   </td><td>AB                                                             </td><td>Edmonton                                                       </td><td>General                                                        </td><td>Female                                                         </td><td>E4C Elizabeth House                                            </td><td>24                                                             </td></tr>\n",
       "\t<tr><td>Transitional                                                   </td><td>AB                                                             </td><td>Edmonton                                                       </td><td>Youth                                                          </td><td>Female                                                         </td><td>E4C Crossroads House                                           </td><td>10                                                             </td></tr>\n",
       "\t<tr><td>Transitional                                                   </td><td>AB                                                             </td><td>Lethbridge                                                     </td><td>General                                                        </td><td>Female                                                         </td><td>Native Women's Transition Home                                 </td><td>15                                                             </td></tr>\n",
       "\t<tr><td>Transitional                                                   </td><td>AB                                                             </td><td>Wood Buffalo                                                   </td><td>General                                                        </td><td>Female                                                         </td><td>Cecile's Place                                                 </td><td> 4                                                             </td></tr>\n",
       "\t<tr><td>Transitional                                                   </td><td>BC                                                             </td><td>Surrey                                                         </td><td>General                                                        </td><td>Female                                                         </td><td>Cynthia's Place Transitional                                   </td><td>14                                                             </td></tr>\n",
       "\t<tr><td>Transitional                                                   </td><td>BC                                                             </td><td>Vancouver                                                      </td><td>General                                                        </td><td>Female                                                         </td><td>Aboriginal Mother Centre Society - Transitional                </td><td>16                                                             </td></tr>\n",
       "\t<tr><td>Transitional                                                   </td><td>BC                                                             </td><td>Vancouver                                                      </td><td>General                                                        </td><td>Female                                                         </td><td>Anderson Lodge Women Healing Centre                            </td><td>10                                                             </td></tr>\n",
       "\t<tr><td>Transitional                                                   </td><td>BC                                                             </td><td>Vancouver                                                      </td><td>General                                                        </td><td>Female                                                         </td><td>St. Elizabeth's Home Transitional Housing                      </td><td>10                                                             </td></tr>\n",
       "\t<tr><td>Transitional                                                   </td><td>MB                                                             </td><td>Brandon                                                        </td><td>Youth                                                          </td><td>Female                                                         </td><td>Uturn 2                                                        </td><td> 5                                                             </td></tr>\n",
       "\t<tr><td>Transitional                                                   </td><td>NB                                                             </td><td>Fredericton                                                    </td><td>Youth                                                          </td><td>Female                                                         </td><td>Chrysalis House-Youth In Transition                            </td><td> 8                                                             </td></tr>\n",
       "\t<tr><td>Transitional                                                   </td><td>NB                                                             </td><td>Saint John                                                     </td><td>General                                                        </td><td>Female                                                         </td><td>First Steps Housing Project                                    </td><td>12                                                             </td></tr>\n",
       "\t<tr><td>Transitional                                                   </td><td>NL                                                             </td><td>Corner Brook                                                   </td><td>General                                                        </td><td>Female                                                         </td><td>Corner Brook Status of Women Council                           </td><td> 4                                                             </td></tr>\n",
       "\t<tr><td>Transitional                                                   </td><td>NL                                                             </td><td>Happy Valley-Goose Bay                                         </td><td>General                                                        </td><td>Female                                                         </td><td>Mokami Status of Women Council                                 </td><td> 8                                                             </td></tr>\n",
       "\t<tr><td>Transitional                                                   </td><td>NS                                                             </td><td>Dartmouth                                                      </td><td>General                                                        </td><td>Female                                                         </td><td>Shym 2                                                         </td><td>16                                                             </td></tr>\n",
       "\t<tr><td>Transitional                                                   </td><td>NS                                                             </td><td>Halifax                                                        </td><td>General                                                        </td><td>Female                                                         </td><td>The Alders                                                     </td><td>10                                                             </td></tr>\n",
       "\t<tr><td>Transitional                                                   </td><td>NS                                                             </td><td>Halifax                                                        </td><td>General                                                        </td><td>Female                                                         </td><td>Wish Second Stage                                              </td><td>16                                                             </td></tr>\n",
       "\t<tr><td>Transitional                                                   </td><td>ON                                                             </td><td>Barrie                                                         </td><td>General                                                        </td><td>Female                                                         </td><td>Joyce Kope House                                               </td><td>27                                                             </td></tr>\n",
       "\t<tr><td>Transitional                                                   </td><td>ON                                                             </td><td>Blind River                                                    </td><td>General                                                        </td><td>Female                                                         </td><td>Mississauga Women's Shelter                                    </td><td>10                                                             </td></tr>\n",
       "\t<tr><td>Transitional                                                   </td><td>ON                                                             </td><td>Guelph                                                         </td><td>Youth                                                          </td><td>Female                                                         </td><td>Wyndham House for Young Women                                  </td><td> 8                                                             </td></tr>\n",
       "\t<tr><td>Transitional                                                   </td><td>ON                                                             </td><td>Newmarket                                                      </td><td>General                                                        </td><td>Female                                                         </td><td>Belinda's Place - Transition                                   </td><td> 9                                                             </td></tr>\n",
       "\t<tr><td>Transitional                                                   </td><td>ON                                                             </td><td>Ottawa                                                         </td><td>Youth                                                          </td><td>Female                                                         </td><td>Evelyn Horne Transitional Housing                              </td><td>12                                                             </td></tr>\n",
       "\t<tr><td>Transitional                                                   </td><td>ON                                                             </td><td>Ottawa                                                         </td><td>Youth                                                          </td><td>Female                                                         </td><td>Tewegan Transition House                                       </td><td>12                                                             </td></tr>\n",
       "\t<tr><td>Transitional                                                   </td><td>ON                                                             </td><td>St. Thomas                                                     </td><td>Youth                                                          </td><td>Female                                                         </td><td>YWCA - Harmony House                                           </td><td> 3                                                             </td></tr>\n",
       "\t<tr><td>Transitional                                                   </td><td>ON                                                             </td><td>Toronto                                                        </td><td>General                                                        </td><td>Female                                                         </td><td>Amelie House                                                   </td><td>20                                                             </td></tr>\n",
       "\t<tr><td>Transitional                                                   </td><td>ON                                                             </td><td>Toronto                                                        </td><td>General                                                        </td><td>Female                                                         </td><td>St. Clare's Residence                                          </td><td>28                                                             </td></tr>\n",
       "\t<tr><td>Transitional                                                                                                 </td><td>QC                                                                                                           </td><td><span style=white-space:pre-wrap>Longueuil               </span>                                             </td><td>General                                                                                                      </td><td>Female                                                                                                       </td><td><span style=white-space:pre-wrap>La Chaumi&lt;e8&gt;re                                                </span></td><td>20                                                                                                           </td></tr>\n",
       "\t<tr><td>Transitional                                                   </td><td>QC                                                             </td><td>Montreal                                                       </td><td>General                                                        </td><td>Female                                                         </td><td>Appartements Rosemont                                          </td><td>21                                                             </td></tr>\n",
       "\t<tr><td>Transitional                                                                                                 </td><td>QC                                                                                                           </td><td><span style=white-space:pre-wrap>Montreal                </span>                                             </td><td>General                                                                                                      </td><td>Female                                                                                                       </td><td><span style=white-space:pre-wrap>La Maison Marguerite de Montr&lt;e9&gt;al - Transitional             </span></td><td>18                                                                                                           </td></tr>\n",
       "\t<tr><td>Transitional                                                   </td><td>QC                                                             </td><td>Montreal                                                       </td><td>General                                                        </td><td>Female                                                         </td><td>Les Maisons de l'Ancre                                         </td><td>11                                                             </td></tr>\n",
       "\t<tr><td>Transitional                                                   </td><td>QC                                                             </td><td>Montreal                                                       </td><td>General                                                        </td><td>Female                                                         </td><td>L'Habitation Pelletier                                         </td><td>26                                                             </td></tr>\n",
       "\t<tr><td>Transitional                                                   </td><td>QC                                                             </td><td>Montreal                                                       </td><td>General                                                        </td><td>Female                                                         </td><td>Maison Olga - Transitional                                     </td><td>20                                                             </td></tr>\n",
       "\t<tr><td>Transitional                                                   </td><td>QC                                                             </td><td>Montreal                                                       </td><td>General                                                        </td><td>Female                                                         </td><td>Y des femmes                                                   </td><td>34                                                             </td></tr>\n",
       "\t<tr><td>Transitional                                                         </td><td>QC                                                                   </td><td><span style=white-space:pre-wrap>Montreal                </span>     </td><td>General                                                              </td><td>Female                                                               </td><td>L'Abri d'espoir de l'Arm&lt;e9&gt;e du Salut - Logement de transition</td><td>12                                                                   </td></tr>\n",
       "\t<tr><td>Transitional                                                                                                 </td><td>QC                                                                                                           </td><td><span style=white-space:pre-wrap>Montreal                </span>                                             </td><td><span style=white-space:pre-wrap>Youth  </span>                                                              </td><td>Female                                                                                                       </td><td><span style=white-space:pre-wrap>L'Arr&lt;ea&gt;t-source                                              </span></td><td>19                                                                                                           </td></tr>\n",
       "\t<tr><td>Transitional                                                                                                 </td><td>QC                                                                                                           </td><td><span style=white-space:pre-wrap>Quebec City             </span>                                             </td><td>General                                                                                                      </td><td>Female                                                                                                       </td><td><span style=white-space:pre-wrap>Maison Charlotte de l'Arm&lt;e9&gt;e du Salut                        </span></td><td>18                                                                                                           </td></tr>\n",
       "\t<tr><td>Transitional                                                                                                 </td><td>QC                                                                                                           </td><td><span style=white-space:pre-wrap>Quebec City             </span>                                             </td><td>General                                                                                                      </td><td>Female                                                                                                       </td><td><span style=white-space:pre-wrap>YWCA de Qu&lt;e9&gt;bec                                              </span></td><td> 5                                                                                                           </td></tr>\n",
       "\t<tr><td>Transitional                                                   </td><td>QC                                                             </td><td>Rouyn-Noranda                                                  </td><td>Youth                                                          </td><td>Female                                                         </td><td>Les Marginales                                                 </td><td> 8                                                             </td></tr>\n",
       "\t<tr><td>Transitional                                                                                                 </td><td>QC                                                                                                           </td><td><span style=white-space:pre-wrap>Saguenay                </span>                                             </td><td>General                                                                                                      </td><td>Female                                                                                                       </td><td><span style=white-space:pre-wrap>Le S&lt;e9&gt;jour Marie-Fitzbach                                    </span></td><td>10                                                                                                           </td></tr>\n",
       "\t<tr><td>Transitional                                                                                                 </td><td>QC                                                                                                           </td><td><span style=white-space:pre-wrap>Saguenay                </span>                                             </td><td><span style=white-space:pre-wrap>Youth  </span>                                                              </td><td>Female                                                                                                       </td><td><span style=white-space:pre-wrap>Maison d'h&lt;e9&gt;bergement SOS jeunesse                           </span></td><td> 9                                                                                                           </td></tr>\n",
       "\t<tr><td>Transitional                                                                                                 </td><td>QC                                                                                                           </td><td>St-Augustin-de-Desmaures                                                                                     </td><td>General                                                                                                      </td><td>Female                                                                                                       </td><td><span style=white-space:pre-wrap>La R&lt;e9&gt;sidence Le Portail                                     </span></td><td>15                                                                                                           </td></tr>\n",
       "\t<tr><td>Transitional                                                   </td><td>SK                                                             </td><td>Regina                                                         </td><td>General                                                        </td><td>Female                                                         </td><td>Ehrlo Community Services                                       </td><td>12                                                             </td></tr>\n",
       "\t<tr><td>Transitional                                                   </td><td>SK                                                             </td><td>Regina                                                         </td><td>General                                                        </td><td>Female                                                         </td><td>SHRM Shayil Home (Life Change Program)                         </td><td> 9                                                             </td></tr>\n",
       "\t<tr><td>Transitional                                                   </td><td>SK                                                             </td><td>Regina                                                         </td><td>Youth                                                          </td><td>Female                                                         </td><td>D.O.C.S. Place                                                 </td><td> 6                                                             </td></tr>\n",
       "\t<tr><td>Transitional                                                   </td><td>SK                                                             </td><td>Regina                                                         </td><td>Youth                                                          </td><td>Female                                                         </td><td>The Salvation Army Gemma House                                 </td><td> 4                                                             </td></tr>\n",
       "\t<tr><td>Transitional                                                   </td><td>SK                                                             </td><td>Regina                                                         </td><td>Youth                                                          </td><td>Female                                                         </td><td>W.E.N.D.Y's House                                              </td><td> 6                                                             </td></tr>\n",
       "\t<tr><td>Transitional                                                   </td><td>SK                                                             </td><td>Saskatoon                                                      </td><td>General                                                        </td><td>Female                                                         </td><td>YWCA Saskatoon Turning Points                                  </td><td>15                                                             </td></tr>\n",
       "\t<tr><td>Transitional                                                   </td><td>SK                                                             </td><td>Saskatoon                                                      </td><td>Youth                                                          </td><td>Female                                                         </td><td>Bethany Home                                                   </td><td>10                                                             </td></tr>\n",
       "\t<tr><td>Transitional                                                   </td><td>SK                                                             </td><td>Saskatoon                                                      </td><td>Youth                                                          </td><td>Female                                                         </td><td>YWCA Saskatoon Margaret's Place                                </td><td> 4                                                             </td></tr>\n",
       "</tbody>\n",
       "</table>\n"
      ],
      "text/latex": [
       "\\begin{tabular}{r|lllllll}\n",
       " ShelterType & Province & City & TargetPopulation & Gender & ShelterName & Beds\\\\\n",
       "\\hline\n",
       "\t Transitional                                                    & AB                                                              & Calgary                                                         & General                                                         & Female                                                          & Youville Residence Society of Alberta                           & 37                                                             \\\\\n",
       "\t Transitional                                                    & AB                                                              & Calgary                                                         & General                                                         & Female                                                          & YWCA - Mary Dover House                                         & 94                                                             \\\\\n",
       "\t Transitional                                                    & AB                                                              & Calgary                                                         & Youth                                                           & Female                                                          & Boys and Girls Club - Haven's Way                               &  6                                                             \\\\\n",
       "\t Transitional                                                    & AB                                                              & Edmonton                                                        & General                                                         & Female                                                          & E4C Crossroads Downtown                                         &  8                                                             \\\\\n",
       "\t Transitional                                                    & AB                                                              & Edmonton                                                        & General                                                         & Female                                                          & E4C Elizabeth House                                             & 24                                                             \\\\\n",
       "\t Transitional                                                    & AB                                                              & Edmonton                                                        & Youth                                                           & Female                                                          & E4C Crossroads House                                            & 10                                                             \\\\\n",
       "\t Transitional                                                    & AB                                                              & Lethbridge                                                      & General                                                         & Female                                                          & Native Women's Transition Home                                  & 15                                                             \\\\\n",
       "\t Transitional                                                    & AB                                                              & Wood Buffalo                                                    & General                                                         & Female                                                          & Cecile's Place                                                  &  4                                                             \\\\\n",
       "\t Transitional                                                    & BC                                                              & Surrey                                                          & General                                                         & Female                                                          & Cynthia's Place Transitional                                    & 14                                                             \\\\\n",
       "\t Transitional                                                    & BC                                                              & Vancouver                                                       & General                                                         & Female                                                          & Aboriginal Mother Centre Society - Transitional                 & 16                                                             \\\\\n",
       "\t Transitional                                                    & BC                                                              & Vancouver                                                       & General                                                         & Female                                                          & Anderson Lodge Women Healing Centre                             & 10                                                             \\\\\n",
       "\t Transitional                                                    & BC                                                              & Vancouver                                                       & General                                                         & Female                                                          & St. Elizabeth's Home Transitional Housing                       & 10                                                             \\\\\n",
       "\t Transitional                                                    & MB                                                              & Brandon                                                         & Youth                                                           & Female                                                          & Uturn 2                                                         &  5                                                             \\\\\n",
       "\t Transitional                                                    & NB                                                              & Fredericton                                                     & Youth                                                           & Female                                                          & Chrysalis House-Youth In Transition                             &  8                                                             \\\\\n",
       "\t Transitional                                                    & NB                                                              & Saint John                                                      & General                                                         & Female                                                          & First Steps Housing Project                                     & 12                                                             \\\\\n",
       "\t Transitional                                                    & NL                                                              & Corner Brook                                                    & General                                                         & Female                                                          & Corner Brook Status of Women Council                            &  4                                                             \\\\\n",
       "\t Transitional                                                    & NL                                                              & Happy Valley-Goose Bay                                          & General                                                         & Female                                                          & Mokami Status of Women Council                                  &  8                                                             \\\\\n",
       "\t Transitional                                                    & NS                                                              & Dartmouth                                                       & General                                                         & Female                                                          & Shym 2                                                          & 16                                                             \\\\\n",
       "\t Transitional                                                    & NS                                                              & Halifax                                                         & General                                                         & Female                                                          & The Alders                                                      & 10                                                             \\\\\n",
       "\t Transitional                                                    & NS                                                              & Halifax                                                         & General                                                         & Female                                                          & Wish Second Stage                                               & 16                                                             \\\\\n",
       "\t Transitional                                                    & ON                                                              & Barrie                                                          & General                                                         & Female                                                          & Joyce Kope House                                                & 27                                                             \\\\\n",
       "\t Transitional                                                    & ON                                                              & Blind River                                                     & General                                                         & Female                                                          & Mississauga Women's Shelter                                     & 10                                                             \\\\\n",
       "\t Transitional                                                    & ON                                                              & Guelph                                                          & Youth                                                           & Female                                                          & Wyndham House for Young Women                                   &  8                                                             \\\\\n",
       "\t Transitional                                                    & ON                                                              & Newmarket                                                       & General                                                         & Female                                                          & Belinda's Place - Transition                                    &  9                                                             \\\\\n",
       "\t Transitional                                                    & ON                                                              & Ottawa                                                          & Youth                                                           & Female                                                          & Evelyn Horne Transitional Housing                               & 12                                                             \\\\\n",
       "\t Transitional                                                    & ON                                                              & Ottawa                                                          & Youth                                                           & Female                                                          & Tewegan Transition House                                        & 12                                                             \\\\\n",
       "\t Transitional                                                    & ON                                                              & St. Thomas                                                      & Youth                                                           & Female                                                          & YWCA - Harmony House                                            &  3                                                             \\\\\n",
       "\t Transitional                                                    & ON                                                              & Toronto                                                         & General                                                         & Female                                                          & Amelie House                                                    & 20                                                             \\\\\n",
       "\t Transitional                                                    & ON                                                              & Toronto                                                         & General                                                         & Female                                                          & St. Clare's Residence                                           & 28                                                             \\\\\n",
       "\t Transitional                                                    & QC                                                              & Longueuil                                                       & General                                                         & Female                                                          & La Chaumi<e8>re                                                 & 20                                                             \\\\\n",
       "\t Transitional                                                    & QC                                                              & Montreal                                                        & General                                                         & Female                                                          & Appartements Rosemont                                           & 21                                                             \\\\\n",
       "\t Transitional                                                    & QC                                                              & Montreal                                                        & General                                                         & Female                                                          & La Maison Marguerite de Montr<e9>al - Transitional              & 18                                                             \\\\\n",
       "\t Transitional                                                    & QC                                                              & Montreal                                                        & General                                                         & Female                                                          & Les Maisons de l'Ancre                                          & 11                                                             \\\\\n",
       "\t Transitional                                                    & QC                                                              & Montreal                                                        & General                                                         & Female                                                          & L'Habitation Pelletier                                          & 26                                                             \\\\\n",
       "\t Transitional                                                    & QC                                                              & Montreal                                                        & General                                                         & Female                                                          & Maison Olga - Transitional                                      & 20                                                             \\\\\n",
       "\t Transitional                                                    & QC                                                              & Montreal                                                        & General                                                         & Female                                                          & Y des femmes                                                    & 34                                                             \\\\\n",
       "\t Transitional                                                    & QC                                                              & Montreal                                                        & General                                                         & Female                                                          & L'Abri d'espoir de l'Arm<e9>e du Salut - Logement de transition & 12                                                             \\\\\n",
       "\t Transitional                                                    & QC                                                              & Montreal                                                        & Youth                                                           & Female                                                          & L'Arr<ea>t-source                                               & 19                                                             \\\\\n",
       "\t Transitional                                                    & QC                                                              & Quebec City                                                     & General                                                         & Female                                                          & Maison Charlotte de l'Arm<e9>e du Salut                         & 18                                                             \\\\\n",
       "\t Transitional                                                    & QC                                                              & Quebec City                                                     & General                                                         & Female                                                          & YWCA de Qu<e9>bec                                               &  5                                                             \\\\\n",
       "\t Transitional                                                    & QC                                                              & Rouyn-Noranda                                                   & Youth                                                           & Female                                                          & Les Marginales                                                  &  8                                                             \\\\\n",
       "\t Transitional                                                    & QC                                                              & Saguenay                                                        & General                                                         & Female                                                          & Le S<e9>jour Marie-Fitzbach                                     & 10                                                             \\\\\n",
       "\t Transitional                                                    & QC                                                              & Saguenay                                                        & Youth                                                           & Female                                                          & Maison d'h<e9>bergement SOS jeunesse                            &  9                                                             \\\\\n",
       "\t Transitional                                                    & QC                                                              & St-Augustin-de-Desmaures                                        & General                                                         & Female                                                          & La R<e9>sidence Le Portail                                      & 15                                                             \\\\\n",
       "\t Transitional                                                    & SK                                                              & Regina                                                          & General                                                         & Female                                                          & Ehrlo Community Services                                        & 12                                                             \\\\\n",
       "\t Transitional                                                    & SK                                                              & Regina                                                          & General                                                         & Female                                                          & SHRM Shayil Home (Life Change Program)                          &  9                                                             \\\\\n",
       "\t Transitional                                                    & SK                                                              & Regina                                                          & Youth                                                           & Female                                                          & D.O.C.S. Place                                                  &  6                                                             \\\\\n",
       "\t Transitional                                                    & SK                                                              & Regina                                                          & Youth                                                           & Female                                                          & The Salvation Army Gemma House                                  &  4                                                             \\\\\n",
       "\t Transitional                                                    & SK                                                              & Regina                                                          & Youth                                                           & Female                                                          & W.E.N.D.Y's House                                               &  6                                                             \\\\\n",
       "\t Transitional                                                    & SK                                                              & Saskatoon                                                       & General                                                         & Female                                                          & YWCA Saskatoon Turning Points                                   & 15                                                             \\\\\n",
       "\t Transitional                                                    & SK                                                              & Saskatoon                                                       & Youth                                                           & Female                                                          & Bethany Home                                                    & 10                                                             \\\\\n",
       "\t Transitional                                                    & SK                                                              & Saskatoon                                                       & Youth                                                           & Female                                                          & YWCA Saskatoon Margaret's Place                                 &  4                                                             \\\\\n",
       "\\end{tabular}\n"
      ],
      "text/markdown": [
       "\n",
       "ShelterType | Province | City | TargetPopulation | Gender | ShelterName | Beds | \n",
       "|---|---|---|---|---|---|---|---|---|---|---|---|---|---|---|---|---|---|---|---|---|---|---|---|---|---|---|---|---|---|---|---|---|---|---|---|---|---|---|---|---|---|---|---|---|---|---|---|---|---|---|---|\n",
       "| Transitional                                                    | AB                                                              | Calgary                                                         | General                                                         | Female                                                          | Youville Residence Society of Alberta                           | 37                                                              | \n",
       "| Transitional                                                    | AB                                                              | Calgary                                                         | General                                                         | Female                                                          | YWCA - Mary Dover House                                         | 94                                                              | \n",
       "| Transitional                                                    | AB                                                              | Calgary                                                         | Youth                                                           | Female                                                          | Boys and Girls Club - Haven's Way                               |  6                                                              | \n",
       "| Transitional                                                    | AB                                                              | Edmonton                                                        | General                                                         | Female                                                          | E4C Crossroads Downtown                                         |  8                                                              | \n",
       "| Transitional                                                    | AB                                                              | Edmonton                                                        | General                                                         | Female                                                          | E4C Elizabeth House                                             | 24                                                              | \n",
       "| Transitional                                                    | AB                                                              | Edmonton                                                        | Youth                                                           | Female                                                          | E4C Crossroads House                                            | 10                                                              | \n",
       "| Transitional                                                    | AB                                                              | Lethbridge                                                      | General                                                         | Female                                                          | Native Women's Transition Home                                  | 15                                                              | \n",
       "| Transitional                                                    | AB                                                              | Wood Buffalo                                                    | General                                                         | Female                                                          | Cecile's Place                                                  |  4                                                              | \n",
       "| Transitional                                                    | BC                                                              | Surrey                                                          | General                                                         | Female                                                          | Cynthia's Place Transitional                                    | 14                                                              | \n",
       "| Transitional                                                    | BC                                                              | Vancouver                                                       | General                                                         | Female                                                          | Aboriginal Mother Centre Society - Transitional                 | 16                                                              | \n",
       "| Transitional                                                    | BC                                                              | Vancouver                                                       | General                                                         | Female                                                          | Anderson Lodge Women Healing Centre                             | 10                                                              | \n",
       "| Transitional                                                    | BC                                                              | Vancouver                                                       | General                                                         | Female                                                          | St. Elizabeth's Home Transitional Housing                       | 10                                                              | \n",
       "| Transitional                                                    | MB                                                              | Brandon                                                         | Youth                                                           | Female                                                          | Uturn 2                                                         |  5                                                              | \n",
       "| Transitional                                                    | NB                                                              | Fredericton                                                     | Youth                                                           | Female                                                          | Chrysalis House-Youth In Transition                             |  8                                                              | \n",
       "| Transitional                                                    | NB                                                              | Saint John                                                      | General                                                         | Female                                                          | First Steps Housing Project                                     | 12                                                              | \n",
       "| Transitional                                                    | NL                                                              | Corner Brook                                                    | General                                                         | Female                                                          | Corner Brook Status of Women Council                            |  4                                                              | \n",
       "| Transitional                                                    | NL                                                              | Happy Valley-Goose Bay                                          | General                                                         | Female                                                          | Mokami Status of Women Council                                  |  8                                                              | \n",
       "| Transitional                                                    | NS                                                              | Dartmouth                                                       | General                                                         | Female                                                          | Shym 2                                                          | 16                                                              | \n",
       "| Transitional                                                    | NS                                                              | Halifax                                                         | General                                                         | Female                                                          | The Alders                                                      | 10                                                              | \n",
       "| Transitional                                                    | NS                                                              | Halifax                                                         | General                                                         | Female                                                          | Wish Second Stage                                               | 16                                                              | \n",
       "| Transitional                                                    | ON                                                              | Barrie                                                          | General                                                         | Female                                                          | Joyce Kope House                                                | 27                                                              | \n",
       "| Transitional                                                    | ON                                                              | Blind River                                                     | General                                                         | Female                                                          | Mississauga Women's Shelter                                     | 10                                                              | \n",
       "| Transitional                                                    | ON                                                              | Guelph                                                          | Youth                                                           | Female                                                          | Wyndham House for Young Women                                   |  8                                                              | \n",
       "| Transitional                                                    | ON                                                              | Newmarket                                                       | General                                                         | Female                                                          | Belinda's Place - Transition                                    |  9                                                              | \n",
       "| Transitional                                                    | ON                                                              | Ottawa                                                          | Youth                                                           | Female                                                          | Evelyn Horne Transitional Housing                               | 12                                                              | \n",
       "| Transitional                                                    | ON                                                              | Ottawa                                                          | Youth                                                           | Female                                                          | Tewegan Transition House                                        | 12                                                              | \n",
       "| Transitional                                                    | ON                                                              | St. Thomas                                                      | Youth                                                           | Female                                                          | YWCA - Harmony House                                            |  3                                                              | \n",
       "| Transitional                                                    | ON                                                              | Toronto                                                         | General                                                         | Female                                                          | Amelie House                                                    | 20                                                              | \n",
       "| Transitional                                                    | ON                                                              | Toronto                                                         | General                                                         | Female                                                          | St. Clare's Residence                                           | 28                                                              | \n",
       "| Transitional                                                    | QC                                                              | Longueuil                                                       | General                                                         | Female                                                          | La Chaumi<e8>re                                                 | 20                                                              | \n",
       "| Transitional                                                    | QC                                                              | Montreal                                                        | General                                                         | Female                                                          | Appartements Rosemont                                           | 21                                                              | \n",
       "| Transitional                                                    | QC                                                              | Montreal                                                        | General                                                         | Female                                                          | La Maison Marguerite de Montr<e9>al - Transitional              | 18                                                              | \n",
       "| Transitional                                                    | QC                                                              | Montreal                                                        | General                                                         | Female                                                          | Les Maisons de l'Ancre                                          | 11                                                              | \n",
       "| Transitional                                                    | QC                                                              | Montreal                                                        | General                                                         | Female                                                          | L'Habitation Pelletier                                          | 26                                                              | \n",
       "| Transitional                                                    | QC                                                              | Montreal                                                        | General                                                         | Female                                                          | Maison Olga - Transitional                                      | 20                                                              | \n",
       "| Transitional                                                    | QC                                                              | Montreal                                                        | General                                                         | Female                                                          | Y des femmes                                                    | 34                                                              | \n",
       "| Transitional                                                    | QC                                                              | Montreal                                                        | General                                                         | Female                                                          | L'Abri d'espoir de l'Arm<e9>e du Salut - Logement de transition | 12                                                              | \n",
       "| Transitional                                                    | QC                                                              | Montreal                                                        | Youth                                                           | Female                                                          | L'Arr<ea>t-source                                               | 19                                                              | \n",
       "| Transitional                                                    | QC                                                              | Quebec City                                                     | General                                                         | Female                                                          | Maison Charlotte de l'Arm<e9>e du Salut                         | 18                                                              | \n",
       "| Transitional                                                    | QC                                                              | Quebec City                                                     | General                                                         | Female                                                          | YWCA de Qu<e9>bec                                               |  5                                                              | \n",
       "| Transitional                                                    | QC                                                              | Rouyn-Noranda                                                   | Youth                                                           | Female                                                          | Les Marginales                                                  |  8                                                              | \n",
       "| Transitional                                                    | QC                                                              | Saguenay                                                        | General                                                         | Female                                                          | Le S<e9>jour Marie-Fitzbach                                     | 10                                                              | \n",
       "| Transitional                                                    | QC                                                              | Saguenay                                                        | Youth                                                           | Female                                                          | Maison d'h<e9>bergement SOS jeunesse                            |  9                                                              | \n",
       "| Transitional                                                    | QC                                                              | St-Augustin-de-Desmaures                                        | General                                                         | Female                                                          | La R<e9>sidence Le Portail                                      | 15                                                              | \n",
       "| Transitional                                                    | SK                                                              | Regina                                                          | General                                                         | Female                                                          | Ehrlo Community Services                                        | 12                                                              | \n",
       "| Transitional                                                    | SK                                                              | Regina                                                          | General                                                         | Female                                                          | SHRM Shayil Home (Life Change Program)                          |  9                                                              | \n",
       "| Transitional                                                    | SK                                                              | Regina                                                          | Youth                                                           | Female                                                          | D.O.C.S. Place                                                  |  6                                                              | \n",
       "| Transitional                                                    | SK                                                              | Regina                                                          | Youth                                                           | Female                                                          | The Salvation Army Gemma House                                  |  4                                                              | \n",
       "| Transitional                                                    | SK                                                              | Regina                                                          | Youth                                                           | Female                                                          | W.E.N.D.Y's House                                               |  6                                                              | \n",
       "| Transitional                                                    | SK                                                              | Saskatoon                                                       | General                                                         | Female                                                          | YWCA Saskatoon Turning Points                                   | 15                                                              | \n",
       "| Transitional                                                    | SK                                                              | Saskatoon                                                       | Youth                                                           | Female                                                          | Bethany Home                                                    | 10                                                              | \n",
       "| Transitional                                                    | SK                                                              | Saskatoon                                                       | Youth                                                           | Female                                                          | YWCA Saskatoon Margaret's Place                                 |  4                                                              | \n",
       "\n",
       "\n"
      ],
      "text/plain": [
       "   ShelterType  Province City                     TargetPopulation Gender\n",
       "1  Transitional AB       Calgary                  General          Female\n",
       "2  Transitional AB       Calgary                  General          Female\n",
       "3  Transitional AB       Calgary                  Youth            Female\n",
       "4  Transitional AB       Edmonton                 General          Female\n",
       "5  Transitional AB       Edmonton                 General          Female\n",
       "6  Transitional AB       Edmonton                 Youth            Female\n",
       "7  Transitional AB       Lethbridge               General          Female\n",
       "8  Transitional AB       Wood Buffalo             General          Female\n",
       "9  Transitional BC       Surrey                   General          Female\n",
       "10 Transitional BC       Vancouver                General          Female\n",
       "11 Transitional BC       Vancouver                General          Female\n",
       "12 Transitional BC       Vancouver                General          Female\n",
       "13 Transitional MB       Brandon                  Youth            Female\n",
       "14 Transitional NB       Fredericton              Youth            Female\n",
       "15 Transitional NB       Saint John               General          Female\n",
       "16 Transitional NL       Corner Brook             General          Female\n",
       "17 Transitional NL       Happy Valley-Goose Bay   General          Female\n",
       "18 Transitional NS       Dartmouth                General          Female\n",
       "19 Transitional NS       Halifax                  General          Female\n",
       "20 Transitional NS       Halifax                  General          Female\n",
       "21 Transitional ON       Barrie                   General          Female\n",
       "22 Transitional ON       Blind River              General          Female\n",
       "23 Transitional ON       Guelph                   Youth            Female\n",
       "24 Transitional ON       Newmarket                General          Female\n",
       "25 Transitional ON       Ottawa                   Youth            Female\n",
       "26 Transitional ON       Ottawa                   Youth            Female\n",
       "27 Transitional ON       St. Thomas               Youth            Female\n",
       "28 Transitional ON       Toronto                  General          Female\n",
       "29 Transitional ON       Toronto                  General          Female\n",
       "30 Transitional QC       Longueuil                General          Female\n",
       "31 Transitional QC       Montreal                 General          Female\n",
       "32 Transitional QC       Montreal                 General          Female\n",
       "33 Transitional QC       Montreal                 General          Female\n",
       "34 Transitional QC       Montreal                 General          Female\n",
       "35 Transitional QC       Montreal                 General          Female\n",
       "36 Transitional QC       Montreal                 General          Female\n",
       "37 Transitional QC       Montreal                 General          Female\n",
       "38 Transitional QC       Montreal                 Youth            Female\n",
       "39 Transitional QC       Quebec City              General          Female\n",
       "40 Transitional QC       Quebec City              General          Female\n",
       "41 Transitional QC       Rouyn-Noranda            Youth            Female\n",
       "42 Transitional QC       Saguenay                 General          Female\n",
       "43 Transitional QC       Saguenay                 Youth            Female\n",
       "44 Transitional QC       St-Augustin-de-Desmaures General          Female\n",
       "45 Transitional SK       Regina                   General          Female\n",
       "46 Transitional SK       Regina                   General          Female\n",
       "47 Transitional SK       Regina                   Youth            Female\n",
       "48 Transitional SK       Regina                   Youth            Female\n",
       "49 Transitional SK       Regina                   Youth            Female\n",
       "50 Transitional SK       Saskatoon                General          Female\n",
       "51 Transitional SK       Saskatoon                Youth            Female\n",
       "52 Transitional SK       Saskatoon                Youth            Female\n",
       "   ShelterName                                                     Beds\n",
       "1  Youville Residence Society of Alberta                           37  \n",
       "2  YWCA - Mary Dover House                                         94  \n",
       "3  Boys and Girls Club - Haven's Way                                6  \n",
       "4  E4C Crossroads Downtown                                          8  \n",
       "5  E4C Elizabeth House                                             24  \n",
       "6  E4C Crossroads House                                            10  \n",
       "7  Native Women's Transition Home                                  15  \n",
       "8  Cecile's Place                                                   4  \n",
       "9  Cynthia's Place Transitional                                    14  \n",
       "10 Aboriginal Mother Centre Society - Transitional                 16  \n",
       "11 Anderson Lodge Women Healing Centre                             10  \n",
       "12 St. Elizabeth's Home Transitional Housing                       10  \n",
       "13 Uturn 2                                                          5  \n",
       "14 Chrysalis House-Youth In Transition                              8  \n",
       "15 First Steps Housing Project                                     12  \n",
       "16 Corner Brook Status of Women Council                             4  \n",
       "17 Mokami Status of Women Council                                   8  \n",
       "18 Shym 2                                                          16  \n",
       "19 The Alders                                                      10  \n",
       "20 Wish Second Stage                                               16  \n",
       "21 Joyce Kope House                                                27  \n",
       "22 Mississauga Women's Shelter                                     10  \n",
       "23 Wyndham House for Young Women                                    8  \n",
       "24 Belinda's Place - Transition                                     9  \n",
       "25 Evelyn Horne Transitional Housing                               12  \n",
       "26 Tewegan Transition House                                        12  \n",
       "27 YWCA - Harmony House                                             3  \n",
       "28 Amelie House                                                    20  \n",
       "29 St. Clare's Residence                                           28  \n",
       "30 La Chaumi<e8>re                                                 20  \n",
       "31 Appartements Rosemont                                           21  \n",
       "32 La Maison Marguerite de Montr<e9>al - Transitional              18  \n",
       "33 Les Maisons de l'Ancre                                          11  \n",
       "34 L'Habitation Pelletier                                          26  \n",
       "35 Maison Olga - Transitional                                      20  \n",
       "36 Y des femmes                                                    34  \n",
       "37 L'Abri d'espoir de l'Arm<e9>e du Salut - Logement de transition 12  \n",
       "38 L'Arr<ea>t-source                                               19  \n",
       "39 Maison Charlotte de l'Arm<e9>e du Salut                         18  \n",
       "40 YWCA de Qu<e9>bec                                                5  \n",
       "41 Les Marginales                                                   8  \n",
       "42 Le S<e9>jour Marie-Fitzbach                                     10  \n",
       "43 Maison d'h<e9>bergement SOS jeunesse                             9  \n",
       "44 La R<e9>sidence Le Portail                                      15  \n",
       "45 Ehrlo Community Services                                        12  \n",
       "46 SHRM Shayil Home (Life Change Program)                           9  \n",
       "47 D.O.C.S. Place                                                   6  \n",
       "48 The Salvation Army Gemma House                                   4  \n",
       "49 W.E.N.D.Y's House                                                6  \n",
       "50 YWCA Saskatoon Turning Points                                   15  \n",
       "51 Bethany Home                                                    10  \n",
       "52 YWCA Saskatoon Margaret's Place                                  4  "
      ]
     },
     "metadata": {},
     "output_type": "display_data"
    }
   ],
   "source": [
    "glimpse(df)\n",
    "df"
   ]
  },
  {
   "cell_type": "code",
   "execution_count": 171,
   "metadata": {},
   "outputs": [
    {
     "data": {
      "text/html": [
       "<ol class=list-inline>\n",
       "\t<li>AB</li>\n",
       "\t<li>BC</li>\n",
       "\t<li>MB</li>\n",
       "\t<li>NB</li>\n",
       "\t<li>NL</li>\n",
       "\t<li>NS</li>\n",
       "\t<li>ON</li>\n",
       "\t<li>QC</li>\n",
       "\t<li>SK</li>\n",
       "</ol>\n"
      ],
      "text/latex": [
       "\\begin{enumerate*}\n",
       "\\item AB\n",
       "\\item BC\n",
       "\\item MB\n",
       "\\item NB\n",
       "\\item NL\n",
       "\\item NS\n",
       "\\item ON\n",
       "\\item QC\n",
       "\\item SK\n",
       "\\end{enumerate*}\n"
      ],
      "text/markdown": [
       "1. AB\n",
       "2. BC\n",
       "3. MB\n",
       "4. NB\n",
       "5. NL\n",
       "6. NS\n",
       "7. ON\n",
       "8. QC\n",
       "9. SK\n",
       "\n",
       "\n"
      ],
      "text/plain": [
       "[1] AB BC MB NB NL NS ON QC SK\n",
       "Levels: AB BC MB NB NL NS ON QC SK"
      ]
     },
     "metadata": {},
     "output_type": "display_data"
    }
   ],
   "source": [
    "unique(df$Province)"
   ]
  },
  {
   "cell_type": "code",
   "execution_count": 172,
   "metadata": {},
   "outputs": [
    {
     "name": "stdout",
     "output_type": "stream",
     "text": [
      "Observations: 52\n",
      "Variables: 7\n",
      "$ ShelterType      <fctr> Transitional, Transitional, Transitional, Transit...\n",
      "$ Province         <fctr> AB, AB, AB, AB, AB, AB, AB, AB, BC, BC, BC, BC, M...\n",
      "$ City             <fctr> Calgary, Calgary, Calgary, Edmonton, Edmonton, Ed...\n",
      "$ TargetPopulation <fctr> General, General, Youth, General, General, Youth,...\n",
      "$ Gender           <fctr> Female, Female, Female, Female, Female, Female, F...\n",
      "$ ShelterName      <chr> \"Youville Residence Society of Alberta\", \"YWCA - M...\n",
      "$ Beds             <dbl> 37, 94, 6, 8, 24, 10, 15, 4, 14, 16, 10, 10, 5, 8,...\n"
     ]
    },
    {
     "data": {
      "text/html": [
       "<table>\n",
       "<thead><tr><th scope=col>ShelterType</th><th scope=col>Province</th><th scope=col>City</th><th scope=col>TargetPopulation</th><th scope=col>Gender</th><th scope=col>ShelterName</th><th scope=col>Beds</th></tr></thead>\n",
       "<tbody>\n",
       "\t<tr><td>Transitional                         </td><td>AB                                   </td><td>Calgary                              </td><td>General                              </td><td>Female                               </td><td>Youville Residence Society of Alberta</td><td>37                                   </td></tr>\n",
       "\t<tr><td>Transitional                         </td><td>AB                                   </td><td>Calgary                              </td><td>General                              </td><td>Female                               </td><td>YWCA - Mary Dover House              </td><td>94                                   </td></tr>\n",
       "\t<tr><td>Transitional                         </td><td>AB                                   </td><td>Calgary                              </td><td>Youth                                </td><td>Female                               </td><td>Boys and Girls Club - Haven's Way    </td><td> 6                                   </td></tr>\n",
       "\t<tr><td>Transitional                         </td><td>AB                                   </td><td>Edmonton                             </td><td>General                              </td><td>Female                               </td><td>E4C Crossroads Downtown              </td><td> 8                                   </td></tr>\n",
       "\t<tr><td>Transitional                         </td><td>AB                                   </td><td>Edmonton                             </td><td>General                              </td><td>Female                               </td><td>E4C Elizabeth House                  </td><td>24                                   </td></tr>\n",
       "\t<tr><td>Transitional                         </td><td>AB                                   </td><td>Edmonton                             </td><td>Youth                                </td><td>Female                               </td><td>E4C Crossroads House                 </td><td>10                                   </td></tr>\n",
       "</tbody>\n",
       "</table>\n"
      ],
      "text/latex": [
       "\\begin{tabular}{r|lllllll}\n",
       " ShelterType & Province & City & TargetPopulation & Gender & ShelterName & Beds\\\\\n",
       "\\hline\n",
       "\t Transitional                          & AB                                    & Calgary                               & General                               & Female                                & Youville Residence Society of Alberta & 37                                   \\\\\n",
       "\t Transitional                          & AB                                    & Calgary                               & General                               & Female                                & YWCA - Mary Dover House               & 94                                   \\\\\n",
       "\t Transitional                          & AB                                    & Calgary                               & Youth                                 & Female                                & Boys and Girls Club - Haven's Way     &  6                                   \\\\\n",
       "\t Transitional                          & AB                                    & Edmonton                              & General                               & Female                                & E4C Crossroads Downtown               &  8                                   \\\\\n",
       "\t Transitional                          & AB                                    & Edmonton                              & General                               & Female                                & E4C Elizabeth House                   & 24                                   \\\\\n",
       "\t Transitional                          & AB                                    & Edmonton                              & Youth                                 & Female                                & E4C Crossroads House                  & 10                                   \\\\\n",
       "\\end{tabular}\n"
      ],
      "text/markdown": [
       "\n",
       "ShelterType | Province | City | TargetPopulation | Gender | ShelterName | Beds | \n",
       "|---|---|---|---|---|---|\n",
       "| Transitional                          | AB                                    | Calgary                               | General                               | Female                                | Youville Residence Society of Alberta | 37                                    | \n",
       "| Transitional                          | AB                                    | Calgary                               | General                               | Female                                | YWCA - Mary Dover House               | 94                                    | \n",
       "| Transitional                          | AB                                    | Calgary                               | Youth                                 | Female                                | Boys and Girls Club - Haven's Way     |  6                                    | \n",
       "| Transitional                          | AB                                    | Edmonton                              | General                               | Female                                | E4C Crossroads Downtown               |  8                                    | \n",
       "| Transitional                          | AB                                    | Edmonton                              | General                               | Female                                | E4C Elizabeth House                   | 24                                    | \n",
       "| Transitional                          | AB                                    | Edmonton                              | Youth                                 | Female                                | E4C Crossroads House                  | 10                                    | \n",
       "\n",
       "\n"
      ],
      "text/plain": [
       "  ShelterType  Province City     TargetPopulation Gender\n",
       "1 Transitional AB       Calgary  General          Female\n",
       "2 Transitional AB       Calgary  General          Female\n",
       "3 Transitional AB       Calgary  Youth            Female\n",
       "4 Transitional AB       Edmonton General          Female\n",
       "5 Transitional AB       Edmonton General          Female\n",
       "6 Transitional AB       Edmonton Youth            Female\n",
       "  ShelterName                           Beds\n",
       "1 Youville Residence Society of Alberta 37  \n",
       "2 YWCA - Mary Dover House               94  \n",
       "3 Boys and Girls Club - Haven's Way      6  \n",
       "4 E4C Crossroads Downtown                8  \n",
       "5 E4C Elizabeth House                   24  \n",
       "6 E4C Crossroads House                  10  "
      ]
     },
     "metadata": {},
     "output_type": "display_data"
    },
    {
     "data": {
      "text/html": [
       "<table>\n",
       "<thead><tr><th scope=col>ShelterType</th><th scope=col>Province</th><th scope=col>City</th><th scope=col>TargetPopulation</th><th scope=col>Gender</th><th scope=col>ShelterName</th><th scope=col>Beds</th></tr></thead>\n",
       "<tbody>\n",
       "\t<tr><td>Transitional                   </td><td>SK                             </td><td>Regina                         </td><td>Youth                          </td><td>Female                         </td><td>D.O.C.S. Place                 </td><td> 6                             </td></tr>\n",
       "\t<tr><td>Transitional                   </td><td>SK                             </td><td>Regina                         </td><td>Youth                          </td><td>Female                         </td><td>The Salvation Army Gemma House </td><td> 4                             </td></tr>\n",
       "\t<tr><td>Transitional                   </td><td>SK                             </td><td>Regina                         </td><td>Youth                          </td><td>Female                         </td><td>W.E.N.D.Y's House              </td><td> 6                             </td></tr>\n",
       "\t<tr><td>Transitional                   </td><td>SK                             </td><td>Saskatoon                      </td><td>General                        </td><td>Female                         </td><td>YWCA Saskatoon Turning Points  </td><td>15                             </td></tr>\n",
       "\t<tr><td>Transitional                   </td><td>SK                             </td><td>Saskatoon                      </td><td>Youth                          </td><td>Female                         </td><td>Bethany Home                   </td><td>10                             </td></tr>\n",
       "\t<tr><td>Transitional                   </td><td>SK                             </td><td>Saskatoon                      </td><td>Youth                          </td><td>Female                         </td><td>YWCA Saskatoon Margaret's Place</td><td> 4                             </td></tr>\n",
       "</tbody>\n",
       "</table>\n"
      ],
      "text/latex": [
       "\\begin{tabular}{r|lllllll}\n",
       " ShelterType & Province & City & TargetPopulation & Gender & ShelterName & Beds\\\\\n",
       "\\hline\n",
       "\t Transitional                    & SK                              & Regina                          & Youth                           & Female                          & D.O.C.S. Place                  &  6                             \\\\\n",
       "\t Transitional                    & SK                              & Regina                          & Youth                           & Female                          & The Salvation Army Gemma House  &  4                             \\\\\n",
       "\t Transitional                    & SK                              & Regina                          & Youth                           & Female                          & W.E.N.D.Y's House               &  6                             \\\\\n",
       "\t Transitional                    & SK                              & Saskatoon                       & General                         & Female                          & YWCA Saskatoon Turning Points   & 15                             \\\\\n",
       "\t Transitional                    & SK                              & Saskatoon                       & Youth                           & Female                          & Bethany Home                    & 10                             \\\\\n",
       "\t Transitional                    & SK                              & Saskatoon                       & Youth                           & Female                          & YWCA Saskatoon Margaret's Place &  4                             \\\\\n",
       "\\end{tabular}\n"
      ],
      "text/markdown": [
       "\n",
       "ShelterType | Province | City | TargetPopulation | Gender | ShelterName | Beds | \n",
       "|---|---|---|---|---|---|\n",
       "| Transitional                    | SK                              | Regina                          | Youth                           | Female                          | D.O.C.S. Place                  |  6                              | \n",
       "| Transitional                    | SK                              | Regina                          | Youth                           | Female                          | The Salvation Army Gemma House  |  4                              | \n",
       "| Transitional                    | SK                              | Regina                          | Youth                           | Female                          | W.E.N.D.Y's House               |  6                              | \n",
       "| Transitional                    | SK                              | Saskatoon                       | General                         | Female                          | YWCA Saskatoon Turning Points   | 15                              | \n",
       "| Transitional                    | SK                              | Saskatoon                       | Youth                           | Female                          | Bethany Home                    | 10                              | \n",
       "| Transitional                    | SK                              | Saskatoon                       | Youth                           | Female                          | YWCA Saskatoon Margaret's Place |  4                              | \n",
       "\n",
       "\n"
      ],
      "text/plain": [
       "  ShelterType  Province City      TargetPopulation Gender\n",
       "1 Transitional SK       Regina    Youth            Female\n",
       "2 Transitional SK       Regina    Youth            Female\n",
       "3 Transitional SK       Regina    Youth            Female\n",
       "4 Transitional SK       Saskatoon General          Female\n",
       "5 Transitional SK       Saskatoon Youth            Female\n",
       "6 Transitional SK       Saskatoon Youth            Female\n",
       "  ShelterName                     Beds\n",
       "1 D.O.C.S. Place                   6  \n",
       "2 The Salvation Army Gemma House   4  \n",
       "3 W.E.N.D.Y's House                6  \n",
       "4 YWCA Saskatoon Turning Points   15  \n",
       "5 Bethany Home                    10  \n",
       "6 YWCA Saskatoon Margaret's Place  4  "
      ]
     },
     "metadata": {},
     "output_type": "display_data"
    }
   ],
   "source": [
    "glimpse(df)\n",
    "head(df)\n",
    "tail(df)"
   ]
  },
  {
   "cell_type": "code",
   "execution_count": 173,
   "metadata": {},
   "outputs": [
    {
     "data": {
      "text/html": [
       "<table>\n",
       "<thead><tr><th scope=col>Province</th><th scope=col>TotalTransitionalBedsForFemales</th></tr></thead>\n",
       "<tbody>\n",
       "\t<tr><td>AB </td><td>198</td></tr>\n",
       "\t<tr><td>BC </td><td> 50</td></tr>\n",
       "\t<tr><td>MB </td><td>  5</td></tr>\n",
       "\t<tr><td>NB </td><td> 20</td></tr>\n",
       "\t<tr><td>NL </td><td> 12</td></tr>\n",
       "\t<tr><td>NS </td><td> 42</td></tr>\n",
       "\t<tr><td>ON </td><td>129</td></tr>\n",
       "\t<tr><td>QC </td><td>246</td></tr>\n",
       "\t<tr><td>SK </td><td> 66</td></tr>\n",
       "</tbody>\n",
       "</table>\n"
      ],
      "text/latex": [
       "\\begin{tabular}{r|ll}\n",
       " Province & TotalTransitionalBedsForFemales\\\\\n",
       "\\hline\n",
       "\t AB  & 198\\\\\n",
       "\t BC  &  50\\\\\n",
       "\t MB  &   5\\\\\n",
       "\t NB  &  20\\\\\n",
       "\t NL  &  12\\\\\n",
       "\t NS  &  42\\\\\n",
       "\t ON  & 129\\\\\n",
       "\t QC  & 246\\\\\n",
       "\t SK  &  66\\\\\n",
       "\\end{tabular}\n"
      ],
      "text/markdown": [
       "\n",
       "Province | TotalTransitionalBedsForFemales | \n",
       "|---|---|---|---|---|---|---|---|---|\n",
       "| AB  | 198 | \n",
       "| BC  |  50 | \n",
       "| MB  |   5 | \n",
       "| NB  |  20 | \n",
       "| NL  |  12 | \n",
       "| NS  |  42 | \n",
       "| ON  | 129 | \n",
       "| QC  | 246 | \n",
       "| SK  |  66 | \n",
       "\n",
       "\n"
      ],
      "text/plain": [
       "  Province TotalTransitionalBedsForFemales\n",
       "1 AB       198                            \n",
       "2 BC        50                            \n",
       "3 MB         5                            \n",
       "4 NB        20                            \n",
       "5 NL        12                            \n",
       "6 NS        42                            \n",
       "7 ON       129                            \n",
       "8 QC       246                            \n",
       "9 SK        66                            "
      ]
     },
     "metadata": {},
     "output_type": "display_data"
    }
   ],
   "source": [
    "df_Provincial <- df %>%\n",
    "  select(Province, Beds) %>%\n",
    "  group_by(Province) %>%\n",
    "  summarise(TotalTransitionalBedsForFemales = sum(Beds))\n",
    "\n",
    "df_Provincial"
   ]
  },
  {
   "cell_type": "code",
   "execution_count": 174,
   "metadata": {},
   "outputs": [
    {
     "data": {
      "text/html": [
       "<table>\n",
       "<thead><tr><th scope=col>Province</th><th scope=col>TotalTransitionalBedsForFemales</th></tr></thead>\n",
       "<tbody>\n",
       "\t<tr><td>AB </td><td>198</td></tr>\n",
       "\t<tr><td>BC </td><td> 50</td></tr>\n",
       "\t<tr><td>MB </td><td>  5</td></tr>\n",
       "\t<tr><td>NB </td><td> 20</td></tr>\n",
       "\t<tr><td>NL </td><td> 12</td></tr>\n",
       "\t<tr><td>NS </td><td> 42</td></tr>\n",
       "\t<tr><td>ON </td><td>129</td></tr>\n",
       "\t<tr><td>QC </td><td>246</td></tr>\n",
       "\t<tr><td>SK </td><td> 66</td></tr>\n",
       "\t<tr><td>PI </td><td>  0</td></tr>\n",
       "</tbody>\n",
       "</table>\n"
      ],
      "text/latex": [
       "\\begin{tabular}{r|ll}\n",
       " Province & TotalTransitionalBedsForFemales\\\\\n",
       "\\hline\n",
       "\t AB  & 198\\\\\n",
       "\t BC  &  50\\\\\n",
       "\t MB  &   5\\\\\n",
       "\t NB  &  20\\\\\n",
       "\t NL  &  12\\\\\n",
       "\t NS  &  42\\\\\n",
       "\t ON  & 129\\\\\n",
       "\t QC  & 246\\\\\n",
       "\t SK  &  66\\\\\n",
       "\t PI  &   0\\\\\n",
       "\\end{tabular}\n"
      ],
      "text/markdown": [
       "\n",
       "Province | TotalTransitionalBedsForFemales | \n",
       "|---|---|---|---|---|---|---|---|---|---|\n",
       "| AB  | 198 | \n",
       "| BC  |  50 | \n",
       "| MB  |   5 | \n",
       "| NB  |  20 | \n",
       "| NL  |  12 | \n",
       "| NS  |  42 | \n",
       "| ON  | 129 | \n",
       "| QC  | 246 | \n",
       "| SK  |  66 | \n",
       "| PI  |   0 | \n",
       "\n",
       "\n"
      ],
      "text/plain": [
       "   Province TotalTransitionalBedsForFemales\n",
       "1  AB       198                            \n",
       "2  BC        50                            \n",
       "3  MB         5                            \n",
       "4  NB        20                            \n",
       "5  NL        12                            \n",
       "6  NS        42                            \n",
       "7  ON       129                            \n",
       "8  QC       246                            \n",
       "9  SK        66                            \n",
       "10 PI         0                            "
      ]
     },
     "metadata": {},
     "output_type": "display_data"
    }
   ],
   "source": [
    "# add row for one province that does not have emergency beds\n",
    "\n",
    "newRow1 <- data.frame(Province = \"PI\", TotalTransitionalBedsForFemales = 0)\n",
    "\n",
    "df_Provincial <- rbind(df_Provincial, newRow1)\n",
    "\n",
    "df_Provincial"
   ]
  },
  {
   "cell_type": "code",
   "execution_count": 175,
   "metadata": {},
   "outputs": [
    {
     "name": "stdout",
     "output_type": "stream",
     "text": [
      "Observations: 10\n",
      "Variables: 3\n",
      "$ Province                        <fctr> AB, BC, MB, NB, NL, NS, ON, QC, SK...\n",
      "$ TotalTransitionalBedsForFemales <dbl> 198, 50, 5, 20, 12, 42, 129, 246, 6...\n",
      "$ TotalProvincialPopulationFemale <dbl> 2117001, 2427673, 671339, 384250, 2...\n"
     ]
    },
    {
     "data": {
      "text/html": [
       "<table>\n",
       "<thead><tr><th scope=col>Province</th><th scope=col>TotalTransitionalBedsForFemales</th><th scope=col>TotalProvincialPopulationFemale</th></tr></thead>\n",
       "<tbody>\n",
       "\t<tr><td>AB     </td><td>198    </td><td>2117001</td></tr>\n",
       "\t<tr><td>BC     </td><td> 50    </td><td>2427673</td></tr>\n",
       "\t<tr><td>MB     </td><td>  5    </td><td> 671339</td></tr>\n",
       "\t<tr><td>NB     </td><td> 20    </td><td> 384250</td></tr>\n",
       "\t<tr><td>NL     </td><td> 12    </td><td> 268207</td></tr>\n",
       "\t<tr><td>NS     </td><td> 42    </td><td> 486028</td></tr>\n",
       "\t<tr><td>ON     </td><td>129    </td><td>7212574</td></tr>\n",
       "\t<tr><td>QC     </td><td>246    </td><td>4219609</td></tr>\n",
       "\t<tr><td>SK     </td><td> 66    </td><td> 577058</td></tr>\n",
       "\t<tr><td>PI     </td><td>  0    </td><td>  77666</td></tr>\n",
       "</tbody>\n",
       "</table>\n"
      ],
      "text/latex": [
       "\\begin{tabular}{r|lll}\n",
       " Province & TotalTransitionalBedsForFemales & TotalProvincialPopulationFemale\\\\\n",
       "\\hline\n",
       "\t AB      & 198     & 2117001\\\\\n",
       "\t BC      &  50     & 2427673\\\\\n",
       "\t MB      &   5     &  671339\\\\\n",
       "\t NB      &  20     &  384250\\\\\n",
       "\t NL      &  12     &  268207\\\\\n",
       "\t NS      &  42     &  486028\\\\\n",
       "\t ON      & 129     & 7212574\\\\\n",
       "\t QC      & 246     & 4219609\\\\\n",
       "\t SK      &  66     &  577058\\\\\n",
       "\t PI      &   0     &   77666\\\\\n",
       "\\end{tabular}\n"
      ],
      "text/markdown": [
       "\n",
       "Province | TotalTransitionalBedsForFemales | TotalProvincialPopulationFemale | \n",
       "|---|---|---|---|---|---|---|---|---|---|\n",
       "| AB      | 198     | 2117001 | \n",
       "| BC      |  50     | 2427673 | \n",
       "| MB      |   5     |  671339 | \n",
       "| NB      |  20     |  384250 | \n",
       "| NL      |  12     |  268207 | \n",
       "| NS      |  42     |  486028 | \n",
       "| ON      | 129     | 7212574 | \n",
       "| QC      | 246     | 4219609 | \n",
       "| SK      |  66     |  577058 | \n",
       "| PI      |   0     |   77666 | \n",
       "\n",
       "\n"
      ],
      "text/plain": [
       "   Province TotalTransitionalBedsForFemales TotalProvincialPopulationFemale\n",
       "1  AB       198                             2117001                        \n",
       "2  BC        50                             2427673                        \n",
       "3  MB         5                              671339                        \n",
       "4  NB        20                              384250                        \n",
       "5  NL        12                              268207                        \n",
       "6  NS        42                              486028                        \n",
       "7  ON       129                             7212574                        \n",
       "8  QC       246                             4219609                        \n",
       "9  SK        66                              577058                        \n",
       "10 PI         0                               77666                        "
      ]
     },
     "metadata": {},
     "output_type": "display_data"
    }
   ],
   "source": [
    "# Add 2017 population stats for each province\n",
    "# Source: https://www150.statcan.gc.ca/t1/tbl1/en/tv.action?pid=1710000501&pickMembers%5B0%5D=1.10&pickMembers%5B1%5D=2.1\n",
    "\n",
    "df_Provincial$TotalProvincialPopulationFemale <- 0\n",
    "\n",
    "df_Provincial$TotalProvincialPopulationFemale[df_Provincial$Province == \"AB\"] <- 2117001\n",
    "df_Provincial$TotalProvincialPopulationFemale[df_Provincial$Province == \"BC\"] <- 2427673\n",
    "df_Provincial$TotalProvincialPopulationFemale[df_Provincial$Province == \"MB\"] <- 671339\n",
    "df_Provincial$TotalProvincialPopulationFemale[df_Provincial$Province == \"NB\"] <- 384250\n",
    "df_Provincial$TotalProvincialPopulationFemale[df_Provincial$Province == \"NL\"] <- 268207\n",
    "df_Provincial$TotalProvincialPopulationFemale[df_Provincial$Province == \"NS\"] <- 486028\n",
    "df_Provincial$TotalProvincialPopulationFemale[df_Provincial$Province == \"ON\"] <- 7212574\n",
    "df_Provincial$TotalProvincialPopulationFemale[df_Provincial$Province == \"PI\"] <- 77666\n",
    "df_Provincial$TotalProvincialPopulationFemale[df_Provincial$Province == \"QC\"] <- 4219609\n",
    "df_Provincial$TotalProvincialPopulationFemale[df_Provincial$Province == \"SK\"] <- 577058\n",
    "\n",
    "\n",
    "glimpse(df_Provincial)\n",
    "df_Provincial"
   ]
  },
  {
   "cell_type": "code",
   "execution_count": 176,
   "metadata": {},
   "outputs": [
    {
     "name": "stdout",
     "output_type": "stream",
     "text": [
      "Observations: 10\n",
      "Variables: 4\n",
      "$ Province                          <fctr> AB, BC, MB, NB, NL, NS, ON, QC, ...\n",
      "$ TotalTransitionalBedsForFemales   <dbl> 198, 50, 5, 20, 12, 42, 129, 246,...\n",
      "$ TotalProvincialPopulationFemale   <dbl> 2117001, 2427673, 671339, 384250,...\n",
      "$ TransitionalBedsForFemalesPer100K <dbl> 9, 2, 1, 5, 4, 9, 2, 6, 11, 0\n"
     ]
    },
    {
     "data": {
      "text/html": [
       "<table>\n",
       "<thead><tr><th scope=col>Province</th><th scope=col>TotalTransitionalBedsForFemales</th><th scope=col>TotalProvincialPopulationFemale</th><th scope=col>TransitionalBedsForFemalesPer100K</th></tr></thead>\n",
       "<tbody>\n",
       "\t<tr><td>AB     </td><td>198    </td><td>2117001</td><td> 9     </td></tr>\n",
       "\t<tr><td>BC     </td><td> 50    </td><td>2427673</td><td> 2     </td></tr>\n",
       "\t<tr><td>MB     </td><td>  5    </td><td> 671339</td><td> 1     </td></tr>\n",
       "\t<tr><td>NB     </td><td> 20    </td><td> 384250</td><td> 5     </td></tr>\n",
       "\t<tr><td>NL     </td><td> 12    </td><td> 268207</td><td> 4     </td></tr>\n",
       "\t<tr><td>NS     </td><td> 42    </td><td> 486028</td><td> 9     </td></tr>\n",
       "\t<tr><td>ON     </td><td>129    </td><td>7212574</td><td> 2     </td></tr>\n",
       "\t<tr><td>QC     </td><td>246    </td><td>4219609</td><td> 6     </td></tr>\n",
       "\t<tr><td>SK     </td><td> 66    </td><td> 577058</td><td>11     </td></tr>\n",
       "\t<tr><td>PI     </td><td>  0    </td><td>  77666</td><td> 0     </td></tr>\n",
       "</tbody>\n",
       "</table>\n"
      ],
      "text/latex": [
       "\\begin{tabular}{r|llll}\n",
       " Province & TotalTransitionalBedsForFemales & TotalProvincialPopulationFemale & TransitionalBedsForFemalesPer100K\\\\\n",
       "\\hline\n",
       "\t AB      & 198     & 2117001 &  9     \\\\\n",
       "\t BC      &  50     & 2427673 &  2     \\\\\n",
       "\t MB      &   5     &  671339 &  1     \\\\\n",
       "\t NB      &  20     &  384250 &  5     \\\\\n",
       "\t NL      &  12     &  268207 &  4     \\\\\n",
       "\t NS      &  42     &  486028 &  9     \\\\\n",
       "\t ON      & 129     & 7212574 &  2     \\\\\n",
       "\t QC      & 246     & 4219609 &  6     \\\\\n",
       "\t SK      &  66     &  577058 & 11     \\\\\n",
       "\t PI      &   0     &   77666 &  0     \\\\\n",
       "\\end{tabular}\n"
      ],
      "text/markdown": [
       "\n",
       "Province | TotalTransitionalBedsForFemales | TotalProvincialPopulationFemale | TransitionalBedsForFemalesPer100K | \n",
       "|---|---|---|---|---|---|---|---|---|---|\n",
       "| AB      | 198     | 2117001 |  9      | \n",
       "| BC      |  50     | 2427673 |  2      | \n",
       "| MB      |   5     |  671339 |  1      | \n",
       "| NB      |  20     |  384250 |  5      | \n",
       "| NL      |  12     |  268207 |  4      | \n",
       "| NS      |  42     |  486028 |  9      | \n",
       "| ON      | 129     | 7212574 |  2      | \n",
       "| QC      | 246     | 4219609 |  6      | \n",
       "| SK      |  66     |  577058 | 11      | \n",
       "| PI      |   0     |   77666 |  0      | \n",
       "\n",
       "\n"
      ],
      "text/plain": [
       "   Province TotalTransitionalBedsForFemales TotalProvincialPopulationFemale\n",
       "1  AB       198                             2117001                        \n",
       "2  BC        50                             2427673                        \n",
       "3  MB         5                              671339                        \n",
       "4  NB        20                              384250                        \n",
       "5  NL        12                              268207                        \n",
       "6  NS        42                              486028                        \n",
       "7  ON       129                             7212574                        \n",
       "8  QC       246                             4219609                        \n",
       "9  SK        66                              577058                        \n",
       "10 PI         0                               77666                        \n",
       "   TransitionalBedsForFemalesPer100K\n",
       "1   9                               \n",
       "2   2                               \n",
       "3   1                               \n",
       "4   5                               \n",
       "5   4                               \n",
       "6   9                               \n",
       "7   2                               \n",
       "8   6                               \n",
       "9  11                               \n",
       "10  0                               "
      ]
     },
     "metadata": {},
     "output_type": "display_data"
    }
   ],
   "source": [
    "df_Provincial <- df_Provincial %>%\n",
    "  mutate(TransitionalBedsForFemalesPer100K = round(TotalTransitionalBedsForFemales / TotalProvincialPopulationFemale * 100000))\n",
    "\n",
    "glimpse(df_Provincial)\n",
    "df_Provincial"
   ]
  },
  {
   "cell_type": "markdown",
   "metadata": {},
   "source": [
    "## Display a map of Canada showing results"
   ]
  },
  {
   "cell_type": "code",
   "execution_count": 177,
   "metadata": {},
   "outputs": [
    {
     "name": "stdout",
     "output_type": "stream",
     "text": [
      "Reading layer `lpr_000b16a_e' from data source `C:\\Users\\rahmant\\GIS_Canada\\lpr_000b16a_e.shp' using driver `ESRI Shapefile'\n",
      "Simple feature collection with 13 features and 6 fields\n",
      "geometry type:  MULTIPOLYGON\n",
      "dimension:      XY\n",
      "bbox:           xmin: 3689439 ymin: 659338.9 xmax: 9015737 ymax: 5242179\n",
      "epsg (SRID):    NA\n",
      "proj4string:    +proj=lcc +lat_1=49 +lat_2=77 +lat_0=63.390675 +lon_0=-91.86666666666666 +x_0=6200000 +y_0=3000000 +datum=NAD83 +units=m +no_defs\n"
     ]
    }
   ],
   "source": [
    "CanadaMap <- st_read(\"GIS_Canada/lpr_000b16a_e.shp\")"
   ]
  },
  {
   "cell_type": "code",
   "execution_count": 178,
   "metadata": {},
   "outputs": [
    {
     "data": {
      "text/plain": [
       "[1] \"2018-08-09 15:08:25 AST\""
      ]
     },
     "metadata": {},
     "output_type": "display_data"
    },
    {
     "name": "stdout",
     "output_type": "stream",
     "text": [
      "Observations: 13\n",
      "Variables: 7\n",
      "$ PRUID    <fctr> 10, 11, 12, 13, 24, 35, 46, 47, 48, 59, 60, 61, 62\n",
      "$ PRNAME   <fctr> Newfoundland and Labrador / Terre-Neuve-et-Labrador, Prin...\n",
      "$ PRENAME  <fctr> Newfoundland and Labrador, Prince Edward Island, Nova Sco...\n",
      "$ PRFNAME  <fctr> Terre-Neuve-et-Labrador, Île-du-Prince-Édouard, Nouvelle-...\n",
      "$ PREABBR  <fctr> N.L., P.E.I., N.S., N.B., Que., Ont., Man., Sask., Alta.,...\n",
      "$ PRFABBR  <fctr> T.-N.-L., Î.-P.-É., N.-É., N.-B., Qc, Ont., Man., Sask., ...\n",
      "$ geometry <simple_feature> MULTIPOLYGON (((8307365.588..., MULTIPOLYGON ((...\n"
     ]
    },
    {
     "data": {
      "text/plain": [
       "[1] \"2018-08-09 15:08:49 AST\""
      ]
     },
     "metadata": {},
     "output_type": "display_data"
    }
   ],
   "source": [
    "Sys.time()\n",
    "glimpse(CanadaMap)\n",
    "Sys.time()"
   ]
  },
  {
   "cell_type": "code",
   "execution_count": 179,
   "metadata": {},
   "outputs": [],
   "source": [
    "# Sys.time()\n",
    "# CanadaMap\n",
    "# Sys.time()"
   ]
  },
  {
   "cell_type": "code",
   "execution_count": 180,
   "metadata": {},
   "outputs": [
    {
     "name": "stdout",
     "output_type": "stream",
     "text": [
      "Observations: 10\n",
      "Variables: 5\n",
      "$ Province                          <fctr> AB, BC, MB, NB, NL, NS, ON, QC, ...\n",
      "$ TotalTransitionalBedsForFemales   <dbl> 198, 50, 5, 20, 12, 42, 129, 246,...\n",
      "$ TotalProvincialPopulationFemale   <dbl> 2117001, 2427673, 671339, 384250,...\n",
      "$ TransitionalBedsForFemalesPer100K <dbl> 9, 2, 1, 5, 4, 9, 2, 6, 11, 0\n",
      "$ PREABBR                           <fctr> Alta., B.C., Man., N.B., N.L., N...\n"
     ]
    },
    {
     "data": {
      "text/html": [
       "<table>\n",
       "<thead><tr><th scope=col>Province</th><th scope=col>TotalTransitionalBedsForFemales</th><th scope=col>TotalProvincialPopulationFemale</th><th scope=col>TransitionalBedsForFemalesPer100K</th><th scope=col>PREABBR</th></tr></thead>\n",
       "<tbody>\n",
       "\t<tr><td>AB     </td><td>198    </td><td>2117001</td><td> 9     </td><td>Alta.  </td></tr>\n",
       "\t<tr><td>BC     </td><td> 50    </td><td>2427673</td><td> 2     </td><td>B.C.   </td></tr>\n",
       "\t<tr><td>MB     </td><td>  5    </td><td> 671339</td><td> 1     </td><td>Man.   </td></tr>\n",
       "\t<tr><td>NB     </td><td> 20    </td><td> 384250</td><td> 5     </td><td>N.B.   </td></tr>\n",
       "\t<tr><td>NL     </td><td> 12    </td><td> 268207</td><td> 4     </td><td>N.L.   </td></tr>\n",
       "\t<tr><td>NS     </td><td> 42    </td><td> 486028</td><td> 9     </td><td>N.S.   </td></tr>\n",
       "\t<tr><td>ON     </td><td>129    </td><td>7212574</td><td> 2     </td><td>Ont.   </td></tr>\n",
       "\t<tr><td>QC     </td><td>246    </td><td>4219609</td><td> 6     </td><td>Que.   </td></tr>\n",
       "\t<tr><td>SK     </td><td> 66    </td><td> 577058</td><td>11     </td><td>Sask.  </td></tr>\n",
       "\t<tr><td>PI     </td><td>  0    </td><td>  77666</td><td> 0     </td><td>P.E.I. </td></tr>\n",
       "</tbody>\n",
       "</table>\n"
      ],
      "text/latex": [
       "\\begin{tabular}{r|lllll}\n",
       " Province & TotalTransitionalBedsForFemales & TotalProvincialPopulationFemale & TransitionalBedsForFemalesPer100K & PREABBR\\\\\n",
       "\\hline\n",
       "\t AB      & 198     & 2117001 &  9      & Alta.  \\\\\n",
       "\t BC      &  50     & 2427673 &  2      & B.C.   \\\\\n",
       "\t MB      &   5     &  671339 &  1      & Man.   \\\\\n",
       "\t NB      &  20     &  384250 &  5      & N.B.   \\\\\n",
       "\t NL      &  12     &  268207 &  4      & N.L.   \\\\\n",
       "\t NS      &  42     &  486028 &  9      & N.S.   \\\\\n",
       "\t ON      & 129     & 7212574 &  2      & Ont.   \\\\\n",
       "\t QC      & 246     & 4219609 &  6      & Que.   \\\\\n",
       "\t SK      &  66     &  577058 & 11      & Sask.  \\\\\n",
       "\t PI      &   0     &   77666 &  0      & P.E.I. \\\\\n",
       "\\end{tabular}\n"
      ],
      "text/markdown": [
       "\n",
       "Province | TotalTransitionalBedsForFemales | TotalProvincialPopulationFemale | TransitionalBedsForFemalesPer100K | PREABBR | \n",
       "|---|---|---|---|---|---|---|---|---|---|\n",
       "| AB      | 198     | 2117001 |  9      | Alta.   | \n",
       "| BC      |  50     | 2427673 |  2      | B.C.    | \n",
       "| MB      |   5     |  671339 |  1      | Man.    | \n",
       "| NB      |  20     |  384250 |  5      | N.B.    | \n",
       "| NL      |  12     |  268207 |  4      | N.L.    | \n",
       "| NS      |  42     |  486028 |  9      | N.S.    | \n",
       "| ON      | 129     | 7212574 |  2      | Ont.    | \n",
       "| QC      | 246     | 4219609 |  6      | Que.    | \n",
       "| SK      |  66     |  577058 | 11      | Sask.   | \n",
       "| PI      |   0     |   77666 |  0      | P.E.I.  | \n",
       "\n",
       "\n"
      ],
      "text/plain": [
       "   Province TotalTransitionalBedsForFemales TotalProvincialPopulationFemale\n",
       "1  AB       198                             2117001                        \n",
       "2  BC        50                             2427673                        \n",
       "3  MB         5                              671339                        \n",
       "4  NB        20                              384250                        \n",
       "5  NL        12                              268207                        \n",
       "6  NS        42                              486028                        \n",
       "7  ON       129                             7212574                        \n",
       "8  QC       246                             4219609                        \n",
       "9  SK        66                              577058                        \n",
       "10 PI         0                               77666                        \n",
       "   TransitionalBedsForFemalesPer100K PREABBR\n",
       "1   9                                Alta.  \n",
       "2   2                                B.C.   \n",
       "3   1                                Man.   \n",
       "4   5                                N.B.   \n",
       "5   4                                N.L.   \n",
       "6   9                                N.S.   \n",
       "7   2                                Ont.   \n",
       "8   6                                Que.   \n",
       "9  11                                Sask.  \n",
       "10  0                                P.E.I. "
      ]
     },
     "metadata": {},
     "output_type": "display_data"
    }
   ],
   "source": [
    "# Add a column for PREABBR to df_Provincial in order to do a join with CanadaMap\n",
    "\n",
    "\n",
    "df_Provincial$PREABBR <- \"unknown\"\n",
    "\n",
    "df_Provincial$PREABBR[df_Provincial$Province == \"AB\"] <- \"Alta.\"\n",
    "df_Provincial$PREABBR[df_Provincial$Province == \"BC\"] <- \"B.C.\"\n",
    "df_Provincial$PREABBR[df_Provincial$Province == \"MB\"] <- \"Man.\"\n",
    "df_Provincial$PREABBR[df_Provincial$Province == \"NB\"] <- \"N.B.\"\n",
    "df_Provincial$PREABBR[df_Provincial$Province == \"NL\"] <- \"N.L.\"\n",
    "df_Provincial$PREABBR[df_Provincial$Province == \"NS\"] <- \"N.S.\"\n",
    "df_Provincial$PREABBR[df_Provincial$Province == \"ON\"] <- \"Ont.\"\n",
    "df_Provincial$PREABBR[df_Provincial$Province == \"PI\"] <- \"P.E.I.\"\n",
    "df_Provincial$PREABBR[df_Provincial$Province == \"QC\"] <- \"Que.\"\n",
    "df_Provincial$PREABBR[df_Provincial$Province == \"SK\"] <- \"Sask.\"\n",
    "\n",
    "df_Provincial$PREABBR <- as.factor(df_Provincial$PREABBR)\n",
    "glimpse(df_Provincial)\n",
    "df_Provincial"
   ]
  },
  {
   "cell_type": "code",
   "execution_count": 181,
   "metadata": {},
   "outputs": [],
   "source": [
    "# Add a column for Year\n",
    "\n",
    "df_Provincial$Year <- 2017"
   ]
  },
  {
   "cell_type": "code",
   "execution_count": 182,
   "metadata": {},
   "outputs": [],
   "source": [
    "# Before merging with a shapefile for polygon data, write the data to a table in csv format\n",
    "# Table_B\n",
    "\n",
    "write.csv(df_Provincial, \n",
    "          file = \"Table_E.csv\",\n",
    "          row.names = FALSE) # set row.name to FALSE to not include an index column in the csv output file"
   ]
  },
  {
   "cell_type": "code",
   "execution_count": 183,
   "metadata": {},
   "outputs": [
    {
     "data": {
      "text/html": [
       "<strong>png:</strong> 2"
      ],
      "text/latex": [
       "\\textbf{png:} 2"
      ],
      "text/markdown": [
       "**png:** 2"
      ],
      "text/plain": [
       "png \n",
       "  2 "
      ]
     },
     "metadata": {},
     "output_type": "display_data"
    }
   ],
   "source": [
    "# Save a dataframe as a nicely formatted png file\n",
    "# uses the gridExtra package\n",
    "\n",
    "png(\"Table_E.png\", height = 30*nrow(df_Provincial), width = 150*ncol(df_Provincial))\n",
    "grid.table(df_Provincial)\n",
    "dev.off()"
   ]
  },
  {
   "cell_type": "code",
   "execution_count": 184,
   "metadata": {},
   "outputs": [],
   "source": [
    "CanadaMap <- merge(CanadaMap, df_Provincial) # join the two dataframes, merge will use the common column name to join with"
   ]
  },
  {
   "cell_type": "code",
   "execution_count": 185,
   "metadata": {},
   "outputs": [
    {
     "data": {
      "text/plain": [
       "[1] \"2018-08-09 15:08:51 AST\""
      ]
     },
     "metadata": {},
     "output_type": "display_data"
    },
    {
     "name": "stdout",
     "output_type": "stream",
     "text": [
      "Observations: 10\n",
      "Variables: 12\n",
      "$ PREABBR                           <fctr> Alta., B.C., Man., N.B., N.L., N...\n",
      "$ PRUID                             <fctr> 48, 59, 46, 13, 10, 12, 35, 11, ...\n",
      "$ PRNAME                            <fctr> Alberta, British Columbia / Colo...\n",
      "$ PRENAME                           <fctr> Alberta, British Columbia, Manit...\n",
      "$ PRFNAME                           <fctr> Alberta, Colombie-Britannique, M...\n",
      "$ PRFABBR                           <fctr> Alb., C.-B., Man., N.-B., T.-N.-...\n",
      "$ Province                          <fctr> AB, BC, MB, NB, NL, NS, ON, PI, ...\n",
      "$ TotalTransitionalBedsForFemales   <dbl> 198, 50, 5, 20, 12, 42, 129, 0, 2...\n",
      "$ TotalProvincialPopulationFemale   <dbl> 2117001, 2427673, 671339, 384250,...\n",
      "$ TransitionalBedsForFemalesPer100K <dbl> 9, 2, 1, 5, 4, 9, 2, 0, 6, 11\n",
      "$ Year                              <dbl> 2017, 2017, 2017, 2017, 2017, 201...\n",
      "$ geometry                          <simple_feature> MULTIPOLYGON (((522830...\n"
     ]
    },
    {
     "data": {
      "text/plain": [
       "[1] \"2018-08-09 15:09:06 AST\""
      ]
     },
     "metadata": {},
     "output_type": "display_data"
    }
   ],
   "source": [
    "Sys.time()\n",
    "glimpse(CanadaMap)\n",
    "Sys.time()"
   ]
  },
  {
   "cell_type": "code",
   "execution_count": 186,
   "metadata": {},
   "outputs": [
    {
     "data": {
      "text/plain": [
       "[1] \"2018-08-09 15:09:06 AST\""
      ]
     },
     "metadata": {},
     "output_type": "display_data"
    },
    {
     "data": {},
     "metadata": {},
     "output_type": "display_data"
    },
    {
     "data": {
      "text/plain": [
       "[1] \"2018-08-09 15:09:47 AST\""
      ]
     },
     "metadata": {},
     "output_type": "display_data"
    },
    {
     "data": {
      "image/png": "[encoded data removed]",
      "text/plain": [
       "plot without title"
      ]
     },
     "metadata": {},
     "output_type": "display_data"
    }
   ],
   "source": [
    "Sys.time()\n",
    "\n",
    "my_map_E0 <-\n",
    "  tm_shape(CanadaMap) +\n",
    "  tm_polygons(col = \"TransitionalBedsForFemalesPer100K\", palette = \"Purples\", style = \"order\") +\n",
    "  tm_legend(legend.outside = TRUE, legend.outside.position = \"bottom\") +\n",
    "  tm_text(text = \"TransitionalBedsForFemalesPer100K\", size = .6) + \n",
    "  tm_layout(frame = FALSE, \n",
    "            legend.show = FALSE,\n",
    "            main.title = \"Number of Transitional Homeless Beds at Female-Only Shelters\\nPer 100,000 Female Population, 2017\",\n",
    "            main.title.size = 1)\n",
    "\n",
    "my_map_E0\n",
    "\n",
    "Sys.time()"
   ]
  },
  {
   "cell_type": "code",
   "execution_count": 187,
   "metadata": {},
   "outputs": [],
   "source": [
    "# Sys.time()\n",
    "#   save_tmap(tm = my_map_E0, \n",
    "#             filename = \"Number of Transitional Homeless Beds at Female-Only Shelters Per 100,000 Female Population, 2017.png\")\n",
    "# Sys.time()"
   ]
  },
  {
   "cell_type": "markdown",
   "metadata": {},
   "source": [
    "# Main Script Ends Here"
   ]
  },
  {
   "cell_type": "code",
   "execution_count": 188,
   "metadata": {},
   "outputs": [
    {
     "data": {
      "text/plain": [
       "[1] \"2018-08-09 15:09:51 AST\""
      ]
     },
     "metadata": {},
     "output_type": "display_data"
    }
   ],
   "source": [
    "Sys.time()"
   ]
  },
  {
   "cell_type": "markdown",
   "metadata": {},
   "source": [
    "# Appendix 1 - Examples of common coding techniques"
   ]
  },
  {
   "cell_type": "code",
   "execution_count": 189,
   "metadata": {},
   "outputs": [],
   "source": [
    "# Example of how to read and filter a large csv file a chunk at a time, e.g. filter 50000 rows at a time into a new dataframe\n",
    "# This is very efficient, comparable to fread in speed but done in chunks to conserve memory\n",
    "# I also prefer it to fread because I can filter out rows with missing values as I import the data\n",
    "# and specify which columns I want to import \n",
    "# need readr library from tidyverse library\n",
    "\n",
    "\n",
    "# Sys.time() # start time for reading file\n",
    "# f <- function(x, pos) subset(x, \n",
    "#                             !is.na(Beds) # filter out any rows with missing values in the specified column in parenthesis\n",
    "#                             & Gender == \"Male\") # only include rows where the specified condition is met\n",
    "#                             & any other criteria for filtering\n",
    "# df <- read_csv_chunked(\"http://www.edsc-esdc.gc.ca/ouvert-open/hps/CDHPD-OpenDataNSPL-DataSet-20170804-ENFR.csv\", \n",
    "#                            DataFrameCallback$new(f), \n",
    "#                            chunk_size = 50000, # this is an adequate chunk size\n",
    "#                            # col_names = TRUE # this will keep original column names if you don't provide custom names\n",
    "#                                               # most of the time it's best to rename every column explicitly as shown below\n",
    "#                            col_names = c(\"ShelterType\", # this renames each column in order of the csv file to what you specify\n",
    "#                                          \"ProvinceCode\",\n",
    "#                                          \"City\",\n",
    "#                                          \"TargetPopulation\",\n",
    "#                                          \"Gender\",\n",
    "#                                          \"ShelterName\",\n",
    "#                                          \"Beds\"), # all other columns after this will be dropped if not included        \n",
    "#                            cols_only( # specify which columns with data types you want to include \n",
    "#                                       # to avoid importing unwanted data\n",
    "#                                       # include all columns that you specified above with col_names if you renamed them\n",
    "#                                \"ShelterType\" = col_character(),\n",
    "#                                \"ProvinceCode\" = col_character(),\n",
    "#                                \"City\" = col_character(),\n",
    "#                                \"TargetPopulation\" = col_character(),\n",
    "#                                \"Gender\" = col_character(),\n",
    "#                                \"ShelterName\" = col_character(),\n",
    "#                                \"Beds\" = col_number()),\n",
    "#                            skip = 1, # skip original column headers if you renamed them\n",
    "#                            trim_ws = TRUE) # trim leading and trailing whitespace for each data point\n",
    "# Sys.time() # end time for reading file"
   ]
  },
  {
   "cell_type": "code",
   "execution_count": 190,
   "metadata": {},
   "outputs": [],
   "source": [
    "# Example of how to read csv files quickly with fread while converting all chr variables to factors \n",
    "# need data.table library\n",
    "# Use fread when you are a lazy and know you won't have memory issues loading the entire dataset at once\n",
    "# or when you know you need to keep all information loaded into memory\n",
    "\n",
    "# df <- fread(\"DataFilesAOP/AB_Provincial_Detailed_Crime_Stats_2006-2011-2016.csv\", \n",
    "#            stringsAsFactors = TRUE, header = TRUE)"
   ]
  },
  {
   "cell_type": "code",
   "execution_count": 191,
   "metadata": {},
   "outputs": [],
   "source": [
    "# Example of how to write a dataframe to a csv file\n",
    "\n",
    "# write.csv(df, \n",
    "#           file = \"NS_Crime_Stats_Clean_Extract3.csv\",\n",
    "#           row.names = FALSE) # set row.name to FALSE to not include an index column in the csv output file"
   ]
  },
  {
   "cell_type": "code",
   "execution_count": 192,
   "metadata": {},
   "outputs": [],
   "source": [
    "# Example how to change all of the column names in a dataframe to something friendlier\n",
    "# You want to avoid special characters and spaces in column names to prevent problems with differnt packages and features\n",
    "# Provide new names in a character vector\n",
    "\n",
    "# colnames(df) <- c(\" \", \" \")"
   ]
  },
  {
   "cell_type": "code",
   "execution_count": 193,
   "metadata": {},
   "outputs": [],
   "source": [
    "# Example of how to rename a specific column in a dataframe\n",
    "\n",
    "# names(df)[names(df) == \"PercentageOfDeaths\"] <- \"PercentageOfDeathsMale\""
   ]
  },
  {
   "cell_type": "code",
   "execution_count": 194,
   "metadata": {},
   "outputs": [],
   "source": [
    "# Example of how to view specific columns from a dataframe\n",
    "\n",
    "# df[, c(\"BedsPer100K\", \"PercentageOfDeathsMale\")]"
   ]
  },
  {
   "cell_type": "code",
   "execution_count": 195,
   "metadata": {},
   "outputs": [],
   "source": [
    "# Example how to set the number of digits displayed in dataframes\n",
    "\n",
    "# options(digits=15) # set the visible number of digits to 15, useful when displaying GIS coordinates in dataframes\n",
    "# options(\"digits\") # display the max number of digits that appear in cells of a dataframe"
   ]
  },
  {
   "cell_type": "code",
   "execution_count": 196,
   "metadata": {},
   "outputs": [],
   "source": [
    "# Example of how to convert columns to the correct data types and how to delete columns from a dataframe\n",
    "\n",
    "# use as.numeric() and as.factor() where appropriate\n",
    "# df$column_name <- NULL will delete that column from the dataframe"
   ]
  },
  {
   "cell_type": "code",
   "execution_count": 197,
   "metadata": {},
   "outputs": [],
   "source": [
    "# Example of how to recode values of a column for rows meeting a condition\n",
    "\n",
    "# df$LATITUDE[df$GEO == \n",
    "#                          \"Amherst, Nova Scotia, municipal\"] <- 45.8338198\n",
    "# df$LONGITUDE[df$GEO == \n",
    "#                          \"Amherst, Nova Scotia, municipal\"] <- -64.2109455\n",
    "#\n",
    "# df$COUNTY[df$GEO ==\n",
    "#                          \"Amherst, Nova Scotia, municipal\"] <- \"Cumberland\""
   ]
  },
  {
   "cell_type": "code",
   "execution_count": 198,
   "metadata": {},
   "outputs": [],
   "source": [
    "# Example of how to filter a dataframe to rows where a specific string appears anywhere in a specific column\n",
    "# This example filters df to rows where \"MEP\" appears in the \"Contents\" column (need stringr library)\n",
    "\n",
    "# df_MEP <- df %>%\n",
    "#   filter(str_detect(Contents, \"MEP\"))"
   ]
  },
  {
   "cell_type": "code",
   "execution_count": 199,
   "metadata": {},
   "outputs": [],
   "source": [
    "# Example of how to handle dates - converting from timestamp to YYYYMMDD\n",
    "# This example is adequate if you really don't need a date field for arithmetic or plotting with ggplot2\n",
    "\n",
    "# parse out date and time from Timestamp\n",
    "# df <- \n",
    "#   separate(df, Timestamp, # e.g., \"01/01/2017 12:00:00 AM\"\n",
    "#           into = c(\"Date\", \"Time\", \"AMPM\"), sep = \" \")\n",
    "\n",
    "# parse out Month, Day, Year from Date\n",
    "# df <- \n",
    "#  separate(df, Date, \n",
    "#           into = c(\"Month\", \"Day\", \"Year\"), sep = \"/\")\n",
    "\n",
    "# Remove unwanted columns\n",
    "# df$Time <- NULL\n",
    "# df$AMPM <- NULL\n",
    "\n",
    "# unite the columns \"Year\", \"Month\", \"Day\" into a single column for \"YYYYMMDD\"\n",
    "# df <- \n",
    "#  unite_(df, \"YYYYMMDD\", c(\"Year\",\"Month\", \"Day\"), sep = \"\")\n",
    "\n",
    "# sort by date in decreasing order\n",
    "# df <- df[order(df$YYYYMMDD, decreasing = TRUE), ]"
   ]
  },
  {
   "cell_type": "code",
   "execution_count": 200,
   "metadata": {},
   "outputs": [],
   "source": [
    "# Use the lubridate library if arithmetic is important when working with date and time data\n",
    "# In my opinion, the lubridate functions are more complicated than my current needs, so I prefer my approach above\n",
    "# for handling dates/times\n",
    "\n",
    "# https://lubridate.tidyverse.org/\n",
    "# https://rawgit.com/rstudio/cheatsheets/master/lubridate.pdf"
   ]
  },
  {
   "cell_type": "code",
   "execution_count": 201,
   "metadata": {},
   "outputs": [],
   "source": [
    "# Example of how to subset and retain only selected characters from a cell\n",
    "# This is useful if you want to strip out useless characters in a cell given a start and end position to retain\n",
    "# need stringr library\n",
    "\n",
    "# df$gps <- \n",
    "#   str_sub(df$gps, start = 3, end = -2) \n",
    "\n",
    "# this gets rid of the first 3 characters and the last two characters\n",
    "# you can get an accurate count of characters when viewing them with glimpse(df)"
   ]
  },
  {
   "cell_type": "code",
   "execution_count": 202,
   "metadata": {},
   "outputs": [],
   "source": [
    "# Example how to merge two dataframes on common column names\n",
    "# https://stackoverflow.com/questions/1299871/how-to-join-merge-data-frames-inner-outer-left-right\n",
    "\n",
    "# CanadaMap <- merge(CanadaMap, df_Provincial) # join the two dataframes, merge will use the common column name to join with"
   ]
  },
  {
   "cell_type": "code",
   "execution_count": 203,
   "metadata": {},
   "outputs": [],
   "source": [
    "# Example of how to combine two or more dataframes vertically with the same column names\n",
    "\n",
    "# df4 <- rbind(df1, df2, df3)"
   ]
  },
  {
   "cell_type": "code",
   "execution_count": 204,
   "metadata": {},
   "outputs": [],
   "source": [
    "# Example of how to combine two or more dataframes horizontally with the same number of rows but different columns\n",
    "\n",
    "# df4 <- cbind(df1, df2, df3)"
   ]
  },
  {
   "cell_type": "code",
   "execution_count": 205,
   "metadata": {},
   "outputs": [],
   "source": [
    "# Example of how to create a new column that takes on values by performing arithmetic on existing columns \n",
    "# need dplyr and tidyverse library\n",
    "# This example creates a new column that divides one column by another and mutliplies the result by a constant\n",
    "\n",
    "# NSMAP2011 <- NSMAP2011 %>%\n",
    "#   mutate(PropertyCrimeCountyRatePer100K = PropertyCrimeIncidentsPerCounty/CountyPopulation * 100000)"
   ]
  },
  {
   "cell_type": "code",
   "execution_count": 206,
   "metadata": {},
   "outputs": [],
   "source": [
    "# Example of how to order a dataframe by a column in descening order\n",
    "# a \"-\" in front of the column name will sort it in descending (largest to lowest) order\n",
    "\n",
    "# df <- \n",
    "#  df[with(df, order(-Incidents_Total)), ]\n",
    "\n",
    "\n",
    "# adding multiple column names will prioritize ordering in that sequence\n",
    "\n",
    "# df <- \n",
    "#  df[with(df, order(REGION, COUNTY, GEO, Violations, Statistics)), ]\n",
    "\n",
    "#--------------------\n",
    "# Alternatively, you can also use the following:\n",
    "# sort by date in decreasing order\n",
    "# df <- df[order(df$YYYYMMDD, decreasing = TRUE), ]"
   ]
  },
  {
   "cell_type": "code",
   "execution_count": 207,
   "metadata": {},
   "outputs": [],
   "source": [
    "# Before spreading data for tidy format, make sure to remove any special characters beforehand\n",
    "# This ensures that after spreading the data, the column names are all properly formatted\n",
    "# Properly formatted column names will always appear flushed next to the dollar sign when glimpsing a dataframe\n",
    "# If spaces or special characters are present in the column name, they will appear within single quotes after the dollar sign\n",
    "# when glimpsing the dataframe after spreading the data\n",
    "\n",
    "# df_health$Indicators <- gsub(\" \", \"_\", df_health$Indicators)\n",
    "# df_health$Indicators <- gsub(\",\", \"\", df_health$Indicators)\n",
    "# df_health$Indicators <- gsub(\";\", \"\", df_health$Indicators)\n",
    "# df_health$Indicators <- gsub(\"-\", \"_\", df_health$Indicators)\n",
    "# df_health$Indicators <- gsub(\"\\\\(\", \"\", df_health$Indicators) # this removes left parenthesis\n",
    "# df_health$Indicators <- gsub(\"\\\\)\", \"\", df_health$Indicators) # this removes right parenthesis\n",
    "\n",
    "# df_health <- df_health %>%\n",
    "#   spread(Indicators, Value)"
   ]
  },
  {
   "cell_type": "code",
   "execution_count": 208,
   "metadata": {},
   "outputs": [],
   "source": [
    "# Example of how to load a shapefile for mapping \n",
    "# need sf library\n",
    "\n",
    "# NS <- st_read(\"GIS_Nova_Scotia/Counties_GCS.shp\")"
   ]
  },
  {
   "cell_type": "code",
   "execution_count": 209,
   "metadata": {},
   "outputs": [],
   "source": [
    "# Example how to convert a dataframe of lats/longs to a an sf dataframe for points spatial data \n",
    "# need sf library\n",
    "\n",
    "# pts <- st_as_sf(df, coords = c(\"LONGITUDE\", \"LATITUDE\"), crs = 4269) # create sf object called \"pts\" from df\n",
    "# class(pts)\n",
    "# glimpse(pts) # LONGITUDE and LATITUDE columns are replaced with a geometry column for point data"
   ]
  },
  {
   "cell_type": "code",
   "execution_count": 210,
   "metadata": {},
   "outputs": [],
   "source": [
    "# Example how to add custom icons for points spatial data \n",
    "# need sf library and tmap library\n",
    "\n",
    "# Using custom icons for points instead of bubbles\n",
    "\n",
    "# file <- \"DataFilesGeneral/flower_960_720.png\"  \n",
    "# flower_icon <- tmap_icons(file, width = 48, height = 48, keep.asp = TRUE,\n",
    "#   just = c(\"center\", \"center\"), as.local = TRUE)\n",
    "\n",
    "# my_map_2 <- my_map_0 +\n",
    "#   tm_shape(pts) +\n",
    "#   tm_symbols(\"VALUE\", shape = flower_icon, size = .3, alpha = .2, border.alpha = 0) \n",
    "# my_map_2"
   ]
  },
  {
   "cell_type": "markdown",
   "metadata": {},
   "source": [
    "# Appendix 2 - Note regarding preferred way for installing packages"
   ]
  },
  {
   "cell_type": "code",
   "execution_count": 211,
   "metadata": {},
   "outputs": [],
   "source": [
    "# Preferrably, install new packages via Anaconda Prompt > conda install r-package_name\n",
    "# Try to only use library() in notebook instead of install.packages()\n",
    "# this is more reliable than using install.packages(\"package name\") in R script\n",
    "# Anaconda Prompt > conda list shows what packages are installed\n",
    "\n",
    "# However, when the above isn't true for some reason, it is noted below\n",
    "# e.g., tmap must be installed through install.packages(\"tmap\")"
   ]
  }
 ],
 "metadata": {
  "kernelspec": {
   "display_name": "R",
   "language": "R",
   "name": "ir"
  },
  "language_info": {
   "codemirror_mode": "r",
   "file_extension": ".r",
   "mimetype": "text/x-r-source",
   "name": "R",
   "pygments_lexer": "r",
   "version": "3.4.3"
  }
 },
 "nbformat": 4,
 "nbformat_minor": 2
}
