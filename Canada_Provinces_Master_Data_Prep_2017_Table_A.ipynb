{
 "cells": [
  {
   "cell_type": "code",
   "execution_count": 1,
   "metadata": {},
   "outputs": [
    {
     "data": {
      "text/plain": [
       "[1] \"2018-08-05 00:50:10 AST\""
      ]
     },
     "metadata": {},
     "output_type": "display_data"
    }
   ],
   "source": [
    "# Must run this notebook from root directory in Anaconda for relative local file paths to work\n",
    "\n",
    "Sys.time() # script start time"
   ]
  },
  {
   "cell_type": "markdown",
   "metadata": {},
   "source": [
    "# Install and attach packages"
   ]
  },
  {
   "cell_type": "code",
   "execution_count": 2,
   "metadata": {},
   "outputs": [],
   "source": [
    "# See note at the end of this notebook regarding the preferred way of installing packages"
   ]
  },
  {
   "cell_type": "code",
   "execution_count": 3,
   "metadata": {},
   "outputs": [
    {
     "name": "stderr",
     "output_type": "stream",
     "text": [
      "-- Attaching packages --------------------------------------- tidyverse 1.2.1 --\n",
      "v ggplot2 2.2.1     v purrr   0.2.4\n",
      "v tibble  1.4.1     v dplyr   0.7.4\n",
      "v tidyr   0.7.2     v stringr 1.2.0\n",
      "v readr   1.1.1     v forcats 0.2.0\n",
      "-- Conflicts ------------------------------------------ tidyverse_conflicts() --\n",
      "x dplyr::filter() masks stats::filter()\n",
      "x dplyr::lag()    masks stats::lag()\n"
     ]
    }
   ],
   "source": [
    "library(tidyverse)"
   ]
  },
  {
   "cell_type": "code",
   "execution_count": 4,
   "metadata": {},
   "outputs": [
    {
     "name": "stderr",
     "output_type": "stream",
     "text": [
      "\n",
      "Attaching package: 'data.table'\n",
      "\n",
      "The following objects are masked from 'package:dplyr':\n",
      "\n",
      "    between, first, last\n",
      "\n",
      "The following object is masked from 'package:purrr':\n",
      "\n",
      "    transpose\n",
      "\n"
     ]
    }
   ],
   "source": [
    "library(data.table)"
   ]
  },
  {
   "cell_type": "code",
   "execution_count": 5,
   "metadata": {},
   "outputs": [],
   "source": [
    "library(stringr)"
   ]
  },
  {
   "cell_type": "code",
   "execution_count": 6,
   "metadata": {},
   "outputs": [
    {
     "name": "stderr",
     "output_type": "stream",
     "text": [
      "Linking to GEOS 3.6.1, GDAL 2.2.0, proj.4 4.9.3\n"
     ]
    }
   ],
   "source": [
    "library(sf) # needed for mapping"
   ]
  },
  {
   "cell_type": "code",
   "execution_count": 7,
   "metadata": {},
   "outputs": [],
   "source": [
    "# install.packages(\"tmap\")\n",
    "# this for some reason can only be installed via install.packages(), but only has to be done once in your environment"
   ]
  },
  {
   "cell_type": "code",
   "execution_count": 8,
   "metadata": {},
   "outputs": [],
   "source": [
    "library(tmap) # needed for mapping"
   ]
  },
  {
   "cell_type": "code",
   "execution_count": 9,
   "metadata": {},
   "outputs": [],
   "source": [
    "# Set default options to display more digits, useful for gps coordinates"
   ]
  },
  {
   "cell_type": "code",
   "execution_count": 10,
   "metadata": {},
   "outputs": [],
   "source": [
    "options(digits=15) # set the visible number of digits to 15, useful when displaying GIS coordinates in dataframes"
   ]
  },
  {
   "cell_type": "code",
   "execution_count": 11,
   "metadata": {},
   "outputs": [
    {
     "data": {
      "text/html": [
       "<strong>$digits</strong> = 15"
      ],
      "text/latex": [
       "\\textbf{\\$digits} = 15"
      ],
      "text/markdown": [
       "**$digits** = 15"
      ],
      "text/plain": [
       "$digits\n",
       "[1] 15\n"
      ]
     },
     "metadata": {},
     "output_type": "display_data"
    }
   ],
   "source": [
    "options(\"digits\") # display the max number of digits that appear in cells of a dataframe"
   ]
  },
  {
   "cell_type": "code",
   "execution_count": 12,
   "metadata": {},
   "outputs": [
    {
     "data": {
      "text/plain": [
       "R version 3.4.3 (2017-11-30)\n",
       "Platform: x86_64-w64-mingw32/x64 (64-bit)\n",
       "Running under: Windows 10 x64 (build 17134)\n",
       "\n",
       "Matrix products: default\n",
       "\n",
       "locale:\n",
       "[1] LC_COLLATE=English_Canada.1252  LC_CTYPE=English_Canada.1252   \n",
       "[3] LC_MONETARY=English_Canada.1252 LC_NUMERIC=C                   \n",
       "[5] LC_TIME=English_Canada.1252    \n",
       "\n",
       "attached base packages:\n",
       "[1] stats     graphics  grDevices utils     datasets  methods   base     \n",
       "\n",
       "other attached packages:\n",
       " [1] tmap_1.10            sf_0.5-5             data.table_1.10.4-3 \n",
       " [4] forcats_0.2.0        stringr_1.2.0        dplyr_0.7.4         \n",
       " [7] purrr_0.2.4          readr_1.1.1          tidyr_0.7.2         \n",
       "[10] tibble_1.4.1         ggplot2_2.2.1        tidyverse_1.2.1     \n",
       "[13] RevoUtils_10.0.8     RevoUtilsMath_10.0.1\n",
       "\n",
       "loaded via a namespace (and not attached):\n",
       "  [1] colorspace_1.3-2   deldir_0.1-14      class_7.3-14      \n",
       "  [4] gdalUtils_2.0.1.7  leaflet_1.1.0      rgdal_1.2-8       \n",
       "  [7] satellite_1.0.0    IRdisplay_0.4.4    base64enc_0.1-3   \n",
       " [10] dichromat_2.0-0    rstudioapi_0.7     lubridate_1.7.1   \n",
       " [13] xml2_1.1.1         R.methodsS3_1.7.1  codetools_0.2-15  \n",
       " [16] splines_3.4.3      mnormt_1.5-5       geojsonlint_0.2.0 \n",
       " [19] IRkernel_0.8.11    jsonlite_1.5       tmaptools_1.2-1   \n",
       " [22] broom_0.4.3        png_0.1-7          R.oo_1.21.0       \n",
       " [25] rgeos_0.3-23       shiny_1.0.5        compiler_3.4.3    \n",
       " [28] httr_1.3.1         mapview_2.1.4      assertthat_0.2.0  \n",
       " [31] Matrix_1.2-12      lazyeval_0.2.1     cli_1.0.0         \n",
       " [34] htmltools_0.3.6    tools_3.4.3        bindrcpp_0.2      \n",
       " [37] coda_0.19-1        gtable_0.2.0       glue_1.2.0        \n",
       " [40] reshape2_1.4.3     gmodels_2.16.2     V8_1.5            \n",
       " [43] Rcpp_0.12.14       cellranger_1.1.0   raster_2.5-8      \n",
       " [46] spdep_0.6-13       gdata_2.18.0       nlme_3.1-131      \n",
       " [49] udunits2_0.13      iterators_1.0.9    crosstalk_1.0.0   \n",
       " [52] psych_1.7.8        rvest_0.3.2        mime_0.5          \n",
       " [55] gtools_3.5.0       XML_3.98-1.9       LearnBayes_2.15   \n",
       " [58] MASS_7.3-47        scales_0.5.0       hms_0.4.0         \n",
       " [61] parallel_3.4.3     expm_0.999-2       RColorBrewer_1.1-2\n",
       " [64] curl_3.1           geosphere_1.5-5    stringi_1.1.6     \n",
       " [67] jsonvalidate_1.0.0 foreach_1.4.5      e1071_1.6-8       \n",
       " [70] boot_1.3-20        repr_0.12.0        rlang_0.1.6       \n",
       " [73] pkgconfig_2.0.1    bitops_1.0-6       evaluate_0.10.1   \n",
       " [76] lattice_0.20-35    bindr_0.1          htmlwidgets_0.9   \n",
       " [79] osmar_1.1-7        plyr_1.8.4         magrittr_1.5      \n",
       " [82] R6_2.2.2           pbdZMQ_0.2-6       DBI_0.7           \n",
       " [85] pillar_1.0.1       haven_1.1.0        foreign_0.8-69    \n",
       " [88] units_0.4-6        RCurl_1.95-4.8     sp_1.2-5          \n",
       " [91] modelr_0.1.1       crayon_1.3.4       rmapshaper_0.3.0  \n",
       " [94] uuid_0.1-2         KernSmooth_2.23-15 grid_3.4.3        \n",
       " [97] readxl_1.0.0       webshot_0.4.1      digest_0.6.13     \n",
       "[100] classInt_0.1-24    xtable_1.8-2       httpuv_1.3.5      \n",
       "[103] R.utils_2.5.0      stats4_3.4.3       munsell_0.4.3     \n",
       "[106] viridisLite_0.2.0 "
      ]
     },
     "metadata": {},
     "output_type": "display_data"
    }
   ],
   "source": [
    "sessionInfo()"
   ]
  },
  {
   "cell_type": "markdown",
   "metadata": {},
   "source": [
    "# Main Script Begins Here"
   ]
  },
  {
   "cell_type": "markdown",
   "metadata": {},
   "source": [
    "## 1. All Shelters (Emergency or Transitional) Across Canada Analysis"
   ]
  },
  {
   "cell_type": "code",
   "execution_count": 13,
   "metadata": {},
   "outputs": [
    {
     "data": {
      "text/plain": [
       "[1] \"2018-08-05 00:50:42 AST\""
      ]
     },
     "metadata": {},
     "output_type": "display_data"
    }
   ],
   "source": [
    "Sys.time() # script start time from body"
   ]
  },
  {
   "cell_type": "code",
   "execution_count": 14,
   "metadata": {},
   "outputs": [],
   "source": [
    "# Import and clean data before analysis"
   ]
  },
  {
   "cell_type": "code",
   "execution_count": 15,
   "metadata": {},
   "outputs": [
    {
     "data": {
      "text/plain": [
       "[1] \"2018-08-05 00:50:43 AST\""
      ]
     },
     "metadata": {},
     "output_type": "display_data"
    },
    {
     "data": {
      "text/plain": [
       "[1] \"2018-08-05 00:50:44 AST\""
      ]
     },
     "metadata": {},
     "output_type": "display_data"
    }
   ],
   "source": [
    "# Import dataset\n",
    "# Homeless Shelters in Canada\n",
    "# Source: https://open.canada.ca/data/en/dataset/7e0189e3-8595-4e62-a4e9-4fed6f265e10\n",
    "# See also: http://publications.gc.ca/collections/collection_2018/edsc-esdc/Em20-91-2018-eng.pdf\n",
    "\n",
    "\n",
    "Sys.time() # start time for reading file\n",
    "f <- function(x, pos) subset(x, \n",
    "                            !is.na(Beds)) # filter out any rows with missing values in the specified column in parenthesis\n",
    "#                           & City == \"Halifax\") # only include rows where the specified condition is met\n",
    "#                           & any other criteria for filtering\n",
    "df <- read_csv_chunked(\"http://www.edsc-esdc.gc.ca/ouvert-open/hps/CDHPD-OpenDataNSPL-DataSet-20170804-ENFR.csv\", \n",
    "                           DataFrameCallback$new(f), \n",
    "                           chunk_size = 50000, # this is an adequate chunk size\n",
    "                           col_names = c(\"ShelterType\", # this renames each column in order to what you specify\n",
    "                                         \"Province\",\n",
    "                                         \"City\",\n",
    "                                         \"TargetPopulation\",\n",
    "                                         \"Gender\",\n",
    "                                         \"ShelterName\",\n",
    "                                         \"Beds\"), # all other columns after this will be dropped\n",
    "                           cols_only( # specify which columns with data types you want to include \n",
    "                                      # to avoid importing unwanted data\n",
    "                                      # include all columns that you specified above with col_names\n",
    "                               \"ShelterType\" = col_character(),\n",
    "                               \"Province\" = col_character(),\n",
    "                               \"City\" = col_character(),\n",
    "                               \"TargetPopulation\" = col_character(),\n",
    "                               \"Gender\" = col_character(),\n",
    "                               \"ShelterName\" = col_character(),\n",
    "                               \"Beds\" = col_number()),\n",
    "                           skip = 1, # skip original column headers\n",
    "                           trim_ws = TRUE) # trim leading and trailing whitespace for each data point\n",
    "Sys.time() # end time for reading file"
   ]
  },
  {
   "cell_type": "code",
   "execution_count": 16,
   "metadata": {},
   "outputs": [
    {
     "name": "stdout",
     "output_type": "stream",
     "text": [
      "Observations: 687\n",
      "Variables: 7\n",
      "$ ShelterType      <chr> \"Emergency\", \"Emergency\", \"Emergency\", \"Emergency\"...\n",
      "$ Province         <chr> \"AB\", \"AB\", \"AB\", \"AB\", \"AB\", \"AB\", \"AB\", \"AB\", \"A...\n",
      "$ City             <chr> \"Calgary\", \"Calgary\", \"Calgary\", \"Calgary\", \"Calga...\n",
      "$ TargetPopulation <chr> \"Family\", \"General\", \"General\", \"General\", \"Genera...\n",
      "$ Gender           <chr> \"Both\", \"Both\", \"Both\", \"Both\", \"Both\", \"Both\", \"F...\n",
      "$ ShelterName      <chr> \"Brenda's House\", \"Calgary Alpha House\", \"Calgary ...\n",
      "$ Beds             <dbl> 60, 120, 270, 975, 11, 370, 12, 6, 80, 25, 15, 5, ...\n"
     ]
    }
   ],
   "source": [
    "glimpse(df)"
   ]
  },
  {
   "cell_type": "code",
   "execution_count": 17,
   "metadata": {},
   "outputs": [],
   "source": [
    "# drop the territories\n",
    "\n",
    "df <- df %>%\n",
    "  filter(!Province %in% c(\"NT\", \"NU\", \"YT\"))"
   ]
  },
  {
   "cell_type": "code",
   "execution_count": 18,
   "metadata": {},
   "outputs": [
    {
     "data": {
      "text/html": [
       "<ol class=list-inline>\n",
       "\t<li>'AB'</li>\n",
       "\t<li>'BC'</li>\n",
       "\t<li>'MB'</li>\n",
       "\t<li>'NB'</li>\n",
       "\t<li>'NL'</li>\n",
       "\t<li>'NS'</li>\n",
       "\t<li>'ON'</li>\n",
       "\t<li>'PI'</li>\n",
       "\t<li>'QC'</li>\n",
       "\t<li>'SK'</li>\n",
       "</ol>\n"
      ],
      "text/latex": [
       "\\begin{enumerate*}\n",
       "\\item 'AB'\n",
       "\\item 'BC'\n",
       "\\item 'MB'\n",
       "\\item 'NB'\n",
       "\\item 'NL'\n",
       "\\item 'NS'\n",
       "\\item 'ON'\n",
       "\\item 'PI'\n",
       "\\item 'QC'\n",
       "\\item 'SK'\n",
       "\\end{enumerate*}\n"
      ],
      "text/markdown": [
       "1. 'AB'\n",
       "2. 'BC'\n",
       "3. 'MB'\n",
       "4. 'NB'\n",
       "5. 'NL'\n",
       "6. 'NS'\n",
       "7. 'ON'\n",
       "8. 'PI'\n",
       "9. 'QC'\n",
       "10. 'SK'\n",
       "\n",
       "\n"
      ],
      "text/plain": [
       " [1] \"AB\" \"BC\" \"MB\" \"NB\" \"NL\" \"NS\" \"ON\" \"PI\" \"QC\" \"SK\""
      ]
     },
     "metadata": {},
     "output_type": "display_data"
    }
   ],
   "source": [
    "unique(df$Province)"
   ]
  },
  {
   "cell_type": "code",
   "execution_count": 19,
   "metadata": {},
   "outputs": [],
   "source": [
    "# Always rename the columns to remove spaces and special characters if you haven't already from read_csv_chunked\n",
    "# This avoids any potential problems R may encounter with different packages if not taken care of properly right away\n",
    "\n",
    "# colnames(df) <- c(\" \", \" \")"
   ]
  },
  {
   "cell_type": "code",
   "execution_count": 20,
   "metadata": {},
   "outputs": [],
   "source": [
    "# Always set the variable types next for each column and drop any unnecessary columns\n",
    "# if you haven't already from read_csv_chunked, or need to change characters to factors\n",
    "# use as.numeric() and as.factor() where appropriate\n",
    "# df$column_name <- NULL will delete that column from the dataframe\n",
    "\n",
    "df$ShelterType <- as.factor(df$ShelterType)\n",
    "df$Province <- as.factor(df$Province)\n",
    "df$City <- as.factor(df$City)\n",
    "df$TargetPopulation <- as.factor(df$TargetPopulation)\n",
    "df$Gender <- as.factor(df$Gender)"
   ]
  },
  {
   "cell_type": "code",
   "execution_count": 21,
   "metadata": {},
   "outputs": [
    {
     "name": "stdout",
     "output_type": "stream",
     "text": [
      "Observations: 676\n",
      "Variables: 7\n",
      "$ ShelterType      <fctr> Emergency, Emergency, Emergency, Emergency, Emerg...\n",
      "$ Province         <fctr> AB, AB, AB, AB, AB, AB, AB, AB, AB, AB, AB, AB, A...\n",
      "$ City             <fctr> Calgary, Calgary, Calgary, Calgary, Calgary, Calg...\n",
      "$ TargetPopulation <fctr> Family, General, General, General, General, Gener...\n",
      "$ Gender           <fctr> Both, Both, Both, Both, Both, Both, Female, Femal...\n",
      "$ ShelterName      <chr> \"Brenda's House\", \"Calgary Alpha House\", \"Calgary ...\n",
      "$ Beds             <dbl> 60, 120, 270, 975, 11, 370, 12, 6, 80, 25, 15, 5, ...\n"
     ]
    },
    {
     "data": {
      "text/html": [
       "<table>\n",
       "<thead><tr><th scope=col>ShelterType</th><th scope=col>Province</th><th scope=col>City</th><th scope=col>TargetPopulation</th><th scope=col>Gender</th><th scope=col>ShelterName</th><th scope=col>Beds</th></tr></thead>\n",
       "<tbody>\n",
       "\t<tr><td>Emergency                                           </td><td>AB                                                  </td><td>Calgary                                             </td><td>Family                                              </td><td>Both                                                </td><td>Brenda's House                                      </td><td> 60                                                 </td></tr>\n",
       "\t<tr><td>Emergency                                           </td><td>AB                                                  </td><td>Calgary                                             </td><td>General                                             </td><td>Both                                                </td><td>Calgary Alpha House                                 </td><td>120                                                 </td></tr>\n",
       "\t<tr><td>Emergency                                           </td><td>AB                                                  </td><td>Calgary                                             </td><td>General                                             </td><td>Both                                                </td><td>Calgary Drop In Centre - Centre 2507                </td><td>270                                                 </td></tr>\n",
       "\t<tr><td>Emergency                                           </td><td>AB                                                  </td><td>Calgary                                             </td><td>General                                             </td><td>Both                                                </td><td>Drop In and Rehab Centre                            </td><td>975                                                 </td></tr>\n",
       "\t<tr><td>Emergency                                           </td><td>AB                                                  </td><td>Calgary                                             </td><td>General                                             </td><td>Both                                                </td><td>Kerby Rotary Shelter                                </td><td> 11                                                 </td></tr>\n",
       "\t<tr><td>Emergency                                           </td><td>AB                                                  </td><td>Calgary                                             </td><td>General                                             </td><td>Both                                                </td><td>The Mustard Seed Shelter                            </td><td>370                                                 </td></tr>\n",
       "\t<tr><td>Emergency                                           </td><td>AB                                                  </td><td>Calgary                                             </td><td>General                                             </td><td>Female                                              </td><td>Wagner Place                                        </td><td> 12                                                 </td></tr>\n",
       "\t<tr><td>Emergency                                           </td><td>AB                                                  </td><td>Calgary                                             </td><td>General                                             </td><td>Female                                              </td><td>YWCA Mary Dover House Refuge d'urgence Beds         </td><td>  6                                                 </td></tr>\n",
       "\t<tr><td>Emergency                                           </td><td>AB                                                  </td><td>Calgary                                             </td><td>General                                             </td><td>Male                                                </td><td>The Salvation Army - Centre Of Hope Refuge d'urgence</td><td> 80                                                 </td></tr>\n",
       "\t<tr><td>Emergency                                           </td><td>AB                                                  </td><td>Calgary                                             </td><td>Youth                                               </td><td>Both                                                </td><td>Boys and Girls Club - Avenue 15 Youth Shelter       </td><td> 25                                                 </td></tr>\n",
       "\t<tr><td>Emergency                                           </td><td>AB                                                  </td><td>Calgary                                             </td><td>Youth                                               </td><td>Both                                                </td><td>EXIT Youth Shelter                                  </td><td> 15                                                 </td></tr>\n",
       "\t<tr><td>Emergency                                           </td><td>AB                                                  </td><td>Calgary                                             </td><td>Youth                                               </td><td>Both                                                </td><td>Mcman - Wellington Place Refuge d'urgence           </td><td>  5                                                 </td></tr>\n",
       "\t<tr><td>Transitional                                        </td><td>AB                                                  </td><td>Calgary                                             </td><td>Family                                              </td><td>Both                                                </td><td>Rainbow Lodge                                       </td><td> 96                                                 </td></tr>\n",
       "\t<tr><td>Transitional                                        </td><td>AB                                                  </td><td>Calgary                                             </td><td>General                                             </td><td>Both                                                </td><td>1835 House                                          </td><td> 30                                                 </td></tr>\n",
       "\t<tr><td>Transitional                                        </td><td>AB                                                  </td><td>Calgary                                             </td><td>General                                             </td><td>Both                                                </td><td>Aspen Apartments Transitional                       </td><td> 11                                                 </td></tr>\n",
       "\t<tr><td>Transitional                                        </td><td>AB                                                  </td><td>Calgary                                             </td><td>General                                             </td><td>Both                                                </td><td>Kerby Rotary Transitional                           </td><td>  6                                                 </td></tr>\n",
       "\t<tr><td>Transitional                                        </td><td>AB                                                  </td><td>Calgary                                             </td><td>General                                             </td><td>Both                                                </td><td>Step Up                                             </td><td> 18                                                 </td></tr>\n",
       "\t<tr><td>Transitional                                        </td><td>AB                                                  </td><td>Calgary                                             </td><td>General                                             </td><td>Female                                              </td><td>Youville Residence Society of Alberta               </td><td> 37                                                 </td></tr>\n",
       "\t<tr><td>Transitional                                        </td><td>AB                                                  </td><td>Calgary                                             </td><td>General                                             </td><td>Female                                              </td><td>YWCA - Mary Dover House                             </td><td> 94                                                 </td></tr>\n",
       "\t<tr><td>Transitional                                        </td><td>AB                                                  </td><td>Calgary                                             </td><td>General                                             </td><td>Male                                                </td><td>Calgary Dream Centre                                </td><td>125                                                 </td></tr>\n",
       "\t<tr><td>Transitional                                        </td><td>AB                                                  </td><td>Calgary                                             </td><td>Youth                                               </td><td>Both                                                </td><td>Boys and Girls Club - Safe House                    </td><td>  9                                                 </td></tr>\n",
       "\t<tr><td>Transitional                                        </td><td>AB                                                  </td><td>Calgary                                             </td><td>Youth                                               </td><td>Both                                                </td><td>John Howard Society - Raido House Transitional      </td><td>  8                                                 </td></tr>\n",
       "\t<tr><td>Transitional                                        </td><td>AB                                                  </td><td>Calgary                                             </td><td>Youth                                               </td><td>Both                                                </td><td>Mcman - Hope Homes for Aboriginal Youth             </td><td>  7                                                 </td></tr>\n",
       "\t<tr><td>Transitional                                        </td><td>AB                                                  </td><td>Calgary                                             </td><td>Youth                                               </td><td>Both                                                </td><td>Mcman - Wellington Place Transitional               </td><td>  4                                                 </td></tr>\n",
       "\t<tr><td>Transitional                                        </td><td>AB                                                  </td><td>Calgary                                             </td><td>Youth                                               </td><td>Female                                              </td><td>Boys and Girls Club - Haven's Way                   </td><td>  6                                                 </td></tr>\n",
       "\t<tr><td>Emergency                                           </td><td>AB                                                  </td><td>Edmonton                                            </td><td>General                                             </td><td>Both                                                </td><td>George Spady Centre Detox                           </td><td> 27                                                 </td></tr>\n",
       "\t<tr><td>Emergency                                           </td><td>AB                                                  </td><td>Edmonton                                            </td><td>General                                             </td><td>Both                                                </td><td>George Spady Centre Overnight Shelter               </td><td> 60                                                 </td></tr>\n",
       "\t<tr><td>Emergency                                           </td><td>AB                                                  </td><td>Edmonton                                            </td><td>General                                             </td><td>Both                                                </td><td>Hope Mission - Intox                                </td><td> 70                                                 </td></tr>\n",
       "\t<tr><td>Emergency                                           </td><td>AB                                                  </td><td>Edmonton                                            </td><td>General                                             </td><td>Both                                                </td><td>Hope Mission - Mat Program                          </td><td>150                                                 </td></tr>\n",
       "\t<tr><td>Emergency                                           </td><td>AB                                                  </td><td>Edmonton                                            </td><td>General                                             </td><td>Female                                              </td><td>E4C Women's Refuge d'urgence Accommodation Centre   </td><td> 66                                                 </td></tr>\n",
       "\t<tr><td>...</td><td>...</td><td>...</td><td>...</td><td>...</td><td>...</td><td>...</td></tr>\n",
       "\t<tr><td>Transitional                                            </td><td>SK                                                      </td><td>Regina                                                  </td><td>General                                                 </td><td>Female                                                  </td><td>SHRM Shayil Home (Life Change Program)                  </td><td> 9                                                      </td></tr>\n",
       "\t<tr><td>Transitional                                            </td><td>SK                                                      </td><td>Regina                                                  </td><td>General                                                 </td><td>Male                                                    </td><td>Waterston House                                         </td><td>40                                                      </td></tr>\n",
       "\t<tr><td>Transitional                                            </td><td>SK                                                      </td><td>Regina                                                  </td><td>General                                                 </td><td>Male                                                    </td><td>YMCA Residence                                          </td><td>12                                                      </td></tr>\n",
       "\t<tr><td>Transitional                                            </td><td>SK                                                      </td><td>Regina                                                  </td><td>Youth                                                   </td><td>Both                                                    </td><td>Dale's House                                            </td><td>15                                                      </td></tr>\n",
       "\t<tr><td>Transitional                                            </td><td>SK                                                      </td><td>Regina                                                  </td><td>Youth                                                   </td><td>Female                                                  </td><td>D.O.C.S. Place                                          </td><td> 6                                                      </td></tr>\n",
       "\t<tr><td>Transitional                                            </td><td>SK                                                      </td><td>Regina                                                  </td><td>Youth                                                   </td><td>Female                                                  </td><td>The Salvation Army Gemma House                          </td><td> 4                                                      </td></tr>\n",
       "\t<tr><td>Transitional                                            </td><td>SK                                                      </td><td>Regina                                                  </td><td>Youth                                                   </td><td>Female                                                  </td><td>W.E.N.D.Y's House                                       </td><td> 6                                                      </td></tr>\n",
       "\t<tr><td>Emergency                                               </td><td>SK                                                      </td><td>Saskatoon                                               </td><td>General                                                 </td><td>Both                                                    </td><td>Lighthouse Supported Living Inc - Stabilization Shelter </td><td>20                                                      </td></tr>\n",
       "\t<tr><td>Emergency                                               </td><td>SK                                                      </td><td>Saskatoon                                               </td><td>General                                                 </td><td>Female                                                  </td><td>Infinity House Refuge d'urgence                         </td><td>13                                                      </td></tr>\n",
       "\t<tr><td>Emergency                                               </td><td>SK                                                      </td><td>Saskatoon                                               </td><td>General                                                 </td><td>Female                                                  </td><td>Lighthouse Supported Living Inc Refuge d'urgence - Women</td><td>20                                                      </td></tr>\n",
       "\t<tr><td>Emergency                                               </td><td>SK                                                      </td><td>Saskatoon                                               </td><td>General                                                 </td><td>Female                                                  </td><td>Mumford House                                           </td><td>36                                                      </td></tr>\n",
       "\t<tr><td>Emergency                                               </td><td>SK                                                      </td><td>Saskatoon                                               </td><td>General                                                 </td><td>Female                                                  </td><td>YWCA Crisis Shelter                                     </td><td>22                                                      </td></tr>\n",
       "\t<tr><td>Emergency                                               </td><td>SK                                                      </td><td>Saskatoon                                               </td><td>General                                                 </td><td>Male                                                    </td><td>Lighthouse Supported Living Inc Refuge d'urgence - Men  </td><td>17                                                      </td></tr>\n",
       "\t<tr><td>Emergency                                               </td><td>SK                                                      </td><td>Saskatoon                                               </td><td>General                                                 </td><td>Male                                                    </td><td>SCC Men's Hostel - Noah's Ark                           </td><td>35                                                      </td></tr>\n",
       "\t<tr><td>Emergency                                               </td><td>SK                                                      </td><td>Saskatoon                                               </td><td>Youth                                                   </td><td>Both                                                    </td><td>STC Urban Safe House                                    </td><td> 5                                                      </td></tr>\n",
       "\t<tr><td>Emergency                                               </td><td>SK                                                      </td><td>Saskatoon                                               </td><td>Youth                                                   </td><td>Female                                                  </td><td>YWCA Saskatoon Youth Program - 3rd Floor                </td><td> 4                                                      </td></tr>\n",
       "\t<tr><td>Emergency                                               </td><td>SK                                                      </td><td>Saskatoon                                               </td><td>Youth                                                   </td><td>Male                                                    </td><td>SCC Youth                                               </td><td> 2                                                      </td></tr>\n",
       "\t<tr><td>Transitional                                            </td><td>SK                                                      </td><td>Saskatoon                                               </td><td>Family                                                  </td><td>Both                                                    </td><td>Infinity House                                          </td><td>16                                                      </td></tr>\n",
       "\t<tr><td>Transitional                                            </td><td>SK                                                      </td><td>Saskatoon                                               </td><td>General                                                 </td><td>Both                                                    </td><td>Shirley Skelton Manor                                   </td><td>20                                                      </td></tr>\n",
       "\t<tr><td>Transitional                                            </td><td>SK                                                      </td><td>Saskatoon                                               </td><td>General                                                 </td><td>Female                                                  </td><td>YWCA Saskatoon Turning Points                           </td><td>15                                                      </td></tr>\n",
       "\t<tr><td>Transitional                                            </td><td>SK                                                      </td><td>Saskatoon                                               </td><td>General                                                 </td><td>Male                                                    </td><td>Long term residents                                     </td><td> 9                                                      </td></tr>\n",
       "\t<tr><td>Transitional                                            </td><td>SK                                                      </td><td>Saskatoon                                               </td><td>General                                                 </td><td>Male                                                    </td><td>McLeod House                                            </td><td>16                                                      </td></tr>\n",
       "\t<tr><td>Transitional                                            </td><td>SK                                                      </td><td>Saskatoon                                               </td><td>General                                                 </td><td>Male                                                    </td><td>SCC Transitional Housing                                </td><td>12                                                      </td></tr>\n",
       "\t<tr><td>Transitional                                            </td><td>SK                                                      </td><td>Saskatoon                                               </td><td>Youth                                                   </td><td>Female                                                  </td><td>Bethany Home                                            </td><td>10                                                      </td></tr>\n",
       "\t<tr><td>Transitional                                            </td><td>SK                                                      </td><td>Saskatoon                                               </td><td>Youth                                                   </td><td>Female                                                  </td><td>YWCA Saskatoon Margaret's Place                         </td><td> 4                                                      </td></tr>\n",
       "\t<tr><td>Transitional                                            </td><td>SK                                                      </td><td>Saskatoon                                               </td><td>Youth                                                   </td><td>Male                                                    </td><td>Basswood House                                          </td><td> 5                                                      </td></tr>\n",
       "\t<tr><td>Transitional                                            </td><td>SK                                                      </td><td>Saskatoon                                               </td><td>Youth                                                   </td><td>Male                                                    </td><td>Cedar House                                             </td><td> 5                                                      </td></tr>\n",
       "\t<tr><td>Transitional                                            </td><td>SK                                                      </td><td>Saskatoon                                               </td><td>Youth                                                   </td><td>Male                                                    </td><td>Jay's Place                                             </td><td> 5                                                      </td></tr>\n",
       "\t<tr><td>Transitional                                            </td><td>SK                                                      </td><td>Saskatoon                                               </td><td>Youth                                                   </td><td>Male                                                    </td><td>Pine Place                                              </td><td> 5                                                      </td></tr>\n",
       "\t<tr><td>Transitional                                            </td><td>SK                                                      </td><td>Saskatoon                                               </td><td>Youth                                                   </td><td>Male                                                    </td><td>Quint Male Youth Lodge                                  </td><td>10                                                      </td></tr>\n",
       "</tbody>\n",
       "</table>\n"
      ],
      "text/latex": [
       "\\begin{tabular}{r|lllllll}\n",
       " ShelterType & Province & City & TargetPopulation & Gender & ShelterName & Beds\\\\\n",
       "\\hline\n",
       "\t Emergency                                            & AB                                                   & Calgary                                              & Family                                               & Both                                                 & Brenda's House                                       &  60                                                 \\\\\n",
       "\t Emergency                                            & AB                                                   & Calgary                                              & General                                              & Both                                                 & Calgary Alpha House                                  & 120                                                 \\\\\n",
       "\t Emergency                                            & AB                                                   & Calgary                                              & General                                              & Both                                                 & Calgary Drop In Centre - Centre 2507                 & 270                                                 \\\\\n",
       "\t Emergency                                            & AB                                                   & Calgary                                              & General                                              & Both                                                 & Drop In and Rehab Centre                             & 975                                                 \\\\\n",
       "\t Emergency                                            & AB                                                   & Calgary                                              & General                                              & Both                                                 & Kerby Rotary Shelter                                 &  11                                                 \\\\\n",
       "\t Emergency                                            & AB                                                   & Calgary                                              & General                                              & Both                                                 & The Mustard Seed Shelter                             & 370                                                 \\\\\n",
       "\t Emergency                                            & AB                                                   & Calgary                                              & General                                              & Female                                               & Wagner Place                                         &  12                                                 \\\\\n",
       "\t Emergency                                            & AB                                                   & Calgary                                              & General                                              & Female                                               & YWCA Mary Dover House Refuge d'urgence Beds          &   6                                                 \\\\\n",
       "\t Emergency                                            & AB                                                   & Calgary                                              & General                                              & Male                                                 & The Salvation Army - Centre Of Hope Refuge d'urgence &  80                                                 \\\\\n",
       "\t Emergency                                            & AB                                                   & Calgary                                              & Youth                                                & Both                                                 & Boys and Girls Club - Avenue 15 Youth Shelter        &  25                                                 \\\\\n",
       "\t Emergency                                            & AB                                                   & Calgary                                              & Youth                                                & Both                                                 & EXIT Youth Shelter                                   &  15                                                 \\\\\n",
       "\t Emergency                                            & AB                                                   & Calgary                                              & Youth                                                & Both                                                 & Mcman - Wellington Place Refuge d'urgence            &   5                                                 \\\\\n",
       "\t Transitional                                         & AB                                                   & Calgary                                              & Family                                               & Both                                                 & Rainbow Lodge                                        &  96                                                 \\\\\n",
       "\t Transitional                                         & AB                                                   & Calgary                                              & General                                              & Both                                                 & 1835 House                                           &  30                                                 \\\\\n",
       "\t Transitional                                         & AB                                                   & Calgary                                              & General                                              & Both                                                 & Aspen Apartments Transitional                        &  11                                                 \\\\\n",
       "\t Transitional                                         & AB                                                   & Calgary                                              & General                                              & Both                                                 & Kerby Rotary Transitional                            &   6                                                 \\\\\n",
       "\t Transitional                                         & AB                                                   & Calgary                                              & General                                              & Both                                                 & Step Up                                              &  18                                                 \\\\\n",
       "\t Transitional                                         & AB                                                   & Calgary                                              & General                                              & Female                                               & Youville Residence Society of Alberta                &  37                                                 \\\\\n",
       "\t Transitional                                         & AB                                                   & Calgary                                              & General                                              & Female                                               & YWCA - Mary Dover House                              &  94                                                 \\\\\n",
       "\t Transitional                                         & AB                                                   & Calgary                                              & General                                              & Male                                                 & Calgary Dream Centre                                 & 125                                                 \\\\\n",
       "\t Transitional                                         & AB                                                   & Calgary                                              & Youth                                                & Both                                                 & Boys and Girls Club - Safe House                     &   9                                                 \\\\\n",
       "\t Transitional                                         & AB                                                   & Calgary                                              & Youth                                                & Both                                                 & John Howard Society - Raido House Transitional       &   8                                                 \\\\\n",
       "\t Transitional                                         & AB                                                   & Calgary                                              & Youth                                                & Both                                                 & Mcman - Hope Homes for Aboriginal Youth              &   7                                                 \\\\\n",
       "\t Transitional                                         & AB                                                   & Calgary                                              & Youth                                                & Both                                                 & Mcman - Wellington Place Transitional                &   4                                                 \\\\\n",
       "\t Transitional                                         & AB                                                   & Calgary                                              & Youth                                                & Female                                               & Boys and Girls Club - Haven's Way                    &   6                                                 \\\\\n",
       "\t Emergency                                            & AB                                                   & Edmonton                                             & General                                              & Both                                                 & George Spady Centre Detox                            &  27                                                 \\\\\n",
       "\t Emergency                                            & AB                                                   & Edmonton                                             & General                                              & Both                                                 & George Spady Centre Overnight Shelter                &  60                                                 \\\\\n",
       "\t Emergency                                            & AB                                                   & Edmonton                                             & General                                              & Both                                                 & Hope Mission - Intox                                 &  70                                                 \\\\\n",
       "\t Emergency                                            & AB                                                   & Edmonton                                             & General                                              & Both                                                 & Hope Mission - Mat Program                           & 150                                                 \\\\\n",
       "\t Emergency                                            & AB                                                   & Edmonton                                             & General                                              & Female                                               & E4C Women's Refuge d'urgence Accommodation Centre    &  66                                                 \\\\\n",
       "\t ... & ... & ... & ... & ... & ... & ...\\\\\n",
       "\t Transitional                                             & SK                                                       & Regina                                                   & General                                                  & Female                                                   & SHRM Shayil Home (Life Change Program)                   &  9                                                      \\\\\n",
       "\t Transitional                                             & SK                                                       & Regina                                                   & General                                                  & Male                                                     & Waterston House                                          & 40                                                      \\\\\n",
       "\t Transitional                                             & SK                                                       & Regina                                                   & General                                                  & Male                                                     & YMCA Residence                                           & 12                                                      \\\\\n",
       "\t Transitional                                             & SK                                                       & Regina                                                   & Youth                                                    & Both                                                     & Dale's House                                             & 15                                                      \\\\\n",
       "\t Transitional                                             & SK                                                       & Regina                                                   & Youth                                                    & Female                                                   & D.O.C.S. Place                                           &  6                                                      \\\\\n",
       "\t Transitional                                             & SK                                                       & Regina                                                   & Youth                                                    & Female                                                   & The Salvation Army Gemma House                           &  4                                                      \\\\\n",
       "\t Transitional                                             & SK                                                       & Regina                                                   & Youth                                                    & Female                                                   & W.E.N.D.Y's House                                        &  6                                                      \\\\\n",
       "\t Emergency                                                & SK                                                       & Saskatoon                                                & General                                                  & Both                                                     & Lighthouse Supported Living Inc - Stabilization Shelter  & 20                                                      \\\\\n",
       "\t Emergency                                                & SK                                                       & Saskatoon                                                & General                                                  & Female                                                   & Infinity House Refuge d'urgence                          & 13                                                      \\\\\n",
       "\t Emergency                                                & SK                                                       & Saskatoon                                                & General                                                  & Female                                                   & Lighthouse Supported Living Inc Refuge d'urgence - Women & 20                                                      \\\\\n",
       "\t Emergency                                                & SK                                                       & Saskatoon                                                & General                                                  & Female                                                   & Mumford House                                            & 36                                                      \\\\\n",
       "\t Emergency                                                & SK                                                       & Saskatoon                                                & General                                                  & Female                                                   & YWCA Crisis Shelter                                      & 22                                                      \\\\\n",
       "\t Emergency                                                & SK                                                       & Saskatoon                                                & General                                                  & Male                                                     & Lighthouse Supported Living Inc Refuge d'urgence - Men   & 17                                                      \\\\\n",
       "\t Emergency                                                & SK                                                       & Saskatoon                                                & General                                                  & Male                                                     & SCC Men's Hostel - Noah's Ark                            & 35                                                      \\\\\n",
       "\t Emergency                                                & SK                                                       & Saskatoon                                                & Youth                                                    & Both                                                     & STC Urban Safe House                                     &  5                                                      \\\\\n",
       "\t Emergency                                                & SK                                                       & Saskatoon                                                & Youth                                                    & Female                                                   & YWCA Saskatoon Youth Program - 3rd Floor                 &  4                                                      \\\\\n",
       "\t Emergency                                                & SK                                                       & Saskatoon                                                & Youth                                                    & Male                                                     & SCC Youth                                                &  2                                                      \\\\\n",
       "\t Transitional                                             & SK                                                       & Saskatoon                                                & Family                                                   & Both                                                     & Infinity House                                           & 16                                                      \\\\\n",
       "\t Transitional                                             & SK                                                       & Saskatoon                                                & General                                                  & Both                                                     & Shirley Skelton Manor                                    & 20                                                      \\\\\n",
       "\t Transitional                                             & SK                                                       & Saskatoon                                                & General                                                  & Female                                                   & YWCA Saskatoon Turning Points                            & 15                                                      \\\\\n",
       "\t Transitional                                             & SK                                                       & Saskatoon                                                & General                                                  & Male                                                     & Long term residents                                      &  9                                                      \\\\\n",
       "\t Transitional                                             & SK                                                       & Saskatoon                                                & General                                                  & Male                                                     & McLeod House                                             & 16                                                      \\\\\n",
       "\t Transitional                                             & SK                                                       & Saskatoon                                                & General                                                  & Male                                                     & SCC Transitional Housing                                 & 12                                                      \\\\\n",
       "\t Transitional                                             & SK                                                       & Saskatoon                                                & Youth                                                    & Female                                                   & Bethany Home                                             & 10                                                      \\\\\n",
       "\t Transitional                                             & SK                                                       & Saskatoon                                                & Youth                                                    & Female                                                   & YWCA Saskatoon Margaret's Place                          &  4                                                      \\\\\n",
       "\t Transitional                                             & SK                                                       & Saskatoon                                                & Youth                                                    & Male                                                     & Basswood House                                           &  5                                                      \\\\\n",
       "\t Transitional                                             & SK                                                       & Saskatoon                                                & Youth                                                    & Male                                                     & Cedar House                                              &  5                                                      \\\\\n",
       "\t Transitional                                             & SK                                                       & Saskatoon                                                & Youth                                                    & Male                                                     & Jay's Place                                              &  5                                                      \\\\\n",
       "\t Transitional                                             & SK                                                       & Saskatoon                                                & Youth                                                    & Male                                                     & Pine Place                                               &  5                                                      \\\\\n",
       "\t Transitional                                             & SK                                                       & Saskatoon                                                & Youth                                                    & Male                                                     & Quint Male Youth Lodge                                   & 10                                                      \\\\\n",
       "\\end{tabular}\n"
      ],
      "text/markdown": [
       "\n",
       "ShelterType | Province | City | TargetPopulation | Gender | ShelterName | Beds | \n",
       "|---|---|---|---|---|---|---|---|---|---|---|---|---|---|---|---|---|---|---|---|---|---|---|---|---|---|---|---|---|---|---|---|---|---|---|---|---|---|---|---|---|---|---|---|---|---|---|---|---|---|---|---|---|---|---|---|---|---|---|---|---|\n",
       "| Emergency                                            | AB                                                   | Calgary                                              | Family                                               | Both                                                 | Brenda's House                                       |  60                                                  | \n",
       "| Emergency                                            | AB                                                   | Calgary                                              | General                                              | Both                                                 | Calgary Alpha House                                  | 120                                                  | \n",
       "| Emergency                                            | AB                                                   | Calgary                                              | General                                              | Both                                                 | Calgary Drop In Centre - Centre 2507                 | 270                                                  | \n",
       "| Emergency                                            | AB                                                   | Calgary                                              | General                                              | Both                                                 | Drop In and Rehab Centre                             | 975                                                  | \n",
       "| Emergency                                            | AB                                                   | Calgary                                              | General                                              | Both                                                 | Kerby Rotary Shelter                                 |  11                                                  | \n",
       "| Emergency                                            | AB                                                   | Calgary                                              | General                                              | Both                                                 | The Mustard Seed Shelter                             | 370                                                  | \n",
       "| Emergency                                            | AB                                                   | Calgary                                              | General                                              | Female                                               | Wagner Place                                         |  12                                                  | \n",
       "| Emergency                                            | AB                                                   | Calgary                                              | General                                              | Female                                               | YWCA Mary Dover House Refuge d'urgence Beds          |   6                                                  | \n",
       "| Emergency                                            | AB                                                   | Calgary                                              | General                                              | Male                                                 | The Salvation Army - Centre Of Hope Refuge d'urgence |  80                                                  | \n",
       "| Emergency                                            | AB                                                   | Calgary                                              | Youth                                                | Both                                                 | Boys and Girls Club - Avenue 15 Youth Shelter        |  25                                                  | \n",
       "| Emergency                                            | AB                                                   | Calgary                                              | Youth                                                | Both                                                 | EXIT Youth Shelter                                   |  15                                                  | \n",
       "| Emergency                                            | AB                                                   | Calgary                                              | Youth                                                | Both                                                 | Mcman - Wellington Place Refuge d'urgence            |   5                                                  | \n",
       "| Transitional                                         | AB                                                   | Calgary                                              | Family                                               | Both                                                 | Rainbow Lodge                                        |  96                                                  | \n",
       "| Transitional                                         | AB                                                   | Calgary                                              | General                                              | Both                                                 | 1835 House                                           |  30                                                  | \n",
       "| Transitional                                         | AB                                                   | Calgary                                              | General                                              | Both                                                 | Aspen Apartments Transitional                        |  11                                                  | \n",
       "| Transitional                                         | AB                                                   | Calgary                                              | General                                              | Both                                                 | Kerby Rotary Transitional                            |   6                                                  | \n",
       "| Transitional                                         | AB                                                   | Calgary                                              | General                                              | Both                                                 | Step Up                                              |  18                                                  | \n",
       "| Transitional                                         | AB                                                   | Calgary                                              | General                                              | Female                                               | Youville Residence Society of Alberta                |  37                                                  | \n",
       "| Transitional                                         | AB                                                   | Calgary                                              | General                                              | Female                                               | YWCA - Mary Dover House                              |  94                                                  | \n",
       "| Transitional                                         | AB                                                   | Calgary                                              | General                                              | Male                                                 | Calgary Dream Centre                                 | 125                                                  | \n",
       "| Transitional                                         | AB                                                   | Calgary                                              | Youth                                                | Both                                                 | Boys and Girls Club - Safe House                     |   9                                                  | \n",
       "| Transitional                                         | AB                                                   | Calgary                                              | Youth                                                | Both                                                 | John Howard Society - Raido House Transitional       |   8                                                  | \n",
       "| Transitional                                         | AB                                                   | Calgary                                              | Youth                                                | Both                                                 | Mcman - Hope Homes for Aboriginal Youth              |   7                                                  | \n",
       "| Transitional                                         | AB                                                   | Calgary                                              | Youth                                                | Both                                                 | Mcman - Wellington Place Transitional                |   4                                                  | \n",
       "| Transitional                                         | AB                                                   | Calgary                                              | Youth                                                | Female                                               | Boys and Girls Club - Haven's Way                    |   6                                                  | \n",
       "| Emergency                                            | AB                                                   | Edmonton                                             | General                                              | Both                                                 | George Spady Centre Detox                            |  27                                                  | \n",
       "| Emergency                                            | AB                                                   | Edmonton                                             | General                                              | Both                                                 | George Spady Centre Overnight Shelter                |  60                                                  | \n",
       "| Emergency                                            | AB                                                   | Edmonton                                             | General                                              | Both                                                 | Hope Mission - Intox                                 |  70                                                  | \n",
       "| Emergency                                            | AB                                                   | Edmonton                                             | General                                              | Both                                                 | Hope Mission - Mat Program                           | 150                                                  | \n",
       "| Emergency                                            | AB                                                   | Edmonton                                             | General                                              | Female                                               | E4C Women's Refuge d'urgence Accommodation Centre    |  66                                                  | \n",
       "| ... | ... | ... | ... | ... | ... | ... | \n",
       "| Transitional                                             | SK                                                       | Regina                                                   | General                                                  | Female                                                   | SHRM Shayil Home (Life Change Program)                   |  9                                                       | \n",
       "| Transitional                                             | SK                                                       | Regina                                                   | General                                                  | Male                                                     | Waterston House                                          | 40                                                       | \n",
       "| Transitional                                             | SK                                                       | Regina                                                   | General                                                  | Male                                                     | YMCA Residence                                           | 12                                                       | \n",
       "| Transitional                                             | SK                                                       | Regina                                                   | Youth                                                    | Both                                                     | Dale's House                                             | 15                                                       | \n",
       "| Transitional                                             | SK                                                       | Regina                                                   | Youth                                                    | Female                                                   | D.O.C.S. Place                                           |  6                                                       | \n",
       "| Transitional                                             | SK                                                       | Regina                                                   | Youth                                                    | Female                                                   | The Salvation Army Gemma House                           |  4                                                       | \n",
       "| Transitional                                             | SK                                                       | Regina                                                   | Youth                                                    | Female                                                   | W.E.N.D.Y's House                                        |  6                                                       | \n",
       "| Emergency                                                | SK                                                       | Saskatoon                                                | General                                                  | Both                                                     | Lighthouse Supported Living Inc - Stabilization Shelter  | 20                                                       | \n",
       "| Emergency                                                | SK                                                       | Saskatoon                                                | General                                                  | Female                                                   | Infinity House Refuge d'urgence                          | 13                                                       | \n",
       "| Emergency                                                | SK                                                       | Saskatoon                                                | General                                                  | Female                                                   | Lighthouse Supported Living Inc Refuge d'urgence - Women | 20                                                       | \n",
       "| Emergency                                                | SK                                                       | Saskatoon                                                | General                                                  | Female                                                   | Mumford House                                            | 36                                                       | \n",
       "| Emergency                                                | SK                                                       | Saskatoon                                                | General                                                  | Female                                                   | YWCA Crisis Shelter                                      | 22                                                       | \n",
       "| Emergency                                                | SK                                                       | Saskatoon                                                | General                                                  | Male                                                     | Lighthouse Supported Living Inc Refuge d'urgence - Men   | 17                                                       | \n",
       "| Emergency                                                | SK                                                       | Saskatoon                                                | General                                                  | Male                                                     | SCC Men's Hostel - Noah's Ark                            | 35                                                       | \n",
       "| Emergency                                                | SK                                                       | Saskatoon                                                | Youth                                                    | Both                                                     | STC Urban Safe House                                     |  5                                                       | \n",
       "| Emergency                                                | SK                                                       | Saskatoon                                                | Youth                                                    | Female                                                   | YWCA Saskatoon Youth Program - 3rd Floor                 |  4                                                       | \n",
       "| Emergency                                                | SK                                                       | Saskatoon                                                | Youth                                                    | Male                                                     | SCC Youth                                                |  2                                                       | \n",
       "| Transitional                                             | SK                                                       | Saskatoon                                                | Family                                                   | Both                                                     | Infinity House                                           | 16                                                       | \n",
       "| Transitional                                             | SK                                                       | Saskatoon                                                | General                                                  | Both                                                     | Shirley Skelton Manor                                    | 20                                                       | \n",
       "| Transitional                                             | SK                                                       | Saskatoon                                                | General                                                  | Female                                                   | YWCA Saskatoon Turning Points                            | 15                                                       | \n",
       "| Transitional                                             | SK                                                       | Saskatoon                                                | General                                                  | Male                                                     | Long term residents                                      |  9                                                       | \n",
       "| Transitional                                             | SK                                                       | Saskatoon                                                | General                                                  | Male                                                     | McLeod House                                             | 16                                                       | \n",
       "| Transitional                                             | SK                                                       | Saskatoon                                                | General                                                  | Male                                                     | SCC Transitional Housing                                 | 12                                                       | \n",
       "| Transitional                                             | SK                                                       | Saskatoon                                                | Youth                                                    | Female                                                   | Bethany Home                                             | 10                                                       | \n",
       "| Transitional                                             | SK                                                       | Saskatoon                                                | Youth                                                    | Female                                                   | YWCA Saskatoon Margaret's Place                          |  4                                                       | \n",
       "| Transitional                                             | SK                                                       | Saskatoon                                                | Youth                                                    | Male                                                     | Basswood House                                           |  5                                                       | \n",
       "| Transitional                                             | SK                                                       | Saskatoon                                                | Youth                                                    | Male                                                     | Cedar House                                              |  5                                                       | \n",
       "| Transitional                                             | SK                                                       | Saskatoon                                                | Youth                                                    | Male                                                     | Jay's Place                                              |  5                                                       | \n",
       "| Transitional                                             | SK                                                       | Saskatoon                                                | Youth                                                    | Male                                                     | Pine Place                                               |  5                                                       | \n",
       "| Transitional                                             | SK                                                       | Saskatoon                                                | Youth                                                    | Male                                                     | Quint Male Youth Lodge                                   | 10                                                       | \n",
       "\n",
       "\n"
      ],
      "text/plain": [
       "    ShelterType  Province City      TargetPopulation Gender\n",
       "1   Emergency    AB       Calgary   Family           Both  \n",
       "2   Emergency    AB       Calgary   General          Both  \n",
       "3   Emergency    AB       Calgary   General          Both  \n",
       "4   Emergency    AB       Calgary   General          Both  \n",
       "5   Emergency    AB       Calgary   General          Both  \n",
       "6   Emergency    AB       Calgary   General          Both  \n",
       "7   Emergency    AB       Calgary   General          Female\n",
       "8   Emergency    AB       Calgary   General          Female\n",
       "9   Emergency    AB       Calgary   General          Male  \n",
       "10  Emergency    AB       Calgary   Youth            Both  \n",
       "11  Emergency    AB       Calgary   Youth            Both  \n",
       "12  Emergency    AB       Calgary   Youth            Both  \n",
       "13  Transitional AB       Calgary   Family           Both  \n",
       "14  Transitional AB       Calgary   General          Both  \n",
       "15  Transitional AB       Calgary   General          Both  \n",
       "16  Transitional AB       Calgary   General          Both  \n",
       "17  Transitional AB       Calgary   General          Both  \n",
       "18  Transitional AB       Calgary   General          Female\n",
       "19  Transitional AB       Calgary   General          Female\n",
       "20  Transitional AB       Calgary   General          Male  \n",
       "21  Transitional AB       Calgary   Youth            Both  \n",
       "22  Transitional AB       Calgary   Youth            Both  \n",
       "23  Transitional AB       Calgary   Youth            Both  \n",
       "24  Transitional AB       Calgary   Youth            Both  \n",
       "25  Transitional AB       Calgary   Youth            Female\n",
       "26  Emergency    AB       Edmonton  General          Both  \n",
       "27  Emergency    AB       Edmonton  General          Both  \n",
       "28  Emergency    AB       Edmonton  General          Both  \n",
       "29  Emergency    AB       Edmonton  General          Both  \n",
       "30  Emergency    AB       Edmonton  General          Female\n",
       "... ...          ...      ...       ...              ...   \n",
       "647 Transitional SK       Regina    General          Female\n",
       "648 Transitional SK       Regina    General          Male  \n",
       "649 Transitional SK       Regina    General          Male  \n",
       "650 Transitional SK       Regina    Youth            Both  \n",
       "651 Transitional SK       Regina    Youth            Female\n",
       "652 Transitional SK       Regina    Youth            Female\n",
       "653 Transitional SK       Regina    Youth            Female\n",
       "654 Emergency    SK       Saskatoon General          Both  \n",
       "655 Emergency    SK       Saskatoon General          Female\n",
       "656 Emergency    SK       Saskatoon General          Female\n",
       "657 Emergency    SK       Saskatoon General          Female\n",
       "658 Emergency    SK       Saskatoon General          Female\n",
       "659 Emergency    SK       Saskatoon General          Male  \n",
       "660 Emergency    SK       Saskatoon General          Male  \n",
       "661 Emergency    SK       Saskatoon Youth            Both  \n",
       "662 Emergency    SK       Saskatoon Youth            Female\n",
       "663 Emergency    SK       Saskatoon Youth            Male  \n",
       "664 Transitional SK       Saskatoon Family           Both  \n",
       "665 Transitional SK       Saskatoon General          Both  \n",
       "666 Transitional SK       Saskatoon General          Female\n",
       "667 Transitional SK       Saskatoon General          Male  \n",
       "668 Transitional SK       Saskatoon General          Male  \n",
       "669 Transitional SK       Saskatoon General          Male  \n",
       "670 Transitional SK       Saskatoon Youth            Female\n",
       "671 Transitional SK       Saskatoon Youth            Female\n",
       "672 Transitional SK       Saskatoon Youth            Male  \n",
       "673 Transitional SK       Saskatoon Youth            Male  \n",
       "674 Transitional SK       Saskatoon Youth            Male  \n",
       "675 Transitional SK       Saskatoon Youth            Male  \n",
       "676 Transitional SK       Saskatoon Youth            Male  \n",
       "    ShelterName                                              Beds\n",
       "1   Brenda's House                                            60 \n",
       "2   Calgary Alpha House                                      120 \n",
       "3   Calgary Drop In Centre - Centre 2507                     270 \n",
       "4   Drop In and Rehab Centre                                 975 \n",
       "5   Kerby Rotary Shelter                                      11 \n",
       "6   The Mustard Seed Shelter                                 370 \n",
       "7   Wagner Place                                              12 \n",
       "8   YWCA Mary Dover House Refuge d'urgence Beds                6 \n",
       "9   The Salvation Army - Centre Of Hope Refuge d'urgence      80 \n",
       "10  Boys and Girls Club - Avenue 15 Youth Shelter             25 \n",
       "11  EXIT Youth Shelter                                        15 \n",
       "12  Mcman - Wellington Place Refuge d'urgence                  5 \n",
       "13  Rainbow Lodge                                             96 \n",
       "14  1835 House                                                30 \n",
       "15  Aspen Apartments Transitional                             11 \n",
       "16  Kerby Rotary Transitional                                  6 \n",
       "17  Step Up                                                   18 \n",
       "18  Youville Residence Society of Alberta                     37 \n",
       "19  YWCA - Mary Dover House                                   94 \n",
       "20  Calgary Dream Centre                                     125 \n",
       "21  Boys and Girls Club - Safe House                           9 \n",
       "22  John Howard Society - Raido House Transitional             8 \n",
       "23  Mcman - Hope Homes for Aboriginal Youth                    7 \n",
       "24  Mcman - Wellington Place Transitional                      4 \n",
       "25  Boys and Girls Club - Haven's Way                          6 \n",
       "26  George Spady Centre Detox                                 27 \n",
       "27  George Spady Centre Overnight Shelter                     60 \n",
       "28  Hope Mission - Intox                                      70 \n",
       "29  Hope Mission - Mat Program                               150 \n",
       "30  E4C Women's Refuge d'urgence Accommodation Centre         66 \n",
       "... ...                                                      ... \n",
       "647 SHRM Shayil Home (Life Change Program)                    9  \n",
       "648 Waterston House                                          40  \n",
       "649 YMCA Residence                                           12  \n",
       "650 Dale's House                                             15  \n",
       "651 D.O.C.S. Place                                            6  \n",
       "652 The Salvation Army Gemma House                            4  \n",
       "653 W.E.N.D.Y's House                                         6  \n",
       "654 Lighthouse Supported Living Inc - Stabilization Shelter  20  \n",
       "655 Infinity House Refuge d'urgence                          13  \n",
       "656 Lighthouse Supported Living Inc Refuge d'urgence - Women 20  \n",
       "657 Mumford House                                            36  \n",
       "658 YWCA Crisis Shelter                                      22  \n",
       "659 Lighthouse Supported Living Inc Refuge d'urgence - Men   17  \n",
       "660 SCC Men's Hostel - Noah's Ark                            35  \n",
       "661 STC Urban Safe House                                      5  \n",
       "662 YWCA Saskatoon Youth Program - 3rd Floor                  4  \n",
       "663 SCC Youth                                                 2  \n",
       "664 Infinity House                                           16  \n",
       "665 Shirley Skelton Manor                                    20  \n",
       "666 YWCA Saskatoon Turning Points                            15  \n",
       "667 Long term residents                                       9  \n",
       "668 McLeod House                                             16  \n",
       "669 SCC Transitional Housing                                 12  \n",
       "670 Bethany Home                                             10  \n",
       "671 YWCA Saskatoon Margaret's Place                           4  \n",
       "672 Basswood House                                            5  \n",
       "673 Cedar House                                               5  \n",
       "674 Jay's Place                                               5  \n",
       "675 Pine Place                                                5  \n",
       "676 Quint Male Youth Lodge                                   10  "
      ]
     },
     "metadata": {},
     "output_type": "display_data"
    }
   ],
   "source": [
    "glimpse(df)\n",
    "df"
   ]
  },
  {
   "cell_type": "code",
   "execution_count": 22,
   "metadata": {},
   "outputs": [
    {
     "data": {
      "text/html": [
       "<ol class=list-inline>\n",
       "\t<li>AB</li>\n",
       "\t<li>BC</li>\n",
       "\t<li>MB</li>\n",
       "\t<li>NB</li>\n",
       "\t<li>NL</li>\n",
       "\t<li>NS</li>\n",
       "\t<li>ON</li>\n",
       "\t<li>PI</li>\n",
       "\t<li>QC</li>\n",
       "\t<li>SK</li>\n",
       "</ol>\n"
      ],
      "text/latex": [
       "\\begin{enumerate*}\n",
       "\\item AB\n",
       "\\item BC\n",
       "\\item MB\n",
       "\\item NB\n",
       "\\item NL\n",
       "\\item NS\n",
       "\\item ON\n",
       "\\item PI\n",
       "\\item QC\n",
       "\\item SK\n",
       "\\end{enumerate*}\n"
      ],
      "text/markdown": [
       "1. AB\n",
       "2. BC\n",
       "3. MB\n",
       "4. NB\n",
       "5. NL\n",
       "6. NS\n",
       "7. ON\n",
       "8. PI\n",
       "9. QC\n",
       "10. SK\n",
       "\n",
       "\n"
      ],
      "text/plain": [
       " [1] AB BC MB NB NL NS ON PI QC SK\n",
       "Levels: AB BC MB NB NL NS ON PI QC SK"
      ]
     },
     "metadata": {},
     "output_type": "display_data"
    }
   ],
   "source": [
    "unique(df$Province)"
   ]
  },
  {
   "cell_type": "code",
   "execution_count": 23,
   "metadata": {},
   "outputs": [
    {
     "name": "stdout",
     "output_type": "stream",
     "text": [
      "Observations: 676\n",
      "Variables: 7\n",
      "$ ShelterType      <fctr> Emergency, Emergency, Emergency, Emergency, Emerg...\n",
      "$ Province         <fctr> AB, AB, AB, AB, AB, AB, AB, AB, AB, AB, AB, AB, A...\n",
      "$ City             <fctr> Calgary, Calgary, Calgary, Calgary, Calgary, Calg...\n",
      "$ TargetPopulation <fctr> Family, General, General, General, General, Gener...\n",
      "$ Gender           <fctr> Both, Both, Both, Both, Both, Both, Female, Femal...\n",
      "$ ShelterName      <chr> \"Brenda's House\", \"Calgary Alpha House\", \"Calgary ...\n",
      "$ Beds             <dbl> 60, 120, 270, 975, 11, 370, 12, 6, 80, 25, 15, 5, ...\n"
     ]
    },
    {
     "data": {
      "text/html": [
       "<table>\n",
       "<thead><tr><th scope=col>ShelterType</th><th scope=col>Province</th><th scope=col>City</th><th scope=col>TargetPopulation</th><th scope=col>Gender</th><th scope=col>ShelterName</th><th scope=col>Beds</th></tr></thead>\n",
       "<tbody>\n",
       "\t<tr><td>Emergency                           </td><td>AB                                  </td><td>Calgary                             </td><td>Family                              </td><td>Both                                </td><td>Brenda's House                      </td><td> 60                                 </td></tr>\n",
       "\t<tr><td>Emergency                           </td><td>AB                                  </td><td>Calgary                             </td><td>General                             </td><td>Both                                </td><td>Calgary Alpha House                 </td><td>120                                 </td></tr>\n",
       "\t<tr><td>Emergency                           </td><td>AB                                  </td><td>Calgary                             </td><td>General                             </td><td>Both                                </td><td>Calgary Drop In Centre - Centre 2507</td><td>270                                 </td></tr>\n",
       "\t<tr><td>Emergency                           </td><td>AB                                  </td><td>Calgary                             </td><td>General                             </td><td>Both                                </td><td>Drop In and Rehab Centre            </td><td>975                                 </td></tr>\n",
       "\t<tr><td>Emergency                           </td><td>AB                                  </td><td>Calgary                             </td><td>General                             </td><td>Both                                </td><td>Kerby Rotary Shelter                </td><td> 11                                 </td></tr>\n",
       "\t<tr><td>Emergency                           </td><td>AB                                  </td><td>Calgary                             </td><td>General                             </td><td>Both                                </td><td>The Mustard Seed Shelter            </td><td>370                                 </td></tr>\n",
       "</tbody>\n",
       "</table>\n"
      ],
      "text/latex": [
       "\\begin{tabular}{r|lllllll}\n",
       " ShelterType & Province & City & TargetPopulation & Gender & ShelterName & Beds\\\\\n",
       "\\hline\n",
       "\t Emergency                            & AB                                   & Calgary                              & Family                               & Both                                 & Brenda's House                       &  60                                 \\\\\n",
       "\t Emergency                            & AB                                   & Calgary                              & General                              & Both                                 & Calgary Alpha House                  & 120                                 \\\\\n",
       "\t Emergency                            & AB                                   & Calgary                              & General                              & Both                                 & Calgary Drop In Centre - Centre 2507 & 270                                 \\\\\n",
       "\t Emergency                            & AB                                   & Calgary                              & General                              & Both                                 & Drop In and Rehab Centre             & 975                                 \\\\\n",
       "\t Emergency                            & AB                                   & Calgary                              & General                              & Both                                 & Kerby Rotary Shelter                 &  11                                 \\\\\n",
       "\t Emergency                            & AB                                   & Calgary                              & General                              & Both                                 & The Mustard Seed Shelter             & 370                                 \\\\\n",
       "\\end{tabular}\n"
      ],
      "text/markdown": [
       "\n",
       "ShelterType | Province | City | TargetPopulation | Gender | ShelterName | Beds | \n",
       "|---|---|---|---|---|---|\n",
       "| Emergency                            | AB                                   | Calgary                              | Family                               | Both                                 | Brenda's House                       |  60                                  | \n",
       "| Emergency                            | AB                                   | Calgary                              | General                              | Both                                 | Calgary Alpha House                  | 120                                  | \n",
       "| Emergency                            | AB                                   | Calgary                              | General                              | Both                                 | Calgary Drop In Centre - Centre 2507 | 270                                  | \n",
       "| Emergency                            | AB                                   | Calgary                              | General                              | Both                                 | Drop In and Rehab Centre             | 975                                  | \n",
       "| Emergency                            | AB                                   | Calgary                              | General                              | Both                                 | Kerby Rotary Shelter                 |  11                                  | \n",
       "| Emergency                            | AB                                   | Calgary                              | General                              | Both                                 | The Mustard Seed Shelter             | 370                                  | \n",
       "\n",
       "\n"
      ],
      "text/plain": [
       "  ShelterType Province City    TargetPopulation Gender\n",
       "1 Emergency   AB       Calgary Family           Both  \n",
       "2 Emergency   AB       Calgary General          Both  \n",
       "3 Emergency   AB       Calgary General          Both  \n",
       "4 Emergency   AB       Calgary General          Both  \n",
       "5 Emergency   AB       Calgary General          Both  \n",
       "6 Emergency   AB       Calgary General          Both  \n",
       "  ShelterName                          Beds\n",
       "1 Brenda's House                        60 \n",
       "2 Calgary Alpha House                  120 \n",
       "3 Calgary Drop In Centre - Centre 2507 270 \n",
       "4 Drop In and Rehab Centre             975 \n",
       "5 Kerby Rotary Shelter                  11 \n",
       "6 The Mustard Seed Shelter             370 "
      ]
     },
     "metadata": {},
     "output_type": "display_data"
    },
    {
     "data": {
      "text/html": [
       "<table>\n",
       "<thead><tr><th scope=col>ShelterType</th><th scope=col>Province</th><th scope=col>City</th><th scope=col>TargetPopulation</th><th scope=col>Gender</th><th scope=col>ShelterName</th><th scope=col>Beds</th></tr></thead>\n",
       "<tbody>\n",
       "\t<tr><td>Transitional                   </td><td>SK                             </td><td>Saskatoon                      </td><td>Youth                          </td><td>Female                         </td><td>YWCA Saskatoon Margaret's Place</td><td> 4                             </td></tr>\n",
       "\t<tr><td>Transitional                   </td><td>SK                             </td><td>Saskatoon                      </td><td>Youth                          </td><td>Male                           </td><td>Basswood House                 </td><td> 5                             </td></tr>\n",
       "\t<tr><td>Transitional                   </td><td>SK                             </td><td>Saskatoon                      </td><td>Youth                          </td><td>Male                           </td><td>Cedar House                    </td><td> 5                             </td></tr>\n",
       "\t<tr><td>Transitional                   </td><td>SK                             </td><td>Saskatoon                      </td><td>Youth                          </td><td>Male                           </td><td>Jay's Place                    </td><td> 5                             </td></tr>\n",
       "\t<tr><td>Transitional                   </td><td>SK                             </td><td>Saskatoon                      </td><td>Youth                          </td><td>Male                           </td><td>Pine Place                     </td><td> 5                             </td></tr>\n",
       "\t<tr><td>Transitional                   </td><td>SK                             </td><td>Saskatoon                      </td><td>Youth                          </td><td>Male                           </td><td>Quint Male Youth Lodge         </td><td>10                             </td></tr>\n",
       "</tbody>\n",
       "</table>\n"
      ],
      "text/latex": [
       "\\begin{tabular}{r|lllllll}\n",
       " ShelterType & Province & City & TargetPopulation & Gender & ShelterName & Beds\\\\\n",
       "\\hline\n",
       "\t Transitional                    & SK                              & Saskatoon                       & Youth                           & Female                          & YWCA Saskatoon Margaret's Place &  4                             \\\\\n",
       "\t Transitional                    & SK                              & Saskatoon                       & Youth                           & Male                            & Basswood House                  &  5                             \\\\\n",
       "\t Transitional                    & SK                              & Saskatoon                       & Youth                           & Male                            & Cedar House                     &  5                             \\\\\n",
       "\t Transitional                    & SK                              & Saskatoon                       & Youth                           & Male                            & Jay's Place                     &  5                             \\\\\n",
       "\t Transitional                    & SK                              & Saskatoon                       & Youth                           & Male                            & Pine Place                      &  5                             \\\\\n",
       "\t Transitional                    & SK                              & Saskatoon                       & Youth                           & Male                            & Quint Male Youth Lodge          & 10                             \\\\\n",
       "\\end{tabular}\n"
      ],
      "text/markdown": [
       "\n",
       "ShelterType | Province | City | TargetPopulation | Gender | ShelterName | Beds | \n",
       "|---|---|---|---|---|---|\n",
       "| Transitional                    | SK                              | Saskatoon                       | Youth                           | Female                          | YWCA Saskatoon Margaret's Place |  4                              | \n",
       "| Transitional                    | SK                              | Saskatoon                       | Youth                           | Male                            | Basswood House                  |  5                              | \n",
       "| Transitional                    | SK                              | Saskatoon                       | Youth                           | Male                            | Cedar House                     |  5                              | \n",
       "| Transitional                    | SK                              | Saskatoon                       | Youth                           | Male                            | Jay's Place                     |  5                              | \n",
       "| Transitional                    | SK                              | Saskatoon                       | Youth                           | Male                            | Pine Place                      |  5                              | \n",
       "| Transitional                    | SK                              | Saskatoon                       | Youth                           | Male                            | Quint Male Youth Lodge          | 10                              | \n",
       "\n",
       "\n"
      ],
      "text/plain": [
       "  ShelterType  Province City      TargetPopulation Gender\n",
       "1 Transitional SK       Saskatoon Youth            Female\n",
       "2 Transitional SK       Saskatoon Youth            Male  \n",
       "3 Transitional SK       Saskatoon Youth            Male  \n",
       "4 Transitional SK       Saskatoon Youth            Male  \n",
       "5 Transitional SK       Saskatoon Youth            Male  \n",
       "6 Transitional SK       Saskatoon Youth            Male  \n",
       "  ShelterName                     Beds\n",
       "1 YWCA Saskatoon Margaret's Place  4  \n",
       "2 Basswood House                   5  \n",
       "3 Cedar House                      5  \n",
       "4 Jay's Place                      5  \n",
       "5 Pine Place                       5  \n",
       "6 Quint Male Youth Lodge          10  "
      ]
     },
     "metadata": {},
     "output_type": "display_data"
    }
   ],
   "source": [
    "glimpse(df)\n",
    "head(df)\n",
    "tail(df)"
   ]
  },
  {
   "cell_type": "code",
   "execution_count": 24,
   "metadata": {},
   "outputs": [
    {
     "data": {
      "text/html": [
       "<table>\n",
       "<thead><tr><th scope=col>Province</th><th scope=col>TotalBeds</th></tr></thead>\n",
       "<tbody>\n",
       "\t<tr><td>AB  </td><td>4385</td></tr>\n",
       "\t<tr><td>BC  </td><td>2783</td></tr>\n",
       "\t<tr><td>MB  </td><td> 947</td></tr>\n",
       "\t<tr><td>NB  </td><td> 170</td></tr>\n",
       "\t<tr><td>NL  </td><td> 166</td></tr>\n",
       "\t<tr><td>NS  </td><td> 284</td></tr>\n",
       "\t<tr><td>ON  </td><td>8725</td></tr>\n",
       "\t<tr><td>PI  </td><td>   7</td></tr>\n",
       "\t<tr><td>QC  </td><td>3730</td></tr>\n",
       "\t<tr><td>SK  </td><td> 830</td></tr>\n",
       "</tbody>\n",
       "</table>\n"
      ],
      "text/latex": [
       "\\begin{tabular}{r|ll}\n",
       " Province & TotalBeds\\\\\n",
       "\\hline\n",
       "\t AB   & 4385\\\\\n",
       "\t BC   & 2783\\\\\n",
       "\t MB   &  947\\\\\n",
       "\t NB   &  170\\\\\n",
       "\t NL   &  166\\\\\n",
       "\t NS   &  284\\\\\n",
       "\t ON   & 8725\\\\\n",
       "\t PI   &    7\\\\\n",
       "\t QC   & 3730\\\\\n",
       "\t SK   &  830\\\\\n",
       "\\end{tabular}\n"
      ],
      "text/markdown": [
       "\n",
       "Province | TotalBeds | \n",
       "|---|---|---|---|---|---|---|---|---|---|\n",
       "| AB   | 4385 | \n",
       "| BC   | 2783 | \n",
       "| MB   |  947 | \n",
       "| NB   |  170 | \n",
       "| NL   |  166 | \n",
       "| NS   |  284 | \n",
       "| ON   | 8725 | \n",
       "| PI   |    7 | \n",
       "| QC   | 3730 | \n",
       "| SK   |  830 | \n",
       "\n",
       "\n"
      ],
      "text/plain": [
       "   Province TotalBeds\n",
       "1  AB       4385     \n",
       "2  BC       2783     \n",
       "3  MB        947     \n",
       "4  NB        170     \n",
       "5  NL        166     \n",
       "6  NS        284     \n",
       "7  ON       8725     \n",
       "8  PI          7     \n",
       "9  QC       3730     \n",
       "10 SK        830     "
      ]
     },
     "metadata": {},
     "output_type": "display_data"
    }
   ],
   "source": [
    "df_Provincial <- df %>%\n",
    "  select(Province, Beds) %>%\n",
    "  group_by(Province) %>%\n",
    "  summarise(TotalBeds = sum(Beds))\n",
    "\n",
    "df_Provincial"
   ]
  },
  {
   "cell_type": "code",
   "execution_count": 25,
   "metadata": {},
   "outputs": [
    {
     "name": "stdout",
     "output_type": "stream",
     "text": [
      "Observations: 10\n",
      "Variables: 3\n",
      "$ Province                  <fctr> AB, BC, MB, NB, NL, NS, ON, PI, QC, SK\n",
      "$ TotalBeds                 <dbl> 4385, 2783, 947, 170, 166, 284, 8725, 7, ...\n",
      "$ TotalProvincialPopulation <dbl> 4286134, 4817160, 1338109, 759655, 528817...\n"
     ]
    },
    {
     "data": {
      "text/html": [
       "<table>\n",
       "<thead><tr><th scope=col>Province</th><th scope=col>TotalBeds</th><th scope=col>TotalProvincialPopulation</th></tr></thead>\n",
       "<tbody>\n",
       "\t<tr><td>AB      </td><td>4385    </td><td> 4286134</td></tr>\n",
       "\t<tr><td>BC      </td><td>2783    </td><td> 4817160</td></tr>\n",
       "\t<tr><td>MB      </td><td> 947    </td><td> 1338109</td></tr>\n",
       "\t<tr><td>NB      </td><td> 170    </td><td>  759655</td></tr>\n",
       "\t<tr><td>NL      </td><td> 166    </td><td>  528817</td></tr>\n",
       "\t<tr><td>NS      </td><td> 284    </td><td>  953869</td></tr>\n",
       "\t<tr><td>ON      </td><td>8725    </td><td>14193384</td></tr>\n",
       "\t<tr><td>PI      </td><td>   7    </td><td>  152021</td></tr>\n",
       "\t<tr><td>QC      </td><td>3730    </td><td> 8394034</td></tr>\n",
       "\t<tr><td>SK      </td><td> 830    </td><td> 1163925</td></tr>\n",
       "</tbody>\n",
       "</table>\n"
      ],
      "text/latex": [
       "\\begin{tabular}{r|lll}\n",
       " Province & TotalBeds & TotalProvincialPopulation\\\\\n",
       "\\hline\n",
       "\t AB       & 4385     &  4286134\\\\\n",
       "\t BC       & 2783     &  4817160\\\\\n",
       "\t MB       &  947     &  1338109\\\\\n",
       "\t NB       &  170     &   759655\\\\\n",
       "\t NL       &  166     &   528817\\\\\n",
       "\t NS       &  284     &   953869\\\\\n",
       "\t ON       & 8725     & 14193384\\\\\n",
       "\t PI       &    7     &   152021\\\\\n",
       "\t QC       & 3730     &  8394034\\\\\n",
       "\t SK       &  830     &  1163925\\\\\n",
       "\\end{tabular}\n"
      ],
      "text/markdown": [
       "\n",
       "Province | TotalBeds | TotalProvincialPopulation | \n",
       "|---|---|---|---|---|---|---|---|---|---|\n",
       "| AB       | 4385     |  4286134 | \n",
       "| BC       | 2783     |  4817160 | \n",
       "| MB       |  947     |  1338109 | \n",
       "| NB       |  170     |   759655 | \n",
       "| NL       |  166     |   528817 | \n",
       "| NS       |  284     |   953869 | \n",
       "| ON       | 8725     | 14193384 | \n",
       "| PI       |    7     |   152021 | \n",
       "| QC       | 3730     |  8394034 | \n",
       "| SK       |  830     |  1163925 | \n",
       "\n",
       "\n"
      ],
      "text/plain": [
       "   Province TotalBeds TotalProvincialPopulation\n",
       "1  AB       4385       4286134                 \n",
       "2  BC       2783       4817160                 \n",
       "3  MB        947       1338109                 \n",
       "4  NB        170        759655                 \n",
       "5  NL        166        528817                 \n",
       "6  NS        284        953869                 \n",
       "7  ON       8725      14193384                 \n",
       "8  PI          7        152021                 \n",
       "9  QC       3730       8394034                 \n",
       "10 SK        830       1163925                 "
      ]
     },
     "metadata": {},
     "output_type": "display_data"
    }
   ],
   "source": [
    "# Add 2017 population stats for each province\n",
    "# Source: https://www150.statcan.gc.ca/t1/tbl1/en/tv.action?pid=1710000501&pickMembers%5B0%5D=1.10&pickMembers%5B1%5D=2.1\n",
    "\n",
    "df_Provincial$TotalProvincialPopulation <- 0\n",
    "\n",
    "df_Provincial$TotalProvincialPopulation[df_Provincial$Province == \"AB\"] <- 4286134\n",
    "df_Provincial$TotalProvincialPopulation[df_Provincial$Province == \"BC\"] <- 4817160\n",
    "df_Provincial$TotalProvincialPopulation[df_Provincial$Province == \"MB\"] <- 1338109\n",
    "df_Provincial$TotalProvincialPopulation[df_Provincial$Province == \"NB\"] <- 759655\n",
    "df_Provincial$TotalProvincialPopulation[df_Provincial$Province == \"NL\"] <- 528817\n",
    "df_Provincial$TotalProvincialPopulation[df_Provincial$Province == \"NS\"] <- 953869\n",
    "# df_Provincial$TotalProvincialPopulation[df_Provincial$Province == \"NT\"] <- 44520\n",
    "# df_Provincial$TotalProvincialPopulation[df_Provincial$Province == \"NU\"] <- 37996\n",
    "df_Provincial$TotalProvincialPopulation[df_Provincial$Province == \"ON\"] <- 14193384\n",
    "df_Provincial$TotalProvincialPopulation[df_Provincial$Province == \"PI\"] <- 152021\n",
    "df_Provincial$TotalProvincialPopulation[df_Provincial$Province == \"QC\"] <- 8394034\n",
    "df_Provincial$TotalProvincialPopulation[df_Provincial$Province == \"SK\"] <- 1163925\n",
    "# df_Provincial$TotalProvincialPopulation[df_Provincial$Province == \"YT\"] <- 38459\n",
    "\n",
    "glimpse(df_Provincial)\n",
    "df_Provincial"
   ]
  },
  {
   "cell_type": "code",
   "execution_count": 26,
   "metadata": {},
   "outputs": [
    {
     "name": "stdout",
     "output_type": "stream",
     "text": [
      "Observations: 10\n",
      "Variables: 4\n",
      "$ Province                  <fctr> AB, BC, MB, NB, NL, NS, ON, PI, QC, SK\n",
      "$ TotalBeds                 <dbl> 4385, 2783, 947, 170, 166, 284, 8725, 7, ...\n",
      "$ TotalProvincialPopulation <dbl> 4286134, 4817160, 1338109, 759655, 528817...\n",
      "$ BedsPer100K               <dbl> 102, 58, 71, 22, 31, 30, 61, 5, 44, 71\n"
     ]
    },
    {
     "data": {
      "text/html": [
       "<table>\n",
       "<thead><tr><th scope=col>Province</th><th scope=col>TotalBeds</th><th scope=col>TotalProvincialPopulation</th><th scope=col>BedsPer100K</th></tr></thead>\n",
       "<tbody>\n",
       "\t<tr><td>AB      </td><td>4385    </td><td> 4286134</td><td>102     </td></tr>\n",
       "\t<tr><td>BC      </td><td>2783    </td><td> 4817160</td><td> 58     </td></tr>\n",
       "\t<tr><td>MB      </td><td> 947    </td><td> 1338109</td><td> 71     </td></tr>\n",
       "\t<tr><td>NB      </td><td> 170    </td><td>  759655</td><td> 22     </td></tr>\n",
       "\t<tr><td>NL      </td><td> 166    </td><td>  528817</td><td> 31     </td></tr>\n",
       "\t<tr><td>NS      </td><td> 284    </td><td>  953869</td><td> 30     </td></tr>\n",
       "\t<tr><td>ON      </td><td>8725    </td><td>14193384</td><td> 61     </td></tr>\n",
       "\t<tr><td>PI      </td><td>   7    </td><td>  152021</td><td>  5     </td></tr>\n",
       "\t<tr><td>QC      </td><td>3730    </td><td> 8394034</td><td> 44     </td></tr>\n",
       "\t<tr><td>SK      </td><td> 830    </td><td> 1163925</td><td> 71     </td></tr>\n",
       "</tbody>\n",
       "</table>\n"
      ],
      "text/latex": [
       "\\begin{tabular}{r|llll}\n",
       " Province & TotalBeds & TotalProvincialPopulation & BedsPer100K\\\\\n",
       "\\hline\n",
       "\t AB       & 4385     &  4286134 & 102     \\\\\n",
       "\t BC       & 2783     &  4817160 &  58     \\\\\n",
       "\t MB       &  947     &  1338109 &  71     \\\\\n",
       "\t NB       &  170     &   759655 &  22     \\\\\n",
       "\t NL       &  166     &   528817 &  31     \\\\\n",
       "\t NS       &  284     &   953869 &  30     \\\\\n",
       "\t ON       & 8725     & 14193384 &  61     \\\\\n",
       "\t PI       &    7     &   152021 &   5     \\\\\n",
       "\t QC       & 3730     &  8394034 &  44     \\\\\n",
       "\t SK       &  830     &  1163925 &  71     \\\\\n",
       "\\end{tabular}\n"
      ],
      "text/markdown": [
       "\n",
       "Province | TotalBeds | TotalProvincialPopulation | BedsPer100K | \n",
       "|---|---|---|---|---|---|---|---|---|---|\n",
       "| AB       | 4385     |  4286134 | 102      | \n",
       "| BC       | 2783     |  4817160 |  58      | \n",
       "| MB       |  947     |  1338109 |  71      | \n",
       "| NB       |  170     |   759655 |  22      | \n",
       "| NL       |  166     |   528817 |  31      | \n",
       "| NS       |  284     |   953869 |  30      | \n",
       "| ON       | 8725     | 14193384 |  61      | \n",
       "| PI       |    7     |   152021 |   5      | \n",
       "| QC       | 3730     |  8394034 |  44      | \n",
       "| SK       |  830     |  1163925 |  71      | \n",
       "\n",
       "\n"
      ],
      "text/plain": [
       "   Province TotalBeds TotalProvincialPopulation BedsPer100K\n",
       "1  AB       4385       4286134                  102        \n",
       "2  BC       2783       4817160                   58        \n",
       "3  MB        947       1338109                   71        \n",
       "4  NB        170        759655                   22        \n",
       "5  NL        166        528817                   31        \n",
       "6  NS        284        953869                   30        \n",
       "7  ON       8725      14193384                   61        \n",
       "8  PI          7        152021                    5        \n",
       "9  QC       3730       8394034                   44        \n",
       "10 SK        830       1163925                   71        "
      ]
     },
     "metadata": {},
     "output_type": "display_data"
    }
   ],
   "source": [
    "df_Provincial <- df_Provincial %>%\n",
    "  mutate(BedsPer100K = round(TotalBeds / TotalProvincialPopulation * 100000))\n",
    "\n",
    "glimpse(df_Provincial)\n",
    "df_Provincial"
   ]
  },
  {
   "cell_type": "code",
   "execution_count": 27,
   "metadata": {},
   "outputs": [
    {
     "data": {
      "text/html": [
       "<table>\n",
       "<thead><tr><th scope=col>Province</th><th scope=col>TotalBeds</th><th scope=col>TotalProvincialPopulation</th><th scope=col>BedsPer100K</th></tr></thead>\n",
       "<tbody>\n",
       "\t<tr><td>AB      </td><td>4385    </td><td> 4286134</td><td>102     </td></tr>\n",
       "\t<tr><td>MB      </td><td> 947    </td><td> 1338109</td><td> 71     </td></tr>\n",
       "\t<tr><td>SK      </td><td> 830    </td><td> 1163925</td><td> 71     </td></tr>\n",
       "\t<tr><td>ON      </td><td>8725    </td><td>14193384</td><td> 61     </td></tr>\n",
       "\t<tr><td>BC      </td><td>2783    </td><td> 4817160</td><td> 58     </td></tr>\n",
       "\t<tr><td>QC      </td><td>3730    </td><td> 8394034</td><td> 44     </td></tr>\n",
       "\t<tr><td>NL      </td><td> 166    </td><td>  528817</td><td> 31     </td></tr>\n",
       "\t<tr><td>NS      </td><td> 284    </td><td>  953869</td><td> 30     </td></tr>\n",
       "\t<tr><td>NB      </td><td> 170    </td><td>  759655</td><td> 22     </td></tr>\n",
       "\t<tr><td>PI      </td><td>   7    </td><td>  152021</td><td>  5     </td></tr>\n",
       "</tbody>\n",
       "</table>\n"
      ],
      "text/latex": [
       "\\begin{tabular}{r|llll}\n",
       " Province & TotalBeds & TotalProvincialPopulation & BedsPer100K\\\\\n",
       "\\hline\n",
       "\t AB       & 4385     &  4286134 & 102     \\\\\n",
       "\t MB       &  947     &  1338109 &  71     \\\\\n",
       "\t SK       &  830     &  1163925 &  71     \\\\\n",
       "\t ON       & 8725     & 14193384 &  61     \\\\\n",
       "\t BC       & 2783     &  4817160 &  58     \\\\\n",
       "\t QC       & 3730     &  8394034 &  44     \\\\\n",
       "\t NL       &  166     &   528817 &  31     \\\\\n",
       "\t NS       &  284     &   953869 &  30     \\\\\n",
       "\t NB       &  170     &   759655 &  22     \\\\\n",
       "\t PI       &    7     &   152021 &   5     \\\\\n",
       "\\end{tabular}\n"
      ],
      "text/markdown": [
       "\n",
       "Province | TotalBeds | TotalProvincialPopulation | BedsPer100K | \n",
       "|---|---|---|---|---|---|---|---|---|---|\n",
       "| AB       | 4385     |  4286134 | 102      | \n",
       "| MB       |  947     |  1338109 |  71      | \n",
       "| SK       |  830     |  1163925 |  71      | \n",
       "| ON       | 8725     | 14193384 |  61      | \n",
       "| BC       | 2783     |  4817160 |  58      | \n",
       "| QC       | 3730     |  8394034 |  44      | \n",
       "| NL       |  166     |   528817 |  31      | \n",
       "| NS       |  284     |   953869 |  30      | \n",
       "| NB       |  170     |   759655 |  22      | \n",
       "| PI       |    7     |   152021 |   5      | \n",
       "\n",
       "\n"
      ],
      "text/plain": [
       "   Province TotalBeds TotalProvincialPopulation BedsPer100K\n",
       "1  AB       4385       4286134                  102        \n",
       "2  MB        947       1338109                   71        \n",
       "3  SK        830       1163925                   71        \n",
       "4  ON       8725      14193384                   61        \n",
       "5  BC       2783       4817160                   58        \n",
       "6  QC       3730       8394034                   44        \n",
       "7  NL        166        528817                   31        \n",
       "8  NS        284        953869                   30        \n",
       "9  NB        170        759655                   22        \n",
       "10 PI          7        152021                    5        "
      ]
     },
     "metadata": {},
     "output_type": "display_data"
    }
   ],
   "source": [
    "df_Provincial <- df_Provincial[order(df_Provincial$BedsPer100K, decreasing = TRUE), ]\n",
    "\n",
    "df_Provincial"
   ]
  },
  {
   "cell_type": "code",
   "execution_count": 28,
   "metadata": {},
   "outputs": [],
   "source": [
    "# write.csv(df_Provincial, \n",
    "#            file = \"Provinical_Homeless_Beds_Per_100K.csv\",\n",
    "#            row.names = FALSE) # set row.name to FALSE to not include an index column in the csv output file"
   ]
  },
  {
   "cell_type": "markdown",
   "metadata": {},
   "source": [
    "## Display a map of Canada showing results"
   ]
  },
  {
   "cell_type": "code",
   "execution_count": 29,
   "metadata": {},
   "outputs": [
    {
     "name": "stdout",
     "output_type": "stream",
     "text": [
      "Reading layer `lpr_000b16a_e' from data source `C:\\Users\\tarji\\GIS_Canada\\lpr_000b16a_e.shp' using driver `ESRI Shapefile'\n",
      "Simple feature collection with 13 features and 6 fields\n",
      "geometry type:  MULTIPOLYGON\n",
      "dimension:      XY\n",
      "bbox:           xmin: 3689439 ymin: 659338.9 xmax: 9015737 ymax: 5242179\n",
      "epsg (SRID):    NA\n",
      "proj4string:    +proj=lcc +lat_1=49 +lat_2=77 +lat_0=63.390675 +lon_0=-91.86666666666666 +x_0=6200000 +y_0=3000000 +datum=NAD83 +units=m +no_defs\n"
     ]
    }
   ],
   "source": [
    "CanadaMap <- st_read(\"GIS_Canada/lpr_000b16a_e.shp\")"
   ]
  },
  {
   "cell_type": "code",
   "execution_count": 30,
   "metadata": {},
   "outputs": [
    {
     "data": {
      "text/plain": [
       "[1] \"2018-08-05 00:50:53 AST\""
      ]
     },
     "metadata": {},
     "output_type": "display_data"
    },
    {
     "name": "stdout",
     "output_type": "stream",
     "text": [
      "Observations: 13\n",
      "Variables: 7\n",
      "$ PRUID    <fctr> 10, 11, 12, 13, 24, 35, 46, 47, 48, 59, 60, 61, 62\n",
      "$ PRNAME   <fctr> Newfoundland and Labrador / Terre-Neuve-et-Labrador, Prin...\n",
      "$ PRENAME  <fctr> Newfoundland and Labrador, Prince Edward Island, Nova Sco...\n",
      "$ PRFNAME  <fctr> Terre-Neuve-et-Labrador, Île-du-Prince-Édouard, Nouvelle-...\n",
      "$ PREABBR  <fctr> N.L., P.E.I., N.S., N.B., Que., Ont., Man., Sask., Alta.,...\n",
      "$ PRFABBR  <fctr> T.-N.-L., Î.-P.-É., N.-É., N.-B., Qc, Ont., Man., Sask., ...\n",
      "$ geometry <simple_feature> MULTIPOLYGON (((8307365.588..., MULTIPOLYGON ((...\n"
     ]
    },
    {
     "data": {
      "text/plain": [
       "[1] \"2018-08-05 00:52:48 AST\""
      ]
     },
     "metadata": {},
     "output_type": "display_data"
    }
   ],
   "source": [
    "Sys.time()\n",
    "glimpse(CanadaMap)\n",
    "Sys.time()"
   ]
  },
  {
   "cell_type": "code",
   "execution_count": 31,
   "metadata": {},
   "outputs": [],
   "source": [
    "# Sys.time()\n",
    "# CanadaMap\n",
    "# Sys.time()"
   ]
  },
  {
   "cell_type": "code",
   "execution_count": 32,
   "metadata": {},
   "outputs": [
    {
     "name": "stdout",
     "output_type": "stream",
     "text": [
      "Observations: 10\n",
      "Variables: 5\n",
      "$ Province                  <fctr> AB, MB, SK, ON, BC, QC, NL, NS, NB, PI\n",
      "$ TotalBeds                 <dbl> 4385, 947, 830, 8725, 2783, 3730, 166, 28...\n",
      "$ TotalProvincialPopulation <dbl> 4286134, 1338109, 1163925, 14193384, 4817...\n",
      "$ BedsPer100K               <dbl> 102, 71, 71, 61, 58, 44, 31, 30, 22, 5\n",
      "$ PREABBR                   <fctr> Alta., Man., Sask., Ont., B.C., Que., N....\n"
     ]
    },
    {
     "data": {
      "text/html": [
       "<table>\n",
       "<thead><tr><th scope=col>Province</th><th scope=col>TotalBeds</th><th scope=col>TotalProvincialPopulation</th><th scope=col>BedsPer100K</th><th scope=col>PREABBR</th></tr></thead>\n",
       "<tbody>\n",
       "\t<tr><td>AB      </td><td>4385    </td><td> 4286134</td><td>102     </td><td>Alta.   </td></tr>\n",
       "\t<tr><td>MB      </td><td> 947    </td><td> 1338109</td><td> 71     </td><td>Man.    </td></tr>\n",
       "\t<tr><td>SK      </td><td> 830    </td><td> 1163925</td><td> 71     </td><td>Sask.   </td></tr>\n",
       "\t<tr><td>ON      </td><td>8725    </td><td>14193384</td><td> 61     </td><td>Ont.    </td></tr>\n",
       "\t<tr><td>BC      </td><td>2783    </td><td> 4817160</td><td> 58     </td><td>B.C.    </td></tr>\n",
       "\t<tr><td>QC      </td><td>3730    </td><td> 8394034</td><td> 44     </td><td>Que.    </td></tr>\n",
       "\t<tr><td>NL      </td><td> 166    </td><td>  528817</td><td> 31     </td><td>N.L.    </td></tr>\n",
       "\t<tr><td>NS      </td><td> 284    </td><td>  953869</td><td> 30     </td><td>N.S.    </td></tr>\n",
       "\t<tr><td>NB      </td><td> 170    </td><td>  759655</td><td> 22     </td><td>N.B.    </td></tr>\n",
       "\t<tr><td>PI      </td><td>   7    </td><td>  152021</td><td>  5     </td><td>P.E.I.  </td></tr>\n",
       "</tbody>\n",
       "</table>\n"
      ],
      "text/latex": [
       "\\begin{tabular}{r|lllll}\n",
       " Province & TotalBeds & TotalProvincialPopulation & BedsPer100K & PREABBR\\\\\n",
       "\\hline\n",
       "\t AB       & 4385     &  4286134 & 102      & Alta.   \\\\\n",
       "\t MB       &  947     &  1338109 &  71      & Man.    \\\\\n",
       "\t SK       &  830     &  1163925 &  71      & Sask.   \\\\\n",
       "\t ON       & 8725     & 14193384 &  61      & Ont.    \\\\\n",
       "\t BC       & 2783     &  4817160 &  58      & B.C.    \\\\\n",
       "\t QC       & 3730     &  8394034 &  44      & Que.    \\\\\n",
       "\t NL       &  166     &   528817 &  31      & N.L.    \\\\\n",
       "\t NS       &  284     &   953869 &  30      & N.S.    \\\\\n",
       "\t NB       &  170     &   759655 &  22      & N.B.    \\\\\n",
       "\t PI       &    7     &   152021 &   5      & P.E.I.  \\\\\n",
       "\\end{tabular}\n"
      ],
      "text/markdown": [
       "\n",
       "Province | TotalBeds | TotalProvincialPopulation | BedsPer100K | PREABBR | \n",
       "|---|---|---|---|---|---|---|---|---|---|\n",
       "| AB       | 4385     |  4286134 | 102      | Alta.    | \n",
       "| MB       |  947     |  1338109 |  71      | Man.     | \n",
       "| SK       |  830     |  1163925 |  71      | Sask.    | \n",
       "| ON       | 8725     | 14193384 |  61      | Ont.     | \n",
       "| BC       | 2783     |  4817160 |  58      | B.C.     | \n",
       "| QC       | 3730     |  8394034 |  44      | Que.     | \n",
       "| NL       |  166     |   528817 |  31      | N.L.     | \n",
       "| NS       |  284     |   953869 |  30      | N.S.     | \n",
       "| NB       |  170     |   759655 |  22      | N.B.     | \n",
       "| PI       |    7     |   152021 |   5      | P.E.I.   | \n",
       "\n",
       "\n"
      ],
      "text/plain": [
       "   Province TotalBeds TotalProvincialPopulation BedsPer100K PREABBR\n",
       "1  AB       4385       4286134                  102         Alta.  \n",
       "2  MB        947       1338109                   71         Man.   \n",
       "3  SK        830       1163925                   71         Sask.  \n",
       "4  ON       8725      14193384                   61         Ont.   \n",
       "5  BC       2783       4817160                   58         B.C.   \n",
       "6  QC       3730       8394034                   44         Que.   \n",
       "7  NL        166        528817                   31         N.L.   \n",
       "8  NS        284        953869                   30         N.S.   \n",
       "9  NB        170        759655                   22         N.B.   \n",
       "10 PI          7        152021                    5         P.E.I. "
      ]
     },
     "metadata": {},
     "output_type": "display_data"
    }
   ],
   "source": [
    "# Add a column for PREABBR to df_Provincial in order to do a join with CanadaMap\n",
    "\n",
    "\n",
    "df_Provincial$PREABBR <- \"unknown\"\n",
    "\n",
    "df_Provincial$PREABBR[df_Provincial$Province == \"AB\"] <- \"Alta.\"\n",
    "df_Provincial$PREABBR[df_Provincial$Province == \"BC\"] <- \"B.C.\"\n",
    "df_Provincial$PREABBR[df_Provincial$Province == \"MB\"] <- \"Man.\"\n",
    "df_Provincial$PREABBR[df_Provincial$Province == \"NB\"] <- \"N.B.\"\n",
    "df_Provincial$PREABBR[df_Provincial$Province == \"NL\"] <- \"N.L.\"\n",
    "df_Provincial$PREABBR[df_Provincial$Province == \"NS\"] <- \"N.S.\"\n",
    "df_Provincial$PREABBR[df_Provincial$Province == \"ON\"] <- \"Ont.\"\n",
    "df_Provincial$PREABBR[df_Provincial$Province == \"PI\"] <- \"P.E.I.\"\n",
    "df_Provincial$PREABBR[df_Provincial$Province == \"QC\"] <- \"Que.\"\n",
    "df_Provincial$PREABBR[df_Provincial$Province == \"SK\"] <- \"Sask.\"\n",
    "\n",
    "df_Provincial$PREABBR <- as.factor(df_Provincial$PREABBR)\n",
    "glimpse(df_Provincial)\n",
    "df_Provincial"
   ]
  },
  {
   "cell_type": "code",
   "execution_count": 33,
   "metadata": {},
   "outputs": [],
   "source": [
    "# Add a column for Year\n",
    "\n",
    "df_Provincial$Year <- 2017"
   ]
  },
  {
   "cell_type": "code",
   "execution_count": 34,
   "metadata": {},
   "outputs": [],
   "source": [
    "# Before merging with a shapefile for polygon data, write the data to a table in csv format\n",
    "# Table_A\n",
    "\n",
    "write.csv(df_Provincial, \n",
    "          file = \"Table_A.csv\",\n",
    "          row.names = FALSE) # set row.name to FALSE to not include an index column in the csv output file"
   ]
  },
  {
   "cell_type": "code",
   "execution_count": 35,
   "metadata": {},
   "outputs": [],
   "source": [
    "CanadaMap <- merge(CanadaMap, df_Provincial) # join the two dataframes, merge will use the common column name to join with"
   ]
  },
  {
   "cell_type": "code",
   "execution_count": 36,
   "metadata": {},
   "outputs": [
    {
     "data": {
      "text/plain": [
       "[1] \"2018-08-05 00:52:50 AST\""
      ]
     },
     "metadata": {},
     "output_type": "display_data"
    },
    {
     "name": "stdout",
     "output_type": "stream",
     "text": [
      "Observations: 10\n",
      "Variables: 12\n",
      "$ PREABBR                   <fctr> Alta., B.C., Man., N.B., N.L., N.S., Ont...\n",
      "$ PRUID                     <fctr> 48, 59, 46, 13, 10, 12, 35, 11, 24, 47\n",
      "$ PRNAME                    <fctr> Alberta, British Columbia / Colombie-Bri...\n",
      "$ PRENAME                   <fctr> Alberta, British Columbia, Manitoba, New...\n",
      "$ PRFNAME                   <fctr> Alberta, Colombie-Britannique, Manitoba,...\n",
      "$ PRFABBR                   <fctr> Alb., C.-B., Man., N.-B., T.-N.-L., N.-É...\n",
      "$ Province                  <fctr> AB, BC, MB, NB, NL, NS, ON, PI, QC, SK\n",
      "$ TotalBeds                 <dbl> 4385, 2783, 947, 170, 166, 284, 8725, 7, ...\n",
      "$ TotalProvincialPopulation <dbl> 4286134, 4817160, 1338109, 759655, 528817...\n",
      "$ BedsPer100K               <dbl> 102, 58, 71, 22, 31, 30, 61, 5, 44, 71\n",
      "$ Year                      <dbl> 2017, 2017, 2017, 2017, 2017, 2017, 2017,...\n",
      "$ geometry                  <simple_feature> MULTIPOLYGON (((5228304.177......\n"
     ]
    },
    {
     "data": {
      "text/plain": [
       "[1] \"2018-08-05 00:54:02 AST\""
      ]
     },
     "metadata": {},
     "output_type": "display_data"
    }
   ],
   "source": [
    "Sys.time()\n",
    "glimpse(CanadaMap)\n",
    "Sys.time()"
   ]
  },
  {
   "cell_type": "code",
   "execution_count": 37,
   "metadata": {},
   "outputs": [
    {
     "data": {
      "text/plain": [
       "[1] \"2018-08-05 00:54:02 AST\""
      ]
     },
     "metadata": {},
     "output_type": "display_data"
    },
    {
     "data": {},
     "metadata": {},
     "output_type": "display_data"
    },
    {
     "data": {
      "text/plain": [
       "[1] \"2018-08-05 00:56:38 AST\""
      ]
     },
     "metadata": {},
     "output_type": "display_data"
    },
    {
     "data": {
      "image/png": "[encoded data removed]",
      "text/plain": [
       "plot without title"
      ]
     },
     "metadata": {},
     "output_type": "display_data"
    }
   ],
   "source": [
    "Sys.time()\n",
    "\n",
    "my_map_A0 <-\n",
    "  tm_shape(CanadaMap) +\n",
    "  tm_polygons(col = \"BedsPer100K\", palette = \"Reds\", style = \"order\") +\n",
    "  tm_legend(legend.outside = TRUE, legend.outside.position = \"bottom\") +\n",
    "  tm_text(text = \"BedsPer100K\", size = .6) + \n",
    "  tm_layout(frame = FALSE, \n",
    "            legend.show = FALSE,\n",
    "            main.title = \"Number of Homeless Beds in All Emergency or Transitional Shelters\\nPer 100,000 Population, 2017\",\n",
    "            main.title.size = 1)\n",
    "\n",
    "my_map_A0\n",
    "\n",
    "Sys.time()"
   ]
  },
  {
   "cell_type": "code",
   "execution_count": 38,
   "metadata": {},
   "outputs": [],
   "source": [
    "# Sys.time()\n",
    "#   save_tmap(tm = my_map_A0, \n",
    "#             filename = \"Number of Homeless Beds in All Emergency or Transitional Shelters Per 100,000 Population, 2017.png\")\n",
    "# Sys.time()"
   ]
  },
  {
   "cell_type": "markdown",
   "metadata": {},
   "source": [
    "# Main Script Ends Here"
   ]
  },
  {
   "cell_type": "code",
   "execution_count": 39,
   "metadata": {},
   "outputs": [
    {
     "data": {
      "text/plain": [
       "[1] \"2018-08-05 00:56:55 AST\""
      ]
     },
     "metadata": {},
     "output_type": "display_data"
    }
   ],
   "source": [
    "Sys.time()"
   ]
  },
  {
   "cell_type": "markdown",
   "metadata": {},
   "source": [
    "# Appendix 1 - Examples of common coding techniques"
   ]
  },
  {
   "cell_type": "code",
   "execution_count": 40,
   "metadata": {},
   "outputs": [],
   "source": [
    "# Example of how to read and filter a large csv file a chunk at a time, e.g. filter 50000 rows at a time into a new dataframe\n",
    "# This is very efficient, comparable to fread in speed but done in chunks to conserve memory\n",
    "# I also prefer it to fread because I can filter out rows with missing values as I import the data\n",
    "# and specify which columns I want to import \n",
    "# need readr library from tidyverse library\n",
    "\n",
    "\n",
    "# Sys.time() # start time for reading file\n",
    "# f <- function(x, pos) subset(x, \n",
    "#                             !is.na(Beds) # filter out any rows with missing values in the specified column in parenthesis\n",
    "#                             & Gender == \"Male\") # only include rows where the specified condition is met\n",
    "#                             & any other criteria for filtering\n",
    "# df <- read_csv_chunked(\"http://www.edsc-esdc.gc.ca/ouvert-open/hps/CDHPD-OpenDataNSPL-DataSet-20170804-ENFR.csv\", \n",
    "#                            DataFrameCallback$new(f), \n",
    "#                            chunk_size = 50000, # this is an adequate chunk size\n",
    "#                            # col_names = TRUE # this will keep original column names if you don't provide custom names\n",
    "#                                               # most of the time it's best to rename every column explicitly as shown below\n",
    "#                            col_names = c(\"ShelterType\", # this renames each column in order of the csv file to what you specify\n",
    "#                                          \"ProvinceCode\",\n",
    "#                                          \"City\",\n",
    "#                                          \"TargetPopulation\",\n",
    "#                                          \"Gender\",\n",
    "#                                          \"ShelterName\",\n",
    "#                                          \"Beds\"), # all other columns after this will be dropped if not included        \n",
    "#                            cols_only( # specify which columns with data types you want to include \n",
    "#                                       # to avoid importing unwanted data\n",
    "#                                       # include all columns that you specified above with col_names if you renamed them\n",
    "#                                \"ShelterType\" = col_character(),\n",
    "#                                \"ProvinceCode\" = col_character(),\n",
    "#                                \"City\" = col_character(),\n",
    "#                                \"TargetPopulation\" = col_character(),\n",
    "#                                \"Gender\" = col_character(),\n",
    "#                                \"ShelterName\" = col_character(),\n",
    "#                                \"Beds\" = col_number()),\n",
    "#                            skip = 1, # skip original column headers if you renamed them\n",
    "#                            trim_ws = TRUE) # trim leading and trailing whitespace for each data point\n",
    "# Sys.time() # end time for reading file"
   ]
  },
  {
   "cell_type": "code",
   "execution_count": 41,
   "metadata": {},
   "outputs": [],
   "source": [
    "# Example of how to read csv files quickly with fread while converting all chr variables to factors \n",
    "# need data.table library\n",
    "# Use fread when you are a lazy and know you won't have memory issues loading the entire dataset at once\n",
    "# or when you know you need to keep all information loaded into memory\n",
    "\n",
    "# df <- fread(\"DataFilesAOP/AB_Provincial_Detailed_Crime_Stats_2006-2011-2016.csv\", \n",
    "#            stringsAsFactors = TRUE, header = TRUE)"
   ]
  },
  {
   "cell_type": "code",
   "execution_count": 42,
   "metadata": {},
   "outputs": [],
   "source": [
    "# Example of how to write a dataframe to a csv file\n",
    "\n",
    "# write.csv(df, \n",
    "#           file = \"NS_Crime_Stats_Clean_Extract3.csv\",\n",
    "#           row.names = FALSE) # set row.name to FALSE to not include an index column in the csv output file"
   ]
  },
  {
   "cell_type": "code",
   "execution_count": 43,
   "metadata": {},
   "outputs": [],
   "source": [
    "# Example how to change all of the column names in a dataframe to something friendlier\n",
    "# You want to avoid special characters and spaces in column names to prevent problems with differnt packages and features\n",
    "# Provide new names in a character vector\n",
    "\n",
    "# colnames(df) <- c(\" \", \" \")"
   ]
  },
  {
   "cell_type": "code",
   "execution_count": 44,
   "metadata": {},
   "outputs": [],
   "source": [
    "# Example how to set the number of digits displayed in dataframes\n",
    "\n",
    "# options(digits=15) # set the visible number of digits to 15, useful when displaying GIS coordinates in dataframes\n",
    "# options(\"digits\") # display the max number of digits that appear in cells of a dataframe"
   ]
  },
  {
   "cell_type": "code",
   "execution_count": 45,
   "metadata": {},
   "outputs": [],
   "source": [
    "# Example of how to convert columns to the correct data types and how to delete columns from a dataframe\n",
    "\n",
    "# use as.numeric() and as.factor() where appropriate\n",
    "# df$column_name <- NULL will delete that column from the dataframe"
   ]
  },
  {
   "cell_type": "code",
   "execution_count": 46,
   "metadata": {},
   "outputs": [],
   "source": [
    "# Example of how to recode values of a column for rows meeting a condition\n",
    "\n",
    "# df$LATITUDE[df$GEO == \n",
    "#                          \"Amherst, Nova Scotia, municipal\"] <- 45.8338198\n",
    "# df$LONGITUDE[df$GEO == \n",
    "#                          \"Amherst, Nova Scotia, municipal\"] <- -64.2109455\n",
    "#\n",
    "# df$COUNTY[df$GEO ==\n",
    "#                          \"Amherst, Nova Scotia, municipal\"] <- \"Cumberland\""
   ]
  },
  {
   "cell_type": "code",
   "execution_count": 47,
   "metadata": {},
   "outputs": [],
   "source": [
    "# Example of how to filter a dataframe to rows where a specific string appears anywhere in a specific column\n",
    "# This example filters df to rows where \"MEP\" appears in the \"Contents\" column (need stringr library)\n",
    "\n",
    "# df_MEP <- df %>%\n",
    "#   filter(str_detect(Contents, \"MEP\"))"
   ]
  },
  {
   "cell_type": "code",
   "execution_count": 48,
   "metadata": {},
   "outputs": [],
   "source": [
    "# Example of how to handle dates - converting from timestamp to YYYYMMDD\n",
    "# This example is adequate if you really don't need a date field for arithmetic or plotting with ggplot2\n",
    "\n",
    "# parse out date and time from Timestamp\n",
    "# df <- \n",
    "#   separate(df, Timestamp, # e.g., \"01/01/2017 12:00:00 AM\"\n",
    "#           into = c(\"Date\", \"Time\", \"AMPM\"), sep = \" \")\n",
    "\n",
    "# parse out Month, Day, Year from Date\n",
    "# df <- \n",
    "#  separate(df, Date, \n",
    "#           into = c(\"Month\", \"Day\", \"Year\"), sep = \"/\")\n",
    "\n",
    "# Remove unwanted columns\n",
    "# df$Time <- NULL\n",
    "# df$AMPM <- NULL\n",
    "\n",
    "# unite the columns \"Year\", \"Month\", \"Day\" into a single column for \"YYYYMMDD\"\n",
    "# df <- \n",
    "#  unite_(df, \"YYYYMMDD\", c(\"Year\",\"Month\", \"Day\"), sep = \"\")\n",
    "\n",
    "# sort by date in decreasing order\n",
    "# df <- df[order(df$YYYYMMDD, decreasing = TRUE), ]"
   ]
  },
  {
   "cell_type": "code",
   "execution_count": 49,
   "metadata": {},
   "outputs": [],
   "source": [
    "# Use the lubridate library if arithmetic is important when working with date and time data\n",
    "# In my opinion, the lubridate functions are more complicated than my current needs, so I prefer my approach above\n",
    "# for handling dates/times\n",
    "\n",
    "# https://lubridate.tidyverse.org/\n",
    "# https://rawgit.com/rstudio/cheatsheets/master/lubridate.pdf"
   ]
  },
  {
   "cell_type": "code",
   "execution_count": 50,
   "metadata": {},
   "outputs": [],
   "source": [
    "# Example of how to subset and retain only selected characters from a cell\n",
    "# This is useful if you want to strip out useless characters in a cell given a start and end position to retain\n",
    "# need stringr library\n",
    "\n",
    "# df$gps <- \n",
    "#   str_sub(df$gps, start = 3, end = -2) \n",
    "\n",
    "# this gets rid of the first 3 characters and the last two characters\n",
    "# you can get an accurate count of characters when viewing them with glimpse(df)"
   ]
  },
  {
   "cell_type": "code",
   "execution_count": 51,
   "metadata": {},
   "outputs": [],
   "source": [
    "# Example how to merge two dataframes on common column names\n",
    "# https://stackoverflow.com/questions/1299871/how-to-join-merge-data-frames-inner-outer-left-right\n",
    "\n",
    "# CanadaMap <- merge(CanadaMap, df_Provincial) # join the two dataframes, merge will use the common column name to join with"
   ]
  },
  {
   "cell_type": "code",
   "execution_count": 52,
   "metadata": {},
   "outputs": [],
   "source": [
    "# Example of how to combine two or more dataframes vertically with the same column names\n",
    "\n",
    "# df4 <- rbind(df1, df2, df3)"
   ]
  },
  {
   "cell_type": "code",
   "execution_count": 53,
   "metadata": {},
   "outputs": [],
   "source": [
    "# Example of how to combine two or more dataframes horizontally with the same number of rows but different columns\n",
    "\n",
    "# df4 <- cbind(df1, df2, df3)"
   ]
  },
  {
   "cell_type": "code",
   "execution_count": 54,
   "metadata": {},
   "outputs": [],
   "source": [
    "# Example of how to create a new column that takes on values by performing arithmetic on existing columns \n",
    "# need dplyr and tidyverse library\n",
    "# This example creates a new column that divides one column by another and mutliplies the result by a constant\n",
    "\n",
    "# NSMAP2011 <- NSMAP2011 %>%\n",
    "#   mutate(PropertyCrimeCountyRatePer100K = PropertyCrimeIncidentsPerCounty/CountyPopulation * 100000)"
   ]
  },
  {
   "cell_type": "code",
   "execution_count": 55,
   "metadata": {},
   "outputs": [],
   "source": [
    "# Example of how to order a dataframe by a column in descening order\n",
    "# a \"-\" in front of the column name will sort it in descending (largest to lowest) order\n",
    "\n",
    "# df <- \n",
    "#  df[with(df, order(-Incidents_Total)), ]\n",
    "\n",
    "\n",
    "# adding multiple column names will prioritize ordering in that sequence\n",
    "\n",
    "# df <- \n",
    "#  df[with(df, order(REGION, COUNTY, GEO, Violations, Statistics)), ]\n",
    "\n",
    "#--------------------\n",
    "# Alternatively, you can also use the following:\n",
    "# sort by date in decreasing order\n",
    "# df <- df[order(df$YYYYMMDD, decreasing = TRUE), ]"
   ]
  },
  {
   "cell_type": "code",
   "execution_count": 56,
   "metadata": {},
   "outputs": [],
   "source": [
    "# Before spreading data for tidy format, make sure to remove any special characters beforehand\n",
    "# This ensures that after spreading the data, the column names are all properly formatted\n",
    "# Properly formatted column names will always appear flushed next to the dollar sign when glimpsing a dataframe\n",
    "# If spaces or special characters are present in the column name, they will appear within single quotes after the dollar sign\n",
    "# when glimpsing the dataframe after spreading the data\n",
    "\n",
    "# df_health$Indicators <- gsub(\" \", \"_\", df_health$Indicators)\n",
    "# df_health$Indicators <- gsub(\",\", \"\", df_health$Indicators)\n",
    "# df_health$Indicators <- gsub(\";\", \"\", df_health$Indicators)\n",
    "# df_health$Indicators <- gsub(\"-\", \"_\", df_health$Indicators)\n",
    "# df_health$Indicators <- gsub(\"\\\\(\", \"\", df_health$Indicators) # this removes left parenthesis\n",
    "# df_health$Indicators <- gsub(\"\\\\)\", \"\", df_health$Indicators) # this removes right parenthesis\n",
    "\n",
    "# df_health <- df_health %>%\n",
    "#   spread(Indicators, Value)"
   ]
  },
  {
   "cell_type": "code",
   "execution_count": 57,
   "metadata": {},
   "outputs": [],
   "source": [
    "# Example of how to load a shapefile for mapping \n",
    "# need sf library\n",
    "\n",
    "# NS <- st_read(\"GIS_Nova_Scotia/Counties_GCS.shp\")"
   ]
  },
  {
   "cell_type": "code",
   "execution_count": 58,
   "metadata": {},
   "outputs": [],
   "source": [
    "# Example how to convert a dataframe of lats/longs to a an sf dataframe for points spatial data \n",
    "# need sf library\n",
    "\n",
    "# pts <- st_as_sf(df, coords = c(\"LONGITUDE\", \"LATITUDE\"), crs = 4269) # create sf object called \"pts\" from df\n",
    "# class(pts)\n",
    "# glimpse(pts) # LONGITUDE and LATITUDE columns are replaced with a geometry column for point data"
   ]
  },
  {
   "cell_type": "code",
   "execution_count": 59,
   "metadata": {},
   "outputs": [],
   "source": [
    "# Example how to add custom icons for points spatial data \n",
    "# need sf library and tmap library\n",
    "\n",
    "# Using custom icons for points instead of bubbles\n",
    "\n",
    "# file <- \"DataFilesGeneral/flower_960_720.png\"  \n",
    "# flower_icon <- tmap_icons(file, width = 48, height = 48, keep.asp = TRUE,\n",
    "#   just = c(\"center\", \"center\"), as.local = TRUE)\n",
    "\n",
    "# my_map_2 <- my_map_0 +\n",
    "#   tm_shape(pts) +\n",
    "#   tm_symbols(\"VALUE\", shape = flower_icon, size = .3, alpha = .2, border.alpha = 0) \n",
    "# my_map_2"
   ]
  },
  {
   "cell_type": "markdown",
   "metadata": {},
   "source": [
    "# Appendix 2 - Note regarding preferred way for installing packages"
   ]
  },
  {
   "cell_type": "code",
   "execution_count": 60,
   "metadata": {},
   "outputs": [],
   "source": [
    "# Preferrably, install new packages via Anaconda Prompt > conda install r-package_name\n",
    "# Try to only use library() in notebook instead of install.packages()\n",
    "# this is more reliable than using install.packages(\"package name\") in R script\n",
    "# Anaconda Prompt > conda list shows what packages are installed\n",
    "\n",
    "# However, when the above isn't true for some reason, it is noted below\n",
    "# e.g., tmap must be installed through install.packages(\"tmap\")"
   ]
  }
 ],
 "metadata": {
  "kernelspec": {
   "display_name": "R",
   "language": "R",
   "name": "ir"
  },
  "language_info": {
   "codemirror_mode": "r",
   "file_extension": ".r",
   "mimetype": "text/x-r-source",
   "name": "R",
   "pygments_lexer": "r",
   "version": "3.4.3"
  }
 },
 "nbformat": 4,
 "nbformat_minor": 2
}
